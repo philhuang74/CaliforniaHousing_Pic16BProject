{
 "cells": [
  {
   "cell_type": "code",
   "execution_count": 11,
   "metadata": {
    "scrolled": false
   },
   "outputs": [
    {
     "data": {
      "text/html": [
       "<div>\n",
       "<style scoped>\n",
       "    .dataframe tbody tr th:only-of-type {\n",
       "        vertical-align: middle;\n",
       "    }\n",
       "\n",
       "    .dataframe tbody tr th {\n",
       "        vertical-align: top;\n",
       "    }\n",
       "\n",
       "    .dataframe thead th {\n",
       "        text-align: right;\n",
       "    }\n",
       "</style>\n",
       "<table border=\"1\" class=\"dataframe\">\n",
       "  <thead>\n",
       "    <tr style=\"text-align: right;\">\n",
       "      <th></th>\n",
       "      <th>ID Race</th>\n",
       "      <th>Race</th>\n",
       "      <th>ID Year</th>\n",
       "      <th>Year</th>\n",
       "      <th>Household Income by Race</th>\n",
       "      <th>Household Income by Race Moe</th>\n",
       "      <th>Geography</th>\n",
       "      <th>ID Geography</th>\n",
       "      <th>Slug Geography</th>\n",
       "    </tr>\n",
       "  </thead>\n",
       "  <tbody>\n",
       "    <tr>\n",
       "      <th>0</th>\n",
       "      <td>0</td>\n",
       "      <td>Total</td>\n",
       "      <td>2018</td>\n",
       "      <td>2018</td>\n",
       "      <td>102125</td>\n",
       "      <td>1678.0</td>\n",
       "      <td>Alameda County, CA</td>\n",
       "      <td>05000US06001</td>\n",
       "      <td>alameda-county-ca</td>\n",
       "    </tr>\n",
       "    <tr>\n",
       "      <th>1</th>\n",
       "      <td>0</td>\n",
       "      <td>Total</td>\n",
       "      <td>2018</td>\n",
       "      <td>2018</td>\n",
       "      <td>51652</td>\n",
       "      <td>3471.0</td>\n",
       "      <td>Butte County, CA</td>\n",
       "      <td>05000US06007</td>\n",
       "      <td>butte-county-ca</td>\n",
       "    </tr>\n",
       "    <tr>\n",
       "      <th>2</th>\n",
       "      <td>0</td>\n",
       "      <td>Total</td>\n",
       "      <td>2018</td>\n",
       "      <td>2018</td>\n",
       "      <td>101618</td>\n",
       "      <td>1585.0</td>\n",
       "      <td>Contra Costa County, CA</td>\n",
       "      <td>05000US06013</td>\n",
       "      <td>contra-costa-county-ca</td>\n",
       "    </tr>\n",
       "    <tr>\n",
       "      <th>3</th>\n",
       "      <td>0</td>\n",
       "      <td>Total</td>\n",
       "      <td>2018</td>\n",
       "      <td>2018</td>\n",
       "      <td>82742</td>\n",
       "      <td>5957.0</td>\n",
       "      <td>El Dorado County, CA</td>\n",
       "      <td>05000US06017</td>\n",
       "      <td>el-dorado-county-ca</td>\n",
       "    </tr>\n",
       "    <tr>\n",
       "      <th>4</th>\n",
       "      <td>0</td>\n",
       "      <td>Total</td>\n",
       "      <td>2018</td>\n",
       "      <td>2018</td>\n",
       "      <td>52629</td>\n",
       "      <td>2017.0</td>\n",
       "      <td>Fresno County, CA</td>\n",
       "      <td>05000US06019</td>\n",
       "      <td>fresno-county-ca</td>\n",
       "    </tr>\n",
       "  </tbody>\n",
       "</table>\n",
       "</div>"
      ],
      "text/plain": [
       "   ID Race   Race  ID Year  Year  Household Income by Race  \\\n",
       "0        0  Total     2018  2018                    102125   \n",
       "1        0  Total     2018  2018                     51652   \n",
       "2        0  Total     2018  2018                    101618   \n",
       "3        0  Total     2018  2018                     82742   \n",
       "4        0  Total     2018  2018                     52629   \n",
       "\n",
       "   Household Income by Race Moe                Geography  ID Geography  \\\n",
       "0                        1678.0       Alameda County, CA  05000US06001   \n",
       "1                        3471.0         Butte County, CA  05000US06007   \n",
       "2                        1585.0  Contra Costa County, CA  05000US06013   \n",
       "3                        5957.0     El Dorado County, CA  05000US06017   \n",
       "4                        2017.0        Fresno County, CA  05000US06019   \n",
       "\n",
       "           Slug Geography  \n",
       "0       alameda-county-ca  \n",
       "1         butte-county-ca  \n",
       "2  contra-costa-county-ca  \n",
       "3     el-dorado-county-ca  \n",
       "4        fresno-county-ca  "
      ]
     },
     "execution_count": 11,
     "metadata": {},
     "output_type": "execute_result"
    }
   ],
   "source": [
    "import pandas as pd\n",
    "from sklearn.linear_model import LinearRegression\n",
    "from plotly import express as px\n",
    "import numpy as np\n",
    "eth = pd.read_csv('Income by Location.csv')\n",
    "eth.head()"
   ]
  },
  {
   "cell_type": "code",
   "execution_count": 12,
   "metadata": {},
   "outputs": [
    {
     "data": {
      "text/html": [
       "<div>\n",
       "<style scoped>\n",
       "    .dataframe tbody tr th:only-of-type {\n",
       "        vertical-align: middle;\n",
       "    }\n",
       "\n",
       "    .dataframe tbody tr th {\n",
       "        vertical-align: top;\n",
       "    }\n",
       "\n",
       "    .dataframe thead th {\n",
       "        text-align: right;\n",
       "    }\n",
       "</style>\n",
       "<table border=\"1\" class=\"dataframe\">\n",
       "  <thead>\n",
       "    <tr style=\"text-align: right;\">\n",
       "      <th></th>\n",
       "      <th>Race</th>\n",
       "      <th>Household Income by Race</th>\n",
       "    </tr>\n",
       "  </thead>\n",
       "  <tbody>\n",
       "    <tr>\n",
       "      <th>0</th>\n",
       "      <td>Asian</td>\n",
       "      <td>78021.887892</td>\n",
       "    </tr>\n",
       "    <tr>\n",
       "      <th>1</th>\n",
       "      <td>Black</td>\n",
       "      <td>54729.333333</td>\n",
       "    </tr>\n",
       "    <tr>\n",
       "      <th>2</th>\n",
       "      <td>Hispanic</td>\n",
       "      <td>51684.779167</td>\n",
       "    </tr>\n",
       "    <tr>\n",
       "      <th>3</th>\n",
       "      <td>Native American</td>\n",
       "      <td>54841.640625</td>\n",
       "    </tr>\n",
       "    <tr>\n",
       "      <th>4</th>\n",
       "      <td>Other</td>\n",
       "      <td>50276.939130</td>\n",
       "    </tr>\n",
       "    <tr>\n",
       "      <th>5</th>\n",
       "      <td>Pacific Islander</td>\n",
       "      <td>72120.620000</td>\n",
       "    </tr>\n",
       "    <tr>\n",
       "      <th>6</th>\n",
       "      <td>Total</td>\n",
       "      <td>65064.066667</td>\n",
       "    </tr>\n",
       "    <tr>\n",
       "      <th>7</th>\n",
       "      <td>Two Or More</td>\n",
       "      <td>64457.556522</td>\n",
       "    </tr>\n",
       "    <tr>\n",
       "      <th>8</th>\n",
       "      <td>White</td>\n",
       "      <td>68072.129167</td>\n",
       "    </tr>\n",
       "    <tr>\n",
       "      <th>9</th>\n",
       "      <td>White Non-Hispanic</td>\n",
       "      <td>74016.883333</td>\n",
       "    </tr>\n",
       "  </tbody>\n",
       "</table>\n",
       "</div>"
      ],
      "text/plain": [
       "                 Race  Household Income by Race\n",
       "0               Asian              78021.887892\n",
       "1               Black              54729.333333\n",
       "2            Hispanic              51684.779167\n",
       "3     Native American              54841.640625\n",
       "4               Other              50276.939130\n",
       "5    Pacific Islander              72120.620000\n",
       "6               Total              65064.066667\n",
       "7         Two Or More              64457.556522\n",
       "8               White              68072.129167\n",
       "9  White Non-Hispanic              74016.883333"
      ]
     },
     "execution_count": 12,
     "metadata": {},
     "output_type": "execute_result"
    }
   ],
   "source": [
    "income = eth.groupby([\"Race\"])[\"Household Income by Race\"].mean()\n",
    "#income = eth.groupby([\"Race\"]).aggregate([np.mean])[\"Household Income by Race\"]\n",
    "#income.rename({'Race': 'X', 'mean': 'Y'}, axis=1, inplace=True)\n",
    "income = income.to_frame()\n",
    "income = income.reset_index()\n",
    "income"
   ]
  },
  {
   "cell_type": "code",
   "execution_count": 13,
   "metadata": {},
   "outputs": [
    {
     "data": {
      "application/vnd.plotly.v1+json": {
       "config": {
        "plotlyServerURL": "https://plot.ly"
       },
       "data": [
        {
         "orientation": "h",
         "type": "bar",
         "x": [
          78021.88789237668,
          54729.333333333336,
          51684.77916666667,
          54841.640625,
          50276.93913043478,
          72120.62,
          65064.066666666666,
          64457.556521739134,
          68072.12916666667,
          74016.88333333333
         ],
         "y": [
          "Asian",
          "Black",
          "Hispanic",
          "Native American",
          "Other",
          "Pacific Islander",
          "Total",
          "Two Or More",
          "White",
          "White Non-Hispanic"
         ]
        }
       ],
       "layout": {
        "font": {
         "color": "gray",
         "family": "Courier New"
        },
        "legend": {
         "title": {
          "font": {
           "color": "green"
          }
         }
        },
        "template": {
         "data": {
          "bar": [
           {
            "error_x": {
             "color": "#2a3f5f"
            },
            "error_y": {
             "color": "#2a3f5f"
            },
            "marker": {
             "line": {
              "color": "#E5ECF6",
              "width": 0.5
             }
            },
            "type": "bar"
           }
          ],
          "barpolar": [
           {
            "marker": {
             "line": {
              "color": "#E5ECF6",
              "width": 0.5
             }
            },
            "type": "barpolar"
           }
          ],
          "carpet": [
           {
            "aaxis": {
             "endlinecolor": "#2a3f5f",
             "gridcolor": "white",
             "linecolor": "white",
             "minorgridcolor": "white",
             "startlinecolor": "#2a3f5f"
            },
            "baxis": {
             "endlinecolor": "#2a3f5f",
             "gridcolor": "white",
             "linecolor": "white",
             "minorgridcolor": "white",
             "startlinecolor": "#2a3f5f"
            },
            "type": "carpet"
           }
          ],
          "choropleth": [
           {
            "colorbar": {
             "outlinewidth": 0,
             "ticks": ""
            },
            "type": "choropleth"
           }
          ],
          "contour": [
           {
            "colorbar": {
             "outlinewidth": 0,
             "ticks": ""
            },
            "colorscale": [
             [
              0,
              "#0d0887"
             ],
             [
              0.1111111111111111,
              "#46039f"
             ],
             [
              0.2222222222222222,
              "#7201a8"
             ],
             [
              0.3333333333333333,
              "#9c179e"
             ],
             [
              0.4444444444444444,
              "#bd3786"
             ],
             [
              0.5555555555555556,
              "#d8576b"
             ],
             [
              0.6666666666666666,
              "#ed7953"
             ],
             [
              0.7777777777777778,
              "#fb9f3a"
             ],
             [
              0.8888888888888888,
              "#fdca26"
             ],
             [
              1,
              "#f0f921"
             ]
            ],
            "type": "contour"
           }
          ],
          "contourcarpet": [
           {
            "colorbar": {
             "outlinewidth": 0,
             "ticks": ""
            },
            "type": "contourcarpet"
           }
          ],
          "heatmap": [
           {
            "colorbar": {
             "outlinewidth": 0,
             "ticks": ""
            },
            "colorscale": [
             [
              0,
              "#0d0887"
             ],
             [
              0.1111111111111111,
              "#46039f"
             ],
             [
              0.2222222222222222,
              "#7201a8"
             ],
             [
              0.3333333333333333,
              "#9c179e"
             ],
             [
              0.4444444444444444,
              "#bd3786"
             ],
             [
              0.5555555555555556,
              "#d8576b"
             ],
             [
              0.6666666666666666,
              "#ed7953"
             ],
             [
              0.7777777777777778,
              "#fb9f3a"
             ],
             [
              0.8888888888888888,
              "#fdca26"
             ],
             [
              1,
              "#f0f921"
             ]
            ],
            "type": "heatmap"
           }
          ],
          "heatmapgl": [
           {
            "colorbar": {
             "outlinewidth": 0,
             "ticks": ""
            },
            "colorscale": [
             [
              0,
              "#0d0887"
             ],
             [
              0.1111111111111111,
              "#46039f"
             ],
             [
              0.2222222222222222,
              "#7201a8"
             ],
             [
              0.3333333333333333,
              "#9c179e"
             ],
             [
              0.4444444444444444,
              "#bd3786"
             ],
             [
              0.5555555555555556,
              "#d8576b"
             ],
             [
              0.6666666666666666,
              "#ed7953"
             ],
             [
              0.7777777777777778,
              "#fb9f3a"
             ],
             [
              0.8888888888888888,
              "#fdca26"
             ],
             [
              1,
              "#f0f921"
             ]
            ],
            "type": "heatmapgl"
           }
          ],
          "histogram": [
           {
            "marker": {
             "colorbar": {
              "outlinewidth": 0,
              "ticks": ""
             }
            },
            "type": "histogram"
           }
          ],
          "histogram2d": [
           {
            "colorbar": {
             "outlinewidth": 0,
             "ticks": ""
            },
            "colorscale": [
             [
              0,
              "#0d0887"
             ],
             [
              0.1111111111111111,
              "#46039f"
             ],
             [
              0.2222222222222222,
              "#7201a8"
             ],
             [
              0.3333333333333333,
              "#9c179e"
             ],
             [
              0.4444444444444444,
              "#bd3786"
             ],
             [
              0.5555555555555556,
              "#d8576b"
             ],
             [
              0.6666666666666666,
              "#ed7953"
             ],
             [
              0.7777777777777778,
              "#fb9f3a"
             ],
             [
              0.8888888888888888,
              "#fdca26"
             ],
             [
              1,
              "#f0f921"
             ]
            ],
            "type": "histogram2d"
           }
          ],
          "histogram2dcontour": [
           {
            "colorbar": {
             "outlinewidth": 0,
             "ticks": ""
            },
            "colorscale": [
             [
              0,
              "#0d0887"
             ],
             [
              0.1111111111111111,
              "#46039f"
             ],
             [
              0.2222222222222222,
              "#7201a8"
             ],
             [
              0.3333333333333333,
              "#9c179e"
             ],
             [
              0.4444444444444444,
              "#bd3786"
             ],
             [
              0.5555555555555556,
              "#d8576b"
             ],
             [
              0.6666666666666666,
              "#ed7953"
             ],
             [
              0.7777777777777778,
              "#fb9f3a"
             ],
             [
              0.8888888888888888,
              "#fdca26"
             ],
             [
              1,
              "#f0f921"
             ]
            ],
            "type": "histogram2dcontour"
           }
          ],
          "mesh3d": [
           {
            "colorbar": {
             "outlinewidth": 0,
             "ticks": ""
            },
            "type": "mesh3d"
           }
          ],
          "parcoords": [
           {
            "line": {
             "colorbar": {
              "outlinewidth": 0,
              "ticks": ""
             }
            },
            "type": "parcoords"
           }
          ],
          "pie": [
           {
            "automargin": true,
            "type": "pie"
           }
          ],
          "scatter": [
           {
            "marker": {
             "colorbar": {
              "outlinewidth": 0,
              "ticks": ""
             }
            },
            "type": "scatter"
           }
          ],
          "scatter3d": [
           {
            "line": {
             "colorbar": {
              "outlinewidth": 0,
              "ticks": ""
             }
            },
            "marker": {
             "colorbar": {
              "outlinewidth": 0,
              "ticks": ""
             }
            },
            "type": "scatter3d"
           }
          ],
          "scattercarpet": [
           {
            "marker": {
             "colorbar": {
              "outlinewidth": 0,
              "ticks": ""
             }
            },
            "type": "scattercarpet"
           }
          ],
          "scattergeo": [
           {
            "marker": {
             "colorbar": {
              "outlinewidth": 0,
              "ticks": ""
             }
            },
            "type": "scattergeo"
           }
          ],
          "scattergl": [
           {
            "marker": {
             "colorbar": {
              "outlinewidth": 0,
              "ticks": ""
             }
            },
            "type": "scattergl"
           }
          ],
          "scattermapbox": [
           {
            "marker": {
             "colorbar": {
              "outlinewidth": 0,
              "ticks": ""
             }
            },
            "type": "scattermapbox"
           }
          ],
          "scatterpolar": [
           {
            "marker": {
             "colorbar": {
              "outlinewidth": 0,
              "ticks": ""
             }
            },
            "type": "scatterpolar"
           }
          ],
          "scatterpolargl": [
           {
            "marker": {
             "colorbar": {
              "outlinewidth": 0,
              "ticks": ""
             }
            },
            "type": "scatterpolargl"
           }
          ],
          "scatterternary": [
           {
            "marker": {
             "colorbar": {
              "outlinewidth": 0,
              "ticks": ""
             }
            },
            "type": "scatterternary"
           }
          ],
          "surface": [
           {
            "colorbar": {
             "outlinewidth": 0,
             "ticks": ""
            },
            "colorscale": [
             [
              0,
              "#0d0887"
             ],
             [
              0.1111111111111111,
              "#46039f"
             ],
             [
              0.2222222222222222,
              "#7201a8"
             ],
             [
              0.3333333333333333,
              "#9c179e"
             ],
             [
              0.4444444444444444,
              "#bd3786"
             ],
             [
              0.5555555555555556,
              "#d8576b"
             ],
             [
              0.6666666666666666,
              "#ed7953"
             ],
             [
              0.7777777777777778,
              "#fb9f3a"
             ],
             [
              0.8888888888888888,
              "#fdca26"
             ],
             [
              1,
              "#f0f921"
             ]
            ],
            "type": "surface"
           }
          ],
          "table": [
           {
            "cells": {
             "fill": {
              "color": "#EBF0F8"
             },
             "line": {
              "color": "white"
             }
            },
            "header": {
             "fill": {
              "color": "#C8D4E3"
             },
             "line": {
              "color": "white"
             }
            },
            "type": "table"
           }
          ]
         },
         "layout": {
          "annotationdefaults": {
           "arrowcolor": "#2a3f5f",
           "arrowhead": 0,
           "arrowwidth": 1
          },
          "autotypenumbers": "strict",
          "coloraxis": {
           "colorbar": {
            "outlinewidth": 0,
            "ticks": ""
           }
          },
          "colorscale": {
           "diverging": [
            [
             0,
             "#8e0152"
            ],
            [
             0.1,
             "#c51b7d"
            ],
            [
             0.2,
             "#de77ae"
            ],
            [
             0.3,
             "#f1b6da"
            ],
            [
             0.4,
             "#fde0ef"
            ],
            [
             0.5,
             "#f7f7f7"
            ],
            [
             0.6,
             "#e6f5d0"
            ],
            [
             0.7,
             "#b8e186"
            ],
            [
             0.8,
             "#7fbc41"
            ],
            [
             0.9,
             "#4d9221"
            ],
            [
             1,
             "#276419"
            ]
           ],
           "sequential": [
            [
             0,
             "#0d0887"
            ],
            [
             0.1111111111111111,
             "#46039f"
            ],
            [
             0.2222222222222222,
             "#7201a8"
            ],
            [
             0.3333333333333333,
             "#9c179e"
            ],
            [
             0.4444444444444444,
             "#bd3786"
            ],
            [
             0.5555555555555556,
             "#d8576b"
            ],
            [
             0.6666666666666666,
             "#ed7953"
            ],
            [
             0.7777777777777778,
             "#fb9f3a"
            ],
            [
             0.8888888888888888,
             "#fdca26"
            ],
            [
             1,
             "#f0f921"
            ]
           ],
           "sequentialminus": [
            [
             0,
             "#0d0887"
            ],
            [
             0.1111111111111111,
             "#46039f"
            ],
            [
             0.2222222222222222,
             "#7201a8"
            ],
            [
             0.3333333333333333,
             "#9c179e"
            ],
            [
             0.4444444444444444,
             "#bd3786"
            ],
            [
             0.5555555555555556,
             "#d8576b"
            ],
            [
             0.6666666666666666,
             "#ed7953"
            ],
            [
             0.7777777777777778,
             "#fb9f3a"
            ],
            [
             0.8888888888888888,
             "#fdca26"
            ],
            [
             1,
             "#f0f921"
            ]
           ]
          },
          "colorway": [
           "#636efa",
           "#EF553B",
           "#00cc96",
           "#ab63fa",
           "#FFA15A",
           "#19d3f3",
           "#FF6692",
           "#B6E880",
           "#FF97FF",
           "#FECB52"
          ],
          "font": {
           "color": "#2a3f5f"
          },
          "geo": {
           "bgcolor": "white",
           "lakecolor": "white",
           "landcolor": "#E5ECF6",
           "showlakes": true,
           "showland": true,
           "subunitcolor": "white"
          },
          "hoverlabel": {
           "align": "left"
          },
          "hovermode": "closest",
          "mapbox": {
           "style": "light"
          },
          "paper_bgcolor": "white",
          "plot_bgcolor": "#E5ECF6",
          "polar": {
           "angularaxis": {
            "gridcolor": "white",
            "linecolor": "white",
            "ticks": ""
           },
           "bgcolor": "#E5ECF6",
           "radialaxis": {
            "gridcolor": "white",
            "linecolor": "white",
            "ticks": ""
           }
          },
          "scene": {
           "xaxis": {
            "backgroundcolor": "#E5ECF6",
            "gridcolor": "white",
            "gridwidth": 2,
            "linecolor": "white",
            "showbackground": true,
            "ticks": "",
            "zerolinecolor": "white"
           },
           "yaxis": {
            "backgroundcolor": "#E5ECF6",
            "gridcolor": "white",
            "gridwidth": 2,
            "linecolor": "white",
            "showbackground": true,
            "ticks": "",
            "zerolinecolor": "white"
           },
           "zaxis": {
            "backgroundcolor": "#E5ECF6",
            "gridcolor": "white",
            "gridwidth": 2,
            "linecolor": "white",
            "showbackground": true,
            "ticks": "",
            "zerolinecolor": "white"
           }
          },
          "shapedefaults": {
           "line": {
            "color": "#2a3f5f"
           }
          },
          "ternary": {
           "aaxis": {
            "gridcolor": "white",
            "linecolor": "white",
            "ticks": ""
           },
           "baxis": {
            "gridcolor": "white",
            "linecolor": "white",
            "ticks": ""
           },
           "bgcolor": "#E5ECF6",
           "caxis": {
            "gridcolor": "white",
            "linecolor": "white",
            "ticks": ""
           }
          },
          "title": {
           "x": 0.05
          },
          "xaxis": {
           "automargin": true,
           "gridcolor": "white",
           "linecolor": "white",
           "ticks": "",
           "title": {
            "standoff": 15
           },
           "zerolinecolor": "white",
           "zerolinewidth": 2
          },
          "yaxis": {
           "automargin": true,
           "gridcolor": "white",
           "linecolor": "white",
           "ticks": "",
           "title": {
            "standoff": 15
           },
           "zerolinecolor": "white",
           "zerolinewidth": 2
          }
         }
        },
        "title": {
         "font": {
          "color": "Purple",
          "family": "Times New Roman"
         },
         "text": "Annual Household Income By Races in California in 2018"
        }
       }
      },
      "text/html": [
       "<div>                            <div id=\"bf22a7b3-43ed-4bf4-b3e4-9947b85d1d4e\" class=\"plotly-graph-div\" style=\"height:525px; width:100%;\"></div>            <script type=\"text/javascript\">                require([\"plotly\"], function(Plotly) {                    window.PLOTLYENV=window.PLOTLYENV || {};                                    if (document.getElementById(\"bf22a7b3-43ed-4bf4-b3e4-9947b85d1d4e\")) {                    Plotly.newPlot(                        \"bf22a7b3-43ed-4bf4-b3e4-9947b85d1d4e\",                        [{\"orientation\": \"h\", \"type\": \"bar\", \"x\": [78021.88789237668, 54729.333333333336, 51684.77916666667, 54841.640625, 50276.93913043478, 72120.62, 65064.066666666666, 64457.556521739134, 68072.12916666667, 74016.88333333333], \"y\": [\"Asian\", \"Black\", \"Hispanic\", \"Native American\", \"Other\", \"Pacific Islander\", \"Total\", \"Two Or More\", \"White\", \"White Non-Hispanic\"]}],                        {\"font\": {\"color\": \"gray\", \"family\": \"Courier New\"}, \"legend\": {\"title\": {\"font\": {\"color\": \"green\"}}}, \"template\": {\"data\": {\"bar\": [{\"error_x\": {\"color\": \"#2a3f5f\"}, \"error_y\": {\"color\": \"#2a3f5f\"}, \"marker\": {\"line\": {\"color\": \"#E5ECF6\", \"width\": 0.5}}, \"type\": \"bar\"}], \"barpolar\": [{\"marker\": {\"line\": {\"color\": \"#E5ECF6\", \"width\": 0.5}}, \"type\": \"barpolar\"}], \"carpet\": [{\"aaxis\": {\"endlinecolor\": \"#2a3f5f\", \"gridcolor\": \"white\", \"linecolor\": \"white\", \"minorgridcolor\": \"white\", \"startlinecolor\": \"#2a3f5f\"}, \"baxis\": {\"endlinecolor\": \"#2a3f5f\", \"gridcolor\": \"white\", \"linecolor\": \"white\", \"minorgridcolor\": \"white\", \"startlinecolor\": \"#2a3f5f\"}, \"type\": \"carpet\"}], \"choropleth\": [{\"colorbar\": {\"outlinewidth\": 0, \"ticks\": \"\"}, \"type\": \"choropleth\"}], \"contour\": [{\"colorbar\": {\"outlinewidth\": 0, \"ticks\": \"\"}, \"colorscale\": [[0.0, \"#0d0887\"], [0.1111111111111111, \"#46039f\"], [0.2222222222222222, \"#7201a8\"], [0.3333333333333333, \"#9c179e\"], [0.4444444444444444, \"#bd3786\"], [0.5555555555555556, \"#d8576b\"], [0.6666666666666666, \"#ed7953\"], [0.7777777777777778, \"#fb9f3a\"], [0.8888888888888888, \"#fdca26\"], [1.0, \"#f0f921\"]], \"type\": \"contour\"}], \"contourcarpet\": [{\"colorbar\": {\"outlinewidth\": 0, \"ticks\": \"\"}, \"type\": \"contourcarpet\"}], \"heatmap\": [{\"colorbar\": {\"outlinewidth\": 0, \"ticks\": \"\"}, \"colorscale\": [[0.0, \"#0d0887\"], [0.1111111111111111, \"#46039f\"], [0.2222222222222222, \"#7201a8\"], [0.3333333333333333, \"#9c179e\"], [0.4444444444444444, \"#bd3786\"], [0.5555555555555556, \"#d8576b\"], [0.6666666666666666, \"#ed7953\"], [0.7777777777777778, \"#fb9f3a\"], [0.8888888888888888, \"#fdca26\"], [1.0, \"#f0f921\"]], \"type\": \"heatmap\"}], \"heatmapgl\": [{\"colorbar\": {\"outlinewidth\": 0, \"ticks\": \"\"}, \"colorscale\": [[0.0, \"#0d0887\"], [0.1111111111111111, \"#46039f\"], [0.2222222222222222, \"#7201a8\"], [0.3333333333333333, \"#9c179e\"], [0.4444444444444444, \"#bd3786\"], [0.5555555555555556, \"#d8576b\"], [0.6666666666666666, \"#ed7953\"], [0.7777777777777778, \"#fb9f3a\"], [0.8888888888888888, \"#fdca26\"], [1.0, \"#f0f921\"]], \"type\": \"heatmapgl\"}], \"histogram\": [{\"marker\": {\"colorbar\": {\"outlinewidth\": 0, \"ticks\": \"\"}}, \"type\": \"histogram\"}], \"histogram2d\": [{\"colorbar\": {\"outlinewidth\": 0, \"ticks\": \"\"}, \"colorscale\": [[0.0, \"#0d0887\"], [0.1111111111111111, \"#46039f\"], [0.2222222222222222, \"#7201a8\"], [0.3333333333333333, \"#9c179e\"], [0.4444444444444444, \"#bd3786\"], [0.5555555555555556, \"#d8576b\"], [0.6666666666666666, \"#ed7953\"], [0.7777777777777778, \"#fb9f3a\"], [0.8888888888888888, \"#fdca26\"], [1.0, \"#f0f921\"]], \"type\": \"histogram2d\"}], \"histogram2dcontour\": [{\"colorbar\": {\"outlinewidth\": 0, \"ticks\": \"\"}, \"colorscale\": [[0.0, \"#0d0887\"], [0.1111111111111111, \"#46039f\"], [0.2222222222222222, \"#7201a8\"], [0.3333333333333333, \"#9c179e\"], [0.4444444444444444, \"#bd3786\"], [0.5555555555555556, \"#d8576b\"], [0.6666666666666666, \"#ed7953\"], [0.7777777777777778, \"#fb9f3a\"], [0.8888888888888888, \"#fdca26\"], [1.0, \"#f0f921\"]], \"type\": \"histogram2dcontour\"}], \"mesh3d\": [{\"colorbar\": {\"outlinewidth\": 0, \"ticks\": \"\"}, \"type\": \"mesh3d\"}], \"parcoords\": [{\"line\": {\"colorbar\": {\"outlinewidth\": 0, \"ticks\": \"\"}}, \"type\": \"parcoords\"}], \"pie\": [{\"automargin\": true, \"type\": \"pie\"}], \"scatter\": [{\"marker\": {\"colorbar\": {\"outlinewidth\": 0, \"ticks\": \"\"}}, \"type\": \"scatter\"}], \"scatter3d\": [{\"line\": {\"colorbar\": {\"outlinewidth\": 0, \"ticks\": \"\"}}, \"marker\": {\"colorbar\": {\"outlinewidth\": 0, \"ticks\": \"\"}}, \"type\": \"scatter3d\"}], \"scattercarpet\": [{\"marker\": {\"colorbar\": {\"outlinewidth\": 0, \"ticks\": \"\"}}, \"type\": \"scattercarpet\"}], \"scattergeo\": [{\"marker\": {\"colorbar\": {\"outlinewidth\": 0, \"ticks\": \"\"}}, \"type\": \"scattergeo\"}], \"scattergl\": [{\"marker\": {\"colorbar\": {\"outlinewidth\": 0, \"ticks\": \"\"}}, \"type\": \"scattergl\"}], \"scattermapbox\": [{\"marker\": {\"colorbar\": {\"outlinewidth\": 0, \"ticks\": \"\"}}, \"type\": \"scattermapbox\"}], \"scatterpolar\": [{\"marker\": {\"colorbar\": {\"outlinewidth\": 0, \"ticks\": \"\"}}, \"type\": \"scatterpolar\"}], \"scatterpolargl\": [{\"marker\": {\"colorbar\": {\"outlinewidth\": 0, \"ticks\": \"\"}}, \"type\": \"scatterpolargl\"}], \"scatterternary\": [{\"marker\": {\"colorbar\": {\"outlinewidth\": 0, \"ticks\": \"\"}}, \"type\": \"scatterternary\"}], \"surface\": [{\"colorbar\": {\"outlinewidth\": 0, \"ticks\": \"\"}, \"colorscale\": [[0.0, \"#0d0887\"], [0.1111111111111111, \"#46039f\"], [0.2222222222222222, \"#7201a8\"], [0.3333333333333333, \"#9c179e\"], [0.4444444444444444, \"#bd3786\"], [0.5555555555555556, \"#d8576b\"], [0.6666666666666666, \"#ed7953\"], [0.7777777777777778, \"#fb9f3a\"], [0.8888888888888888, \"#fdca26\"], [1.0, \"#f0f921\"]], \"type\": \"surface\"}], \"table\": [{\"cells\": {\"fill\": {\"color\": \"#EBF0F8\"}, \"line\": {\"color\": \"white\"}}, \"header\": {\"fill\": {\"color\": \"#C8D4E3\"}, \"line\": {\"color\": \"white\"}}, \"type\": \"table\"}]}, \"layout\": {\"annotationdefaults\": {\"arrowcolor\": \"#2a3f5f\", \"arrowhead\": 0, \"arrowwidth\": 1}, \"autotypenumbers\": \"strict\", \"coloraxis\": {\"colorbar\": {\"outlinewidth\": 0, \"ticks\": \"\"}}, \"colorscale\": {\"diverging\": [[0, \"#8e0152\"], [0.1, \"#c51b7d\"], [0.2, \"#de77ae\"], [0.3, \"#f1b6da\"], [0.4, \"#fde0ef\"], [0.5, \"#f7f7f7\"], [0.6, \"#e6f5d0\"], [0.7, \"#b8e186\"], [0.8, \"#7fbc41\"], [0.9, \"#4d9221\"], [1, \"#276419\"]], \"sequential\": [[0.0, \"#0d0887\"], [0.1111111111111111, \"#46039f\"], [0.2222222222222222, \"#7201a8\"], [0.3333333333333333, \"#9c179e\"], [0.4444444444444444, \"#bd3786\"], [0.5555555555555556, \"#d8576b\"], [0.6666666666666666, \"#ed7953\"], [0.7777777777777778, \"#fb9f3a\"], [0.8888888888888888, \"#fdca26\"], [1.0, \"#f0f921\"]], \"sequentialminus\": [[0.0, \"#0d0887\"], [0.1111111111111111, \"#46039f\"], [0.2222222222222222, \"#7201a8\"], [0.3333333333333333, \"#9c179e\"], [0.4444444444444444, \"#bd3786\"], [0.5555555555555556, \"#d8576b\"], [0.6666666666666666, \"#ed7953\"], [0.7777777777777778, \"#fb9f3a\"], [0.8888888888888888, \"#fdca26\"], [1.0, \"#f0f921\"]]}, \"colorway\": [\"#636efa\", \"#EF553B\", \"#00cc96\", \"#ab63fa\", \"#FFA15A\", \"#19d3f3\", \"#FF6692\", \"#B6E880\", \"#FF97FF\", \"#FECB52\"], \"font\": {\"color\": \"#2a3f5f\"}, \"geo\": {\"bgcolor\": \"white\", \"lakecolor\": \"white\", \"landcolor\": \"#E5ECF6\", \"showlakes\": true, \"showland\": true, \"subunitcolor\": \"white\"}, \"hoverlabel\": {\"align\": \"left\"}, \"hovermode\": \"closest\", \"mapbox\": {\"style\": \"light\"}, \"paper_bgcolor\": \"white\", \"plot_bgcolor\": \"#E5ECF6\", \"polar\": {\"angularaxis\": {\"gridcolor\": \"white\", \"linecolor\": \"white\", \"ticks\": \"\"}, \"bgcolor\": \"#E5ECF6\", \"radialaxis\": {\"gridcolor\": \"white\", \"linecolor\": \"white\", \"ticks\": \"\"}}, \"scene\": {\"xaxis\": {\"backgroundcolor\": \"#E5ECF6\", \"gridcolor\": \"white\", \"gridwidth\": 2, \"linecolor\": \"white\", \"showbackground\": true, \"ticks\": \"\", \"zerolinecolor\": \"white\"}, \"yaxis\": {\"backgroundcolor\": \"#E5ECF6\", \"gridcolor\": \"white\", \"gridwidth\": 2, \"linecolor\": \"white\", \"showbackground\": true, \"ticks\": \"\", \"zerolinecolor\": \"white\"}, \"zaxis\": {\"backgroundcolor\": \"#E5ECF6\", \"gridcolor\": \"white\", \"gridwidth\": 2, \"linecolor\": \"white\", \"showbackground\": true, \"ticks\": \"\", \"zerolinecolor\": \"white\"}}, \"shapedefaults\": {\"line\": {\"color\": \"#2a3f5f\"}}, \"ternary\": {\"aaxis\": {\"gridcolor\": \"white\", \"linecolor\": \"white\", \"ticks\": \"\"}, \"baxis\": {\"gridcolor\": \"white\", \"linecolor\": \"white\", \"ticks\": \"\"}, \"bgcolor\": \"#E5ECF6\", \"caxis\": {\"gridcolor\": \"white\", \"linecolor\": \"white\", \"ticks\": \"\"}}, \"title\": {\"x\": 0.05}, \"xaxis\": {\"automargin\": true, \"gridcolor\": \"white\", \"linecolor\": \"white\", \"ticks\": \"\", \"title\": {\"standoff\": 15}, \"zerolinecolor\": \"white\", \"zerolinewidth\": 2}, \"yaxis\": {\"automargin\": true, \"gridcolor\": \"white\", \"linecolor\": \"white\", \"ticks\": \"\", \"title\": {\"standoff\": 15}, \"zerolinecolor\": \"white\", \"zerolinewidth\": 2}}}, \"title\": {\"font\": {\"color\": \"Purple\", \"family\": \"Times New Roman\"}, \"text\": \"Annual Household Income By Races in California in 2018\"}},                        {\"responsive\": true}                    ).then(function(){\n",
       "                            \n",
       "var gd = document.getElementById('bf22a7b3-43ed-4bf4-b3e4-9947b85d1d4e');\n",
       "var x = new MutationObserver(function (mutations, observer) {{\n",
       "        var display = window.getComputedStyle(gd).display;\n",
       "        if (!display || display === 'none') {{\n",
       "            console.log([gd, 'removed!']);\n",
       "            Plotly.purge(gd);\n",
       "            observer.disconnect();\n",
       "        }}\n",
       "}});\n",
       "\n",
       "// Listen for the removal of the full notebook cells\n",
       "var notebookContainer = gd.closest('#notebook-container');\n",
       "if (notebookContainer) {{\n",
       "    x.observe(notebookContainer, {childList: true});\n",
       "}}\n",
       "\n",
       "// Listen for the clearing of the current output cell\n",
       "var outputEl = gd.closest('.output');\n",
       "if (outputEl) {{\n",
       "    x.observe(outputEl, {childList: true});\n",
       "}}\n",
       "\n",
       "                        })                };                });            </script>        </div>"
      ]
     },
     "metadata": {},
     "output_type": "display_data"
    }
   ],
   "source": [
    "import plotly.graph_objects as go\n",
    "\n",
    "fig = go.Figure(go.Bar(\n",
    "            x=income[\"Household Income by Race\"],\n",
    "            y=income[\"Race\"],\n",
    "            orientation='h'\n",
    "            ))\n",
    "fig.update_layout(\n",
    "    title=\"Annual Household Income By Races in California in 2018\",\n",
    "    font_family=\"Courier New\",\n",
    "    font_color=\"gray\",\n",
    "    title_font_family=\"Times New Roman\",\n",
    "    title_font_color=\"Purple\",\n",
    "    legend_title_font_color=\"green\"\n",
    ")\n",
    "fig.show()\n",
    "\n",
    "from plotly.io import write_html\n",
    "write_html(fig, \"IncomeRaces2018.html\")"
   ]
  },
  {
   "cell_type": "code",
   "execution_count": 14,
   "metadata": {},
   "outputs": [
    {
     "data": {
      "text/html": [
       "<div>\n",
       "<style scoped>\n",
       "    .dataframe tbody tr th:only-of-type {\n",
       "        vertical-align: middle;\n",
       "    }\n",
       "\n",
       "    .dataframe tbody tr th {\n",
       "        vertical-align: top;\n",
       "    }\n",
       "\n",
       "    .dataframe thead th {\n",
       "        text-align: right;\n",
       "    }\n",
       "</style>\n",
       "<table border=\"1\" class=\"dataframe\">\n",
       "  <thead>\n",
       "    <tr style=\"text-align: right;\">\n",
       "      <th></th>\n",
       "      <th>Geography</th>\n",
       "      <th>Household Income by Race</th>\n",
       "    </tr>\n",
       "  </thead>\n",
       "  <tbody>\n",
       "    <tr>\n",
       "      <th>0</th>\n",
       "      <td>Alameda County, CA</td>\n",
       "      <td>79351.766667</td>\n",
       "    </tr>\n",
       "    <tr>\n",
       "      <th>1</th>\n",
       "      <td>Butte County, CA</td>\n",
       "      <td>43592.000000</td>\n",
       "    </tr>\n",
       "    <tr>\n",
       "      <th>2</th>\n",
       "      <td>Contra Costa County, CA</td>\n",
       "      <td>79850.800000</td>\n",
       "    </tr>\n",
       "    <tr>\n",
       "      <th>3</th>\n",
       "      <td>El Dorado County, CA</td>\n",
       "      <td>80747.906977</td>\n",
       "    </tr>\n",
       "    <tr>\n",
       "      <th>4</th>\n",
       "      <td>Fresno County, CA</td>\n",
       "      <td>45148.241379</td>\n",
       "    </tr>\n",
       "    <tr>\n",
       "      <th>5</th>\n",
       "      <td>Humboldt County, CA</td>\n",
       "      <td>40723.938776</td>\n",
       "    </tr>\n",
       "    <tr>\n",
       "      <th>6</th>\n",
       "      <td>Imperial County, CA</td>\n",
       "      <td>52185.531915</td>\n",
       "    </tr>\n",
       "    <tr>\n",
       "      <th>7</th>\n",
       "      <td>Kern County, CA</td>\n",
       "      <td>49986.678571</td>\n",
       "    </tr>\n",
       "    <tr>\n",
       "      <th>8</th>\n",
       "      <td>Kings County, CA</td>\n",
       "      <td>53960.339623</td>\n",
       "    </tr>\n",
       "    <tr>\n",
       "      <th>9</th>\n",
       "      <td>Lake County, CA</td>\n",
       "      <td>38598.488372</td>\n",
       "    </tr>\n",
       "    <tr>\n",
       "      <th>10</th>\n",
       "      <td>Los Angeles County, CA</td>\n",
       "      <td>60377.250000</td>\n",
       "    </tr>\n",
       "    <tr>\n",
       "      <th>11</th>\n",
       "      <td>Madera County, CA</td>\n",
       "      <td>51976.468085</td>\n",
       "    </tr>\n",
       "    <tr>\n",
       "      <th>12</th>\n",
       "      <td>Marin County, CA</td>\n",
       "      <td>89630.740000</td>\n",
       "    </tr>\n",
       "    <tr>\n",
       "      <th>13</th>\n",
       "      <td>Mendocino County, CA</td>\n",
       "      <td>44617.250000</td>\n",
       "    </tr>\n",
       "    <tr>\n",
       "      <th>14</th>\n",
       "      <td>Merced County, CA</td>\n",
       "      <td>44971.460000</td>\n",
       "    </tr>\n",
       "    <tr>\n",
       "      <th>15</th>\n",
       "      <td>Monterey County, CA</td>\n",
       "      <td>66421.964286</td>\n",
       "    </tr>\n",
       "    <tr>\n",
       "      <th>16</th>\n",
       "      <td>Napa County, CA</td>\n",
       "      <td>76758.122449</td>\n",
       "    </tr>\n",
       "    <tr>\n",
       "      <th>17</th>\n",
       "      <td>Nevada County, CA</td>\n",
       "      <td>60881.125000</td>\n",
       "    </tr>\n",
       "    <tr>\n",
       "      <th>18</th>\n",
       "      <td>Orange County, CA</td>\n",
       "      <td>75924.083333</td>\n",
       "    </tr>\n",
       "    <tr>\n",
       "      <th>19</th>\n",
       "      <td>Placer County, CA</td>\n",
       "      <td>77391.727273</td>\n",
       "    </tr>\n",
       "    <tr>\n",
       "      <th>20</th>\n",
       "      <td>Riverside County, CA</td>\n",
       "      <td>60530.050847</td>\n",
       "    </tr>\n",
       "    <tr>\n",
       "      <th>21</th>\n",
       "      <td>Sacramento County, CA</td>\n",
       "      <td>55667.083333</td>\n",
       "    </tr>\n",
       "    <tr>\n",
       "      <th>22</th>\n",
       "      <td>San Bernardino County, CA</td>\n",
       "      <td>55941.403509</td>\n",
       "    </tr>\n",
       "    <tr>\n",
       "      <th>23</th>\n",
       "      <td>San Diego County, CA</td>\n",
       "      <td>64905.633333</td>\n",
       "    </tr>\n",
       "    <tr>\n",
       "      <th>24</th>\n",
       "      <td>San Francisco County, CA</td>\n",
       "      <td>83884.178571</td>\n",
       "    </tr>\n",
       "    <tr>\n",
       "      <th>25</th>\n",
       "      <td>San Joaquin County, CA</td>\n",
       "      <td>55513.779661</td>\n",
       "    </tr>\n",
       "    <tr>\n",
       "      <th>26</th>\n",
       "      <td>San Luis Obispo County, CA</td>\n",
       "      <td>63684.215686</td>\n",
       "    </tr>\n",
       "    <tr>\n",
       "      <th>27</th>\n",
       "      <td>San Mateo County, CA</td>\n",
       "      <td>93119.000000</td>\n",
       "    </tr>\n",
       "    <tr>\n",
       "      <th>28</th>\n",
       "      <td>Santa Barbara County, CA</td>\n",
       "      <td>62879.660377</td>\n",
       "    </tr>\n",
       "    <tr>\n",
       "      <th>29</th>\n",
       "      <td>Santa Clara County, CA</td>\n",
       "      <td>91185.516667</td>\n",
       "    </tr>\n",
       "    <tr>\n",
       "      <th>30</th>\n",
       "      <td>Santa Cruz County, CA</td>\n",
       "      <td>67896.375000</td>\n",
       "    </tr>\n",
       "    <tr>\n",
       "      <th>31</th>\n",
       "      <td>Shasta County, CA</td>\n",
       "      <td>46581.693878</td>\n",
       "    </tr>\n",
       "    <tr>\n",
       "      <th>32</th>\n",
       "      <td>Solano County, CA</td>\n",
       "      <td>71227.155172</td>\n",
       "    </tr>\n",
       "    <tr>\n",
       "      <th>33</th>\n",
       "      <td>Sonoma County, CA</td>\n",
       "      <td>69496.275862</td>\n",
       "    </tr>\n",
       "    <tr>\n",
       "      <th>34</th>\n",
       "      <td>Stanislaus County, CA</td>\n",
       "      <td>52308.517857</td>\n",
       "    </tr>\n",
       "    <tr>\n",
       "      <th>35</th>\n",
       "      <td>Sutter County, CA</td>\n",
       "      <td>56026.358491</td>\n",
       "    </tr>\n",
       "    <tr>\n",
       "      <th>36</th>\n",
       "      <td>Tulare County, CA</td>\n",
       "      <td>45619.905660</td>\n",
       "    </tr>\n",
       "    <tr>\n",
       "      <th>37</th>\n",
       "      <td>Ventura County, CA</td>\n",
       "      <td>81578.454545</td>\n",
       "    </tr>\n",
       "    <tr>\n",
       "      <th>38</th>\n",
       "      <td>Yolo County, CA</td>\n",
       "      <td>56517.358491</td>\n",
       "    </tr>\n",
       "    <tr>\n",
       "      <th>39</th>\n",
       "      <td>Yuba County, CA</td>\n",
       "      <td>51726.173913</td>\n",
       "    </tr>\n",
       "  </tbody>\n",
       "</table>\n",
       "</div>"
      ],
      "text/plain": [
       "                     Geography  Household Income by Race\n",
       "0           Alameda County, CA              79351.766667\n",
       "1             Butte County, CA              43592.000000\n",
       "2      Contra Costa County, CA              79850.800000\n",
       "3         El Dorado County, CA              80747.906977\n",
       "4            Fresno County, CA              45148.241379\n",
       "5          Humboldt County, CA              40723.938776\n",
       "6          Imperial County, CA              52185.531915\n",
       "7              Kern County, CA              49986.678571\n",
       "8             Kings County, CA              53960.339623\n",
       "9              Lake County, CA              38598.488372\n",
       "10      Los Angeles County, CA              60377.250000\n",
       "11           Madera County, CA              51976.468085\n",
       "12            Marin County, CA              89630.740000\n",
       "13        Mendocino County, CA              44617.250000\n",
       "14           Merced County, CA              44971.460000\n",
       "15         Monterey County, CA              66421.964286\n",
       "16             Napa County, CA              76758.122449\n",
       "17           Nevada County, CA              60881.125000\n",
       "18           Orange County, CA              75924.083333\n",
       "19           Placer County, CA              77391.727273\n",
       "20        Riverside County, CA              60530.050847\n",
       "21       Sacramento County, CA              55667.083333\n",
       "22   San Bernardino County, CA              55941.403509\n",
       "23        San Diego County, CA              64905.633333\n",
       "24    San Francisco County, CA              83884.178571\n",
       "25      San Joaquin County, CA              55513.779661\n",
       "26  San Luis Obispo County, CA              63684.215686\n",
       "27        San Mateo County, CA              93119.000000\n",
       "28    Santa Barbara County, CA              62879.660377\n",
       "29      Santa Clara County, CA              91185.516667\n",
       "30       Santa Cruz County, CA              67896.375000\n",
       "31           Shasta County, CA              46581.693878\n",
       "32           Solano County, CA              71227.155172\n",
       "33           Sonoma County, CA              69496.275862\n",
       "34       Stanislaus County, CA              52308.517857\n",
       "35           Sutter County, CA              56026.358491\n",
       "36           Tulare County, CA              45619.905660\n",
       "37          Ventura County, CA              81578.454545\n",
       "38             Yolo County, CA              56517.358491\n",
       "39             Yuba County, CA              51726.173913"
      ]
     },
     "execution_count": 14,
     "metadata": {},
     "output_type": "execute_result"
    }
   ],
   "source": [
    "loca = eth.groupby([\"Geography\"])[\"Household Income by Race\"].mean()\n",
    "loca = loca.to_frame().reset_index()\n",
    "loca"
   ]
  },
  {
   "cell_type": "code",
   "execution_count": 15,
   "metadata": {},
   "outputs": [
    {
     "data": {
      "application/vnd.plotly.v1+json": {
       "config": {
        "plotlyServerURL": "https://plot.ly"
       },
       "data": [
        {
         "orientation": "h",
         "type": "bar",
         "x": [
          79351.76666666666,
          43592,
          79850.8,
          80747.90697674418,
          45148.24137931035,
          40723.93877551021,
          52185.53191489362,
          49986.67857142857,
          53960.339622641506,
          38598.48837209302,
          60377.25,
          51976.46808510638,
          89630.74,
          44617.25,
          44971.46,
          66421.96428571429,
          76758.12244897959,
          60881.125,
          75924.08333333333,
          77391.72727272728,
          60530.05084745763,
          55667.083333333336,
          55941.40350877193,
          64905.63333333333,
          83884.17857142857,
          55513.779661016946,
          63684.21568627451,
          93119,
          62879.660377358494,
          91185.51666666666,
          67896.375,
          46581.69387755102,
          71227.1551724138,
          69496.27586206897,
          52308.517857142855,
          56026.35849056604,
          45619.90566037736,
          81578.45454545454,
          56517.35849056604,
          51726.17391304348
         ],
         "y": [
          "Alameda County, CA",
          "Butte County, CA",
          "Contra Costa County, CA",
          "El Dorado County, CA",
          "Fresno County, CA",
          "Humboldt County, CA",
          "Imperial County, CA",
          "Kern County, CA",
          "Kings County, CA",
          "Lake County, CA",
          "Los Angeles County, CA",
          "Madera County, CA",
          "Marin County, CA",
          "Mendocino County, CA",
          "Merced County, CA",
          "Monterey County, CA",
          "Napa County, CA",
          "Nevada County, CA",
          "Orange County, CA",
          "Placer County, CA",
          "Riverside County, CA",
          "Sacramento County, CA",
          "San Bernardino County, CA",
          "San Diego County, CA",
          "San Francisco County, CA",
          "San Joaquin County, CA",
          "San Luis Obispo County, CA",
          "San Mateo County, CA",
          "Santa Barbara County, CA",
          "Santa Clara County, CA",
          "Santa Cruz County, CA",
          "Shasta County, CA",
          "Solano County, CA",
          "Sonoma County, CA",
          "Stanislaus County, CA",
          "Sutter County, CA",
          "Tulare County, CA",
          "Ventura County, CA",
          "Yolo County, CA",
          "Yuba County, CA"
         ]
        }
       ],
       "layout": {
        "font": {
         "color": "gray",
         "family": "Courier New"
        },
        "legend": {
         "title": {
          "font": {
           "color": "green"
          }
         }
        },
        "template": {
         "data": {
          "bar": [
           {
            "error_x": {
             "color": "#2a3f5f"
            },
            "error_y": {
             "color": "#2a3f5f"
            },
            "marker": {
             "line": {
              "color": "#E5ECF6",
              "width": 0.5
             }
            },
            "type": "bar"
           }
          ],
          "barpolar": [
           {
            "marker": {
             "line": {
              "color": "#E5ECF6",
              "width": 0.5
             }
            },
            "type": "barpolar"
           }
          ],
          "carpet": [
           {
            "aaxis": {
             "endlinecolor": "#2a3f5f",
             "gridcolor": "white",
             "linecolor": "white",
             "minorgridcolor": "white",
             "startlinecolor": "#2a3f5f"
            },
            "baxis": {
             "endlinecolor": "#2a3f5f",
             "gridcolor": "white",
             "linecolor": "white",
             "minorgridcolor": "white",
             "startlinecolor": "#2a3f5f"
            },
            "type": "carpet"
           }
          ],
          "choropleth": [
           {
            "colorbar": {
             "outlinewidth": 0,
             "ticks": ""
            },
            "type": "choropleth"
           }
          ],
          "contour": [
           {
            "colorbar": {
             "outlinewidth": 0,
             "ticks": ""
            },
            "colorscale": [
             [
              0,
              "#0d0887"
             ],
             [
              0.1111111111111111,
              "#46039f"
             ],
             [
              0.2222222222222222,
              "#7201a8"
             ],
             [
              0.3333333333333333,
              "#9c179e"
             ],
             [
              0.4444444444444444,
              "#bd3786"
             ],
             [
              0.5555555555555556,
              "#d8576b"
             ],
             [
              0.6666666666666666,
              "#ed7953"
             ],
             [
              0.7777777777777778,
              "#fb9f3a"
             ],
             [
              0.8888888888888888,
              "#fdca26"
             ],
             [
              1,
              "#f0f921"
             ]
            ],
            "type": "contour"
           }
          ],
          "contourcarpet": [
           {
            "colorbar": {
             "outlinewidth": 0,
             "ticks": ""
            },
            "type": "contourcarpet"
           }
          ],
          "heatmap": [
           {
            "colorbar": {
             "outlinewidth": 0,
             "ticks": ""
            },
            "colorscale": [
             [
              0,
              "#0d0887"
             ],
             [
              0.1111111111111111,
              "#46039f"
             ],
             [
              0.2222222222222222,
              "#7201a8"
             ],
             [
              0.3333333333333333,
              "#9c179e"
             ],
             [
              0.4444444444444444,
              "#bd3786"
             ],
             [
              0.5555555555555556,
              "#d8576b"
             ],
             [
              0.6666666666666666,
              "#ed7953"
             ],
             [
              0.7777777777777778,
              "#fb9f3a"
             ],
             [
              0.8888888888888888,
              "#fdca26"
             ],
             [
              1,
              "#f0f921"
             ]
            ],
            "type": "heatmap"
           }
          ],
          "heatmapgl": [
           {
            "colorbar": {
             "outlinewidth": 0,
             "ticks": ""
            },
            "colorscale": [
             [
              0,
              "#0d0887"
             ],
             [
              0.1111111111111111,
              "#46039f"
             ],
             [
              0.2222222222222222,
              "#7201a8"
             ],
             [
              0.3333333333333333,
              "#9c179e"
             ],
             [
              0.4444444444444444,
              "#bd3786"
             ],
             [
              0.5555555555555556,
              "#d8576b"
             ],
             [
              0.6666666666666666,
              "#ed7953"
             ],
             [
              0.7777777777777778,
              "#fb9f3a"
             ],
             [
              0.8888888888888888,
              "#fdca26"
             ],
             [
              1,
              "#f0f921"
             ]
            ],
            "type": "heatmapgl"
           }
          ],
          "histogram": [
           {
            "marker": {
             "colorbar": {
              "outlinewidth": 0,
              "ticks": ""
             }
            },
            "type": "histogram"
           }
          ],
          "histogram2d": [
           {
            "colorbar": {
             "outlinewidth": 0,
             "ticks": ""
            },
            "colorscale": [
             [
              0,
              "#0d0887"
             ],
             [
              0.1111111111111111,
              "#46039f"
             ],
             [
              0.2222222222222222,
              "#7201a8"
             ],
             [
              0.3333333333333333,
              "#9c179e"
             ],
             [
              0.4444444444444444,
              "#bd3786"
             ],
             [
              0.5555555555555556,
              "#d8576b"
             ],
             [
              0.6666666666666666,
              "#ed7953"
             ],
             [
              0.7777777777777778,
              "#fb9f3a"
             ],
             [
              0.8888888888888888,
              "#fdca26"
             ],
             [
              1,
              "#f0f921"
             ]
            ],
            "type": "histogram2d"
           }
          ],
          "histogram2dcontour": [
           {
            "colorbar": {
             "outlinewidth": 0,
             "ticks": ""
            },
            "colorscale": [
             [
              0,
              "#0d0887"
             ],
             [
              0.1111111111111111,
              "#46039f"
             ],
             [
              0.2222222222222222,
              "#7201a8"
             ],
             [
              0.3333333333333333,
              "#9c179e"
             ],
             [
              0.4444444444444444,
              "#bd3786"
             ],
             [
              0.5555555555555556,
              "#d8576b"
             ],
             [
              0.6666666666666666,
              "#ed7953"
             ],
             [
              0.7777777777777778,
              "#fb9f3a"
             ],
             [
              0.8888888888888888,
              "#fdca26"
             ],
             [
              1,
              "#f0f921"
             ]
            ],
            "type": "histogram2dcontour"
           }
          ],
          "mesh3d": [
           {
            "colorbar": {
             "outlinewidth": 0,
             "ticks": ""
            },
            "type": "mesh3d"
           }
          ],
          "parcoords": [
           {
            "line": {
             "colorbar": {
              "outlinewidth": 0,
              "ticks": ""
             }
            },
            "type": "parcoords"
           }
          ],
          "pie": [
           {
            "automargin": true,
            "type": "pie"
           }
          ],
          "scatter": [
           {
            "marker": {
             "colorbar": {
              "outlinewidth": 0,
              "ticks": ""
             }
            },
            "type": "scatter"
           }
          ],
          "scatter3d": [
           {
            "line": {
             "colorbar": {
              "outlinewidth": 0,
              "ticks": ""
             }
            },
            "marker": {
             "colorbar": {
              "outlinewidth": 0,
              "ticks": ""
             }
            },
            "type": "scatter3d"
           }
          ],
          "scattercarpet": [
           {
            "marker": {
             "colorbar": {
              "outlinewidth": 0,
              "ticks": ""
             }
            },
            "type": "scattercarpet"
           }
          ],
          "scattergeo": [
           {
            "marker": {
             "colorbar": {
              "outlinewidth": 0,
              "ticks": ""
             }
            },
            "type": "scattergeo"
           }
          ],
          "scattergl": [
           {
            "marker": {
             "colorbar": {
              "outlinewidth": 0,
              "ticks": ""
             }
            },
            "type": "scattergl"
           }
          ],
          "scattermapbox": [
           {
            "marker": {
             "colorbar": {
              "outlinewidth": 0,
              "ticks": ""
             }
            },
            "type": "scattermapbox"
           }
          ],
          "scatterpolar": [
           {
            "marker": {
             "colorbar": {
              "outlinewidth": 0,
              "ticks": ""
             }
            },
            "type": "scatterpolar"
           }
          ],
          "scatterpolargl": [
           {
            "marker": {
             "colorbar": {
              "outlinewidth": 0,
              "ticks": ""
             }
            },
            "type": "scatterpolargl"
           }
          ],
          "scatterternary": [
           {
            "marker": {
             "colorbar": {
              "outlinewidth": 0,
              "ticks": ""
             }
            },
            "type": "scatterternary"
           }
          ],
          "surface": [
           {
            "colorbar": {
             "outlinewidth": 0,
             "ticks": ""
            },
            "colorscale": [
             [
              0,
              "#0d0887"
             ],
             [
              0.1111111111111111,
              "#46039f"
             ],
             [
              0.2222222222222222,
              "#7201a8"
             ],
             [
              0.3333333333333333,
              "#9c179e"
             ],
             [
              0.4444444444444444,
              "#bd3786"
             ],
             [
              0.5555555555555556,
              "#d8576b"
             ],
             [
              0.6666666666666666,
              "#ed7953"
             ],
             [
              0.7777777777777778,
              "#fb9f3a"
             ],
             [
              0.8888888888888888,
              "#fdca26"
             ],
             [
              1,
              "#f0f921"
             ]
            ],
            "type": "surface"
           }
          ],
          "table": [
           {
            "cells": {
             "fill": {
              "color": "#EBF0F8"
             },
             "line": {
              "color": "white"
             }
            },
            "header": {
             "fill": {
              "color": "#C8D4E3"
             },
             "line": {
              "color": "white"
             }
            },
            "type": "table"
           }
          ]
         },
         "layout": {
          "annotationdefaults": {
           "arrowcolor": "#2a3f5f",
           "arrowhead": 0,
           "arrowwidth": 1
          },
          "autotypenumbers": "strict",
          "coloraxis": {
           "colorbar": {
            "outlinewidth": 0,
            "ticks": ""
           }
          },
          "colorscale": {
           "diverging": [
            [
             0,
             "#8e0152"
            ],
            [
             0.1,
             "#c51b7d"
            ],
            [
             0.2,
             "#de77ae"
            ],
            [
             0.3,
             "#f1b6da"
            ],
            [
             0.4,
             "#fde0ef"
            ],
            [
             0.5,
             "#f7f7f7"
            ],
            [
             0.6,
             "#e6f5d0"
            ],
            [
             0.7,
             "#b8e186"
            ],
            [
             0.8,
             "#7fbc41"
            ],
            [
             0.9,
             "#4d9221"
            ],
            [
             1,
             "#276419"
            ]
           ],
           "sequential": [
            [
             0,
             "#0d0887"
            ],
            [
             0.1111111111111111,
             "#46039f"
            ],
            [
             0.2222222222222222,
             "#7201a8"
            ],
            [
             0.3333333333333333,
             "#9c179e"
            ],
            [
             0.4444444444444444,
             "#bd3786"
            ],
            [
             0.5555555555555556,
             "#d8576b"
            ],
            [
             0.6666666666666666,
             "#ed7953"
            ],
            [
             0.7777777777777778,
             "#fb9f3a"
            ],
            [
             0.8888888888888888,
             "#fdca26"
            ],
            [
             1,
             "#f0f921"
            ]
           ],
           "sequentialminus": [
            [
             0,
             "#0d0887"
            ],
            [
             0.1111111111111111,
             "#46039f"
            ],
            [
             0.2222222222222222,
             "#7201a8"
            ],
            [
             0.3333333333333333,
             "#9c179e"
            ],
            [
             0.4444444444444444,
             "#bd3786"
            ],
            [
             0.5555555555555556,
             "#d8576b"
            ],
            [
             0.6666666666666666,
             "#ed7953"
            ],
            [
             0.7777777777777778,
             "#fb9f3a"
            ],
            [
             0.8888888888888888,
             "#fdca26"
            ],
            [
             1,
             "#f0f921"
            ]
           ]
          },
          "colorway": [
           "#636efa",
           "#EF553B",
           "#00cc96",
           "#ab63fa",
           "#FFA15A",
           "#19d3f3",
           "#FF6692",
           "#B6E880",
           "#FF97FF",
           "#FECB52"
          ],
          "font": {
           "color": "#2a3f5f"
          },
          "geo": {
           "bgcolor": "white",
           "lakecolor": "white",
           "landcolor": "#E5ECF6",
           "showlakes": true,
           "showland": true,
           "subunitcolor": "white"
          },
          "hoverlabel": {
           "align": "left"
          },
          "hovermode": "closest",
          "mapbox": {
           "style": "light"
          },
          "paper_bgcolor": "white",
          "plot_bgcolor": "#E5ECF6",
          "polar": {
           "angularaxis": {
            "gridcolor": "white",
            "linecolor": "white",
            "ticks": ""
           },
           "bgcolor": "#E5ECF6",
           "radialaxis": {
            "gridcolor": "white",
            "linecolor": "white",
            "ticks": ""
           }
          },
          "scene": {
           "xaxis": {
            "backgroundcolor": "#E5ECF6",
            "gridcolor": "white",
            "gridwidth": 2,
            "linecolor": "white",
            "showbackground": true,
            "ticks": "",
            "zerolinecolor": "white"
           },
           "yaxis": {
            "backgroundcolor": "#E5ECF6",
            "gridcolor": "white",
            "gridwidth": 2,
            "linecolor": "white",
            "showbackground": true,
            "ticks": "",
            "zerolinecolor": "white"
           },
           "zaxis": {
            "backgroundcolor": "#E5ECF6",
            "gridcolor": "white",
            "gridwidth": 2,
            "linecolor": "white",
            "showbackground": true,
            "ticks": "",
            "zerolinecolor": "white"
           }
          },
          "shapedefaults": {
           "line": {
            "color": "#2a3f5f"
           }
          },
          "ternary": {
           "aaxis": {
            "gridcolor": "white",
            "linecolor": "white",
            "ticks": ""
           },
           "baxis": {
            "gridcolor": "white",
            "linecolor": "white",
            "ticks": ""
           },
           "bgcolor": "#E5ECF6",
           "caxis": {
            "gridcolor": "white",
            "linecolor": "white",
            "ticks": ""
           }
          },
          "title": {
           "x": 0.05
          },
          "xaxis": {
           "automargin": true,
           "gridcolor": "white",
           "linecolor": "white",
           "ticks": "",
           "title": {
            "standoff": 15
           },
           "zerolinecolor": "white",
           "zerolinewidth": 2
          },
          "yaxis": {
           "automargin": true,
           "gridcolor": "white",
           "linecolor": "white",
           "ticks": "",
           "title": {
            "standoff": 15
           },
           "zerolinecolor": "white",
           "zerolinewidth": 2
          }
         }
        },
        "title": {
         "font": {
          "color": "Purple",
          "family": "Times New Roman"
         },
         "text": "Average Annual Household Income By Locations in California in 2018"
        }
       }
      },
      "text/html": [
       "<div>                            <div id=\"28c2c6b8-7e98-48e7-bbdc-e3cf7cb34b14\" class=\"plotly-graph-div\" style=\"height:525px; width:100%;\"></div>            <script type=\"text/javascript\">                require([\"plotly\"], function(Plotly) {                    window.PLOTLYENV=window.PLOTLYENV || {};                                    if (document.getElementById(\"28c2c6b8-7e98-48e7-bbdc-e3cf7cb34b14\")) {                    Plotly.newPlot(                        \"28c2c6b8-7e98-48e7-bbdc-e3cf7cb34b14\",                        [{\"orientation\": \"h\", \"type\": \"bar\", \"x\": [79351.76666666666, 43592.0, 79850.8, 80747.90697674418, 45148.24137931035, 40723.93877551021, 52185.53191489362, 49986.67857142857, 53960.339622641506, 38598.48837209302, 60377.25, 51976.46808510638, 89630.74, 44617.25, 44971.46, 66421.96428571429, 76758.12244897959, 60881.125, 75924.08333333333, 77391.72727272728, 60530.05084745763, 55667.083333333336, 55941.40350877193, 64905.63333333333, 83884.17857142857, 55513.779661016946, 63684.21568627451, 93119.0, 62879.660377358494, 91185.51666666666, 67896.375, 46581.69387755102, 71227.1551724138, 69496.27586206897, 52308.517857142855, 56026.35849056604, 45619.90566037736, 81578.45454545454, 56517.35849056604, 51726.17391304348], \"y\": [\"Alameda County, CA\", \"Butte County, CA\", \"Contra Costa County, CA\", \"El Dorado County, CA\", \"Fresno County, CA\", \"Humboldt County, CA\", \"Imperial County, CA\", \"Kern County, CA\", \"Kings County, CA\", \"Lake County, CA\", \"Los Angeles County, CA\", \"Madera County, CA\", \"Marin County, CA\", \"Mendocino County, CA\", \"Merced County, CA\", \"Monterey County, CA\", \"Napa County, CA\", \"Nevada County, CA\", \"Orange County, CA\", \"Placer County, CA\", \"Riverside County, CA\", \"Sacramento County, CA\", \"San Bernardino County, CA\", \"San Diego County, CA\", \"San Francisco County, CA\", \"San Joaquin County, CA\", \"San Luis Obispo County, CA\", \"San Mateo County, CA\", \"Santa Barbara County, CA\", \"Santa Clara County, CA\", \"Santa Cruz County, CA\", \"Shasta County, CA\", \"Solano County, CA\", \"Sonoma County, CA\", \"Stanislaus County, CA\", \"Sutter County, CA\", \"Tulare County, CA\", \"Ventura County, CA\", \"Yolo County, CA\", \"Yuba County, CA\"]}],                        {\"font\": {\"color\": \"gray\", \"family\": \"Courier New\"}, \"legend\": {\"title\": {\"font\": {\"color\": \"green\"}}}, \"template\": {\"data\": {\"bar\": [{\"error_x\": {\"color\": \"#2a3f5f\"}, \"error_y\": {\"color\": \"#2a3f5f\"}, \"marker\": {\"line\": {\"color\": \"#E5ECF6\", \"width\": 0.5}}, \"type\": \"bar\"}], \"barpolar\": [{\"marker\": {\"line\": {\"color\": \"#E5ECF6\", \"width\": 0.5}}, \"type\": \"barpolar\"}], \"carpet\": [{\"aaxis\": {\"endlinecolor\": \"#2a3f5f\", \"gridcolor\": \"white\", \"linecolor\": \"white\", \"minorgridcolor\": \"white\", \"startlinecolor\": \"#2a3f5f\"}, \"baxis\": {\"endlinecolor\": \"#2a3f5f\", \"gridcolor\": \"white\", \"linecolor\": \"white\", \"minorgridcolor\": \"white\", \"startlinecolor\": \"#2a3f5f\"}, \"type\": \"carpet\"}], \"choropleth\": [{\"colorbar\": {\"outlinewidth\": 0, \"ticks\": \"\"}, \"type\": \"choropleth\"}], \"contour\": [{\"colorbar\": {\"outlinewidth\": 0, \"ticks\": \"\"}, \"colorscale\": [[0.0, \"#0d0887\"], [0.1111111111111111, \"#46039f\"], [0.2222222222222222, \"#7201a8\"], [0.3333333333333333, \"#9c179e\"], [0.4444444444444444, \"#bd3786\"], [0.5555555555555556, \"#d8576b\"], [0.6666666666666666, \"#ed7953\"], [0.7777777777777778, \"#fb9f3a\"], [0.8888888888888888, \"#fdca26\"], [1.0, \"#f0f921\"]], \"type\": \"contour\"}], \"contourcarpet\": [{\"colorbar\": {\"outlinewidth\": 0, \"ticks\": \"\"}, \"type\": \"contourcarpet\"}], \"heatmap\": [{\"colorbar\": {\"outlinewidth\": 0, \"ticks\": \"\"}, \"colorscale\": [[0.0, \"#0d0887\"], [0.1111111111111111, \"#46039f\"], [0.2222222222222222, \"#7201a8\"], [0.3333333333333333, \"#9c179e\"], [0.4444444444444444, \"#bd3786\"], [0.5555555555555556, \"#d8576b\"], [0.6666666666666666, \"#ed7953\"], [0.7777777777777778, \"#fb9f3a\"], [0.8888888888888888, \"#fdca26\"], [1.0, \"#f0f921\"]], \"type\": \"heatmap\"}], \"heatmapgl\": [{\"colorbar\": {\"outlinewidth\": 0, \"ticks\": \"\"}, \"colorscale\": [[0.0, \"#0d0887\"], [0.1111111111111111, \"#46039f\"], [0.2222222222222222, \"#7201a8\"], [0.3333333333333333, \"#9c179e\"], [0.4444444444444444, \"#bd3786\"], [0.5555555555555556, \"#d8576b\"], [0.6666666666666666, \"#ed7953\"], [0.7777777777777778, \"#fb9f3a\"], [0.8888888888888888, \"#fdca26\"], [1.0, \"#f0f921\"]], \"type\": \"heatmapgl\"}], \"histogram\": [{\"marker\": {\"colorbar\": {\"outlinewidth\": 0, \"ticks\": \"\"}}, \"type\": \"histogram\"}], \"histogram2d\": [{\"colorbar\": {\"outlinewidth\": 0, \"ticks\": \"\"}, \"colorscale\": [[0.0, \"#0d0887\"], [0.1111111111111111, \"#46039f\"], [0.2222222222222222, \"#7201a8\"], [0.3333333333333333, \"#9c179e\"], [0.4444444444444444, \"#bd3786\"], [0.5555555555555556, \"#d8576b\"], [0.6666666666666666, \"#ed7953\"], [0.7777777777777778, \"#fb9f3a\"], [0.8888888888888888, \"#fdca26\"], [1.0, \"#f0f921\"]], \"type\": \"histogram2d\"}], \"histogram2dcontour\": [{\"colorbar\": {\"outlinewidth\": 0, \"ticks\": \"\"}, \"colorscale\": [[0.0, \"#0d0887\"], [0.1111111111111111, \"#46039f\"], [0.2222222222222222, \"#7201a8\"], [0.3333333333333333, \"#9c179e\"], [0.4444444444444444, \"#bd3786\"], [0.5555555555555556, \"#d8576b\"], [0.6666666666666666, \"#ed7953\"], [0.7777777777777778, \"#fb9f3a\"], [0.8888888888888888, \"#fdca26\"], [1.0, \"#f0f921\"]], \"type\": \"histogram2dcontour\"}], \"mesh3d\": [{\"colorbar\": {\"outlinewidth\": 0, \"ticks\": \"\"}, \"type\": \"mesh3d\"}], \"parcoords\": [{\"line\": {\"colorbar\": {\"outlinewidth\": 0, \"ticks\": \"\"}}, \"type\": \"parcoords\"}], \"pie\": [{\"automargin\": true, \"type\": \"pie\"}], \"scatter\": [{\"marker\": {\"colorbar\": {\"outlinewidth\": 0, \"ticks\": \"\"}}, \"type\": \"scatter\"}], \"scatter3d\": [{\"line\": {\"colorbar\": {\"outlinewidth\": 0, \"ticks\": \"\"}}, \"marker\": {\"colorbar\": {\"outlinewidth\": 0, \"ticks\": \"\"}}, \"type\": \"scatter3d\"}], \"scattercarpet\": [{\"marker\": {\"colorbar\": {\"outlinewidth\": 0, \"ticks\": \"\"}}, \"type\": \"scattercarpet\"}], \"scattergeo\": [{\"marker\": {\"colorbar\": {\"outlinewidth\": 0, \"ticks\": \"\"}}, \"type\": \"scattergeo\"}], \"scattergl\": [{\"marker\": {\"colorbar\": {\"outlinewidth\": 0, \"ticks\": \"\"}}, \"type\": \"scattergl\"}], \"scattermapbox\": [{\"marker\": {\"colorbar\": {\"outlinewidth\": 0, \"ticks\": \"\"}}, \"type\": \"scattermapbox\"}], \"scatterpolar\": [{\"marker\": {\"colorbar\": {\"outlinewidth\": 0, \"ticks\": \"\"}}, \"type\": \"scatterpolar\"}], \"scatterpolargl\": [{\"marker\": {\"colorbar\": {\"outlinewidth\": 0, \"ticks\": \"\"}}, \"type\": \"scatterpolargl\"}], \"scatterternary\": [{\"marker\": {\"colorbar\": {\"outlinewidth\": 0, \"ticks\": \"\"}}, \"type\": \"scatterternary\"}], \"surface\": [{\"colorbar\": {\"outlinewidth\": 0, \"ticks\": \"\"}, \"colorscale\": [[0.0, \"#0d0887\"], [0.1111111111111111, \"#46039f\"], [0.2222222222222222, \"#7201a8\"], [0.3333333333333333, \"#9c179e\"], [0.4444444444444444, \"#bd3786\"], [0.5555555555555556, \"#d8576b\"], [0.6666666666666666, \"#ed7953\"], [0.7777777777777778, \"#fb9f3a\"], [0.8888888888888888, \"#fdca26\"], [1.0, \"#f0f921\"]], \"type\": \"surface\"}], \"table\": [{\"cells\": {\"fill\": {\"color\": \"#EBF0F8\"}, \"line\": {\"color\": \"white\"}}, \"header\": {\"fill\": {\"color\": \"#C8D4E3\"}, \"line\": {\"color\": \"white\"}}, \"type\": \"table\"}]}, \"layout\": {\"annotationdefaults\": {\"arrowcolor\": \"#2a3f5f\", \"arrowhead\": 0, \"arrowwidth\": 1}, \"autotypenumbers\": \"strict\", \"coloraxis\": {\"colorbar\": {\"outlinewidth\": 0, \"ticks\": \"\"}}, \"colorscale\": {\"diverging\": [[0, \"#8e0152\"], [0.1, \"#c51b7d\"], [0.2, \"#de77ae\"], [0.3, \"#f1b6da\"], [0.4, \"#fde0ef\"], [0.5, \"#f7f7f7\"], [0.6, \"#e6f5d0\"], [0.7, \"#b8e186\"], [0.8, \"#7fbc41\"], [0.9, \"#4d9221\"], [1, \"#276419\"]], \"sequential\": [[0.0, \"#0d0887\"], [0.1111111111111111, \"#46039f\"], [0.2222222222222222, \"#7201a8\"], [0.3333333333333333, \"#9c179e\"], [0.4444444444444444, \"#bd3786\"], [0.5555555555555556, \"#d8576b\"], [0.6666666666666666, \"#ed7953\"], [0.7777777777777778, \"#fb9f3a\"], [0.8888888888888888, \"#fdca26\"], [1.0, \"#f0f921\"]], \"sequentialminus\": [[0.0, \"#0d0887\"], [0.1111111111111111, \"#46039f\"], [0.2222222222222222, \"#7201a8\"], [0.3333333333333333, \"#9c179e\"], [0.4444444444444444, \"#bd3786\"], [0.5555555555555556, \"#d8576b\"], [0.6666666666666666, \"#ed7953\"], [0.7777777777777778, \"#fb9f3a\"], [0.8888888888888888, \"#fdca26\"], [1.0, \"#f0f921\"]]}, \"colorway\": [\"#636efa\", \"#EF553B\", \"#00cc96\", \"#ab63fa\", \"#FFA15A\", \"#19d3f3\", \"#FF6692\", \"#B6E880\", \"#FF97FF\", \"#FECB52\"], \"font\": {\"color\": \"#2a3f5f\"}, \"geo\": {\"bgcolor\": \"white\", \"lakecolor\": \"white\", \"landcolor\": \"#E5ECF6\", \"showlakes\": true, \"showland\": true, \"subunitcolor\": \"white\"}, \"hoverlabel\": {\"align\": \"left\"}, \"hovermode\": \"closest\", \"mapbox\": {\"style\": \"light\"}, \"paper_bgcolor\": \"white\", \"plot_bgcolor\": \"#E5ECF6\", \"polar\": {\"angularaxis\": {\"gridcolor\": \"white\", \"linecolor\": \"white\", \"ticks\": \"\"}, \"bgcolor\": \"#E5ECF6\", \"radialaxis\": {\"gridcolor\": \"white\", \"linecolor\": \"white\", \"ticks\": \"\"}}, \"scene\": {\"xaxis\": {\"backgroundcolor\": \"#E5ECF6\", \"gridcolor\": \"white\", \"gridwidth\": 2, \"linecolor\": \"white\", \"showbackground\": true, \"ticks\": \"\", \"zerolinecolor\": \"white\"}, \"yaxis\": {\"backgroundcolor\": \"#E5ECF6\", \"gridcolor\": \"white\", \"gridwidth\": 2, \"linecolor\": \"white\", \"showbackground\": true, \"ticks\": \"\", \"zerolinecolor\": \"white\"}, \"zaxis\": {\"backgroundcolor\": \"#E5ECF6\", \"gridcolor\": \"white\", \"gridwidth\": 2, \"linecolor\": \"white\", \"showbackground\": true, \"ticks\": \"\", \"zerolinecolor\": \"white\"}}, \"shapedefaults\": {\"line\": {\"color\": \"#2a3f5f\"}}, \"ternary\": {\"aaxis\": {\"gridcolor\": \"white\", \"linecolor\": \"white\", \"ticks\": \"\"}, \"baxis\": {\"gridcolor\": \"white\", \"linecolor\": \"white\", \"ticks\": \"\"}, \"bgcolor\": \"#E5ECF6\", \"caxis\": {\"gridcolor\": \"white\", \"linecolor\": \"white\", \"ticks\": \"\"}}, \"title\": {\"x\": 0.05}, \"xaxis\": {\"automargin\": true, \"gridcolor\": \"white\", \"linecolor\": \"white\", \"ticks\": \"\", \"title\": {\"standoff\": 15}, \"zerolinecolor\": \"white\", \"zerolinewidth\": 2}, \"yaxis\": {\"automargin\": true, \"gridcolor\": \"white\", \"linecolor\": \"white\", \"ticks\": \"\", \"title\": {\"standoff\": 15}, \"zerolinecolor\": \"white\", \"zerolinewidth\": 2}}}, \"title\": {\"font\": {\"color\": \"Purple\", \"family\": \"Times New Roman\"}, \"text\": \"Average Annual Household Income By Locations in California in 2018\"}},                        {\"responsive\": true}                    ).then(function(){\n",
       "                            \n",
       "var gd = document.getElementById('28c2c6b8-7e98-48e7-bbdc-e3cf7cb34b14');\n",
       "var x = new MutationObserver(function (mutations, observer) {{\n",
       "        var display = window.getComputedStyle(gd).display;\n",
       "        if (!display || display === 'none') {{\n",
       "            console.log([gd, 'removed!']);\n",
       "            Plotly.purge(gd);\n",
       "            observer.disconnect();\n",
       "        }}\n",
       "}});\n",
       "\n",
       "// Listen for the removal of the full notebook cells\n",
       "var notebookContainer = gd.closest('#notebook-container');\n",
       "if (notebookContainer) {{\n",
       "    x.observe(notebookContainer, {childList: true});\n",
       "}}\n",
       "\n",
       "// Listen for the clearing of the current output cell\n",
       "var outputEl = gd.closest('.output');\n",
       "if (outputEl) {{\n",
       "    x.observe(outputEl, {childList: true});\n",
       "}}\n",
       "\n",
       "                        })                };                });            </script>        </div>"
      ]
     },
     "metadata": {},
     "output_type": "display_data"
    }
   ],
   "source": [
    "import plotly.graph_objects as go\n",
    "\n",
    "fig = go.Figure(go.Bar(\n",
    "            x=loca[\"Household Income by Race\"],\n",
    "            y=loca[\"Geography\"],\n",
    "            orientation='h'\n",
    "            ))\n",
    "fig.update_layout(\n",
    "    title=\"Average Annual Household Income By Locations in California in 2018\",\n",
    "    font_family=\"Courier New\",\n",
    "    font_color=\"gray\",\n",
    "    title_font_family=\"Times New Roman\",\n",
    "    title_font_color=\"Purple\",\n",
    "    legend_title_font_color=\"green\"\n",
    ")\n",
    "fig.show()\n",
    "from plotly.io import write_html\n",
    "write_html(fig, \"IncomeLocations.html\")"
   ]
  },
  {
   "cell_type": "code",
   "execution_count": 16,
   "metadata": {},
   "outputs": [
    {
     "data": {
      "text/html": [
       "<div>\n",
       "<style scoped>\n",
       "    .dataframe tbody tr th:only-of-type {\n",
       "        vertical-align: middle;\n",
       "    }\n",
       "\n",
       "    .dataframe tbody tr th {\n",
       "        vertical-align: top;\n",
       "    }\n",
       "\n",
       "    .dataframe thead th {\n",
       "        text-align: right;\n",
       "    }\n",
       "</style>\n",
       "<table border=\"1\" class=\"dataframe\">\n",
       "  <thead>\n",
       "    <tr style=\"text-align: right;\">\n",
       "      <th></th>\n",
       "      <th>Year</th>\n",
       "      <th>Race</th>\n",
       "      <th>Household Income by Race</th>\n",
       "    </tr>\n",
       "  </thead>\n",
       "  <tbody>\n",
       "    <tr>\n",
       "      <th>0</th>\n",
       "      <td>2013</td>\n",
       "      <td>Asian</td>\n",
       "      <td>70936.789474</td>\n",
       "    </tr>\n",
       "    <tr>\n",
       "      <th>1</th>\n",
       "      <td>2013</td>\n",
       "      <td>Black</td>\n",
       "      <td>52766.941176</td>\n",
       "    </tr>\n",
       "    <tr>\n",
       "      <th>2</th>\n",
       "      <td>2013</td>\n",
       "      <td>Hispanic</td>\n",
       "      <td>45248.600000</td>\n",
       "    </tr>\n",
       "    <tr>\n",
       "      <th>3</th>\n",
       "      <td>2013</td>\n",
       "      <td>Native American</td>\n",
       "      <td>49273.218750</td>\n",
       "    </tr>\n",
       "    <tr>\n",
       "      <th>4</th>\n",
       "      <td>2013</td>\n",
       "      <td>Other</td>\n",
       "      <td>44788.684211</td>\n",
       "    </tr>\n",
       "  </tbody>\n",
       "</table>\n",
       "</div>"
      ],
      "text/plain": [
       "   Year             Race  Household Income by Race\n",
       "0  2013            Asian              70936.789474\n",
       "1  2013            Black              52766.941176\n",
       "2  2013         Hispanic              45248.600000\n",
       "3  2013  Native American              49273.218750\n",
       "4  2013            Other              44788.684211"
      ]
     },
     "execution_count": 16,
     "metadata": {},
     "output_type": "execute_result"
    }
   ],
   "source": [
    "year = eth.groupby([\"Year\",\"Race\"])[\"Household Income by Race\"].mean()\n",
    "year = year.to_frame().reset_index()\n",
    "year.head()"
   ]
  },
  {
   "cell_type": "code",
   "execution_count": 17,
   "metadata": {},
   "outputs": [
    {
     "data": {
      "application/vnd.plotly.v1+json": {
       "config": {
        "plotlyServerURL": "https://plot.ly"
       },
       "data": [
        {
         "name": "2013",
         "type": "bar",
         "x": [
          "Asian",
          "Black",
          "Hispanic",
          "Native American",
          "Other",
          "Pacific Islander",
          "Total",
          "Two Or More",
          "White",
          "White Non-Hispanic"
         ],
         "y": [
          70936.78947368421,
          52766.94117647059,
          45248.6,
          49273.21875,
          44788.68421052631,
          63160.05882352941,
          57952.375,
          52880.65789473684,
          60768.85,
          66266.6
         ]
        },
        {
         "name": "2014",
         "type": "bar",
         "x": [
          "Asian",
          "Black",
          "Hispanic",
          "Native American",
          "Other",
          "Pacific Islander",
          "Total",
          "Two Or More",
          "White",
          "White Non-Hispanic"
         ],
         "y": [
          74275.2972972973,
          51396.970588235294,
          47304.425,
          48990.4,
          46275.07894736842,
          63909.375,
          59965.55,
          59486.07894736842,
          62598.275,
          68699.3
         ]
        },
        {
         "name": "2015",
         "type": "bar",
         "x": [
          "Asian",
          "Black",
          "Hispanic",
          "Native American",
          "Other",
          "Pacific Islander",
          "Total",
          "Two Or More",
          "White",
          "White Non-Hispanic"
         ],
         "y": [
          75968.97222222222,
          50869.545454545456,
          48726.225,
          51972,
          47885.8717948718,
          66806.375,
          62095.05,
          61482.725,
          64907.5,
          71034.95
         ]
        },
        {
         "name": "2016",
         "type": "bar",
         "x": [
          "Asian",
          "Black",
          "Hispanic",
          "Native American",
          "Other",
          "Pacific Islander",
          "Total",
          "Two Or More",
          "White",
          "White Non-Hispanic"
         ],
         "y": [
          79196.21621621621,
          49143.4375,
          52444.675,
          58739.709677419356,
          50691.8717948718,
          78304.4,
          66196.05,
          63191.7027027027,
          69597.25,
          74955.85
         ]
        },
        {
         "name": "2017",
         "type": "bar",
         "x": [
          "Asian",
          "Black",
          "Hispanic",
          "Native American",
          "Other",
          "Pacific Islander",
          "Total",
          "Two Or More",
          "White",
          "White Non-Hispanic"
         ],
         "y": [
          82995.6052631579,
          58386.76470588235,
          56769.025,
          56138.11111111111,
          54459.92105263158,
          74636.22222222222,
          70489.5,
          69396.94871794872,
          73692.625,
          80073.15
         ]
        },
        {
         "name": "2018",
         "type": "bar",
         "x": [
          "Asian",
          "Black",
          "Hispanic",
          "Native American",
          "Other",
          "Pacific Islander",
          "Total",
          "Two Or More",
          "White",
          "White Non-Hispanic"
         ],
         "y": [
          84760.02702702703,
          65370.23529411765,
          59615.725,
          64307.41176470588,
          57612.21052631579,
          84937.27777777778,
          73685.875,
          80300.5,
          76868.275,
          83071.45
         ]
        }
       ],
       "layout": {
        "barmode": "group",
        "font": {
         "color": "gray",
         "family": "Courier New"
        },
        "legend": {
         "title": {
          "font": {
           "color": "green"
          }
         }
        },
        "template": {
         "data": {
          "bar": [
           {
            "error_x": {
             "color": "#2a3f5f"
            },
            "error_y": {
             "color": "#2a3f5f"
            },
            "marker": {
             "line": {
              "color": "#E5ECF6",
              "width": 0.5
             }
            },
            "type": "bar"
           }
          ],
          "barpolar": [
           {
            "marker": {
             "line": {
              "color": "#E5ECF6",
              "width": 0.5
             }
            },
            "type": "barpolar"
           }
          ],
          "carpet": [
           {
            "aaxis": {
             "endlinecolor": "#2a3f5f",
             "gridcolor": "white",
             "linecolor": "white",
             "minorgridcolor": "white",
             "startlinecolor": "#2a3f5f"
            },
            "baxis": {
             "endlinecolor": "#2a3f5f",
             "gridcolor": "white",
             "linecolor": "white",
             "minorgridcolor": "white",
             "startlinecolor": "#2a3f5f"
            },
            "type": "carpet"
           }
          ],
          "choropleth": [
           {
            "colorbar": {
             "outlinewidth": 0,
             "ticks": ""
            },
            "type": "choropleth"
           }
          ],
          "contour": [
           {
            "colorbar": {
             "outlinewidth": 0,
             "ticks": ""
            },
            "colorscale": [
             [
              0,
              "#0d0887"
             ],
             [
              0.1111111111111111,
              "#46039f"
             ],
             [
              0.2222222222222222,
              "#7201a8"
             ],
             [
              0.3333333333333333,
              "#9c179e"
             ],
             [
              0.4444444444444444,
              "#bd3786"
             ],
             [
              0.5555555555555556,
              "#d8576b"
             ],
             [
              0.6666666666666666,
              "#ed7953"
             ],
             [
              0.7777777777777778,
              "#fb9f3a"
             ],
             [
              0.8888888888888888,
              "#fdca26"
             ],
             [
              1,
              "#f0f921"
             ]
            ],
            "type": "contour"
           }
          ],
          "contourcarpet": [
           {
            "colorbar": {
             "outlinewidth": 0,
             "ticks": ""
            },
            "type": "contourcarpet"
           }
          ],
          "heatmap": [
           {
            "colorbar": {
             "outlinewidth": 0,
             "ticks": ""
            },
            "colorscale": [
             [
              0,
              "#0d0887"
             ],
             [
              0.1111111111111111,
              "#46039f"
             ],
             [
              0.2222222222222222,
              "#7201a8"
             ],
             [
              0.3333333333333333,
              "#9c179e"
             ],
             [
              0.4444444444444444,
              "#bd3786"
             ],
             [
              0.5555555555555556,
              "#d8576b"
             ],
             [
              0.6666666666666666,
              "#ed7953"
             ],
             [
              0.7777777777777778,
              "#fb9f3a"
             ],
             [
              0.8888888888888888,
              "#fdca26"
             ],
             [
              1,
              "#f0f921"
             ]
            ],
            "type": "heatmap"
           }
          ],
          "heatmapgl": [
           {
            "colorbar": {
             "outlinewidth": 0,
             "ticks": ""
            },
            "colorscale": [
             [
              0,
              "#0d0887"
             ],
             [
              0.1111111111111111,
              "#46039f"
             ],
             [
              0.2222222222222222,
              "#7201a8"
             ],
             [
              0.3333333333333333,
              "#9c179e"
             ],
             [
              0.4444444444444444,
              "#bd3786"
             ],
             [
              0.5555555555555556,
              "#d8576b"
             ],
             [
              0.6666666666666666,
              "#ed7953"
             ],
             [
              0.7777777777777778,
              "#fb9f3a"
             ],
             [
              0.8888888888888888,
              "#fdca26"
             ],
             [
              1,
              "#f0f921"
             ]
            ],
            "type": "heatmapgl"
           }
          ],
          "histogram": [
           {
            "marker": {
             "colorbar": {
              "outlinewidth": 0,
              "ticks": ""
             }
            },
            "type": "histogram"
           }
          ],
          "histogram2d": [
           {
            "colorbar": {
             "outlinewidth": 0,
             "ticks": ""
            },
            "colorscale": [
             [
              0,
              "#0d0887"
             ],
             [
              0.1111111111111111,
              "#46039f"
             ],
             [
              0.2222222222222222,
              "#7201a8"
             ],
             [
              0.3333333333333333,
              "#9c179e"
             ],
             [
              0.4444444444444444,
              "#bd3786"
             ],
             [
              0.5555555555555556,
              "#d8576b"
             ],
             [
              0.6666666666666666,
              "#ed7953"
             ],
             [
              0.7777777777777778,
              "#fb9f3a"
             ],
             [
              0.8888888888888888,
              "#fdca26"
             ],
             [
              1,
              "#f0f921"
             ]
            ],
            "type": "histogram2d"
           }
          ],
          "histogram2dcontour": [
           {
            "colorbar": {
             "outlinewidth": 0,
             "ticks": ""
            },
            "colorscale": [
             [
              0,
              "#0d0887"
             ],
             [
              0.1111111111111111,
              "#46039f"
             ],
             [
              0.2222222222222222,
              "#7201a8"
             ],
             [
              0.3333333333333333,
              "#9c179e"
             ],
             [
              0.4444444444444444,
              "#bd3786"
             ],
             [
              0.5555555555555556,
              "#d8576b"
             ],
             [
              0.6666666666666666,
              "#ed7953"
             ],
             [
              0.7777777777777778,
              "#fb9f3a"
             ],
             [
              0.8888888888888888,
              "#fdca26"
             ],
             [
              1,
              "#f0f921"
             ]
            ],
            "type": "histogram2dcontour"
           }
          ],
          "mesh3d": [
           {
            "colorbar": {
             "outlinewidth": 0,
             "ticks": ""
            },
            "type": "mesh3d"
           }
          ],
          "parcoords": [
           {
            "line": {
             "colorbar": {
              "outlinewidth": 0,
              "ticks": ""
             }
            },
            "type": "parcoords"
           }
          ],
          "pie": [
           {
            "automargin": true,
            "type": "pie"
           }
          ],
          "scatter": [
           {
            "marker": {
             "colorbar": {
              "outlinewidth": 0,
              "ticks": ""
             }
            },
            "type": "scatter"
           }
          ],
          "scatter3d": [
           {
            "line": {
             "colorbar": {
              "outlinewidth": 0,
              "ticks": ""
             }
            },
            "marker": {
             "colorbar": {
              "outlinewidth": 0,
              "ticks": ""
             }
            },
            "type": "scatter3d"
           }
          ],
          "scattercarpet": [
           {
            "marker": {
             "colorbar": {
              "outlinewidth": 0,
              "ticks": ""
             }
            },
            "type": "scattercarpet"
           }
          ],
          "scattergeo": [
           {
            "marker": {
             "colorbar": {
              "outlinewidth": 0,
              "ticks": ""
             }
            },
            "type": "scattergeo"
           }
          ],
          "scattergl": [
           {
            "marker": {
             "colorbar": {
              "outlinewidth": 0,
              "ticks": ""
             }
            },
            "type": "scattergl"
           }
          ],
          "scattermapbox": [
           {
            "marker": {
             "colorbar": {
              "outlinewidth": 0,
              "ticks": ""
             }
            },
            "type": "scattermapbox"
           }
          ],
          "scatterpolar": [
           {
            "marker": {
             "colorbar": {
              "outlinewidth": 0,
              "ticks": ""
             }
            },
            "type": "scatterpolar"
           }
          ],
          "scatterpolargl": [
           {
            "marker": {
             "colorbar": {
              "outlinewidth": 0,
              "ticks": ""
             }
            },
            "type": "scatterpolargl"
           }
          ],
          "scatterternary": [
           {
            "marker": {
             "colorbar": {
              "outlinewidth": 0,
              "ticks": ""
             }
            },
            "type": "scatterternary"
           }
          ],
          "surface": [
           {
            "colorbar": {
             "outlinewidth": 0,
             "ticks": ""
            },
            "colorscale": [
             [
              0,
              "#0d0887"
             ],
             [
              0.1111111111111111,
              "#46039f"
             ],
             [
              0.2222222222222222,
              "#7201a8"
             ],
             [
              0.3333333333333333,
              "#9c179e"
             ],
             [
              0.4444444444444444,
              "#bd3786"
             ],
             [
              0.5555555555555556,
              "#d8576b"
             ],
             [
              0.6666666666666666,
              "#ed7953"
             ],
             [
              0.7777777777777778,
              "#fb9f3a"
             ],
             [
              0.8888888888888888,
              "#fdca26"
             ],
             [
              1,
              "#f0f921"
             ]
            ],
            "type": "surface"
           }
          ],
          "table": [
           {
            "cells": {
             "fill": {
              "color": "#EBF0F8"
             },
             "line": {
              "color": "white"
             }
            },
            "header": {
             "fill": {
              "color": "#C8D4E3"
             },
             "line": {
              "color": "white"
             }
            },
            "type": "table"
           }
          ]
         },
         "layout": {
          "annotationdefaults": {
           "arrowcolor": "#2a3f5f",
           "arrowhead": 0,
           "arrowwidth": 1
          },
          "autotypenumbers": "strict",
          "coloraxis": {
           "colorbar": {
            "outlinewidth": 0,
            "ticks": ""
           }
          },
          "colorscale": {
           "diverging": [
            [
             0,
             "#8e0152"
            ],
            [
             0.1,
             "#c51b7d"
            ],
            [
             0.2,
             "#de77ae"
            ],
            [
             0.3,
             "#f1b6da"
            ],
            [
             0.4,
             "#fde0ef"
            ],
            [
             0.5,
             "#f7f7f7"
            ],
            [
             0.6,
             "#e6f5d0"
            ],
            [
             0.7,
             "#b8e186"
            ],
            [
             0.8,
             "#7fbc41"
            ],
            [
             0.9,
             "#4d9221"
            ],
            [
             1,
             "#276419"
            ]
           ],
           "sequential": [
            [
             0,
             "#0d0887"
            ],
            [
             0.1111111111111111,
             "#46039f"
            ],
            [
             0.2222222222222222,
             "#7201a8"
            ],
            [
             0.3333333333333333,
             "#9c179e"
            ],
            [
             0.4444444444444444,
             "#bd3786"
            ],
            [
             0.5555555555555556,
             "#d8576b"
            ],
            [
             0.6666666666666666,
             "#ed7953"
            ],
            [
             0.7777777777777778,
             "#fb9f3a"
            ],
            [
             0.8888888888888888,
             "#fdca26"
            ],
            [
             1,
             "#f0f921"
            ]
           ],
           "sequentialminus": [
            [
             0,
             "#0d0887"
            ],
            [
             0.1111111111111111,
             "#46039f"
            ],
            [
             0.2222222222222222,
             "#7201a8"
            ],
            [
             0.3333333333333333,
             "#9c179e"
            ],
            [
             0.4444444444444444,
             "#bd3786"
            ],
            [
             0.5555555555555556,
             "#d8576b"
            ],
            [
             0.6666666666666666,
             "#ed7953"
            ],
            [
             0.7777777777777778,
             "#fb9f3a"
            ],
            [
             0.8888888888888888,
             "#fdca26"
            ],
            [
             1,
             "#f0f921"
            ]
           ]
          },
          "colorway": [
           "#636efa",
           "#EF553B",
           "#00cc96",
           "#ab63fa",
           "#FFA15A",
           "#19d3f3",
           "#FF6692",
           "#B6E880",
           "#FF97FF",
           "#FECB52"
          ],
          "font": {
           "color": "#2a3f5f"
          },
          "geo": {
           "bgcolor": "white",
           "lakecolor": "white",
           "landcolor": "#E5ECF6",
           "showlakes": true,
           "showland": true,
           "subunitcolor": "white"
          },
          "hoverlabel": {
           "align": "left"
          },
          "hovermode": "closest",
          "mapbox": {
           "style": "light"
          },
          "paper_bgcolor": "white",
          "plot_bgcolor": "#E5ECF6",
          "polar": {
           "angularaxis": {
            "gridcolor": "white",
            "linecolor": "white",
            "ticks": ""
           },
           "bgcolor": "#E5ECF6",
           "radialaxis": {
            "gridcolor": "white",
            "linecolor": "white",
            "ticks": ""
           }
          },
          "scene": {
           "xaxis": {
            "backgroundcolor": "#E5ECF6",
            "gridcolor": "white",
            "gridwidth": 2,
            "linecolor": "white",
            "showbackground": true,
            "ticks": "",
            "zerolinecolor": "white"
           },
           "yaxis": {
            "backgroundcolor": "#E5ECF6",
            "gridcolor": "white",
            "gridwidth": 2,
            "linecolor": "white",
            "showbackground": true,
            "ticks": "",
            "zerolinecolor": "white"
           },
           "zaxis": {
            "backgroundcolor": "#E5ECF6",
            "gridcolor": "white",
            "gridwidth": 2,
            "linecolor": "white",
            "showbackground": true,
            "ticks": "",
            "zerolinecolor": "white"
           }
          },
          "shapedefaults": {
           "line": {
            "color": "#2a3f5f"
           }
          },
          "ternary": {
           "aaxis": {
            "gridcolor": "white",
            "linecolor": "white",
            "ticks": ""
           },
           "baxis": {
            "gridcolor": "white",
            "linecolor": "white",
            "ticks": ""
           },
           "bgcolor": "#E5ECF6",
           "caxis": {
            "gridcolor": "white",
            "linecolor": "white",
            "ticks": ""
           }
          },
          "title": {
           "x": 0.05
          },
          "xaxis": {
           "automargin": true,
           "gridcolor": "white",
           "linecolor": "white",
           "ticks": "",
           "title": {
            "standoff": 15
           },
           "zerolinecolor": "white",
           "zerolinewidth": 2
          },
          "yaxis": {
           "automargin": true,
           "gridcolor": "white",
           "linecolor": "white",
           "ticks": "",
           "title": {
            "standoff": 15
           },
           "zerolinecolor": "white",
           "zerolinewidth": 2
          }
         }
        },
        "title": {
         "font": {
          "color": "Purple",
          "family": "Times New Roman"
         },
         "text": "Annual Household Income Mean By Races from 2013-2018 in California"
        },
        "xaxis": {
         "title": {
          "text": "Race(s)"
         }
        },
        "yaxis": {
         "title": {
          "text": "Annual Household Income"
         }
        }
       }
      },
      "text/html": [
       "<div>                            <div id=\"5aae5cd4-a87e-4fa5-8723-3379ec00d14f\" class=\"plotly-graph-div\" style=\"height:525px; width:100%;\"></div>            <script type=\"text/javascript\">                require([\"plotly\"], function(Plotly) {                    window.PLOTLYENV=window.PLOTLYENV || {};                                    if (document.getElementById(\"5aae5cd4-a87e-4fa5-8723-3379ec00d14f\")) {                    Plotly.newPlot(                        \"5aae5cd4-a87e-4fa5-8723-3379ec00d14f\",                        [{\"name\": \"2013\", \"type\": \"bar\", \"x\": [\"Asian\", \"Black\", \"Hispanic\", \"Native American\", \"Other\", \"Pacific Islander\", \"Total\", \"Two Or More\", \"White\", \"White Non-Hispanic\"], \"y\": [70936.78947368421, 52766.94117647059, 45248.6, 49273.21875, 44788.68421052631, 63160.05882352941, 57952.375, 52880.65789473684, 60768.85, 66266.6]}, {\"name\": \"2014\", \"type\": \"bar\", \"x\": [\"Asian\", \"Black\", \"Hispanic\", \"Native American\", \"Other\", \"Pacific Islander\", \"Total\", \"Two Or More\", \"White\", \"White Non-Hispanic\"], \"y\": [74275.2972972973, 51396.970588235294, 47304.425, 48990.4, 46275.07894736842, 63909.375, 59965.55, 59486.07894736842, 62598.275, 68699.3]}, {\"name\": \"2015\", \"type\": \"bar\", \"x\": [\"Asian\", \"Black\", \"Hispanic\", \"Native American\", \"Other\", \"Pacific Islander\", \"Total\", \"Two Or More\", \"White\", \"White Non-Hispanic\"], \"y\": [75968.97222222222, 50869.545454545456, 48726.225, 51972.0, 47885.8717948718, 66806.375, 62095.05, 61482.725, 64907.5, 71034.95]}, {\"name\": \"2016\", \"type\": \"bar\", \"x\": [\"Asian\", \"Black\", \"Hispanic\", \"Native American\", \"Other\", \"Pacific Islander\", \"Total\", \"Two Or More\", \"White\", \"White Non-Hispanic\"], \"y\": [79196.21621621621, 49143.4375, 52444.675, 58739.709677419356, 50691.8717948718, 78304.4, 66196.05, 63191.7027027027, 69597.25, 74955.85]}, {\"name\": \"2017\", \"type\": \"bar\", \"x\": [\"Asian\", \"Black\", \"Hispanic\", \"Native American\", \"Other\", \"Pacific Islander\", \"Total\", \"Two Or More\", \"White\", \"White Non-Hispanic\"], \"y\": [82995.6052631579, 58386.76470588235, 56769.025, 56138.11111111111, 54459.92105263158, 74636.22222222222, 70489.5, 69396.94871794872, 73692.625, 80073.15]}, {\"name\": \"2018\", \"type\": \"bar\", \"x\": [\"Asian\", \"Black\", \"Hispanic\", \"Native American\", \"Other\", \"Pacific Islander\", \"Total\", \"Two Or More\", \"White\", \"White Non-Hispanic\"], \"y\": [84760.02702702703, 65370.23529411765, 59615.725, 64307.41176470588, 57612.21052631579, 84937.27777777778, 73685.875, 80300.5, 76868.275, 83071.45]}],                        {\"barmode\": \"group\", \"font\": {\"color\": \"gray\", \"family\": \"Courier New\"}, \"legend\": {\"title\": {\"font\": {\"color\": \"green\"}}}, \"template\": {\"data\": {\"bar\": [{\"error_x\": {\"color\": \"#2a3f5f\"}, \"error_y\": {\"color\": \"#2a3f5f\"}, \"marker\": {\"line\": {\"color\": \"#E5ECF6\", \"width\": 0.5}}, \"type\": \"bar\"}], \"barpolar\": [{\"marker\": {\"line\": {\"color\": \"#E5ECF6\", \"width\": 0.5}}, \"type\": \"barpolar\"}], \"carpet\": [{\"aaxis\": {\"endlinecolor\": \"#2a3f5f\", \"gridcolor\": \"white\", \"linecolor\": \"white\", \"minorgridcolor\": \"white\", \"startlinecolor\": \"#2a3f5f\"}, \"baxis\": {\"endlinecolor\": \"#2a3f5f\", \"gridcolor\": \"white\", \"linecolor\": \"white\", \"minorgridcolor\": \"white\", \"startlinecolor\": \"#2a3f5f\"}, \"type\": \"carpet\"}], \"choropleth\": [{\"colorbar\": {\"outlinewidth\": 0, \"ticks\": \"\"}, \"type\": \"choropleth\"}], \"contour\": [{\"colorbar\": {\"outlinewidth\": 0, \"ticks\": \"\"}, \"colorscale\": [[0.0, \"#0d0887\"], [0.1111111111111111, \"#46039f\"], [0.2222222222222222, \"#7201a8\"], [0.3333333333333333, \"#9c179e\"], [0.4444444444444444, \"#bd3786\"], [0.5555555555555556, \"#d8576b\"], [0.6666666666666666, \"#ed7953\"], [0.7777777777777778, \"#fb9f3a\"], [0.8888888888888888, \"#fdca26\"], [1.0, \"#f0f921\"]], \"type\": \"contour\"}], \"contourcarpet\": [{\"colorbar\": {\"outlinewidth\": 0, \"ticks\": \"\"}, \"type\": \"contourcarpet\"}], \"heatmap\": [{\"colorbar\": {\"outlinewidth\": 0, \"ticks\": \"\"}, \"colorscale\": [[0.0, \"#0d0887\"], [0.1111111111111111, \"#46039f\"], [0.2222222222222222, \"#7201a8\"], [0.3333333333333333, \"#9c179e\"], [0.4444444444444444, \"#bd3786\"], [0.5555555555555556, \"#d8576b\"], [0.6666666666666666, \"#ed7953\"], [0.7777777777777778, \"#fb9f3a\"], [0.8888888888888888, \"#fdca26\"], [1.0, \"#f0f921\"]], \"type\": \"heatmap\"}], \"heatmapgl\": [{\"colorbar\": {\"outlinewidth\": 0, \"ticks\": \"\"}, \"colorscale\": [[0.0, \"#0d0887\"], [0.1111111111111111, \"#46039f\"], [0.2222222222222222, \"#7201a8\"], [0.3333333333333333, \"#9c179e\"], [0.4444444444444444, \"#bd3786\"], [0.5555555555555556, \"#d8576b\"], [0.6666666666666666, \"#ed7953\"], [0.7777777777777778, \"#fb9f3a\"], [0.8888888888888888, \"#fdca26\"], [1.0, \"#f0f921\"]], \"type\": \"heatmapgl\"}], \"histogram\": [{\"marker\": {\"colorbar\": {\"outlinewidth\": 0, \"ticks\": \"\"}}, \"type\": \"histogram\"}], \"histogram2d\": [{\"colorbar\": {\"outlinewidth\": 0, \"ticks\": \"\"}, \"colorscale\": [[0.0, \"#0d0887\"], [0.1111111111111111, \"#46039f\"], [0.2222222222222222, \"#7201a8\"], [0.3333333333333333, \"#9c179e\"], [0.4444444444444444, \"#bd3786\"], [0.5555555555555556, \"#d8576b\"], [0.6666666666666666, \"#ed7953\"], [0.7777777777777778, \"#fb9f3a\"], [0.8888888888888888, \"#fdca26\"], [1.0, \"#f0f921\"]], \"type\": \"histogram2d\"}], \"histogram2dcontour\": [{\"colorbar\": {\"outlinewidth\": 0, \"ticks\": \"\"}, \"colorscale\": [[0.0, \"#0d0887\"], [0.1111111111111111, \"#46039f\"], [0.2222222222222222, \"#7201a8\"], [0.3333333333333333, \"#9c179e\"], [0.4444444444444444, \"#bd3786\"], [0.5555555555555556, \"#d8576b\"], [0.6666666666666666, \"#ed7953\"], [0.7777777777777778, \"#fb9f3a\"], [0.8888888888888888, \"#fdca26\"], [1.0, \"#f0f921\"]], \"type\": \"histogram2dcontour\"}], \"mesh3d\": [{\"colorbar\": {\"outlinewidth\": 0, \"ticks\": \"\"}, \"type\": \"mesh3d\"}], \"parcoords\": [{\"line\": {\"colorbar\": {\"outlinewidth\": 0, \"ticks\": \"\"}}, \"type\": \"parcoords\"}], \"pie\": [{\"automargin\": true, \"type\": \"pie\"}], \"scatter\": [{\"marker\": {\"colorbar\": {\"outlinewidth\": 0, \"ticks\": \"\"}}, \"type\": \"scatter\"}], \"scatter3d\": [{\"line\": {\"colorbar\": {\"outlinewidth\": 0, \"ticks\": \"\"}}, \"marker\": {\"colorbar\": {\"outlinewidth\": 0, \"ticks\": \"\"}}, \"type\": \"scatter3d\"}], \"scattercarpet\": [{\"marker\": {\"colorbar\": {\"outlinewidth\": 0, \"ticks\": \"\"}}, \"type\": \"scattercarpet\"}], \"scattergeo\": [{\"marker\": {\"colorbar\": {\"outlinewidth\": 0, \"ticks\": \"\"}}, \"type\": \"scattergeo\"}], \"scattergl\": [{\"marker\": {\"colorbar\": {\"outlinewidth\": 0, \"ticks\": \"\"}}, \"type\": \"scattergl\"}], \"scattermapbox\": [{\"marker\": {\"colorbar\": {\"outlinewidth\": 0, \"ticks\": \"\"}}, \"type\": \"scattermapbox\"}], \"scatterpolar\": [{\"marker\": {\"colorbar\": {\"outlinewidth\": 0, \"ticks\": \"\"}}, \"type\": \"scatterpolar\"}], \"scatterpolargl\": [{\"marker\": {\"colorbar\": {\"outlinewidth\": 0, \"ticks\": \"\"}}, \"type\": \"scatterpolargl\"}], \"scatterternary\": [{\"marker\": {\"colorbar\": {\"outlinewidth\": 0, \"ticks\": \"\"}}, \"type\": \"scatterternary\"}], \"surface\": [{\"colorbar\": {\"outlinewidth\": 0, \"ticks\": \"\"}, \"colorscale\": [[0.0, \"#0d0887\"], [0.1111111111111111, \"#46039f\"], [0.2222222222222222, \"#7201a8\"], [0.3333333333333333, \"#9c179e\"], [0.4444444444444444, \"#bd3786\"], [0.5555555555555556, \"#d8576b\"], [0.6666666666666666, \"#ed7953\"], [0.7777777777777778, \"#fb9f3a\"], [0.8888888888888888, \"#fdca26\"], [1.0, \"#f0f921\"]], \"type\": \"surface\"}], \"table\": [{\"cells\": {\"fill\": {\"color\": \"#EBF0F8\"}, \"line\": {\"color\": \"white\"}}, \"header\": {\"fill\": {\"color\": \"#C8D4E3\"}, \"line\": {\"color\": \"white\"}}, \"type\": \"table\"}]}, \"layout\": {\"annotationdefaults\": {\"arrowcolor\": \"#2a3f5f\", \"arrowhead\": 0, \"arrowwidth\": 1}, \"autotypenumbers\": \"strict\", \"coloraxis\": {\"colorbar\": {\"outlinewidth\": 0, \"ticks\": \"\"}}, \"colorscale\": {\"diverging\": [[0, \"#8e0152\"], [0.1, \"#c51b7d\"], [0.2, \"#de77ae\"], [0.3, \"#f1b6da\"], [0.4, \"#fde0ef\"], [0.5, \"#f7f7f7\"], [0.6, \"#e6f5d0\"], [0.7, \"#b8e186\"], [0.8, \"#7fbc41\"], [0.9, \"#4d9221\"], [1, \"#276419\"]], \"sequential\": [[0.0, \"#0d0887\"], [0.1111111111111111, \"#46039f\"], [0.2222222222222222, \"#7201a8\"], [0.3333333333333333, \"#9c179e\"], [0.4444444444444444, \"#bd3786\"], [0.5555555555555556, \"#d8576b\"], [0.6666666666666666, \"#ed7953\"], [0.7777777777777778, \"#fb9f3a\"], [0.8888888888888888, \"#fdca26\"], [1.0, \"#f0f921\"]], \"sequentialminus\": [[0.0, \"#0d0887\"], [0.1111111111111111, \"#46039f\"], [0.2222222222222222, \"#7201a8\"], [0.3333333333333333, \"#9c179e\"], [0.4444444444444444, \"#bd3786\"], [0.5555555555555556, \"#d8576b\"], [0.6666666666666666, \"#ed7953\"], [0.7777777777777778, \"#fb9f3a\"], [0.8888888888888888, \"#fdca26\"], [1.0, \"#f0f921\"]]}, \"colorway\": [\"#636efa\", \"#EF553B\", \"#00cc96\", \"#ab63fa\", \"#FFA15A\", \"#19d3f3\", \"#FF6692\", \"#B6E880\", \"#FF97FF\", \"#FECB52\"], \"font\": {\"color\": \"#2a3f5f\"}, \"geo\": {\"bgcolor\": \"white\", \"lakecolor\": \"white\", \"landcolor\": \"#E5ECF6\", \"showlakes\": true, \"showland\": true, \"subunitcolor\": \"white\"}, \"hoverlabel\": {\"align\": \"left\"}, \"hovermode\": \"closest\", \"mapbox\": {\"style\": \"light\"}, \"paper_bgcolor\": \"white\", \"plot_bgcolor\": \"#E5ECF6\", \"polar\": {\"angularaxis\": {\"gridcolor\": \"white\", \"linecolor\": \"white\", \"ticks\": \"\"}, \"bgcolor\": \"#E5ECF6\", \"radialaxis\": {\"gridcolor\": \"white\", \"linecolor\": \"white\", \"ticks\": \"\"}}, \"scene\": {\"xaxis\": {\"backgroundcolor\": \"#E5ECF6\", \"gridcolor\": \"white\", \"gridwidth\": 2, \"linecolor\": \"white\", \"showbackground\": true, \"ticks\": \"\", \"zerolinecolor\": \"white\"}, \"yaxis\": {\"backgroundcolor\": \"#E5ECF6\", \"gridcolor\": \"white\", \"gridwidth\": 2, \"linecolor\": \"white\", \"showbackground\": true, \"ticks\": \"\", \"zerolinecolor\": \"white\"}, \"zaxis\": {\"backgroundcolor\": \"#E5ECF6\", \"gridcolor\": \"white\", \"gridwidth\": 2, \"linecolor\": \"white\", \"showbackground\": true, \"ticks\": \"\", \"zerolinecolor\": \"white\"}}, \"shapedefaults\": {\"line\": {\"color\": \"#2a3f5f\"}}, \"ternary\": {\"aaxis\": {\"gridcolor\": \"white\", \"linecolor\": \"white\", \"ticks\": \"\"}, \"baxis\": {\"gridcolor\": \"white\", \"linecolor\": \"white\", \"ticks\": \"\"}, \"bgcolor\": \"#E5ECF6\", \"caxis\": {\"gridcolor\": \"white\", \"linecolor\": \"white\", \"ticks\": \"\"}}, \"title\": {\"x\": 0.05}, \"xaxis\": {\"automargin\": true, \"gridcolor\": \"white\", \"linecolor\": \"white\", \"ticks\": \"\", \"title\": {\"standoff\": 15}, \"zerolinecolor\": \"white\", \"zerolinewidth\": 2}, \"yaxis\": {\"automargin\": true, \"gridcolor\": \"white\", \"linecolor\": \"white\", \"ticks\": \"\", \"title\": {\"standoff\": 15}, \"zerolinecolor\": \"white\", \"zerolinewidth\": 2}}}, \"title\": {\"font\": {\"color\": \"Purple\", \"family\": \"Times New Roman\"}, \"text\": \"Annual Household Income Mean By Races from 2013-2018 in California\"}, \"xaxis\": {\"title\": {\"text\": \"Race(s)\"}}, \"yaxis\": {\"title\": {\"text\": \"Annual Household Income\"}}},                        {\"responsive\": true}                    ).then(function(){\n",
       "                            \n",
       "var gd = document.getElementById('5aae5cd4-a87e-4fa5-8723-3379ec00d14f');\n",
       "var x = new MutationObserver(function (mutations, observer) {{\n",
       "        var display = window.getComputedStyle(gd).display;\n",
       "        if (!display || display === 'none') {{\n",
       "            console.log([gd, 'removed!']);\n",
       "            Plotly.purge(gd);\n",
       "            observer.disconnect();\n",
       "        }}\n",
       "}});\n",
       "\n",
       "// Listen for the removal of the full notebook cells\n",
       "var notebookContainer = gd.closest('#notebook-container');\n",
       "if (notebookContainer) {{\n",
       "    x.observe(notebookContainer, {childList: true});\n",
       "}}\n",
       "\n",
       "// Listen for the clearing of the current output cell\n",
       "var outputEl = gd.closest('.output');\n",
       "if (outputEl) {{\n",
       "    x.observe(outputEl, {childList: true});\n",
       "}}\n",
       "\n",
       "                        })                };                });            </script>        </div>"
      ]
     },
     "metadata": {},
     "output_type": "display_data"
    }
   ],
   "source": [
    "import plotly.express as px\n",
    "import plotly.graph_objects as go\n",
    "fig = go.Figure(data=[\n",
    "    go.Bar(name='2013', x=income['Race'], y=year[year['Year']==2013]['Household Income by Race']),\n",
    "    go.Bar(name='2014', x=income['Race'], y=year[year['Year']==2014]['Household Income by Race']),\n",
    "    go.Bar(name='2015', x=income['Race'], y=year[year['Year']==2015]['Household Income by Race']),\n",
    "    go.Bar(name='2016', x=income['Race'], y=year[year['Year']==2016]['Household Income by Race']),\n",
    "    go.Bar(name='2017', x=income['Race'], y=year[year['Year']==2017]['Household Income by Race']),\n",
    "    go.Bar(name='2018', x=income['Race'], y=year[year['Year']==2018]['Household Income by Race']),\n",
    "])\n",
    "\n",
    "fig.update_layout(\n",
    "    title=\"Annual Household Income Mean By Races from 2013-2018 in California\",\n",
    "    font_family=\"Courier New\",\n",
    "    font_color=\"gray\",\n",
    "    title_font_family=\"Times New Roman\",\n",
    "    title_font_color=\"Purple\",\n",
    "   legend_title_font_color=\"green\",\n",
    "    yaxis_title='Annual Household Income',\n",
    "    xaxis_title='Race(s)',\n",
    "    \n",
    ")\n",
    "# Change the bar mode\n",
    "fig.update_layout(barmode='group')\n",
    "fig.show()\n",
    "from plotly.io import write_html\n",
    "write_html(fig, \"IncomeRacesMean.html\")"
   ]
  },
  {
   "cell_type": "code",
   "execution_count": 18,
   "metadata": {},
   "outputs": [
    {
     "data": {
      "text/html": [
       "<div>\n",
       "<style scoped>\n",
       "    .dataframe tbody tr th:only-of-type {\n",
       "        vertical-align: middle;\n",
       "    }\n",
       "\n",
       "    .dataframe tbody tr th {\n",
       "        vertical-align: top;\n",
       "    }\n",
       "\n",
       "    .dataframe thead th {\n",
       "        text-align: right;\n",
       "    }\n",
       "</style>\n",
       "<table border=\"1\" class=\"dataframe\">\n",
       "  <thead>\n",
       "    <tr style=\"text-align: right;\">\n",
       "      <th></th>\n",
       "      <th>Place</th>\n",
       "      <th>County/ies[3][note 3]</th>\n",
       "      <th>Population[1]</th>\n",
       "      <th>White[1]</th>\n",
       "      <th>Other[1][note 1]</th>\n",
       "      <th>Asian[1]</th>\n",
       "      <th>Black or AfricanAmerican[1]</th>\n",
       "      <th>Native American[1][note 2]</th>\n",
       "      <th>Hispanic or Latino(of any race)[2]</th>\n",
       "    </tr>\n",
       "  </thead>\n",
       "  <tbody>\n",
       "    <tr>\n",
       "      <th>0</th>\n",
       "      <td>Acalanes Ridge</td>\n",
       "      <td>Contra Costa</td>\n",
       "      <td>1,431</td>\n",
       "      <td>71.6%</td>\n",
       "      <td>14.0%</td>\n",
       "      <td>11.8%</td>\n",
       "      <td>0.0%</td>\n",
       "      <td>2.6%</td>\n",
       "      <td>4.8%</td>\n",
       "    </tr>\n",
       "    <tr>\n",
       "      <th>1</th>\n",
       "      <td>Acampo</td>\n",
       "      <td>San Joaquin</td>\n",
       "      <td>387</td>\n",
       "      <td>100.0%</td>\n",
       "      <td>0.0%</td>\n",
       "      <td>0.0%</td>\n",
       "      <td>0.0%</td>\n",
       "      <td>0.0%</td>\n",
       "      <td>92.2%</td>\n",
       "    </tr>\n",
       "    <tr>\n",
       "      <th>2</th>\n",
       "      <td>Acton</td>\n",
       "      <td>Los Angeles</td>\n",
       "      <td>7,138</td>\n",
       "      <td>87.5%</td>\n",
       "      <td>10.9%</td>\n",
       "      <td>1.2%</td>\n",
       "      <td>0.2%</td>\n",
       "      <td>0.3%</td>\n",
       "      <td>15.8%</td>\n",
       "    </tr>\n",
       "    <tr>\n",
       "      <th>3</th>\n",
       "      <td>Adelanto</td>\n",
       "      <td>San Bernardino</td>\n",
       "      <td>30,670</td>\n",
       "      <td>55.5%</td>\n",
       "      <td>19.4%</td>\n",
       "      <td>2.4%</td>\n",
       "      <td>21.1%</td>\n",
       "      <td>1.5%</td>\n",
       "      <td>51.8%</td>\n",
       "    </tr>\n",
       "    <tr>\n",
       "      <th>4</th>\n",
       "      <td>Adin</td>\n",
       "      <td>Modoc</td>\n",
       "      <td>418</td>\n",
       "      <td>96.7%</td>\n",
       "      <td>0.0%</td>\n",
       "      <td>0.0%</td>\n",
       "      <td>0.0%</td>\n",
       "      <td>3.3%</td>\n",
       "      <td>2.2%</td>\n",
       "    </tr>\n",
       "  </tbody>\n",
       "</table>\n",
       "</div>"
      ],
      "text/plain": [
       "            Place County/ies[3][note 3] Population[1] White[1]  \\\n",
       "0  Acalanes Ridge          Contra Costa         1,431    71.6%   \n",
       "1          Acampo           San Joaquin           387   100.0%   \n",
       "2           Acton           Los Angeles         7,138    87.5%   \n",
       "3        Adelanto        San Bernardino        30,670    55.5%   \n",
       "4            Adin                 Modoc           418    96.7%   \n",
       "\n",
       "  Other[1][note 1] Asian[1] Black or AfricanAmerican[1]  \\\n",
       "0            14.0%    11.8%                        0.0%   \n",
       "1             0.0%     0.0%                        0.0%   \n",
       "2            10.9%     1.2%                        0.2%   \n",
       "3            19.4%     2.4%                       21.1%   \n",
       "4             0.0%     0.0%                        0.0%   \n",
       "\n",
       "  Native American[1][note 2] Hispanic or Latino(of any race)[2]  \n",
       "0                       2.6%                               4.8%  \n",
       "1                       0.0%                              92.2%  \n",
       "2                       0.3%                              15.8%  \n",
       "3                       1.5%                              51.8%  \n",
       "4                       3.3%                               2.2%  "
      ]
     },
     "execution_count": 18,
     "metadata": {},
     "output_type": "execute_result"
    }
   ],
   "source": [
    "cityrace=pd.read_csv('race_by_places.csv')\n",
    "cityrace.head()"
   ]
  },
  {
   "cell_type": "code",
   "execution_count": 19,
   "metadata": {},
   "outputs": [
    {
     "data": {
      "text/html": [
       "<div>\n",
       "<style scoped>\n",
       "    .dataframe tbody tr th:only-of-type {\n",
       "        vertical-align: middle;\n",
       "    }\n",
       "\n",
       "    .dataframe tbody tr th {\n",
       "        vertical-align: top;\n",
       "    }\n",
       "\n",
       "    .dataframe thead th {\n",
       "        text-align: right;\n",
       "    }\n",
       "</style>\n",
       "<table border=\"1\" class=\"dataframe\">\n",
       "  <thead>\n",
       "    <tr style=\"text-align: right;\">\n",
       "      <th></th>\n",
       "      <th>RegionID</th>\n",
       "      <th>SizeRank</th>\n",
       "      <th>RegionName</th>\n",
       "      <th>RegionType</th>\n",
       "      <th>StateName</th>\n",
       "      <th>State</th>\n",
       "      <th>Metro</th>\n",
       "      <th>CountyName</th>\n",
       "      <th>1996-01-31</th>\n",
       "      <th>1996-02-29</th>\n",
       "      <th>...</th>\n",
       "      <th>2020-06-30</th>\n",
       "      <th>2020-07-31</th>\n",
       "      <th>2020-08-31</th>\n",
       "      <th>2020-09-30</th>\n",
       "      <th>2020-10-31</th>\n",
       "      <th>2020-11-30</th>\n",
       "      <th>2020-12-31</th>\n",
       "      <th>2021-01-31</th>\n",
       "      <th>2021-02-28</th>\n",
       "      <th>2021-03-31</th>\n",
       "    </tr>\n",
       "  </thead>\n",
       "  <tbody>\n",
       "    <tr>\n",
       "      <th>1</th>\n",
       "      <td>12447</td>\n",
       "      <td>1</td>\n",
       "      <td>Los Angeles</td>\n",
       "      <td>City</td>\n",
       "      <td>CA</td>\n",
       "      <td>CA</td>\n",
       "      <td>Los Angeles-Long Beach-Anaheim</td>\n",
       "      <td>Los Angeles County</td>\n",
       "      <td>195863.0</td>\n",
       "      <td>195908.0</td>\n",
       "      <td>...</td>\n",
       "      <td>806355.0</td>\n",
       "      <td>813477.0</td>\n",
       "      <td>823456.0</td>\n",
       "      <td>834844.0</td>\n",
       "      <td>843226.0</td>\n",
       "      <td>850778.0</td>\n",
       "      <td>857116.0</td>\n",
       "      <td>863334.0</td>\n",
       "      <td>870550.0</td>\n",
       "      <td>878222.0</td>\n",
       "    </tr>\n",
       "    <tr>\n",
       "      <th>8</th>\n",
       "      <td>54296</td>\n",
       "      <td>8</td>\n",
       "      <td>San Diego</td>\n",
       "      <td>City</td>\n",
       "      <td>CA</td>\n",
       "      <td>CA</td>\n",
       "      <td>San Diego-Carlsbad</td>\n",
       "      <td>San Diego County</td>\n",
       "      <td>210754.0</td>\n",
       "      <td>210405.0</td>\n",
       "      <td>...</td>\n",
       "      <td>740653.0</td>\n",
       "      <td>745322.0</td>\n",
       "      <td>752642.0</td>\n",
       "      <td>763678.0</td>\n",
       "      <td>775903.0</td>\n",
       "      <td>788557.0</td>\n",
       "      <td>800956.0</td>\n",
       "      <td>813345.0</td>\n",
       "      <td>824797.0</td>\n",
       "      <td>836058.0</td>\n",
       "    </tr>\n",
       "    <tr>\n",
       "      <th>11</th>\n",
       "      <td>33839</td>\n",
       "      <td>11</td>\n",
       "      <td>San Jose</td>\n",
       "      <td>City</td>\n",
       "      <td>CA</td>\n",
       "      <td>CA</td>\n",
       "      <td>San Jose-Sunnyvale-Santa Clara</td>\n",
       "      <td>Santa Clara County</td>\n",
       "      <td>222015.0</td>\n",
       "      <td>221406.0</td>\n",
       "      <td>...</td>\n",
       "      <td>1115290.0</td>\n",
       "      <td>1128914.0</td>\n",
       "      <td>1149986.0</td>\n",
       "      <td>1165867.0</td>\n",
       "      <td>1184287.0</td>\n",
       "      <td>1197558.0</td>\n",
       "      <td>1212103.0</td>\n",
       "      <td>1220718.0</td>\n",
       "      <td>1226650.0</td>\n",
       "      <td>1229632.0</td>\n",
       "    </tr>\n",
       "    <tr>\n",
       "      <th>14</th>\n",
       "      <td>20330</td>\n",
       "      <td>14</td>\n",
       "      <td>San Francisco</td>\n",
       "      <td>City</td>\n",
       "      <td>CA</td>\n",
       "      <td>CA</td>\n",
       "      <td>San Francisco-Oakland-Hayward</td>\n",
       "      <td>San Francisco County</td>\n",
       "      <td>303478.0</td>\n",
       "      <td>302469.0</td>\n",
       "      <td>...</td>\n",
       "      <td>1511156.0</td>\n",
       "      <td>1503119.0</td>\n",
       "      <td>1504855.0</td>\n",
       "      <td>1511317.0</td>\n",
       "      <td>1509750.0</td>\n",
       "      <td>1508687.0</td>\n",
       "      <td>1504688.0</td>\n",
       "      <td>1508274.0</td>\n",
       "      <td>1509599.0</td>\n",
       "      <td>1516229.0</td>\n",
       "    </tr>\n",
       "    <tr>\n",
       "      <th>30</th>\n",
       "      <td>20288</td>\n",
       "      <td>30</td>\n",
       "      <td>Sacramento</td>\n",
       "      <td>City</td>\n",
       "      <td>CA</td>\n",
       "      <td>CA</td>\n",
       "      <td>Sacramento--Roseville--Arden-Arcade</td>\n",
       "      <td>Sacramento County</td>\n",
       "      <td>110933.0</td>\n",
       "      <td>110406.0</td>\n",
       "      <td>...</td>\n",
       "      <td>375663.0</td>\n",
       "      <td>378504.0</td>\n",
       "      <td>383128.0</td>\n",
       "      <td>388622.0</td>\n",
       "      <td>394561.0</td>\n",
       "      <td>399526.0</td>\n",
       "      <td>404714.0</td>\n",
       "      <td>409785.0</td>\n",
       "      <td>416296.0</td>\n",
       "      <td>422178.0</td>\n",
       "    </tr>\n",
       "  </tbody>\n",
       "</table>\n",
       "<p>5 rows × 311 columns</p>\n",
       "</div>"
      ],
      "text/plain": [
       "    RegionID  SizeRank     RegionName RegionType StateName State  \\\n",
       "1      12447         1    Los Angeles       City        CA    CA   \n",
       "8      54296         8      San Diego       City        CA    CA   \n",
       "11     33839        11       San Jose       City        CA    CA   \n",
       "14     20330        14  San Francisco       City        CA    CA   \n",
       "30     20288        30     Sacramento       City        CA    CA   \n",
       "\n",
       "                                  Metro            CountyName  1996-01-31  \\\n",
       "1        Los Angeles-Long Beach-Anaheim    Los Angeles County    195863.0   \n",
       "8                    San Diego-Carlsbad      San Diego County    210754.0   \n",
       "11       San Jose-Sunnyvale-Santa Clara    Santa Clara County    222015.0   \n",
       "14        San Francisco-Oakland-Hayward  San Francisco County    303478.0   \n",
       "30  Sacramento--Roseville--Arden-Arcade     Sacramento County    110933.0   \n",
       "\n",
       "    1996-02-29  ...  2020-06-30  2020-07-31  2020-08-31  2020-09-30  \\\n",
       "1     195908.0  ...    806355.0    813477.0    823456.0    834844.0   \n",
       "8     210405.0  ...    740653.0    745322.0    752642.0    763678.0   \n",
       "11    221406.0  ...   1115290.0   1128914.0   1149986.0   1165867.0   \n",
       "14    302469.0  ...   1511156.0   1503119.0   1504855.0   1511317.0   \n",
       "30    110406.0  ...    375663.0    378504.0    383128.0    388622.0   \n",
       "\n",
       "    2020-10-31  2020-11-30  2020-12-31  2021-01-31  2021-02-28  2021-03-31  \n",
       "1     843226.0    850778.0    857116.0    863334.0    870550.0    878222.0  \n",
       "8     775903.0    788557.0    800956.0    813345.0    824797.0    836058.0  \n",
       "11   1184287.0   1197558.0   1212103.0   1220718.0   1226650.0   1229632.0  \n",
       "14   1509750.0   1508687.0   1504688.0   1508274.0   1509599.0   1516229.0  \n",
       "30    394561.0    399526.0    404714.0    409785.0    416296.0    422178.0  \n",
       "\n",
       "[5 rows x 311 columns]"
      ]
     },
     "execution_count": 19,
     "metadata": {},
     "output_type": "execute_result"
    }
   ],
   "source": [
    "housing = pd.read_csv(\"city_housing.csv\")\n",
    "housing = housing[housing['State']==\"CA\"]\n",
    "housing.head()\n",
    "#rh = pd.merge(eth,housing,on=[''])"
   ]
  },
  {
   "cell_type": "code",
   "execution_count": 20,
   "metadata": {},
   "outputs": [
    {
     "data": {
      "text/html": [
       "<div>\n",
       "<style scoped>\n",
       "    .dataframe tbody tr th:only-of-type {\n",
       "        vertical-align: middle;\n",
       "    }\n",
       "\n",
       "    .dataframe tbody tr th {\n",
       "        vertical-align: top;\n",
       "    }\n",
       "\n",
       "    .dataframe thead th {\n",
       "        text-align: right;\n",
       "    }\n",
       "</style>\n",
       "<table border=\"1\" class=\"dataframe\">\n",
       "  <thead>\n",
       "    <tr style=\"text-align: right;\">\n",
       "      <th></th>\n",
       "      <th>Place</th>\n",
       "      <th>County/ies[3][note 3]</th>\n",
       "      <th>Population</th>\n",
       "      <th>White</th>\n",
       "      <th>other</th>\n",
       "      <th>Asian</th>\n",
       "      <th>Black or AfricanAmerican</th>\n",
       "      <th>Native American</th>\n",
       "      <th>Hispanic or Latino</th>\n",
       "      <th>RegionID</th>\n",
       "      <th>...</th>\n",
       "      <th>2020-06-30</th>\n",
       "      <th>2020-07-31</th>\n",
       "      <th>2020-08-31</th>\n",
       "      <th>2020-09-30</th>\n",
       "      <th>2020-10-31</th>\n",
       "      <th>2020-11-30</th>\n",
       "      <th>2020-12-31</th>\n",
       "      <th>2021-01-31</th>\n",
       "      <th>2021-02-28</th>\n",
       "      <th>2021-03-31</th>\n",
       "    </tr>\n",
       "  </thead>\n",
       "  <tbody>\n",
       "    <tr>\n",
       "      <th>0</th>\n",
       "      <td>Acampo</td>\n",
       "      <td>San Joaquin</td>\n",
       "      <td>387</td>\n",
       "      <td>100.0%</td>\n",
       "      <td>0.0%</td>\n",
       "      <td>0.0%</td>\n",
       "      <td>0.0%</td>\n",
       "      <td>0.0%</td>\n",
       "      <td>92.2%</td>\n",
       "      <td>43820</td>\n",
       "      <td>...</td>\n",
       "      <td>581730.0</td>\n",
       "      <td>589415.0</td>\n",
       "      <td>599056.0</td>\n",
       "      <td>612331.0</td>\n",
       "      <td>623832.0</td>\n",
       "      <td>636628.0</td>\n",
       "      <td>650524.0</td>\n",
       "      <td>665789.0</td>\n",
       "      <td>683425.0</td>\n",
       "      <td>698167.0</td>\n",
       "    </tr>\n",
       "    <tr>\n",
       "      <th>1</th>\n",
       "      <td>Acton</td>\n",
       "      <td>Los Angeles</td>\n",
       "      <td>7,138</td>\n",
       "      <td>87.5%</td>\n",
       "      <td>10.9%</td>\n",
       "      <td>1.2%</td>\n",
       "      <td>0.2%</td>\n",
       "      <td>0.3%</td>\n",
       "      <td>15.8%</td>\n",
       "      <td>16677</td>\n",
       "      <td>...</td>\n",
       "      <td>632247.0</td>\n",
       "      <td>637643.0</td>\n",
       "      <td>646304.0</td>\n",
       "      <td>657006.0</td>\n",
       "      <td>666522.0</td>\n",
       "      <td>675749.0</td>\n",
       "      <td>684526.0</td>\n",
       "      <td>692577.0</td>\n",
       "      <td>702135.0</td>\n",
       "      <td>711826.0</td>\n",
       "    </tr>\n",
       "    <tr>\n",
       "      <th>2</th>\n",
       "      <td>Adelanto</td>\n",
       "      <td>San Bernardino</td>\n",
       "      <td>30,670</td>\n",
       "      <td>55.5%</td>\n",
       "      <td>19.4%</td>\n",
       "      <td>2.4%</td>\n",
       "      <td>21.1%</td>\n",
       "      <td>1.5%</td>\n",
       "      <td>51.8%</td>\n",
       "      <td>16684</td>\n",
       "      <td>...</td>\n",
       "      <td>247796.0</td>\n",
       "      <td>249791.0</td>\n",
       "      <td>252874.0</td>\n",
       "      <td>256009.0</td>\n",
       "      <td>259219.0</td>\n",
       "      <td>262529.0</td>\n",
       "      <td>266591.0</td>\n",
       "      <td>270987.0</td>\n",
       "      <td>275475.0</td>\n",
       "      <td>279876.0</td>\n",
       "    </tr>\n",
       "    <tr>\n",
       "      <th>3</th>\n",
       "      <td>Adin</td>\n",
       "      <td>Modoc</td>\n",
       "      <td>418</td>\n",
       "      <td>96.7%</td>\n",
       "      <td>0.0%</td>\n",
       "      <td>0.0%</td>\n",
       "      <td>0.0%</td>\n",
       "      <td>3.3%</td>\n",
       "      <td>2.2%</td>\n",
       "      <td>23409</td>\n",
       "      <td>...</td>\n",
       "      <td>153860.0</td>\n",
       "      <td>154107.0</td>\n",
       "      <td>155257.0</td>\n",
       "      <td>156211.0</td>\n",
       "      <td>156798.0</td>\n",
       "      <td>157494.0</td>\n",
       "      <td>158154.0</td>\n",
       "      <td>158658.0</td>\n",
       "      <td>159056.0</td>\n",
       "      <td>159447.0</td>\n",
       "    </tr>\n",
       "    <tr>\n",
       "      <th>4</th>\n",
       "      <td>Agoura Hills</td>\n",
       "      <td>Los Angeles</td>\n",
       "      <td>20,353</td>\n",
       "      <td>83.1%</td>\n",
       "      <td>9.0%</td>\n",
       "      <td>6.4%</td>\n",
       "      <td>1.6%</td>\n",
       "      <td>0.0%</td>\n",
       "      <td>11.4%</td>\n",
       "      <td>9840</td>\n",
       "      <td>...</td>\n",
       "      <td>997646.0</td>\n",
       "      <td>1005876.0</td>\n",
       "      <td>1017141.0</td>\n",
       "      <td>1028938.0</td>\n",
       "      <td>1038420.0</td>\n",
       "      <td>1046614.0</td>\n",
       "      <td>1054375.0</td>\n",
       "      <td>1061815.0</td>\n",
       "      <td>1070372.0</td>\n",
       "      <td>1079057.0</td>\n",
       "    </tr>\n",
       "  </tbody>\n",
       "</table>\n",
       "<p>5 rows × 320 columns</p>\n",
       "</div>"
      ],
      "text/plain": [
       "          Place County/ies[3][note 3] Population   White  other Asian  \\\n",
       "0        Acampo           San Joaquin        387  100.0%   0.0%  0.0%   \n",
       "1         Acton           Los Angeles      7,138   87.5%  10.9%  1.2%   \n",
       "2      Adelanto        San Bernardino     30,670   55.5%  19.4%  2.4%   \n",
       "3          Adin                 Modoc        418   96.7%   0.0%  0.0%   \n",
       "4  Agoura Hills           Los Angeles     20,353   83.1%   9.0%  6.4%   \n",
       "\n",
       "  Black or AfricanAmerican Native American Hispanic or Latino  RegionID  ...  \\\n",
       "0                     0.0%            0.0%              92.2%     43820  ...   \n",
       "1                     0.2%            0.3%              15.8%     16677  ...   \n",
       "2                    21.1%            1.5%              51.8%     16684  ...   \n",
       "3                     0.0%            3.3%               2.2%     23409  ...   \n",
       "4                     1.6%            0.0%              11.4%      9840  ...   \n",
       "\n",
       "   2020-06-30 2020-07-31 2020-08-31 2020-09-30 2020-10-31 2020-11-30  \\\n",
       "0    581730.0   589415.0   599056.0   612331.0   623832.0   636628.0   \n",
       "1    632247.0   637643.0   646304.0   657006.0   666522.0   675749.0   \n",
       "2    247796.0   249791.0   252874.0   256009.0   259219.0   262529.0   \n",
       "3    153860.0   154107.0   155257.0   156211.0   156798.0   157494.0   \n",
       "4    997646.0  1005876.0  1017141.0  1028938.0  1038420.0  1046614.0   \n",
       "\n",
       "  2020-12-31  2021-01-31  2021-02-28  2021-03-31  \n",
       "0   650524.0    665789.0    683425.0    698167.0  \n",
       "1   684526.0    692577.0    702135.0    711826.0  \n",
       "2   266591.0    270987.0    275475.0    279876.0  \n",
       "3   158154.0    158658.0    159056.0    159447.0  \n",
       "4  1054375.0   1061815.0   1070372.0   1079057.0  \n",
       "\n",
       "[5 rows x 320 columns]"
      ]
     },
     "execution_count": 20,
     "metadata": {},
     "output_type": "execute_result"
    }
   ],
   "source": [
    "joint= pd.merge(cityrace,housing,how = \"inner\",left_on=[\"Place\"],right_on=[\"RegionName\"])\n",
    "joint.groupby(['Place']).head()\n",
    "joint = joint.rename(columns = {'White[1]':'White','Other[1][note 1]':'other',\n",
    "                                'Asian[1]':'Asian',\n",
    "                                'Black or AfricanAmerican[1]':'Black or AfricanAmerican',\n",
    "                                'Native American[1][note 2]':'Native American',\n",
    "                                'Hispanic or Latino(of any race)[2]':'Hispanic or Latino',\n",
    "                               'Population[1]':'Population'})\n",
    "joint.head()"
   ]
  },
  {
   "cell_type": "code",
   "execution_count": 21,
   "metadata": {},
   "outputs": [
    {
     "data": {
      "text/html": [
       "<div>\n",
       "<style scoped>\n",
       "    .dataframe tbody tr th:only-of-type {\n",
       "        vertical-align: middle;\n",
       "    }\n",
       "\n",
       "    .dataframe tbody tr th {\n",
       "        vertical-align: top;\n",
       "    }\n",
       "\n",
       "    .dataframe thead th {\n",
       "        text-align: right;\n",
       "    }\n",
       "</style>\n",
       "<table border=\"1\" class=\"dataframe\">\n",
       "  <thead>\n",
       "    <tr style=\"text-align: right;\">\n",
       "      <th></th>\n",
       "      <th>Place</th>\n",
       "      <th>County/ies[3][note 3]</th>\n",
       "      <th>Population</th>\n",
       "      <th>White</th>\n",
       "      <th>other</th>\n",
       "      <th>Asian</th>\n",
       "      <th>Black or AfricanAmerican</th>\n",
       "      <th>Native American</th>\n",
       "      <th>Hispanic or Latino</th>\n",
       "      <th>RegionID</th>\n",
       "      <th>...</th>\n",
       "      <th>2020-06-30</th>\n",
       "      <th>2020-07-31</th>\n",
       "      <th>2020-08-31</th>\n",
       "      <th>2020-09-30</th>\n",
       "      <th>2020-10-31</th>\n",
       "      <th>2020-11-30</th>\n",
       "      <th>2020-12-31</th>\n",
       "      <th>2021-01-31</th>\n",
       "      <th>2021-02-28</th>\n",
       "      <th>2021-03-31</th>\n",
       "    </tr>\n",
       "  </thead>\n",
       "  <tbody>\n",
       "    <tr>\n",
       "      <th>0</th>\n",
       "      <td>Acampo</td>\n",
       "      <td>San Joaquin</td>\n",
       "      <td>387.0</td>\n",
       "      <td>100.0</td>\n",
       "      <td>0.0</td>\n",
       "      <td>0.0</td>\n",
       "      <td>0.0</td>\n",
       "      <td>0.0</td>\n",
       "      <td>92.2</td>\n",
       "      <td>43820</td>\n",
       "      <td>...</td>\n",
       "      <td>581730.0</td>\n",
       "      <td>589415.0</td>\n",
       "      <td>599056.0</td>\n",
       "      <td>612331.0</td>\n",
       "      <td>623832.0</td>\n",
       "      <td>636628.0</td>\n",
       "      <td>650524.0</td>\n",
       "      <td>665789.0</td>\n",
       "      <td>683425.0</td>\n",
       "      <td>698167.0</td>\n",
       "    </tr>\n",
       "    <tr>\n",
       "      <th>1</th>\n",
       "      <td>Acton</td>\n",
       "      <td>Los Angeles</td>\n",
       "      <td>7138.0</td>\n",
       "      <td>87.5</td>\n",
       "      <td>10.9</td>\n",
       "      <td>1.2</td>\n",
       "      <td>0.2</td>\n",
       "      <td>0.3</td>\n",
       "      <td>15.8</td>\n",
       "      <td>16677</td>\n",
       "      <td>...</td>\n",
       "      <td>632247.0</td>\n",
       "      <td>637643.0</td>\n",
       "      <td>646304.0</td>\n",
       "      <td>657006.0</td>\n",
       "      <td>666522.0</td>\n",
       "      <td>675749.0</td>\n",
       "      <td>684526.0</td>\n",
       "      <td>692577.0</td>\n",
       "      <td>702135.0</td>\n",
       "      <td>711826.0</td>\n",
       "    </tr>\n",
       "    <tr>\n",
       "      <th>2</th>\n",
       "      <td>Adelanto</td>\n",
       "      <td>San Bernardino</td>\n",
       "      <td>30670.0</td>\n",
       "      <td>55.5</td>\n",
       "      <td>19.4</td>\n",
       "      <td>2.4</td>\n",
       "      <td>21.1</td>\n",
       "      <td>1.5</td>\n",
       "      <td>51.8</td>\n",
       "      <td>16684</td>\n",
       "      <td>...</td>\n",
       "      <td>247796.0</td>\n",
       "      <td>249791.0</td>\n",
       "      <td>252874.0</td>\n",
       "      <td>256009.0</td>\n",
       "      <td>259219.0</td>\n",
       "      <td>262529.0</td>\n",
       "      <td>266591.0</td>\n",
       "      <td>270987.0</td>\n",
       "      <td>275475.0</td>\n",
       "      <td>279876.0</td>\n",
       "    </tr>\n",
       "    <tr>\n",
       "      <th>3</th>\n",
       "      <td>Adin</td>\n",
       "      <td>Modoc</td>\n",
       "      <td>418.0</td>\n",
       "      <td>96.7</td>\n",
       "      <td>0.0</td>\n",
       "      <td>0.0</td>\n",
       "      <td>0.0</td>\n",
       "      <td>3.3</td>\n",
       "      <td>2.2</td>\n",
       "      <td>23409</td>\n",
       "      <td>...</td>\n",
       "      <td>153860.0</td>\n",
       "      <td>154107.0</td>\n",
       "      <td>155257.0</td>\n",
       "      <td>156211.0</td>\n",
       "      <td>156798.0</td>\n",
       "      <td>157494.0</td>\n",
       "      <td>158154.0</td>\n",
       "      <td>158658.0</td>\n",
       "      <td>159056.0</td>\n",
       "      <td>159447.0</td>\n",
       "    </tr>\n",
       "    <tr>\n",
       "      <th>4</th>\n",
       "      <td>Agoura Hills</td>\n",
       "      <td>Los Angeles</td>\n",
       "      <td>20353.0</td>\n",
       "      <td>83.1</td>\n",
       "      <td>9.0</td>\n",
       "      <td>6.4</td>\n",
       "      <td>1.6</td>\n",
       "      <td>0.0</td>\n",
       "      <td>11.4</td>\n",
       "      <td>9840</td>\n",
       "      <td>...</td>\n",
       "      <td>997646.0</td>\n",
       "      <td>1005876.0</td>\n",
       "      <td>1017141.0</td>\n",
       "      <td>1028938.0</td>\n",
       "      <td>1038420.0</td>\n",
       "      <td>1046614.0</td>\n",
       "      <td>1054375.0</td>\n",
       "      <td>1061815.0</td>\n",
       "      <td>1070372.0</td>\n",
       "      <td>1079057.0</td>\n",
       "    </tr>\n",
       "    <tr>\n",
       "      <th>...</th>\n",
       "      <td>...</td>\n",
       "      <td>...</td>\n",
       "      <td>...</td>\n",
       "      <td>...</td>\n",
       "      <td>...</td>\n",
       "      <td>...</td>\n",
       "      <td>...</td>\n",
       "      <td>...</td>\n",
       "      <td>...</td>\n",
       "      <td>...</td>\n",
       "      <td>...</td>\n",
       "      <td>...</td>\n",
       "      <td>...</td>\n",
       "      <td>...</td>\n",
       "      <td>...</td>\n",
       "      <td>...</td>\n",
       "      <td>...</td>\n",
       "      <td>...</td>\n",
       "      <td>...</td>\n",
       "      <td>...</td>\n",
       "      <td>...</td>\n",
       "    </tr>\n",
       "    <tr>\n",
       "      <th>946</th>\n",
       "      <td>Yountville</td>\n",
       "      <td>Napa</td>\n",
       "      <td>2943.0</td>\n",
       "      <td>91.8</td>\n",
       "      <td>4.2</td>\n",
       "      <td>1.6</td>\n",
       "      <td>1.9</td>\n",
       "      <td>0.5</td>\n",
       "      <td>12.8</td>\n",
       "      <td>55293</td>\n",
       "      <td>...</td>\n",
       "      <td>1205477.0</td>\n",
       "      <td>1213581.0</td>\n",
       "      <td>1218606.0</td>\n",
       "      <td>1225977.0</td>\n",
       "      <td>1237886.0</td>\n",
       "      <td>1254715.0</td>\n",
       "      <td>1270851.0</td>\n",
       "      <td>1281890.0</td>\n",
       "      <td>1291958.0</td>\n",
       "      <td>1296717.0</td>\n",
       "    </tr>\n",
       "    <tr>\n",
       "      <th>947</th>\n",
       "      <td>Yreka</td>\n",
       "      <td>Siskiyou</td>\n",
       "      <td>7696.0</td>\n",
       "      <td>84.6</td>\n",
       "      <td>8.9</td>\n",
       "      <td>1.9</td>\n",
       "      <td>1.3</td>\n",
       "      <td>3.4</td>\n",
       "      <td>10.3</td>\n",
       "      <td>55294</td>\n",
       "      <td>...</td>\n",
       "      <td>191453.0</td>\n",
       "      <td>192189.0</td>\n",
       "      <td>193114.0</td>\n",
       "      <td>194386.0</td>\n",
       "      <td>195188.0</td>\n",
       "      <td>196367.0</td>\n",
       "      <td>197586.0</td>\n",
       "      <td>198868.0</td>\n",
       "      <td>200709.0</td>\n",
       "      <td>202712.0</td>\n",
       "    </tr>\n",
       "    <tr>\n",
       "      <th>948</th>\n",
       "      <td>Yuba City</td>\n",
       "      <td>Sutter</td>\n",
       "      <td>64224.0</td>\n",
       "      <td>62.2</td>\n",
       "      <td>16.2</td>\n",
       "      <td>17.3</td>\n",
       "      <td>2.4</td>\n",
       "      <td>1.9</td>\n",
       "      <td>28.5</td>\n",
       "      <td>34940</td>\n",
       "      <td>...</td>\n",
       "      <td>349587.0</td>\n",
       "      <td>349809.0</td>\n",
       "      <td>350411.0</td>\n",
       "      <td>351747.0</td>\n",
       "      <td>353933.0</td>\n",
       "      <td>357033.0</td>\n",
       "      <td>361491.0</td>\n",
       "      <td>364431.0</td>\n",
       "      <td>368635.0</td>\n",
       "      <td>371501.0</td>\n",
       "    </tr>\n",
       "    <tr>\n",
       "      <th>949</th>\n",
       "      <td>Yucaipa</td>\n",
       "      <td>San Bernardino</td>\n",
       "      <td>50862.0</td>\n",
       "      <td>81.0</td>\n",
       "      <td>13.6</td>\n",
       "      <td>2.5</td>\n",
       "      <td>1.9</td>\n",
       "      <td>1.0</td>\n",
       "      <td>26.3</td>\n",
       "      <td>21417</td>\n",
       "      <td>...</td>\n",
       "      <td>405954.0</td>\n",
       "      <td>409298.0</td>\n",
       "      <td>413845.0</td>\n",
       "      <td>418053.0</td>\n",
       "      <td>422119.0</td>\n",
       "      <td>426727.0</td>\n",
       "      <td>432199.0</td>\n",
       "      <td>437663.0</td>\n",
       "      <td>443094.0</td>\n",
       "      <td>448778.0</td>\n",
       "    </tr>\n",
       "    <tr>\n",
       "      <th>950</th>\n",
       "      <td>Yucca Valley</td>\n",
       "      <td>San Bernardino</td>\n",
       "      <td>20508.0</td>\n",
       "      <td>82.7</td>\n",
       "      <td>11.0</td>\n",
       "      <td>2.6</td>\n",
       "      <td>2.4</td>\n",
       "      <td>1.4</td>\n",
       "      <td>14.1</td>\n",
       "      <td>28063</td>\n",
       "      <td>...</td>\n",
       "      <td>241461.0</td>\n",
       "      <td>243728.0</td>\n",
       "      <td>247016.0</td>\n",
       "      <td>249295.0</td>\n",
       "      <td>252360.0</td>\n",
       "      <td>256291.0</td>\n",
       "      <td>261436.0</td>\n",
       "      <td>266753.0</td>\n",
       "      <td>272400.0</td>\n",
       "      <td>278505.0</td>\n",
       "    </tr>\n",
       "  </tbody>\n",
       "</table>\n",
       "<p>951 rows × 320 columns</p>\n",
       "</div>"
      ],
      "text/plain": [
       "            Place County/ies[3][note 3]  Population  White  other  Asian  \\\n",
       "0          Acampo           San Joaquin       387.0  100.0    0.0    0.0   \n",
       "1           Acton           Los Angeles      7138.0   87.5   10.9    1.2   \n",
       "2        Adelanto        San Bernardino     30670.0   55.5   19.4    2.4   \n",
       "3            Adin                 Modoc       418.0   96.7    0.0    0.0   \n",
       "4    Agoura Hills           Los Angeles     20353.0   83.1    9.0    6.4   \n",
       "..            ...                   ...         ...    ...    ...    ...   \n",
       "946    Yountville                  Napa      2943.0   91.8    4.2    1.6   \n",
       "947         Yreka              Siskiyou      7696.0   84.6    8.9    1.9   \n",
       "948     Yuba City                Sutter     64224.0   62.2   16.2   17.3   \n",
       "949       Yucaipa        San Bernardino     50862.0   81.0   13.6    2.5   \n",
       "950  Yucca Valley        San Bernardino     20508.0   82.7   11.0    2.6   \n",
       "\n",
       "     Black or AfricanAmerican  Native American  Hispanic or Latino  RegionID  \\\n",
       "0                         0.0              0.0                92.2     43820   \n",
       "1                         0.2              0.3                15.8     16677   \n",
       "2                        21.1              1.5                51.8     16684   \n",
       "3                         0.0              3.3                 2.2     23409   \n",
       "4                         1.6              0.0                11.4      9840   \n",
       "..                        ...              ...                 ...       ...   \n",
       "946                       1.9              0.5                12.8     55293   \n",
       "947                       1.3              3.4                10.3     55294   \n",
       "948                       2.4              1.9                28.5     34940   \n",
       "949                       1.9              1.0                26.3     21417   \n",
       "950                       2.4              1.4                14.1     28063   \n",
       "\n",
       "     ...  2020-06-30 2020-07-31 2020-08-31 2020-09-30 2020-10-31 2020-11-30  \\\n",
       "0    ...    581730.0   589415.0   599056.0   612331.0   623832.0   636628.0   \n",
       "1    ...    632247.0   637643.0   646304.0   657006.0   666522.0   675749.0   \n",
       "2    ...    247796.0   249791.0   252874.0   256009.0   259219.0   262529.0   \n",
       "3    ...    153860.0   154107.0   155257.0   156211.0   156798.0   157494.0   \n",
       "4    ...    997646.0  1005876.0  1017141.0  1028938.0  1038420.0  1046614.0   \n",
       "..   ...         ...        ...        ...        ...        ...        ...   \n",
       "946  ...   1205477.0  1213581.0  1218606.0  1225977.0  1237886.0  1254715.0   \n",
       "947  ...    191453.0   192189.0   193114.0   194386.0   195188.0   196367.0   \n",
       "948  ...    349587.0   349809.0   350411.0   351747.0   353933.0   357033.0   \n",
       "949  ...    405954.0   409298.0   413845.0   418053.0   422119.0   426727.0   \n",
       "950  ...    241461.0   243728.0   247016.0   249295.0   252360.0   256291.0   \n",
       "\n",
       "    2020-12-31  2021-01-31  2021-02-28  2021-03-31  \n",
       "0     650524.0    665789.0    683425.0    698167.0  \n",
       "1     684526.0    692577.0    702135.0    711826.0  \n",
       "2     266591.0    270987.0    275475.0    279876.0  \n",
       "3     158154.0    158658.0    159056.0    159447.0  \n",
       "4    1054375.0   1061815.0   1070372.0   1079057.0  \n",
       "..         ...         ...         ...         ...  \n",
       "946  1270851.0   1281890.0   1291958.0   1296717.0  \n",
       "947   197586.0    198868.0    200709.0    202712.0  \n",
       "948   361491.0    364431.0    368635.0    371501.0  \n",
       "949   432199.0    437663.0    443094.0    448778.0  \n",
       "950   261436.0    266753.0    272400.0    278505.0  \n",
       "\n",
       "[951 rows x 320 columns]"
      ]
     },
     "execution_count": 21,
     "metadata": {},
     "output_type": "execute_result"
    }
   ],
   "source": [
    "joint[\"White\"]=joint[\"White\"].str.replace('[^\\d\\.]', '').astype(float)\n",
    "joint[\"other\"]=joint[\"other\"].str.replace('[^\\d\\.]', '').astype(float)\n",
    "joint[\"Asian\"]=joint[\"Asian\"].str.replace('[^\\d\\.]', '').astype(float)\n",
    "joint[\"Black or AfricanAmerican\"]=joint[\"Black or AfricanAmerican\"].str.replace('[^\\d\\.]', '').astype(float)\n",
    "joint[\"Native American\"]=joint[\"Native American\"].str.replace('[^\\d\\.]', '').astype(float)\n",
    "joint[\"Hispanic or Latino\"]=joint[\"Hispanic or Latino\"].str.replace('[^\\d\\.]', '').astype(float)\n",
    "joint[\"Population\"]=joint[\"Population\"].str.replace('[^\\d\\.]', '').astype(float)\n",
    "#joint[\"Population\"] = joint[\"Population\"].astype(float)\n",
    "\n",
    "joint\n",
    "\n"
   ]
  },
  {
   "cell_type": "code",
   "execution_count": 22,
   "metadata": {},
   "outputs": [
    {
     "data": {
      "application/vnd.plotly.v1+json": {
       "config": {
        "plotlyServerURL": "https://plot.ly"
       },
       "data": [
        {
         "hovertemplate": "City=View Park-Windsor Hills<br>date=%{x}<br>value=%{y}<extra></extra>",
         "legendgroup": "View Park-Windsor Hills",
         "line": {
          "color": "#636efa",
          "dash": "solid"
         },
         "mode": "lines",
         "name": "View Park-Windsor Hills",
         "showlegend": true,
         "type": "scattergl",
         "x": [
          "1996-01-31",
          "1996-02-29",
          "1996-03-31",
          "1996-04-30",
          "1996-05-31",
          "1996-06-30",
          "1996-07-31",
          "1996-08-31",
          "1996-09-30",
          "1996-10-31",
          "1996-11-30",
          "1996-12-31",
          "1997-01-31",
          "1997-02-28",
          "1997-03-31",
          "1997-04-30",
          "1997-05-31",
          "1997-06-30",
          "1997-07-31",
          "1997-08-31",
          "1997-09-30",
          "1997-10-31",
          "1997-11-30",
          "1997-12-31",
          "1998-01-31",
          "1998-02-28",
          "1998-03-31",
          "1998-04-30",
          "1998-05-31",
          "1998-06-30",
          "1998-07-31",
          "1998-08-31",
          "1998-09-30",
          "1998-10-31",
          "1998-11-30",
          "1998-12-31",
          "1999-01-31",
          "1999-02-28",
          "1999-03-31",
          "1999-04-30",
          "1999-05-31",
          "1999-06-30",
          "1999-07-31",
          "1999-08-31",
          "1999-09-30",
          "1999-10-31",
          "1999-11-30",
          "1999-12-31",
          "2000-01-31",
          "2000-02-29",
          "2000-03-31",
          "2000-04-30",
          "2000-05-31",
          "2000-06-30",
          "2000-07-31",
          "2000-08-31",
          "2000-09-30",
          "2000-10-31",
          "2000-11-30",
          "2000-12-31",
          "2001-01-31",
          "2001-02-28",
          "2001-03-31",
          "2001-04-30",
          "2001-05-31",
          "2001-06-30",
          "2001-07-31",
          "2001-08-31",
          "2001-09-30",
          "2001-10-31",
          "2001-11-30",
          "2001-12-31",
          "2002-01-31",
          "2002-02-28",
          "2002-03-31",
          "2002-04-30",
          "2002-05-31",
          "2002-06-30",
          "2002-07-31",
          "2002-08-31",
          "2002-09-30",
          "2002-10-31",
          "2002-11-30",
          "2002-12-31",
          "2003-01-31",
          "2003-02-28",
          "2003-03-31",
          "2003-04-30",
          "2003-05-31",
          "2003-06-30",
          "2003-07-31",
          "2003-08-31",
          "2003-09-30",
          "2003-10-31",
          "2003-11-30",
          "2003-12-31",
          "2004-01-31",
          "2004-02-29",
          "2004-03-31",
          "2004-04-30",
          "2004-05-31",
          "2004-06-30",
          "2004-07-31",
          "2004-08-31",
          "2004-09-30",
          "2004-10-31",
          "2004-11-30",
          "2004-12-31",
          "2005-01-31",
          "2005-02-28",
          "2005-03-31",
          "2005-04-30",
          "2005-05-31",
          "2005-06-30",
          "2005-07-31",
          "2005-08-31",
          "2005-09-30",
          "2005-10-31",
          "2005-11-30",
          "2005-12-31",
          "2006-01-31",
          "2006-02-28",
          "2006-03-31",
          "2006-04-30",
          "2006-05-31",
          "2006-06-30",
          "2006-07-31",
          "2006-08-31",
          "2006-09-30",
          "2006-10-31",
          "2006-11-30",
          "2006-12-31",
          "2007-01-31",
          "2007-02-28",
          "2007-03-31",
          "2007-04-30",
          "2007-05-31",
          "2007-06-30",
          "2007-07-31",
          "2007-08-31",
          "2007-09-30",
          "2007-10-31",
          "2007-11-30",
          "2007-12-31",
          "2008-01-31",
          "2008-02-29",
          "2008-03-31",
          "2008-04-30",
          "2008-05-31",
          "2008-06-30",
          "2008-07-31",
          "2008-08-31",
          "2008-09-30",
          "2008-10-31",
          "2008-11-30",
          "2008-12-31",
          "2009-01-31",
          "2009-02-28",
          "2009-03-31",
          "2009-04-30",
          "2009-05-31",
          "2009-06-30",
          "2009-07-31",
          "2009-08-31",
          "2009-09-30",
          "2009-10-31",
          "2009-11-30",
          "2009-12-31",
          "2010-01-31",
          "2010-02-28",
          "2010-03-31",
          "2010-04-30",
          "2010-05-31",
          "2010-06-30",
          "2010-07-31",
          "2010-08-31",
          "2010-09-30",
          "2010-10-31",
          "2010-11-30",
          "2010-12-31",
          "2011-01-31",
          "2011-02-28",
          "2011-03-31",
          "2011-04-30",
          "2011-05-31",
          "2011-06-30",
          "2011-07-31",
          "2011-08-31",
          "2011-09-30",
          "2011-10-31",
          "2011-11-30",
          "2011-12-31",
          "2012-01-31",
          "2012-02-29",
          "2012-03-31",
          "2012-04-30",
          "2012-05-31",
          "2012-06-30",
          "2012-07-31",
          "2012-08-31",
          "2012-09-30",
          "2012-10-31",
          "2012-11-30",
          "2012-12-31",
          "2013-01-31",
          "2013-02-28",
          "2013-03-31",
          "2013-04-30",
          "2013-05-31",
          "2013-06-30",
          "2013-07-31",
          "2013-08-31",
          "2013-09-30",
          "2013-10-31",
          "2013-11-30",
          "2013-12-31",
          "2014-01-31",
          "2014-02-28",
          "2014-03-31",
          "2014-04-30",
          "2014-05-31",
          "2014-06-30",
          "2014-07-31",
          "2014-08-31",
          "2014-09-30",
          "2014-10-31",
          "2014-11-30",
          "2014-12-31",
          "2015-01-31",
          "2015-02-28",
          "2015-03-31",
          "2015-04-30",
          "2015-05-31",
          "2015-06-30",
          "2015-07-31",
          "2015-08-31",
          "2015-09-30",
          "2015-10-31",
          "2015-11-30",
          "2015-12-31",
          "2016-01-31",
          "2016-02-29",
          "2016-03-31",
          "2016-04-30",
          "2016-05-31",
          "2016-06-30",
          "2016-07-31",
          "2016-08-31",
          "2016-09-30",
          "2016-10-31",
          "2016-11-30",
          "2016-12-31",
          "2017-01-31",
          "2017-02-28",
          "2017-03-31",
          "2017-04-30",
          "2017-05-31",
          "2017-06-30",
          "2017-07-31",
          "2017-08-31",
          "2017-09-30",
          "2017-10-31",
          "2017-11-30",
          "2017-12-31",
          "2018-01-31",
          "2018-02-28",
          "2018-03-31",
          "2018-04-30",
          "2018-05-31",
          "2018-06-30",
          "2018-07-31",
          "2018-08-31",
          "2018-09-30",
          "2018-10-31",
          "2018-11-30",
          "2018-12-31",
          "2019-01-31",
          "2019-02-28",
          "2019-03-31",
          "2019-04-30",
          "2019-05-31",
          "2019-06-30",
          "2019-07-31",
          "2019-08-31",
          "2019-09-30",
          "2019-10-31",
          "2019-11-30",
          "2019-12-31",
          "2020-01-31",
          "2020-02-29",
          "2020-03-31",
          "2020-04-30",
          "2020-05-31",
          "2020-06-30",
          "2020-07-31",
          "2020-08-31",
          "2020-09-30",
          "2020-10-31",
          "2020-11-30",
          "2020-12-31",
          "2021-01-31",
          "2021-02-28",
          "2021-03-31"
         ],
         "xaxis": "x",
         "y": [
          219613,
          220040,
          219785,
          220033,
          220630,
          221611,
          222998,
          223475,
          223605,
          223112,
          223345,
          223669,
          223867,
          223332,
          223716,
          224701,
          225152,
          225656,
          225361,
          226493,
          227636,
          229253,
          230006,
          231375,
          233034,
          235445,
          237663,
          238424,
          239842,
          240064,
          240826,
          241736,
          243814,
          247397,
          250857,
          253431,
          255742,
          258967,
          262367,
          266160,
          268832,
          272680,
          276925,
          280445,
          283539,
          284897,
          286579,
          287513,
          288985,
          289702,
          290383,
          291570,
          293153,
          294091,
          294178,
          294663,
          295819,
          297262,
          299332,
          302216,
          305595,
          307958,
          310427,
          312524,
          315349,
          318787,
          322247,
          325650,
          327612,
          330946,
          333748,
          336923,
          339138,
          343667,
          348286,
          354014,
          358771,
          364452,
          370441,
          375976,
          381937,
          387370,
          393766,
          399264,
          404507,
          407553,
          411376,
          414936,
          419647,
          422943,
          427595,
          434085,
          441140,
          447017,
          453943,
          462585,
          473253,
          484011,
          495497,
          506839,
          519423,
          531243,
          543318,
          554407,
          567207,
          579164,
          588559,
          597972,
          606100,
          618232,
          626742,
          636985,
          644239,
          655341,
          665423,
          674446,
          683444,
          695567,
          706106,
          713334,
          718263,
          721443,
          728374,
          732688,
          739816,
          742168,
          744755,
          747108,
          745252,
          742811,
          741726,
          744649,
          746617,
          745187,
          742589,
          742375,
          740954,
          739342,
          734711,
          727954,
          720508,
          711740,
          704546,
          693630,
          683349,
          671049,
          658286,
          642096,
          624944,
          608837,
          592814,
          579298,
          569278,
          557567,
          545182,
          532032,
          524380,
          519883,
          512626,
          505076,
          496591,
          492470,
          490097,
          491177,
          490395,
          492023,
          490216,
          489483,
          483084,
          478120,
          477167,
          478285,
          482296,
          479935,
          478031,
          472381,
          468081,
          463363,
          459919,
          458889,
          460237,
          460851,
          459636,
          456953,
          451764,
          449664,
          447696,
          446713,
          444843,
          442832,
          444082,
          443741,
          443864,
          441792,
          441044,
          442440,
          446539,
          451105,
          454350,
          456887,
          462396,
          469981,
          476271,
          482862,
          488076,
          498019,
          508013,
          519403,
          527898,
          537588,
          549516,
          565657,
          576198,
          582303,
          587571,
          593814,
          601363,
          603631,
          605704,
          604640,
          606227,
          605986,
          607813,
          602003,
          600811,
          601373,
          607177,
          610879,
          616612,
          625074,
          634014,
          641883,
          649704,
          657510,
          663098,
          671689,
          678870,
          687363,
          693203,
          703442,
          709447,
          715072,
          718100,
          725115,
          729849,
          735411,
          737771,
          743493,
          749061,
          755926,
          759448,
          760819,
          765530,
          769126,
          775004,
          778197,
          785792,
          791961,
          801292,
          808424,
          816137,
          821454,
          828889,
          836597,
          842587,
          850135,
          857990,
          867061,
          873909,
          881191,
          886553,
          890197,
          892755,
          897628,
          903834,
          907633,
          911920,
          911222,
          910621,
          913601,
          926943,
          942496,
          949592,
          950233,
          949296,
          953406,
          961947,
          974831,
          985937,
          995694,
          1005530,
          1014700,
          1017018,
          1017867,
          1026616,
          1042901,
          1061874,
          1076971,
          1087921,
          1097397,
          1109334,
          1126171,
          1144281
         ],
         "yaxis": "y"
        },
        {
         "hovertemplate": "City=Ladera Heights<br>date=%{x}<br>value=%{y}<extra></extra>",
         "legendgroup": "Ladera Heights",
         "line": {
          "color": "#EF553B",
          "dash": "solid"
         },
         "mode": "lines",
         "name": "Ladera Heights",
         "showlegend": true,
         "type": "scattergl",
         "x": [
          "1996-01-31",
          "1996-02-29",
          "1996-03-31",
          "1996-04-30",
          "1996-05-31",
          "1996-06-30",
          "1996-07-31",
          "1996-08-31",
          "1996-09-30",
          "1996-10-31",
          "1996-11-30",
          "1996-12-31",
          "1997-01-31",
          "1997-02-28",
          "1997-03-31",
          "1997-04-30",
          "1997-05-31",
          "1997-06-30",
          "1997-07-31",
          "1997-08-31",
          "1997-09-30",
          "1997-10-31",
          "1997-11-30",
          "1997-12-31",
          "1998-01-31",
          "1998-02-28",
          "1998-03-31",
          "1998-04-30",
          "1998-05-31",
          "1998-06-30",
          "1998-07-31",
          "1998-08-31",
          "1998-09-30",
          "1998-10-31",
          "1998-11-30",
          "1998-12-31",
          "1999-01-31",
          "1999-02-28",
          "1999-03-31",
          "1999-04-30",
          "1999-05-31",
          "1999-06-30",
          "1999-07-31",
          "1999-08-31",
          "1999-09-30",
          "1999-10-31",
          "1999-11-30",
          "1999-12-31",
          "2000-01-31",
          "2000-02-29",
          "2000-03-31",
          "2000-04-30",
          "2000-05-31",
          "2000-06-30",
          "2000-07-31",
          "2000-08-31",
          "2000-09-30",
          "2000-10-31",
          "2000-11-30",
          "2000-12-31",
          "2001-01-31",
          "2001-02-28",
          "2001-03-31",
          "2001-04-30",
          "2001-05-31",
          "2001-06-30",
          "2001-07-31",
          "2001-08-31",
          "2001-09-30",
          "2001-10-31",
          "2001-11-30",
          "2001-12-31",
          "2002-01-31",
          "2002-02-28",
          "2002-03-31",
          "2002-04-30",
          "2002-05-31",
          "2002-06-30",
          "2002-07-31",
          "2002-08-31",
          "2002-09-30",
          "2002-10-31",
          "2002-11-30",
          "2002-12-31",
          "2003-01-31",
          "2003-02-28",
          "2003-03-31",
          "2003-04-30",
          "2003-05-31",
          "2003-06-30",
          "2003-07-31",
          "2003-08-31",
          "2003-09-30",
          "2003-10-31",
          "2003-11-30",
          "2003-12-31",
          "2004-01-31",
          "2004-02-29",
          "2004-03-31",
          "2004-04-30",
          "2004-05-31",
          "2004-06-30",
          "2004-07-31",
          "2004-08-31",
          "2004-09-30",
          "2004-10-31",
          "2004-11-30",
          "2004-12-31",
          "2005-01-31",
          "2005-02-28",
          "2005-03-31",
          "2005-04-30",
          "2005-05-31",
          "2005-06-30",
          "2005-07-31",
          "2005-08-31",
          "2005-09-30",
          "2005-10-31",
          "2005-11-30",
          "2005-12-31",
          "2006-01-31",
          "2006-02-28",
          "2006-03-31",
          "2006-04-30",
          "2006-05-31",
          "2006-06-30",
          "2006-07-31",
          "2006-08-31",
          "2006-09-30",
          "2006-10-31",
          "2006-11-30",
          "2006-12-31",
          "2007-01-31",
          "2007-02-28",
          "2007-03-31",
          "2007-04-30",
          "2007-05-31",
          "2007-06-30",
          "2007-07-31",
          "2007-08-31",
          "2007-09-30",
          "2007-10-31",
          "2007-11-30",
          "2007-12-31",
          "2008-01-31",
          "2008-02-29",
          "2008-03-31",
          "2008-04-30",
          "2008-05-31",
          "2008-06-30",
          "2008-07-31",
          "2008-08-31",
          "2008-09-30",
          "2008-10-31",
          "2008-11-30",
          "2008-12-31",
          "2009-01-31",
          "2009-02-28",
          "2009-03-31",
          "2009-04-30",
          "2009-05-31",
          "2009-06-30",
          "2009-07-31",
          "2009-08-31",
          "2009-09-30",
          "2009-10-31",
          "2009-11-30",
          "2009-12-31",
          "2010-01-31",
          "2010-02-28",
          "2010-03-31",
          "2010-04-30",
          "2010-05-31",
          "2010-06-30",
          "2010-07-31",
          "2010-08-31",
          "2010-09-30",
          "2010-10-31",
          "2010-11-30",
          "2010-12-31",
          "2011-01-31",
          "2011-02-28",
          "2011-03-31",
          "2011-04-30",
          "2011-05-31",
          "2011-06-30",
          "2011-07-31",
          "2011-08-31",
          "2011-09-30",
          "2011-10-31",
          "2011-11-30",
          "2011-12-31",
          "2012-01-31",
          "2012-02-29",
          "2012-03-31",
          "2012-04-30",
          "2012-05-31",
          "2012-06-30",
          "2012-07-31",
          "2012-08-31",
          "2012-09-30",
          "2012-10-31",
          "2012-11-30",
          "2012-12-31",
          "2013-01-31",
          "2013-02-28",
          "2013-03-31",
          "2013-04-30",
          "2013-05-31",
          "2013-06-30",
          "2013-07-31",
          "2013-08-31",
          "2013-09-30",
          "2013-10-31",
          "2013-11-30",
          "2013-12-31",
          "2014-01-31",
          "2014-02-28",
          "2014-03-31",
          "2014-04-30",
          "2014-05-31",
          "2014-06-30",
          "2014-07-31",
          "2014-08-31",
          "2014-09-30",
          "2014-10-31",
          "2014-11-30",
          "2014-12-31",
          "2015-01-31",
          "2015-02-28",
          "2015-03-31",
          "2015-04-30",
          "2015-05-31",
          "2015-06-30",
          "2015-07-31",
          "2015-08-31",
          "2015-09-30",
          "2015-10-31",
          "2015-11-30",
          "2015-12-31",
          "2016-01-31",
          "2016-02-29",
          "2016-03-31",
          "2016-04-30",
          "2016-05-31",
          "2016-06-30",
          "2016-07-31",
          "2016-08-31",
          "2016-09-30",
          "2016-10-31",
          "2016-11-30",
          "2016-12-31",
          "2017-01-31",
          "2017-02-28",
          "2017-03-31",
          "2017-04-30",
          "2017-05-31",
          "2017-06-30",
          "2017-07-31",
          "2017-08-31",
          "2017-09-30",
          "2017-10-31",
          "2017-11-30",
          "2017-12-31",
          "2018-01-31",
          "2018-02-28",
          "2018-03-31",
          "2018-04-30",
          "2018-05-31",
          "2018-06-30",
          "2018-07-31",
          "2018-08-31",
          "2018-09-30",
          "2018-10-31",
          "2018-11-30",
          "2018-12-31",
          "2019-01-31",
          "2019-02-28",
          "2019-03-31",
          "2019-04-30",
          "2019-05-31",
          "2019-06-30",
          "2019-07-31",
          "2019-08-31",
          "2019-09-30",
          "2019-10-31",
          "2019-11-30",
          "2019-12-31",
          "2020-01-31",
          "2020-02-29",
          "2020-03-31",
          "2020-04-30",
          "2020-05-31",
          "2020-06-30",
          "2020-07-31",
          "2020-08-31",
          "2020-09-30",
          "2020-10-31",
          "2020-11-30",
          "2020-12-31",
          "2021-01-31",
          "2021-02-28",
          "2021-03-31"
         ],
         "xaxis": "x",
         "y": [
          288879,
          289267,
          289613,
          290601,
          292021,
          294024,
          295805,
          296997,
          298567,
          300663,
          302928,
          304478,
          305346,
          306580,
          308210,
          310402,
          312129,
          313361,
          315393,
          317967,
          319541,
          320092,
          320933,
          323621,
          327362,
          331247,
          334844,
          337455,
          340017,
          342061,
          343380,
          345689,
          349252,
          352997,
          356006,
          357568,
          359840,
          361560,
          363865,
          366226,
          368277,
          370630,
          373287,
          375735,
          377761,
          381637,
          385370,
          389647,
          392074,
          395196,
          397906,
          400694,
          405454,
          410811,
          416106,
          419267,
          422546,
          424154,
          428879,
          434171,
          440824,
          445066,
          449217,
          454240,
          457470,
          460657,
          463202,
          468048,
          472065,
          476834,
          478696,
          479683,
          480634,
          484267,
          489529,
          496325,
          503378,
          510267,
          515841,
          521085,
          526558,
          533371,
          541929,
          551508,
          559596,
          566135,
          572757,
          577623,
          583092,
          588042,
          598138,
          608430,
          618201,
          624717,
          632300,
          640367,
          651228,
          663167,
          674300,
          685639,
          697804,
          709793,
          718823,
          727388,
          740386,
          753670,
          764420,
          773161,
          780004,
          788224,
          795746,
          806547,
          814808,
          825637,
          835768,
          847695,
          857865,
          869906,
          878133,
          885019,
          893237,
          901829,
          913422,
          918213,
          928631,
          935756,
          943997,
          948461,
          946278,
          945963,
          947244,
          957032,
          960858,
          961834,
          957282,
          959001,
          958253,
          959361,
          957497,
          952914,
          946594,
          935431,
          928751,
          913688,
          901868,
          885999,
          873636,
          858962,
          839659,
          819736,
          799959,
          786276,
          781963,
          779036,
          771603,
          759059,
          749748,
          745831,
          739409,
          729261,
          720481,
          713368,
          709162,
          707301,
          703809,
          700921,
          700146,
          705919,
          707892,
          706626,
          707174,
          711126,
          719045,
          720875,
          720200,
          714132,
          707338,
          700977,
          693112,
          686370,
          681680,
          679938,
          678521,
          677446,
          671785,
          671712,
          672286,
          671631,
          668146,
          663313,
          664069,
          664212,
          664567,
          662837,
          660472,
          657860,
          657773,
          657544,
          658535,
          663604,
          672047,
          683479,
          689962,
          697715,
          703537,
          715641,
          728363,
          743878,
          755985,
          768935,
          781387,
          794453,
          803532,
          811557,
          819869,
          824165,
          827278,
          824154,
          824135,
          824007,
          829136,
          833871,
          843146,
          848458,
          855911,
          856866,
          860994,
          868285,
          884189,
          901665,
          915558,
          921375,
          928069,
          935347,
          941904,
          949850,
          956520,
          967360,
          976172,
          989241,
          993840,
          997449,
          1002500,
          1014867,
          1023822,
          1025586,
          1022194,
          1021236,
          1026241,
          1037317,
          1050892,
          1059005,
          1072149,
          1082617,
          1092914,
          1101170,
          1114993,
          1132317,
          1147151,
          1160254,
          1168707,
          1177269,
          1186023,
          1200471,
          1211468,
          1227267,
          1240153,
          1255022,
          1267218,
          1287304,
          1310247,
          1328815,
          1345079,
          1355621,
          1363077,
          1361036,
          1362682,
          1361992,
          1368144,
          1373473,
          1385442,
          1392930,
          1397507,
          1395701,
          1396295,
          1397710,
          1403115,
          1414288,
          1426875,
          1443110,
          1455443,
          1469492,
          1477286,
          1483409,
          1491533,
          1507777,
          1524361,
          1543138,
          1560113,
          1576051,
          1589494,
          1600303,
          1611858
         ],
         "yaxis": "y"
        },
        {
         "hovertemplate": "City=Westmont<br>date=%{x}<br>value=%{y}<extra></extra>",
         "legendgroup": "Westmont",
         "line": {
          "color": "#00cc96",
          "dash": "solid"
         },
         "mode": "lines",
         "name": "Westmont",
         "showlegend": true,
         "type": "scattergl",
         "x": [
          "1996-01-31",
          "1996-02-29",
          "1996-03-31",
          "1996-04-30",
          "1996-05-31",
          "1996-06-30",
          "1996-07-31",
          "1996-08-31",
          "1996-09-30",
          "1996-10-31",
          "1996-11-30",
          "1996-12-31",
          "1997-01-31",
          "1997-02-28",
          "1997-03-31",
          "1997-04-30",
          "1997-05-31",
          "1997-06-30",
          "1997-07-31",
          "1997-08-31",
          "1997-09-30",
          "1997-10-31",
          "1997-11-30",
          "1997-12-31",
          "1998-01-31",
          "1998-02-28",
          "1998-03-31",
          "1998-04-30",
          "1998-05-31",
          "1998-06-30",
          "1998-07-31",
          "1998-08-31",
          "1998-09-30",
          "1998-10-31",
          "1998-11-30",
          "1998-12-31",
          "1999-01-31",
          "1999-02-28",
          "1999-03-31",
          "1999-04-30",
          "1999-05-31",
          "1999-06-30",
          "1999-07-31",
          "1999-08-31",
          "1999-09-30",
          "1999-10-31",
          "1999-11-30",
          "1999-12-31",
          "2000-01-31",
          "2000-02-29",
          "2000-03-31",
          "2000-04-30",
          "2000-05-31",
          "2000-06-30",
          "2000-07-31",
          "2000-08-31",
          "2000-09-30",
          "2000-10-31",
          "2000-11-30",
          "2000-12-31",
          "2001-01-31",
          "2001-02-28",
          "2001-03-31",
          "2001-04-30",
          "2001-05-31",
          "2001-06-30",
          "2001-07-31",
          "2001-08-31",
          "2001-09-30",
          "2001-10-31",
          "2001-11-30",
          "2001-12-31",
          "2002-01-31",
          "2002-02-28",
          "2002-03-31",
          "2002-04-30",
          "2002-05-31",
          "2002-06-30",
          "2002-07-31",
          "2002-08-31",
          "2002-09-30",
          "2002-10-31",
          "2002-11-30",
          "2002-12-31",
          "2003-01-31",
          "2003-02-28",
          "2003-03-31",
          "2003-04-30",
          "2003-05-31",
          "2003-06-30",
          "2003-07-31",
          "2003-08-31",
          "2003-09-30",
          "2003-10-31",
          "2003-11-30",
          "2003-12-31",
          "2004-01-31",
          "2004-02-29",
          "2004-03-31",
          "2004-04-30",
          "2004-05-31",
          "2004-06-30",
          "2004-07-31",
          "2004-08-31",
          "2004-09-30",
          "2004-10-31",
          "2004-11-30",
          "2004-12-31",
          "2005-01-31",
          "2005-02-28",
          "2005-03-31",
          "2005-04-30",
          "2005-05-31",
          "2005-06-30",
          "2005-07-31",
          "2005-08-31",
          "2005-09-30",
          "2005-10-31",
          "2005-11-30",
          "2005-12-31",
          "2006-01-31",
          "2006-02-28",
          "2006-03-31",
          "2006-04-30",
          "2006-05-31",
          "2006-06-30",
          "2006-07-31",
          "2006-08-31",
          "2006-09-30",
          "2006-10-31",
          "2006-11-30",
          "2006-12-31",
          "2007-01-31",
          "2007-02-28",
          "2007-03-31",
          "2007-04-30",
          "2007-05-31",
          "2007-06-30",
          "2007-07-31",
          "2007-08-31",
          "2007-09-30",
          "2007-10-31",
          "2007-11-30",
          "2007-12-31",
          "2008-01-31",
          "2008-02-29",
          "2008-03-31",
          "2008-04-30",
          "2008-05-31",
          "2008-06-30",
          "2008-07-31",
          "2008-08-31",
          "2008-09-30",
          "2008-10-31",
          "2008-11-30",
          "2008-12-31",
          "2009-01-31",
          "2009-02-28",
          "2009-03-31",
          "2009-04-30",
          "2009-05-31",
          "2009-06-30",
          "2009-07-31",
          "2009-08-31",
          "2009-09-30",
          "2009-10-31",
          "2009-11-30",
          "2009-12-31",
          "2010-01-31",
          "2010-02-28",
          "2010-03-31",
          "2010-04-30",
          "2010-05-31",
          "2010-06-30",
          "2010-07-31",
          "2010-08-31",
          "2010-09-30",
          "2010-10-31",
          "2010-11-30",
          "2010-12-31",
          "2011-01-31",
          "2011-02-28",
          "2011-03-31",
          "2011-04-30",
          "2011-05-31",
          "2011-06-30",
          "2011-07-31",
          "2011-08-31",
          "2011-09-30",
          "2011-10-31",
          "2011-11-30",
          "2011-12-31",
          "2012-01-31",
          "2012-02-29",
          "2012-03-31",
          "2012-04-30",
          "2012-05-31",
          "2012-06-30",
          "2012-07-31",
          "2012-08-31",
          "2012-09-30",
          "2012-10-31",
          "2012-11-30",
          "2012-12-31",
          "2013-01-31",
          "2013-02-28",
          "2013-03-31",
          "2013-04-30",
          "2013-05-31",
          "2013-06-30",
          "2013-07-31",
          "2013-08-31",
          "2013-09-30",
          "2013-10-31",
          "2013-11-30",
          "2013-12-31",
          "2014-01-31",
          "2014-02-28",
          "2014-03-31",
          "2014-04-30",
          "2014-05-31",
          "2014-06-30",
          "2014-07-31",
          "2014-08-31",
          "2014-09-30",
          "2014-10-31",
          "2014-11-30",
          "2014-12-31",
          "2015-01-31",
          "2015-02-28",
          "2015-03-31",
          "2015-04-30",
          "2015-05-31",
          "2015-06-30",
          "2015-07-31",
          "2015-08-31",
          "2015-09-30",
          "2015-10-31",
          "2015-11-30",
          "2015-12-31",
          "2016-01-31",
          "2016-02-29",
          "2016-03-31",
          "2016-04-30",
          "2016-05-31",
          "2016-06-30",
          "2016-07-31",
          "2016-08-31",
          "2016-09-30",
          "2016-10-31",
          "2016-11-30",
          "2016-12-31",
          "2017-01-31",
          "2017-02-28",
          "2017-03-31",
          "2017-04-30",
          "2017-05-31",
          "2017-06-30",
          "2017-07-31",
          "2017-08-31",
          "2017-09-30",
          "2017-10-31",
          "2017-11-30",
          "2017-12-31",
          "2018-01-31",
          "2018-02-28",
          "2018-03-31",
          "2018-04-30",
          "2018-05-31",
          "2018-06-30",
          "2018-07-31",
          "2018-08-31",
          "2018-09-30",
          "2018-10-31",
          "2018-11-30",
          "2018-12-31",
          "2019-01-31",
          "2019-02-28",
          "2019-03-31",
          "2019-04-30",
          "2019-05-31",
          "2019-06-30",
          "2019-07-31",
          "2019-08-31",
          "2019-09-30",
          "2019-10-31",
          "2019-11-30",
          "2019-12-31",
          "2020-01-31",
          "2020-02-29",
          "2020-03-31",
          "2020-04-30",
          "2020-05-31",
          "2020-06-30",
          "2020-07-31",
          "2020-08-31",
          "2020-09-30",
          "2020-10-31",
          "2020-11-30",
          "2020-12-31",
          "2021-01-31",
          "2021-02-28",
          "2021-03-31"
         ],
         "xaxis": "x",
         "y": [
          125860,
          125567,
          125675,
          125673,
          125905,
          125924,
          125929,
          125736,
          125465,
          125327,
          125236,
          125148,
          124560,
          124255,
          123747,
          123717,
          123274,
          123395,
          123826,
          124720,
          125353,
          125665,
          125830,
          126175,
          127175,
          128277,
          129411,
          129840,
          130573,
          130697,
          130388,
          130024,
          130580,
          131269,
          132145,
          132722,
          133586,
          134316,
          134810,
          135549,
          136057,
          137021,
          137982,
          138370,
          138289,
          138873,
          139492,
          140277,
          140547,
          141018,
          141832,
          142475,
          143117,
          143766,
          144637,
          145957,
          147124,
          147560,
          148377,
          149158,
          150232,
          150974,
          151802,
          152974,
          154370,
          155631,
          156632,
          157663,
          158800,
          160620,
          161862,
          163379,
          164800,
          166870,
          168815,
          170886,
          172738,
          174711,
          176638,
          178468,
          180542,
          182581,
          185233,
          187677,
          189870,
          191652,
          193651,
          195680,
          197771,
          200086,
          204015,
          208483,
          212494,
          215484,
          219248,
          223751,
          229243,
          234144,
          239147,
          244393,
          251129,
          257696,
          262936,
          267763,
          274152,
          281219,
          287003,
          292307,
          297425,
          305170,
          312553,
          320238,
          326088,
          332587,
          339946,
          347636,
          355226,
          363502,
          371143,
          378066,
          384010,
          388265,
          393587,
          397809,
          403885,
          408965,
          413196,
          417115,
          418987,
          421667,
          423688,
          425851,
          425929,
          426250,
          426793,
          430005,
          430788,
          431682,
          431320,
          431586,
          431125,
          428418,
          425446,
          420599,
          415738,
          408340,
          398704,
          386395,
          374089,
          363043,
          351362,
          338214,
          324772,
          312035,
          300629,
          291035,
          285954,
          282669,
          278656,
          272637,
          266760,
          261325,
          257961,
          256491,
          256297,
          256108,
          256282,
          256587,
          253936,
          250636,
          249668,
          251368,
          255092,
          254791,
          254090,
          251389,
          250616,
          250159,
          249658,
          249320,
          249352,
          248884,
          247291,
          245605,
          242889,
          243737,
          243892,
          244702,
          243435,
          241950,
          241456,
          240197,
          240632,
          241443,
          242624,
          242720,
          242907,
          243313,
          244538,
          246420,
          248817,
          252304,
          255064,
          259377,
          261154,
          264730,
          268395,
          275029,
          280777,
          286084,
          290755,
          296211,
          301973,
          306271,
          309388,
          311375,
          314796,
          317062,
          318832,
          318985,
          319416,
          320026,
          322627,
          324170,
          324880,
          325229,
          327533,
          329784,
          332207,
          334271,
          337351,
          338986,
          341870,
          344519,
          346436,
          348000,
          349457,
          352333,
          355162,
          359138,
          362409,
          365715,
          368062,
          371699,
          374980,
          378362,
          379717,
          381713,
          385252,
          389884,
          392616,
          394655,
          398171,
          401924,
          406326,
          410132,
          414658,
          418785,
          424410,
          430176,
          435203,
          438888,
          444242,
          449668,
          454673,
          459936,
          465053,
          469589,
          472466,
          474598,
          476549,
          478883,
          481618,
          483810,
          485289,
          485760,
          485581,
          483716,
          481645,
          481839,
          486007,
          492233,
          495165,
          494585,
          493760,
          496167,
          501067,
          507642,
          514292,
          521461,
          527627,
          533379,
          536242,
          538718,
          543787,
          551687,
          559902,
          566249,
          570660,
          574332,
          578510,
          583362,
          589476
         ],
         "yaxis": "y"
        },
        {
         "hovertemplate": "City=West Athens<br>date=%{x}<br>value=%{y}<extra></extra>",
         "legendgroup": "West Athens",
         "line": {
          "color": "#ab63fa",
          "dash": "solid"
         },
         "mode": "lines",
         "name": "West Athens",
         "showlegend": true,
         "type": "scattergl",
         "x": [
          "1996-01-31",
          "1996-02-29",
          "1996-03-31",
          "1996-04-30",
          "1996-05-31",
          "1996-06-30",
          "1996-07-31",
          "1996-08-31",
          "1996-09-30",
          "1996-10-31",
          "1996-11-30",
          "1996-12-31",
          "1997-01-31",
          "1997-02-28",
          "1997-03-31",
          "1997-04-30",
          "1997-05-31",
          "1997-06-30",
          "1997-07-31",
          "1997-08-31",
          "1997-09-30",
          "1997-10-31",
          "1997-11-30",
          "1997-12-31",
          "1998-01-31",
          "1998-02-28",
          "1998-03-31",
          "1998-04-30",
          "1998-05-31",
          "1998-06-30",
          "1998-07-31",
          "1998-08-31",
          "1998-09-30",
          "1998-10-31",
          "1998-11-30",
          "1998-12-31",
          "1999-01-31",
          "1999-02-28",
          "1999-03-31",
          "1999-04-30",
          "1999-05-31",
          "1999-06-30",
          "1999-07-31",
          "1999-08-31",
          "1999-09-30",
          "1999-10-31",
          "1999-11-30",
          "1999-12-31",
          "2000-01-31",
          "2000-02-29",
          "2000-03-31",
          "2000-04-30",
          "2000-05-31",
          "2000-06-30",
          "2000-07-31",
          "2000-08-31",
          "2000-09-30",
          "2000-10-31",
          "2000-11-30",
          "2000-12-31",
          "2001-01-31",
          "2001-02-28",
          "2001-03-31",
          "2001-04-30",
          "2001-05-31",
          "2001-06-30",
          "2001-07-31",
          "2001-08-31",
          "2001-09-30",
          "2001-10-31",
          "2001-11-30",
          "2001-12-31",
          "2002-01-31",
          "2002-02-28",
          "2002-03-31",
          "2002-04-30",
          "2002-05-31",
          "2002-06-30",
          "2002-07-31",
          "2002-08-31",
          "2002-09-30",
          "2002-10-31",
          "2002-11-30",
          "2002-12-31",
          "2003-01-31",
          "2003-02-28",
          "2003-03-31",
          "2003-04-30",
          "2003-05-31",
          "2003-06-30",
          "2003-07-31",
          "2003-08-31",
          "2003-09-30",
          "2003-10-31",
          "2003-11-30",
          "2003-12-31",
          "2004-01-31",
          "2004-02-29",
          "2004-03-31",
          "2004-04-30",
          "2004-05-31",
          "2004-06-30",
          "2004-07-31",
          "2004-08-31",
          "2004-09-30",
          "2004-10-31",
          "2004-11-30",
          "2004-12-31",
          "2005-01-31",
          "2005-02-28",
          "2005-03-31",
          "2005-04-30",
          "2005-05-31",
          "2005-06-30",
          "2005-07-31",
          "2005-08-31",
          "2005-09-30",
          "2005-10-31",
          "2005-11-30",
          "2005-12-31",
          "2006-01-31",
          "2006-02-28",
          "2006-03-31",
          "2006-04-30",
          "2006-05-31",
          "2006-06-30",
          "2006-07-31",
          "2006-08-31",
          "2006-09-30",
          "2006-10-31",
          "2006-11-30",
          "2006-12-31",
          "2007-01-31",
          "2007-02-28",
          "2007-03-31",
          "2007-04-30",
          "2007-05-31",
          "2007-06-30",
          "2007-07-31",
          "2007-08-31",
          "2007-09-30",
          "2007-10-31",
          "2007-11-30",
          "2007-12-31",
          "2008-01-31",
          "2008-02-29",
          "2008-03-31",
          "2008-04-30",
          "2008-05-31",
          "2008-06-30",
          "2008-07-31",
          "2008-08-31",
          "2008-09-30",
          "2008-10-31",
          "2008-11-30",
          "2008-12-31",
          "2009-01-31",
          "2009-02-28",
          "2009-03-31",
          "2009-04-30",
          "2009-05-31",
          "2009-06-30",
          "2009-07-31",
          "2009-08-31",
          "2009-09-30",
          "2009-10-31",
          "2009-11-30",
          "2009-12-31",
          "2010-01-31",
          "2010-02-28",
          "2010-03-31",
          "2010-04-30",
          "2010-05-31",
          "2010-06-30",
          "2010-07-31",
          "2010-08-31",
          "2010-09-30",
          "2010-10-31",
          "2010-11-30",
          "2010-12-31",
          "2011-01-31",
          "2011-02-28",
          "2011-03-31",
          "2011-04-30",
          "2011-05-31",
          "2011-06-30",
          "2011-07-31",
          "2011-08-31",
          "2011-09-30",
          "2011-10-31",
          "2011-11-30",
          "2011-12-31",
          "2012-01-31",
          "2012-02-29",
          "2012-03-31",
          "2012-04-30",
          "2012-05-31",
          "2012-06-30",
          "2012-07-31",
          "2012-08-31",
          "2012-09-30",
          "2012-10-31",
          "2012-11-30",
          "2012-12-31",
          "2013-01-31",
          "2013-02-28",
          "2013-03-31",
          "2013-04-30",
          "2013-05-31",
          "2013-06-30",
          "2013-07-31",
          "2013-08-31",
          "2013-09-30",
          "2013-10-31",
          "2013-11-30",
          "2013-12-31",
          "2014-01-31",
          "2014-02-28",
          "2014-03-31",
          "2014-04-30",
          "2014-05-31",
          "2014-06-30",
          "2014-07-31",
          "2014-08-31",
          "2014-09-30",
          "2014-10-31",
          "2014-11-30",
          "2014-12-31",
          "2015-01-31",
          "2015-02-28",
          "2015-03-31",
          "2015-04-30",
          "2015-05-31",
          "2015-06-30",
          "2015-07-31",
          "2015-08-31",
          "2015-09-30",
          "2015-10-31",
          "2015-11-30",
          "2015-12-31",
          "2016-01-31",
          "2016-02-29",
          "2016-03-31",
          "2016-04-30",
          "2016-05-31",
          "2016-06-30",
          "2016-07-31",
          "2016-08-31",
          "2016-09-30",
          "2016-10-31",
          "2016-11-30",
          "2016-12-31",
          "2017-01-31",
          "2017-02-28",
          "2017-03-31",
          "2017-04-30",
          "2017-05-31",
          "2017-06-30",
          "2017-07-31",
          "2017-08-31",
          "2017-09-30",
          "2017-10-31",
          "2017-11-30",
          "2017-12-31",
          "2018-01-31",
          "2018-02-28",
          "2018-03-31",
          "2018-04-30",
          "2018-05-31",
          "2018-06-30",
          "2018-07-31",
          "2018-08-31",
          "2018-09-30",
          "2018-10-31",
          "2018-11-30",
          "2018-12-31",
          "2019-01-31",
          "2019-02-28",
          "2019-03-31",
          "2019-04-30",
          "2019-05-31",
          "2019-06-30",
          "2019-07-31",
          "2019-08-31",
          "2019-09-30",
          "2019-10-31",
          "2019-11-30",
          "2019-12-31",
          "2020-01-31",
          "2020-02-29",
          "2020-03-31",
          "2020-04-30",
          "2020-05-31",
          "2020-06-30",
          "2020-07-31",
          "2020-08-31",
          "2020-09-30",
          "2020-10-31",
          "2020-11-30",
          "2020-12-31",
          "2021-01-31",
          "2021-02-28",
          "2021-03-31"
         ],
         "xaxis": "x",
         "y": [
          159026,
          158799,
          158949,
          159407,
          160126,
          160486,
          160443,
          159825,
          159781,
          159820,
          160931,
          161335,
          161299,
          160818,
          160347,
          159827,
          158785,
          158410,
          158794,
          160452,
          161019,
          161404,
          159870,
          159780,
          160352,
          162225,
          163747,
          164681,
          165975,
          166645,
          166940,
          166691,
          167149,
          167800,
          169306,
          170326,
          170824,
          171115,
          171399,
          172342,
          173006,
          174329,
          175565,
          175901,
          175938,
          176159,
          176514,
          176076,
          176943,
          178048,
          179933,
          181134,
          182379,
          183412,
          184462,
          186543,
          188593,
          189862,
          191300,
          193544,
          195176,
          195920,
          196574,
          197572,
          198583,
          199755,
          200592,
          201507,
          201787,
          203512,
          204873,
          206801,
          208629,
          211166,
          212880,
          215197,
          218055,
          221172,
          224023,
          226303,
          229728,
          233393,
          238169,
          242476,
          246569,
          250445,
          255249,
          258908,
          261497,
          264207,
          269533,
          276074,
          281629,
          285568,
          288890,
          292818,
          297572,
          302262,
          307451,
          314822,
          324831,
          333977,
          340819,
          346721,
          354478,
          362283,
          370213,
          377022,
          383421,
          391956,
          399472,
          406691,
          411040,
          417509,
          425458,
          433627,
          441836,
          450140,
          457304,
          463751,
          470840,
          475588,
          482155,
          486993,
          494526,
          498718,
          502358,
          506156,
          508426,
          512786,
          516451,
          521562,
          522528,
          524017,
          523993,
          525463,
          523981,
          524831,
          524621,
          524639,
          521805,
          516500,
          510576,
          504197,
          497899,
          488010,
          474106,
          458897,
          444913,
          430685,
          414254,
          396785,
          380497,
          365809,
          351747,
          337682,
          327031,
          319998,
          314972,
          309383,
          302609,
          297692,
          295733,
          295488,
          295175,
          294367,
          294821,
          296909,
          298222,
          297846,
          298980,
          300211,
          303415,
          301592,
          299208,
          294616,
          293840,
          292737,
          292044,
          288833,
          285201,
          282018,
          279069,
          277392,
          274679,
          274727,
          273905,
          273856,
          271546,
          269608,
          268412,
          267755,
          268290,
          268359,
          268123,
          267273,
          266838,
          267475,
          269680,
          273210,
          276521,
          280341,
          282428,
          286358,
          288784,
          293784,
          297879,
          304452,
          310999,
          317344,
          322191,
          326750,
          331931,
          336825,
          341821,
          346156,
          351286,
          353686,
          356854,
          357316,
          359012,
          359914,
          362801,
          363697,
          363542,
          363423,
          364489,
          365052,
          366201,
          368184,
          371385,
          373894,
          375742,
          377649,
          378929,
          381964,
          385812,
          389984,
          394203,
          399278,
          403663,
          408586,
          411673,
          416177,
          419871,
          424794,
          429234,
          433296,
          437664,
          441520,
          444033,
          446283,
          449562,
          452681,
          455406,
          457894,
          461211,
          463592,
          466117,
          469643,
          472821,
          476233,
          480653,
          485240,
          489109,
          493144,
          498081,
          502098,
          505841,
          508527,
          510877,
          511281,
          512593,
          514699,
          517722,
          518812,
          520251,
          518591,
          516957,
          517293,
          521740,
          528013,
          531750,
          532806,
          532890,
          533148,
          535890,
          541389,
          546177,
          551665,
          557142,
          563171,
          565957,
          568022,
          572554,
          580364,
          588910,
          597201,
          603020,
          607825,
          613502,
          620703,
          628251
         ],
         "yaxis": "y"
        },
        {
         "hovertemplate": "City=Inglewood<br>date=%{x}<br>value=%{y}<extra></extra>",
         "legendgroup": "Inglewood",
         "line": {
          "color": "#FFA15A",
          "dash": "solid"
         },
         "mode": "lines",
         "name": "Inglewood",
         "showlegend": true,
         "type": "scattergl",
         "x": [
          "1996-01-31",
          "1996-02-29",
          "1996-03-31",
          "1996-04-30",
          "1996-05-31",
          "1996-06-30",
          "1996-07-31",
          "1996-08-31",
          "1996-09-30",
          "1996-10-31",
          "1996-11-30",
          "1996-12-31",
          "1997-01-31",
          "1997-02-28",
          "1997-03-31",
          "1997-04-30",
          "1997-05-31",
          "1997-06-30",
          "1997-07-31",
          "1997-08-31",
          "1997-09-30",
          "1997-10-31",
          "1997-11-30",
          "1997-12-31",
          "1998-01-31",
          "1998-02-28",
          "1998-03-31",
          "1998-04-30",
          "1998-05-31",
          "1998-06-30",
          "1998-07-31",
          "1998-08-31",
          "1998-09-30",
          "1998-10-31",
          "1998-11-30",
          "1998-12-31",
          "1999-01-31",
          "1999-02-28",
          "1999-03-31",
          "1999-04-30",
          "1999-05-31",
          "1999-06-30",
          "1999-07-31",
          "1999-08-31",
          "1999-09-30",
          "1999-10-31",
          "1999-11-30",
          "1999-12-31",
          "2000-01-31",
          "2000-02-29",
          "2000-03-31",
          "2000-04-30",
          "2000-05-31",
          "2000-06-30",
          "2000-07-31",
          "2000-08-31",
          "2000-09-30",
          "2000-10-31",
          "2000-11-30",
          "2000-12-31",
          "2001-01-31",
          "2001-02-28",
          "2001-03-31",
          "2001-04-30",
          "2001-05-31",
          "2001-06-30",
          "2001-07-31",
          "2001-08-31",
          "2001-09-30",
          "2001-10-31",
          "2001-11-30",
          "2001-12-31",
          "2002-01-31",
          "2002-02-28",
          "2002-03-31",
          "2002-04-30",
          "2002-05-31",
          "2002-06-30",
          "2002-07-31",
          "2002-08-31",
          "2002-09-30",
          "2002-10-31",
          "2002-11-30",
          "2002-12-31",
          "2003-01-31",
          "2003-02-28",
          "2003-03-31",
          "2003-04-30",
          "2003-05-31",
          "2003-06-30",
          "2003-07-31",
          "2003-08-31",
          "2003-09-30",
          "2003-10-31",
          "2003-11-30",
          "2003-12-31",
          "2004-01-31",
          "2004-02-29",
          "2004-03-31",
          "2004-04-30",
          "2004-05-31",
          "2004-06-30",
          "2004-07-31",
          "2004-08-31",
          "2004-09-30",
          "2004-10-31",
          "2004-11-30",
          "2004-12-31",
          "2005-01-31",
          "2005-02-28",
          "2005-03-31",
          "2005-04-30",
          "2005-05-31",
          "2005-06-30",
          "2005-07-31",
          "2005-08-31",
          "2005-09-30",
          "2005-10-31",
          "2005-11-30",
          "2005-12-31",
          "2006-01-31",
          "2006-02-28",
          "2006-03-31",
          "2006-04-30",
          "2006-05-31",
          "2006-06-30",
          "2006-07-31",
          "2006-08-31",
          "2006-09-30",
          "2006-10-31",
          "2006-11-30",
          "2006-12-31",
          "2007-01-31",
          "2007-02-28",
          "2007-03-31",
          "2007-04-30",
          "2007-05-31",
          "2007-06-30",
          "2007-07-31",
          "2007-08-31",
          "2007-09-30",
          "2007-10-31",
          "2007-11-30",
          "2007-12-31",
          "2008-01-31",
          "2008-02-29",
          "2008-03-31",
          "2008-04-30",
          "2008-05-31",
          "2008-06-30",
          "2008-07-31",
          "2008-08-31",
          "2008-09-30",
          "2008-10-31",
          "2008-11-30",
          "2008-12-31",
          "2009-01-31",
          "2009-02-28",
          "2009-03-31",
          "2009-04-30",
          "2009-05-31",
          "2009-06-30",
          "2009-07-31",
          "2009-08-31",
          "2009-09-30",
          "2009-10-31",
          "2009-11-30",
          "2009-12-31",
          "2010-01-31",
          "2010-02-28",
          "2010-03-31",
          "2010-04-30",
          "2010-05-31",
          "2010-06-30",
          "2010-07-31",
          "2010-08-31",
          "2010-09-30",
          "2010-10-31",
          "2010-11-30",
          "2010-12-31",
          "2011-01-31",
          "2011-02-28",
          "2011-03-31",
          "2011-04-30",
          "2011-05-31",
          "2011-06-30",
          "2011-07-31",
          "2011-08-31",
          "2011-09-30",
          "2011-10-31",
          "2011-11-30",
          "2011-12-31",
          "2012-01-31",
          "2012-02-29",
          "2012-03-31",
          "2012-04-30",
          "2012-05-31",
          "2012-06-30",
          "2012-07-31",
          "2012-08-31",
          "2012-09-30",
          "2012-10-31",
          "2012-11-30",
          "2012-12-31",
          "2013-01-31",
          "2013-02-28",
          "2013-03-31",
          "2013-04-30",
          "2013-05-31",
          "2013-06-30",
          "2013-07-31",
          "2013-08-31",
          "2013-09-30",
          "2013-10-31",
          "2013-11-30",
          "2013-12-31",
          "2014-01-31",
          "2014-02-28",
          "2014-03-31",
          "2014-04-30",
          "2014-05-31",
          "2014-06-30",
          "2014-07-31",
          "2014-08-31",
          "2014-09-30",
          "2014-10-31",
          "2014-11-30",
          "2014-12-31",
          "2015-01-31",
          "2015-02-28",
          "2015-03-31",
          "2015-04-30",
          "2015-05-31",
          "2015-06-30",
          "2015-07-31",
          "2015-08-31",
          "2015-09-30",
          "2015-10-31",
          "2015-11-30",
          "2015-12-31",
          "2016-01-31",
          "2016-02-29",
          "2016-03-31",
          "2016-04-30",
          "2016-05-31",
          "2016-06-30",
          "2016-07-31",
          "2016-08-31",
          "2016-09-30",
          "2016-10-31",
          "2016-11-30",
          "2016-12-31",
          "2017-01-31",
          "2017-02-28",
          "2017-03-31",
          "2017-04-30",
          "2017-05-31",
          "2017-06-30",
          "2017-07-31",
          "2017-08-31",
          "2017-09-30",
          "2017-10-31",
          "2017-11-30",
          "2017-12-31",
          "2018-01-31",
          "2018-02-28",
          "2018-03-31",
          "2018-04-30",
          "2018-05-31",
          "2018-06-30",
          "2018-07-31",
          "2018-08-31",
          "2018-09-30",
          "2018-10-31",
          "2018-11-30",
          "2018-12-31",
          "2019-01-31",
          "2019-02-28",
          "2019-03-31",
          "2019-04-30",
          "2019-05-31",
          "2019-06-30",
          "2019-07-31",
          "2019-08-31",
          "2019-09-30",
          "2019-10-31",
          "2019-11-30",
          "2019-12-31",
          "2020-01-31",
          "2020-02-29",
          "2020-03-31",
          "2020-04-30",
          "2020-05-31",
          "2020-06-30",
          "2020-07-31",
          "2020-08-31",
          "2020-09-30",
          "2020-10-31",
          "2020-11-30",
          "2020-12-31",
          "2021-01-31",
          "2021-02-28",
          "2021-03-31"
         ],
         "xaxis": "x",
         "y": [
          157821,
          157943,
          157953,
          158136,
          158257,
          158433,
          158588,
          158661,
          158786,
          158646,
          158574,
          158194,
          157540,
          156610,
          156070,
          155812,
          155744,
          155655,
          155957,
          156434,
          156672,
          157131,
          157400,
          158407,
          159484,
          161246,
          162513,
          163471,
          164206,
          164568,
          164237,
          164040,
          164475,
          165310,
          166279,
          166838,
          168050,
          168954,
          170055,
          170883,
          171740,
          173368,
          175323,
          176808,
          177691,
          178416,
          179478,
          180325,
          181099,
          181770,
          182799,
          183888,
          185206,
          186305,
          187442,
          188882,
          190361,
          191649,
          192907,
          194598,
          196091,
          197575,
          198992,
          200800,
          202515,
          204088,
          205309,
          206645,
          208159,
          210538,
          212800,
          214928,
          216904,
          219297,
          222034,
          224976,
          227738,
          231067,
          234879,
          238727,
          242529,
          246156,
          250544,
          255041,
          259411,
          263294,
          267001,
          270122,
          273615,
          276801,
          281259,
          286188,
          290802,
          294286,
          298336,
          303247,
          309758,
          316204,
          323129,
          331443,
          341363,
          350932,
          359209,
          366827,
          376651,
          386913,
          395419,
          402901,
          408758,
          416730,
          424125,
          431912,
          437393,
          443796,
          451301,
          459550,
          467709,
          476241,
          483923,
          490805,
          497851,
          503625,
          509963,
          514046,
          520460,
          526208,
          531115,
          535035,
          535835,
          537874,
          540188,
          543536,
          544458,
          543816,
          542927,
          543891,
          542899,
          541527,
          538487,
          535207,
          530646,
          523743,
          517783,
          511039,
          504581,
          494855,
          482217,
          467716,
          453185,
          439682,
          425287,
          410475,
          397698,
          385506,
          372249,
          357843,
          347367,
          342146,
          337525,
          332415,
          326251,
          321294,
          317670,
          316454,
          314564,
          313202,
          312427,
          313193,
          311797,
          307815,
          306969,
          306674,
          308707,
          306271,
          304829,
          301761,
          300729,
          299997,
          299257,
          298693,
          297770,
          297421,
          294963,
          293241,
          290109,
          290600,
          290334,
          290291,
          288913,
          286716,
          286177,
          285210,
          285596,
          285712,
          286263,
          286389,
          287904,
          288743,
          290494,
          291804,
          294584,
          298602,
          302048,
          306734,
          310493,
          316430,
          321948,
          329061,
          334143,
          340723,
          346744,
          354433,
          359881,
          364260,
          367446,
          369319,
          371272,
          370850,
          371750,
          372088,
          373940,
          374599,
          375896,
          375745,
          375897,
          376100,
          378487,
          381277,
          385011,
          389683,
          394504,
          397283,
          400279,
          402936,
          405833,
          408888,
          412388,
          416775,
          420092,
          424903,
          428262,
          431768,
          433141,
          437652,
          441297,
          446146,
          449120,
          453465,
          459457,
          465964,
          471698,
          476743,
          483403,
          489144,
          495727,
          500391,
          507459,
          513138,
          520064,
          526351,
          531592,
          535899,
          541310,
          546540,
          551283,
          556970,
          563751,
          569963,
          573903,
          577693,
          582200,
          585399,
          587540,
          588893,
          590513,
          590439,
          589822,
          586864,
          584419,
          584257,
          588593,
          594365,
          595439,
          594084,
          592724,
          594347,
          597750,
          603954,
          610642,
          617734,
          623613,
          629786,
          633177,
          636041,
          642417,
          651936,
          662632,
          672016,
          679921,
          686868,
          694280,
          703109,
          713210
         ],
         "yaxis": "y"
        }
       ],
       "layout": {
        "font": {
         "color": "gray",
         "family": "Courier New"
        },
        "legend": {
         "title": {
          "text": "City"
         },
         "tracegroupgap": 0
        },
        "margin": {
         "t": 60
        },
        "template": {
         "data": {
          "bar": [
           {
            "error_x": {
             "color": "#2a3f5f"
            },
            "error_y": {
             "color": "#2a3f5f"
            },
            "marker": {
             "line": {
              "color": "#E5ECF6",
              "width": 0.5
             }
            },
            "type": "bar"
           }
          ],
          "barpolar": [
           {
            "marker": {
             "line": {
              "color": "#E5ECF6",
              "width": 0.5
             }
            },
            "type": "barpolar"
           }
          ],
          "carpet": [
           {
            "aaxis": {
             "endlinecolor": "#2a3f5f",
             "gridcolor": "white",
             "linecolor": "white",
             "minorgridcolor": "white",
             "startlinecolor": "#2a3f5f"
            },
            "baxis": {
             "endlinecolor": "#2a3f5f",
             "gridcolor": "white",
             "linecolor": "white",
             "minorgridcolor": "white",
             "startlinecolor": "#2a3f5f"
            },
            "type": "carpet"
           }
          ],
          "choropleth": [
           {
            "colorbar": {
             "outlinewidth": 0,
             "ticks": ""
            },
            "type": "choropleth"
           }
          ],
          "contour": [
           {
            "colorbar": {
             "outlinewidth": 0,
             "ticks": ""
            },
            "colorscale": [
             [
              0,
              "#0d0887"
             ],
             [
              0.1111111111111111,
              "#46039f"
             ],
             [
              0.2222222222222222,
              "#7201a8"
             ],
             [
              0.3333333333333333,
              "#9c179e"
             ],
             [
              0.4444444444444444,
              "#bd3786"
             ],
             [
              0.5555555555555556,
              "#d8576b"
             ],
             [
              0.6666666666666666,
              "#ed7953"
             ],
             [
              0.7777777777777778,
              "#fb9f3a"
             ],
             [
              0.8888888888888888,
              "#fdca26"
             ],
             [
              1,
              "#f0f921"
             ]
            ],
            "type": "contour"
           }
          ],
          "contourcarpet": [
           {
            "colorbar": {
             "outlinewidth": 0,
             "ticks": ""
            },
            "type": "contourcarpet"
           }
          ],
          "heatmap": [
           {
            "colorbar": {
             "outlinewidth": 0,
             "ticks": ""
            },
            "colorscale": [
             [
              0,
              "#0d0887"
             ],
             [
              0.1111111111111111,
              "#46039f"
             ],
             [
              0.2222222222222222,
              "#7201a8"
             ],
             [
              0.3333333333333333,
              "#9c179e"
             ],
             [
              0.4444444444444444,
              "#bd3786"
             ],
             [
              0.5555555555555556,
              "#d8576b"
             ],
             [
              0.6666666666666666,
              "#ed7953"
             ],
             [
              0.7777777777777778,
              "#fb9f3a"
             ],
             [
              0.8888888888888888,
              "#fdca26"
             ],
             [
              1,
              "#f0f921"
             ]
            ],
            "type": "heatmap"
           }
          ],
          "heatmapgl": [
           {
            "colorbar": {
             "outlinewidth": 0,
             "ticks": ""
            },
            "colorscale": [
             [
              0,
              "#0d0887"
             ],
             [
              0.1111111111111111,
              "#46039f"
             ],
             [
              0.2222222222222222,
              "#7201a8"
             ],
             [
              0.3333333333333333,
              "#9c179e"
             ],
             [
              0.4444444444444444,
              "#bd3786"
             ],
             [
              0.5555555555555556,
              "#d8576b"
             ],
             [
              0.6666666666666666,
              "#ed7953"
             ],
             [
              0.7777777777777778,
              "#fb9f3a"
             ],
             [
              0.8888888888888888,
              "#fdca26"
             ],
             [
              1,
              "#f0f921"
             ]
            ],
            "type": "heatmapgl"
           }
          ],
          "histogram": [
           {
            "marker": {
             "colorbar": {
              "outlinewidth": 0,
              "ticks": ""
             }
            },
            "type": "histogram"
           }
          ],
          "histogram2d": [
           {
            "colorbar": {
             "outlinewidth": 0,
             "ticks": ""
            },
            "colorscale": [
             [
              0,
              "#0d0887"
             ],
             [
              0.1111111111111111,
              "#46039f"
             ],
             [
              0.2222222222222222,
              "#7201a8"
             ],
             [
              0.3333333333333333,
              "#9c179e"
             ],
             [
              0.4444444444444444,
              "#bd3786"
             ],
             [
              0.5555555555555556,
              "#d8576b"
             ],
             [
              0.6666666666666666,
              "#ed7953"
             ],
             [
              0.7777777777777778,
              "#fb9f3a"
             ],
             [
              0.8888888888888888,
              "#fdca26"
             ],
             [
              1,
              "#f0f921"
             ]
            ],
            "type": "histogram2d"
           }
          ],
          "histogram2dcontour": [
           {
            "colorbar": {
             "outlinewidth": 0,
             "ticks": ""
            },
            "colorscale": [
             [
              0,
              "#0d0887"
             ],
             [
              0.1111111111111111,
              "#46039f"
             ],
             [
              0.2222222222222222,
              "#7201a8"
             ],
             [
              0.3333333333333333,
              "#9c179e"
             ],
             [
              0.4444444444444444,
              "#bd3786"
             ],
             [
              0.5555555555555556,
              "#d8576b"
             ],
             [
              0.6666666666666666,
              "#ed7953"
             ],
             [
              0.7777777777777778,
              "#fb9f3a"
             ],
             [
              0.8888888888888888,
              "#fdca26"
             ],
             [
              1,
              "#f0f921"
             ]
            ],
            "type": "histogram2dcontour"
           }
          ],
          "mesh3d": [
           {
            "colorbar": {
             "outlinewidth": 0,
             "ticks": ""
            },
            "type": "mesh3d"
           }
          ],
          "parcoords": [
           {
            "line": {
             "colorbar": {
              "outlinewidth": 0,
              "ticks": ""
             }
            },
            "type": "parcoords"
           }
          ],
          "pie": [
           {
            "automargin": true,
            "type": "pie"
           }
          ],
          "scatter": [
           {
            "marker": {
             "colorbar": {
              "outlinewidth": 0,
              "ticks": ""
             }
            },
            "type": "scatter"
           }
          ],
          "scatter3d": [
           {
            "line": {
             "colorbar": {
              "outlinewidth": 0,
              "ticks": ""
             }
            },
            "marker": {
             "colorbar": {
              "outlinewidth": 0,
              "ticks": ""
             }
            },
            "type": "scatter3d"
           }
          ],
          "scattercarpet": [
           {
            "marker": {
             "colorbar": {
              "outlinewidth": 0,
              "ticks": ""
             }
            },
            "type": "scattercarpet"
           }
          ],
          "scattergeo": [
           {
            "marker": {
             "colorbar": {
              "outlinewidth": 0,
              "ticks": ""
             }
            },
            "type": "scattergeo"
           }
          ],
          "scattergl": [
           {
            "marker": {
             "colorbar": {
              "outlinewidth": 0,
              "ticks": ""
             }
            },
            "type": "scattergl"
           }
          ],
          "scattermapbox": [
           {
            "marker": {
             "colorbar": {
              "outlinewidth": 0,
              "ticks": ""
             }
            },
            "type": "scattermapbox"
           }
          ],
          "scatterpolar": [
           {
            "marker": {
             "colorbar": {
              "outlinewidth": 0,
              "ticks": ""
             }
            },
            "type": "scatterpolar"
           }
          ],
          "scatterpolargl": [
           {
            "marker": {
             "colorbar": {
              "outlinewidth": 0,
              "ticks": ""
             }
            },
            "type": "scatterpolargl"
           }
          ],
          "scatterternary": [
           {
            "marker": {
             "colorbar": {
              "outlinewidth": 0,
              "ticks": ""
             }
            },
            "type": "scatterternary"
           }
          ],
          "surface": [
           {
            "colorbar": {
             "outlinewidth": 0,
             "ticks": ""
            },
            "colorscale": [
             [
              0,
              "#0d0887"
             ],
             [
              0.1111111111111111,
              "#46039f"
             ],
             [
              0.2222222222222222,
              "#7201a8"
             ],
             [
              0.3333333333333333,
              "#9c179e"
             ],
             [
              0.4444444444444444,
              "#bd3786"
             ],
             [
              0.5555555555555556,
              "#d8576b"
             ],
             [
              0.6666666666666666,
              "#ed7953"
             ],
             [
              0.7777777777777778,
              "#fb9f3a"
             ],
             [
              0.8888888888888888,
              "#fdca26"
             ],
             [
              1,
              "#f0f921"
             ]
            ],
            "type": "surface"
           }
          ],
          "table": [
           {
            "cells": {
             "fill": {
              "color": "#EBF0F8"
             },
             "line": {
              "color": "white"
             }
            },
            "header": {
             "fill": {
              "color": "#C8D4E3"
             },
             "line": {
              "color": "white"
             }
            },
            "type": "table"
           }
          ]
         },
         "layout": {
          "annotationdefaults": {
           "arrowcolor": "#2a3f5f",
           "arrowhead": 0,
           "arrowwidth": 1
          },
          "autotypenumbers": "strict",
          "coloraxis": {
           "colorbar": {
            "outlinewidth": 0,
            "ticks": ""
           }
          },
          "colorscale": {
           "diverging": [
            [
             0,
             "#8e0152"
            ],
            [
             0.1,
             "#c51b7d"
            ],
            [
             0.2,
             "#de77ae"
            ],
            [
             0.3,
             "#f1b6da"
            ],
            [
             0.4,
             "#fde0ef"
            ],
            [
             0.5,
             "#f7f7f7"
            ],
            [
             0.6,
             "#e6f5d0"
            ],
            [
             0.7,
             "#b8e186"
            ],
            [
             0.8,
             "#7fbc41"
            ],
            [
             0.9,
             "#4d9221"
            ],
            [
             1,
             "#276419"
            ]
           ],
           "sequential": [
            [
             0,
             "#0d0887"
            ],
            [
             0.1111111111111111,
             "#46039f"
            ],
            [
             0.2222222222222222,
             "#7201a8"
            ],
            [
             0.3333333333333333,
             "#9c179e"
            ],
            [
             0.4444444444444444,
             "#bd3786"
            ],
            [
             0.5555555555555556,
             "#d8576b"
            ],
            [
             0.6666666666666666,
             "#ed7953"
            ],
            [
             0.7777777777777778,
             "#fb9f3a"
            ],
            [
             0.8888888888888888,
             "#fdca26"
            ],
            [
             1,
             "#f0f921"
            ]
           ],
           "sequentialminus": [
            [
             0,
             "#0d0887"
            ],
            [
             0.1111111111111111,
             "#46039f"
            ],
            [
             0.2222222222222222,
             "#7201a8"
            ],
            [
             0.3333333333333333,
             "#9c179e"
            ],
            [
             0.4444444444444444,
             "#bd3786"
            ],
            [
             0.5555555555555556,
             "#d8576b"
            ],
            [
             0.6666666666666666,
             "#ed7953"
            ],
            [
             0.7777777777777778,
             "#fb9f3a"
            ],
            [
             0.8888888888888888,
             "#fdca26"
            ],
            [
             1,
             "#f0f921"
            ]
           ]
          },
          "colorway": [
           "#636efa",
           "#EF553B",
           "#00cc96",
           "#ab63fa",
           "#FFA15A",
           "#19d3f3",
           "#FF6692",
           "#B6E880",
           "#FF97FF",
           "#FECB52"
          ],
          "font": {
           "color": "#2a3f5f"
          },
          "geo": {
           "bgcolor": "white",
           "lakecolor": "white",
           "landcolor": "#E5ECF6",
           "showlakes": true,
           "showland": true,
           "subunitcolor": "white"
          },
          "hoverlabel": {
           "align": "left"
          },
          "hovermode": "closest",
          "mapbox": {
           "style": "light"
          },
          "paper_bgcolor": "white",
          "plot_bgcolor": "#E5ECF6",
          "polar": {
           "angularaxis": {
            "gridcolor": "white",
            "linecolor": "white",
            "ticks": ""
           },
           "bgcolor": "#E5ECF6",
           "radialaxis": {
            "gridcolor": "white",
            "linecolor": "white",
            "ticks": ""
           }
          },
          "scene": {
           "xaxis": {
            "backgroundcolor": "#E5ECF6",
            "gridcolor": "white",
            "gridwidth": 2,
            "linecolor": "white",
            "showbackground": true,
            "ticks": "",
            "zerolinecolor": "white"
           },
           "yaxis": {
            "backgroundcolor": "#E5ECF6",
            "gridcolor": "white",
            "gridwidth": 2,
            "linecolor": "white",
            "showbackground": true,
            "ticks": "",
            "zerolinecolor": "white"
           },
           "zaxis": {
            "backgroundcolor": "#E5ECF6",
            "gridcolor": "white",
            "gridwidth": 2,
            "linecolor": "white",
            "showbackground": true,
            "ticks": "",
            "zerolinecolor": "white"
           }
          },
          "shapedefaults": {
           "line": {
            "color": "#2a3f5f"
           }
          },
          "ternary": {
           "aaxis": {
            "gridcolor": "white",
            "linecolor": "white",
            "ticks": ""
           },
           "baxis": {
            "gridcolor": "white",
            "linecolor": "white",
            "ticks": ""
           },
           "bgcolor": "#E5ECF6",
           "caxis": {
            "gridcolor": "white",
            "linecolor": "white",
            "ticks": ""
           }
          },
          "title": {
           "x": 0.05
          },
          "xaxis": {
           "automargin": true,
           "gridcolor": "white",
           "linecolor": "white",
           "ticks": "",
           "title": {
            "standoff": 15
           },
           "zerolinecolor": "white",
           "zerolinewidth": 2
          },
          "yaxis": {
           "automargin": true,
           "gridcolor": "white",
           "linecolor": "white",
           "ticks": "",
           "title": {
            "standoff": 15
           },
           "zerolinecolor": "white",
           "zerolinewidth": 2
          }
         }
        },
        "title": {
         "font": {
          "color": "Purple",
          "family": "Times New Roman"
         },
         "text": "Housing Prices Change for Top 5 Black or African American popular areas"
        },
        "xaxis": {
         "anchor": "y",
         "domain": [
          0,
          1
         ],
         "title": {
          "text": "Date"
         }
        },
        "yaxis": {
         "anchor": "x",
         "domain": [
          0,
          1
         ],
         "title": {
          "text": "Housing Prices"
         }
        }
       }
      },
      "text/html": [
       "<div>                            <div id=\"9b6abe89-8112-4867-b4cd-bfd746587649\" class=\"plotly-graph-div\" style=\"height:525px; width:100%;\"></div>            <script type=\"text/javascript\">                require([\"plotly\"], function(Plotly) {                    window.PLOTLYENV=window.PLOTLYENV || {};                                    if (document.getElementById(\"9b6abe89-8112-4867-b4cd-bfd746587649\")) {                    Plotly.newPlot(                        \"9b6abe89-8112-4867-b4cd-bfd746587649\",                        [{\"hovertemplate\": \"City=View Park-Windsor Hills<br>date=%{x}<br>value=%{y}<extra></extra>\", \"legendgroup\": \"View Park-Windsor Hills\", \"line\": {\"color\": \"#636efa\", \"dash\": \"solid\"}, \"mode\": \"lines\", \"name\": \"View Park-Windsor Hills\", \"showlegend\": true, \"type\": \"scattergl\", \"x\": [\"1996-01-31\", \"1996-02-29\", \"1996-03-31\", \"1996-04-30\", \"1996-05-31\", \"1996-06-30\", \"1996-07-31\", \"1996-08-31\", \"1996-09-30\", \"1996-10-31\", \"1996-11-30\", \"1996-12-31\", \"1997-01-31\", \"1997-02-28\", \"1997-03-31\", \"1997-04-30\", \"1997-05-31\", \"1997-06-30\", \"1997-07-31\", \"1997-08-31\", \"1997-09-30\", \"1997-10-31\", \"1997-11-30\", \"1997-12-31\", \"1998-01-31\", \"1998-02-28\", \"1998-03-31\", \"1998-04-30\", \"1998-05-31\", \"1998-06-30\", \"1998-07-31\", \"1998-08-31\", \"1998-09-30\", \"1998-10-31\", \"1998-11-30\", \"1998-12-31\", \"1999-01-31\", \"1999-02-28\", \"1999-03-31\", \"1999-04-30\", \"1999-05-31\", \"1999-06-30\", \"1999-07-31\", \"1999-08-31\", \"1999-09-30\", \"1999-10-31\", \"1999-11-30\", \"1999-12-31\", \"2000-01-31\", \"2000-02-29\", \"2000-03-31\", \"2000-04-30\", \"2000-05-31\", \"2000-06-30\", \"2000-07-31\", \"2000-08-31\", \"2000-09-30\", \"2000-10-31\", \"2000-11-30\", \"2000-12-31\", \"2001-01-31\", \"2001-02-28\", \"2001-03-31\", \"2001-04-30\", \"2001-05-31\", \"2001-06-30\", \"2001-07-31\", \"2001-08-31\", \"2001-09-30\", \"2001-10-31\", \"2001-11-30\", \"2001-12-31\", \"2002-01-31\", \"2002-02-28\", \"2002-03-31\", \"2002-04-30\", \"2002-05-31\", \"2002-06-30\", \"2002-07-31\", \"2002-08-31\", \"2002-09-30\", \"2002-10-31\", \"2002-11-30\", \"2002-12-31\", \"2003-01-31\", \"2003-02-28\", \"2003-03-31\", \"2003-04-30\", \"2003-05-31\", \"2003-06-30\", \"2003-07-31\", \"2003-08-31\", \"2003-09-30\", \"2003-10-31\", \"2003-11-30\", \"2003-12-31\", \"2004-01-31\", \"2004-02-29\", \"2004-03-31\", \"2004-04-30\", \"2004-05-31\", \"2004-06-30\", \"2004-07-31\", \"2004-08-31\", \"2004-09-30\", \"2004-10-31\", \"2004-11-30\", \"2004-12-31\", \"2005-01-31\", \"2005-02-28\", \"2005-03-31\", \"2005-04-30\", \"2005-05-31\", \"2005-06-30\", \"2005-07-31\", \"2005-08-31\", \"2005-09-30\", \"2005-10-31\", \"2005-11-30\", \"2005-12-31\", \"2006-01-31\", \"2006-02-28\", \"2006-03-31\", \"2006-04-30\", \"2006-05-31\", \"2006-06-30\", \"2006-07-31\", \"2006-08-31\", \"2006-09-30\", \"2006-10-31\", \"2006-11-30\", \"2006-12-31\", \"2007-01-31\", \"2007-02-28\", \"2007-03-31\", \"2007-04-30\", \"2007-05-31\", \"2007-06-30\", \"2007-07-31\", \"2007-08-31\", \"2007-09-30\", \"2007-10-31\", \"2007-11-30\", \"2007-12-31\", \"2008-01-31\", \"2008-02-29\", \"2008-03-31\", \"2008-04-30\", \"2008-05-31\", \"2008-06-30\", \"2008-07-31\", \"2008-08-31\", \"2008-09-30\", \"2008-10-31\", \"2008-11-30\", \"2008-12-31\", \"2009-01-31\", \"2009-02-28\", \"2009-03-31\", \"2009-04-30\", \"2009-05-31\", \"2009-06-30\", \"2009-07-31\", \"2009-08-31\", \"2009-09-30\", \"2009-10-31\", \"2009-11-30\", \"2009-12-31\", \"2010-01-31\", \"2010-02-28\", \"2010-03-31\", \"2010-04-30\", \"2010-05-31\", \"2010-06-30\", \"2010-07-31\", \"2010-08-31\", \"2010-09-30\", \"2010-10-31\", \"2010-11-30\", \"2010-12-31\", \"2011-01-31\", \"2011-02-28\", \"2011-03-31\", \"2011-04-30\", \"2011-05-31\", \"2011-06-30\", \"2011-07-31\", \"2011-08-31\", \"2011-09-30\", \"2011-10-31\", \"2011-11-30\", \"2011-12-31\", \"2012-01-31\", \"2012-02-29\", \"2012-03-31\", \"2012-04-30\", \"2012-05-31\", \"2012-06-30\", \"2012-07-31\", \"2012-08-31\", \"2012-09-30\", \"2012-10-31\", \"2012-11-30\", \"2012-12-31\", \"2013-01-31\", \"2013-02-28\", \"2013-03-31\", \"2013-04-30\", \"2013-05-31\", \"2013-06-30\", \"2013-07-31\", \"2013-08-31\", \"2013-09-30\", \"2013-10-31\", \"2013-11-30\", \"2013-12-31\", \"2014-01-31\", \"2014-02-28\", \"2014-03-31\", \"2014-04-30\", \"2014-05-31\", \"2014-06-30\", \"2014-07-31\", \"2014-08-31\", \"2014-09-30\", \"2014-10-31\", \"2014-11-30\", \"2014-12-31\", \"2015-01-31\", \"2015-02-28\", \"2015-03-31\", \"2015-04-30\", \"2015-05-31\", \"2015-06-30\", \"2015-07-31\", \"2015-08-31\", \"2015-09-30\", \"2015-10-31\", \"2015-11-30\", \"2015-12-31\", \"2016-01-31\", \"2016-02-29\", \"2016-03-31\", \"2016-04-30\", \"2016-05-31\", \"2016-06-30\", \"2016-07-31\", \"2016-08-31\", \"2016-09-30\", \"2016-10-31\", \"2016-11-30\", \"2016-12-31\", \"2017-01-31\", \"2017-02-28\", \"2017-03-31\", \"2017-04-30\", \"2017-05-31\", \"2017-06-30\", \"2017-07-31\", \"2017-08-31\", \"2017-09-30\", \"2017-10-31\", \"2017-11-30\", \"2017-12-31\", \"2018-01-31\", \"2018-02-28\", \"2018-03-31\", \"2018-04-30\", \"2018-05-31\", \"2018-06-30\", \"2018-07-31\", \"2018-08-31\", \"2018-09-30\", \"2018-10-31\", \"2018-11-30\", \"2018-12-31\", \"2019-01-31\", \"2019-02-28\", \"2019-03-31\", \"2019-04-30\", \"2019-05-31\", \"2019-06-30\", \"2019-07-31\", \"2019-08-31\", \"2019-09-30\", \"2019-10-31\", \"2019-11-30\", \"2019-12-31\", \"2020-01-31\", \"2020-02-29\", \"2020-03-31\", \"2020-04-30\", \"2020-05-31\", \"2020-06-30\", \"2020-07-31\", \"2020-08-31\", \"2020-09-30\", \"2020-10-31\", \"2020-11-30\", \"2020-12-31\", \"2021-01-31\", \"2021-02-28\", \"2021-03-31\"], \"xaxis\": \"x\", \"y\": [219613.0, 220040.0, 219785.0, 220033.0, 220630.0, 221611.0, 222998.0, 223475.0, 223605.0, 223112.0, 223345.0, 223669.0, 223867.0, 223332.0, 223716.0, 224701.0, 225152.0, 225656.0, 225361.0, 226493.0, 227636.0, 229253.0, 230006.0, 231375.0, 233034.0, 235445.0, 237663.0, 238424.0, 239842.0, 240064.0, 240826.0, 241736.0, 243814.0, 247397.0, 250857.0, 253431.0, 255742.0, 258967.0, 262367.0, 266160.0, 268832.0, 272680.0, 276925.0, 280445.0, 283539.0, 284897.0, 286579.0, 287513.0, 288985.0, 289702.0, 290383.0, 291570.0, 293153.0, 294091.0, 294178.0, 294663.0, 295819.0, 297262.0, 299332.0, 302216.0, 305595.0, 307958.0, 310427.0, 312524.0, 315349.0, 318787.0, 322247.0, 325650.0, 327612.0, 330946.0, 333748.0, 336923.0, 339138.0, 343667.0, 348286.0, 354014.0, 358771.0, 364452.0, 370441.0, 375976.0, 381937.0, 387370.0, 393766.0, 399264.0, 404507.0, 407553.0, 411376.0, 414936.0, 419647.0, 422943.0, 427595.0, 434085.0, 441140.0, 447017.0, 453943.0, 462585.0, 473253.0, 484011.0, 495497.0, 506839.0, 519423.0, 531243.0, 543318.0, 554407.0, 567207.0, 579164.0, 588559.0, 597972.0, 606100.0, 618232.0, 626742.0, 636985.0, 644239.0, 655341.0, 665423.0, 674446.0, 683444.0, 695567.0, 706106.0, 713334.0, 718263.0, 721443.0, 728374.0, 732688.0, 739816.0, 742168.0, 744755.0, 747108.0, 745252.0, 742811.0, 741726.0, 744649.0, 746617.0, 745187.0, 742589.0, 742375.0, 740954.0, 739342.0, 734711.0, 727954.0, 720508.0, 711740.0, 704546.0, 693630.0, 683349.0, 671049.0, 658286.0, 642096.0, 624944.0, 608837.0, 592814.0, 579298.0, 569278.0, 557567.0, 545182.0, 532032.0, 524380.0, 519883.0, 512626.0, 505076.0, 496591.0, 492470.0, 490097.0, 491177.0, 490395.0, 492023.0, 490216.0, 489483.0, 483084.0, 478120.0, 477167.0, 478285.0, 482296.0, 479935.0, 478031.0, 472381.0, 468081.0, 463363.0, 459919.0, 458889.0, 460237.0, 460851.0, 459636.0, 456953.0, 451764.0, 449664.0, 447696.0, 446713.0, 444843.0, 442832.0, 444082.0, 443741.0, 443864.0, 441792.0, 441044.0, 442440.0, 446539.0, 451105.0, 454350.0, 456887.0, 462396.0, 469981.0, 476271.0, 482862.0, 488076.0, 498019.0, 508013.0, 519403.0, 527898.0, 537588.0, 549516.0, 565657.0, 576198.0, 582303.0, 587571.0, 593814.0, 601363.0, 603631.0, 605704.0, 604640.0, 606227.0, 605986.0, 607813.0, 602003.0, 600811.0, 601373.0, 607177.0, 610879.0, 616612.0, 625074.0, 634014.0, 641883.0, 649704.0, 657510.0, 663098.0, 671689.0, 678870.0, 687363.0, 693203.0, 703442.0, 709447.0, 715072.0, 718100.0, 725115.0, 729849.0, 735411.0, 737771.0, 743493.0, 749061.0, 755926.0, 759448.0, 760819.0, 765530.0, 769126.0, 775004.0, 778197.0, 785792.0, 791961.0, 801292.0, 808424.0, 816137.0, 821454.0, 828889.0, 836597.0, 842587.0, 850135.0, 857990.0, 867061.0, 873909.0, 881191.0, 886553.0, 890197.0, 892755.0, 897628.0, 903834.0, 907633.0, 911920.0, 911222.0, 910621.0, 913601.0, 926943.0, 942496.0, 949592.0, 950233.0, 949296.0, 953406.0, 961947.0, 974831.0, 985937.0, 995694.0, 1005530.0, 1014700.0, 1017018.0, 1017867.0, 1026616.0, 1042901.0, 1061874.0, 1076971.0, 1087921.0, 1097397.0, 1109334.0, 1126171.0, 1144281.0], \"yaxis\": \"y\"}, {\"hovertemplate\": \"City=Ladera Heights<br>date=%{x}<br>value=%{y}<extra></extra>\", \"legendgroup\": \"Ladera Heights\", \"line\": {\"color\": \"#EF553B\", \"dash\": \"solid\"}, \"mode\": \"lines\", \"name\": \"Ladera Heights\", \"showlegend\": true, \"type\": \"scattergl\", \"x\": [\"1996-01-31\", \"1996-02-29\", \"1996-03-31\", \"1996-04-30\", \"1996-05-31\", \"1996-06-30\", \"1996-07-31\", \"1996-08-31\", \"1996-09-30\", \"1996-10-31\", \"1996-11-30\", \"1996-12-31\", \"1997-01-31\", \"1997-02-28\", \"1997-03-31\", \"1997-04-30\", \"1997-05-31\", \"1997-06-30\", \"1997-07-31\", \"1997-08-31\", \"1997-09-30\", \"1997-10-31\", \"1997-11-30\", \"1997-12-31\", \"1998-01-31\", \"1998-02-28\", \"1998-03-31\", \"1998-04-30\", \"1998-05-31\", \"1998-06-30\", \"1998-07-31\", \"1998-08-31\", \"1998-09-30\", \"1998-10-31\", \"1998-11-30\", \"1998-12-31\", \"1999-01-31\", \"1999-02-28\", \"1999-03-31\", \"1999-04-30\", \"1999-05-31\", \"1999-06-30\", \"1999-07-31\", \"1999-08-31\", \"1999-09-30\", \"1999-10-31\", \"1999-11-30\", \"1999-12-31\", \"2000-01-31\", \"2000-02-29\", \"2000-03-31\", \"2000-04-30\", \"2000-05-31\", \"2000-06-30\", \"2000-07-31\", \"2000-08-31\", \"2000-09-30\", \"2000-10-31\", \"2000-11-30\", \"2000-12-31\", \"2001-01-31\", \"2001-02-28\", \"2001-03-31\", \"2001-04-30\", \"2001-05-31\", \"2001-06-30\", \"2001-07-31\", \"2001-08-31\", \"2001-09-30\", \"2001-10-31\", \"2001-11-30\", \"2001-12-31\", \"2002-01-31\", \"2002-02-28\", \"2002-03-31\", \"2002-04-30\", \"2002-05-31\", \"2002-06-30\", \"2002-07-31\", \"2002-08-31\", \"2002-09-30\", \"2002-10-31\", \"2002-11-30\", \"2002-12-31\", \"2003-01-31\", \"2003-02-28\", \"2003-03-31\", \"2003-04-30\", \"2003-05-31\", \"2003-06-30\", \"2003-07-31\", \"2003-08-31\", \"2003-09-30\", \"2003-10-31\", \"2003-11-30\", \"2003-12-31\", \"2004-01-31\", \"2004-02-29\", \"2004-03-31\", \"2004-04-30\", \"2004-05-31\", \"2004-06-30\", \"2004-07-31\", \"2004-08-31\", \"2004-09-30\", \"2004-10-31\", \"2004-11-30\", \"2004-12-31\", \"2005-01-31\", \"2005-02-28\", \"2005-03-31\", \"2005-04-30\", \"2005-05-31\", \"2005-06-30\", \"2005-07-31\", \"2005-08-31\", \"2005-09-30\", \"2005-10-31\", \"2005-11-30\", \"2005-12-31\", \"2006-01-31\", \"2006-02-28\", \"2006-03-31\", \"2006-04-30\", \"2006-05-31\", \"2006-06-30\", \"2006-07-31\", \"2006-08-31\", \"2006-09-30\", \"2006-10-31\", \"2006-11-30\", \"2006-12-31\", \"2007-01-31\", \"2007-02-28\", \"2007-03-31\", \"2007-04-30\", \"2007-05-31\", \"2007-06-30\", \"2007-07-31\", \"2007-08-31\", \"2007-09-30\", \"2007-10-31\", \"2007-11-30\", \"2007-12-31\", \"2008-01-31\", \"2008-02-29\", \"2008-03-31\", \"2008-04-30\", \"2008-05-31\", \"2008-06-30\", \"2008-07-31\", \"2008-08-31\", \"2008-09-30\", \"2008-10-31\", \"2008-11-30\", \"2008-12-31\", \"2009-01-31\", \"2009-02-28\", \"2009-03-31\", \"2009-04-30\", \"2009-05-31\", \"2009-06-30\", \"2009-07-31\", \"2009-08-31\", \"2009-09-30\", \"2009-10-31\", \"2009-11-30\", \"2009-12-31\", \"2010-01-31\", \"2010-02-28\", \"2010-03-31\", \"2010-04-30\", \"2010-05-31\", \"2010-06-30\", \"2010-07-31\", \"2010-08-31\", \"2010-09-30\", \"2010-10-31\", \"2010-11-30\", \"2010-12-31\", \"2011-01-31\", \"2011-02-28\", \"2011-03-31\", \"2011-04-30\", \"2011-05-31\", \"2011-06-30\", \"2011-07-31\", \"2011-08-31\", \"2011-09-30\", \"2011-10-31\", \"2011-11-30\", \"2011-12-31\", \"2012-01-31\", \"2012-02-29\", \"2012-03-31\", \"2012-04-30\", \"2012-05-31\", \"2012-06-30\", \"2012-07-31\", \"2012-08-31\", \"2012-09-30\", \"2012-10-31\", \"2012-11-30\", \"2012-12-31\", \"2013-01-31\", \"2013-02-28\", \"2013-03-31\", \"2013-04-30\", \"2013-05-31\", \"2013-06-30\", \"2013-07-31\", \"2013-08-31\", \"2013-09-30\", \"2013-10-31\", \"2013-11-30\", \"2013-12-31\", \"2014-01-31\", \"2014-02-28\", \"2014-03-31\", \"2014-04-30\", \"2014-05-31\", \"2014-06-30\", \"2014-07-31\", \"2014-08-31\", \"2014-09-30\", \"2014-10-31\", \"2014-11-30\", \"2014-12-31\", \"2015-01-31\", \"2015-02-28\", \"2015-03-31\", \"2015-04-30\", \"2015-05-31\", \"2015-06-30\", \"2015-07-31\", \"2015-08-31\", \"2015-09-30\", \"2015-10-31\", \"2015-11-30\", \"2015-12-31\", \"2016-01-31\", \"2016-02-29\", \"2016-03-31\", \"2016-04-30\", \"2016-05-31\", \"2016-06-30\", \"2016-07-31\", \"2016-08-31\", \"2016-09-30\", \"2016-10-31\", \"2016-11-30\", \"2016-12-31\", \"2017-01-31\", \"2017-02-28\", \"2017-03-31\", \"2017-04-30\", \"2017-05-31\", \"2017-06-30\", \"2017-07-31\", \"2017-08-31\", \"2017-09-30\", \"2017-10-31\", \"2017-11-30\", \"2017-12-31\", \"2018-01-31\", \"2018-02-28\", \"2018-03-31\", \"2018-04-30\", \"2018-05-31\", \"2018-06-30\", \"2018-07-31\", \"2018-08-31\", \"2018-09-30\", \"2018-10-31\", \"2018-11-30\", \"2018-12-31\", \"2019-01-31\", \"2019-02-28\", \"2019-03-31\", \"2019-04-30\", \"2019-05-31\", \"2019-06-30\", \"2019-07-31\", \"2019-08-31\", \"2019-09-30\", \"2019-10-31\", \"2019-11-30\", \"2019-12-31\", \"2020-01-31\", \"2020-02-29\", \"2020-03-31\", \"2020-04-30\", \"2020-05-31\", \"2020-06-30\", \"2020-07-31\", \"2020-08-31\", \"2020-09-30\", \"2020-10-31\", \"2020-11-30\", \"2020-12-31\", \"2021-01-31\", \"2021-02-28\", \"2021-03-31\"], \"xaxis\": \"x\", \"y\": [288879.0, 289267.0, 289613.0, 290601.0, 292021.0, 294024.0, 295805.0, 296997.0, 298567.0, 300663.0, 302928.0, 304478.0, 305346.0, 306580.0, 308210.0, 310402.0, 312129.0, 313361.0, 315393.0, 317967.0, 319541.0, 320092.0, 320933.0, 323621.0, 327362.0, 331247.0, 334844.0, 337455.0, 340017.0, 342061.0, 343380.0, 345689.0, 349252.0, 352997.0, 356006.0, 357568.0, 359840.0, 361560.0, 363865.0, 366226.0, 368277.0, 370630.0, 373287.0, 375735.0, 377761.0, 381637.0, 385370.0, 389647.0, 392074.0, 395196.0, 397906.0, 400694.0, 405454.0, 410811.0, 416106.0, 419267.0, 422546.0, 424154.0, 428879.0, 434171.0, 440824.0, 445066.0, 449217.0, 454240.0, 457470.0, 460657.0, 463202.0, 468048.0, 472065.0, 476834.0, 478696.0, 479683.0, 480634.0, 484267.0, 489529.0, 496325.0, 503378.0, 510267.0, 515841.0, 521085.0, 526558.0, 533371.0, 541929.0, 551508.0, 559596.0, 566135.0, 572757.0, 577623.0, 583092.0, 588042.0, 598138.0, 608430.0, 618201.0, 624717.0, 632300.0, 640367.0, 651228.0, 663167.0, 674300.0, 685639.0, 697804.0, 709793.0, 718823.0, 727388.0, 740386.0, 753670.0, 764420.0, 773161.0, 780004.0, 788224.0, 795746.0, 806547.0, 814808.0, 825637.0, 835768.0, 847695.0, 857865.0, 869906.0, 878133.0, 885019.0, 893237.0, 901829.0, 913422.0, 918213.0, 928631.0, 935756.0, 943997.0, 948461.0, 946278.0, 945963.0, 947244.0, 957032.0, 960858.0, 961834.0, 957282.0, 959001.0, 958253.0, 959361.0, 957497.0, 952914.0, 946594.0, 935431.0, 928751.0, 913688.0, 901868.0, 885999.0, 873636.0, 858962.0, 839659.0, 819736.0, 799959.0, 786276.0, 781963.0, 779036.0, 771603.0, 759059.0, 749748.0, 745831.0, 739409.0, 729261.0, 720481.0, 713368.0, 709162.0, 707301.0, 703809.0, 700921.0, 700146.0, 705919.0, 707892.0, 706626.0, 707174.0, 711126.0, 719045.0, 720875.0, 720200.0, 714132.0, 707338.0, 700977.0, 693112.0, 686370.0, 681680.0, 679938.0, 678521.0, 677446.0, 671785.0, 671712.0, 672286.0, 671631.0, 668146.0, 663313.0, 664069.0, 664212.0, 664567.0, 662837.0, 660472.0, 657860.0, 657773.0, 657544.0, 658535.0, 663604.0, 672047.0, 683479.0, 689962.0, 697715.0, 703537.0, 715641.0, 728363.0, 743878.0, 755985.0, 768935.0, 781387.0, 794453.0, 803532.0, 811557.0, 819869.0, 824165.0, 827278.0, 824154.0, 824135.0, 824007.0, 829136.0, 833871.0, 843146.0, 848458.0, 855911.0, 856866.0, 860994.0, 868285.0, 884189.0, 901665.0, 915558.0, 921375.0, 928069.0, 935347.0, 941904.0, 949850.0, 956520.0, 967360.0, 976172.0, 989241.0, 993840.0, 997449.0, 1002500.0, 1014867.0, 1023822.0, 1025586.0, 1022194.0, 1021236.0, 1026241.0, 1037317.0, 1050892.0, 1059005.0, 1072149.0, 1082617.0, 1092914.0, 1101170.0, 1114993.0, 1132317.0, 1147151.0, 1160254.0, 1168707.0, 1177269.0, 1186023.0, 1200471.0, 1211468.0, 1227267.0, 1240153.0, 1255022.0, 1267218.0, 1287304.0, 1310247.0, 1328815.0, 1345079.0, 1355621.0, 1363077.0, 1361036.0, 1362682.0, 1361992.0, 1368144.0, 1373473.0, 1385442.0, 1392930.0, 1397507.0, 1395701.0, 1396295.0, 1397710.0, 1403115.0, 1414288.0, 1426875.0, 1443110.0, 1455443.0, 1469492.0, 1477286.0, 1483409.0, 1491533.0, 1507777.0, 1524361.0, 1543138.0, 1560113.0, 1576051.0, 1589494.0, 1600303.0, 1611858.0], \"yaxis\": \"y\"}, {\"hovertemplate\": \"City=Westmont<br>date=%{x}<br>value=%{y}<extra></extra>\", \"legendgroup\": \"Westmont\", \"line\": {\"color\": \"#00cc96\", \"dash\": \"solid\"}, \"mode\": \"lines\", \"name\": \"Westmont\", \"showlegend\": true, \"type\": \"scattergl\", \"x\": [\"1996-01-31\", \"1996-02-29\", \"1996-03-31\", \"1996-04-30\", \"1996-05-31\", \"1996-06-30\", \"1996-07-31\", \"1996-08-31\", \"1996-09-30\", \"1996-10-31\", \"1996-11-30\", \"1996-12-31\", \"1997-01-31\", \"1997-02-28\", \"1997-03-31\", \"1997-04-30\", \"1997-05-31\", \"1997-06-30\", \"1997-07-31\", \"1997-08-31\", \"1997-09-30\", \"1997-10-31\", \"1997-11-30\", \"1997-12-31\", \"1998-01-31\", \"1998-02-28\", \"1998-03-31\", \"1998-04-30\", \"1998-05-31\", \"1998-06-30\", \"1998-07-31\", \"1998-08-31\", \"1998-09-30\", \"1998-10-31\", \"1998-11-30\", \"1998-12-31\", \"1999-01-31\", \"1999-02-28\", \"1999-03-31\", \"1999-04-30\", \"1999-05-31\", \"1999-06-30\", \"1999-07-31\", \"1999-08-31\", \"1999-09-30\", \"1999-10-31\", \"1999-11-30\", \"1999-12-31\", \"2000-01-31\", \"2000-02-29\", \"2000-03-31\", \"2000-04-30\", \"2000-05-31\", \"2000-06-30\", \"2000-07-31\", \"2000-08-31\", \"2000-09-30\", \"2000-10-31\", \"2000-11-30\", \"2000-12-31\", \"2001-01-31\", \"2001-02-28\", \"2001-03-31\", \"2001-04-30\", \"2001-05-31\", \"2001-06-30\", \"2001-07-31\", \"2001-08-31\", \"2001-09-30\", \"2001-10-31\", \"2001-11-30\", \"2001-12-31\", \"2002-01-31\", \"2002-02-28\", \"2002-03-31\", \"2002-04-30\", \"2002-05-31\", \"2002-06-30\", \"2002-07-31\", \"2002-08-31\", \"2002-09-30\", \"2002-10-31\", \"2002-11-30\", \"2002-12-31\", \"2003-01-31\", \"2003-02-28\", \"2003-03-31\", \"2003-04-30\", \"2003-05-31\", \"2003-06-30\", \"2003-07-31\", \"2003-08-31\", \"2003-09-30\", \"2003-10-31\", \"2003-11-30\", \"2003-12-31\", \"2004-01-31\", \"2004-02-29\", \"2004-03-31\", \"2004-04-30\", \"2004-05-31\", \"2004-06-30\", \"2004-07-31\", \"2004-08-31\", \"2004-09-30\", \"2004-10-31\", \"2004-11-30\", \"2004-12-31\", \"2005-01-31\", \"2005-02-28\", \"2005-03-31\", \"2005-04-30\", \"2005-05-31\", \"2005-06-30\", \"2005-07-31\", \"2005-08-31\", \"2005-09-30\", \"2005-10-31\", \"2005-11-30\", \"2005-12-31\", \"2006-01-31\", \"2006-02-28\", \"2006-03-31\", \"2006-04-30\", \"2006-05-31\", \"2006-06-30\", \"2006-07-31\", \"2006-08-31\", \"2006-09-30\", \"2006-10-31\", \"2006-11-30\", \"2006-12-31\", \"2007-01-31\", \"2007-02-28\", \"2007-03-31\", \"2007-04-30\", \"2007-05-31\", \"2007-06-30\", \"2007-07-31\", \"2007-08-31\", \"2007-09-30\", \"2007-10-31\", \"2007-11-30\", \"2007-12-31\", \"2008-01-31\", \"2008-02-29\", \"2008-03-31\", \"2008-04-30\", \"2008-05-31\", \"2008-06-30\", \"2008-07-31\", \"2008-08-31\", \"2008-09-30\", \"2008-10-31\", \"2008-11-30\", \"2008-12-31\", \"2009-01-31\", \"2009-02-28\", \"2009-03-31\", \"2009-04-30\", \"2009-05-31\", \"2009-06-30\", \"2009-07-31\", \"2009-08-31\", \"2009-09-30\", \"2009-10-31\", \"2009-11-30\", \"2009-12-31\", \"2010-01-31\", \"2010-02-28\", \"2010-03-31\", \"2010-04-30\", \"2010-05-31\", \"2010-06-30\", \"2010-07-31\", \"2010-08-31\", \"2010-09-30\", \"2010-10-31\", \"2010-11-30\", \"2010-12-31\", \"2011-01-31\", \"2011-02-28\", \"2011-03-31\", \"2011-04-30\", \"2011-05-31\", \"2011-06-30\", \"2011-07-31\", \"2011-08-31\", \"2011-09-30\", \"2011-10-31\", \"2011-11-30\", \"2011-12-31\", \"2012-01-31\", \"2012-02-29\", \"2012-03-31\", \"2012-04-30\", \"2012-05-31\", \"2012-06-30\", \"2012-07-31\", \"2012-08-31\", \"2012-09-30\", \"2012-10-31\", \"2012-11-30\", \"2012-12-31\", \"2013-01-31\", \"2013-02-28\", \"2013-03-31\", \"2013-04-30\", \"2013-05-31\", \"2013-06-30\", \"2013-07-31\", \"2013-08-31\", \"2013-09-30\", \"2013-10-31\", \"2013-11-30\", \"2013-12-31\", \"2014-01-31\", \"2014-02-28\", \"2014-03-31\", \"2014-04-30\", \"2014-05-31\", \"2014-06-30\", \"2014-07-31\", \"2014-08-31\", \"2014-09-30\", \"2014-10-31\", \"2014-11-30\", \"2014-12-31\", \"2015-01-31\", \"2015-02-28\", \"2015-03-31\", \"2015-04-30\", \"2015-05-31\", \"2015-06-30\", \"2015-07-31\", \"2015-08-31\", \"2015-09-30\", \"2015-10-31\", \"2015-11-30\", \"2015-12-31\", \"2016-01-31\", \"2016-02-29\", \"2016-03-31\", \"2016-04-30\", \"2016-05-31\", \"2016-06-30\", \"2016-07-31\", \"2016-08-31\", \"2016-09-30\", \"2016-10-31\", \"2016-11-30\", \"2016-12-31\", \"2017-01-31\", \"2017-02-28\", \"2017-03-31\", \"2017-04-30\", \"2017-05-31\", \"2017-06-30\", \"2017-07-31\", \"2017-08-31\", \"2017-09-30\", \"2017-10-31\", \"2017-11-30\", \"2017-12-31\", \"2018-01-31\", \"2018-02-28\", \"2018-03-31\", \"2018-04-30\", \"2018-05-31\", \"2018-06-30\", \"2018-07-31\", \"2018-08-31\", \"2018-09-30\", \"2018-10-31\", \"2018-11-30\", \"2018-12-31\", \"2019-01-31\", \"2019-02-28\", \"2019-03-31\", \"2019-04-30\", \"2019-05-31\", \"2019-06-30\", \"2019-07-31\", \"2019-08-31\", \"2019-09-30\", \"2019-10-31\", \"2019-11-30\", \"2019-12-31\", \"2020-01-31\", \"2020-02-29\", \"2020-03-31\", \"2020-04-30\", \"2020-05-31\", \"2020-06-30\", \"2020-07-31\", \"2020-08-31\", \"2020-09-30\", \"2020-10-31\", \"2020-11-30\", \"2020-12-31\", \"2021-01-31\", \"2021-02-28\", \"2021-03-31\"], \"xaxis\": \"x\", \"y\": [125860.0, 125567.0, 125675.0, 125673.0, 125905.0, 125924.0, 125929.0, 125736.0, 125465.0, 125327.0, 125236.0, 125148.0, 124560.0, 124255.0, 123747.0, 123717.0, 123274.0, 123395.0, 123826.0, 124720.0, 125353.0, 125665.0, 125830.0, 126175.0, 127175.0, 128277.0, 129411.0, 129840.0, 130573.0, 130697.0, 130388.0, 130024.0, 130580.0, 131269.0, 132145.0, 132722.0, 133586.0, 134316.0, 134810.0, 135549.0, 136057.0, 137021.0, 137982.0, 138370.0, 138289.0, 138873.0, 139492.0, 140277.0, 140547.0, 141018.0, 141832.0, 142475.0, 143117.0, 143766.0, 144637.0, 145957.0, 147124.0, 147560.0, 148377.0, 149158.0, 150232.0, 150974.0, 151802.0, 152974.0, 154370.0, 155631.0, 156632.0, 157663.0, 158800.0, 160620.0, 161862.0, 163379.0, 164800.0, 166870.0, 168815.0, 170886.0, 172738.0, 174711.0, 176638.0, 178468.0, 180542.0, 182581.0, 185233.0, 187677.0, 189870.0, 191652.0, 193651.0, 195680.0, 197771.0, 200086.0, 204015.0, 208483.0, 212494.0, 215484.0, 219248.0, 223751.0, 229243.0, 234144.0, 239147.0, 244393.0, 251129.0, 257696.0, 262936.0, 267763.0, 274152.0, 281219.0, 287003.0, 292307.0, 297425.0, 305170.0, 312553.0, 320238.0, 326088.0, 332587.0, 339946.0, 347636.0, 355226.0, 363502.0, 371143.0, 378066.0, 384010.0, 388265.0, 393587.0, 397809.0, 403885.0, 408965.0, 413196.0, 417115.0, 418987.0, 421667.0, 423688.0, 425851.0, 425929.0, 426250.0, 426793.0, 430005.0, 430788.0, 431682.0, 431320.0, 431586.0, 431125.0, 428418.0, 425446.0, 420599.0, 415738.0, 408340.0, 398704.0, 386395.0, 374089.0, 363043.0, 351362.0, 338214.0, 324772.0, 312035.0, 300629.0, 291035.0, 285954.0, 282669.0, 278656.0, 272637.0, 266760.0, 261325.0, 257961.0, 256491.0, 256297.0, 256108.0, 256282.0, 256587.0, 253936.0, 250636.0, 249668.0, 251368.0, 255092.0, 254791.0, 254090.0, 251389.0, 250616.0, 250159.0, 249658.0, 249320.0, 249352.0, 248884.0, 247291.0, 245605.0, 242889.0, 243737.0, 243892.0, 244702.0, 243435.0, 241950.0, 241456.0, 240197.0, 240632.0, 241443.0, 242624.0, 242720.0, 242907.0, 243313.0, 244538.0, 246420.0, 248817.0, 252304.0, 255064.0, 259377.0, 261154.0, 264730.0, 268395.0, 275029.0, 280777.0, 286084.0, 290755.0, 296211.0, 301973.0, 306271.0, 309388.0, 311375.0, 314796.0, 317062.0, 318832.0, 318985.0, 319416.0, 320026.0, 322627.0, 324170.0, 324880.0, 325229.0, 327533.0, 329784.0, 332207.0, 334271.0, 337351.0, 338986.0, 341870.0, 344519.0, 346436.0, 348000.0, 349457.0, 352333.0, 355162.0, 359138.0, 362409.0, 365715.0, 368062.0, 371699.0, 374980.0, 378362.0, 379717.0, 381713.0, 385252.0, 389884.0, 392616.0, 394655.0, 398171.0, 401924.0, 406326.0, 410132.0, 414658.0, 418785.0, 424410.0, 430176.0, 435203.0, 438888.0, 444242.0, 449668.0, 454673.0, 459936.0, 465053.0, 469589.0, 472466.0, 474598.0, 476549.0, 478883.0, 481618.0, 483810.0, 485289.0, 485760.0, 485581.0, 483716.0, 481645.0, 481839.0, 486007.0, 492233.0, 495165.0, 494585.0, 493760.0, 496167.0, 501067.0, 507642.0, 514292.0, 521461.0, 527627.0, 533379.0, 536242.0, 538718.0, 543787.0, 551687.0, 559902.0, 566249.0, 570660.0, 574332.0, 578510.0, 583362.0, 589476.0], \"yaxis\": \"y\"}, {\"hovertemplate\": \"City=West Athens<br>date=%{x}<br>value=%{y}<extra></extra>\", \"legendgroup\": \"West Athens\", \"line\": {\"color\": \"#ab63fa\", \"dash\": \"solid\"}, \"mode\": \"lines\", \"name\": \"West Athens\", \"showlegend\": true, \"type\": \"scattergl\", \"x\": [\"1996-01-31\", \"1996-02-29\", \"1996-03-31\", \"1996-04-30\", \"1996-05-31\", \"1996-06-30\", \"1996-07-31\", \"1996-08-31\", \"1996-09-30\", \"1996-10-31\", \"1996-11-30\", \"1996-12-31\", \"1997-01-31\", \"1997-02-28\", \"1997-03-31\", \"1997-04-30\", \"1997-05-31\", \"1997-06-30\", \"1997-07-31\", \"1997-08-31\", \"1997-09-30\", \"1997-10-31\", \"1997-11-30\", \"1997-12-31\", \"1998-01-31\", \"1998-02-28\", \"1998-03-31\", \"1998-04-30\", \"1998-05-31\", \"1998-06-30\", \"1998-07-31\", \"1998-08-31\", \"1998-09-30\", \"1998-10-31\", \"1998-11-30\", \"1998-12-31\", \"1999-01-31\", \"1999-02-28\", \"1999-03-31\", \"1999-04-30\", \"1999-05-31\", \"1999-06-30\", \"1999-07-31\", \"1999-08-31\", \"1999-09-30\", \"1999-10-31\", \"1999-11-30\", \"1999-12-31\", \"2000-01-31\", \"2000-02-29\", \"2000-03-31\", \"2000-04-30\", \"2000-05-31\", \"2000-06-30\", \"2000-07-31\", \"2000-08-31\", \"2000-09-30\", \"2000-10-31\", \"2000-11-30\", \"2000-12-31\", \"2001-01-31\", \"2001-02-28\", \"2001-03-31\", \"2001-04-30\", \"2001-05-31\", \"2001-06-30\", \"2001-07-31\", \"2001-08-31\", \"2001-09-30\", \"2001-10-31\", \"2001-11-30\", \"2001-12-31\", \"2002-01-31\", \"2002-02-28\", \"2002-03-31\", \"2002-04-30\", \"2002-05-31\", \"2002-06-30\", \"2002-07-31\", \"2002-08-31\", \"2002-09-30\", \"2002-10-31\", \"2002-11-30\", \"2002-12-31\", \"2003-01-31\", \"2003-02-28\", \"2003-03-31\", \"2003-04-30\", \"2003-05-31\", \"2003-06-30\", \"2003-07-31\", \"2003-08-31\", \"2003-09-30\", \"2003-10-31\", \"2003-11-30\", \"2003-12-31\", \"2004-01-31\", \"2004-02-29\", \"2004-03-31\", \"2004-04-30\", \"2004-05-31\", \"2004-06-30\", \"2004-07-31\", \"2004-08-31\", \"2004-09-30\", \"2004-10-31\", \"2004-11-30\", \"2004-12-31\", \"2005-01-31\", \"2005-02-28\", \"2005-03-31\", \"2005-04-30\", \"2005-05-31\", \"2005-06-30\", \"2005-07-31\", \"2005-08-31\", \"2005-09-30\", \"2005-10-31\", \"2005-11-30\", \"2005-12-31\", \"2006-01-31\", \"2006-02-28\", \"2006-03-31\", \"2006-04-30\", \"2006-05-31\", \"2006-06-30\", \"2006-07-31\", \"2006-08-31\", \"2006-09-30\", \"2006-10-31\", \"2006-11-30\", \"2006-12-31\", \"2007-01-31\", \"2007-02-28\", \"2007-03-31\", \"2007-04-30\", \"2007-05-31\", \"2007-06-30\", \"2007-07-31\", \"2007-08-31\", \"2007-09-30\", \"2007-10-31\", \"2007-11-30\", \"2007-12-31\", \"2008-01-31\", \"2008-02-29\", \"2008-03-31\", \"2008-04-30\", \"2008-05-31\", \"2008-06-30\", \"2008-07-31\", \"2008-08-31\", \"2008-09-30\", \"2008-10-31\", \"2008-11-30\", \"2008-12-31\", \"2009-01-31\", \"2009-02-28\", \"2009-03-31\", \"2009-04-30\", \"2009-05-31\", \"2009-06-30\", \"2009-07-31\", \"2009-08-31\", \"2009-09-30\", \"2009-10-31\", \"2009-11-30\", \"2009-12-31\", \"2010-01-31\", \"2010-02-28\", \"2010-03-31\", \"2010-04-30\", \"2010-05-31\", \"2010-06-30\", \"2010-07-31\", \"2010-08-31\", \"2010-09-30\", \"2010-10-31\", \"2010-11-30\", \"2010-12-31\", \"2011-01-31\", \"2011-02-28\", \"2011-03-31\", \"2011-04-30\", \"2011-05-31\", \"2011-06-30\", \"2011-07-31\", \"2011-08-31\", \"2011-09-30\", \"2011-10-31\", \"2011-11-30\", \"2011-12-31\", \"2012-01-31\", \"2012-02-29\", \"2012-03-31\", \"2012-04-30\", \"2012-05-31\", \"2012-06-30\", \"2012-07-31\", \"2012-08-31\", \"2012-09-30\", \"2012-10-31\", \"2012-11-30\", \"2012-12-31\", \"2013-01-31\", \"2013-02-28\", \"2013-03-31\", \"2013-04-30\", \"2013-05-31\", \"2013-06-30\", \"2013-07-31\", \"2013-08-31\", \"2013-09-30\", \"2013-10-31\", \"2013-11-30\", \"2013-12-31\", \"2014-01-31\", \"2014-02-28\", \"2014-03-31\", \"2014-04-30\", \"2014-05-31\", \"2014-06-30\", \"2014-07-31\", \"2014-08-31\", \"2014-09-30\", \"2014-10-31\", \"2014-11-30\", \"2014-12-31\", \"2015-01-31\", \"2015-02-28\", \"2015-03-31\", \"2015-04-30\", \"2015-05-31\", \"2015-06-30\", \"2015-07-31\", \"2015-08-31\", \"2015-09-30\", \"2015-10-31\", \"2015-11-30\", \"2015-12-31\", \"2016-01-31\", \"2016-02-29\", \"2016-03-31\", \"2016-04-30\", \"2016-05-31\", \"2016-06-30\", \"2016-07-31\", \"2016-08-31\", \"2016-09-30\", \"2016-10-31\", \"2016-11-30\", \"2016-12-31\", \"2017-01-31\", \"2017-02-28\", \"2017-03-31\", \"2017-04-30\", \"2017-05-31\", \"2017-06-30\", \"2017-07-31\", \"2017-08-31\", \"2017-09-30\", \"2017-10-31\", \"2017-11-30\", \"2017-12-31\", \"2018-01-31\", \"2018-02-28\", \"2018-03-31\", \"2018-04-30\", \"2018-05-31\", \"2018-06-30\", \"2018-07-31\", \"2018-08-31\", \"2018-09-30\", \"2018-10-31\", \"2018-11-30\", \"2018-12-31\", \"2019-01-31\", \"2019-02-28\", \"2019-03-31\", \"2019-04-30\", \"2019-05-31\", \"2019-06-30\", \"2019-07-31\", \"2019-08-31\", \"2019-09-30\", \"2019-10-31\", \"2019-11-30\", \"2019-12-31\", \"2020-01-31\", \"2020-02-29\", \"2020-03-31\", \"2020-04-30\", \"2020-05-31\", \"2020-06-30\", \"2020-07-31\", \"2020-08-31\", \"2020-09-30\", \"2020-10-31\", \"2020-11-30\", \"2020-12-31\", \"2021-01-31\", \"2021-02-28\", \"2021-03-31\"], \"xaxis\": \"x\", \"y\": [159026.0, 158799.0, 158949.0, 159407.0, 160126.0, 160486.0, 160443.0, 159825.0, 159781.0, 159820.0, 160931.0, 161335.0, 161299.0, 160818.0, 160347.0, 159827.0, 158785.0, 158410.0, 158794.0, 160452.0, 161019.0, 161404.0, 159870.0, 159780.0, 160352.0, 162225.0, 163747.0, 164681.0, 165975.0, 166645.0, 166940.0, 166691.0, 167149.0, 167800.0, 169306.0, 170326.0, 170824.0, 171115.0, 171399.0, 172342.0, 173006.0, 174329.0, 175565.0, 175901.0, 175938.0, 176159.0, 176514.0, 176076.0, 176943.0, 178048.0, 179933.0, 181134.0, 182379.0, 183412.0, 184462.0, 186543.0, 188593.0, 189862.0, 191300.0, 193544.0, 195176.0, 195920.0, 196574.0, 197572.0, 198583.0, 199755.0, 200592.0, 201507.0, 201787.0, 203512.0, 204873.0, 206801.0, 208629.0, 211166.0, 212880.0, 215197.0, 218055.0, 221172.0, 224023.0, 226303.0, 229728.0, 233393.0, 238169.0, 242476.0, 246569.0, 250445.0, 255249.0, 258908.0, 261497.0, 264207.0, 269533.0, 276074.0, 281629.0, 285568.0, 288890.0, 292818.0, 297572.0, 302262.0, 307451.0, 314822.0, 324831.0, 333977.0, 340819.0, 346721.0, 354478.0, 362283.0, 370213.0, 377022.0, 383421.0, 391956.0, 399472.0, 406691.0, 411040.0, 417509.0, 425458.0, 433627.0, 441836.0, 450140.0, 457304.0, 463751.0, 470840.0, 475588.0, 482155.0, 486993.0, 494526.0, 498718.0, 502358.0, 506156.0, 508426.0, 512786.0, 516451.0, 521562.0, 522528.0, 524017.0, 523993.0, 525463.0, 523981.0, 524831.0, 524621.0, 524639.0, 521805.0, 516500.0, 510576.0, 504197.0, 497899.0, 488010.0, 474106.0, 458897.0, 444913.0, 430685.0, 414254.0, 396785.0, 380497.0, 365809.0, 351747.0, 337682.0, 327031.0, 319998.0, 314972.0, 309383.0, 302609.0, 297692.0, 295733.0, 295488.0, 295175.0, 294367.0, 294821.0, 296909.0, 298222.0, 297846.0, 298980.0, 300211.0, 303415.0, 301592.0, 299208.0, 294616.0, 293840.0, 292737.0, 292044.0, 288833.0, 285201.0, 282018.0, 279069.0, 277392.0, 274679.0, 274727.0, 273905.0, 273856.0, 271546.0, 269608.0, 268412.0, 267755.0, 268290.0, 268359.0, 268123.0, 267273.0, 266838.0, 267475.0, 269680.0, 273210.0, 276521.0, 280341.0, 282428.0, 286358.0, 288784.0, 293784.0, 297879.0, 304452.0, 310999.0, 317344.0, 322191.0, 326750.0, 331931.0, 336825.0, 341821.0, 346156.0, 351286.0, 353686.0, 356854.0, 357316.0, 359012.0, 359914.0, 362801.0, 363697.0, 363542.0, 363423.0, 364489.0, 365052.0, 366201.0, 368184.0, 371385.0, 373894.0, 375742.0, 377649.0, 378929.0, 381964.0, 385812.0, 389984.0, 394203.0, 399278.0, 403663.0, 408586.0, 411673.0, 416177.0, 419871.0, 424794.0, 429234.0, 433296.0, 437664.0, 441520.0, 444033.0, 446283.0, 449562.0, 452681.0, 455406.0, 457894.0, 461211.0, 463592.0, 466117.0, 469643.0, 472821.0, 476233.0, 480653.0, 485240.0, 489109.0, 493144.0, 498081.0, 502098.0, 505841.0, 508527.0, 510877.0, 511281.0, 512593.0, 514699.0, 517722.0, 518812.0, 520251.0, 518591.0, 516957.0, 517293.0, 521740.0, 528013.0, 531750.0, 532806.0, 532890.0, 533148.0, 535890.0, 541389.0, 546177.0, 551665.0, 557142.0, 563171.0, 565957.0, 568022.0, 572554.0, 580364.0, 588910.0, 597201.0, 603020.0, 607825.0, 613502.0, 620703.0, 628251.0], \"yaxis\": \"y\"}, {\"hovertemplate\": \"City=Inglewood<br>date=%{x}<br>value=%{y}<extra></extra>\", \"legendgroup\": \"Inglewood\", \"line\": {\"color\": \"#FFA15A\", \"dash\": \"solid\"}, \"mode\": \"lines\", \"name\": \"Inglewood\", \"showlegend\": true, \"type\": \"scattergl\", \"x\": [\"1996-01-31\", \"1996-02-29\", \"1996-03-31\", \"1996-04-30\", \"1996-05-31\", \"1996-06-30\", \"1996-07-31\", \"1996-08-31\", \"1996-09-30\", \"1996-10-31\", \"1996-11-30\", \"1996-12-31\", \"1997-01-31\", \"1997-02-28\", \"1997-03-31\", \"1997-04-30\", \"1997-05-31\", \"1997-06-30\", \"1997-07-31\", \"1997-08-31\", \"1997-09-30\", \"1997-10-31\", \"1997-11-30\", \"1997-12-31\", \"1998-01-31\", \"1998-02-28\", \"1998-03-31\", \"1998-04-30\", \"1998-05-31\", \"1998-06-30\", \"1998-07-31\", \"1998-08-31\", \"1998-09-30\", \"1998-10-31\", \"1998-11-30\", \"1998-12-31\", \"1999-01-31\", \"1999-02-28\", \"1999-03-31\", \"1999-04-30\", \"1999-05-31\", \"1999-06-30\", \"1999-07-31\", \"1999-08-31\", \"1999-09-30\", \"1999-10-31\", \"1999-11-30\", \"1999-12-31\", \"2000-01-31\", \"2000-02-29\", \"2000-03-31\", \"2000-04-30\", \"2000-05-31\", \"2000-06-30\", \"2000-07-31\", \"2000-08-31\", \"2000-09-30\", \"2000-10-31\", \"2000-11-30\", \"2000-12-31\", \"2001-01-31\", \"2001-02-28\", \"2001-03-31\", \"2001-04-30\", \"2001-05-31\", \"2001-06-30\", \"2001-07-31\", \"2001-08-31\", \"2001-09-30\", \"2001-10-31\", \"2001-11-30\", \"2001-12-31\", \"2002-01-31\", \"2002-02-28\", \"2002-03-31\", \"2002-04-30\", \"2002-05-31\", \"2002-06-30\", \"2002-07-31\", \"2002-08-31\", \"2002-09-30\", \"2002-10-31\", \"2002-11-30\", \"2002-12-31\", \"2003-01-31\", \"2003-02-28\", \"2003-03-31\", \"2003-04-30\", \"2003-05-31\", \"2003-06-30\", \"2003-07-31\", \"2003-08-31\", \"2003-09-30\", \"2003-10-31\", \"2003-11-30\", \"2003-12-31\", \"2004-01-31\", \"2004-02-29\", \"2004-03-31\", \"2004-04-30\", \"2004-05-31\", \"2004-06-30\", \"2004-07-31\", \"2004-08-31\", \"2004-09-30\", \"2004-10-31\", \"2004-11-30\", \"2004-12-31\", \"2005-01-31\", \"2005-02-28\", \"2005-03-31\", \"2005-04-30\", \"2005-05-31\", \"2005-06-30\", \"2005-07-31\", \"2005-08-31\", \"2005-09-30\", \"2005-10-31\", \"2005-11-30\", \"2005-12-31\", \"2006-01-31\", \"2006-02-28\", \"2006-03-31\", \"2006-04-30\", \"2006-05-31\", \"2006-06-30\", \"2006-07-31\", \"2006-08-31\", \"2006-09-30\", \"2006-10-31\", \"2006-11-30\", \"2006-12-31\", \"2007-01-31\", \"2007-02-28\", \"2007-03-31\", \"2007-04-30\", \"2007-05-31\", \"2007-06-30\", \"2007-07-31\", \"2007-08-31\", \"2007-09-30\", \"2007-10-31\", \"2007-11-30\", \"2007-12-31\", \"2008-01-31\", \"2008-02-29\", \"2008-03-31\", \"2008-04-30\", \"2008-05-31\", \"2008-06-30\", \"2008-07-31\", \"2008-08-31\", \"2008-09-30\", \"2008-10-31\", \"2008-11-30\", \"2008-12-31\", \"2009-01-31\", \"2009-02-28\", \"2009-03-31\", \"2009-04-30\", \"2009-05-31\", \"2009-06-30\", \"2009-07-31\", \"2009-08-31\", \"2009-09-30\", \"2009-10-31\", \"2009-11-30\", \"2009-12-31\", \"2010-01-31\", \"2010-02-28\", \"2010-03-31\", \"2010-04-30\", \"2010-05-31\", \"2010-06-30\", \"2010-07-31\", \"2010-08-31\", \"2010-09-30\", \"2010-10-31\", \"2010-11-30\", \"2010-12-31\", \"2011-01-31\", \"2011-02-28\", \"2011-03-31\", \"2011-04-30\", \"2011-05-31\", \"2011-06-30\", \"2011-07-31\", \"2011-08-31\", \"2011-09-30\", \"2011-10-31\", \"2011-11-30\", \"2011-12-31\", \"2012-01-31\", \"2012-02-29\", \"2012-03-31\", \"2012-04-30\", \"2012-05-31\", \"2012-06-30\", \"2012-07-31\", \"2012-08-31\", \"2012-09-30\", \"2012-10-31\", \"2012-11-30\", \"2012-12-31\", \"2013-01-31\", \"2013-02-28\", \"2013-03-31\", \"2013-04-30\", \"2013-05-31\", \"2013-06-30\", \"2013-07-31\", \"2013-08-31\", \"2013-09-30\", \"2013-10-31\", \"2013-11-30\", \"2013-12-31\", \"2014-01-31\", \"2014-02-28\", \"2014-03-31\", \"2014-04-30\", \"2014-05-31\", \"2014-06-30\", \"2014-07-31\", \"2014-08-31\", \"2014-09-30\", \"2014-10-31\", \"2014-11-30\", \"2014-12-31\", \"2015-01-31\", \"2015-02-28\", \"2015-03-31\", \"2015-04-30\", \"2015-05-31\", \"2015-06-30\", \"2015-07-31\", \"2015-08-31\", \"2015-09-30\", \"2015-10-31\", \"2015-11-30\", \"2015-12-31\", \"2016-01-31\", \"2016-02-29\", \"2016-03-31\", \"2016-04-30\", \"2016-05-31\", \"2016-06-30\", \"2016-07-31\", \"2016-08-31\", \"2016-09-30\", \"2016-10-31\", \"2016-11-30\", \"2016-12-31\", \"2017-01-31\", \"2017-02-28\", \"2017-03-31\", \"2017-04-30\", \"2017-05-31\", \"2017-06-30\", \"2017-07-31\", \"2017-08-31\", \"2017-09-30\", \"2017-10-31\", \"2017-11-30\", \"2017-12-31\", \"2018-01-31\", \"2018-02-28\", \"2018-03-31\", \"2018-04-30\", \"2018-05-31\", \"2018-06-30\", \"2018-07-31\", \"2018-08-31\", \"2018-09-30\", \"2018-10-31\", \"2018-11-30\", \"2018-12-31\", \"2019-01-31\", \"2019-02-28\", \"2019-03-31\", \"2019-04-30\", \"2019-05-31\", \"2019-06-30\", \"2019-07-31\", \"2019-08-31\", \"2019-09-30\", \"2019-10-31\", \"2019-11-30\", \"2019-12-31\", \"2020-01-31\", \"2020-02-29\", \"2020-03-31\", \"2020-04-30\", \"2020-05-31\", \"2020-06-30\", \"2020-07-31\", \"2020-08-31\", \"2020-09-30\", \"2020-10-31\", \"2020-11-30\", \"2020-12-31\", \"2021-01-31\", \"2021-02-28\", \"2021-03-31\"], \"xaxis\": \"x\", \"y\": [157821.0, 157943.0, 157953.0, 158136.0, 158257.0, 158433.0, 158588.0, 158661.0, 158786.0, 158646.0, 158574.0, 158194.0, 157540.0, 156610.0, 156070.0, 155812.0, 155744.0, 155655.0, 155957.0, 156434.0, 156672.0, 157131.0, 157400.0, 158407.0, 159484.0, 161246.0, 162513.0, 163471.0, 164206.0, 164568.0, 164237.0, 164040.0, 164475.0, 165310.0, 166279.0, 166838.0, 168050.0, 168954.0, 170055.0, 170883.0, 171740.0, 173368.0, 175323.0, 176808.0, 177691.0, 178416.0, 179478.0, 180325.0, 181099.0, 181770.0, 182799.0, 183888.0, 185206.0, 186305.0, 187442.0, 188882.0, 190361.0, 191649.0, 192907.0, 194598.0, 196091.0, 197575.0, 198992.0, 200800.0, 202515.0, 204088.0, 205309.0, 206645.0, 208159.0, 210538.0, 212800.0, 214928.0, 216904.0, 219297.0, 222034.0, 224976.0, 227738.0, 231067.0, 234879.0, 238727.0, 242529.0, 246156.0, 250544.0, 255041.0, 259411.0, 263294.0, 267001.0, 270122.0, 273615.0, 276801.0, 281259.0, 286188.0, 290802.0, 294286.0, 298336.0, 303247.0, 309758.0, 316204.0, 323129.0, 331443.0, 341363.0, 350932.0, 359209.0, 366827.0, 376651.0, 386913.0, 395419.0, 402901.0, 408758.0, 416730.0, 424125.0, 431912.0, 437393.0, 443796.0, 451301.0, 459550.0, 467709.0, 476241.0, 483923.0, 490805.0, 497851.0, 503625.0, 509963.0, 514046.0, 520460.0, 526208.0, 531115.0, 535035.0, 535835.0, 537874.0, 540188.0, 543536.0, 544458.0, 543816.0, 542927.0, 543891.0, 542899.0, 541527.0, 538487.0, 535207.0, 530646.0, 523743.0, 517783.0, 511039.0, 504581.0, 494855.0, 482217.0, 467716.0, 453185.0, 439682.0, 425287.0, 410475.0, 397698.0, 385506.0, 372249.0, 357843.0, 347367.0, 342146.0, 337525.0, 332415.0, 326251.0, 321294.0, 317670.0, 316454.0, 314564.0, 313202.0, 312427.0, 313193.0, 311797.0, 307815.0, 306969.0, 306674.0, 308707.0, 306271.0, 304829.0, 301761.0, 300729.0, 299997.0, 299257.0, 298693.0, 297770.0, 297421.0, 294963.0, 293241.0, 290109.0, 290600.0, 290334.0, 290291.0, 288913.0, 286716.0, 286177.0, 285210.0, 285596.0, 285712.0, 286263.0, 286389.0, 287904.0, 288743.0, 290494.0, 291804.0, 294584.0, 298602.0, 302048.0, 306734.0, 310493.0, 316430.0, 321948.0, 329061.0, 334143.0, 340723.0, 346744.0, 354433.0, 359881.0, 364260.0, 367446.0, 369319.0, 371272.0, 370850.0, 371750.0, 372088.0, 373940.0, 374599.0, 375896.0, 375745.0, 375897.0, 376100.0, 378487.0, 381277.0, 385011.0, 389683.0, 394504.0, 397283.0, 400279.0, 402936.0, 405833.0, 408888.0, 412388.0, 416775.0, 420092.0, 424903.0, 428262.0, 431768.0, 433141.0, 437652.0, 441297.0, 446146.0, 449120.0, 453465.0, 459457.0, 465964.0, 471698.0, 476743.0, 483403.0, 489144.0, 495727.0, 500391.0, 507459.0, 513138.0, 520064.0, 526351.0, 531592.0, 535899.0, 541310.0, 546540.0, 551283.0, 556970.0, 563751.0, 569963.0, 573903.0, 577693.0, 582200.0, 585399.0, 587540.0, 588893.0, 590513.0, 590439.0, 589822.0, 586864.0, 584419.0, 584257.0, 588593.0, 594365.0, 595439.0, 594084.0, 592724.0, 594347.0, 597750.0, 603954.0, 610642.0, 617734.0, 623613.0, 629786.0, 633177.0, 636041.0, 642417.0, 651936.0, 662632.0, 672016.0, 679921.0, 686868.0, 694280.0, 703109.0, 713210.0], \"yaxis\": \"y\"}],                        {\"font\": {\"color\": \"gray\", \"family\": \"Courier New\"}, \"legend\": {\"title\": {\"text\": \"City\"}, \"tracegroupgap\": 0}, \"margin\": {\"t\": 60}, \"template\": {\"data\": {\"bar\": [{\"error_x\": {\"color\": \"#2a3f5f\"}, \"error_y\": {\"color\": \"#2a3f5f\"}, \"marker\": {\"line\": {\"color\": \"#E5ECF6\", \"width\": 0.5}}, \"type\": \"bar\"}], \"barpolar\": [{\"marker\": {\"line\": {\"color\": \"#E5ECF6\", \"width\": 0.5}}, \"type\": \"barpolar\"}], \"carpet\": [{\"aaxis\": {\"endlinecolor\": \"#2a3f5f\", \"gridcolor\": \"white\", \"linecolor\": \"white\", \"minorgridcolor\": \"white\", \"startlinecolor\": \"#2a3f5f\"}, \"baxis\": {\"endlinecolor\": \"#2a3f5f\", \"gridcolor\": \"white\", \"linecolor\": \"white\", \"minorgridcolor\": \"white\", \"startlinecolor\": \"#2a3f5f\"}, \"type\": \"carpet\"}], \"choropleth\": [{\"colorbar\": {\"outlinewidth\": 0, \"ticks\": \"\"}, \"type\": \"choropleth\"}], \"contour\": [{\"colorbar\": {\"outlinewidth\": 0, \"ticks\": \"\"}, \"colorscale\": [[0.0, \"#0d0887\"], [0.1111111111111111, \"#46039f\"], [0.2222222222222222, \"#7201a8\"], [0.3333333333333333, \"#9c179e\"], [0.4444444444444444, \"#bd3786\"], [0.5555555555555556, \"#d8576b\"], [0.6666666666666666, \"#ed7953\"], [0.7777777777777778, \"#fb9f3a\"], [0.8888888888888888, \"#fdca26\"], [1.0, \"#f0f921\"]], \"type\": \"contour\"}], \"contourcarpet\": [{\"colorbar\": {\"outlinewidth\": 0, \"ticks\": \"\"}, \"type\": \"contourcarpet\"}], \"heatmap\": [{\"colorbar\": {\"outlinewidth\": 0, \"ticks\": \"\"}, \"colorscale\": [[0.0, \"#0d0887\"], [0.1111111111111111, \"#46039f\"], [0.2222222222222222, \"#7201a8\"], [0.3333333333333333, \"#9c179e\"], [0.4444444444444444, \"#bd3786\"], [0.5555555555555556, \"#d8576b\"], [0.6666666666666666, \"#ed7953\"], [0.7777777777777778, \"#fb9f3a\"], [0.8888888888888888, \"#fdca26\"], [1.0, \"#f0f921\"]], \"type\": \"heatmap\"}], \"heatmapgl\": [{\"colorbar\": {\"outlinewidth\": 0, \"ticks\": \"\"}, \"colorscale\": [[0.0, \"#0d0887\"], [0.1111111111111111, \"#46039f\"], [0.2222222222222222, \"#7201a8\"], [0.3333333333333333, \"#9c179e\"], [0.4444444444444444, \"#bd3786\"], [0.5555555555555556, \"#d8576b\"], [0.6666666666666666, \"#ed7953\"], [0.7777777777777778, \"#fb9f3a\"], [0.8888888888888888, \"#fdca26\"], [1.0, \"#f0f921\"]], \"type\": \"heatmapgl\"}], \"histogram\": [{\"marker\": {\"colorbar\": {\"outlinewidth\": 0, \"ticks\": \"\"}}, \"type\": \"histogram\"}], \"histogram2d\": [{\"colorbar\": {\"outlinewidth\": 0, \"ticks\": \"\"}, \"colorscale\": [[0.0, \"#0d0887\"], [0.1111111111111111, \"#46039f\"], [0.2222222222222222, \"#7201a8\"], [0.3333333333333333, \"#9c179e\"], [0.4444444444444444, \"#bd3786\"], [0.5555555555555556, \"#d8576b\"], [0.6666666666666666, \"#ed7953\"], [0.7777777777777778, \"#fb9f3a\"], [0.8888888888888888, \"#fdca26\"], [1.0, \"#f0f921\"]], \"type\": \"histogram2d\"}], \"histogram2dcontour\": [{\"colorbar\": {\"outlinewidth\": 0, \"ticks\": \"\"}, \"colorscale\": [[0.0, \"#0d0887\"], [0.1111111111111111, \"#46039f\"], [0.2222222222222222, \"#7201a8\"], [0.3333333333333333, \"#9c179e\"], [0.4444444444444444, \"#bd3786\"], [0.5555555555555556, \"#d8576b\"], [0.6666666666666666, \"#ed7953\"], [0.7777777777777778, \"#fb9f3a\"], [0.8888888888888888, \"#fdca26\"], [1.0, \"#f0f921\"]], \"type\": \"histogram2dcontour\"}], \"mesh3d\": [{\"colorbar\": {\"outlinewidth\": 0, \"ticks\": \"\"}, \"type\": \"mesh3d\"}], \"parcoords\": [{\"line\": {\"colorbar\": {\"outlinewidth\": 0, \"ticks\": \"\"}}, \"type\": \"parcoords\"}], \"pie\": [{\"automargin\": true, \"type\": \"pie\"}], \"scatter\": [{\"marker\": {\"colorbar\": {\"outlinewidth\": 0, \"ticks\": \"\"}}, \"type\": \"scatter\"}], \"scatter3d\": [{\"line\": {\"colorbar\": {\"outlinewidth\": 0, \"ticks\": \"\"}}, \"marker\": {\"colorbar\": {\"outlinewidth\": 0, \"ticks\": \"\"}}, \"type\": \"scatter3d\"}], \"scattercarpet\": [{\"marker\": {\"colorbar\": {\"outlinewidth\": 0, \"ticks\": \"\"}}, \"type\": \"scattercarpet\"}], \"scattergeo\": [{\"marker\": {\"colorbar\": {\"outlinewidth\": 0, \"ticks\": \"\"}}, \"type\": \"scattergeo\"}], \"scattergl\": [{\"marker\": {\"colorbar\": {\"outlinewidth\": 0, \"ticks\": \"\"}}, \"type\": \"scattergl\"}], \"scattermapbox\": [{\"marker\": {\"colorbar\": {\"outlinewidth\": 0, \"ticks\": \"\"}}, \"type\": \"scattermapbox\"}], \"scatterpolar\": [{\"marker\": {\"colorbar\": {\"outlinewidth\": 0, \"ticks\": \"\"}}, \"type\": \"scatterpolar\"}], \"scatterpolargl\": [{\"marker\": {\"colorbar\": {\"outlinewidth\": 0, \"ticks\": \"\"}}, \"type\": \"scatterpolargl\"}], \"scatterternary\": [{\"marker\": {\"colorbar\": {\"outlinewidth\": 0, \"ticks\": \"\"}}, \"type\": \"scatterternary\"}], \"surface\": [{\"colorbar\": {\"outlinewidth\": 0, \"ticks\": \"\"}, \"colorscale\": [[0.0, \"#0d0887\"], [0.1111111111111111, \"#46039f\"], [0.2222222222222222, \"#7201a8\"], [0.3333333333333333, \"#9c179e\"], [0.4444444444444444, \"#bd3786\"], [0.5555555555555556, \"#d8576b\"], [0.6666666666666666, \"#ed7953\"], [0.7777777777777778, \"#fb9f3a\"], [0.8888888888888888, \"#fdca26\"], [1.0, \"#f0f921\"]], \"type\": \"surface\"}], \"table\": [{\"cells\": {\"fill\": {\"color\": \"#EBF0F8\"}, \"line\": {\"color\": \"white\"}}, \"header\": {\"fill\": {\"color\": \"#C8D4E3\"}, \"line\": {\"color\": \"white\"}}, \"type\": \"table\"}]}, \"layout\": {\"annotationdefaults\": {\"arrowcolor\": \"#2a3f5f\", \"arrowhead\": 0, \"arrowwidth\": 1}, \"autotypenumbers\": \"strict\", \"coloraxis\": {\"colorbar\": {\"outlinewidth\": 0, \"ticks\": \"\"}}, \"colorscale\": {\"diverging\": [[0, \"#8e0152\"], [0.1, \"#c51b7d\"], [0.2, \"#de77ae\"], [0.3, \"#f1b6da\"], [0.4, \"#fde0ef\"], [0.5, \"#f7f7f7\"], [0.6, \"#e6f5d0\"], [0.7, \"#b8e186\"], [0.8, \"#7fbc41\"], [0.9, \"#4d9221\"], [1, \"#276419\"]], \"sequential\": [[0.0, \"#0d0887\"], [0.1111111111111111, \"#46039f\"], [0.2222222222222222, \"#7201a8\"], [0.3333333333333333, \"#9c179e\"], [0.4444444444444444, \"#bd3786\"], [0.5555555555555556, \"#d8576b\"], [0.6666666666666666, \"#ed7953\"], [0.7777777777777778, \"#fb9f3a\"], [0.8888888888888888, \"#fdca26\"], [1.0, \"#f0f921\"]], \"sequentialminus\": [[0.0, \"#0d0887\"], [0.1111111111111111, \"#46039f\"], [0.2222222222222222, \"#7201a8\"], [0.3333333333333333, \"#9c179e\"], [0.4444444444444444, \"#bd3786\"], [0.5555555555555556, \"#d8576b\"], [0.6666666666666666, \"#ed7953\"], [0.7777777777777778, \"#fb9f3a\"], [0.8888888888888888, \"#fdca26\"], [1.0, \"#f0f921\"]]}, \"colorway\": [\"#636efa\", \"#EF553B\", \"#00cc96\", \"#ab63fa\", \"#FFA15A\", \"#19d3f3\", \"#FF6692\", \"#B6E880\", \"#FF97FF\", \"#FECB52\"], \"font\": {\"color\": \"#2a3f5f\"}, \"geo\": {\"bgcolor\": \"white\", \"lakecolor\": \"white\", \"landcolor\": \"#E5ECF6\", \"showlakes\": true, \"showland\": true, \"subunitcolor\": \"white\"}, \"hoverlabel\": {\"align\": \"left\"}, \"hovermode\": \"closest\", \"mapbox\": {\"style\": \"light\"}, \"paper_bgcolor\": \"white\", \"plot_bgcolor\": \"#E5ECF6\", \"polar\": {\"angularaxis\": {\"gridcolor\": \"white\", \"linecolor\": \"white\", \"ticks\": \"\"}, \"bgcolor\": \"#E5ECF6\", \"radialaxis\": {\"gridcolor\": \"white\", \"linecolor\": \"white\", \"ticks\": \"\"}}, \"scene\": {\"xaxis\": {\"backgroundcolor\": \"#E5ECF6\", \"gridcolor\": \"white\", \"gridwidth\": 2, \"linecolor\": \"white\", \"showbackground\": true, \"ticks\": \"\", \"zerolinecolor\": \"white\"}, \"yaxis\": {\"backgroundcolor\": \"#E5ECF6\", \"gridcolor\": \"white\", \"gridwidth\": 2, \"linecolor\": \"white\", \"showbackground\": true, \"ticks\": \"\", \"zerolinecolor\": \"white\"}, \"zaxis\": {\"backgroundcolor\": \"#E5ECF6\", \"gridcolor\": \"white\", \"gridwidth\": 2, \"linecolor\": \"white\", \"showbackground\": true, \"ticks\": \"\", \"zerolinecolor\": \"white\"}}, \"shapedefaults\": {\"line\": {\"color\": \"#2a3f5f\"}}, \"ternary\": {\"aaxis\": {\"gridcolor\": \"white\", \"linecolor\": \"white\", \"ticks\": \"\"}, \"baxis\": {\"gridcolor\": \"white\", \"linecolor\": \"white\", \"ticks\": \"\"}, \"bgcolor\": \"#E5ECF6\", \"caxis\": {\"gridcolor\": \"white\", \"linecolor\": \"white\", \"ticks\": \"\"}}, \"title\": {\"x\": 0.05}, \"xaxis\": {\"automargin\": true, \"gridcolor\": \"white\", \"linecolor\": \"white\", \"ticks\": \"\", \"title\": {\"standoff\": 15}, \"zerolinecolor\": \"white\", \"zerolinewidth\": 2}, \"yaxis\": {\"automargin\": true, \"gridcolor\": \"white\", \"linecolor\": \"white\", \"ticks\": \"\", \"title\": {\"standoff\": 15}, \"zerolinecolor\": \"white\", \"zerolinewidth\": 2}}}, \"title\": {\"font\": {\"color\": \"Purple\", \"family\": \"Times New Roman\"}, \"text\": \"Housing Prices Change for Top 5 Black or African American popular areas\"}, \"xaxis\": {\"anchor\": \"y\", \"domain\": [0.0, 1.0], \"title\": {\"text\": \"Date\"}}, \"yaxis\": {\"anchor\": \"x\", \"domain\": [0.0, 1.0], \"title\": {\"text\": \"Housing Prices\"}}},                        {\"responsive\": true}                    ).then(function(){\n",
       "                            \n",
       "var gd = document.getElementById('9b6abe89-8112-4867-b4cd-bfd746587649');\n",
       "var x = new MutationObserver(function (mutations, observer) {{\n",
       "        var display = window.getComputedStyle(gd).display;\n",
       "        if (!display || display === 'none') {{\n",
       "            console.log([gd, 'removed!']);\n",
       "            Plotly.purge(gd);\n",
       "            observer.disconnect();\n",
       "        }}\n",
       "}});\n",
       "\n",
       "// Listen for the removal of the full notebook cells\n",
       "var notebookContainer = gd.closest('#notebook-container');\n",
       "if (notebookContainer) {{\n",
       "    x.observe(notebookContainer, {childList: true});\n",
       "}}\n",
       "\n",
       "// Listen for the clearing of the current output cell\n",
       "var outputEl = gd.closest('.output');\n",
       "if (outputEl) {{\n",
       "    x.observe(outputEl, {childList: true});\n",
       "}}\n",
       "\n",
       "                        })                };                });            </script>        </div>"
      ]
     },
     "metadata": {},
     "output_type": "display_data"
    }
   ],
   "source": [
    "# Whitetop = joint.sort_values(by = 'White',ascending = False).head()\n",
    "# Whitetop\n",
    "blacktop = joint.sort_values(by = 'Black or AfricanAmerican',ascending = False).head()\n",
    "blacklow = joint.sort_values(by = 'Black or AfricanAmerican',ascending = True).head()\n",
    "\n",
    "blacktop.drop(blacktop.iloc[:, 0:17], inplace = True, axis = 1)\n",
    "blacktop.head()\n",
    "#asiantop.set_index('Place')\n",
    "blacktop= blacktop.stack().to_frame().reset_index()\n",
    "blacktop = blacktop.rename(columns = {'level_1':'date',0:'value','level_0':'City'})\n",
    "blacktop[\"City\"].replace({894: \"View Park-Windsor Hills\",431:\"Ladera Heights\",919:\"Westmont\",912:\"West Athens\",395:\"Inglewood\"}, inplace=True)\n",
    "blacktop\n",
    "#asiantop\n",
    "import plotly.express as px\n",
    "import plotly.graph_objects as go\n",
    "fig = px.line(blacktop, x=\"date\", y=\"value\",color = \"City\")\n",
    "fig.update_layout(title='Housing Prices Change for Top 5 Black or African American popular areas',\n",
    "                   xaxis_title='Date',\n",
    "                   yaxis_title='Housing Prices',\n",
    "                 font_family=\"Courier New\",\n",
    "    font_color=\"gray\",\n",
    "    title_font_family=\"Times New Roman\",\n",
    "    title_font_color=\"Purple\")\n",
    "fig.show()\n",
    "from plotly.io import write_html\n",
    "write_html(fig, \"HouseBlack.html\")"
   ]
  },
  {
   "cell_type": "code",
   "execution_count": 23,
   "metadata": {},
   "outputs": [
    {
     "data": {
      "application/vnd.plotly.v1+json": {
       "config": {
        "plotlyServerURL": "https://plot.ly"
       },
       "data": [
        {
         "hovertemplate": "City=Acampo<br>date=%{x}<br>value=%{y}<extra></extra>",
         "legendgroup": "Acampo",
         "line": {
          "color": "#636efa",
          "dash": "solid"
         },
         "mode": "lines",
         "name": "Acampo",
         "orientation": "v",
         "showlegend": true,
         "type": "scatter",
         "x": [
          "1996-01-31",
          "1996-02-29",
          "1996-03-31",
          "1996-04-30",
          "1996-05-31",
          "1996-06-30",
          "1996-07-31",
          "1996-08-31",
          "1996-09-30",
          "1996-10-31",
          "1996-11-30",
          "1996-12-31",
          "1997-01-31",
          "1997-02-28",
          "1997-03-31",
          "1997-04-30",
          "1997-05-31",
          "1997-06-30",
          "1997-07-31",
          "1997-08-31",
          "1997-09-30",
          "1997-10-31",
          "1997-11-30",
          "1997-12-31",
          "1998-01-31",
          "1998-02-28",
          "1998-03-31",
          "1998-04-30",
          "1998-05-31",
          "1998-06-30",
          "1998-07-31",
          "1998-08-31",
          "1998-09-30",
          "1998-10-31",
          "1998-11-30",
          "1998-12-31",
          "1999-01-31",
          "1999-02-28",
          "1999-03-31",
          "1999-04-30",
          "1999-05-31",
          "1999-06-30",
          "1999-07-31",
          "1999-08-31",
          "1999-09-30",
          "1999-10-31",
          "1999-11-30",
          "1999-12-31",
          "2000-01-31",
          "2000-02-29",
          "2000-03-31",
          "2000-04-30",
          "2000-05-31",
          "2000-06-30",
          "2000-07-31",
          "2000-08-31",
          "2000-09-30",
          "2000-10-31",
          "2000-11-30",
          "2000-12-31",
          "2001-01-31",
          "2001-02-28",
          "2001-03-31",
          "2001-04-30",
          "2001-05-31",
          "2001-06-30",
          "2001-07-31",
          "2001-08-31",
          "2001-09-30",
          "2001-10-31",
          "2001-11-30",
          "2001-12-31",
          "2002-01-31",
          "2002-02-28",
          "2002-03-31",
          "2002-04-30",
          "2002-05-31",
          "2002-06-30",
          "2002-07-31",
          "2002-08-31",
          "2002-09-30",
          "2002-10-31",
          "2002-11-30",
          "2002-12-31",
          "2003-01-31",
          "2003-02-28",
          "2003-03-31",
          "2003-04-30",
          "2003-05-31",
          "2003-06-30",
          "2003-07-31",
          "2003-08-31",
          "2003-09-30",
          "2003-10-31",
          "2003-11-30",
          "2003-12-31",
          "2004-01-31",
          "2004-02-29",
          "2004-03-31",
          "2004-04-30",
          "2004-05-31",
          "2004-06-30",
          "2004-07-31",
          "2004-08-31",
          "2004-09-30",
          "2004-10-31",
          "2004-11-30",
          "2004-12-31",
          "2005-01-31",
          "2005-02-28",
          "2005-03-31",
          "2005-04-30",
          "2005-05-31",
          "2005-06-30",
          "2005-07-31",
          "2005-08-31",
          "2005-09-30",
          "2005-10-31",
          "2005-11-30",
          "2005-12-31",
          "2006-01-31",
          "2006-02-28",
          "2006-03-31",
          "2006-04-30",
          "2006-05-31",
          "2006-06-30",
          "2006-07-31",
          "2006-08-31",
          "2006-09-30",
          "2006-10-31",
          "2006-11-30",
          "2006-12-31",
          "2007-01-31",
          "2007-02-28",
          "2007-03-31",
          "2007-04-30",
          "2007-05-31",
          "2007-06-30",
          "2007-07-31",
          "2007-08-31",
          "2007-09-30",
          "2007-10-31",
          "2007-11-30",
          "2007-12-31",
          "2008-01-31",
          "2008-02-29",
          "2008-03-31",
          "2008-04-30",
          "2008-05-31",
          "2008-06-30",
          "2008-07-31",
          "2008-08-31",
          "2008-09-30",
          "2008-10-31",
          "2008-11-30",
          "2008-12-31",
          "2009-01-31",
          "2009-02-28",
          "2009-03-31",
          "2009-04-30",
          "2009-05-31",
          "2009-06-30",
          "2009-07-31",
          "2009-08-31",
          "2009-09-30",
          "2009-10-31",
          "2009-11-30",
          "2009-12-31",
          "2010-01-31",
          "2010-02-28",
          "2010-03-31",
          "2010-04-30",
          "2010-05-31",
          "2010-06-30",
          "2010-07-31",
          "2010-08-31",
          "2010-09-30",
          "2010-10-31",
          "2010-11-30",
          "2010-12-31",
          "2011-01-31",
          "2011-02-28",
          "2011-03-31",
          "2011-04-30",
          "2011-05-31",
          "2011-06-30",
          "2011-07-31",
          "2011-08-31",
          "2011-09-30",
          "2011-10-31",
          "2011-11-30",
          "2011-12-31",
          "2012-01-31",
          "2012-02-29",
          "2012-03-31",
          "2012-04-30",
          "2012-05-31",
          "2012-06-30",
          "2012-07-31",
          "2012-08-31",
          "2012-09-30",
          "2012-10-31",
          "2012-11-30",
          "2012-12-31",
          "2013-01-31",
          "2013-02-28",
          "2013-03-31",
          "2013-04-30",
          "2013-05-31",
          "2013-06-30",
          "2013-07-31",
          "2013-08-31",
          "2013-09-30",
          "2013-10-31",
          "2013-11-30",
          "2013-12-31",
          "2014-01-31",
          "2014-02-28",
          "2014-03-31",
          "2014-04-30",
          "2014-05-31",
          "2014-06-30",
          "2014-07-31",
          "2014-08-31",
          "2014-09-30",
          "2014-10-31",
          "2014-11-30",
          "2014-12-31",
          "2015-01-31",
          "2015-02-28",
          "2015-03-31",
          "2015-04-30",
          "2015-05-31",
          "2015-06-30",
          "2015-07-31",
          "2015-08-31",
          "2015-09-30",
          "2015-10-31",
          "2015-11-30",
          "2015-12-31",
          "2016-01-31",
          "2016-02-29",
          "2016-03-31",
          "2016-04-30",
          "2016-05-31",
          "2016-06-30",
          "2016-07-31",
          "2016-08-31",
          "2016-09-30",
          "2016-10-31",
          "2016-11-30",
          "2016-12-31",
          "2017-01-31",
          "2017-02-28",
          "2017-03-31",
          "2017-04-30",
          "2017-05-31",
          "2017-06-30",
          "2017-07-31",
          "2017-08-31",
          "2017-09-30",
          "2017-10-31",
          "2017-11-30",
          "2017-12-31",
          "2018-01-31",
          "2018-02-28",
          "2018-03-31",
          "2018-04-30",
          "2018-05-31",
          "2018-06-30",
          "2018-07-31",
          "2018-08-31",
          "2018-09-30",
          "2018-10-31",
          "2018-11-30",
          "2018-12-31",
          "2019-01-31",
          "2019-02-28",
          "2019-03-31",
          "2019-04-30",
          "2019-05-31",
          "2019-06-30",
          "2019-07-31",
          "2019-08-31",
          "2019-09-30",
          "2019-10-31",
          "2019-11-30",
          "2019-12-31",
          "2020-01-31",
          "2020-02-29",
          "2020-03-31",
          "2020-04-30",
          "2020-05-31",
          "2020-06-30",
          "2020-07-31",
          "2020-08-31",
          "2020-09-30",
          "2020-10-31",
          "2020-11-30",
          "2020-12-31",
          "2021-01-31",
          "2021-02-28",
          "2021-03-31"
         ],
         "xaxis": "x",
         "y": [
          140686,
          139739,
          138869,
          136822,
          135551,
          134273,
          133202,
          132272,
          131909,
          132305,
          132515,
          132743,
          132553,
          131854,
          131426,
          131915,
          132036,
          132183,
          132066,
          131938,
          131271,
          129933,
          129581,
          129327,
          130355,
          132113,
          133949,
          134990,
          135442,
          136210,
          137806,
          139650,
          141745,
          143295,
          143807,
          144571,
          144387,
          145400,
          145764,
          147082,
          148253,
          149745,
          150169,
          150388,
          150262,
          151598,
          153622,
          155739,
          157939,
          158066,
          158685,
          158833,
          160614,
          162200,
          164581,
          167029,
          170240,
          172678,
          175136,
          177343,
          180207,
          184085,
          188098,
          191837,
          194440,
          197073,
          199489,
          202875,
          205595,
          208840,
          210874,
          213247,
          215072,
          217717,
          219961,
          222483,
          224309,
          225531,
          226674,
          226500,
          227308,
          227569,
          229971,
          232381,
          235712,
          238820,
          242213,
          245176,
          248534,
          252945,
          256718,
          261634,
          265493,
          271724,
          277093,
          282605,
          286956,
          290362,
          294364,
          299392,
          305400,
          310909,
          318380,
          325455,
          333762,
          340437,
          348421,
          356370,
          364054,
          372871,
          380107,
          387788,
          395312,
          404629,
          412445,
          420545,
          427659,
          433750,
          435850,
          438583,
          441376,
          444769,
          449084,
          452939,
          455766,
          457600,
          461140,
          463439,
          462893,
          459782,
          458894,
          455521,
          453832,
          449886,
          448223,
          444101,
          440500,
          432713,
          423321,
          412108,
          404247,
          397607,
          391152,
          381440,
          367403,
          350911,
          334093,
          322296,
          311472,
          302996,
          294057,
          286297,
          277547,
          266900,
          256185,
          250184,
          249472,
          252585,
          255331,
          254843,
          254064,
          252915,
          250511,
          249055,
          249508,
          255178,
          261137,
          266815,
          269522,
          271256,
          270102,
          269046,
          266868,
          266956,
          268810,
          270651,
          268946,
          265110,
          261849,
          258267,
          255773,
          252382,
          251813,
          250112,
          249788,
          246791,
          246577,
          246457,
          250270,
          252277,
          253361,
          252853,
          252845,
          254034,
          254658,
          256974,
          258282,
          261464,
          262788,
          264695,
          265733,
          268780,
          273113,
          278530,
          279810,
          280285,
          283672,
          290431,
          299768,
          308834,
          316019,
          320591,
          323358,
          327111,
          331473,
          336723,
          346144,
          356270,
          362413,
          365176,
          364219,
          365016,
          367853,
          374523,
          380409,
          381608,
          380955,
          380152,
          382239,
          384949,
          387962,
          390634,
          394054,
          396707,
          401680,
          406636,
          414907,
          425161,
          435525,
          445769,
          450051,
          451671,
          454691,
          459071,
          468446,
          475221,
          479368,
          479824,
          479922,
          482309,
          485898,
          488186,
          491695,
          498171,
          506553,
          512750,
          513407,
          516027,
          519331,
          525676,
          528784,
          531498,
          533836,
          538768,
          545064,
          549907,
          550733,
          554722,
          560027,
          566285,
          566834,
          567912,
          569595,
          573234,
          573172,
          572293,
          572049,
          570544,
          570989,
          570066,
          574060,
          578537,
          578947,
          576829,
          571622,
          569002,
          568344,
          567735,
          566454,
          565421,
          569513,
          575880,
          580639,
          581730,
          589415,
          599056,
          612331,
          623832,
          636628,
          650524,
          665789,
          683425,
          698167
         ],
         "yaxis": "y"
        },
        {
         "hovertemplate": "City=Randsburg<br>date=%{x}<br>value=%{y}<extra></extra>",
         "legendgroup": "Randsburg",
         "line": {
          "color": "#EF553B",
          "dash": "solid"
         },
         "mode": "lines",
         "name": "Randsburg",
         "orientation": "v",
         "showlegend": true,
         "type": "scatter",
         "x": [
          "2018-07-31",
          "2018-08-31",
          "2018-09-30",
          "2018-10-31",
          "2018-11-30",
          "2018-12-31",
          "2019-01-31",
          "2019-02-28",
          "2019-03-31",
          "2019-04-30",
          "2019-05-31",
          "2019-06-30",
          "2019-07-31",
          "2019-08-31",
          "2019-09-30",
          "2019-10-31",
          "2019-11-30",
          "2019-12-31",
          "2020-01-31",
          "2020-02-29",
          "2020-03-31",
          "2020-04-30",
          "2020-05-31",
          "2020-06-30",
          "2020-07-31",
          "2020-08-31",
          "2020-09-30",
          "2020-10-31",
          "2020-11-30",
          "2020-12-31",
          "2021-01-31",
          "2021-02-28",
          "2021-03-31"
         ],
         "xaxis": "x",
         "y": [
          87903,
          88059,
          88410,
          89182,
          89834,
          90496,
          91007,
          91635,
          92585,
          93625,
          94884,
          95838,
          96818,
          98054,
          99079,
          99722,
          100651,
          101541,
          102769,
          103699,
          103810,
          103678,
          102993,
          103026,
          102965,
          102715,
          102520,
          102457,
          102197,
          101888,
          101353,
          100910,
          100771
         ],
         "yaxis": "y"
        },
        {
         "hovertemplate": "City=Old Station<br>date=%{x}<br>value=%{y}<extra></extra>",
         "legendgroup": "Old Station",
         "line": {
          "color": "#00cc96",
          "dash": "solid"
         },
         "mode": "lines",
         "name": "Old Station",
         "orientation": "v",
         "showlegend": true,
         "type": "scatter",
         "x": [
          "2013-10-31",
          "2013-11-30",
          "2013-12-31",
          "2014-01-31",
          "2014-02-28",
          "2014-03-31",
          "2014-04-30",
          "2014-05-31",
          "2014-06-30",
          "2014-07-31",
          "2014-08-31",
          "2014-09-30",
          "2014-10-31",
          "2014-11-30",
          "2014-12-31",
          "2015-01-31",
          "2015-02-28",
          "2015-03-31",
          "2015-04-30",
          "2015-05-31",
          "2015-06-30",
          "2015-07-31",
          "2015-08-31",
          "2015-09-30",
          "2015-10-31",
          "2015-11-30",
          "2015-12-31",
          "2016-01-31",
          "2016-02-29",
          "2016-03-31",
          "2016-04-30",
          "2016-05-31",
          "2016-06-30",
          "2016-07-31",
          "2016-08-31",
          "2016-09-30",
          "2016-10-31",
          "2016-11-30",
          "2016-12-31",
          "2017-01-31",
          "2017-02-28",
          "2017-03-31",
          "2017-04-30",
          "2017-05-31",
          "2017-06-30",
          "2017-07-31",
          "2017-08-31",
          "2017-09-30",
          "2017-10-31",
          "2017-11-30",
          "2017-12-31",
          "2018-01-31",
          "2018-02-28",
          "2018-03-31",
          "2018-04-30",
          "2018-05-31",
          "2018-06-30",
          "2018-07-31",
          "2018-08-31",
          "2018-09-30",
          "2018-10-31",
          "2018-11-30",
          "2018-12-31",
          "2019-01-31",
          "2019-02-28",
          "2019-03-31",
          "2019-04-30",
          "2019-05-31",
          "2019-06-30",
          "2019-07-31",
          "2019-08-31",
          "2019-09-30",
          "2019-10-31",
          "2019-11-30",
          "2019-12-31",
          "2020-01-31",
          "2020-02-29",
          "2020-03-31",
          "2020-04-30",
          "2020-05-31",
          "2020-06-30",
          "2020-07-31",
          "2020-08-31",
          "2020-09-30",
          "2020-10-31",
          "2020-11-30",
          "2020-12-31",
          "2021-01-31",
          "2021-02-28",
          "2021-03-31"
         ],
         "xaxis": "x",
         "y": [
          98506,
          99409,
          100252,
          101890,
          103256,
          104397,
          105505,
          107437,
          109292,
          111328,
          112645,
          114383,
          116344,
          118263,
          119945,
          121356,
          123426,
          126156,
          128492,
          129648,
          130812,
          132323,
          134801,
          136480,
          137832,
          138772,
          140129,
          141791,
          143140,
          143682,
          144973,
          145970,
          147425,
          148307,
          149768,
          151375,
          152650,
          154299,
          155836,
          157369,
          158564,
          160517,
          162651,
          164720,
          165808,
          165188,
          164042,
          163230,
          163089,
          163207,
          162732,
          162966,
          163169,
          162870,
          162017,
          161469,
          162399,
          163143,
          163082,
          161937,
          161963,
          162849,
          164220,
          164796,
          165125,
          165534,
          166527,
          167134,
          167785,
          169344,
          171411,
          172665,
          172635,
          173076,
          173903,
          174329,
          175473,
          176977,
          179414,
          181270,
          183070,
          184895,
          187169,
          190968,
          195491,
          199516,
          203578,
          208822,
          214127,
          219829
         ],
         "yaxis": "y"
        },
        {
         "hovertemplate": "City=Washington<br>date=%{x}<br>value=%{y}<extra></extra>",
         "legendgroup": "Washington",
         "line": {
          "color": "#ab63fa",
          "dash": "solid"
         },
         "mode": "lines",
         "name": "Washington",
         "orientation": "v",
         "showlegend": true,
         "type": "scatter",
         "x": [
          "1997-01-31",
          "1997-02-28",
          "1997-03-31",
          "1997-04-30",
          "1997-05-31",
          "1997-06-30",
          "1997-07-31",
          "1997-08-31",
          "1997-09-30",
          "1997-10-31",
          "1997-11-30",
          "1997-12-31",
          "1998-01-31",
          "1998-02-28",
          "1998-03-31",
          "1998-04-30",
          "1998-05-31",
          "1998-06-30",
          "1998-07-31",
          "1998-08-31",
          "1998-09-30",
          "1998-10-31",
          "1998-11-30",
          "1998-12-31",
          "1999-01-31",
          "1999-02-28",
          "1999-03-31",
          "1999-04-30",
          "1999-05-31",
          "1999-06-30",
          "1999-07-31",
          "1999-08-31",
          "1999-09-30",
          "1999-10-31",
          "1999-11-30",
          "1999-12-31",
          "2000-01-31",
          "2000-02-29",
          "2000-03-31",
          "2000-04-30",
          "2000-05-31",
          "2000-06-30",
          "2000-07-31",
          "2000-08-31",
          "2000-09-30",
          "2000-10-31",
          "2000-11-30",
          "2000-12-31",
          "2001-01-31",
          "2001-02-28",
          "2001-03-31",
          "2001-04-30",
          "2001-05-31",
          "2001-06-30",
          "2001-07-31",
          "2001-08-31",
          "2001-09-30",
          "2001-10-31",
          "2001-11-30",
          "2001-12-31",
          "2002-01-31",
          "2002-02-28",
          "2002-03-31",
          "2002-04-30",
          "2002-05-31",
          "2002-06-30",
          "2002-07-31",
          "2002-08-31",
          "2002-09-30",
          "2002-10-31",
          "2002-11-30",
          "2002-12-31",
          "2003-01-31",
          "2003-02-28",
          "2003-03-31",
          "2003-04-30",
          "2003-05-31",
          "2003-06-30",
          "2003-07-31",
          "2003-08-31",
          "2003-09-30",
          "2003-10-31",
          "2003-11-30",
          "2003-12-31",
          "2004-01-31",
          "2004-02-29",
          "2004-03-31",
          "2004-04-30",
          "2004-05-31",
          "2004-06-30",
          "2004-07-31",
          "2004-08-31",
          "2004-09-30",
          "2004-10-31",
          "2004-11-30",
          "2004-12-31",
          "2005-01-31",
          "2005-02-28",
          "2005-03-31",
          "2005-04-30",
          "2005-05-31",
          "2005-06-30",
          "2005-07-31",
          "2005-08-31",
          "2005-09-30",
          "2005-10-31",
          "2005-11-30",
          "2005-12-31",
          "2006-01-31",
          "2006-02-28",
          "2006-03-31",
          "2006-04-30",
          "2006-05-31",
          "2006-06-30",
          "2006-07-31",
          "2006-08-31",
          "2006-09-30",
          "2006-10-31",
          "2006-11-30",
          "2006-12-31",
          "2007-01-31",
          "2007-02-28",
          "2007-03-31",
          "2007-04-30",
          "2007-05-31",
          "2007-06-30",
          "2007-07-31",
          "2007-08-31",
          "2007-09-30",
          "2007-10-31",
          "2007-11-30",
          "2007-12-31",
          "2008-01-31",
          "2008-02-29",
          "2008-03-31",
          "2008-04-30",
          "2008-05-31",
          "2008-06-30",
          "2008-07-31",
          "2008-08-31",
          "2008-09-30",
          "2008-10-31",
          "2008-11-30",
          "2008-12-31",
          "2009-01-31",
          "2009-02-28",
          "2009-03-31",
          "2009-04-30",
          "2009-05-31",
          "2009-06-30",
          "2009-07-31",
          "2009-08-31",
          "2009-09-30",
          "2009-10-31",
          "2009-11-30",
          "2009-12-31",
          "2010-01-31",
          "2010-02-28",
          "2010-03-31",
          "2010-04-30",
          "2010-05-31",
          "2010-06-30",
          "2010-07-31",
          "2010-08-31",
          "2010-09-30",
          "2010-10-31",
          "2010-11-30",
          "2010-12-31",
          "2011-01-31",
          "2011-02-28",
          "2011-03-31",
          "2011-04-30",
          "2011-05-31",
          "2011-06-30",
          "2011-07-31",
          "2011-08-31",
          "2011-09-30",
          "2011-10-31",
          "2011-11-30",
          "2011-12-31",
          "2012-01-31",
          "2012-02-29",
          "2012-03-31",
          "2012-04-30",
          "2012-05-31",
          "2012-06-30",
          "2012-07-31",
          "2012-08-31",
          "2012-09-30",
          "2012-10-31",
          "2012-11-30",
          "2012-12-31",
          "2013-01-31",
          "2013-02-28",
          "2013-03-31",
          "2013-04-30",
          "2013-05-31",
          "2013-06-30",
          "2013-07-31",
          "2013-08-31",
          "2013-09-30",
          "2013-10-31",
          "2013-11-30",
          "2013-12-31",
          "2014-01-31",
          "2014-02-28",
          "2014-03-31",
          "2014-04-30",
          "2014-05-31",
          "2014-06-30",
          "2014-07-31",
          "2014-08-31",
          "2014-09-30",
          "2014-10-31",
          "2014-11-30",
          "2014-12-31",
          "2015-01-31",
          "2015-02-28",
          "2015-03-31",
          "2015-04-30",
          "2015-05-31",
          "2015-06-30",
          "2015-07-31",
          "2015-08-31",
          "2015-09-30",
          "2015-10-31",
          "2015-11-30",
          "2015-12-31",
          "2016-01-31",
          "2016-02-29",
          "2016-03-31",
          "2016-04-30",
          "2016-05-31",
          "2016-06-30",
          "2016-07-31",
          "2016-08-31",
          "2016-09-30",
          "2016-10-31",
          "2016-11-30",
          "2016-12-31",
          "2017-01-31",
          "2017-02-28",
          "2017-03-31",
          "2017-04-30",
          "2017-05-31",
          "2017-06-30",
          "2017-07-31",
          "2017-08-31",
          "2017-09-30",
          "2017-10-31",
          "2017-11-30",
          "2017-12-31",
          "2018-01-31",
          "2018-02-28",
          "2018-03-31",
          "2018-04-30",
          "2018-05-31",
          "2018-06-30",
          "2018-07-31",
          "2018-08-31",
          "2018-09-30",
          "2018-10-31",
          "2018-11-30",
          "2018-12-31",
          "2019-01-31",
          "2019-02-28",
          "2019-03-31",
          "2019-04-30",
          "2019-05-31",
          "2019-06-30",
          "2019-07-31",
          "2019-08-31",
          "2019-09-30",
          "2019-10-31",
          "2019-11-30",
          "2019-12-31",
          "2020-01-31",
          "2020-02-29",
          "2020-03-31",
          "2020-04-30",
          "2020-05-31",
          "2020-06-30",
          "2020-07-31",
          "2020-08-31",
          "2020-09-30",
          "2020-10-31",
          "2020-11-30",
          "2020-12-31",
          "2021-01-31",
          "2021-02-28",
          "2021-03-31"
         ],
         "xaxis": "x",
         "y": [
          240832,
          239633,
          237076,
          230676,
          222160,
          215617,
          212867,
          213145,
          214949,
          217832,
          220993,
          223593,
          224051,
          224248,
          226282,
          231901,
          241020,
          247740,
          251578,
          250944,
          248374,
          245715,
          244308,
          245401,
          249089,
          252058,
          253387,
          254149,
          255932,
          258766,
          259508,
          262561,
          266454,
          268983,
          269528,
          270578,
          274690,
          277350,
          277307,
          276992,
          277383,
          279846,
          281824,
          282696,
          283996,
          286305,
          291209,
          291688,
          290890,
          287919,
          290234,
          289420,
          289915,
          288899,
          291575,
          293289,
          293714,
          291743,
          287804,
          284233,
          280188,
          277608,
          276294,
          274738,
          271841,
          266340,
          262145,
          259722,
          258690,
          259398,
          260784,
          263755,
          266900,
          270976,
          274272,
          278362,
          280818,
          283497,
          285214,
          288905,
          292767,
          295267,
          296356,
          298654,
          301673,
          304559,
          305979,
          310407,
          316381,
          324390,
          331378,
          337677,
          342912,
          350212,
          358384,
          363473,
          365675,
          368116,
          369457,
          368824,
          370224,
          373128,
          375393,
          369668,
          363817,
          356090,
          350513,
          345251,
          345890,
          346824,
          349847,
          349425,
          346479,
          340359,
          331781,
          329037,
          326286,
          326844,
          327390,
          332844,
          333928,
          332649,
          327162,
          322680,
          319051,
          316143,
          317469,
          318244,
          319949,
          318840,
          314658,
          306539,
          296996,
          289350,
          283906,
          282456,
          279574,
          278880,
          275496,
          274048,
          271608,
          270156,
          268780,
          266442,
          265822,
          264761,
          264206,
          260946,
          257893,
          252513,
          248520,
          242666,
          237778,
          234117,
          232689,
          233444,
          233871,
          233651,
          232629,
          233082,
          235197,
          237783,
          239669,
          241994,
          243859,
          243772,
          242733,
          241634,
          239762,
          239611,
          239491,
          239936,
          239012,
          241380,
          242437,
          243246,
          243158,
          243484,
          243710,
          243079,
          245481,
          248482,
          252974,
          253831,
          253740,
          249882,
          251117,
          254329,
          259198,
          262031,
          263366,
          263912,
          264076,
          264038,
          264895,
          268474,
          274107,
          279802,
          283324,
          285382,
          287494,
          291919,
          299755,
          308966,
          316404,
          321668,
          326319,
          329380,
          331245,
          335158,
          338740,
          341521,
          341703,
          341428,
          339736,
          336484,
          335349,
          334857,
          332697,
          330489,
          331486,
          330956,
          330901,
          331642,
          334943,
          338010,
          339240,
          342948,
          343125,
          344773,
          348067,
          353626,
          356520,
          359277,
          360874,
          360652,
          362038,
          365160,
          368048,
          368337,
          370462,
          373337,
          373953,
          373695,
          373270,
          375549,
          377146,
          379626,
          378359,
          377409,
          381034,
          386783,
          391070,
          391358,
          390837,
          390418,
          391773,
          393703,
          395289,
          396800,
          398946,
          399302,
          396740,
          392714,
          390421,
          390146,
          394222,
          398271,
          400719,
          398065,
          395651,
          394507,
          392043,
          388988,
          385232,
          387352,
          389118,
          390597,
          385601,
          382181,
          379878,
          381774,
          384307,
          386429,
          390639,
          396791,
          404796,
          409642,
          415340,
          422374,
          434176
         ],
         "yaxis": "y"
        },
        {
         "hovertemplate": "City=Wallace<br>date=%{x}<br>value=%{y}<extra></extra>",
         "legendgroup": "Wallace",
         "line": {
          "color": "#FFA15A",
          "dash": "solid"
         },
         "mode": "lines",
         "name": "Wallace",
         "orientation": "v",
         "showlegend": true,
         "type": "scatter",
         "x": [
          "2001-01-31",
          "2001-02-28",
          "2001-03-31",
          "2001-04-30",
          "2001-05-31",
          "2001-06-30",
          "2001-07-31",
          "2001-08-31",
          "2001-09-30",
          "2001-10-31",
          "2001-11-30",
          "2001-12-31",
          "2002-01-31",
          "2002-02-28",
          "2002-03-31",
          "2002-04-30",
          "2002-05-31",
          "2002-06-30",
          "2002-07-31",
          "2002-08-31",
          "2002-09-30",
          "2002-10-31",
          "2002-11-30",
          "2002-12-31",
          "2003-01-31",
          "2003-02-28",
          "2003-03-31",
          "2003-04-30",
          "2003-05-31",
          "2003-06-30",
          "2003-07-31",
          "2003-08-31",
          "2003-09-30",
          "2003-10-31",
          "2003-11-30",
          "2003-12-31",
          "2004-01-31",
          "2004-02-29",
          "2004-03-31",
          "2004-04-30",
          "2004-05-31",
          "2004-06-30",
          "2004-07-31",
          "2004-08-31",
          "2004-09-30",
          "2004-10-31",
          "2004-11-30",
          "2004-12-31",
          "2005-01-31",
          "2005-02-28",
          "2005-03-31",
          "2005-04-30",
          "2005-05-31",
          "2005-06-30",
          "2005-07-31",
          "2005-08-31",
          "2005-09-30",
          "2005-10-31",
          "2005-11-30",
          "2005-12-31",
          "2006-01-31",
          "2006-02-28",
          "2006-03-31",
          "2006-04-30",
          "2006-05-31",
          "2006-06-30",
          "2006-07-31",
          "2006-08-31",
          "2006-09-30",
          "2006-10-31",
          "2006-11-30",
          "2006-12-31",
          "2007-01-31",
          "2007-02-28",
          "2007-03-31",
          "2007-04-30",
          "2007-05-31",
          "2007-06-30",
          "2007-07-31",
          "2007-08-31",
          "2007-09-30",
          "2007-10-31",
          "2007-11-30",
          "2007-12-31",
          "2008-01-31",
          "2008-02-29",
          "2008-03-31",
          "2008-04-30",
          "2008-05-31",
          "2008-06-30",
          "2008-07-31",
          "2008-08-31",
          "2008-09-30",
          "2008-10-31",
          "2008-11-30",
          "2008-12-31",
          "2009-01-31",
          "2009-02-28",
          "2009-03-31",
          "2009-04-30",
          "2009-05-31",
          "2009-06-30",
          "2009-07-31",
          "2009-08-31",
          "2009-09-30",
          "2009-10-31",
          "2009-11-30",
          "2009-12-31",
          "2010-01-31",
          "2010-02-28",
          "2010-03-31",
          "2010-04-30",
          "2010-05-31",
          "2010-06-30",
          "2010-07-31",
          "2010-08-31",
          "2010-09-30",
          "2010-10-31",
          "2010-11-30",
          "2010-12-31",
          "2011-01-31",
          "2011-02-28",
          "2011-03-31",
          "2011-04-30",
          "2011-05-31",
          "2011-06-30",
          "2011-07-31",
          "2011-08-31",
          "2011-09-30",
          "2011-10-31",
          "2011-11-30",
          "2011-12-31",
          "2012-01-31",
          "2012-02-29",
          "2012-03-31",
          "2012-04-30",
          "2012-05-31",
          "2012-06-30",
          "2012-07-31",
          "2012-08-31",
          "2012-09-30",
          "2012-10-31",
          "2012-11-30",
          "2012-12-31",
          "2013-01-31",
          "2013-02-28",
          "2013-03-31",
          "2013-04-30",
          "2013-05-31",
          "2013-06-30",
          "2013-07-31",
          "2013-08-31",
          "2013-09-30",
          "2013-10-31",
          "2013-11-30",
          "2013-12-31",
          "2014-01-31",
          "2014-02-28",
          "2014-03-31",
          "2014-04-30",
          "2014-05-31",
          "2014-06-30",
          "2014-07-31",
          "2014-08-31",
          "2014-09-30",
          "2014-10-31",
          "2014-11-30",
          "2014-12-31",
          "2015-01-31",
          "2015-02-28",
          "2015-03-31",
          "2015-04-30",
          "2015-05-31",
          "2015-06-30",
          "2015-07-31",
          "2015-08-31",
          "2015-09-30",
          "2015-10-31",
          "2015-11-30",
          "2015-12-31",
          "2016-01-31",
          "2016-02-29",
          "2016-03-31",
          "2016-04-30",
          "2016-05-31",
          "2016-06-30",
          "2016-07-31",
          "2016-08-31",
          "2016-09-30",
          "2016-10-31",
          "2016-11-30",
          "2016-12-31",
          "2017-01-31",
          "2017-02-28",
          "2017-03-31",
          "2017-04-30",
          "2017-05-31",
          "2017-06-30",
          "2017-07-31",
          "2017-08-31",
          "2017-09-30",
          "2017-10-31",
          "2017-11-30",
          "2017-12-31",
          "2018-01-31",
          "2018-02-28",
          "2018-03-31",
          "2018-04-30",
          "2018-05-31",
          "2018-06-30",
          "2018-07-31",
          "2018-08-31",
          "2018-09-30",
          "2018-10-31",
          "2018-11-30",
          "2018-12-31",
          "2019-01-31",
          "2019-02-28",
          "2019-03-31",
          "2019-04-30",
          "2019-05-31",
          "2019-06-30",
          "2019-07-31",
          "2019-08-31",
          "2019-09-30",
          "2019-10-31",
          "2019-11-30",
          "2019-12-31",
          "2020-01-31",
          "2020-02-29",
          "2020-03-31",
          "2020-04-30",
          "2020-05-31",
          "2020-06-30",
          "2020-07-31",
          "2020-08-31",
          "2020-09-30",
          "2020-10-31",
          "2020-11-30",
          "2020-12-31",
          "2021-01-31",
          "2021-02-28",
          "2021-03-31"
         ],
         "xaxis": "x",
         "y": [
          302205,
          300014,
          298046,
          294652,
          291671,
          290014,
          290016,
          292588,
          294952,
          296330,
          298053,
          300729,
          305977,
          310041,
          314549,
          318562,
          323677,
          327897,
          328589,
          326025,
          324232,
          325046,
          328293,
          331343,
          333591,
          336969,
          341925,
          345567,
          349263,
          353111,
          362471,
          372848,
          383915,
          394046,
          398869,
          401466,
          399638,
          402724,
          403318,
          407859,
          410258,
          412921,
          409756,
          404874,
          400816,
          400007,
          403842,
          412193,
          419860,
          426383,
          433876,
          444914,
          452479,
          456385,
          462973,
          475509,
          486237,
          489308,
          486668,
          481822,
          481743,
          480601,
          480173,
          473060,
          472143,
          475509,
          480431,
          475664,
          469069,
          465210,
          467095,
          468516,
          468432,
          466300,
          464506,
          465200,
          465724,
          462312,
          455198,
          450774,
          449328,
          450944,
          451592,
          448177,
          442565,
          438271,
          433875,
          428773,
          420949,
          415338,
          409528,
          403940,
          398505,
          391782,
          383589,
          377692,
          373145,
          367795,
          362690,
          357270,
          353879,
          350083,
          348555,
          348472,
          346294,
          344037,
          342201,
          342397,
          341114,
          340474,
          339575,
          339977,
          339320,
          339018,
          337953,
          335989,
          335185,
          334808,
          334743,
          332794,
          332615,
          332568,
          332459,
          330680,
          328794,
          326641,
          325025,
          323744,
          323481,
          323129,
          322791,
          322210,
          321162,
          320001,
          319325,
          319848,
          320947,
          322694,
          324054,
          325663,
          327132,
          328429,
          330108,
          333230,
          336915,
          341588,
          345521,
          349520,
          353605,
          357049,
          361078,
          365286,
          369409,
          373469,
          377139,
          381001,
          387415,
          391552,
          395631,
          396874,
          398154,
          400018,
          402077,
          404982,
          405386,
          405319,
          404057,
          403351,
          396823,
          392269,
          388227,
          389393,
          390339,
          390678,
          389676,
          387551,
          387904,
          391492,
          396389,
          399974,
          403771,
          407206,
          410249,
          411039,
          411920,
          412626,
          414350,
          416464,
          418969,
          416554,
          413576,
          410122,
          411258,
          412129,
          414212,
          417137,
          420188,
          424108,
          426807,
          429593,
          432013,
          435056,
          438372,
          440725,
          442158,
          443423,
          443945,
          445411,
          447425,
          450510,
          453813,
          453463,
          453405,
          451685,
          452054,
          450435,
          452753,
          458006,
          462754,
          461371,
          459032,
          461280,
          464841,
          469342,
          466826,
          468369,
          468259,
          474414,
          476210,
          477334,
          478760,
          485295,
          492039,
          494703,
          496789,
          500212,
          509486,
          516710,
          524612,
          529137,
          535667,
          541685,
          548362
         ],
         "yaxis": "y"
        }
       ],
       "layout": {
        "font": {
         "color": "gray",
         "family": "Courier New"
        },
        "legend": {
         "title": {
          "text": "City"
         },
         "tracegroupgap": 0
        },
        "margin": {
         "t": 60
        },
        "template": {
         "data": {
          "bar": [
           {
            "error_x": {
             "color": "#2a3f5f"
            },
            "error_y": {
             "color": "#2a3f5f"
            },
            "marker": {
             "line": {
              "color": "#E5ECF6",
              "width": 0.5
             }
            },
            "type": "bar"
           }
          ],
          "barpolar": [
           {
            "marker": {
             "line": {
              "color": "#E5ECF6",
              "width": 0.5
             }
            },
            "type": "barpolar"
           }
          ],
          "carpet": [
           {
            "aaxis": {
             "endlinecolor": "#2a3f5f",
             "gridcolor": "white",
             "linecolor": "white",
             "minorgridcolor": "white",
             "startlinecolor": "#2a3f5f"
            },
            "baxis": {
             "endlinecolor": "#2a3f5f",
             "gridcolor": "white",
             "linecolor": "white",
             "minorgridcolor": "white",
             "startlinecolor": "#2a3f5f"
            },
            "type": "carpet"
           }
          ],
          "choropleth": [
           {
            "colorbar": {
             "outlinewidth": 0,
             "ticks": ""
            },
            "type": "choropleth"
           }
          ],
          "contour": [
           {
            "colorbar": {
             "outlinewidth": 0,
             "ticks": ""
            },
            "colorscale": [
             [
              0,
              "#0d0887"
             ],
             [
              0.1111111111111111,
              "#46039f"
             ],
             [
              0.2222222222222222,
              "#7201a8"
             ],
             [
              0.3333333333333333,
              "#9c179e"
             ],
             [
              0.4444444444444444,
              "#bd3786"
             ],
             [
              0.5555555555555556,
              "#d8576b"
             ],
             [
              0.6666666666666666,
              "#ed7953"
             ],
             [
              0.7777777777777778,
              "#fb9f3a"
             ],
             [
              0.8888888888888888,
              "#fdca26"
             ],
             [
              1,
              "#f0f921"
             ]
            ],
            "type": "contour"
           }
          ],
          "contourcarpet": [
           {
            "colorbar": {
             "outlinewidth": 0,
             "ticks": ""
            },
            "type": "contourcarpet"
           }
          ],
          "heatmap": [
           {
            "colorbar": {
             "outlinewidth": 0,
             "ticks": ""
            },
            "colorscale": [
             [
              0,
              "#0d0887"
             ],
             [
              0.1111111111111111,
              "#46039f"
             ],
             [
              0.2222222222222222,
              "#7201a8"
             ],
             [
              0.3333333333333333,
              "#9c179e"
             ],
             [
              0.4444444444444444,
              "#bd3786"
             ],
             [
              0.5555555555555556,
              "#d8576b"
             ],
             [
              0.6666666666666666,
              "#ed7953"
             ],
             [
              0.7777777777777778,
              "#fb9f3a"
             ],
             [
              0.8888888888888888,
              "#fdca26"
             ],
             [
              1,
              "#f0f921"
             ]
            ],
            "type": "heatmap"
           }
          ],
          "heatmapgl": [
           {
            "colorbar": {
             "outlinewidth": 0,
             "ticks": ""
            },
            "colorscale": [
             [
              0,
              "#0d0887"
             ],
             [
              0.1111111111111111,
              "#46039f"
             ],
             [
              0.2222222222222222,
              "#7201a8"
             ],
             [
              0.3333333333333333,
              "#9c179e"
             ],
             [
              0.4444444444444444,
              "#bd3786"
             ],
             [
              0.5555555555555556,
              "#d8576b"
             ],
             [
              0.6666666666666666,
              "#ed7953"
             ],
             [
              0.7777777777777778,
              "#fb9f3a"
             ],
             [
              0.8888888888888888,
              "#fdca26"
             ],
             [
              1,
              "#f0f921"
             ]
            ],
            "type": "heatmapgl"
           }
          ],
          "histogram": [
           {
            "marker": {
             "colorbar": {
              "outlinewidth": 0,
              "ticks": ""
             }
            },
            "type": "histogram"
           }
          ],
          "histogram2d": [
           {
            "colorbar": {
             "outlinewidth": 0,
             "ticks": ""
            },
            "colorscale": [
             [
              0,
              "#0d0887"
             ],
             [
              0.1111111111111111,
              "#46039f"
             ],
             [
              0.2222222222222222,
              "#7201a8"
             ],
             [
              0.3333333333333333,
              "#9c179e"
             ],
             [
              0.4444444444444444,
              "#bd3786"
             ],
             [
              0.5555555555555556,
              "#d8576b"
             ],
             [
              0.6666666666666666,
              "#ed7953"
             ],
             [
              0.7777777777777778,
              "#fb9f3a"
             ],
             [
              0.8888888888888888,
              "#fdca26"
             ],
             [
              1,
              "#f0f921"
             ]
            ],
            "type": "histogram2d"
           }
          ],
          "histogram2dcontour": [
           {
            "colorbar": {
             "outlinewidth": 0,
             "ticks": ""
            },
            "colorscale": [
             [
              0,
              "#0d0887"
             ],
             [
              0.1111111111111111,
              "#46039f"
             ],
             [
              0.2222222222222222,
              "#7201a8"
             ],
             [
              0.3333333333333333,
              "#9c179e"
             ],
             [
              0.4444444444444444,
              "#bd3786"
             ],
             [
              0.5555555555555556,
              "#d8576b"
             ],
             [
              0.6666666666666666,
              "#ed7953"
             ],
             [
              0.7777777777777778,
              "#fb9f3a"
             ],
             [
              0.8888888888888888,
              "#fdca26"
             ],
             [
              1,
              "#f0f921"
             ]
            ],
            "type": "histogram2dcontour"
           }
          ],
          "mesh3d": [
           {
            "colorbar": {
             "outlinewidth": 0,
             "ticks": ""
            },
            "type": "mesh3d"
           }
          ],
          "parcoords": [
           {
            "line": {
             "colorbar": {
              "outlinewidth": 0,
              "ticks": ""
             }
            },
            "type": "parcoords"
           }
          ],
          "pie": [
           {
            "automargin": true,
            "type": "pie"
           }
          ],
          "scatter": [
           {
            "marker": {
             "colorbar": {
              "outlinewidth": 0,
              "ticks": ""
             }
            },
            "type": "scatter"
           }
          ],
          "scatter3d": [
           {
            "line": {
             "colorbar": {
              "outlinewidth": 0,
              "ticks": ""
             }
            },
            "marker": {
             "colorbar": {
              "outlinewidth": 0,
              "ticks": ""
             }
            },
            "type": "scatter3d"
           }
          ],
          "scattercarpet": [
           {
            "marker": {
             "colorbar": {
              "outlinewidth": 0,
              "ticks": ""
             }
            },
            "type": "scattercarpet"
           }
          ],
          "scattergeo": [
           {
            "marker": {
             "colorbar": {
              "outlinewidth": 0,
              "ticks": ""
             }
            },
            "type": "scattergeo"
           }
          ],
          "scattergl": [
           {
            "marker": {
             "colorbar": {
              "outlinewidth": 0,
              "ticks": ""
             }
            },
            "type": "scattergl"
           }
          ],
          "scattermapbox": [
           {
            "marker": {
             "colorbar": {
              "outlinewidth": 0,
              "ticks": ""
             }
            },
            "type": "scattermapbox"
           }
          ],
          "scatterpolar": [
           {
            "marker": {
             "colorbar": {
              "outlinewidth": 0,
              "ticks": ""
             }
            },
            "type": "scatterpolar"
           }
          ],
          "scatterpolargl": [
           {
            "marker": {
             "colorbar": {
              "outlinewidth": 0,
              "ticks": ""
             }
            },
            "type": "scatterpolargl"
           }
          ],
          "scatterternary": [
           {
            "marker": {
             "colorbar": {
              "outlinewidth": 0,
              "ticks": ""
             }
            },
            "type": "scatterternary"
           }
          ],
          "surface": [
           {
            "colorbar": {
             "outlinewidth": 0,
             "ticks": ""
            },
            "colorscale": [
             [
              0,
              "#0d0887"
             ],
             [
              0.1111111111111111,
              "#46039f"
             ],
             [
              0.2222222222222222,
              "#7201a8"
             ],
             [
              0.3333333333333333,
              "#9c179e"
             ],
             [
              0.4444444444444444,
              "#bd3786"
             ],
             [
              0.5555555555555556,
              "#d8576b"
             ],
             [
              0.6666666666666666,
              "#ed7953"
             ],
             [
              0.7777777777777778,
              "#fb9f3a"
             ],
             [
              0.8888888888888888,
              "#fdca26"
             ],
             [
              1,
              "#f0f921"
             ]
            ],
            "type": "surface"
           }
          ],
          "table": [
           {
            "cells": {
             "fill": {
              "color": "#EBF0F8"
             },
             "line": {
              "color": "white"
             }
            },
            "header": {
             "fill": {
              "color": "#C8D4E3"
             },
             "line": {
              "color": "white"
             }
            },
            "type": "table"
           }
          ]
         },
         "layout": {
          "annotationdefaults": {
           "arrowcolor": "#2a3f5f",
           "arrowhead": 0,
           "arrowwidth": 1
          },
          "autotypenumbers": "strict",
          "coloraxis": {
           "colorbar": {
            "outlinewidth": 0,
            "ticks": ""
           }
          },
          "colorscale": {
           "diverging": [
            [
             0,
             "#8e0152"
            ],
            [
             0.1,
             "#c51b7d"
            ],
            [
             0.2,
             "#de77ae"
            ],
            [
             0.3,
             "#f1b6da"
            ],
            [
             0.4,
             "#fde0ef"
            ],
            [
             0.5,
             "#f7f7f7"
            ],
            [
             0.6,
             "#e6f5d0"
            ],
            [
             0.7,
             "#b8e186"
            ],
            [
             0.8,
             "#7fbc41"
            ],
            [
             0.9,
             "#4d9221"
            ],
            [
             1,
             "#276419"
            ]
           ],
           "sequential": [
            [
             0,
             "#0d0887"
            ],
            [
             0.1111111111111111,
             "#46039f"
            ],
            [
             0.2222222222222222,
             "#7201a8"
            ],
            [
             0.3333333333333333,
             "#9c179e"
            ],
            [
             0.4444444444444444,
             "#bd3786"
            ],
            [
             0.5555555555555556,
             "#d8576b"
            ],
            [
             0.6666666666666666,
             "#ed7953"
            ],
            [
             0.7777777777777778,
             "#fb9f3a"
            ],
            [
             0.8888888888888888,
             "#fdca26"
            ],
            [
             1,
             "#f0f921"
            ]
           ],
           "sequentialminus": [
            [
             0,
             "#0d0887"
            ],
            [
             0.1111111111111111,
             "#46039f"
            ],
            [
             0.2222222222222222,
             "#7201a8"
            ],
            [
             0.3333333333333333,
             "#9c179e"
            ],
            [
             0.4444444444444444,
             "#bd3786"
            ],
            [
             0.5555555555555556,
             "#d8576b"
            ],
            [
             0.6666666666666666,
             "#ed7953"
            ],
            [
             0.7777777777777778,
             "#fb9f3a"
            ],
            [
             0.8888888888888888,
             "#fdca26"
            ],
            [
             1,
             "#f0f921"
            ]
           ]
          },
          "colorway": [
           "#636efa",
           "#EF553B",
           "#00cc96",
           "#ab63fa",
           "#FFA15A",
           "#19d3f3",
           "#FF6692",
           "#B6E880",
           "#FF97FF",
           "#FECB52"
          ],
          "font": {
           "color": "#2a3f5f"
          },
          "geo": {
           "bgcolor": "white",
           "lakecolor": "white",
           "landcolor": "#E5ECF6",
           "showlakes": true,
           "showland": true,
           "subunitcolor": "white"
          },
          "hoverlabel": {
           "align": "left"
          },
          "hovermode": "closest",
          "mapbox": {
           "style": "light"
          },
          "paper_bgcolor": "white",
          "plot_bgcolor": "#E5ECF6",
          "polar": {
           "angularaxis": {
            "gridcolor": "white",
            "linecolor": "white",
            "ticks": ""
           },
           "bgcolor": "#E5ECF6",
           "radialaxis": {
            "gridcolor": "white",
            "linecolor": "white",
            "ticks": ""
           }
          },
          "scene": {
           "xaxis": {
            "backgroundcolor": "#E5ECF6",
            "gridcolor": "white",
            "gridwidth": 2,
            "linecolor": "white",
            "showbackground": true,
            "ticks": "",
            "zerolinecolor": "white"
           },
           "yaxis": {
            "backgroundcolor": "#E5ECF6",
            "gridcolor": "white",
            "gridwidth": 2,
            "linecolor": "white",
            "showbackground": true,
            "ticks": "",
            "zerolinecolor": "white"
           },
           "zaxis": {
            "backgroundcolor": "#E5ECF6",
            "gridcolor": "white",
            "gridwidth": 2,
            "linecolor": "white",
            "showbackground": true,
            "ticks": "",
            "zerolinecolor": "white"
           }
          },
          "shapedefaults": {
           "line": {
            "color": "#2a3f5f"
           }
          },
          "ternary": {
           "aaxis": {
            "gridcolor": "white",
            "linecolor": "white",
            "ticks": ""
           },
           "baxis": {
            "gridcolor": "white",
            "linecolor": "white",
            "ticks": ""
           },
           "bgcolor": "#E5ECF6",
           "caxis": {
            "gridcolor": "white",
            "linecolor": "white",
            "ticks": ""
           }
          },
          "title": {
           "x": 0.05
          },
          "xaxis": {
           "automargin": true,
           "gridcolor": "white",
           "linecolor": "white",
           "ticks": "",
           "title": {
            "standoff": 15
           },
           "zerolinecolor": "white",
           "zerolinewidth": 2
          },
          "yaxis": {
           "automargin": true,
           "gridcolor": "white",
           "linecolor": "white",
           "ticks": "",
           "title": {
            "standoff": 15
           },
           "zerolinecolor": "white",
           "zerolinewidth": 2
          }
         }
        },
        "title": {
         "font": {
          "color": "Purple",
          "family": "Times New Roman"
         },
         "text": "Housing Prices Change for Top 5 White popular areas"
        },
        "xaxis": {
         "anchor": "y",
         "domain": [
          0,
          1
         ],
         "title": {
          "text": "Date"
         }
        },
        "yaxis": {
         "anchor": "x",
         "domain": [
          0,
          1
         ],
         "title": {
          "text": "Housing Prices"
         }
        }
       }
      },
      "text/html": [
       "<div>                            <div id=\"613a5d7c-f55a-4836-bd85-2214ee73d33f\" class=\"plotly-graph-div\" style=\"height:525px; width:100%;\"></div>            <script type=\"text/javascript\">                require([\"plotly\"], function(Plotly) {                    window.PLOTLYENV=window.PLOTLYENV || {};                                    if (document.getElementById(\"613a5d7c-f55a-4836-bd85-2214ee73d33f\")) {                    Plotly.newPlot(                        \"613a5d7c-f55a-4836-bd85-2214ee73d33f\",                        [{\"hovertemplate\": \"City=Acampo<br>date=%{x}<br>value=%{y}<extra></extra>\", \"legendgroup\": \"Acampo\", \"line\": {\"color\": \"#636efa\", \"dash\": \"solid\"}, \"mode\": \"lines\", \"name\": \"Acampo\", \"orientation\": \"v\", \"showlegend\": true, \"type\": \"scatter\", \"x\": [\"1996-01-31\", \"1996-02-29\", \"1996-03-31\", \"1996-04-30\", \"1996-05-31\", \"1996-06-30\", \"1996-07-31\", \"1996-08-31\", \"1996-09-30\", \"1996-10-31\", \"1996-11-30\", \"1996-12-31\", \"1997-01-31\", \"1997-02-28\", \"1997-03-31\", \"1997-04-30\", \"1997-05-31\", \"1997-06-30\", \"1997-07-31\", \"1997-08-31\", \"1997-09-30\", \"1997-10-31\", \"1997-11-30\", \"1997-12-31\", \"1998-01-31\", \"1998-02-28\", \"1998-03-31\", \"1998-04-30\", \"1998-05-31\", \"1998-06-30\", \"1998-07-31\", \"1998-08-31\", \"1998-09-30\", \"1998-10-31\", \"1998-11-30\", \"1998-12-31\", \"1999-01-31\", \"1999-02-28\", \"1999-03-31\", \"1999-04-30\", \"1999-05-31\", \"1999-06-30\", \"1999-07-31\", \"1999-08-31\", \"1999-09-30\", \"1999-10-31\", \"1999-11-30\", \"1999-12-31\", \"2000-01-31\", \"2000-02-29\", \"2000-03-31\", \"2000-04-30\", \"2000-05-31\", \"2000-06-30\", \"2000-07-31\", \"2000-08-31\", \"2000-09-30\", \"2000-10-31\", \"2000-11-30\", \"2000-12-31\", \"2001-01-31\", \"2001-02-28\", \"2001-03-31\", \"2001-04-30\", \"2001-05-31\", \"2001-06-30\", \"2001-07-31\", \"2001-08-31\", \"2001-09-30\", \"2001-10-31\", \"2001-11-30\", \"2001-12-31\", \"2002-01-31\", \"2002-02-28\", \"2002-03-31\", \"2002-04-30\", \"2002-05-31\", \"2002-06-30\", \"2002-07-31\", \"2002-08-31\", \"2002-09-30\", \"2002-10-31\", \"2002-11-30\", \"2002-12-31\", \"2003-01-31\", \"2003-02-28\", \"2003-03-31\", \"2003-04-30\", \"2003-05-31\", \"2003-06-30\", \"2003-07-31\", \"2003-08-31\", \"2003-09-30\", \"2003-10-31\", \"2003-11-30\", \"2003-12-31\", \"2004-01-31\", \"2004-02-29\", \"2004-03-31\", \"2004-04-30\", \"2004-05-31\", \"2004-06-30\", \"2004-07-31\", \"2004-08-31\", \"2004-09-30\", \"2004-10-31\", \"2004-11-30\", \"2004-12-31\", \"2005-01-31\", \"2005-02-28\", \"2005-03-31\", \"2005-04-30\", \"2005-05-31\", \"2005-06-30\", \"2005-07-31\", \"2005-08-31\", \"2005-09-30\", \"2005-10-31\", \"2005-11-30\", \"2005-12-31\", \"2006-01-31\", \"2006-02-28\", \"2006-03-31\", \"2006-04-30\", \"2006-05-31\", \"2006-06-30\", \"2006-07-31\", \"2006-08-31\", \"2006-09-30\", \"2006-10-31\", \"2006-11-30\", \"2006-12-31\", \"2007-01-31\", \"2007-02-28\", \"2007-03-31\", \"2007-04-30\", \"2007-05-31\", \"2007-06-30\", \"2007-07-31\", \"2007-08-31\", \"2007-09-30\", \"2007-10-31\", \"2007-11-30\", \"2007-12-31\", \"2008-01-31\", \"2008-02-29\", \"2008-03-31\", \"2008-04-30\", \"2008-05-31\", \"2008-06-30\", \"2008-07-31\", \"2008-08-31\", \"2008-09-30\", \"2008-10-31\", \"2008-11-30\", \"2008-12-31\", \"2009-01-31\", \"2009-02-28\", \"2009-03-31\", \"2009-04-30\", \"2009-05-31\", \"2009-06-30\", \"2009-07-31\", \"2009-08-31\", \"2009-09-30\", \"2009-10-31\", \"2009-11-30\", \"2009-12-31\", \"2010-01-31\", \"2010-02-28\", \"2010-03-31\", \"2010-04-30\", \"2010-05-31\", \"2010-06-30\", \"2010-07-31\", \"2010-08-31\", \"2010-09-30\", \"2010-10-31\", \"2010-11-30\", \"2010-12-31\", \"2011-01-31\", \"2011-02-28\", \"2011-03-31\", \"2011-04-30\", \"2011-05-31\", \"2011-06-30\", \"2011-07-31\", \"2011-08-31\", \"2011-09-30\", \"2011-10-31\", \"2011-11-30\", \"2011-12-31\", \"2012-01-31\", \"2012-02-29\", \"2012-03-31\", \"2012-04-30\", \"2012-05-31\", \"2012-06-30\", \"2012-07-31\", \"2012-08-31\", \"2012-09-30\", \"2012-10-31\", \"2012-11-30\", \"2012-12-31\", \"2013-01-31\", \"2013-02-28\", \"2013-03-31\", \"2013-04-30\", \"2013-05-31\", \"2013-06-30\", \"2013-07-31\", \"2013-08-31\", \"2013-09-30\", \"2013-10-31\", \"2013-11-30\", \"2013-12-31\", \"2014-01-31\", \"2014-02-28\", \"2014-03-31\", \"2014-04-30\", \"2014-05-31\", \"2014-06-30\", \"2014-07-31\", \"2014-08-31\", \"2014-09-30\", \"2014-10-31\", \"2014-11-30\", \"2014-12-31\", \"2015-01-31\", \"2015-02-28\", \"2015-03-31\", \"2015-04-30\", \"2015-05-31\", \"2015-06-30\", \"2015-07-31\", \"2015-08-31\", \"2015-09-30\", \"2015-10-31\", \"2015-11-30\", \"2015-12-31\", \"2016-01-31\", \"2016-02-29\", \"2016-03-31\", \"2016-04-30\", \"2016-05-31\", \"2016-06-30\", \"2016-07-31\", \"2016-08-31\", \"2016-09-30\", \"2016-10-31\", \"2016-11-30\", \"2016-12-31\", \"2017-01-31\", \"2017-02-28\", \"2017-03-31\", \"2017-04-30\", \"2017-05-31\", \"2017-06-30\", \"2017-07-31\", \"2017-08-31\", \"2017-09-30\", \"2017-10-31\", \"2017-11-30\", \"2017-12-31\", \"2018-01-31\", \"2018-02-28\", \"2018-03-31\", \"2018-04-30\", \"2018-05-31\", \"2018-06-30\", \"2018-07-31\", \"2018-08-31\", \"2018-09-30\", \"2018-10-31\", \"2018-11-30\", \"2018-12-31\", \"2019-01-31\", \"2019-02-28\", \"2019-03-31\", \"2019-04-30\", \"2019-05-31\", \"2019-06-30\", \"2019-07-31\", \"2019-08-31\", \"2019-09-30\", \"2019-10-31\", \"2019-11-30\", \"2019-12-31\", \"2020-01-31\", \"2020-02-29\", \"2020-03-31\", \"2020-04-30\", \"2020-05-31\", \"2020-06-30\", \"2020-07-31\", \"2020-08-31\", \"2020-09-30\", \"2020-10-31\", \"2020-11-30\", \"2020-12-31\", \"2021-01-31\", \"2021-02-28\", \"2021-03-31\"], \"xaxis\": \"x\", \"y\": [140686.0, 139739.0, 138869.0, 136822.0, 135551.0, 134273.0, 133202.0, 132272.0, 131909.0, 132305.0, 132515.0, 132743.0, 132553.0, 131854.0, 131426.0, 131915.0, 132036.0, 132183.0, 132066.0, 131938.0, 131271.0, 129933.0, 129581.0, 129327.0, 130355.0, 132113.0, 133949.0, 134990.0, 135442.0, 136210.0, 137806.0, 139650.0, 141745.0, 143295.0, 143807.0, 144571.0, 144387.0, 145400.0, 145764.0, 147082.0, 148253.0, 149745.0, 150169.0, 150388.0, 150262.0, 151598.0, 153622.0, 155739.0, 157939.0, 158066.0, 158685.0, 158833.0, 160614.0, 162200.0, 164581.0, 167029.0, 170240.0, 172678.0, 175136.0, 177343.0, 180207.0, 184085.0, 188098.0, 191837.0, 194440.0, 197073.0, 199489.0, 202875.0, 205595.0, 208840.0, 210874.0, 213247.0, 215072.0, 217717.0, 219961.0, 222483.0, 224309.0, 225531.0, 226674.0, 226500.0, 227308.0, 227569.0, 229971.0, 232381.0, 235712.0, 238820.0, 242213.0, 245176.0, 248534.0, 252945.0, 256718.0, 261634.0, 265493.0, 271724.0, 277093.0, 282605.0, 286956.0, 290362.0, 294364.0, 299392.0, 305400.0, 310909.0, 318380.0, 325455.0, 333762.0, 340437.0, 348421.0, 356370.0, 364054.0, 372871.0, 380107.0, 387788.0, 395312.0, 404629.0, 412445.0, 420545.0, 427659.0, 433750.0, 435850.0, 438583.0, 441376.0, 444769.0, 449084.0, 452939.0, 455766.0, 457600.0, 461140.0, 463439.0, 462893.0, 459782.0, 458894.0, 455521.0, 453832.0, 449886.0, 448223.0, 444101.0, 440500.0, 432713.0, 423321.0, 412108.0, 404247.0, 397607.0, 391152.0, 381440.0, 367403.0, 350911.0, 334093.0, 322296.0, 311472.0, 302996.0, 294057.0, 286297.0, 277547.0, 266900.0, 256185.0, 250184.0, 249472.0, 252585.0, 255331.0, 254843.0, 254064.0, 252915.0, 250511.0, 249055.0, 249508.0, 255178.0, 261137.0, 266815.0, 269522.0, 271256.0, 270102.0, 269046.0, 266868.0, 266956.0, 268810.0, 270651.0, 268946.0, 265110.0, 261849.0, 258267.0, 255773.0, 252382.0, 251813.0, 250112.0, 249788.0, 246791.0, 246577.0, 246457.0, 250270.0, 252277.0, 253361.0, 252853.0, 252845.0, 254034.0, 254658.0, 256974.0, 258282.0, 261464.0, 262788.0, 264695.0, 265733.0, 268780.0, 273113.0, 278530.0, 279810.0, 280285.0, 283672.0, 290431.0, 299768.0, 308834.0, 316019.0, 320591.0, 323358.0, 327111.0, 331473.0, 336723.0, 346144.0, 356270.0, 362413.0, 365176.0, 364219.0, 365016.0, 367853.0, 374523.0, 380409.0, 381608.0, 380955.0, 380152.0, 382239.0, 384949.0, 387962.0, 390634.0, 394054.0, 396707.0, 401680.0, 406636.0, 414907.0, 425161.0, 435525.0, 445769.0, 450051.0, 451671.0, 454691.0, 459071.0, 468446.0, 475221.0, 479368.0, 479824.0, 479922.0, 482309.0, 485898.0, 488186.0, 491695.0, 498171.0, 506553.0, 512750.0, 513407.0, 516027.0, 519331.0, 525676.0, 528784.0, 531498.0, 533836.0, 538768.0, 545064.0, 549907.0, 550733.0, 554722.0, 560027.0, 566285.0, 566834.0, 567912.0, 569595.0, 573234.0, 573172.0, 572293.0, 572049.0, 570544.0, 570989.0, 570066.0, 574060.0, 578537.0, 578947.0, 576829.0, 571622.0, 569002.0, 568344.0, 567735.0, 566454.0, 565421.0, 569513.0, 575880.0, 580639.0, 581730.0, 589415.0, 599056.0, 612331.0, 623832.0, 636628.0, 650524.0, 665789.0, 683425.0, 698167.0], \"yaxis\": \"y\"}, {\"hovertemplate\": \"City=Randsburg<br>date=%{x}<br>value=%{y}<extra></extra>\", \"legendgroup\": \"Randsburg\", \"line\": {\"color\": \"#EF553B\", \"dash\": \"solid\"}, \"mode\": \"lines\", \"name\": \"Randsburg\", \"orientation\": \"v\", \"showlegend\": true, \"type\": \"scatter\", \"x\": [\"2018-07-31\", \"2018-08-31\", \"2018-09-30\", \"2018-10-31\", \"2018-11-30\", \"2018-12-31\", \"2019-01-31\", \"2019-02-28\", \"2019-03-31\", \"2019-04-30\", \"2019-05-31\", \"2019-06-30\", \"2019-07-31\", \"2019-08-31\", \"2019-09-30\", \"2019-10-31\", \"2019-11-30\", \"2019-12-31\", \"2020-01-31\", \"2020-02-29\", \"2020-03-31\", \"2020-04-30\", \"2020-05-31\", \"2020-06-30\", \"2020-07-31\", \"2020-08-31\", \"2020-09-30\", \"2020-10-31\", \"2020-11-30\", \"2020-12-31\", \"2021-01-31\", \"2021-02-28\", \"2021-03-31\"], \"xaxis\": \"x\", \"y\": [87903.0, 88059.0, 88410.0, 89182.0, 89834.0, 90496.0, 91007.0, 91635.0, 92585.0, 93625.0, 94884.0, 95838.0, 96818.0, 98054.0, 99079.0, 99722.0, 100651.0, 101541.0, 102769.0, 103699.0, 103810.0, 103678.0, 102993.0, 103026.0, 102965.0, 102715.0, 102520.0, 102457.0, 102197.0, 101888.0, 101353.0, 100910.0, 100771.0], \"yaxis\": \"y\"}, {\"hovertemplate\": \"City=Old Station<br>date=%{x}<br>value=%{y}<extra></extra>\", \"legendgroup\": \"Old Station\", \"line\": {\"color\": \"#00cc96\", \"dash\": \"solid\"}, \"mode\": \"lines\", \"name\": \"Old Station\", \"orientation\": \"v\", \"showlegend\": true, \"type\": \"scatter\", \"x\": [\"2013-10-31\", \"2013-11-30\", \"2013-12-31\", \"2014-01-31\", \"2014-02-28\", \"2014-03-31\", \"2014-04-30\", \"2014-05-31\", \"2014-06-30\", \"2014-07-31\", \"2014-08-31\", \"2014-09-30\", \"2014-10-31\", \"2014-11-30\", \"2014-12-31\", \"2015-01-31\", \"2015-02-28\", \"2015-03-31\", \"2015-04-30\", \"2015-05-31\", \"2015-06-30\", \"2015-07-31\", \"2015-08-31\", \"2015-09-30\", \"2015-10-31\", \"2015-11-30\", \"2015-12-31\", \"2016-01-31\", \"2016-02-29\", \"2016-03-31\", \"2016-04-30\", \"2016-05-31\", \"2016-06-30\", \"2016-07-31\", \"2016-08-31\", \"2016-09-30\", \"2016-10-31\", \"2016-11-30\", \"2016-12-31\", \"2017-01-31\", \"2017-02-28\", \"2017-03-31\", \"2017-04-30\", \"2017-05-31\", \"2017-06-30\", \"2017-07-31\", \"2017-08-31\", \"2017-09-30\", \"2017-10-31\", \"2017-11-30\", \"2017-12-31\", \"2018-01-31\", \"2018-02-28\", \"2018-03-31\", \"2018-04-30\", \"2018-05-31\", \"2018-06-30\", \"2018-07-31\", \"2018-08-31\", \"2018-09-30\", \"2018-10-31\", \"2018-11-30\", \"2018-12-31\", \"2019-01-31\", \"2019-02-28\", \"2019-03-31\", \"2019-04-30\", \"2019-05-31\", \"2019-06-30\", \"2019-07-31\", \"2019-08-31\", \"2019-09-30\", \"2019-10-31\", \"2019-11-30\", \"2019-12-31\", \"2020-01-31\", \"2020-02-29\", \"2020-03-31\", \"2020-04-30\", \"2020-05-31\", \"2020-06-30\", \"2020-07-31\", \"2020-08-31\", \"2020-09-30\", \"2020-10-31\", \"2020-11-30\", \"2020-12-31\", \"2021-01-31\", \"2021-02-28\", \"2021-03-31\"], \"xaxis\": \"x\", \"y\": [98506.0, 99409.0, 100252.0, 101890.0, 103256.0, 104397.0, 105505.0, 107437.0, 109292.0, 111328.0, 112645.0, 114383.0, 116344.0, 118263.0, 119945.0, 121356.0, 123426.0, 126156.0, 128492.0, 129648.0, 130812.0, 132323.0, 134801.0, 136480.0, 137832.0, 138772.0, 140129.0, 141791.0, 143140.0, 143682.0, 144973.0, 145970.0, 147425.0, 148307.0, 149768.0, 151375.0, 152650.0, 154299.0, 155836.0, 157369.0, 158564.0, 160517.0, 162651.0, 164720.0, 165808.0, 165188.0, 164042.0, 163230.0, 163089.0, 163207.0, 162732.0, 162966.0, 163169.0, 162870.0, 162017.0, 161469.0, 162399.0, 163143.0, 163082.0, 161937.0, 161963.0, 162849.0, 164220.0, 164796.0, 165125.0, 165534.0, 166527.0, 167134.0, 167785.0, 169344.0, 171411.0, 172665.0, 172635.0, 173076.0, 173903.0, 174329.0, 175473.0, 176977.0, 179414.0, 181270.0, 183070.0, 184895.0, 187169.0, 190968.0, 195491.0, 199516.0, 203578.0, 208822.0, 214127.0, 219829.0], \"yaxis\": \"y\"}, {\"hovertemplate\": \"City=Washington<br>date=%{x}<br>value=%{y}<extra></extra>\", \"legendgroup\": \"Washington\", \"line\": {\"color\": \"#ab63fa\", \"dash\": \"solid\"}, \"mode\": \"lines\", \"name\": \"Washington\", \"orientation\": \"v\", \"showlegend\": true, \"type\": \"scatter\", \"x\": [\"1997-01-31\", \"1997-02-28\", \"1997-03-31\", \"1997-04-30\", \"1997-05-31\", \"1997-06-30\", \"1997-07-31\", \"1997-08-31\", \"1997-09-30\", \"1997-10-31\", \"1997-11-30\", \"1997-12-31\", \"1998-01-31\", \"1998-02-28\", \"1998-03-31\", \"1998-04-30\", \"1998-05-31\", \"1998-06-30\", \"1998-07-31\", \"1998-08-31\", \"1998-09-30\", \"1998-10-31\", \"1998-11-30\", \"1998-12-31\", \"1999-01-31\", \"1999-02-28\", \"1999-03-31\", \"1999-04-30\", \"1999-05-31\", \"1999-06-30\", \"1999-07-31\", \"1999-08-31\", \"1999-09-30\", \"1999-10-31\", \"1999-11-30\", \"1999-12-31\", \"2000-01-31\", \"2000-02-29\", \"2000-03-31\", \"2000-04-30\", \"2000-05-31\", \"2000-06-30\", \"2000-07-31\", \"2000-08-31\", \"2000-09-30\", \"2000-10-31\", \"2000-11-30\", \"2000-12-31\", \"2001-01-31\", \"2001-02-28\", \"2001-03-31\", \"2001-04-30\", \"2001-05-31\", \"2001-06-30\", \"2001-07-31\", \"2001-08-31\", \"2001-09-30\", \"2001-10-31\", \"2001-11-30\", \"2001-12-31\", \"2002-01-31\", \"2002-02-28\", \"2002-03-31\", \"2002-04-30\", \"2002-05-31\", \"2002-06-30\", \"2002-07-31\", \"2002-08-31\", \"2002-09-30\", \"2002-10-31\", \"2002-11-30\", \"2002-12-31\", \"2003-01-31\", \"2003-02-28\", \"2003-03-31\", \"2003-04-30\", \"2003-05-31\", \"2003-06-30\", \"2003-07-31\", \"2003-08-31\", \"2003-09-30\", \"2003-10-31\", \"2003-11-30\", \"2003-12-31\", \"2004-01-31\", \"2004-02-29\", \"2004-03-31\", \"2004-04-30\", \"2004-05-31\", \"2004-06-30\", \"2004-07-31\", \"2004-08-31\", \"2004-09-30\", \"2004-10-31\", \"2004-11-30\", \"2004-12-31\", \"2005-01-31\", \"2005-02-28\", \"2005-03-31\", \"2005-04-30\", \"2005-05-31\", \"2005-06-30\", \"2005-07-31\", \"2005-08-31\", \"2005-09-30\", \"2005-10-31\", \"2005-11-30\", \"2005-12-31\", \"2006-01-31\", \"2006-02-28\", \"2006-03-31\", \"2006-04-30\", \"2006-05-31\", \"2006-06-30\", \"2006-07-31\", \"2006-08-31\", \"2006-09-30\", \"2006-10-31\", \"2006-11-30\", \"2006-12-31\", \"2007-01-31\", \"2007-02-28\", \"2007-03-31\", \"2007-04-30\", \"2007-05-31\", \"2007-06-30\", \"2007-07-31\", \"2007-08-31\", \"2007-09-30\", \"2007-10-31\", \"2007-11-30\", \"2007-12-31\", \"2008-01-31\", \"2008-02-29\", \"2008-03-31\", \"2008-04-30\", \"2008-05-31\", \"2008-06-30\", \"2008-07-31\", \"2008-08-31\", \"2008-09-30\", \"2008-10-31\", \"2008-11-30\", \"2008-12-31\", \"2009-01-31\", \"2009-02-28\", \"2009-03-31\", \"2009-04-30\", \"2009-05-31\", \"2009-06-30\", \"2009-07-31\", \"2009-08-31\", \"2009-09-30\", \"2009-10-31\", \"2009-11-30\", \"2009-12-31\", \"2010-01-31\", \"2010-02-28\", \"2010-03-31\", \"2010-04-30\", \"2010-05-31\", \"2010-06-30\", \"2010-07-31\", \"2010-08-31\", \"2010-09-30\", \"2010-10-31\", \"2010-11-30\", \"2010-12-31\", \"2011-01-31\", \"2011-02-28\", \"2011-03-31\", \"2011-04-30\", \"2011-05-31\", \"2011-06-30\", \"2011-07-31\", \"2011-08-31\", \"2011-09-30\", \"2011-10-31\", \"2011-11-30\", \"2011-12-31\", \"2012-01-31\", \"2012-02-29\", \"2012-03-31\", \"2012-04-30\", \"2012-05-31\", \"2012-06-30\", \"2012-07-31\", \"2012-08-31\", \"2012-09-30\", \"2012-10-31\", \"2012-11-30\", \"2012-12-31\", \"2013-01-31\", \"2013-02-28\", \"2013-03-31\", \"2013-04-30\", \"2013-05-31\", \"2013-06-30\", \"2013-07-31\", \"2013-08-31\", \"2013-09-30\", \"2013-10-31\", \"2013-11-30\", \"2013-12-31\", \"2014-01-31\", \"2014-02-28\", \"2014-03-31\", \"2014-04-30\", \"2014-05-31\", \"2014-06-30\", \"2014-07-31\", \"2014-08-31\", \"2014-09-30\", \"2014-10-31\", \"2014-11-30\", \"2014-12-31\", \"2015-01-31\", \"2015-02-28\", \"2015-03-31\", \"2015-04-30\", \"2015-05-31\", \"2015-06-30\", \"2015-07-31\", \"2015-08-31\", \"2015-09-30\", \"2015-10-31\", \"2015-11-30\", \"2015-12-31\", \"2016-01-31\", \"2016-02-29\", \"2016-03-31\", \"2016-04-30\", \"2016-05-31\", \"2016-06-30\", \"2016-07-31\", \"2016-08-31\", \"2016-09-30\", \"2016-10-31\", \"2016-11-30\", \"2016-12-31\", \"2017-01-31\", \"2017-02-28\", \"2017-03-31\", \"2017-04-30\", \"2017-05-31\", \"2017-06-30\", \"2017-07-31\", \"2017-08-31\", \"2017-09-30\", \"2017-10-31\", \"2017-11-30\", \"2017-12-31\", \"2018-01-31\", \"2018-02-28\", \"2018-03-31\", \"2018-04-30\", \"2018-05-31\", \"2018-06-30\", \"2018-07-31\", \"2018-08-31\", \"2018-09-30\", \"2018-10-31\", \"2018-11-30\", \"2018-12-31\", \"2019-01-31\", \"2019-02-28\", \"2019-03-31\", \"2019-04-30\", \"2019-05-31\", \"2019-06-30\", \"2019-07-31\", \"2019-08-31\", \"2019-09-30\", \"2019-10-31\", \"2019-11-30\", \"2019-12-31\", \"2020-01-31\", \"2020-02-29\", \"2020-03-31\", \"2020-04-30\", \"2020-05-31\", \"2020-06-30\", \"2020-07-31\", \"2020-08-31\", \"2020-09-30\", \"2020-10-31\", \"2020-11-30\", \"2020-12-31\", \"2021-01-31\", \"2021-02-28\", \"2021-03-31\"], \"xaxis\": \"x\", \"y\": [240832.0, 239633.0, 237076.0, 230676.0, 222160.0, 215617.0, 212867.0, 213145.0, 214949.0, 217832.0, 220993.0, 223593.0, 224051.0, 224248.0, 226282.0, 231901.0, 241020.0, 247740.0, 251578.0, 250944.0, 248374.0, 245715.0, 244308.0, 245401.0, 249089.0, 252058.0, 253387.0, 254149.0, 255932.0, 258766.0, 259508.0, 262561.0, 266454.0, 268983.0, 269528.0, 270578.0, 274690.0, 277350.0, 277307.0, 276992.0, 277383.0, 279846.0, 281824.0, 282696.0, 283996.0, 286305.0, 291209.0, 291688.0, 290890.0, 287919.0, 290234.0, 289420.0, 289915.0, 288899.0, 291575.0, 293289.0, 293714.0, 291743.0, 287804.0, 284233.0, 280188.0, 277608.0, 276294.0, 274738.0, 271841.0, 266340.0, 262145.0, 259722.0, 258690.0, 259398.0, 260784.0, 263755.0, 266900.0, 270976.0, 274272.0, 278362.0, 280818.0, 283497.0, 285214.0, 288905.0, 292767.0, 295267.0, 296356.0, 298654.0, 301673.0, 304559.0, 305979.0, 310407.0, 316381.0, 324390.0, 331378.0, 337677.0, 342912.0, 350212.0, 358384.0, 363473.0, 365675.0, 368116.0, 369457.0, 368824.0, 370224.0, 373128.0, 375393.0, 369668.0, 363817.0, 356090.0, 350513.0, 345251.0, 345890.0, 346824.0, 349847.0, 349425.0, 346479.0, 340359.0, 331781.0, 329037.0, 326286.0, 326844.0, 327390.0, 332844.0, 333928.0, 332649.0, 327162.0, 322680.0, 319051.0, 316143.0, 317469.0, 318244.0, 319949.0, 318840.0, 314658.0, 306539.0, 296996.0, 289350.0, 283906.0, 282456.0, 279574.0, 278880.0, 275496.0, 274048.0, 271608.0, 270156.0, 268780.0, 266442.0, 265822.0, 264761.0, 264206.0, 260946.0, 257893.0, 252513.0, 248520.0, 242666.0, 237778.0, 234117.0, 232689.0, 233444.0, 233871.0, 233651.0, 232629.0, 233082.0, 235197.0, 237783.0, 239669.0, 241994.0, 243859.0, 243772.0, 242733.0, 241634.0, 239762.0, 239611.0, 239491.0, 239936.0, 239012.0, 241380.0, 242437.0, 243246.0, 243158.0, 243484.0, 243710.0, 243079.0, 245481.0, 248482.0, 252974.0, 253831.0, 253740.0, 249882.0, 251117.0, 254329.0, 259198.0, 262031.0, 263366.0, 263912.0, 264076.0, 264038.0, 264895.0, 268474.0, 274107.0, 279802.0, 283324.0, 285382.0, 287494.0, 291919.0, 299755.0, 308966.0, 316404.0, 321668.0, 326319.0, 329380.0, 331245.0, 335158.0, 338740.0, 341521.0, 341703.0, 341428.0, 339736.0, 336484.0, 335349.0, 334857.0, 332697.0, 330489.0, 331486.0, 330956.0, 330901.0, 331642.0, 334943.0, 338010.0, 339240.0, 342948.0, 343125.0, 344773.0, 348067.0, 353626.0, 356520.0, 359277.0, 360874.0, 360652.0, 362038.0, 365160.0, 368048.0, 368337.0, 370462.0, 373337.0, 373953.0, 373695.0, 373270.0, 375549.0, 377146.0, 379626.0, 378359.0, 377409.0, 381034.0, 386783.0, 391070.0, 391358.0, 390837.0, 390418.0, 391773.0, 393703.0, 395289.0, 396800.0, 398946.0, 399302.0, 396740.0, 392714.0, 390421.0, 390146.0, 394222.0, 398271.0, 400719.0, 398065.0, 395651.0, 394507.0, 392043.0, 388988.0, 385232.0, 387352.0, 389118.0, 390597.0, 385601.0, 382181.0, 379878.0, 381774.0, 384307.0, 386429.0, 390639.0, 396791.0, 404796.0, 409642.0, 415340.0, 422374.0, 434176.0], \"yaxis\": \"y\"}, {\"hovertemplate\": \"City=Wallace<br>date=%{x}<br>value=%{y}<extra></extra>\", \"legendgroup\": \"Wallace\", \"line\": {\"color\": \"#FFA15A\", \"dash\": \"solid\"}, \"mode\": \"lines\", \"name\": \"Wallace\", \"orientation\": \"v\", \"showlegend\": true, \"type\": \"scatter\", \"x\": [\"2001-01-31\", \"2001-02-28\", \"2001-03-31\", \"2001-04-30\", \"2001-05-31\", \"2001-06-30\", \"2001-07-31\", \"2001-08-31\", \"2001-09-30\", \"2001-10-31\", \"2001-11-30\", \"2001-12-31\", \"2002-01-31\", \"2002-02-28\", \"2002-03-31\", \"2002-04-30\", \"2002-05-31\", \"2002-06-30\", \"2002-07-31\", \"2002-08-31\", \"2002-09-30\", \"2002-10-31\", \"2002-11-30\", \"2002-12-31\", \"2003-01-31\", \"2003-02-28\", \"2003-03-31\", \"2003-04-30\", \"2003-05-31\", \"2003-06-30\", \"2003-07-31\", \"2003-08-31\", \"2003-09-30\", \"2003-10-31\", \"2003-11-30\", \"2003-12-31\", \"2004-01-31\", \"2004-02-29\", \"2004-03-31\", \"2004-04-30\", \"2004-05-31\", \"2004-06-30\", \"2004-07-31\", \"2004-08-31\", \"2004-09-30\", \"2004-10-31\", \"2004-11-30\", \"2004-12-31\", \"2005-01-31\", \"2005-02-28\", \"2005-03-31\", \"2005-04-30\", \"2005-05-31\", \"2005-06-30\", \"2005-07-31\", \"2005-08-31\", \"2005-09-30\", \"2005-10-31\", \"2005-11-30\", \"2005-12-31\", \"2006-01-31\", \"2006-02-28\", \"2006-03-31\", \"2006-04-30\", \"2006-05-31\", \"2006-06-30\", \"2006-07-31\", \"2006-08-31\", \"2006-09-30\", \"2006-10-31\", \"2006-11-30\", \"2006-12-31\", \"2007-01-31\", \"2007-02-28\", \"2007-03-31\", \"2007-04-30\", \"2007-05-31\", \"2007-06-30\", \"2007-07-31\", \"2007-08-31\", \"2007-09-30\", \"2007-10-31\", \"2007-11-30\", \"2007-12-31\", \"2008-01-31\", \"2008-02-29\", \"2008-03-31\", \"2008-04-30\", \"2008-05-31\", \"2008-06-30\", \"2008-07-31\", \"2008-08-31\", \"2008-09-30\", \"2008-10-31\", \"2008-11-30\", \"2008-12-31\", \"2009-01-31\", \"2009-02-28\", \"2009-03-31\", \"2009-04-30\", \"2009-05-31\", \"2009-06-30\", \"2009-07-31\", \"2009-08-31\", \"2009-09-30\", \"2009-10-31\", \"2009-11-30\", \"2009-12-31\", \"2010-01-31\", \"2010-02-28\", \"2010-03-31\", \"2010-04-30\", \"2010-05-31\", \"2010-06-30\", \"2010-07-31\", \"2010-08-31\", \"2010-09-30\", \"2010-10-31\", \"2010-11-30\", \"2010-12-31\", \"2011-01-31\", \"2011-02-28\", \"2011-03-31\", \"2011-04-30\", \"2011-05-31\", \"2011-06-30\", \"2011-07-31\", \"2011-08-31\", \"2011-09-30\", \"2011-10-31\", \"2011-11-30\", \"2011-12-31\", \"2012-01-31\", \"2012-02-29\", \"2012-03-31\", \"2012-04-30\", \"2012-05-31\", \"2012-06-30\", \"2012-07-31\", \"2012-08-31\", \"2012-09-30\", \"2012-10-31\", \"2012-11-30\", \"2012-12-31\", \"2013-01-31\", \"2013-02-28\", \"2013-03-31\", \"2013-04-30\", \"2013-05-31\", \"2013-06-30\", \"2013-07-31\", \"2013-08-31\", \"2013-09-30\", \"2013-10-31\", \"2013-11-30\", \"2013-12-31\", \"2014-01-31\", \"2014-02-28\", \"2014-03-31\", \"2014-04-30\", \"2014-05-31\", \"2014-06-30\", \"2014-07-31\", \"2014-08-31\", \"2014-09-30\", \"2014-10-31\", \"2014-11-30\", \"2014-12-31\", \"2015-01-31\", \"2015-02-28\", \"2015-03-31\", \"2015-04-30\", \"2015-05-31\", \"2015-06-30\", \"2015-07-31\", \"2015-08-31\", \"2015-09-30\", \"2015-10-31\", \"2015-11-30\", \"2015-12-31\", \"2016-01-31\", \"2016-02-29\", \"2016-03-31\", \"2016-04-30\", \"2016-05-31\", \"2016-06-30\", \"2016-07-31\", \"2016-08-31\", \"2016-09-30\", \"2016-10-31\", \"2016-11-30\", \"2016-12-31\", \"2017-01-31\", \"2017-02-28\", \"2017-03-31\", \"2017-04-30\", \"2017-05-31\", \"2017-06-30\", \"2017-07-31\", \"2017-08-31\", \"2017-09-30\", \"2017-10-31\", \"2017-11-30\", \"2017-12-31\", \"2018-01-31\", \"2018-02-28\", \"2018-03-31\", \"2018-04-30\", \"2018-05-31\", \"2018-06-30\", \"2018-07-31\", \"2018-08-31\", \"2018-09-30\", \"2018-10-31\", \"2018-11-30\", \"2018-12-31\", \"2019-01-31\", \"2019-02-28\", \"2019-03-31\", \"2019-04-30\", \"2019-05-31\", \"2019-06-30\", \"2019-07-31\", \"2019-08-31\", \"2019-09-30\", \"2019-10-31\", \"2019-11-30\", \"2019-12-31\", \"2020-01-31\", \"2020-02-29\", \"2020-03-31\", \"2020-04-30\", \"2020-05-31\", \"2020-06-30\", \"2020-07-31\", \"2020-08-31\", \"2020-09-30\", \"2020-10-31\", \"2020-11-30\", \"2020-12-31\", \"2021-01-31\", \"2021-02-28\", \"2021-03-31\"], \"xaxis\": \"x\", \"y\": [302205.0, 300014.0, 298046.0, 294652.0, 291671.0, 290014.0, 290016.0, 292588.0, 294952.0, 296330.0, 298053.0, 300729.0, 305977.0, 310041.0, 314549.0, 318562.0, 323677.0, 327897.0, 328589.0, 326025.0, 324232.0, 325046.0, 328293.0, 331343.0, 333591.0, 336969.0, 341925.0, 345567.0, 349263.0, 353111.0, 362471.0, 372848.0, 383915.0, 394046.0, 398869.0, 401466.0, 399638.0, 402724.0, 403318.0, 407859.0, 410258.0, 412921.0, 409756.0, 404874.0, 400816.0, 400007.0, 403842.0, 412193.0, 419860.0, 426383.0, 433876.0, 444914.0, 452479.0, 456385.0, 462973.0, 475509.0, 486237.0, 489308.0, 486668.0, 481822.0, 481743.0, 480601.0, 480173.0, 473060.0, 472143.0, 475509.0, 480431.0, 475664.0, 469069.0, 465210.0, 467095.0, 468516.0, 468432.0, 466300.0, 464506.0, 465200.0, 465724.0, 462312.0, 455198.0, 450774.0, 449328.0, 450944.0, 451592.0, 448177.0, 442565.0, 438271.0, 433875.0, 428773.0, 420949.0, 415338.0, 409528.0, 403940.0, 398505.0, 391782.0, 383589.0, 377692.0, 373145.0, 367795.0, 362690.0, 357270.0, 353879.0, 350083.0, 348555.0, 348472.0, 346294.0, 344037.0, 342201.0, 342397.0, 341114.0, 340474.0, 339575.0, 339977.0, 339320.0, 339018.0, 337953.0, 335989.0, 335185.0, 334808.0, 334743.0, 332794.0, 332615.0, 332568.0, 332459.0, 330680.0, 328794.0, 326641.0, 325025.0, 323744.0, 323481.0, 323129.0, 322791.0, 322210.0, 321162.0, 320001.0, 319325.0, 319848.0, 320947.0, 322694.0, 324054.0, 325663.0, 327132.0, 328429.0, 330108.0, 333230.0, 336915.0, 341588.0, 345521.0, 349520.0, 353605.0, 357049.0, 361078.0, 365286.0, 369409.0, 373469.0, 377139.0, 381001.0, 387415.0, 391552.0, 395631.0, 396874.0, 398154.0, 400018.0, 402077.0, 404982.0, 405386.0, 405319.0, 404057.0, 403351.0, 396823.0, 392269.0, 388227.0, 389393.0, 390339.0, 390678.0, 389676.0, 387551.0, 387904.0, 391492.0, 396389.0, 399974.0, 403771.0, 407206.0, 410249.0, 411039.0, 411920.0, 412626.0, 414350.0, 416464.0, 418969.0, 416554.0, 413576.0, 410122.0, 411258.0, 412129.0, 414212.0, 417137.0, 420188.0, 424108.0, 426807.0, 429593.0, 432013.0, 435056.0, 438372.0, 440725.0, 442158.0, 443423.0, 443945.0, 445411.0, 447425.0, 450510.0, 453813.0, 453463.0, 453405.0, 451685.0, 452054.0, 450435.0, 452753.0, 458006.0, 462754.0, 461371.0, 459032.0, 461280.0, 464841.0, 469342.0, 466826.0, 468369.0, 468259.0, 474414.0, 476210.0, 477334.0, 478760.0, 485295.0, 492039.0, 494703.0, 496789.0, 500212.0, 509486.0, 516710.0, 524612.0, 529137.0, 535667.0, 541685.0, 548362.0], \"yaxis\": \"y\"}],                        {\"font\": {\"color\": \"gray\", \"family\": \"Courier New\"}, \"legend\": {\"title\": {\"text\": \"City\"}, \"tracegroupgap\": 0}, \"margin\": {\"t\": 60}, \"template\": {\"data\": {\"bar\": [{\"error_x\": {\"color\": \"#2a3f5f\"}, \"error_y\": {\"color\": \"#2a3f5f\"}, \"marker\": {\"line\": {\"color\": \"#E5ECF6\", \"width\": 0.5}}, \"type\": \"bar\"}], \"barpolar\": [{\"marker\": {\"line\": {\"color\": \"#E5ECF6\", \"width\": 0.5}}, \"type\": \"barpolar\"}], \"carpet\": [{\"aaxis\": {\"endlinecolor\": \"#2a3f5f\", \"gridcolor\": \"white\", \"linecolor\": \"white\", \"minorgridcolor\": \"white\", \"startlinecolor\": \"#2a3f5f\"}, \"baxis\": {\"endlinecolor\": \"#2a3f5f\", \"gridcolor\": \"white\", \"linecolor\": \"white\", \"minorgridcolor\": \"white\", \"startlinecolor\": \"#2a3f5f\"}, \"type\": \"carpet\"}], \"choropleth\": [{\"colorbar\": {\"outlinewidth\": 0, \"ticks\": \"\"}, \"type\": \"choropleth\"}], \"contour\": [{\"colorbar\": {\"outlinewidth\": 0, \"ticks\": \"\"}, \"colorscale\": [[0.0, \"#0d0887\"], [0.1111111111111111, \"#46039f\"], [0.2222222222222222, \"#7201a8\"], [0.3333333333333333, \"#9c179e\"], [0.4444444444444444, \"#bd3786\"], [0.5555555555555556, \"#d8576b\"], [0.6666666666666666, \"#ed7953\"], [0.7777777777777778, \"#fb9f3a\"], [0.8888888888888888, \"#fdca26\"], [1.0, \"#f0f921\"]], \"type\": \"contour\"}], \"contourcarpet\": [{\"colorbar\": {\"outlinewidth\": 0, \"ticks\": \"\"}, \"type\": \"contourcarpet\"}], \"heatmap\": [{\"colorbar\": {\"outlinewidth\": 0, \"ticks\": \"\"}, \"colorscale\": [[0.0, \"#0d0887\"], [0.1111111111111111, \"#46039f\"], [0.2222222222222222, \"#7201a8\"], [0.3333333333333333, \"#9c179e\"], [0.4444444444444444, \"#bd3786\"], [0.5555555555555556, \"#d8576b\"], [0.6666666666666666, \"#ed7953\"], [0.7777777777777778, \"#fb9f3a\"], [0.8888888888888888, \"#fdca26\"], [1.0, \"#f0f921\"]], \"type\": \"heatmap\"}], \"heatmapgl\": [{\"colorbar\": {\"outlinewidth\": 0, \"ticks\": \"\"}, \"colorscale\": [[0.0, \"#0d0887\"], [0.1111111111111111, \"#46039f\"], [0.2222222222222222, \"#7201a8\"], [0.3333333333333333, \"#9c179e\"], [0.4444444444444444, \"#bd3786\"], [0.5555555555555556, \"#d8576b\"], [0.6666666666666666, \"#ed7953\"], [0.7777777777777778, \"#fb9f3a\"], [0.8888888888888888, \"#fdca26\"], [1.0, \"#f0f921\"]], \"type\": \"heatmapgl\"}], \"histogram\": [{\"marker\": {\"colorbar\": {\"outlinewidth\": 0, \"ticks\": \"\"}}, \"type\": \"histogram\"}], \"histogram2d\": [{\"colorbar\": {\"outlinewidth\": 0, \"ticks\": \"\"}, \"colorscale\": [[0.0, \"#0d0887\"], [0.1111111111111111, \"#46039f\"], [0.2222222222222222, \"#7201a8\"], [0.3333333333333333, \"#9c179e\"], [0.4444444444444444, \"#bd3786\"], [0.5555555555555556, \"#d8576b\"], [0.6666666666666666, \"#ed7953\"], [0.7777777777777778, \"#fb9f3a\"], [0.8888888888888888, \"#fdca26\"], [1.0, \"#f0f921\"]], \"type\": \"histogram2d\"}], \"histogram2dcontour\": [{\"colorbar\": {\"outlinewidth\": 0, \"ticks\": \"\"}, \"colorscale\": [[0.0, \"#0d0887\"], [0.1111111111111111, \"#46039f\"], [0.2222222222222222, \"#7201a8\"], [0.3333333333333333, \"#9c179e\"], [0.4444444444444444, \"#bd3786\"], [0.5555555555555556, \"#d8576b\"], [0.6666666666666666, \"#ed7953\"], [0.7777777777777778, \"#fb9f3a\"], [0.8888888888888888, \"#fdca26\"], [1.0, \"#f0f921\"]], \"type\": \"histogram2dcontour\"}], \"mesh3d\": [{\"colorbar\": {\"outlinewidth\": 0, \"ticks\": \"\"}, \"type\": \"mesh3d\"}], \"parcoords\": [{\"line\": {\"colorbar\": {\"outlinewidth\": 0, \"ticks\": \"\"}}, \"type\": \"parcoords\"}], \"pie\": [{\"automargin\": true, \"type\": \"pie\"}], \"scatter\": [{\"marker\": {\"colorbar\": {\"outlinewidth\": 0, \"ticks\": \"\"}}, \"type\": \"scatter\"}], \"scatter3d\": [{\"line\": {\"colorbar\": {\"outlinewidth\": 0, \"ticks\": \"\"}}, \"marker\": {\"colorbar\": {\"outlinewidth\": 0, \"ticks\": \"\"}}, \"type\": \"scatter3d\"}], \"scattercarpet\": [{\"marker\": {\"colorbar\": {\"outlinewidth\": 0, \"ticks\": \"\"}}, \"type\": \"scattercarpet\"}], \"scattergeo\": [{\"marker\": {\"colorbar\": {\"outlinewidth\": 0, \"ticks\": \"\"}}, \"type\": \"scattergeo\"}], \"scattergl\": [{\"marker\": {\"colorbar\": {\"outlinewidth\": 0, \"ticks\": \"\"}}, \"type\": \"scattergl\"}], \"scattermapbox\": [{\"marker\": {\"colorbar\": {\"outlinewidth\": 0, \"ticks\": \"\"}}, \"type\": \"scattermapbox\"}], \"scatterpolar\": [{\"marker\": {\"colorbar\": {\"outlinewidth\": 0, \"ticks\": \"\"}}, \"type\": \"scatterpolar\"}], \"scatterpolargl\": [{\"marker\": {\"colorbar\": {\"outlinewidth\": 0, \"ticks\": \"\"}}, \"type\": \"scatterpolargl\"}], \"scatterternary\": [{\"marker\": {\"colorbar\": {\"outlinewidth\": 0, \"ticks\": \"\"}}, \"type\": \"scatterternary\"}], \"surface\": [{\"colorbar\": {\"outlinewidth\": 0, \"ticks\": \"\"}, \"colorscale\": [[0.0, \"#0d0887\"], [0.1111111111111111, \"#46039f\"], [0.2222222222222222, \"#7201a8\"], [0.3333333333333333, \"#9c179e\"], [0.4444444444444444, \"#bd3786\"], [0.5555555555555556, \"#d8576b\"], [0.6666666666666666, \"#ed7953\"], [0.7777777777777778, \"#fb9f3a\"], [0.8888888888888888, \"#fdca26\"], [1.0, \"#f0f921\"]], \"type\": \"surface\"}], \"table\": [{\"cells\": {\"fill\": {\"color\": \"#EBF0F8\"}, \"line\": {\"color\": \"white\"}}, \"header\": {\"fill\": {\"color\": \"#C8D4E3\"}, \"line\": {\"color\": \"white\"}}, \"type\": \"table\"}]}, \"layout\": {\"annotationdefaults\": {\"arrowcolor\": \"#2a3f5f\", \"arrowhead\": 0, \"arrowwidth\": 1}, \"autotypenumbers\": \"strict\", \"coloraxis\": {\"colorbar\": {\"outlinewidth\": 0, \"ticks\": \"\"}}, \"colorscale\": {\"diverging\": [[0, \"#8e0152\"], [0.1, \"#c51b7d\"], [0.2, \"#de77ae\"], [0.3, \"#f1b6da\"], [0.4, \"#fde0ef\"], [0.5, \"#f7f7f7\"], [0.6, \"#e6f5d0\"], [0.7, \"#b8e186\"], [0.8, \"#7fbc41\"], [0.9, \"#4d9221\"], [1, \"#276419\"]], \"sequential\": [[0.0, \"#0d0887\"], [0.1111111111111111, \"#46039f\"], [0.2222222222222222, \"#7201a8\"], [0.3333333333333333, \"#9c179e\"], [0.4444444444444444, \"#bd3786\"], [0.5555555555555556, \"#d8576b\"], [0.6666666666666666, \"#ed7953\"], [0.7777777777777778, \"#fb9f3a\"], [0.8888888888888888, \"#fdca26\"], [1.0, \"#f0f921\"]], \"sequentialminus\": [[0.0, \"#0d0887\"], [0.1111111111111111, \"#46039f\"], [0.2222222222222222, \"#7201a8\"], [0.3333333333333333, \"#9c179e\"], [0.4444444444444444, \"#bd3786\"], [0.5555555555555556, \"#d8576b\"], [0.6666666666666666, \"#ed7953\"], [0.7777777777777778, \"#fb9f3a\"], [0.8888888888888888, \"#fdca26\"], [1.0, \"#f0f921\"]]}, \"colorway\": [\"#636efa\", \"#EF553B\", \"#00cc96\", \"#ab63fa\", \"#FFA15A\", \"#19d3f3\", \"#FF6692\", \"#B6E880\", \"#FF97FF\", \"#FECB52\"], \"font\": {\"color\": \"#2a3f5f\"}, \"geo\": {\"bgcolor\": \"white\", \"lakecolor\": \"white\", \"landcolor\": \"#E5ECF6\", \"showlakes\": true, \"showland\": true, \"subunitcolor\": \"white\"}, \"hoverlabel\": {\"align\": \"left\"}, \"hovermode\": \"closest\", \"mapbox\": {\"style\": \"light\"}, \"paper_bgcolor\": \"white\", \"plot_bgcolor\": \"#E5ECF6\", \"polar\": {\"angularaxis\": {\"gridcolor\": \"white\", \"linecolor\": \"white\", \"ticks\": \"\"}, \"bgcolor\": \"#E5ECF6\", \"radialaxis\": {\"gridcolor\": \"white\", \"linecolor\": \"white\", \"ticks\": \"\"}}, \"scene\": {\"xaxis\": {\"backgroundcolor\": \"#E5ECF6\", \"gridcolor\": \"white\", \"gridwidth\": 2, \"linecolor\": \"white\", \"showbackground\": true, \"ticks\": \"\", \"zerolinecolor\": \"white\"}, \"yaxis\": {\"backgroundcolor\": \"#E5ECF6\", \"gridcolor\": \"white\", \"gridwidth\": 2, \"linecolor\": \"white\", \"showbackground\": true, \"ticks\": \"\", \"zerolinecolor\": \"white\"}, \"zaxis\": {\"backgroundcolor\": \"#E5ECF6\", \"gridcolor\": \"white\", \"gridwidth\": 2, \"linecolor\": \"white\", \"showbackground\": true, \"ticks\": \"\", \"zerolinecolor\": \"white\"}}, \"shapedefaults\": {\"line\": {\"color\": \"#2a3f5f\"}}, \"ternary\": {\"aaxis\": {\"gridcolor\": \"white\", \"linecolor\": \"white\", \"ticks\": \"\"}, \"baxis\": {\"gridcolor\": \"white\", \"linecolor\": \"white\", \"ticks\": \"\"}, \"bgcolor\": \"#E5ECF6\", \"caxis\": {\"gridcolor\": \"white\", \"linecolor\": \"white\", \"ticks\": \"\"}}, \"title\": {\"x\": 0.05}, \"xaxis\": {\"automargin\": true, \"gridcolor\": \"white\", \"linecolor\": \"white\", \"ticks\": \"\", \"title\": {\"standoff\": 15}, \"zerolinecolor\": \"white\", \"zerolinewidth\": 2}, \"yaxis\": {\"automargin\": true, \"gridcolor\": \"white\", \"linecolor\": \"white\", \"ticks\": \"\", \"title\": {\"standoff\": 15}, \"zerolinecolor\": \"white\", \"zerolinewidth\": 2}}}, \"title\": {\"font\": {\"color\": \"Purple\", \"family\": \"Times New Roman\"}, \"text\": \"Housing Prices Change for Top 5 White popular areas\"}, \"xaxis\": {\"anchor\": \"y\", \"domain\": [0.0, 1.0], \"title\": {\"text\": \"Date\"}}, \"yaxis\": {\"anchor\": \"x\", \"domain\": [0.0, 1.0], \"title\": {\"text\": \"Housing Prices\"}}},                        {\"responsive\": true}                    ).then(function(){\n",
       "                            \n",
       "var gd = document.getElementById('613a5d7c-f55a-4836-bd85-2214ee73d33f');\n",
       "var x = new MutationObserver(function (mutations, observer) {{\n",
       "        var display = window.getComputedStyle(gd).display;\n",
       "        if (!display || display === 'none') {{\n",
       "            console.log([gd, 'removed!']);\n",
       "            Plotly.purge(gd);\n",
       "            observer.disconnect();\n",
       "        }}\n",
       "}});\n",
       "\n",
       "// Listen for the removal of the full notebook cells\n",
       "var notebookContainer = gd.closest('#notebook-container');\n",
       "if (notebookContainer) {{\n",
       "    x.observe(notebookContainer, {childList: true});\n",
       "}}\n",
       "\n",
       "// Listen for the clearing of the current output cell\n",
       "var outputEl = gd.closest('.output');\n",
       "if (outputEl) {{\n",
       "    x.observe(outputEl, {childList: true});\n",
       "}}\n",
       "\n",
       "                        })                };                });            </script>        </div>"
      ]
     },
     "metadata": {},
     "output_type": "display_data"
    }
   ],
   "source": [
    "# Whitetop = joint.sort_values(by = 'White',ascending = False).head()\n",
    "# Whitetop\n",
    "asiantop = joint.sort_values(by = 'White',ascending = False).head()\n",
    "asianlow = joint.sort_values(by = 'White',ascending = True).head()\n",
    "\n",
    "asiantop.drop(asiantop.iloc[:, 0:17], inplace = True, axis = 1)\n",
    "asiantop.head()\n",
    "#asiantop.set_index('Place')\n",
    "asiantop= asiantop.stack().to_frame().reset_index()\n",
    "asiantop = asiantop.rename(columns = {'level_1':'date',0:'value','level_0':'City'})\n",
    "asiantop[\"City\"].replace({0: \"Acampo\",701:\"Randsburg\",623:\"Old Station\",905:\"Washington\",900:\"Wallace\"}, inplace=True)\n",
    "\n",
    "asiantop\n",
    "#asiantop\n",
    "import plotly.express as px\n",
    "import plotly.graph_objects as go\n",
    "fig = px.line(asiantop, x=\"date\", y=\"value\",color = \"City\")\n",
    "fig.update_layout(title='Housing Prices Change for Top 5 White popular areas',\n",
    "                   xaxis_title='Date',\n",
    "                   yaxis_title='Housing Prices',\n",
    "                 font_family=\"Courier New\",\n",
    "    font_color=\"gray\",\n",
    "    title_font_family=\"Times New Roman\",\n",
    "    title_font_color=\"Purple\")\n",
    "fig.show()\n",
    "from plotly.io import write_html\n",
    "write_html(fig, \"HouseWhite.html\")"
   ]
  },
  {
   "cell_type": "code",
   "execution_count": 24,
   "metadata": {},
   "outputs": [
    {
     "data": {
      "text/html": [
       "<div>\n",
       "<style scoped>\n",
       "    .dataframe tbody tr th:only-of-type {\n",
       "        vertical-align: middle;\n",
       "    }\n",
       "\n",
       "    .dataframe tbody tr th {\n",
       "        vertical-align: top;\n",
       "    }\n",
       "\n",
       "    .dataframe thead th {\n",
       "        text-align: right;\n",
       "    }\n",
       "</style>\n",
       "<table border=\"1\" class=\"dataframe\">\n",
       "  <thead>\n",
       "    <tr style=\"text-align: right;\">\n",
       "      <th></th>\n",
       "      <th>City</th>\n",
       "      <th>date</th>\n",
       "      <th>value</th>\n",
       "    </tr>\n",
       "  </thead>\n",
       "  <tbody>\n",
       "    <tr>\n",
       "      <th>0</th>\n",
       "      <td>Monterey Park</td>\n",
       "      <td>1996-01-31</td>\n",
       "      <td>191157.0</td>\n",
       "    </tr>\n",
       "    <tr>\n",
       "      <th>1</th>\n",
       "      <td>Monterey Park</td>\n",
       "      <td>1996-02-29</td>\n",
       "      <td>190865.0</td>\n",
       "    </tr>\n",
       "    <tr>\n",
       "      <th>2</th>\n",
       "      <td>Monterey Park</td>\n",
       "      <td>1996-03-31</td>\n",
       "      <td>190874.0</td>\n",
       "    </tr>\n",
       "    <tr>\n",
       "      <th>3</th>\n",
       "      <td>Monterey Park</td>\n",
       "      <td>1996-04-30</td>\n",
       "      <td>190782.0</td>\n",
       "    </tr>\n",
       "    <tr>\n",
       "      <th>4</th>\n",
       "      <td>Monterey Park</td>\n",
       "      <td>1996-05-31</td>\n",
       "      <td>190701.0</td>\n",
       "    </tr>\n",
       "    <tr>\n",
       "      <th>...</th>\n",
       "      <td>...</td>\n",
       "      <td>...</td>\n",
       "      <td>...</td>\n",
       "    </tr>\n",
       "    <tr>\n",
       "      <th>1510</th>\n",
       "      <td>Cupertino</td>\n",
       "      <td>2020-11-30</td>\n",
       "      <td>2396441.0</td>\n",
       "    </tr>\n",
       "    <tr>\n",
       "      <th>1511</th>\n",
       "      <td>Cupertino</td>\n",
       "      <td>2020-12-31</td>\n",
       "      <td>2420148.0</td>\n",
       "    </tr>\n",
       "    <tr>\n",
       "      <th>1512</th>\n",
       "      <td>Cupertino</td>\n",
       "      <td>2021-01-31</td>\n",
       "      <td>2433401.0</td>\n",
       "    </tr>\n",
       "    <tr>\n",
       "      <th>1513</th>\n",
       "      <td>Cupertino</td>\n",
       "      <td>2021-02-28</td>\n",
       "      <td>2441106.0</td>\n",
       "    </tr>\n",
       "    <tr>\n",
       "      <th>1514</th>\n",
       "      <td>Cupertino</td>\n",
       "      <td>2021-03-31</td>\n",
       "      <td>2442534.0</td>\n",
       "    </tr>\n",
       "  </tbody>\n",
       "</table>\n",
       "<p>1515 rows × 3 columns</p>\n",
       "</div>"
      ],
      "text/plain": [
       "               City        date      value\n",
       "0     Monterey Park  1996-01-31   191157.0\n",
       "1     Monterey Park  1996-02-29   190865.0\n",
       "2     Monterey Park  1996-03-31   190874.0\n",
       "3     Monterey Park  1996-04-30   190782.0\n",
       "4     Monterey Park  1996-05-31   190701.0\n",
       "...             ...         ...        ...\n",
       "1510      Cupertino  2020-11-30  2396441.0\n",
       "1511      Cupertino  2020-12-31  2420148.0\n",
       "1512      Cupertino  2021-01-31  2433401.0\n",
       "1513      Cupertino  2021-02-28  2441106.0\n",
       "1514      Cupertino  2021-03-31  2442534.0\n",
       "\n",
       "[1515 rows x 3 columns]"
      ]
     },
     "execution_count": 24,
     "metadata": {},
     "output_type": "execute_result"
    }
   ],
   "source": [
    "\n",
    "asiantop = joint.sort_values(by = 'Asian',ascending = False).head()\n",
    "asianlow = joint.sort_values(by = 'Asian',ascending = True).head()\n",
    "\n",
    "asiantop.drop(asiantop.iloc[:, 0:17], inplace = True, axis = 1)\n",
    "asiantop.head()\n",
    "#asiantop.set_index('Place')\n",
    "asiantop= asiantop.stack().to_frame().reset_index()\n",
    "asiantop = asiantop.rename(columns = {'level_1':'date',0:'value','level_0':'City'})\n",
    "asiantop[\"City\"].replace({568: \"Monterey Park\",901:\"Walnut\",152:\"Cerritos\",732:\"Rosemea\",207:\"Cupertino\"}, inplace=True)\n",
    "\n",
    "asiantop\n",
    "#asiantop"
   ]
  },
  {
   "cell_type": "code",
   "execution_count": 25,
   "metadata": {},
   "outputs": [
    {
     "data": {
      "application/vnd.plotly.v1+json": {
       "config": {
        "plotlyServerURL": "https://plot.ly"
       },
       "data": [
        {
         "hovertemplate": "City=Monterey Park<br>date=%{x}<br>value=%{y}<extra></extra>",
         "legendgroup": "Monterey Park",
         "line": {
          "color": "#636efa",
          "dash": "solid"
         },
         "mode": "lines",
         "name": "Monterey Park",
         "showlegend": true,
         "type": "scattergl",
         "x": [
          "1996-01-31",
          "1996-02-29",
          "1996-03-31",
          "1996-04-30",
          "1996-05-31",
          "1996-06-30",
          "1996-07-31",
          "1996-08-31",
          "1996-09-30",
          "1996-10-31",
          "1996-11-30",
          "1996-12-31",
          "1997-01-31",
          "1997-02-28",
          "1997-03-31",
          "1997-04-30",
          "1997-05-31",
          "1997-06-30",
          "1997-07-31",
          "1997-08-31",
          "1997-09-30",
          "1997-10-31",
          "1997-11-30",
          "1997-12-31",
          "1998-01-31",
          "1998-02-28",
          "1998-03-31",
          "1998-04-30",
          "1998-05-31",
          "1998-06-30",
          "1998-07-31",
          "1998-08-31",
          "1998-09-30",
          "1998-10-31",
          "1998-11-30",
          "1998-12-31",
          "1999-01-31",
          "1999-02-28",
          "1999-03-31",
          "1999-04-30",
          "1999-05-31",
          "1999-06-30",
          "1999-07-31",
          "1999-08-31",
          "1999-09-30",
          "1999-10-31",
          "1999-11-30",
          "1999-12-31",
          "2000-01-31",
          "2000-02-29",
          "2000-03-31",
          "2000-04-30",
          "2000-05-31",
          "2000-06-30",
          "2000-07-31",
          "2000-08-31",
          "2000-09-30",
          "2000-10-31",
          "2000-11-30",
          "2000-12-31",
          "2001-01-31",
          "2001-02-28",
          "2001-03-31",
          "2001-04-30",
          "2001-05-31",
          "2001-06-30",
          "2001-07-31",
          "2001-08-31",
          "2001-09-30",
          "2001-10-31",
          "2001-11-30",
          "2001-12-31",
          "2002-01-31",
          "2002-02-28",
          "2002-03-31",
          "2002-04-30",
          "2002-05-31",
          "2002-06-30",
          "2002-07-31",
          "2002-08-31",
          "2002-09-30",
          "2002-10-31",
          "2002-11-30",
          "2002-12-31",
          "2003-01-31",
          "2003-02-28",
          "2003-03-31",
          "2003-04-30",
          "2003-05-31",
          "2003-06-30",
          "2003-07-31",
          "2003-08-31",
          "2003-09-30",
          "2003-10-31",
          "2003-11-30",
          "2003-12-31",
          "2004-01-31",
          "2004-02-29",
          "2004-03-31",
          "2004-04-30",
          "2004-05-31",
          "2004-06-30",
          "2004-07-31",
          "2004-08-31",
          "2004-09-30",
          "2004-10-31",
          "2004-11-30",
          "2004-12-31",
          "2005-01-31",
          "2005-02-28",
          "2005-03-31",
          "2005-04-30",
          "2005-05-31",
          "2005-06-30",
          "2005-07-31",
          "2005-08-31",
          "2005-09-30",
          "2005-10-31",
          "2005-11-30",
          "2005-12-31",
          "2006-01-31",
          "2006-02-28",
          "2006-03-31",
          "2006-04-30",
          "2006-05-31",
          "2006-06-30",
          "2006-07-31",
          "2006-08-31",
          "2006-09-30",
          "2006-10-31",
          "2006-11-30",
          "2006-12-31",
          "2007-01-31",
          "2007-02-28",
          "2007-03-31",
          "2007-04-30",
          "2007-05-31",
          "2007-06-30",
          "2007-07-31",
          "2007-08-31",
          "2007-09-30",
          "2007-10-31",
          "2007-11-30",
          "2007-12-31",
          "2008-01-31",
          "2008-02-29",
          "2008-03-31",
          "2008-04-30",
          "2008-05-31",
          "2008-06-30",
          "2008-07-31",
          "2008-08-31",
          "2008-09-30",
          "2008-10-31",
          "2008-11-30",
          "2008-12-31",
          "2009-01-31",
          "2009-02-28",
          "2009-03-31",
          "2009-04-30",
          "2009-05-31",
          "2009-06-30",
          "2009-07-31",
          "2009-08-31",
          "2009-09-30",
          "2009-10-31",
          "2009-11-30",
          "2009-12-31",
          "2010-01-31",
          "2010-02-28",
          "2010-03-31",
          "2010-04-30",
          "2010-05-31",
          "2010-06-30",
          "2010-07-31",
          "2010-08-31",
          "2010-09-30",
          "2010-10-31",
          "2010-11-30",
          "2010-12-31",
          "2011-01-31",
          "2011-02-28",
          "2011-03-31",
          "2011-04-30",
          "2011-05-31",
          "2011-06-30",
          "2011-07-31",
          "2011-08-31",
          "2011-09-30",
          "2011-10-31",
          "2011-11-30",
          "2011-12-31",
          "2012-01-31",
          "2012-02-29",
          "2012-03-31",
          "2012-04-30",
          "2012-05-31",
          "2012-06-30",
          "2012-07-31",
          "2012-08-31",
          "2012-09-30",
          "2012-10-31",
          "2012-11-30",
          "2012-12-31",
          "2013-01-31",
          "2013-02-28",
          "2013-03-31",
          "2013-04-30",
          "2013-05-31",
          "2013-06-30",
          "2013-07-31",
          "2013-08-31",
          "2013-09-30",
          "2013-10-31",
          "2013-11-30",
          "2013-12-31",
          "2014-01-31",
          "2014-02-28",
          "2014-03-31",
          "2014-04-30",
          "2014-05-31",
          "2014-06-30",
          "2014-07-31",
          "2014-08-31",
          "2014-09-30",
          "2014-10-31",
          "2014-11-30",
          "2014-12-31",
          "2015-01-31",
          "2015-02-28",
          "2015-03-31",
          "2015-04-30",
          "2015-05-31",
          "2015-06-30",
          "2015-07-31",
          "2015-08-31",
          "2015-09-30",
          "2015-10-31",
          "2015-11-30",
          "2015-12-31",
          "2016-01-31",
          "2016-02-29",
          "2016-03-31",
          "2016-04-30",
          "2016-05-31",
          "2016-06-30",
          "2016-07-31",
          "2016-08-31",
          "2016-09-30",
          "2016-10-31",
          "2016-11-30",
          "2016-12-31",
          "2017-01-31",
          "2017-02-28",
          "2017-03-31",
          "2017-04-30",
          "2017-05-31",
          "2017-06-30",
          "2017-07-31",
          "2017-08-31",
          "2017-09-30",
          "2017-10-31",
          "2017-11-30",
          "2017-12-31",
          "2018-01-31",
          "2018-02-28",
          "2018-03-31",
          "2018-04-30",
          "2018-05-31",
          "2018-06-30",
          "2018-07-31",
          "2018-08-31",
          "2018-09-30",
          "2018-10-31",
          "2018-11-30",
          "2018-12-31",
          "2019-01-31",
          "2019-02-28",
          "2019-03-31",
          "2019-04-30",
          "2019-05-31",
          "2019-06-30",
          "2019-07-31",
          "2019-08-31",
          "2019-09-30",
          "2019-10-31",
          "2019-11-30",
          "2019-12-31",
          "2020-01-31",
          "2020-02-29",
          "2020-03-31",
          "2020-04-30",
          "2020-05-31",
          "2020-06-30",
          "2020-07-31",
          "2020-08-31",
          "2020-09-30",
          "2020-10-31",
          "2020-11-30",
          "2020-12-31",
          "2021-01-31",
          "2021-02-28",
          "2021-03-31"
         ],
         "xaxis": "x",
         "y": [
          191157,
          190865,
          190874,
          190782,
          190701,
          190528,
          190572,
          190443,
          190194,
          189910,
          189765,
          190028,
          189211,
          188777,
          187971,
          188054,
          188245,
          188585,
          188893,
          189571,
          190470,
          191330,
          191846,
          192318,
          194358,
          196465,
          198716,
          199997,
          201377,
          202498,
          203343,
          204466,
          206000,
          207811,
          209961,
          211544,
          213295,
          214738,
          216205,
          217231,
          217823,
          219531,
          221289,
          222170,
          222341,
          222970,
          224157,
          224939,
          225356,
          226011,
          227516,
          229375,
          231494,
          233093,
          234999,
          237804,
          240884,
          243047,
          244800,
          247288,
          249840,
          252196,
          253924,
          256287,
          258845,
          261608,
          263585,
          264836,
          265969,
          268358,
          270852,
          273045,
          275188,
          278070,
          281662,
          285039,
          287902,
          291101,
          295396,
          300827,
          306265,
          311286,
          316569,
          322301,
          327546,
          331677,
          335653,
          339326,
          344124,
          348010,
          352987,
          357265,
          362083,
          366422,
          372311,
          378725,
          386613,
          394521,
          402832,
          412488,
          423307,
          434003,
          442747,
          450976,
          460259,
          469224,
          476171,
          482045,
          486811,
          494334,
          501143,
          508061,
          512127,
          518292,
          525942,
          534970,
          543830,
          553537,
          561603,
          568743,
          575651,
          580993,
          587313,
          591680,
          598093,
          602068,
          605441,
          606961,
          605700,
          603890,
          602766,
          603527,
          602712,
          601243,
          598968,
          599327,
          598219,
          596974,
          592906,
          587470,
          580627,
          572707,
          566737,
          561020,
          556445,
          549865,
          540753,
          528471,
          515230,
          504808,
          495587,
          489202,
          485252,
          483104,
          478289,
          469198,
          462708,
          459695,
          458191,
          456421,
          455789,
          455037,
          456600,
          459624,
          463500,
          466079,
          469832,
          476481,
          479951,
          480019,
          482364,
          486824,
          493422,
          493528,
          491041,
          486410,
          482109,
          479427,
          475010,
          472900,
          471171,
          470748,
          467569,
          462791,
          456180,
          455360,
          456318,
          456657,
          455127,
          451677,
          451154,
          447797,
          446033,
          444224,
          443984,
          444607,
          446047,
          447014,
          448042,
          448063,
          449373,
          453039,
          457399,
          464774,
          469840,
          478458,
          487247,
          499086,
          508440,
          517098,
          524910,
          537100,
          547574,
          555068,
          559358,
          561403,
          565292,
          564228,
          563272,
          560020,
          559516,
          560069,
          563299,
          562314,
          561461,
          560130,
          562994,
          565138,
          568443,
          572228,
          576130,
          576910,
          578849,
          579662,
          578523,
          576864,
          576984,
          579841,
          581981,
          586166,
          588492,
          592085,
          594274,
          600009,
          603117,
          606737,
          609838,
          616000,
          622097,
          627330,
          628858,
          629850,
          632230,
          635100,
          638067,
          639687,
          643527,
          647351,
          650531,
          653361,
          655038,
          657647,
          662603,
          667933,
          672652,
          677028,
          682406,
          687417,
          691280,
          693153,
          694670,
          693118,
          692773,
          692807,
          694757,
          694791,
          694514,
          691154,
          687137,
          685678,
          688512,
          694367,
          695071,
          696086,
          696320,
          698384,
          699225,
          701331,
          705038,
          710084,
          717485,
          724462,
          728401,
          729896,
          735951,
          743366,
          751140,
          757236,
          762957,
          768586,
          773227,
          778568,
          782313
         ],
         "yaxis": "y"
        },
        {
         "hovertemplate": "City=Walnut<br>date=%{x}<br>value=%{y}<extra></extra>",
         "legendgroup": "Walnut",
         "line": {
          "color": "#EF553B",
          "dash": "solid"
         },
         "mode": "lines",
         "name": "Walnut",
         "showlegend": true,
         "type": "scattergl",
         "x": [
          "1996-01-31",
          "1996-02-29",
          "1996-03-31",
          "1996-04-30",
          "1996-05-31",
          "1996-06-30",
          "1996-07-31",
          "1996-08-31",
          "1996-09-30",
          "1996-10-31",
          "1996-11-30",
          "1996-12-31",
          "1997-01-31",
          "1997-02-28",
          "1997-03-31",
          "1997-04-30",
          "1997-05-31",
          "1997-06-30",
          "1997-07-31",
          "1997-08-31",
          "1997-09-30",
          "1997-10-31",
          "1997-11-30",
          "1997-12-31",
          "1998-01-31",
          "1998-02-28",
          "1998-03-31",
          "1998-04-30",
          "1998-05-31",
          "1998-06-30",
          "1998-07-31",
          "1998-08-31",
          "1998-09-30",
          "1998-10-31",
          "1998-11-30",
          "1998-12-31",
          "1999-01-31",
          "1999-02-28",
          "1999-03-31",
          "1999-04-30",
          "1999-05-31",
          "1999-06-30",
          "1999-07-31",
          "1999-08-31",
          "1999-09-30",
          "1999-10-31",
          "1999-11-30",
          "1999-12-31",
          "2000-01-31",
          "2000-02-29",
          "2000-03-31",
          "2000-04-30",
          "2000-05-31",
          "2000-06-30",
          "2000-07-31",
          "2000-08-31",
          "2000-09-30",
          "2000-10-31",
          "2000-11-30",
          "2000-12-31",
          "2001-01-31",
          "2001-02-28",
          "2001-03-31",
          "2001-04-30",
          "2001-05-31",
          "2001-06-30",
          "2001-07-31",
          "2001-08-31",
          "2001-09-30",
          "2001-10-31",
          "2001-11-30",
          "2001-12-31",
          "2002-01-31",
          "2002-02-28",
          "2002-03-31",
          "2002-04-30",
          "2002-05-31",
          "2002-06-30",
          "2002-07-31",
          "2002-08-31",
          "2002-09-30",
          "2002-10-31",
          "2002-11-30",
          "2002-12-31",
          "2003-01-31",
          "2003-02-28",
          "2003-03-31",
          "2003-04-30",
          "2003-05-31",
          "2003-06-30",
          "2003-07-31",
          "2003-08-31",
          "2003-09-30",
          "2003-10-31",
          "2003-11-30",
          "2003-12-31",
          "2004-01-31",
          "2004-02-29",
          "2004-03-31",
          "2004-04-30",
          "2004-05-31",
          "2004-06-30",
          "2004-07-31",
          "2004-08-31",
          "2004-09-30",
          "2004-10-31",
          "2004-11-30",
          "2004-12-31",
          "2005-01-31",
          "2005-02-28",
          "2005-03-31",
          "2005-04-30",
          "2005-05-31",
          "2005-06-30",
          "2005-07-31",
          "2005-08-31",
          "2005-09-30",
          "2005-10-31",
          "2005-11-30",
          "2005-12-31",
          "2006-01-31",
          "2006-02-28",
          "2006-03-31",
          "2006-04-30",
          "2006-05-31",
          "2006-06-30",
          "2006-07-31",
          "2006-08-31",
          "2006-09-30",
          "2006-10-31",
          "2006-11-30",
          "2006-12-31",
          "2007-01-31",
          "2007-02-28",
          "2007-03-31",
          "2007-04-30",
          "2007-05-31",
          "2007-06-30",
          "2007-07-31",
          "2007-08-31",
          "2007-09-30",
          "2007-10-31",
          "2007-11-30",
          "2007-12-31",
          "2008-01-31",
          "2008-02-29",
          "2008-03-31",
          "2008-04-30",
          "2008-05-31",
          "2008-06-30",
          "2008-07-31",
          "2008-08-31",
          "2008-09-30",
          "2008-10-31",
          "2008-11-30",
          "2008-12-31",
          "2009-01-31",
          "2009-02-28",
          "2009-03-31",
          "2009-04-30",
          "2009-05-31",
          "2009-06-30",
          "2009-07-31",
          "2009-08-31",
          "2009-09-30",
          "2009-10-31",
          "2009-11-30",
          "2009-12-31",
          "2010-01-31",
          "2010-02-28",
          "2010-03-31",
          "2010-04-30",
          "2010-05-31",
          "2010-06-30",
          "2010-07-31",
          "2010-08-31",
          "2010-09-30",
          "2010-10-31",
          "2010-11-30",
          "2010-12-31",
          "2011-01-31",
          "2011-02-28",
          "2011-03-31",
          "2011-04-30",
          "2011-05-31",
          "2011-06-30",
          "2011-07-31",
          "2011-08-31",
          "2011-09-30",
          "2011-10-31",
          "2011-11-30",
          "2011-12-31",
          "2012-01-31",
          "2012-02-29",
          "2012-03-31",
          "2012-04-30",
          "2012-05-31",
          "2012-06-30",
          "2012-07-31",
          "2012-08-31",
          "2012-09-30",
          "2012-10-31",
          "2012-11-30",
          "2012-12-31",
          "2013-01-31",
          "2013-02-28",
          "2013-03-31",
          "2013-04-30",
          "2013-05-31",
          "2013-06-30",
          "2013-07-31",
          "2013-08-31",
          "2013-09-30",
          "2013-10-31",
          "2013-11-30",
          "2013-12-31",
          "2014-01-31",
          "2014-02-28",
          "2014-03-31",
          "2014-04-30",
          "2014-05-31",
          "2014-06-30",
          "2014-07-31",
          "2014-08-31",
          "2014-09-30",
          "2014-10-31",
          "2014-11-30",
          "2014-12-31",
          "2015-01-31",
          "2015-02-28",
          "2015-03-31",
          "2015-04-30",
          "2015-05-31",
          "2015-06-30",
          "2015-07-31",
          "2015-08-31",
          "2015-09-30",
          "2015-10-31",
          "2015-11-30",
          "2015-12-31",
          "2016-01-31",
          "2016-02-29",
          "2016-03-31",
          "2016-04-30",
          "2016-05-31",
          "2016-06-30",
          "2016-07-31",
          "2016-08-31",
          "2016-09-30",
          "2016-10-31",
          "2016-11-30",
          "2016-12-31",
          "2017-01-31",
          "2017-02-28",
          "2017-03-31",
          "2017-04-30",
          "2017-05-31",
          "2017-06-30",
          "2017-07-31",
          "2017-08-31",
          "2017-09-30",
          "2017-10-31",
          "2017-11-30",
          "2017-12-31",
          "2018-01-31",
          "2018-02-28",
          "2018-03-31",
          "2018-04-30",
          "2018-05-31",
          "2018-06-30",
          "2018-07-31",
          "2018-08-31",
          "2018-09-30",
          "2018-10-31",
          "2018-11-30",
          "2018-12-31",
          "2019-01-31",
          "2019-02-28",
          "2019-03-31",
          "2019-04-30",
          "2019-05-31",
          "2019-06-30",
          "2019-07-31",
          "2019-08-31",
          "2019-09-30",
          "2019-10-31",
          "2019-11-30",
          "2019-12-31",
          "2020-01-31",
          "2020-02-29",
          "2020-03-31",
          "2020-04-30",
          "2020-05-31",
          "2020-06-30",
          "2020-07-31",
          "2020-08-31",
          "2020-09-30",
          "2020-10-31",
          "2020-11-30",
          "2020-12-31",
          "2021-01-31",
          "2021-02-28",
          "2021-03-31"
         ],
         "xaxis": "x",
         "y": [
          250114,
          250097,
          250234,
          250360,
          250516,
          250722,
          251338,
          251559,
          251465,
          250770,
          250413,
          249901,
          248643,
          247377,
          246391,
          246569,
          246780,
          247131,
          247417,
          248530,
          249809,
          251698,
          252913,
          254888,
          257616,
          261024,
          263827,
          265588,
          267301,
          268373,
          268584,
          268854,
          270335,
          272535,
          275096,
          276945,
          279560,
          281768,
          284207,
          286027,
          287795,
          290802,
          294480,
          297283,
          298743,
          299932,
          301780,
          303513,
          305130,
          306378,
          308312,
          310359,
          313103,
          315210,
          317289,
          319346,
          321798,
          323908,
          326450,
          329191,
          331595,
          333860,
          335954,
          339095,
          341615,
          344534,
          346720,
          349777,
          352464,
          356015,
          358505,
          361294,
          363853,
          367589,
          371478,
          375602,
          379820,
          384720,
          390316,
          395584,
          400953,
          406534,
          413124,
          419567,
          425357,
          430194,
          435687,
          440031,
          444697,
          447696,
          453163,
          459567,
          466840,
          472581,
          479589,
          487350,
          497249,
          506333,
          515294,
          526726,
          540332,
          554262,
          565450,
          575635,
          587165,
          598027,
          606370,
          614270,
          621656,
          632682,
          642383,
          651124,
          656382,
          664226,
          673240,
          683041,
          692590,
          704665,
          715051,
          722984,
          728871,
          732982,
          739062,
          742593,
          749174,
          752159,
          755149,
          755992,
          752607,
          749073,
          746545,
          747042,
          745856,
          742818,
          739301,
          738735,
          736221,
          733286,
          726472,
          719720,
          712000,
          702892,
          694723,
          687219,
          682172,
          676000,
          665814,
          653615,
          639766,
          630271,
          621076,
          613592,
          608803,
          604905,
          598657,
          587083,
          577861,
          573359,
          571956,
          568951,
          566352,
          562987,
          563871,
          566857,
          570709,
          573538,
          578198,
          586118,
          589947,
          589183,
          589112,
          591893,
          599006,
          600078,
          599377,
          595143,
          591361,
          587410,
          582609,
          580039,
          579387,
          580142,
          578741,
          576015,
          569776,
          568505,
          566899,
          565638,
          563148,
          560804,
          560920,
          558703,
          556934,
          554117,
          553239,
          554135,
          556636,
          558588,
          560431,
          562202,
          565380,
          572109,
          578998,
          588480,
          595290,
          607689,
          619660,
          634118,
          644843,
          657138,
          669659,
          686011,
          699127,
          707355,
          712559,
          715634,
          723134,
          724976,
          727706,
          725907,
          729397,
          731902,
          737579,
          736579,
          736891,
          736596,
          740394,
          743249,
          745722,
          749007,
          752763,
          755395,
          757763,
          758354,
          755612,
          754538,
          753877,
          756364,
          758159,
          762377,
          764138,
          765942,
          764968,
          766343,
          764254,
          763316,
          762873,
          765824,
          769917,
          773006,
          772443,
          771517,
          772700,
          774463,
          776893,
          778362,
          782842,
          787018,
          790511,
          792284,
          792599,
          793196,
          796604,
          800263,
          802722,
          805129,
          807862,
          810062,
          810896,
          811004,
          809319,
          805505,
          802442,
          801763,
          801728,
          798733,
          796317,
          790396,
          785471,
          782472,
          784708,
          787798,
          786908,
          785691,
          784130,
          783453,
          781454,
          782807,
          785641,
          790877,
          797108,
          803234,
          806405,
          808228,
          814467,
          822545,
          831111,
          838228,
          845903,
          852612,
          858419,
          864502,
          869761
         ],
         "yaxis": "y"
        },
        {
         "hovertemplate": "City=Cerritos<br>date=%{x}<br>value=%{y}<extra></extra>",
         "legendgroup": "Cerritos",
         "line": {
          "color": "#00cc96",
          "dash": "solid"
         },
         "mode": "lines",
         "name": "Cerritos",
         "showlegend": true,
         "type": "scattergl",
         "x": [
          "1996-01-31",
          "1996-02-29",
          "1996-03-31",
          "1996-04-30",
          "1996-05-31",
          "1996-06-30",
          "1996-07-31",
          "1996-08-31",
          "1996-09-30",
          "1996-10-31",
          "1996-11-30",
          "1996-12-31",
          "1997-01-31",
          "1997-02-28",
          "1997-03-31",
          "1997-04-30",
          "1997-05-31",
          "1997-06-30",
          "1997-07-31",
          "1997-08-31",
          "1997-09-30",
          "1997-10-31",
          "1997-11-30",
          "1997-12-31",
          "1998-01-31",
          "1998-02-28",
          "1998-03-31",
          "1998-04-30",
          "1998-05-31",
          "1998-06-30",
          "1998-07-31",
          "1998-08-31",
          "1998-09-30",
          "1998-10-31",
          "1998-11-30",
          "1998-12-31",
          "1999-01-31",
          "1999-02-28",
          "1999-03-31",
          "1999-04-30",
          "1999-05-31",
          "1999-06-30",
          "1999-07-31",
          "1999-08-31",
          "1999-09-30",
          "1999-10-31",
          "1999-11-30",
          "1999-12-31",
          "2000-01-31",
          "2000-02-29",
          "2000-03-31",
          "2000-04-30",
          "2000-05-31",
          "2000-06-30",
          "2000-07-31",
          "2000-08-31",
          "2000-09-30",
          "2000-10-31",
          "2000-11-30",
          "2000-12-31",
          "2001-01-31",
          "2001-02-28",
          "2001-03-31",
          "2001-04-30",
          "2001-05-31",
          "2001-06-30",
          "2001-07-31",
          "2001-08-31",
          "2001-09-30",
          "2001-10-31",
          "2001-11-30",
          "2001-12-31",
          "2002-01-31",
          "2002-02-28",
          "2002-03-31",
          "2002-04-30",
          "2002-05-31",
          "2002-06-30",
          "2002-07-31",
          "2002-08-31",
          "2002-09-30",
          "2002-10-31",
          "2002-11-30",
          "2002-12-31",
          "2003-01-31",
          "2003-02-28",
          "2003-03-31",
          "2003-04-30",
          "2003-05-31",
          "2003-06-30",
          "2003-07-31",
          "2003-08-31",
          "2003-09-30",
          "2003-10-31",
          "2003-11-30",
          "2003-12-31",
          "2004-01-31",
          "2004-02-29",
          "2004-03-31",
          "2004-04-30",
          "2004-05-31",
          "2004-06-30",
          "2004-07-31",
          "2004-08-31",
          "2004-09-30",
          "2004-10-31",
          "2004-11-30",
          "2004-12-31",
          "2005-01-31",
          "2005-02-28",
          "2005-03-31",
          "2005-04-30",
          "2005-05-31",
          "2005-06-30",
          "2005-07-31",
          "2005-08-31",
          "2005-09-30",
          "2005-10-31",
          "2005-11-30",
          "2005-12-31",
          "2006-01-31",
          "2006-02-28",
          "2006-03-31",
          "2006-04-30",
          "2006-05-31",
          "2006-06-30",
          "2006-07-31",
          "2006-08-31",
          "2006-09-30",
          "2006-10-31",
          "2006-11-30",
          "2006-12-31",
          "2007-01-31",
          "2007-02-28",
          "2007-03-31",
          "2007-04-30",
          "2007-05-31",
          "2007-06-30",
          "2007-07-31",
          "2007-08-31",
          "2007-09-30",
          "2007-10-31",
          "2007-11-30",
          "2007-12-31",
          "2008-01-31",
          "2008-02-29",
          "2008-03-31",
          "2008-04-30",
          "2008-05-31",
          "2008-06-30",
          "2008-07-31",
          "2008-08-31",
          "2008-09-30",
          "2008-10-31",
          "2008-11-30",
          "2008-12-31",
          "2009-01-31",
          "2009-02-28",
          "2009-03-31",
          "2009-04-30",
          "2009-05-31",
          "2009-06-30",
          "2009-07-31",
          "2009-08-31",
          "2009-09-30",
          "2009-10-31",
          "2009-11-30",
          "2009-12-31",
          "2010-01-31",
          "2010-02-28",
          "2010-03-31",
          "2010-04-30",
          "2010-05-31",
          "2010-06-30",
          "2010-07-31",
          "2010-08-31",
          "2010-09-30",
          "2010-10-31",
          "2010-11-30",
          "2010-12-31",
          "2011-01-31",
          "2011-02-28",
          "2011-03-31",
          "2011-04-30",
          "2011-05-31",
          "2011-06-30",
          "2011-07-31",
          "2011-08-31",
          "2011-09-30",
          "2011-10-31",
          "2011-11-30",
          "2011-12-31",
          "2012-01-31",
          "2012-02-29",
          "2012-03-31",
          "2012-04-30",
          "2012-05-31",
          "2012-06-30",
          "2012-07-31",
          "2012-08-31",
          "2012-09-30",
          "2012-10-31",
          "2012-11-30",
          "2012-12-31",
          "2013-01-31",
          "2013-02-28",
          "2013-03-31",
          "2013-04-30",
          "2013-05-31",
          "2013-06-30",
          "2013-07-31",
          "2013-08-31",
          "2013-09-30",
          "2013-10-31",
          "2013-11-30",
          "2013-12-31",
          "2014-01-31",
          "2014-02-28",
          "2014-03-31",
          "2014-04-30",
          "2014-05-31",
          "2014-06-30",
          "2014-07-31",
          "2014-08-31",
          "2014-09-30",
          "2014-10-31",
          "2014-11-30",
          "2014-12-31",
          "2015-01-31",
          "2015-02-28",
          "2015-03-31",
          "2015-04-30",
          "2015-05-31",
          "2015-06-30",
          "2015-07-31",
          "2015-08-31",
          "2015-09-30",
          "2015-10-31",
          "2015-11-30",
          "2015-12-31",
          "2016-01-31",
          "2016-02-29",
          "2016-03-31",
          "2016-04-30",
          "2016-05-31",
          "2016-06-30",
          "2016-07-31",
          "2016-08-31",
          "2016-09-30",
          "2016-10-31",
          "2016-11-30",
          "2016-12-31",
          "2017-01-31",
          "2017-02-28",
          "2017-03-31",
          "2017-04-30",
          "2017-05-31",
          "2017-06-30",
          "2017-07-31",
          "2017-08-31",
          "2017-09-30",
          "2017-10-31",
          "2017-11-30",
          "2017-12-31",
          "2018-01-31",
          "2018-02-28",
          "2018-03-31",
          "2018-04-30",
          "2018-05-31",
          "2018-06-30",
          "2018-07-31",
          "2018-08-31",
          "2018-09-30",
          "2018-10-31",
          "2018-11-30",
          "2018-12-31",
          "2019-01-31",
          "2019-02-28",
          "2019-03-31",
          "2019-04-30",
          "2019-05-31",
          "2019-06-30",
          "2019-07-31",
          "2019-08-31",
          "2019-09-30",
          "2019-10-31",
          "2019-11-30",
          "2019-12-31",
          "2020-01-31",
          "2020-02-29",
          "2020-03-31",
          "2020-04-30",
          "2020-05-31",
          "2020-06-30",
          "2020-07-31",
          "2020-08-31",
          "2020-09-30",
          "2020-10-31",
          "2020-11-30",
          "2020-12-31",
          "2021-01-31",
          "2021-02-28",
          "2021-03-31"
         ],
         "xaxis": "x",
         "y": [
          235918,
          235929,
          236059,
          236272,
          236567,
          236770,
          237166,
          237189,
          237138,
          236911,
          236955,
          237061,
          236400,
          235943,
          235648,
          236358,
          236817,
          237575,
          238447,
          240253,
          241996,
          243962,
          245469,
          247511,
          250468,
          253636,
          256475,
          258189,
          260448,
          262258,
          263433,
          264516,
          266550,
          268953,
          271413,
          272993,
          275252,
          277264,
          279339,
          281044,
          282467,
          284967,
          288211,
          290445,
          291786,
          293049,
          295347,
          297729,
          299795,
          301575,
          303790,
          306236,
          309035,
          311466,
          313466,
          315744,
          318097,
          320084,
          321867,
          323715,
          325705,
          327900,
          330352,
          333298,
          335853,
          338289,
          340292,
          342816,
          345201,
          348516,
          351717,
          355515,
          359104,
          363188,
          367213,
          371765,
          376391,
          381655,
          387422,
          393439,
          399901,
          406646,
          413714,
          420411,
          426255,
          431489,
          437175,
          441792,
          446811,
          450907,
          457348,
          464047,
          470815,
          476213,
          483195,
          491252,
          501400,
          511119,
          520885,
          532536,
          546140,
          559418,
          570463,
          580335,
          592041,
          602968,
          611663,
          619232,
          625724,
          635156,
          643644,
          652124,
          657751,
          665783,
          675417,
          686212,
          696352,
          707508,
          716048,
          723029,
          729231,
          734007,
          739865,
          743111,
          748873,
          752104,
          753254,
          752100,
          747080,
          743212,
          740984,
          741306,
          739482,
          736703,
          733528,
          733437,
          730653,
          727188,
          721897,
          715563,
          708437,
          698946,
          690960,
          683206,
          676413,
          667389,
          654156,
          637941,
          621825,
          609983,
          599130,
          590739,
          584756,
          580950,
          574999,
          563909,
          556543,
          552500,
          551796,
          550244,
          549269,
          547206,
          546398,
          548716,
          552353,
          555965,
          560078,
          567533,
          570652,
          570828,
          572667,
          576832,
          584037,
          584595,
          585746,
          583103,
          580930,
          576947,
          571626,
          567894,
          566081,
          565827,
          563612,
          561023,
          554237,
          553457,
          551183,
          550283,
          546783,
          543366,
          542728,
          540528,
          539560,
          538014,
          536914,
          535799,
          536336,
          537030,
          538819,
          538347,
          539549,
          543138,
          547780,
          554652,
          558748,
          566818,
          574497,
          584764,
          593979,
          602944,
          611224,
          621661,
          630113,
          635663,
          638773,
          639913,
          642194,
          640139,
          639942,
          638592,
          638167,
          636046,
          636387,
          635280,
          634957,
          634212,
          636490,
          638954,
          643496,
          648302,
          652601,
          652548,
          654671,
          657506,
          659561,
          661102,
          662748,
          666914,
          670104,
          675212,
          677272,
          679613,
          680117,
          685251,
          687478,
          690047,
          689662,
          691764,
          695241,
          698734,
          699333,
          698275,
          700094,
          702603,
          706069,
          707539,
          711094,
          713438,
          718650,
          723426,
          727646,
          729320,
          733573,
          738733,
          742492,
          745784,
          749008,
          751776,
          753903,
          757215,
          758785,
          757735,
          754945,
          754822,
          754887,
          753269,
          752011,
          748107,
          744550,
          742931,
          746001,
          750780,
          750643,
          749301,
          748243,
          749520,
          750716,
          752735,
          755529,
          759836,
          766102,
          772422,
          775871,
          776611,
          781831,
          789595,
          798326,
          804835,
          811100,
          817660,
          823938,
          830834,
          836454
         ],
         "yaxis": "y"
        },
        {
         "hovertemplate": "City=Rosemea<br>date=%{x}<br>value=%{y}<extra></extra>",
         "legendgroup": "Rosemea",
         "line": {
          "color": "#ab63fa",
          "dash": "solid"
         },
         "mode": "lines",
         "name": "Rosemea",
         "showlegend": true,
         "type": "scattergl",
         "x": [
          "1996-01-31",
          "1996-02-29",
          "1996-03-31",
          "1996-04-30",
          "1996-05-31",
          "1996-06-30",
          "1996-07-31",
          "1996-08-31",
          "1996-09-30",
          "1996-10-31",
          "1996-11-30",
          "1996-12-31",
          "1997-01-31",
          "1997-02-28",
          "1997-03-31",
          "1997-04-30",
          "1997-05-31",
          "1997-06-30",
          "1997-07-31",
          "1997-08-31",
          "1997-09-30",
          "1997-10-31",
          "1997-11-30",
          "1997-12-31",
          "1998-01-31",
          "1998-02-28",
          "1998-03-31",
          "1998-04-30",
          "1998-05-31",
          "1998-06-30",
          "1998-07-31",
          "1998-08-31",
          "1998-09-30",
          "1998-10-31",
          "1998-11-30",
          "1998-12-31",
          "1999-01-31",
          "1999-02-28",
          "1999-03-31",
          "1999-04-30",
          "1999-05-31",
          "1999-06-30",
          "1999-07-31",
          "1999-08-31",
          "1999-09-30",
          "1999-10-31",
          "1999-11-30",
          "1999-12-31",
          "2000-01-31",
          "2000-02-29",
          "2000-03-31",
          "2000-04-30",
          "2000-05-31",
          "2000-06-30",
          "2000-07-31",
          "2000-08-31",
          "2000-09-30",
          "2000-10-31",
          "2000-11-30",
          "2000-12-31",
          "2001-01-31",
          "2001-02-28",
          "2001-03-31",
          "2001-04-30",
          "2001-05-31",
          "2001-06-30",
          "2001-07-31",
          "2001-08-31",
          "2001-09-30",
          "2001-10-31",
          "2001-11-30",
          "2001-12-31",
          "2002-01-31",
          "2002-02-28",
          "2002-03-31",
          "2002-04-30",
          "2002-05-31",
          "2002-06-30",
          "2002-07-31",
          "2002-08-31",
          "2002-09-30",
          "2002-10-31",
          "2002-11-30",
          "2002-12-31",
          "2003-01-31",
          "2003-02-28",
          "2003-03-31",
          "2003-04-30",
          "2003-05-31",
          "2003-06-30",
          "2003-07-31",
          "2003-08-31",
          "2003-09-30",
          "2003-10-31",
          "2003-11-30",
          "2003-12-31",
          "2004-01-31",
          "2004-02-29",
          "2004-03-31",
          "2004-04-30",
          "2004-05-31",
          "2004-06-30",
          "2004-07-31",
          "2004-08-31",
          "2004-09-30",
          "2004-10-31",
          "2004-11-30",
          "2004-12-31",
          "2005-01-31",
          "2005-02-28",
          "2005-03-31",
          "2005-04-30",
          "2005-05-31",
          "2005-06-30",
          "2005-07-31",
          "2005-08-31",
          "2005-09-30",
          "2005-10-31",
          "2005-11-30",
          "2005-12-31",
          "2006-01-31",
          "2006-02-28",
          "2006-03-31",
          "2006-04-30",
          "2006-05-31",
          "2006-06-30",
          "2006-07-31",
          "2006-08-31",
          "2006-09-30",
          "2006-10-31",
          "2006-11-30",
          "2006-12-31",
          "2007-01-31",
          "2007-02-28",
          "2007-03-31",
          "2007-04-30",
          "2007-05-31",
          "2007-06-30",
          "2007-07-31",
          "2007-08-31",
          "2007-09-30",
          "2007-10-31",
          "2007-11-30",
          "2007-12-31",
          "2008-01-31",
          "2008-02-29",
          "2008-03-31",
          "2008-04-30",
          "2008-05-31",
          "2008-06-30",
          "2008-07-31",
          "2008-08-31",
          "2008-09-30",
          "2008-10-31",
          "2008-11-30",
          "2008-12-31",
          "2009-01-31",
          "2009-02-28",
          "2009-03-31",
          "2009-04-30",
          "2009-05-31",
          "2009-06-30",
          "2009-07-31",
          "2009-08-31",
          "2009-09-30",
          "2009-10-31",
          "2009-11-30",
          "2009-12-31",
          "2010-01-31",
          "2010-02-28",
          "2010-03-31",
          "2010-04-30",
          "2010-05-31",
          "2010-06-30",
          "2010-07-31",
          "2010-08-31",
          "2010-09-30",
          "2010-10-31",
          "2010-11-30",
          "2010-12-31",
          "2011-01-31",
          "2011-02-28",
          "2011-03-31",
          "2011-04-30",
          "2011-05-31",
          "2011-06-30",
          "2011-07-31",
          "2011-08-31",
          "2011-09-30",
          "2011-10-31",
          "2011-11-30",
          "2011-12-31",
          "2012-01-31",
          "2012-02-29",
          "2012-03-31",
          "2012-04-30",
          "2012-05-31",
          "2012-06-30",
          "2012-07-31",
          "2012-08-31",
          "2012-09-30",
          "2012-10-31",
          "2012-11-30",
          "2012-12-31",
          "2013-01-31",
          "2013-02-28",
          "2013-03-31",
          "2013-04-30",
          "2013-05-31",
          "2013-06-30",
          "2013-07-31",
          "2013-08-31",
          "2013-09-30",
          "2013-10-31",
          "2013-11-30",
          "2013-12-31",
          "2014-01-31",
          "2014-02-28",
          "2014-03-31",
          "2014-04-30",
          "2014-05-31",
          "2014-06-30",
          "2014-07-31",
          "2014-08-31",
          "2014-09-30",
          "2014-10-31",
          "2014-11-30",
          "2014-12-31",
          "2015-01-31",
          "2015-02-28",
          "2015-03-31",
          "2015-04-30",
          "2015-05-31",
          "2015-06-30",
          "2015-07-31",
          "2015-08-31",
          "2015-09-30",
          "2015-10-31",
          "2015-11-30",
          "2015-12-31",
          "2016-01-31",
          "2016-02-29",
          "2016-03-31",
          "2016-04-30",
          "2016-05-31",
          "2016-06-30",
          "2016-07-31",
          "2016-08-31",
          "2016-09-30",
          "2016-10-31",
          "2016-11-30",
          "2016-12-31",
          "2017-01-31",
          "2017-02-28",
          "2017-03-31",
          "2017-04-30",
          "2017-05-31",
          "2017-06-30",
          "2017-07-31",
          "2017-08-31",
          "2017-09-30",
          "2017-10-31",
          "2017-11-30",
          "2017-12-31",
          "2018-01-31",
          "2018-02-28",
          "2018-03-31",
          "2018-04-30",
          "2018-05-31",
          "2018-06-30",
          "2018-07-31",
          "2018-08-31",
          "2018-09-30",
          "2018-10-31",
          "2018-11-30",
          "2018-12-31",
          "2019-01-31",
          "2019-02-28",
          "2019-03-31",
          "2019-04-30",
          "2019-05-31",
          "2019-06-30",
          "2019-07-31",
          "2019-08-31",
          "2019-09-30",
          "2019-10-31",
          "2019-11-30",
          "2019-12-31",
          "2020-01-31",
          "2020-02-29",
          "2020-03-31",
          "2020-04-30",
          "2020-05-31",
          "2020-06-30",
          "2020-07-31",
          "2020-08-31",
          "2020-09-30",
          "2020-10-31",
          "2020-11-30",
          "2020-12-31",
          "2021-01-31",
          "2021-02-28",
          "2021-03-31"
         ],
         "xaxis": "x",
         "y": [
          170881,
          170847,
          170889,
          171055,
          171467,
          172200,
          172970,
          173387,
          173245,
          172838,
          172750,
          172604,
          171936,
          171061,
          170436,
          170239,
          169700,
          168713,
          168005,
          167804,
          168224,
          168832,
          168958,
          169445,
          170303,
          171970,
          173353,
          174357,
          175156,
          175681,
          175580,
          175798,
          176548,
          177733,
          178809,
          179513,
          180782,
          181819,
          182837,
          183607,
          184725,
          186670,
          188883,
          190210,
          190731,
          191048,
          192177,
          193201,
          194375,
          195222,
          196855,
          198566,
          200696,
          202199,
          203367,
          204325,
          205978,
          207740,
          209778,
          211861,
          213415,
          215292,
          216680,
          218631,
          220032,
          222090,
          224647,
          228061,
          230709,
          233222,
          235071,
          237628,
          240669,
          244010,
          247500,
          250855,
          254130,
          257741,
          261426,
          265453,
          269728,
          274823,
          280229,
          284838,
          288267,
          291475,
          295434,
          299527,
          304065,
          307994,
          313070,
          318079,
          323176,
          327360,
          332933,
          339852,
          348823,
          356854,
          364814,
          373173,
          383477,
          393352,
          401509,
          408795,
          417462,
          425565,
          431917,
          437165,
          441351,
          448322,
          454566,
          461803,
          466145,
          471706,
          478757,
          487341,
          496435,
          506892,
          514977,
          522064,
          528603,
          534348,
          540632,
          544379,
          549972,
          554435,
          557725,
          559048,
          556591,
          553881,
          552971,
          553800,
          553123,
          551129,
          548661,
          549012,
          548451,
          547318,
          543999,
          539192,
          533981,
          527343,
          521284,
          515499,
          510362,
          504060,
          495828,
          484346,
          471280,
          460168,
          450940,
          444261,
          439009,
          434692,
          429449,
          420653,
          415805,
          413156,
          411853,
          409733,
          408340,
          408056,
          408217,
          409529,
          411756,
          414164,
          417628,
          422554,
          422668,
          419555,
          418811,
          420812,
          425684,
          423623,
          421328,
          417353,
          414512,
          411866,
          407305,
          405070,
          403925,
          404807,
          402709,
          399892,
          394553,
          394147,
          394154,
          394223,
          392487,
          388860,
          387806,
          384980,
          384236,
          383248,
          383094,
          383253,
          384491,
          386984,
          389258,
          390086,
          391147,
          395476,
          399816,
          406710,
          410341,
          417220,
          424754,
          434739,
          442963,
          449579,
          455398,
          464582,
          473270,
          479181,
          483315,
          484885,
          488533,
          487731,
          487720,
          485825,
          485865,
          485974,
          488821,
          489245,
          489940,
          490345,
          492937,
          495232,
          498765,
          503139,
          507246,
          507944,
          509359,
          510893,
          512095,
          512989,
          514120,
          516342,
          518245,
          522085,
          524249,
          527210,
          528749,
          533708,
          536824,
          539932,
          540872,
          543598,
          547431,
          551941,
          554037,
          556035,
          558952,
          561761,
          564644,
          567125,
          571233,
          574507,
          577262,
          580055,
          582151,
          584709,
          589131,
          593244,
          597141,
          601229,
          606177,
          609418,
          612349,
          615405,
          620630,
          622092,
          622968,
          622009,
          623064,
          622605,
          622520,
          619847,
          616844,
          616255,
          619455,
          624679,
          623377,
          621765,
          620332,
          622865,
          624086,
          626301,
          629472,
          634882,
          641173,
          647108,
          649355,
          650012,
          654988,
          662056,
          669421,
          674552,
          679402,
          684278,
          688250,
          691800,
          694809
         ],
         "yaxis": "y"
        },
        {
         "hovertemplate": "City=Cupertino<br>date=%{x}<br>value=%{y}<extra></extra>",
         "legendgroup": "Cupertino",
         "line": {
          "color": "#FFA15A",
          "dash": "solid"
         },
         "mode": "lines",
         "name": "Cupertino",
         "showlegend": true,
         "type": "scattergl",
         "x": [
          "1996-01-31",
          "1996-02-29",
          "1996-03-31",
          "1996-04-30",
          "1996-05-31",
          "1996-06-30",
          "1996-07-31",
          "1996-08-31",
          "1996-09-30",
          "1996-10-31",
          "1996-11-30",
          "1996-12-31",
          "1997-01-31",
          "1997-02-28",
          "1997-03-31",
          "1997-04-30",
          "1997-05-31",
          "1997-06-30",
          "1997-07-31",
          "1997-08-31",
          "1997-09-30",
          "1997-10-31",
          "1997-11-30",
          "1997-12-31",
          "1998-01-31",
          "1998-02-28",
          "1998-03-31",
          "1998-04-30",
          "1998-05-31",
          "1998-06-30",
          "1998-07-31",
          "1998-08-31",
          "1998-09-30",
          "1998-10-31",
          "1998-11-30",
          "1998-12-31",
          "1999-01-31",
          "1999-02-28",
          "1999-03-31",
          "1999-04-30",
          "1999-05-31",
          "1999-06-30",
          "1999-07-31",
          "1999-08-31",
          "1999-09-30",
          "1999-10-31",
          "1999-11-30",
          "1999-12-31",
          "2000-01-31",
          "2000-02-29",
          "2000-03-31",
          "2000-04-30",
          "2000-05-31",
          "2000-06-30",
          "2000-07-31",
          "2000-08-31",
          "2000-09-30",
          "2000-10-31",
          "2000-11-30",
          "2000-12-31",
          "2001-01-31",
          "2001-02-28",
          "2001-03-31",
          "2001-04-30",
          "2001-05-31",
          "2001-06-30",
          "2001-07-31",
          "2001-08-31",
          "2001-09-30",
          "2001-10-31",
          "2001-11-30",
          "2001-12-31",
          "2002-01-31",
          "2002-02-28",
          "2002-03-31",
          "2002-04-30",
          "2002-05-31",
          "2002-06-30",
          "2002-07-31",
          "2002-08-31",
          "2002-09-30",
          "2002-10-31",
          "2002-11-30",
          "2002-12-31",
          "2003-01-31",
          "2003-02-28",
          "2003-03-31",
          "2003-04-30",
          "2003-05-31",
          "2003-06-30",
          "2003-07-31",
          "2003-08-31",
          "2003-09-30",
          "2003-10-31",
          "2003-11-30",
          "2003-12-31",
          "2004-01-31",
          "2004-02-29",
          "2004-03-31",
          "2004-04-30",
          "2004-05-31",
          "2004-06-30",
          "2004-07-31",
          "2004-08-31",
          "2004-09-30",
          "2004-10-31",
          "2004-11-30",
          "2004-12-31",
          "2005-01-31",
          "2005-02-28",
          "2005-03-31",
          "2005-04-30",
          "2005-05-31",
          "2005-06-30",
          "2005-07-31",
          "2005-08-31",
          "2005-09-30",
          "2005-10-31",
          "2005-11-30",
          "2005-12-31",
          "2006-01-31",
          "2006-02-28",
          "2006-03-31",
          "2006-04-30",
          "2006-05-31",
          "2006-06-30",
          "2006-07-31",
          "2006-08-31",
          "2006-09-30",
          "2006-10-31",
          "2006-11-30",
          "2006-12-31",
          "2007-01-31",
          "2007-02-28",
          "2007-03-31",
          "2007-04-30",
          "2007-05-31",
          "2007-06-30",
          "2007-07-31",
          "2007-08-31",
          "2007-09-30",
          "2007-10-31",
          "2007-11-30",
          "2007-12-31",
          "2008-01-31",
          "2008-02-29",
          "2008-03-31",
          "2008-04-30",
          "2008-05-31",
          "2008-06-30",
          "2008-07-31",
          "2008-08-31",
          "2008-09-30",
          "2008-10-31",
          "2008-11-30",
          "2008-12-31",
          "2009-01-31",
          "2009-02-28",
          "2009-03-31",
          "2009-04-30",
          "2009-05-31",
          "2009-06-30",
          "2009-07-31",
          "2009-08-31",
          "2009-09-30",
          "2009-10-31",
          "2009-11-30",
          "2009-12-31",
          "2010-01-31",
          "2010-02-28",
          "2010-03-31",
          "2010-04-30",
          "2010-05-31",
          "2010-06-30",
          "2010-07-31",
          "2010-08-31",
          "2010-09-30",
          "2010-10-31",
          "2010-11-30",
          "2010-12-31",
          "2011-01-31",
          "2011-02-28",
          "2011-03-31",
          "2011-04-30",
          "2011-05-31",
          "2011-06-30",
          "2011-07-31",
          "2011-08-31",
          "2011-09-30",
          "2011-10-31",
          "2011-11-30",
          "2011-12-31",
          "2012-01-31",
          "2012-02-29",
          "2012-03-31",
          "2012-04-30",
          "2012-05-31",
          "2012-06-30",
          "2012-07-31",
          "2012-08-31",
          "2012-09-30",
          "2012-10-31",
          "2012-11-30",
          "2012-12-31",
          "2013-01-31",
          "2013-02-28",
          "2013-03-31",
          "2013-04-30",
          "2013-05-31",
          "2013-06-30",
          "2013-07-31",
          "2013-08-31",
          "2013-09-30",
          "2013-10-31",
          "2013-11-30",
          "2013-12-31",
          "2014-01-31",
          "2014-02-28",
          "2014-03-31",
          "2014-04-30",
          "2014-05-31",
          "2014-06-30",
          "2014-07-31",
          "2014-08-31",
          "2014-09-30",
          "2014-10-31",
          "2014-11-30",
          "2014-12-31",
          "2015-01-31",
          "2015-02-28",
          "2015-03-31",
          "2015-04-30",
          "2015-05-31",
          "2015-06-30",
          "2015-07-31",
          "2015-08-31",
          "2015-09-30",
          "2015-10-31",
          "2015-11-30",
          "2015-12-31",
          "2016-01-31",
          "2016-02-29",
          "2016-03-31",
          "2016-04-30",
          "2016-05-31",
          "2016-06-30",
          "2016-07-31",
          "2016-08-31",
          "2016-09-30",
          "2016-10-31",
          "2016-11-30",
          "2016-12-31",
          "2017-01-31",
          "2017-02-28",
          "2017-03-31",
          "2017-04-30",
          "2017-05-31",
          "2017-06-30",
          "2017-07-31",
          "2017-08-31",
          "2017-09-30",
          "2017-10-31",
          "2017-11-30",
          "2017-12-31",
          "2018-01-31",
          "2018-02-28",
          "2018-03-31",
          "2018-04-30",
          "2018-05-31",
          "2018-06-30",
          "2018-07-31",
          "2018-08-31",
          "2018-09-30",
          "2018-10-31",
          "2018-11-30",
          "2018-12-31",
          "2019-01-31",
          "2019-02-28",
          "2019-03-31",
          "2019-04-30",
          "2019-05-31",
          "2019-06-30",
          "2019-07-31",
          "2019-08-31",
          "2019-09-30",
          "2019-10-31",
          "2019-11-30",
          "2019-12-31",
          "2020-01-31",
          "2020-02-29",
          "2020-03-31",
          "2020-04-30",
          "2020-05-31",
          "2020-06-30",
          "2020-07-31",
          "2020-08-31",
          "2020-09-30",
          "2020-10-31",
          "2020-11-30",
          "2020-12-31",
          "2021-01-31",
          "2021-02-28",
          "2021-03-31"
         ],
         "xaxis": "x",
         "y": [
          442866,
          441884,
          442035,
          442285,
          443417,
          444629,
          445903,
          447766,
          449875,
          453458,
          458122,
          463475,
          469285,
          475817,
          482051,
          487920,
          492995,
          499034,
          505148,
          511886,
          518888,
          524802,
          530556,
          536247,
          540960,
          545345,
          549841,
          556067,
          563082,
          568962,
          575630,
          580906,
          587311,
          592047,
          594554,
          595533,
          598459,
          603627,
          608385,
          609736,
          611348,
          614648,
          619479,
          623920,
          626006,
          630517,
          637606,
          648107,
          658614,
          668002,
          678626,
          695248,
          712547,
          732819,
          750582,
          774176,
          799417,
          825473,
          851305,
          873984,
          894026,
          908097,
          920238,
          925788,
          928329,
          923349,
          917700,
          907874,
          898513,
          886304,
          871943,
          858593,
          847382,
          843551,
          842841,
          845348,
          850839,
          857554,
          865065,
          867810,
          867932,
          868609,
          871116,
          870582,
          869877,
          869846,
          868653,
          864271,
          855294,
          849037,
          844760,
          845820,
          851515,
          856684,
          861583,
          868540,
          877990,
          885189,
          890460,
          900321,
          913252,
          927937,
          938563,
          950249,
          958778,
          972075,
          988567,
          1006846,
          1023605,
          1039296,
          1062394,
          1078616,
          1094691,
          1103321,
          1117536,
          1129709,
          1140096,
          1146626,
          1148336,
          1149860,
          1152005,
          1155355,
          1148149,
          1144387,
          1141000,
          1146765,
          1148281,
          1144776,
          1146442,
          1148408,
          1153481,
          1158328,
          1160616,
          1166002,
          1175148,
          1182418,
          1187615,
          1187285,
          1193006,
          1203189,
          1213506,
          1216870,
          1214008,
          1202542,
          1187630,
          1167177,
          1152512,
          1148397,
          1149751,
          1147699,
          1140343,
          1136172,
          1125908,
          1119456,
          1114133,
          1126337,
          1143058,
          1164971,
          1164435,
          1160876,
          1152802,
          1161709,
          1168532,
          1165674,
          1163526,
          1167607,
          1182298,
          1186050,
          1189013,
          1189869,
          1211341,
          1220133,
          1229642,
          1224189,
          1226630,
          1233248,
          1244343,
          1247753,
          1234580,
          1219782,
          1209147,
          1201495,
          1191943,
          1184660,
          1172084,
          1155099,
          1134536,
          1123111,
          1115159,
          1106053,
          1110236,
          1109919,
          1109021,
          1100611,
          1099251,
          1109390,
          1128108,
          1152666,
          1176496,
          1195259,
          1208939,
          1227141,
          1246960,
          1271592,
          1295170,
          1316483,
          1337280,
          1355003,
          1373788,
          1394450,
          1408653,
          1418165,
          1421761,
          1434845,
          1437822,
          1456802,
          1475680,
          1507487,
          1517858,
          1522216,
          1515853,
          1517675,
          1535251,
          1561786,
          1599073,
          1623627,
          1652395,
          1661251,
          1666415,
          1671798,
          1697589,
          1719781,
          1762838,
          1786612,
          1809904,
          1813593,
          1821632,
          1824231,
          1824322,
          1828306,
          1841068,
          1845649,
          1846849,
          1854646,
          1844250,
          1840555,
          1822677,
          1827975,
          1820611,
          1830800,
          1839539,
          1855872,
          1866247,
          1881336,
          1888718,
          1898001,
          1905202,
          1924401,
          1949777,
          1989706,
          2040660,
          2090868,
          2137279,
          2183335,
          2228270,
          2271551,
          2312746,
          2344295,
          2383707,
          2411571,
          2438635,
          2417879,
          2383810,
          2336141,
          2305452,
          2264744,
          2222137,
          2185577,
          2161929,
          2162905,
          2163497,
          2158000,
          2134172,
          2113221,
          2106341,
          2106901,
          2112014,
          2121577,
          2145781,
          2174049,
          2203944,
          2217091,
          2224606,
          2237764,
          2264914,
          2306485,
          2340409,
          2373693,
          2396441,
          2420148,
          2433401,
          2441106,
          2442534
         ],
         "yaxis": "y"
        }
       ],
       "layout": {
        "font": {
         "color": "gray",
         "family": "Courier New"
        },
        "legend": {
         "title": {
          "text": "City"
         },
         "tracegroupgap": 0
        },
        "margin": {
         "t": 60
        },
        "template": {
         "data": {
          "bar": [
           {
            "error_x": {
             "color": "#2a3f5f"
            },
            "error_y": {
             "color": "#2a3f5f"
            },
            "marker": {
             "line": {
              "color": "#E5ECF6",
              "width": 0.5
             }
            },
            "type": "bar"
           }
          ],
          "barpolar": [
           {
            "marker": {
             "line": {
              "color": "#E5ECF6",
              "width": 0.5
             }
            },
            "type": "barpolar"
           }
          ],
          "carpet": [
           {
            "aaxis": {
             "endlinecolor": "#2a3f5f",
             "gridcolor": "white",
             "linecolor": "white",
             "minorgridcolor": "white",
             "startlinecolor": "#2a3f5f"
            },
            "baxis": {
             "endlinecolor": "#2a3f5f",
             "gridcolor": "white",
             "linecolor": "white",
             "minorgridcolor": "white",
             "startlinecolor": "#2a3f5f"
            },
            "type": "carpet"
           }
          ],
          "choropleth": [
           {
            "colorbar": {
             "outlinewidth": 0,
             "ticks": ""
            },
            "type": "choropleth"
           }
          ],
          "contour": [
           {
            "colorbar": {
             "outlinewidth": 0,
             "ticks": ""
            },
            "colorscale": [
             [
              0,
              "#0d0887"
             ],
             [
              0.1111111111111111,
              "#46039f"
             ],
             [
              0.2222222222222222,
              "#7201a8"
             ],
             [
              0.3333333333333333,
              "#9c179e"
             ],
             [
              0.4444444444444444,
              "#bd3786"
             ],
             [
              0.5555555555555556,
              "#d8576b"
             ],
             [
              0.6666666666666666,
              "#ed7953"
             ],
             [
              0.7777777777777778,
              "#fb9f3a"
             ],
             [
              0.8888888888888888,
              "#fdca26"
             ],
             [
              1,
              "#f0f921"
             ]
            ],
            "type": "contour"
           }
          ],
          "contourcarpet": [
           {
            "colorbar": {
             "outlinewidth": 0,
             "ticks": ""
            },
            "type": "contourcarpet"
           }
          ],
          "heatmap": [
           {
            "colorbar": {
             "outlinewidth": 0,
             "ticks": ""
            },
            "colorscale": [
             [
              0,
              "#0d0887"
             ],
             [
              0.1111111111111111,
              "#46039f"
             ],
             [
              0.2222222222222222,
              "#7201a8"
             ],
             [
              0.3333333333333333,
              "#9c179e"
             ],
             [
              0.4444444444444444,
              "#bd3786"
             ],
             [
              0.5555555555555556,
              "#d8576b"
             ],
             [
              0.6666666666666666,
              "#ed7953"
             ],
             [
              0.7777777777777778,
              "#fb9f3a"
             ],
             [
              0.8888888888888888,
              "#fdca26"
             ],
             [
              1,
              "#f0f921"
             ]
            ],
            "type": "heatmap"
           }
          ],
          "heatmapgl": [
           {
            "colorbar": {
             "outlinewidth": 0,
             "ticks": ""
            },
            "colorscale": [
             [
              0,
              "#0d0887"
             ],
             [
              0.1111111111111111,
              "#46039f"
             ],
             [
              0.2222222222222222,
              "#7201a8"
             ],
             [
              0.3333333333333333,
              "#9c179e"
             ],
             [
              0.4444444444444444,
              "#bd3786"
             ],
             [
              0.5555555555555556,
              "#d8576b"
             ],
             [
              0.6666666666666666,
              "#ed7953"
             ],
             [
              0.7777777777777778,
              "#fb9f3a"
             ],
             [
              0.8888888888888888,
              "#fdca26"
             ],
             [
              1,
              "#f0f921"
             ]
            ],
            "type": "heatmapgl"
           }
          ],
          "histogram": [
           {
            "marker": {
             "colorbar": {
              "outlinewidth": 0,
              "ticks": ""
             }
            },
            "type": "histogram"
           }
          ],
          "histogram2d": [
           {
            "colorbar": {
             "outlinewidth": 0,
             "ticks": ""
            },
            "colorscale": [
             [
              0,
              "#0d0887"
             ],
             [
              0.1111111111111111,
              "#46039f"
             ],
             [
              0.2222222222222222,
              "#7201a8"
             ],
             [
              0.3333333333333333,
              "#9c179e"
             ],
             [
              0.4444444444444444,
              "#bd3786"
             ],
             [
              0.5555555555555556,
              "#d8576b"
             ],
             [
              0.6666666666666666,
              "#ed7953"
             ],
             [
              0.7777777777777778,
              "#fb9f3a"
             ],
             [
              0.8888888888888888,
              "#fdca26"
             ],
             [
              1,
              "#f0f921"
             ]
            ],
            "type": "histogram2d"
           }
          ],
          "histogram2dcontour": [
           {
            "colorbar": {
             "outlinewidth": 0,
             "ticks": ""
            },
            "colorscale": [
             [
              0,
              "#0d0887"
             ],
             [
              0.1111111111111111,
              "#46039f"
             ],
             [
              0.2222222222222222,
              "#7201a8"
             ],
             [
              0.3333333333333333,
              "#9c179e"
             ],
             [
              0.4444444444444444,
              "#bd3786"
             ],
             [
              0.5555555555555556,
              "#d8576b"
             ],
             [
              0.6666666666666666,
              "#ed7953"
             ],
             [
              0.7777777777777778,
              "#fb9f3a"
             ],
             [
              0.8888888888888888,
              "#fdca26"
             ],
             [
              1,
              "#f0f921"
             ]
            ],
            "type": "histogram2dcontour"
           }
          ],
          "mesh3d": [
           {
            "colorbar": {
             "outlinewidth": 0,
             "ticks": ""
            },
            "type": "mesh3d"
           }
          ],
          "parcoords": [
           {
            "line": {
             "colorbar": {
              "outlinewidth": 0,
              "ticks": ""
             }
            },
            "type": "parcoords"
           }
          ],
          "pie": [
           {
            "automargin": true,
            "type": "pie"
           }
          ],
          "scatter": [
           {
            "marker": {
             "colorbar": {
              "outlinewidth": 0,
              "ticks": ""
             }
            },
            "type": "scatter"
           }
          ],
          "scatter3d": [
           {
            "line": {
             "colorbar": {
              "outlinewidth": 0,
              "ticks": ""
             }
            },
            "marker": {
             "colorbar": {
              "outlinewidth": 0,
              "ticks": ""
             }
            },
            "type": "scatter3d"
           }
          ],
          "scattercarpet": [
           {
            "marker": {
             "colorbar": {
              "outlinewidth": 0,
              "ticks": ""
             }
            },
            "type": "scattercarpet"
           }
          ],
          "scattergeo": [
           {
            "marker": {
             "colorbar": {
              "outlinewidth": 0,
              "ticks": ""
             }
            },
            "type": "scattergeo"
           }
          ],
          "scattergl": [
           {
            "marker": {
             "colorbar": {
              "outlinewidth": 0,
              "ticks": ""
             }
            },
            "type": "scattergl"
           }
          ],
          "scattermapbox": [
           {
            "marker": {
             "colorbar": {
              "outlinewidth": 0,
              "ticks": ""
             }
            },
            "type": "scattermapbox"
           }
          ],
          "scatterpolar": [
           {
            "marker": {
             "colorbar": {
              "outlinewidth": 0,
              "ticks": ""
             }
            },
            "type": "scatterpolar"
           }
          ],
          "scatterpolargl": [
           {
            "marker": {
             "colorbar": {
              "outlinewidth": 0,
              "ticks": ""
             }
            },
            "type": "scatterpolargl"
           }
          ],
          "scatterternary": [
           {
            "marker": {
             "colorbar": {
              "outlinewidth": 0,
              "ticks": ""
             }
            },
            "type": "scatterternary"
           }
          ],
          "surface": [
           {
            "colorbar": {
             "outlinewidth": 0,
             "ticks": ""
            },
            "colorscale": [
             [
              0,
              "#0d0887"
             ],
             [
              0.1111111111111111,
              "#46039f"
             ],
             [
              0.2222222222222222,
              "#7201a8"
             ],
             [
              0.3333333333333333,
              "#9c179e"
             ],
             [
              0.4444444444444444,
              "#bd3786"
             ],
             [
              0.5555555555555556,
              "#d8576b"
             ],
             [
              0.6666666666666666,
              "#ed7953"
             ],
             [
              0.7777777777777778,
              "#fb9f3a"
             ],
             [
              0.8888888888888888,
              "#fdca26"
             ],
             [
              1,
              "#f0f921"
             ]
            ],
            "type": "surface"
           }
          ],
          "table": [
           {
            "cells": {
             "fill": {
              "color": "#EBF0F8"
             },
             "line": {
              "color": "white"
             }
            },
            "header": {
             "fill": {
              "color": "#C8D4E3"
             },
             "line": {
              "color": "white"
             }
            },
            "type": "table"
           }
          ]
         },
         "layout": {
          "annotationdefaults": {
           "arrowcolor": "#2a3f5f",
           "arrowhead": 0,
           "arrowwidth": 1
          },
          "autotypenumbers": "strict",
          "coloraxis": {
           "colorbar": {
            "outlinewidth": 0,
            "ticks": ""
           }
          },
          "colorscale": {
           "diverging": [
            [
             0,
             "#8e0152"
            ],
            [
             0.1,
             "#c51b7d"
            ],
            [
             0.2,
             "#de77ae"
            ],
            [
             0.3,
             "#f1b6da"
            ],
            [
             0.4,
             "#fde0ef"
            ],
            [
             0.5,
             "#f7f7f7"
            ],
            [
             0.6,
             "#e6f5d0"
            ],
            [
             0.7,
             "#b8e186"
            ],
            [
             0.8,
             "#7fbc41"
            ],
            [
             0.9,
             "#4d9221"
            ],
            [
             1,
             "#276419"
            ]
           ],
           "sequential": [
            [
             0,
             "#0d0887"
            ],
            [
             0.1111111111111111,
             "#46039f"
            ],
            [
             0.2222222222222222,
             "#7201a8"
            ],
            [
             0.3333333333333333,
             "#9c179e"
            ],
            [
             0.4444444444444444,
             "#bd3786"
            ],
            [
             0.5555555555555556,
             "#d8576b"
            ],
            [
             0.6666666666666666,
             "#ed7953"
            ],
            [
             0.7777777777777778,
             "#fb9f3a"
            ],
            [
             0.8888888888888888,
             "#fdca26"
            ],
            [
             1,
             "#f0f921"
            ]
           ],
           "sequentialminus": [
            [
             0,
             "#0d0887"
            ],
            [
             0.1111111111111111,
             "#46039f"
            ],
            [
             0.2222222222222222,
             "#7201a8"
            ],
            [
             0.3333333333333333,
             "#9c179e"
            ],
            [
             0.4444444444444444,
             "#bd3786"
            ],
            [
             0.5555555555555556,
             "#d8576b"
            ],
            [
             0.6666666666666666,
             "#ed7953"
            ],
            [
             0.7777777777777778,
             "#fb9f3a"
            ],
            [
             0.8888888888888888,
             "#fdca26"
            ],
            [
             1,
             "#f0f921"
            ]
           ]
          },
          "colorway": [
           "#636efa",
           "#EF553B",
           "#00cc96",
           "#ab63fa",
           "#FFA15A",
           "#19d3f3",
           "#FF6692",
           "#B6E880",
           "#FF97FF",
           "#FECB52"
          ],
          "font": {
           "color": "#2a3f5f"
          },
          "geo": {
           "bgcolor": "white",
           "lakecolor": "white",
           "landcolor": "#E5ECF6",
           "showlakes": true,
           "showland": true,
           "subunitcolor": "white"
          },
          "hoverlabel": {
           "align": "left"
          },
          "hovermode": "closest",
          "mapbox": {
           "style": "light"
          },
          "paper_bgcolor": "white",
          "plot_bgcolor": "#E5ECF6",
          "polar": {
           "angularaxis": {
            "gridcolor": "white",
            "linecolor": "white",
            "ticks": ""
           },
           "bgcolor": "#E5ECF6",
           "radialaxis": {
            "gridcolor": "white",
            "linecolor": "white",
            "ticks": ""
           }
          },
          "scene": {
           "xaxis": {
            "backgroundcolor": "#E5ECF6",
            "gridcolor": "white",
            "gridwidth": 2,
            "linecolor": "white",
            "showbackground": true,
            "ticks": "",
            "zerolinecolor": "white"
           },
           "yaxis": {
            "backgroundcolor": "#E5ECF6",
            "gridcolor": "white",
            "gridwidth": 2,
            "linecolor": "white",
            "showbackground": true,
            "ticks": "",
            "zerolinecolor": "white"
           },
           "zaxis": {
            "backgroundcolor": "#E5ECF6",
            "gridcolor": "white",
            "gridwidth": 2,
            "linecolor": "white",
            "showbackground": true,
            "ticks": "",
            "zerolinecolor": "white"
           }
          },
          "shapedefaults": {
           "line": {
            "color": "#2a3f5f"
           }
          },
          "ternary": {
           "aaxis": {
            "gridcolor": "white",
            "linecolor": "white",
            "ticks": ""
           },
           "baxis": {
            "gridcolor": "white",
            "linecolor": "white",
            "ticks": ""
           },
           "bgcolor": "#E5ECF6",
           "caxis": {
            "gridcolor": "white",
            "linecolor": "white",
            "ticks": ""
           }
          },
          "title": {
           "x": 0.05
          },
          "xaxis": {
           "automargin": true,
           "gridcolor": "white",
           "linecolor": "white",
           "ticks": "",
           "title": {
            "standoff": 15
           },
           "zerolinecolor": "white",
           "zerolinewidth": 2
          },
          "yaxis": {
           "automargin": true,
           "gridcolor": "white",
           "linecolor": "white",
           "ticks": "",
           "title": {
            "standoff": 15
           },
           "zerolinecolor": "white",
           "zerolinewidth": 2
          }
         }
        },
        "title": {
         "font": {
          "color": "Purple",
          "family": "Times New Roman"
         },
         "text": "Housing Prices Change for Top 5 Asian popular areas"
        },
        "xaxis": {
         "anchor": "y",
         "domain": [
          0,
          1
         ],
         "title": {
          "text": "Date"
         }
        },
        "yaxis": {
         "anchor": "x",
         "domain": [
          0,
          1
         ],
         "title": {
          "text": "Housing Prices"
         }
        }
       }
      },
      "text/html": [
       "<div>                            <div id=\"af46f85f-de18-48e1-8624-a87559f1b6af\" class=\"plotly-graph-div\" style=\"height:525px; width:100%;\"></div>            <script type=\"text/javascript\">                require([\"plotly\"], function(Plotly) {                    window.PLOTLYENV=window.PLOTLYENV || {};                                    if (document.getElementById(\"af46f85f-de18-48e1-8624-a87559f1b6af\")) {                    Plotly.newPlot(                        \"af46f85f-de18-48e1-8624-a87559f1b6af\",                        [{\"hovertemplate\": \"City=Monterey Park<br>date=%{x}<br>value=%{y}<extra></extra>\", \"legendgroup\": \"Monterey Park\", \"line\": {\"color\": \"#636efa\", \"dash\": \"solid\"}, \"mode\": \"lines\", \"name\": \"Monterey Park\", \"showlegend\": true, \"type\": \"scattergl\", \"x\": [\"1996-01-31\", \"1996-02-29\", \"1996-03-31\", \"1996-04-30\", \"1996-05-31\", \"1996-06-30\", \"1996-07-31\", \"1996-08-31\", \"1996-09-30\", \"1996-10-31\", \"1996-11-30\", \"1996-12-31\", \"1997-01-31\", \"1997-02-28\", \"1997-03-31\", \"1997-04-30\", \"1997-05-31\", \"1997-06-30\", \"1997-07-31\", \"1997-08-31\", \"1997-09-30\", \"1997-10-31\", \"1997-11-30\", \"1997-12-31\", \"1998-01-31\", \"1998-02-28\", \"1998-03-31\", \"1998-04-30\", \"1998-05-31\", \"1998-06-30\", \"1998-07-31\", \"1998-08-31\", \"1998-09-30\", \"1998-10-31\", \"1998-11-30\", \"1998-12-31\", \"1999-01-31\", \"1999-02-28\", \"1999-03-31\", \"1999-04-30\", \"1999-05-31\", \"1999-06-30\", \"1999-07-31\", \"1999-08-31\", \"1999-09-30\", \"1999-10-31\", \"1999-11-30\", \"1999-12-31\", \"2000-01-31\", \"2000-02-29\", \"2000-03-31\", \"2000-04-30\", \"2000-05-31\", \"2000-06-30\", \"2000-07-31\", \"2000-08-31\", \"2000-09-30\", \"2000-10-31\", \"2000-11-30\", \"2000-12-31\", \"2001-01-31\", \"2001-02-28\", \"2001-03-31\", \"2001-04-30\", \"2001-05-31\", \"2001-06-30\", \"2001-07-31\", \"2001-08-31\", \"2001-09-30\", \"2001-10-31\", \"2001-11-30\", \"2001-12-31\", \"2002-01-31\", \"2002-02-28\", \"2002-03-31\", \"2002-04-30\", \"2002-05-31\", \"2002-06-30\", \"2002-07-31\", \"2002-08-31\", \"2002-09-30\", \"2002-10-31\", \"2002-11-30\", \"2002-12-31\", \"2003-01-31\", \"2003-02-28\", \"2003-03-31\", \"2003-04-30\", \"2003-05-31\", \"2003-06-30\", \"2003-07-31\", \"2003-08-31\", \"2003-09-30\", \"2003-10-31\", \"2003-11-30\", \"2003-12-31\", \"2004-01-31\", \"2004-02-29\", \"2004-03-31\", \"2004-04-30\", \"2004-05-31\", \"2004-06-30\", \"2004-07-31\", \"2004-08-31\", \"2004-09-30\", \"2004-10-31\", \"2004-11-30\", \"2004-12-31\", \"2005-01-31\", \"2005-02-28\", \"2005-03-31\", \"2005-04-30\", \"2005-05-31\", \"2005-06-30\", \"2005-07-31\", \"2005-08-31\", \"2005-09-30\", \"2005-10-31\", \"2005-11-30\", \"2005-12-31\", \"2006-01-31\", \"2006-02-28\", \"2006-03-31\", \"2006-04-30\", \"2006-05-31\", \"2006-06-30\", \"2006-07-31\", \"2006-08-31\", \"2006-09-30\", \"2006-10-31\", \"2006-11-30\", \"2006-12-31\", \"2007-01-31\", \"2007-02-28\", \"2007-03-31\", \"2007-04-30\", \"2007-05-31\", \"2007-06-30\", \"2007-07-31\", \"2007-08-31\", \"2007-09-30\", \"2007-10-31\", \"2007-11-30\", \"2007-12-31\", \"2008-01-31\", \"2008-02-29\", \"2008-03-31\", \"2008-04-30\", \"2008-05-31\", \"2008-06-30\", \"2008-07-31\", \"2008-08-31\", \"2008-09-30\", \"2008-10-31\", \"2008-11-30\", \"2008-12-31\", \"2009-01-31\", \"2009-02-28\", \"2009-03-31\", \"2009-04-30\", \"2009-05-31\", \"2009-06-30\", \"2009-07-31\", \"2009-08-31\", \"2009-09-30\", \"2009-10-31\", \"2009-11-30\", \"2009-12-31\", \"2010-01-31\", \"2010-02-28\", \"2010-03-31\", \"2010-04-30\", \"2010-05-31\", \"2010-06-30\", \"2010-07-31\", \"2010-08-31\", \"2010-09-30\", \"2010-10-31\", \"2010-11-30\", \"2010-12-31\", \"2011-01-31\", \"2011-02-28\", \"2011-03-31\", \"2011-04-30\", \"2011-05-31\", \"2011-06-30\", \"2011-07-31\", \"2011-08-31\", \"2011-09-30\", \"2011-10-31\", \"2011-11-30\", \"2011-12-31\", \"2012-01-31\", \"2012-02-29\", \"2012-03-31\", \"2012-04-30\", \"2012-05-31\", \"2012-06-30\", \"2012-07-31\", \"2012-08-31\", \"2012-09-30\", \"2012-10-31\", \"2012-11-30\", \"2012-12-31\", \"2013-01-31\", \"2013-02-28\", \"2013-03-31\", \"2013-04-30\", \"2013-05-31\", \"2013-06-30\", \"2013-07-31\", \"2013-08-31\", \"2013-09-30\", \"2013-10-31\", \"2013-11-30\", \"2013-12-31\", \"2014-01-31\", \"2014-02-28\", \"2014-03-31\", \"2014-04-30\", \"2014-05-31\", \"2014-06-30\", \"2014-07-31\", \"2014-08-31\", \"2014-09-30\", \"2014-10-31\", \"2014-11-30\", \"2014-12-31\", \"2015-01-31\", \"2015-02-28\", \"2015-03-31\", \"2015-04-30\", \"2015-05-31\", \"2015-06-30\", \"2015-07-31\", \"2015-08-31\", \"2015-09-30\", \"2015-10-31\", \"2015-11-30\", \"2015-12-31\", \"2016-01-31\", \"2016-02-29\", \"2016-03-31\", \"2016-04-30\", \"2016-05-31\", \"2016-06-30\", \"2016-07-31\", \"2016-08-31\", \"2016-09-30\", \"2016-10-31\", \"2016-11-30\", \"2016-12-31\", \"2017-01-31\", \"2017-02-28\", \"2017-03-31\", \"2017-04-30\", \"2017-05-31\", \"2017-06-30\", \"2017-07-31\", \"2017-08-31\", \"2017-09-30\", \"2017-10-31\", \"2017-11-30\", \"2017-12-31\", \"2018-01-31\", \"2018-02-28\", \"2018-03-31\", \"2018-04-30\", \"2018-05-31\", \"2018-06-30\", \"2018-07-31\", \"2018-08-31\", \"2018-09-30\", \"2018-10-31\", \"2018-11-30\", \"2018-12-31\", \"2019-01-31\", \"2019-02-28\", \"2019-03-31\", \"2019-04-30\", \"2019-05-31\", \"2019-06-30\", \"2019-07-31\", \"2019-08-31\", \"2019-09-30\", \"2019-10-31\", \"2019-11-30\", \"2019-12-31\", \"2020-01-31\", \"2020-02-29\", \"2020-03-31\", \"2020-04-30\", \"2020-05-31\", \"2020-06-30\", \"2020-07-31\", \"2020-08-31\", \"2020-09-30\", \"2020-10-31\", \"2020-11-30\", \"2020-12-31\", \"2021-01-31\", \"2021-02-28\", \"2021-03-31\"], \"xaxis\": \"x\", \"y\": [191157.0, 190865.0, 190874.0, 190782.0, 190701.0, 190528.0, 190572.0, 190443.0, 190194.0, 189910.0, 189765.0, 190028.0, 189211.0, 188777.0, 187971.0, 188054.0, 188245.0, 188585.0, 188893.0, 189571.0, 190470.0, 191330.0, 191846.0, 192318.0, 194358.0, 196465.0, 198716.0, 199997.0, 201377.0, 202498.0, 203343.0, 204466.0, 206000.0, 207811.0, 209961.0, 211544.0, 213295.0, 214738.0, 216205.0, 217231.0, 217823.0, 219531.0, 221289.0, 222170.0, 222341.0, 222970.0, 224157.0, 224939.0, 225356.0, 226011.0, 227516.0, 229375.0, 231494.0, 233093.0, 234999.0, 237804.0, 240884.0, 243047.0, 244800.0, 247288.0, 249840.0, 252196.0, 253924.0, 256287.0, 258845.0, 261608.0, 263585.0, 264836.0, 265969.0, 268358.0, 270852.0, 273045.0, 275188.0, 278070.0, 281662.0, 285039.0, 287902.0, 291101.0, 295396.0, 300827.0, 306265.0, 311286.0, 316569.0, 322301.0, 327546.0, 331677.0, 335653.0, 339326.0, 344124.0, 348010.0, 352987.0, 357265.0, 362083.0, 366422.0, 372311.0, 378725.0, 386613.0, 394521.0, 402832.0, 412488.0, 423307.0, 434003.0, 442747.0, 450976.0, 460259.0, 469224.0, 476171.0, 482045.0, 486811.0, 494334.0, 501143.0, 508061.0, 512127.0, 518292.0, 525942.0, 534970.0, 543830.0, 553537.0, 561603.0, 568743.0, 575651.0, 580993.0, 587313.0, 591680.0, 598093.0, 602068.0, 605441.0, 606961.0, 605700.0, 603890.0, 602766.0, 603527.0, 602712.0, 601243.0, 598968.0, 599327.0, 598219.0, 596974.0, 592906.0, 587470.0, 580627.0, 572707.0, 566737.0, 561020.0, 556445.0, 549865.0, 540753.0, 528471.0, 515230.0, 504808.0, 495587.0, 489202.0, 485252.0, 483104.0, 478289.0, 469198.0, 462708.0, 459695.0, 458191.0, 456421.0, 455789.0, 455037.0, 456600.0, 459624.0, 463500.0, 466079.0, 469832.0, 476481.0, 479951.0, 480019.0, 482364.0, 486824.0, 493422.0, 493528.0, 491041.0, 486410.0, 482109.0, 479427.0, 475010.0, 472900.0, 471171.0, 470748.0, 467569.0, 462791.0, 456180.0, 455360.0, 456318.0, 456657.0, 455127.0, 451677.0, 451154.0, 447797.0, 446033.0, 444224.0, 443984.0, 444607.0, 446047.0, 447014.0, 448042.0, 448063.0, 449373.0, 453039.0, 457399.0, 464774.0, 469840.0, 478458.0, 487247.0, 499086.0, 508440.0, 517098.0, 524910.0, 537100.0, 547574.0, 555068.0, 559358.0, 561403.0, 565292.0, 564228.0, 563272.0, 560020.0, 559516.0, 560069.0, 563299.0, 562314.0, 561461.0, 560130.0, 562994.0, 565138.0, 568443.0, 572228.0, 576130.0, 576910.0, 578849.0, 579662.0, 578523.0, 576864.0, 576984.0, 579841.0, 581981.0, 586166.0, 588492.0, 592085.0, 594274.0, 600009.0, 603117.0, 606737.0, 609838.0, 616000.0, 622097.0, 627330.0, 628858.0, 629850.0, 632230.0, 635100.0, 638067.0, 639687.0, 643527.0, 647351.0, 650531.0, 653361.0, 655038.0, 657647.0, 662603.0, 667933.0, 672652.0, 677028.0, 682406.0, 687417.0, 691280.0, 693153.0, 694670.0, 693118.0, 692773.0, 692807.0, 694757.0, 694791.0, 694514.0, 691154.0, 687137.0, 685678.0, 688512.0, 694367.0, 695071.0, 696086.0, 696320.0, 698384.0, 699225.0, 701331.0, 705038.0, 710084.0, 717485.0, 724462.0, 728401.0, 729896.0, 735951.0, 743366.0, 751140.0, 757236.0, 762957.0, 768586.0, 773227.0, 778568.0, 782313.0], \"yaxis\": \"y\"}, {\"hovertemplate\": \"City=Walnut<br>date=%{x}<br>value=%{y}<extra></extra>\", \"legendgroup\": \"Walnut\", \"line\": {\"color\": \"#EF553B\", \"dash\": \"solid\"}, \"mode\": \"lines\", \"name\": \"Walnut\", \"showlegend\": true, \"type\": \"scattergl\", \"x\": [\"1996-01-31\", \"1996-02-29\", \"1996-03-31\", \"1996-04-30\", \"1996-05-31\", \"1996-06-30\", \"1996-07-31\", \"1996-08-31\", \"1996-09-30\", \"1996-10-31\", \"1996-11-30\", \"1996-12-31\", \"1997-01-31\", \"1997-02-28\", \"1997-03-31\", \"1997-04-30\", \"1997-05-31\", \"1997-06-30\", \"1997-07-31\", \"1997-08-31\", \"1997-09-30\", \"1997-10-31\", \"1997-11-30\", \"1997-12-31\", \"1998-01-31\", \"1998-02-28\", \"1998-03-31\", \"1998-04-30\", \"1998-05-31\", \"1998-06-30\", \"1998-07-31\", \"1998-08-31\", \"1998-09-30\", \"1998-10-31\", \"1998-11-30\", \"1998-12-31\", \"1999-01-31\", \"1999-02-28\", \"1999-03-31\", \"1999-04-30\", \"1999-05-31\", \"1999-06-30\", \"1999-07-31\", \"1999-08-31\", \"1999-09-30\", \"1999-10-31\", \"1999-11-30\", \"1999-12-31\", \"2000-01-31\", \"2000-02-29\", \"2000-03-31\", \"2000-04-30\", \"2000-05-31\", \"2000-06-30\", \"2000-07-31\", \"2000-08-31\", \"2000-09-30\", \"2000-10-31\", \"2000-11-30\", \"2000-12-31\", \"2001-01-31\", \"2001-02-28\", \"2001-03-31\", \"2001-04-30\", \"2001-05-31\", \"2001-06-30\", \"2001-07-31\", \"2001-08-31\", \"2001-09-30\", \"2001-10-31\", \"2001-11-30\", \"2001-12-31\", \"2002-01-31\", \"2002-02-28\", \"2002-03-31\", \"2002-04-30\", \"2002-05-31\", \"2002-06-30\", \"2002-07-31\", \"2002-08-31\", \"2002-09-30\", \"2002-10-31\", \"2002-11-30\", \"2002-12-31\", \"2003-01-31\", \"2003-02-28\", \"2003-03-31\", \"2003-04-30\", \"2003-05-31\", \"2003-06-30\", \"2003-07-31\", \"2003-08-31\", \"2003-09-30\", \"2003-10-31\", \"2003-11-30\", \"2003-12-31\", \"2004-01-31\", \"2004-02-29\", \"2004-03-31\", \"2004-04-30\", \"2004-05-31\", \"2004-06-30\", \"2004-07-31\", \"2004-08-31\", \"2004-09-30\", \"2004-10-31\", \"2004-11-30\", \"2004-12-31\", \"2005-01-31\", \"2005-02-28\", \"2005-03-31\", \"2005-04-30\", \"2005-05-31\", \"2005-06-30\", \"2005-07-31\", \"2005-08-31\", \"2005-09-30\", \"2005-10-31\", \"2005-11-30\", \"2005-12-31\", \"2006-01-31\", \"2006-02-28\", \"2006-03-31\", \"2006-04-30\", \"2006-05-31\", \"2006-06-30\", \"2006-07-31\", \"2006-08-31\", \"2006-09-30\", \"2006-10-31\", \"2006-11-30\", \"2006-12-31\", \"2007-01-31\", \"2007-02-28\", \"2007-03-31\", \"2007-04-30\", \"2007-05-31\", \"2007-06-30\", \"2007-07-31\", \"2007-08-31\", \"2007-09-30\", \"2007-10-31\", \"2007-11-30\", \"2007-12-31\", \"2008-01-31\", \"2008-02-29\", \"2008-03-31\", \"2008-04-30\", \"2008-05-31\", \"2008-06-30\", \"2008-07-31\", \"2008-08-31\", \"2008-09-30\", \"2008-10-31\", \"2008-11-30\", \"2008-12-31\", \"2009-01-31\", \"2009-02-28\", \"2009-03-31\", \"2009-04-30\", \"2009-05-31\", \"2009-06-30\", \"2009-07-31\", \"2009-08-31\", \"2009-09-30\", \"2009-10-31\", \"2009-11-30\", \"2009-12-31\", \"2010-01-31\", \"2010-02-28\", \"2010-03-31\", \"2010-04-30\", \"2010-05-31\", \"2010-06-30\", \"2010-07-31\", \"2010-08-31\", \"2010-09-30\", \"2010-10-31\", \"2010-11-30\", \"2010-12-31\", \"2011-01-31\", \"2011-02-28\", \"2011-03-31\", \"2011-04-30\", \"2011-05-31\", \"2011-06-30\", \"2011-07-31\", \"2011-08-31\", \"2011-09-30\", \"2011-10-31\", \"2011-11-30\", \"2011-12-31\", \"2012-01-31\", \"2012-02-29\", \"2012-03-31\", \"2012-04-30\", \"2012-05-31\", \"2012-06-30\", \"2012-07-31\", \"2012-08-31\", \"2012-09-30\", \"2012-10-31\", \"2012-11-30\", \"2012-12-31\", \"2013-01-31\", \"2013-02-28\", \"2013-03-31\", \"2013-04-30\", \"2013-05-31\", \"2013-06-30\", \"2013-07-31\", \"2013-08-31\", \"2013-09-30\", \"2013-10-31\", \"2013-11-30\", \"2013-12-31\", \"2014-01-31\", \"2014-02-28\", \"2014-03-31\", \"2014-04-30\", \"2014-05-31\", \"2014-06-30\", \"2014-07-31\", \"2014-08-31\", \"2014-09-30\", \"2014-10-31\", \"2014-11-30\", \"2014-12-31\", \"2015-01-31\", \"2015-02-28\", \"2015-03-31\", \"2015-04-30\", \"2015-05-31\", \"2015-06-30\", \"2015-07-31\", \"2015-08-31\", \"2015-09-30\", \"2015-10-31\", \"2015-11-30\", \"2015-12-31\", \"2016-01-31\", \"2016-02-29\", \"2016-03-31\", \"2016-04-30\", \"2016-05-31\", \"2016-06-30\", \"2016-07-31\", \"2016-08-31\", \"2016-09-30\", \"2016-10-31\", \"2016-11-30\", \"2016-12-31\", \"2017-01-31\", \"2017-02-28\", \"2017-03-31\", \"2017-04-30\", \"2017-05-31\", \"2017-06-30\", \"2017-07-31\", \"2017-08-31\", \"2017-09-30\", \"2017-10-31\", \"2017-11-30\", \"2017-12-31\", \"2018-01-31\", \"2018-02-28\", \"2018-03-31\", \"2018-04-30\", \"2018-05-31\", \"2018-06-30\", \"2018-07-31\", \"2018-08-31\", \"2018-09-30\", \"2018-10-31\", \"2018-11-30\", \"2018-12-31\", \"2019-01-31\", \"2019-02-28\", \"2019-03-31\", \"2019-04-30\", \"2019-05-31\", \"2019-06-30\", \"2019-07-31\", \"2019-08-31\", \"2019-09-30\", \"2019-10-31\", \"2019-11-30\", \"2019-12-31\", \"2020-01-31\", \"2020-02-29\", \"2020-03-31\", \"2020-04-30\", \"2020-05-31\", \"2020-06-30\", \"2020-07-31\", \"2020-08-31\", \"2020-09-30\", \"2020-10-31\", \"2020-11-30\", \"2020-12-31\", \"2021-01-31\", \"2021-02-28\", \"2021-03-31\"], \"xaxis\": \"x\", \"y\": [250114.0, 250097.0, 250234.0, 250360.0, 250516.0, 250722.0, 251338.0, 251559.0, 251465.0, 250770.0, 250413.0, 249901.0, 248643.0, 247377.0, 246391.0, 246569.0, 246780.0, 247131.0, 247417.0, 248530.0, 249809.0, 251698.0, 252913.0, 254888.0, 257616.0, 261024.0, 263827.0, 265588.0, 267301.0, 268373.0, 268584.0, 268854.0, 270335.0, 272535.0, 275096.0, 276945.0, 279560.0, 281768.0, 284207.0, 286027.0, 287795.0, 290802.0, 294480.0, 297283.0, 298743.0, 299932.0, 301780.0, 303513.0, 305130.0, 306378.0, 308312.0, 310359.0, 313103.0, 315210.0, 317289.0, 319346.0, 321798.0, 323908.0, 326450.0, 329191.0, 331595.0, 333860.0, 335954.0, 339095.0, 341615.0, 344534.0, 346720.0, 349777.0, 352464.0, 356015.0, 358505.0, 361294.0, 363853.0, 367589.0, 371478.0, 375602.0, 379820.0, 384720.0, 390316.0, 395584.0, 400953.0, 406534.0, 413124.0, 419567.0, 425357.0, 430194.0, 435687.0, 440031.0, 444697.0, 447696.0, 453163.0, 459567.0, 466840.0, 472581.0, 479589.0, 487350.0, 497249.0, 506333.0, 515294.0, 526726.0, 540332.0, 554262.0, 565450.0, 575635.0, 587165.0, 598027.0, 606370.0, 614270.0, 621656.0, 632682.0, 642383.0, 651124.0, 656382.0, 664226.0, 673240.0, 683041.0, 692590.0, 704665.0, 715051.0, 722984.0, 728871.0, 732982.0, 739062.0, 742593.0, 749174.0, 752159.0, 755149.0, 755992.0, 752607.0, 749073.0, 746545.0, 747042.0, 745856.0, 742818.0, 739301.0, 738735.0, 736221.0, 733286.0, 726472.0, 719720.0, 712000.0, 702892.0, 694723.0, 687219.0, 682172.0, 676000.0, 665814.0, 653615.0, 639766.0, 630271.0, 621076.0, 613592.0, 608803.0, 604905.0, 598657.0, 587083.0, 577861.0, 573359.0, 571956.0, 568951.0, 566352.0, 562987.0, 563871.0, 566857.0, 570709.0, 573538.0, 578198.0, 586118.0, 589947.0, 589183.0, 589112.0, 591893.0, 599006.0, 600078.0, 599377.0, 595143.0, 591361.0, 587410.0, 582609.0, 580039.0, 579387.0, 580142.0, 578741.0, 576015.0, 569776.0, 568505.0, 566899.0, 565638.0, 563148.0, 560804.0, 560920.0, 558703.0, 556934.0, 554117.0, 553239.0, 554135.0, 556636.0, 558588.0, 560431.0, 562202.0, 565380.0, 572109.0, 578998.0, 588480.0, 595290.0, 607689.0, 619660.0, 634118.0, 644843.0, 657138.0, 669659.0, 686011.0, 699127.0, 707355.0, 712559.0, 715634.0, 723134.0, 724976.0, 727706.0, 725907.0, 729397.0, 731902.0, 737579.0, 736579.0, 736891.0, 736596.0, 740394.0, 743249.0, 745722.0, 749007.0, 752763.0, 755395.0, 757763.0, 758354.0, 755612.0, 754538.0, 753877.0, 756364.0, 758159.0, 762377.0, 764138.0, 765942.0, 764968.0, 766343.0, 764254.0, 763316.0, 762873.0, 765824.0, 769917.0, 773006.0, 772443.0, 771517.0, 772700.0, 774463.0, 776893.0, 778362.0, 782842.0, 787018.0, 790511.0, 792284.0, 792599.0, 793196.0, 796604.0, 800263.0, 802722.0, 805129.0, 807862.0, 810062.0, 810896.0, 811004.0, 809319.0, 805505.0, 802442.0, 801763.0, 801728.0, 798733.0, 796317.0, 790396.0, 785471.0, 782472.0, 784708.0, 787798.0, 786908.0, 785691.0, 784130.0, 783453.0, 781454.0, 782807.0, 785641.0, 790877.0, 797108.0, 803234.0, 806405.0, 808228.0, 814467.0, 822545.0, 831111.0, 838228.0, 845903.0, 852612.0, 858419.0, 864502.0, 869761.0], \"yaxis\": \"y\"}, {\"hovertemplate\": \"City=Cerritos<br>date=%{x}<br>value=%{y}<extra></extra>\", \"legendgroup\": \"Cerritos\", \"line\": {\"color\": \"#00cc96\", \"dash\": \"solid\"}, \"mode\": \"lines\", \"name\": \"Cerritos\", \"showlegend\": true, \"type\": \"scattergl\", \"x\": [\"1996-01-31\", \"1996-02-29\", \"1996-03-31\", \"1996-04-30\", \"1996-05-31\", \"1996-06-30\", \"1996-07-31\", \"1996-08-31\", \"1996-09-30\", \"1996-10-31\", \"1996-11-30\", \"1996-12-31\", \"1997-01-31\", \"1997-02-28\", \"1997-03-31\", \"1997-04-30\", \"1997-05-31\", \"1997-06-30\", \"1997-07-31\", \"1997-08-31\", \"1997-09-30\", \"1997-10-31\", \"1997-11-30\", \"1997-12-31\", \"1998-01-31\", \"1998-02-28\", \"1998-03-31\", \"1998-04-30\", \"1998-05-31\", \"1998-06-30\", \"1998-07-31\", \"1998-08-31\", \"1998-09-30\", \"1998-10-31\", \"1998-11-30\", \"1998-12-31\", \"1999-01-31\", \"1999-02-28\", \"1999-03-31\", \"1999-04-30\", \"1999-05-31\", \"1999-06-30\", \"1999-07-31\", \"1999-08-31\", \"1999-09-30\", \"1999-10-31\", \"1999-11-30\", \"1999-12-31\", \"2000-01-31\", \"2000-02-29\", \"2000-03-31\", \"2000-04-30\", \"2000-05-31\", \"2000-06-30\", \"2000-07-31\", \"2000-08-31\", \"2000-09-30\", \"2000-10-31\", \"2000-11-30\", \"2000-12-31\", \"2001-01-31\", \"2001-02-28\", \"2001-03-31\", \"2001-04-30\", \"2001-05-31\", \"2001-06-30\", \"2001-07-31\", \"2001-08-31\", \"2001-09-30\", \"2001-10-31\", \"2001-11-30\", \"2001-12-31\", \"2002-01-31\", \"2002-02-28\", \"2002-03-31\", \"2002-04-30\", \"2002-05-31\", \"2002-06-30\", \"2002-07-31\", \"2002-08-31\", \"2002-09-30\", \"2002-10-31\", \"2002-11-30\", \"2002-12-31\", \"2003-01-31\", \"2003-02-28\", \"2003-03-31\", \"2003-04-30\", \"2003-05-31\", \"2003-06-30\", \"2003-07-31\", \"2003-08-31\", \"2003-09-30\", \"2003-10-31\", \"2003-11-30\", \"2003-12-31\", \"2004-01-31\", \"2004-02-29\", \"2004-03-31\", \"2004-04-30\", \"2004-05-31\", \"2004-06-30\", \"2004-07-31\", \"2004-08-31\", \"2004-09-30\", \"2004-10-31\", \"2004-11-30\", \"2004-12-31\", \"2005-01-31\", \"2005-02-28\", \"2005-03-31\", \"2005-04-30\", \"2005-05-31\", \"2005-06-30\", \"2005-07-31\", \"2005-08-31\", \"2005-09-30\", \"2005-10-31\", \"2005-11-30\", \"2005-12-31\", \"2006-01-31\", \"2006-02-28\", \"2006-03-31\", \"2006-04-30\", \"2006-05-31\", \"2006-06-30\", \"2006-07-31\", \"2006-08-31\", \"2006-09-30\", \"2006-10-31\", \"2006-11-30\", \"2006-12-31\", \"2007-01-31\", \"2007-02-28\", \"2007-03-31\", \"2007-04-30\", \"2007-05-31\", \"2007-06-30\", \"2007-07-31\", \"2007-08-31\", \"2007-09-30\", \"2007-10-31\", \"2007-11-30\", \"2007-12-31\", \"2008-01-31\", \"2008-02-29\", \"2008-03-31\", \"2008-04-30\", \"2008-05-31\", \"2008-06-30\", \"2008-07-31\", \"2008-08-31\", \"2008-09-30\", \"2008-10-31\", \"2008-11-30\", \"2008-12-31\", \"2009-01-31\", \"2009-02-28\", \"2009-03-31\", \"2009-04-30\", \"2009-05-31\", \"2009-06-30\", \"2009-07-31\", \"2009-08-31\", \"2009-09-30\", \"2009-10-31\", \"2009-11-30\", \"2009-12-31\", \"2010-01-31\", \"2010-02-28\", \"2010-03-31\", \"2010-04-30\", \"2010-05-31\", \"2010-06-30\", \"2010-07-31\", \"2010-08-31\", \"2010-09-30\", \"2010-10-31\", \"2010-11-30\", \"2010-12-31\", \"2011-01-31\", \"2011-02-28\", \"2011-03-31\", \"2011-04-30\", \"2011-05-31\", \"2011-06-30\", \"2011-07-31\", \"2011-08-31\", \"2011-09-30\", \"2011-10-31\", \"2011-11-30\", \"2011-12-31\", \"2012-01-31\", \"2012-02-29\", \"2012-03-31\", \"2012-04-30\", \"2012-05-31\", \"2012-06-30\", \"2012-07-31\", \"2012-08-31\", \"2012-09-30\", \"2012-10-31\", \"2012-11-30\", \"2012-12-31\", \"2013-01-31\", \"2013-02-28\", \"2013-03-31\", \"2013-04-30\", \"2013-05-31\", \"2013-06-30\", \"2013-07-31\", \"2013-08-31\", \"2013-09-30\", \"2013-10-31\", \"2013-11-30\", \"2013-12-31\", \"2014-01-31\", \"2014-02-28\", \"2014-03-31\", \"2014-04-30\", \"2014-05-31\", \"2014-06-30\", \"2014-07-31\", \"2014-08-31\", \"2014-09-30\", \"2014-10-31\", \"2014-11-30\", \"2014-12-31\", \"2015-01-31\", \"2015-02-28\", \"2015-03-31\", \"2015-04-30\", \"2015-05-31\", \"2015-06-30\", \"2015-07-31\", \"2015-08-31\", \"2015-09-30\", \"2015-10-31\", \"2015-11-30\", \"2015-12-31\", \"2016-01-31\", \"2016-02-29\", \"2016-03-31\", \"2016-04-30\", \"2016-05-31\", \"2016-06-30\", \"2016-07-31\", \"2016-08-31\", \"2016-09-30\", \"2016-10-31\", \"2016-11-30\", \"2016-12-31\", \"2017-01-31\", \"2017-02-28\", \"2017-03-31\", \"2017-04-30\", \"2017-05-31\", \"2017-06-30\", \"2017-07-31\", \"2017-08-31\", \"2017-09-30\", \"2017-10-31\", \"2017-11-30\", \"2017-12-31\", \"2018-01-31\", \"2018-02-28\", \"2018-03-31\", \"2018-04-30\", \"2018-05-31\", \"2018-06-30\", \"2018-07-31\", \"2018-08-31\", \"2018-09-30\", \"2018-10-31\", \"2018-11-30\", \"2018-12-31\", \"2019-01-31\", \"2019-02-28\", \"2019-03-31\", \"2019-04-30\", \"2019-05-31\", \"2019-06-30\", \"2019-07-31\", \"2019-08-31\", \"2019-09-30\", \"2019-10-31\", \"2019-11-30\", \"2019-12-31\", \"2020-01-31\", \"2020-02-29\", \"2020-03-31\", \"2020-04-30\", \"2020-05-31\", \"2020-06-30\", \"2020-07-31\", \"2020-08-31\", \"2020-09-30\", \"2020-10-31\", \"2020-11-30\", \"2020-12-31\", \"2021-01-31\", \"2021-02-28\", \"2021-03-31\"], \"xaxis\": \"x\", \"y\": [235918.0, 235929.0, 236059.0, 236272.0, 236567.0, 236770.0, 237166.0, 237189.0, 237138.0, 236911.0, 236955.0, 237061.0, 236400.0, 235943.0, 235648.0, 236358.0, 236817.0, 237575.0, 238447.0, 240253.0, 241996.0, 243962.0, 245469.0, 247511.0, 250468.0, 253636.0, 256475.0, 258189.0, 260448.0, 262258.0, 263433.0, 264516.0, 266550.0, 268953.0, 271413.0, 272993.0, 275252.0, 277264.0, 279339.0, 281044.0, 282467.0, 284967.0, 288211.0, 290445.0, 291786.0, 293049.0, 295347.0, 297729.0, 299795.0, 301575.0, 303790.0, 306236.0, 309035.0, 311466.0, 313466.0, 315744.0, 318097.0, 320084.0, 321867.0, 323715.0, 325705.0, 327900.0, 330352.0, 333298.0, 335853.0, 338289.0, 340292.0, 342816.0, 345201.0, 348516.0, 351717.0, 355515.0, 359104.0, 363188.0, 367213.0, 371765.0, 376391.0, 381655.0, 387422.0, 393439.0, 399901.0, 406646.0, 413714.0, 420411.0, 426255.0, 431489.0, 437175.0, 441792.0, 446811.0, 450907.0, 457348.0, 464047.0, 470815.0, 476213.0, 483195.0, 491252.0, 501400.0, 511119.0, 520885.0, 532536.0, 546140.0, 559418.0, 570463.0, 580335.0, 592041.0, 602968.0, 611663.0, 619232.0, 625724.0, 635156.0, 643644.0, 652124.0, 657751.0, 665783.0, 675417.0, 686212.0, 696352.0, 707508.0, 716048.0, 723029.0, 729231.0, 734007.0, 739865.0, 743111.0, 748873.0, 752104.0, 753254.0, 752100.0, 747080.0, 743212.0, 740984.0, 741306.0, 739482.0, 736703.0, 733528.0, 733437.0, 730653.0, 727188.0, 721897.0, 715563.0, 708437.0, 698946.0, 690960.0, 683206.0, 676413.0, 667389.0, 654156.0, 637941.0, 621825.0, 609983.0, 599130.0, 590739.0, 584756.0, 580950.0, 574999.0, 563909.0, 556543.0, 552500.0, 551796.0, 550244.0, 549269.0, 547206.0, 546398.0, 548716.0, 552353.0, 555965.0, 560078.0, 567533.0, 570652.0, 570828.0, 572667.0, 576832.0, 584037.0, 584595.0, 585746.0, 583103.0, 580930.0, 576947.0, 571626.0, 567894.0, 566081.0, 565827.0, 563612.0, 561023.0, 554237.0, 553457.0, 551183.0, 550283.0, 546783.0, 543366.0, 542728.0, 540528.0, 539560.0, 538014.0, 536914.0, 535799.0, 536336.0, 537030.0, 538819.0, 538347.0, 539549.0, 543138.0, 547780.0, 554652.0, 558748.0, 566818.0, 574497.0, 584764.0, 593979.0, 602944.0, 611224.0, 621661.0, 630113.0, 635663.0, 638773.0, 639913.0, 642194.0, 640139.0, 639942.0, 638592.0, 638167.0, 636046.0, 636387.0, 635280.0, 634957.0, 634212.0, 636490.0, 638954.0, 643496.0, 648302.0, 652601.0, 652548.0, 654671.0, 657506.0, 659561.0, 661102.0, 662748.0, 666914.0, 670104.0, 675212.0, 677272.0, 679613.0, 680117.0, 685251.0, 687478.0, 690047.0, 689662.0, 691764.0, 695241.0, 698734.0, 699333.0, 698275.0, 700094.0, 702603.0, 706069.0, 707539.0, 711094.0, 713438.0, 718650.0, 723426.0, 727646.0, 729320.0, 733573.0, 738733.0, 742492.0, 745784.0, 749008.0, 751776.0, 753903.0, 757215.0, 758785.0, 757735.0, 754945.0, 754822.0, 754887.0, 753269.0, 752011.0, 748107.0, 744550.0, 742931.0, 746001.0, 750780.0, 750643.0, 749301.0, 748243.0, 749520.0, 750716.0, 752735.0, 755529.0, 759836.0, 766102.0, 772422.0, 775871.0, 776611.0, 781831.0, 789595.0, 798326.0, 804835.0, 811100.0, 817660.0, 823938.0, 830834.0, 836454.0], \"yaxis\": \"y\"}, {\"hovertemplate\": \"City=Rosemea<br>date=%{x}<br>value=%{y}<extra></extra>\", \"legendgroup\": \"Rosemea\", \"line\": {\"color\": \"#ab63fa\", \"dash\": \"solid\"}, \"mode\": \"lines\", \"name\": \"Rosemea\", \"showlegend\": true, \"type\": \"scattergl\", \"x\": [\"1996-01-31\", \"1996-02-29\", \"1996-03-31\", \"1996-04-30\", \"1996-05-31\", \"1996-06-30\", \"1996-07-31\", \"1996-08-31\", \"1996-09-30\", \"1996-10-31\", \"1996-11-30\", \"1996-12-31\", \"1997-01-31\", \"1997-02-28\", \"1997-03-31\", \"1997-04-30\", \"1997-05-31\", \"1997-06-30\", \"1997-07-31\", \"1997-08-31\", \"1997-09-30\", \"1997-10-31\", \"1997-11-30\", \"1997-12-31\", \"1998-01-31\", \"1998-02-28\", \"1998-03-31\", \"1998-04-30\", \"1998-05-31\", \"1998-06-30\", \"1998-07-31\", \"1998-08-31\", \"1998-09-30\", \"1998-10-31\", \"1998-11-30\", \"1998-12-31\", \"1999-01-31\", \"1999-02-28\", \"1999-03-31\", \"1999-04-30\", \"1999-05-31\", \"1999-06-30\", \"1999-07-31\", \"1999-08-31\", \"1999-09-30\", \"1999-10-31\", \"1999-11-30\", \"1999-12-31\", \"2000-01-31\", \"2000-02-29\", \"2000-03-31\", \"2000-04-30\", \"2000-05-31\", \"2000-06-30\", \"2000-07-31\", \"2000-08-31\", \"2000-09-30\", \"2000-10-31\", \"2000-11-30\", \"2000-12-31\", \"2001-01-31\", \"2001-02-28\", \"2001-03-31\", \"2001-04-30\", \"2001-05-31\", \"2001-06-30\", \"2001-07-31\", \"2001-08-31\", \"2001-09-30\", \"2001-10-31\", \"2001-11-30\", \"2001-12-31\", \"2002-01-31\", \"2002-02-28\", \"2002-03-31\", \"2002-04-30\", \"2002-05-31\", \"2002-06-30\", \"2002-07-31\", \"2002-08-31\", \"2002-09-30\", \"2002-10-31\", \"2002-11-30\", \"2002-12-31\", \"2003-01-31\", \"2003-02-28\", \"2003-03-31\", \"2003-04-30\", \"2003-05-31\", \"2003-06-30\", \"2003-07-31\", \"2003-08-31\", \"2003-09-30\", \"2003-10-31\", \"2003-11-30\", \"2003-12-31\", \"2004-01-31\", \"2004-02-29\", \"2004-03-31\", \"2004-04-30\", \"2004-05-31\", \"2004-06-30\", \"2004-07-31\", \"2004-08-31\", \"2004-09-30\", \"2004-10-31\", \"2004-11-30\", \"2004-12-31\", \"2005-01-31\", \"2005-02-28\", \"2005-03-31\", \"2005-04-30\", \"2005-05-31\", \"2005-06-30\", \"2005-07-31\", \"2005-08-31\", \"2005-09-30\", \"2005-10-31\", \"2005-11-30\", \"2005-12-31\", \"2006-01-31\", \"2006-02-28\", \"2006-03-31\", \"2006-04-30\", \"2006-05-31\", \"2006-06-30\", \"2006-07-31\", \"2006-08-31\", \"2006-09-30\", \"2006-10-31\", \"2006-11-30\", \"2006-12-31\", \"2007-01-31\", \"2007-02-28\", \"2007-03-31\", \"2007-04-30\", \"2007-05-31\", \"2007-06-30\", \"2007-07-31\", \"2007-08-31\", \"2007-09-30\", \"2007-10-31\", \"2007-11-30\", \"2007-12-31\", \"2008-01-31\", \"2008-02-29\", \"2008-03-31\", \"2008-04-30\", \"2008-05-31\", \"2008-06-30\", \"2008-07-31\", \"2008-08-31\", \"2008-09-30\", \"2008-10-31\", \"2008-11-30\", \"2008-12-31\", \"2009-01-31\", \"2009-02-28\", \"2009-03-31\", \"2009-04-30\", \"2009-05-31\", \"2009-06-30\", \"2009-07-31\", \"2009-08-31\", \"2009-09-30\", \"2009-10-31\", \"2009-11-30\", \"2009-12-31\", \"2010-01-31\", \"2010-02-28\", \"2010-03-31\", \"2010-04-30\", \"2010-05-31\", \"2010-06-30\", \"2010-07-31\", \"2010-08-31\", \"2010-09-30\", \"2010-10-31\", \"2010-11-30\", \"2010-12-31\", \"2011-01-31\", \"2011-02-28\", \"2011-03-31\", \"2011-04-30\", \"2011-05-31\", \"2011-06-30\", \"2011-07-31\", \"2011-08-31\", \"2011-09-30\", \"2011-10-31\", \"2011-11-30\", \"2011-12-31\", \"2012-01-31\", \"2012-02-29\", \"2012-03-31\", \"2012-04-30\", \"2012-05-31\", \"2012-06-30\", \"2012-07-31\", \"2012-08-31\", \"2012-09-30\", \"2012-10-31\", \"2012-11-30\", \"2012-12-31\", \"2013-01-31\", \"2013-02-28\", \"2013-03-31\", \"2013-04-30\", \"2013-05-31\", \"2013-06-30\", \"2013-07-31\", \"2013-08-31\", \"2013-09-30\", \"2013-10-31\", \"2013-11-30\", \"2013-12-31\", \"2014-01-31\", \"2014-02-28\", \"2014-03-31\", \"2014-04-30\", \"2014-05-31\", \"2014-06-30\", \"2014-07-31\", \"2014-08-31\", \"2014-09-30\", \"2014-10-31\", \"2014-11-30\", \"2014-12-31\", \"2015-01-31\", \"2015-02-28\", \"2015-03-31\", \"2015-04-30\", \"2015-05-31\", \"2015-06-30\", \"2015-07-31\", \"2015-08-31\", \"2015-09-30\", \"2015-10-31\", \"2015-11-30\", \"2015-12-31\", \"2016-01-31\", \"2016-02-29\", \"2016-03-31\", \"2016-04-30\", \"2016-05-31\", \"2016-06-30\", \"2016-07-31\", \"2016-08-31\", \"2016-09-30\", \"2016-10-31\", \"2016-11-30\", \"2016-12-31\", \"2017-01-31\", \"2017-02-28\", \"2017-03-31\", \"2017-04-30\", \"2017-05-31\", \"2017-06-30\", \"2017-07-31\", \"2017-08-31\", \"2017-09-30\", \"2017-10-31\", \"2017-11-30\", \"2017-12-31\", \"2018-01-31\", \"2018-02-28\", \"2018-03-31\", \"2018-04-30\", \"2018-05-31\", \"2018-06-30\", \"2018-07-31\", \"2018-08-31\", \"2018-09-30\", \"2018-10-31\", \"2018-11-30\", \"2018-12-31\", \"2019-01-31\", \"2019-02-28\", \"2019-03-31\", \"2019-04-30\", \"2019-05-31\", \"2019-06-30\", \"2019-07-31\", \"2019-08-31\", \"2019-09-30\", \"2019-10-31\", \"2019-11-30\", \"2019-12-31\", \"2020-01-31\", \"2020-02-29\", \"2020-03-31\", \"2020-04-30\", \"2020-05-31\", \"2020-06-30\", \"2020-07-31\", \"2020-08-31\", \"2020-09-30\", \"2020-10-31\", \"2020-11-30\", \"2020-12-31\", \"2021-01-31\", \"2021-02-28\", \"2021-03-31\"], \"xaxis\": \"x\", \"y\": [170881.0, 170847.0, 170889.0, 171055.0, 171467.0, 172200.0, 172970.0, 173387.0, 173245.0, 172838.0, 172750.0, 172604.0, 171936.0, 171061.0, 170436.0, 170239.0, 169700.0, 168713.0, 168005.0, 167804.0, 168224.0, 168832.0, 168958.0, 169445.0, 170303.0, 171970.0, 173353.0, 174357.0, 175156.0, 175681.0, 175580.0, 175798.0, 176548.0, 177733.0, 178809.0, 179513.0, 180782.0, 181819.0, 182837.0, 183607.0, 184725.0, 186670.0, 188883.0, 190210.0, 190731.0, 191048.0, 192177.0, 193201.0, 194375.0, 195222.0, 196855.0, 198566.0, 200696.0, 202199.0, 203367.0, 204325.0, 205978.0, 207740.0, 209778.0, 211861.0, 213415.0, 215292.0, 216680.0, 218631.0, 220032.0, 222090.0, 224647.0, 228061.0, 230709.0, 233222.0, 235071.0, 237628.0, 240669.0, 244010.0, 247500.0, 250855.0, 254130.0, 257741.0, 261426.0, 265453.0, 269728.0, 274823.0, 280229.0, 284838.0, 288267.0, 291475.0, 295434.0, 299527.0, 304065.0, 307994.0, 313070.0, 318079.0, 323176.0, 327360.0, 332933.0, 339852.0, 348823.0, 356854.0, 364814.0, 373173.0, 383477.0, 393352.0, 401509.0, 408795.0, 417462.0, 425565.0, 431917.0, 437165.0, 441351.0, 448322.0, 454566.0, 461803.0, 466145.0, 471706.0, 478757.0, 487341.0, 496435.0, 506892.0, 514977.0, 522064.0, 528603.0, 534348.0, 540632.0, 544379.0, 549972.0, 554435.0, 557725.0, 559048.0, 556591.0, 553881.0, 552971.0, 553800.0, 553123.0, 551129.0, 548661.0, 549012.0, 548451.0, 547318.0, 543999.0, 539192.0, 533981.0, 527343.0, 521284.0, 515499.0, 510362.0, 504060.0, 495828.0, 484346.0, 471280.0, 460168.0, 450940.0, 444261.0, 439009.0, 434692.0, 429449.0, 420653.0, 415805.0, 413156.0, 411853.0, 409733.0, 408340.0, 408056.0, 408217.0, 409529.0, 411756.0, 414164.0, 417628.0, 422554.0, 422668.0, 419555.0, 418811.0, 420812.0, 425684.0, 423623.0, 421328.0, 417353.0, 414512.0, 411866.0, 407305.0, 405070.0, 403925.0, 404807.0, 402709.0, 399892.0, 394553.0, 394147.0, 394154.0, 394223.0, 392487.0, 388860.0, 387806.0, 384980.0, 384236.0, 383248.0, 383094.0, 383253.0, 384491.0, 386984.0, 389258.0, 390086.0, 391147.0, 395476.0, 399816.0, 406710.0, 410341.0, 417220.0, 424754.0, 434739.0, 442963.0, 449579.0, 455398.0, 464582.0, 473270.0, 479181.0, 483315.0, 484885.0, 488533.0, 487731.0, 487720.0, 485825.0, 485865.0, 485974.0, 488821.0, 489245.0, 489940.0, 490345.0, 492937.0, 495232.0, 498765.0, 503139.0, 507246.0, 507944.0, 509359.0, 510893.0, 512095.0, 512989.0, 514120.0, 516342.0, 518245.0, 522085.0, 524249.0, 527210.0, 528749.0, 533708.0, 536824.0, 539932.0, 540872.0, 543598.0, 547431.0, 551941.0, 554037.0, 556035.0, 558952.0, 561761.0, 564644.0, 567125.0, 571233.0, 574507.0, 577262.0, 580055.0, 582151.0, 584709.0, 589131.0, 593244.0, 597141.0, 601229.0, 606177.0, 609418.0, 612349.0, 615405.0, 620630.0, 622092.0, 622968.0, 622009.0, 623064.0, 622605.0, 622520.0, 619847.0, 616844.0, 616255.0, 619455.0, 624679.0, 623377.0, 621765.0, 620332.0, 622865.0, 624086.0, 626301.0, 629472.0, 634882.0, 641173.0, 647108.0, 649355.0, 650012.0, 654988.0, 662056.0, 669421.0, 674552.0, 679402.0, 684278.0, 688250.0, 691800.0, 694809.0], \"yaxis\": \"y\"}, {\"hovertemplate\": \"City=Cupertino<br>date=%{x}<br>value=%{y}<extra></extra>\", \"legendgroup\": \"Cupertino\", \"line\": {\"color\": \"#FFA15A\", \"dash\": \"solid\"}, \"mode\": \"lines\", \"name\": \"Cupertino\", \"showlegend\": true, \"type\": \"scattergl\", \"x\": [\"1996-01-31\", \"1996-02-29\", \"1996-03-31\", \"1996-04-30\", \"1996-05-31\", \"1996-06-30\", \"1996-07-31\", \"1996-08-31\", \"1996-09-30\", \"1996-10-31\", \"1996-11-30\", \"1996-12-31\", \"1997-01-31\", \"1997-02-28\", \"1997-03-31\", \"1997-04-30\", \"1997-05-31\", \"1997-06-30\", \"1997-07-31\", \"1997-08-31\", \"1997-09-30\", \"1997-10-31\", \"1997-11-30\", \"1997-12-31\", \"1998-01-31\", \"1998-02-28\", \"1998-03-31\", \"1998-04-30\", \"1998-05-31\", \"1998-06-30\", \"1998-07-31\", \"1998-08-31\", \"1998-09-30\", \"1998-10-31\", \"1998-11-30\", \"1998-12-31\", \"1999-01-31\", \"1999-02-28\", \"1999-03-31\", \"1999-04-30\", \"1999-05-31\", \"1999-06-30\", \"1999-07-31\", \"1999-08-31\", \"1999-09-30\", \"1999-10-31\", \"1999-11-30\", \"1999-12-31\", \"2000-01-31\", \"2000-02-29\", \"2000-03-31\", \"2000-04-30\", \"2000-05-31\", \"2000-06-30\", \"2000-07-31\", \"2000-08-31\", \"2000-09-30\", \"2000-10-31\", \"2000-11-30\", \"2000-12-31\", \"2001-01-31\", \"2001-02-28\", \"2001-03-31\", \"2001-04-30\", \"2001-05-31\", \"2001-06-30\", \"2001-07-31\", \"2001-08-31\", \"2001-09-30\", \"2001-10-31\", \"2001-11-30\", \"2001-12-31\", \"2002-01-31\", \"2002-02-28\", \"2002-03-31\", \"2002-04-30\", \"2002-05-31\", \"2002-06-30\", \"2002-07-31\", \"2002-08-31\", \"2002-09-30\", \"2002-10-31\", \"2002-11-30\", \"2002-12-31\", \"2003-01-31\", \"2003-02-28\", \"2003-03-31\", \"2003-04-30\", \"2003-05-31\", \"2003-06-30\", \"2003-07-31\", \"2003-08-31\", \"2003-09-30\", \"2003-10-31\", \"2003-11-30\", \"2003-12-31\", \"2004-01-31\", \"2004-02-29\", \"2004-03-31\", \"2004-04-30\", \"2004-05-31\", \"2004-06-30\", \"2004-07-31\", \"2004-08-31\", \"2004-09-30\", \"2004-10-31\", \"2004-11-30\", \"2004-12-31\", \"2005-01-31\", \"2005-02-28\", \"2005-03-31\", \"2005-04-30\", \"2005-05-31\", \"2005-06-30\", \"2005-07-31\", \"2005-08-31\", \"2005-09-30\", \"2005-10-31\", \"2005-11-30\", \"2005-12-31\", \"2006-01-31\", \"2006-02-28\", \"2006-03-31\", \"2006-04-30\", \"2006-05-31\", \"2006-06-30\", \"2006-07-31\", \"2006-08-31\", \"2006-09-30\", \"2006-10-31\", \"2006-11-30\", \"2006-12-31\", \"2007-01-31\", \"2007-02-28\", \"2007-03-31\", \"2007-04-30\", \"2007-05-31\", \"2007-06-30\", \"2007-07-31\", \"2007-08-31\", \"2007-09-30\", \"2007-10-31\", \"2007-11-30\", \"2007-12-31\", \"2008-01-31\", \"2008-02-29\", \"2008-03-31\", \"2008-04-30\", \"2008-05-31\", \"2008-06-30\", \"2008-07-31\", \"2008-08-31\", \"2008-09-30\", \"2008-10-31\", \"2008-11-30\", \"2008-12-31\", \"2009-01-31\", \"2009-02-28\", \"2009-03-31\", \"2009-04-30\", \"2009-05-31\", \"2009-06-30\", \"2009-07-31\", \"2009-08-31\", \"2009-09-30\", \"2009-10-31\", \"2009-11-30\", \"2009-12-31\", \"2010-01-31\", \"2010-02-28\", \"2010-03-31\", \"2010-04-30\", \"2010-05-31\", \"2010-06-30\", \"2010-07-31\", \"2010-08-31\", \"2010-09-30\", \"2010-10-31\", \"2010-11-30\", \"2010-12-31\", \"2011-01-31\", \"2011-02-28\", \"2011-03-31\", \"2011-04-30\", \"2011-05-31\", \"2011-06-30\", \"2011-07-31\", \"2011-08-31\", \"2011-09-30\", \"2011-10-31\", \"2011-11-30\", \"2011-12-31\", \"2012-01-31\", \"2012-02-29\", \"2012-03-31\", \"2012-04-30\", \"2012-05-31\", \"2012-06-30\", \"2012-07-31\", \"2012-08-31\", \"2012-09-30\", \"2012-10-31\", \"2012-11-30\", \"2012-12-31\", \"2013-01-31\", \"2013-02-28\", \"2013-03-31\", \"2013-04-30\", \"2013-05-31\", \"2013-06-30\", \"2013-07-31\", \"2013-08-31\", \"2013-09-30\", \"2013-10-31\", \"2013-11-30\", \"2013-12-31\", \"2014-01-31\", \"2014-02-28\", \"2014-03-31\", \"2014-04-30\", \"2014-05-31\", \"2014-06-30\", \"2014-07-31\", \"2014-08-31\", \"2014-09-30\", \"2014-10-31\", \"2014-11-30\", \"2014-12-31\", \"2015-01-31\", \"2015-02-28\", \"2015-03-31\", \"2015-04-30\", \"2015-05-31\", \"2015-06-30\", \"2015-07-31\", \"2015-08-31\", \"2015-09-30\", \"2015-10-31\", \"2015-11-30\", \"2015-12-31\", \"2016-01-31\", \"2016-02-29\", \"2016-03-31\", \"2016-04-30\", \"2016-05-31\", \"2016-06-30\", \"2016-07-31\", \"2016-08-31\", \"2016-09-30\", \"2016-10-31\", \"2016-11-30\", \"2016-12-31\", \"2017-01-31\", \"2017-02-28\", \"2017-03-31\", \"2017-04-30\", \"2017-05-31\", \"2017-06-30\", \"2017-07-31\", \"2017-08-31\", \"2017-09-30\", \"2017-10-31\", \"2017-11-30\", \"2017-12-31\", \"2018-01-31\", \"2018-02-28\", \"2018-03-31\", \"2018-04-30\", \"2018-05-31\", \"2018-06-30\", \"2018-07-31\", \"2018-08-31\", \"2018-09-30\", \"2018-10-31\", \"2018-11-30\", \"2018-12-31\", \"2019-01-31\", \"2019-02-28\", \"2019-03-31\", \"2019-04-30\", \"2019-05-31\", \"2019-06-30\", \"2019-07-31\", \"2019-08-31\", \"2019-09-30\", \"2019-10-31\", \"2019-11-30\", \"2019-12-31\", \"2020-01-31\", \"2020-02-29\", \"2020-03-31\", \"2020-04-30\", \"2020-05-31\", \"2020-06-30\", \"2020-07-31\", \"2020-08-31\", \"2020-09-30\", \"2020-10-31\", \"2020-11-30\", \"2020-12-31\", \"2021-01-31\", \"2021-02-28\", \"2021-03-31\"], \"xaxis\": \"x\", \"y\": [442866.0, 441884.0, 442035.0, 442285.0, 443417.0, 444629.0, 445903.0, 447766.0, 449875.0, 453458.0, 458122.0, 463475.0, 469285.0, 475817.0, 482051.0, 487920.0, 492995.0, 499034.0, 505148.0, 511886.0, 518888.0, 524802.0, 530556.0, 536247.0, 540960.0, 545345.0, 549841.0, 556067.0, 563082.0, 568962.0, 575630.0, 580906.0, 587311.0, 592047.0, 594554.0, 595533.0, 598459.0, 603627.0, 608385.0, 609736.0, 611348.0, 614648.0, 619479.0, 623920.0, 626006.0, 630517.0, 637606.0, 648107.0, 658614.0, 668002.0, 678626.0, 695248.0, 712547.0, 732819.0, 750582.0, 774176.0, 799417.0, 825473.0, 851305.0, 873984.0, 894026.0, 908097.0, 920238.0, 925788.0, 928329.0, 923349.0, 917700.0, 907874.0, 898513.0, 886304.0, 871943.0, 858593.0, 847382.0, 843551.0, 842841.0, 845348.0, 850839.0, 857554.0, 865065.0, 867810.0, 867932.0, 868609.0, 871116.0, 870582.0, 869877.0, 869846.0, 868653.0, 864271.0, 855294.0, 849037.0, 844760.0, 845820.0, 851515.0, 856684.0, 861583.0, 868540.0, 877990.0, 885189.0, 890460.0, 900321.0, 913252.0, 927937.0, 938563.0, 950249.0, 958778.0, 972075.0, 988567.0, 1006846.0, 1023605.0, 1039296.0, 1062394.0, 1078616.0, 1094691.0, 1103321.0, 1117536.0, 1129709.0, 1140096.0, 1146626.0, 1148336.0, 1149860.0, 1152005.0, 1155355.0, 1148149.0, 1144387.0, 1141000.0, 1146765.0, 1148281.0, 1144776.0, 1146442.0, 1148408.0, 1153481.0, 1158328.0, 1160616.0, 1166002.0, 1175148.0, 1182418.0, 1187615.0, 1187285.0, 1193006.0, 1203189.0, 1213506.0, 1216870.0, 1214008.0, 1202542.0, 1187630.0, 1167177.0, 1152512.0, 1148397.0, 1149751.0, 1147699.0, 1140343.0, 1136172.0, 1125908.0, 1119456.0, 1114133.0, 1126337.0, 1143058.0, 1164971.0, 1164435.0, 1160876.0, 1152802.0, 1161709.0, 1168532.0, 1165674.0, 1163526.0, 1167607.0, 1182298.0, 1186050.0, 1189013.0, 1189869.0, 1211341.0, 1220133.0, 1229642.0, 1224189.0, 1226630.0, 1233248.0, 1244343.0, 1247753.0, 1234580.0, 1219782.0, 1209147.0, 1201495.0, 1191943.0, 1184660.0, 1172084.0, 1155099.0, 1134536.0, 1123111.0, 1115159.0, 1106053.0, 1110236.0, 1109919.0, 1109021.0, 1100611.0, 1099251.0, 1109390.0, 1128108.0, 1152666.0, 1176496.0, 1195259.0, 1208939.0, 1227141.0, 1246960.0, 1271592.0, 1295170.0, 1316483.0, 1337280.0, 1355003.0, 1373788.0, 1394450.0, 1408653.0, 1418165.0, 1421761.0, 1434845.0, 1437822.0, 1456802.0, 1475680.0, 1507487.0, 1517858.0, 1522216.0, 1515853.0, 1517675.0, 1535251.0, 1561786.0, 1599073.0, 1623627.0, 1652395.0, 1661251.0, 1666415.0, 1671798.0, 1697589.0, 1719781.0, 1762838.0, 1786612.0, 1809904.0, 1813593.0, 1821632.0, 1824231.0, 1824322.0, 1828306.0, 1841068.0, 1845649.0, 1846849.0, 1854646.0, 1844250.0, 1840555.0, 1822677.0, 1827975.0, 1820611.0, 1830800.0, 1839539.0, 1855872.0, 1866247.0, 1881336.0, 1888718.0, 1898001.0, 1905202.0, 1924401.0, 1949777.0, 1989706.0, 2040660.0, 2090868.0, 2137279.0, 2183335.0, 2228270.0, 2271551.0, 2312746.0, 2344295.0, 2383707.0, 2411571.0, 2438635.0, 2417879.0, 2383810.0, 2336141.0, 2305452.0, 2264744.0, 2222137.0, 2185577.0, 2161929.0, 2162905.0, 2163497.0, 2158000.0, 2134172.0, 2113221.0, 2106341.0, 2106901.0, 2112014.0, 2121577.0, 2145781.0, 2174049.0, 2203944.0, 2217091.0, 2224606.0, 2237764.0, 2264914.0, 2306485.0, 2340409.0, 2373693.0, 2396441.0, 2420148.0, 2433401.0, 2441106.0, 2442534.0], \"yaxis\": \"y\"}],                        {\"font\": {\"color\": \"gray\", \"family\": \"Courier New\"}, \"legend\": {\"title\": {\"text\": \"City\"}, \"tracegroupgap\": 0}, \"margin\": {\"t\": 60}, \"template\": {\"data\": {\"bar\": [{\"error_x\": {\"color\": \"#2a3f5f\"}, \"error_y\": {\"color\": \"#2a3f5f\"}, \"marker\": {\"line\": {\"color\": \"#E5ECF6\", \"width\": 0.5}}, \"type\": \"bar\"}], \"barpolar\": [{\"marker\": {\"line\": {\"color\": \"#E5ECF6\", \"width\": 0.5}}, \"type\": \"barpolar\"}], \"carpet\": [{\"aaxis\": {\"endlinecolor\": \"#2a3f5f\", \"gridcolor\": \"white\", \"linecolor\": \"white\", \"minorgridcolor\": \"white\", \"startlinecolor\": \"#2a3f5f\"}, \"baxis\": {\"endlinecolor\": \"#2a3f5f\", \"gridcolor\": \"white\", \"linecolor\": \"white\", \"minorgridcolor\": \"white\", \"startlinecolor\": \"#2a3f5f\"}, \"type\": \"carpet\"}], \"choropleth\": [{\"colorbar\": {\"outlinewidth\": 0, \"ticks\": \"\"}, \"type\": \"choropleth\"}], \"contour\": [{\"colorbar\": {\"outlinewidth\": 0, \"ticks\": \"\"}, \"colorscale\": [[0.0, \"#0d0887\"], [0.1111111111111111, \"#46039f\"], [0.2222222222222222, \"#7201a8\"], [0.3333333333333333, \"#9c179e\"], [0.4444444444444444, \"#bd3786\"], [0.5555555555555556, \"#d8576b\"], [0.6666666666666666, \"#ed7953\"], [0.7777777777777778, \"#fb9f3a\"], [0.8888888888888888, \"#fdca26\"], [1.0, \"#f0f921\"]], \"type\": \"contour\"}], \"contourcarpet\": [{\"colorbar\": {\"outlinewidth\": 0, \"ticks\": \"\"}, \"type\": \"contourcarpet\"}], \"heatmap\": [{\"colorbar\": {\"outlinewidth\": 0, \"ticks\": \"\"}, \"colorscale\": [[0.0, \"#0d0887\"], [0.1111111111111111, \"#46039f\"], [0.2222222222222222, \"#7201a8\"], [0.3333333333333333, \"#9c179e\"], [0.4444444444444444, \"#bd3786\"], [0.5555555555555556, \"#d8576b\"], [0.6666666666666666, \"#ed7953\"], [0.7777777777777778, \"#fb9f3a\"], [0.8888888888888888, \"#fdca26\"], [1.0, \"#f0f921\"]], \"type\": \"heatmap\"}], \"heatmapgl\": [{\"colorbar\": {\"outlinewidth\": 0, \"ticks\": \"\"}, \"colorscale\": [[0.0, \"#0d0887\"], [0.1111111111111111, \"#46039f\"], [0.2222222222222222, \"#7201a8\"], [0.3333333333333333, \"#9c179e\"], [0.4444444444444444, \"#bd3786\"], [0.5555555555555556, \"#d8576b\"], [0.6666666666666666, \"#ed7953\"], [0.7777777777777778, \"#fb9f3a\"], [0.8888888888888888, \"#fdca26\"], [1.0, \"#f0f921\"]], \"type\": \"heatmapgl\"}], \"histogram\": [{\"marker\": {\"colorbar\": {\"outlinewidth\": 0, \"ticks\": \"\"}}, \"type\": \"histogram\"}], \"histogram2d\": [{\"colorbar\": {\"outlinewidth\": 0, \"ticks\": \"\"}, \"colorscale\": [[0.0, \"#0d0887\"], [0.1111111111111111, \"#46039f\"], [0.2222222222222222, \"#7201a8\"], [0.3333333333333333, \"#9c179e\"], [0.4444444444444444, \"#bd3786\"], [0.5555555555555556, \"#d8576b\"], [0.6666666666666666, \"#ed7953\"], [0.7777777777777778, \"#fb9f3a\"], [0.8888888888888888, \"#fdca26\"], [1.0, \"#f0f921\"]], \"type\": \"histogram2d\"}], \"histogram2dcontour\": [{\"colorbar\": {\"outlinewidth\": 0, \"ticks\": \"\"}, \"colorscale\": [[0.0, \"#0d0887\"], [0.1111111111111111, \"#46039f\"], [0.2222222222222222, \"#7201a8\"], [0.3333333333333333, \"#9c179e\"], [0.4444444444444444, \"#bd3786\"], [0.5555555555555556, \"#d8576b\"], [0.6666666666666666, \"#ed7953\"], [0.7777777777777778, \"#fb9f3a\"], [0.8888888888888888, \"#fdca26\"], [1.0, \"#f0f921\"]], \"type\": \"histogram2dcontour\"}], \"mesh3d\": [{\"colorbar\": {\"outlinewidth\": 0, \"ticks\": \"\"}, \"type\": \"mesh3d\"}], \"parcoords\": [{\"line\": {\"colorbar\": {\"outlinewidth\": 0, \"ticks\": \"\"}}, \"type\": \"parcoords\"}], \"pie\": [{\"automargin\": true, \"type\": \"pie\"}], \"scatter\": [{\"marker\": {\"colorbar\": {\"outlinewidth\": 0, \"ticks\": \"\"}}, \"type\": \"scatter\"}], \"scatter3d\": [{\"line\": {\"colorbar\": {\"outlinewidth\": 0, \"ticks\": \"\"}}, \"marker\": {\"colorbar\": {\"outlinewidth\": 0, \"ticks\": \"\"}}, \"type\": \"scatter3d\"}], \"scattercarpet\": [{\"marker\": {\"colorbar\": {\"outlinewidth\": 0, \"ticks\": \"\"}}, \"type\": \"scattercarpet\"}], \"scattergeo\": [{\"marker\": {\"colorbar\": {\"outlinewidth\": 0, \"ticks\": \"\"}}, \"type\": \"scattergeo\"}], \"scattergl\": [{\"marker\": {\"colorbar\": {\"outlinewidth\": 0, \"ticks\": \"\"}}, \"type\": \"scattergl\"}], \"scattermapbox\": [{\"marker\": {\"colorbar\": {\"outlinewidth\": 0, \"ticks\": \"\"}}, \"type\": \"scattermapbox\"}], \"scatterpolar\": [{\"marker\": {\"colorbar\": {\"outlinewidth\": 0, \"ticks\": \"\"}}, \"type\": \"scatterpolar\"}], \"scatterpolargl\": [{\"marker\": {\"colorbar\": {\"outlinewidth\": 0, \"ticks\": \"\"}}, \"type\": \"scatterpolargl\"}], \"scatterternary\": [{\"marker\": {\"colorbar\": {\"outlinewidth\": 0, \"ticks\": \"\"}}, \"type\": \"scatterternary\"}], \"surface\": [{\"colorbar\": {\"outlinewidth\": 0, \"ticks\": \"\"}, \"colorscale\": [[0.0, \"#0d0887\"], [0.1111111111111111, \"#46039f\"], [0.2222222222222222, \"#7201a8\"], [0.3333333333333333, \"#9c179e\"], [0.4444444444444444, \"#bd3786\"], [0.5555555555555556, \"#d8576b\"], [0.6666666666666666, \"#ed7953\"], [0.7777777777777778, \"#fb9f3a\"], [0.8888888888888888, \"#fdca26\"], [1.0, \"#f0f921\"]], \"type\": \"surface\"}], \"table\": [{\"cells\": {\"fill\": {\"color\": \"#EBF0F8\"}, \"line\": {\"color\": \"white\"}}, \"header\": {\"fill\": {\"color\": \"#C8D4E3\"}, \"line\": {\"color\": \"white\"}}, \"type\": \"table\"}]}, \"layout\": {\"annotationdefaults\": {\"arrowcolor\": \"#2a3f5f\", \"arrowhead\": 0, \"arrowwidth\": 1}, \"autotypenumbers\": \"strict\", \"coloraxis\": {\"colorbar\": {\"outlinewidth\": 0, \"ticks\": \"\"}}, \"colorscale\": {\"diverging\": [[0, \"#8e0152\"], [0.1, \"#c51b7d\"], [0.2, \"#de77ae\"], [0.3, \"#f1b6da\"], [0.4, \"#fde0ef\"], [0.5, \"#f7f7f7\"], [0.6, \"#e6f5d0\"], [0.7, \"#b8e186\"], [0.8, \"#7fbc41\"], [0.9, \"#4d9221\"], [1, \"#276419\"]], \"sequential\": [[0.0, \"#0d0887\"], [0.1111111111111111, \"#46039f\"], [0.2222222222222222, \"#7201a8\"], [0.3333333333333333, \"#9c179e\"], [0.4444444444444444, \"#bd3786\"], [0.5555555555555556, \"#d8576b\"], [0.6666666666666666, \"#ed7953\"], [0.7777777777777778, \"#fb9f3a\"], [0.8888888888888888, \"#fdca26\"], [1.0, \"#f0f921\"]], \"sequentialminus\": [[0.0, \"#0d0887\"], [0.1111111111111111, \"#46039f\"], [0.2222222222222222, \"#7201a8\"], [0.3333333333333333, \"#9c179e\"], [0.4444444444444444, \"#bd3786\"], [0.5555555555555556, \"#d8576b\"], [0.6666666666666666, \"#ed7953\"], [0.7777777777777778, \"#fb9f3a\"], [0.8888888888888888, \"#fdca26\"], [1.0, \"#f0f921\"]]}, \"colorway\": [\"#636efa\", \"#EF553B\", \"#00cc96\", \"#ab63fa\", \"#FFA15A\", \"#19d3f3\", \"#FF6692\", \"#B6E880\", \"#FF97FF\", \"#FECB52\"], \"font\": {\"color\": \"#2a3f5f\"}, \"geo\": {\"bgcolor\": \"white\", \"lakecolor\": \"white\", \"landcolor\": \"#E5ECF6\", \"showlakes\": true, \"showland\": true, \"subunitcolor\": \"white\"}, \"hoverlabel\": {\"align\": \"left\"}, \"hovermode\": \"closest\", \"mapbox\": {\"style\": \"light\"}, \"paper_bgcolor\": \"white\", \"plot_bgcolor\": \"#E5ECF6\", \"polar\": {\"angularaxis\": {\"gridcolor\": \"white\", \"linecolor\": \"white\", \"ticks\": \"\"}, \"bgcolor\": \"#E5ECF6\", \"radialaxis\": {\"gridcolor\": \"white\", \"linecolor\": \"white\", \"ticks\": \"\"}}, \"scene\": {\"xaxis\": {\"backgroundcolor\": \"#E5ECF6\", \"gridcolor\": \"white\", \"gridwidth\": 2, \"linecolor\": \"white\", \"showbackground\": true, \"ticks\": \"\", \"zerolinecolor\": \"white\"}, \"yaxis\": {\"backgroundcolor\": \"#E5ECF6\", \"gridcolor\": \"white\", \"gridwidth\": 2, \"linecolor\": \"white\", \"showbackground\": true, \"ticks\": \"\", \"zerolinecolor\": \"white\"}, \"zaxis\": {\"backgroundcolor\": \"#E5ECF6\", \"gridcolor\": \"white\", \"gridwidth\": 2, \"linecolor\": \"white\", \"showbackground\": true, \"ticks\": \"\", \"zerolinecolor\": \"white\"}}, \"shapedefaults\": {\"line\": {\"color\": \"#2a3f5f\"}}, \"ternary\": {\"aaxis\": {\"gridcolor\": \"white\", \"linecolor\": \"white\", \"ticks\": \"\"}, \"baxis\": {\"gridcolor\": \"white\", \"linecolor\": \"white\", \"ticks\": \"\"}, \"bgcolor\": \"#E5ECF6\", \"caxis\": {\"gridcolor\": \"white\", \"linecolor\": \"white\", \"ticks\": \"\"}}, \"title\": {\"x\": 0.05}, \"xaxis\": {\"automargin\": true, \"gridcolor\": \"white\", \"linecolor\": \"white\", \"ticks\": \"\", \"title\": {\"standoff\": 15}, \"zerolinecolor\": \"white\", \"zerolinewidth\": 2}, \"yaxis\": {\"automargin\": true, \"gridcolor\": \"white\", \"linecolor\": \"white\", \"ticks\": \"\", \"title\": {\"standoff\": 15}, \"zerolinecolor\": \"white\", \"zerolinewidth\": 2}}}, \"title\": {\"font\": {\"color\": \"Purple\", \"family\": \"Times New Roman\"}, \"text\": \"Housing Prices Change for Top 5 Asian popular areas\"}, \"xaxis\": {\"anchor\": \"y\", \"domain\": [0.0, 1.0], \"title\": {\"text\": \"Date\"}}, \"yaxis\": {\"anchor\": \"x\", \"domain\": [0.0, 1.0], \"title\": {\"text\": \"Housing Prices\"}}},                        {\"responsive\": true}                    ).then(function(){\n",
       "                            \n",
       "var gd = document.getElementById('af46f85f-de18-48e1-8624-a87559f1b6af');\n",
       "var x = new MutationObserver(function (mutations, observer) {{\n",
       "        var display = window.getComputedStyle(gd).display;\n",
       "        if (!display || display === 'none') {{\n",
       "            console.log([gd, 'removed!']);\n",
       "            Plotly.purge(gd);\n",
       "            observer.disconnect();\n",
       "        }}\n",
       "}});\n",
       "\n",
       "// Listen for the removal of the full notebook cells\n",
       "var notebookContainer = gd.closest('#notebook-container');\n",
       "if (notebookContainer) {{\n",
       "    x.observe(notebookContainer, {childList: true});\n",
       "}}\n",
       "\n",
       "// Listen for the clearing of the current output cell\n",
       "var outputEl = gd.closest('.output');\n",
       "if (outputEl) {{\n",
       "    x.observe(outputEl, {childList: true});\n",
       "}}\n",
       "\n",
       "                        })                };                });            </script>        </div>"
      ]
     },
     "metadata": {},
     "output_type": "display_data"
    }
   ],
   "source": [
    "import plotly.express as px\n",
    "import plotly.graph_objects as go\n",
    "fig = px.line(asiantop, x=\"date\", y=\"value\",color = \"City\")\n",
    "fig.update_layout(title='Housing Prices Change for Top 5 Asian popular areas',\n",
    "                   xaxis_title='Date',\n",
    "                   yaxis_title='Housing Prices',\n",
    "                 font_family=\"Courier New\",\n",
    "    font_color=\"gray\",\n",
    "    title_font_family=\"Times New Roman\",\n",
    "    title_font_color=\"Purple\")\n",
    "fig.show()\n",
    "from plotly.io import write_html\n",
    "write_html(fig, \"HouseAsian.html\")"
   ]
  },
  {
   "cell_type": "code",
   "execution_count": 26,
   "metadata": {},
   "outputs": [
    {
     "data": {
      "text/html": [
       "<div>\n",
       "<style scoped>\n",
       "    .dataframe tbody tr th:only-of-type {\n",
       "        vertical-align: middle;\n",
       "    }\n",
       "\n",
       "    .dataframe tbody tr th {\n",
       "        vertical-align: top;\n",
       "    }\n",
       "\n",
       "    .dataframe thead th {\n",
       "        text-align: right;\n",
       "    }\n",
       "</style>\n",
       "<table border=\"1\" class=\"dataframe\">\n",
       "  <thead>\n",
       "    <tr style=\"text-align: right;\">\n",
       "      <th></th>\n",
       "      <th>Place</th>\n",
       "      <th>County/ies[3][note 3]</th>\n",
       "      <th>Population</th>\n",
       "      <th>White</th>\n",
       "      <th>other</th>\n",
       "      <th>Asian</th>\n",
       "      <th>Black or AfricanAmerican</th>\n",
       "      <th>Native American</th>\n",
       "      <th>Hispanic or Latino</th>\n",
       "      <th>RegionID</th>\n",
       "      <th>...</th>\n",
       "      <th>2020-06-30</th>\n",
       "      <th>2020-07-31</th>\n",
       "      <th>2020-08-31</th>\n",
       "      <th>2020-09-30</th>\n",
       "      <th>2020-10-31</th>\n",
       "      <th>2020-11-30</th>\n",
       "      <th>2020-12-31</th>\n",
       "      <th>2021-01-31</th>\n",
       "      <th>2021-02-28</th>\n",
       "      <th>2021-03-31</th>\n",
       "    </tr>\n",
       "  </thead>\n",
       "  <tbody>\n",
       "    <tr>\n",
       "      <th>204</th>\n",
       "      <td>Crows Landing</td>\n",
       "      <td>Stanislaus</td>\n",
       "      <td>425.0</td>\n",
       "      <td>37.2</td>\n",
       "      <td>0.0</td>\n",
       "      <td>0.0</td>\n",
       "      <td>0.0</td>\n",
       "      <td>62.8</td>\n",
       "      <td>75.5</td>\n",
       "      <td>51609</td>\n",
       "      <td>...</td>\n",
       "      <td>610050.0</td>\n",
       "      <td>620039.0</td>\n",
       "      <td>625933.0</td>\n",
       "      <td>635620.0</td>\n",
       "      <td>642334.0</td>\n",
       "      <td>651535.0</td>\n",
       "      <td>659118.0</td>\n",
       "      <td>669055.0</td>\n",
       "      <td>678379.0</td>\n",
       "      <td>692656.0</td>\n",
       "    </tr>\n",
       "    <tr>\n",
       "      <th>292</th>\n",
       "      <td>Fish Camp</td>\n",
       "      <td>Mariposa</td>\n",
       "      <td>53.0</td>\n",
       "      <td>41.5</td>\n",
       "      <td>0.0</td>\n",
       "      <td>0.0</td>\n",
       "      <td>0.0</td>\n",
       "      <td>58.5</td>\n",
       "      <td>0.0</td>\n",
       "      <td>38527</td>\n",
       "      <td>...</td>\n",
       "      <td>373420.0</td>\n",
       "      <td>372193.0</td>\n",
       "      <td>373802.0</td>\n",
       "      <td>374837.0</td>\n",
       "      <td>378439.0</td>\n",
       "      <td>383022.0</td>\n",
       "      <td>388464.0</td>\n",
       "      <td>391234.0</td>\n",
       "      <td>395910.0</td>\n",
       "      <td>401579.0</td>\n",
       "    </tr>\n",
       "    <tr>\n",
       "      <th>302</th>\n",
       "      <td>Fort Bidwell</td>\n",
       "      <td>Modoc</td>\n",
       "      <td>151.0</td>\n",
       "      <td>39.1</td>\n",
       "      <td>1.3</td>\n",
       "      <td>2.0</td>\n",
       "      <td>0.0</td>\n",
       "      <td>57.6</td>\n",
       "      <td>1.3</td>\n",
       "      <td>38569</td>\n",
       "      <td>...</td>\n",
       "      <td>123092.0</td>\n",
       "      <td>124284.0</td>\n",
       "      <td>124946.0</td>\n",
       "      <td>125626.0</td>\n",
       "      <td>126333.0</td>\n",
       "      <td>127362.0</td>\n",
       "      <td>128396.0</td>\n",
       "      <td>128639.0</td>\n",
       "      <td>129205.0</td>\n",
       "      <td>129516.0</td>\n",
       "    </tr>\n",
       "    <tr>\n",
       "      <th>466</th>\n",
       "      <td>Lee Vining</td>\n",
       "      <td>Mono</td>\n",
       "      <td>406.0</td>\n",
       "      <td>32.8</td>\n",
       "      <td>13.1</td>\n",
       "      <td>0.0</td>\n",
       "      <td>0.0</td>\n",
       "      <td>54.2</td>\n",
       "      <td>50.7</td>\n",
       "      <td>39397</td>\n",
       "      <td>...</td>\n",
       "      <td>308028.0</td>\n",
       "      <td>309603.0</td>\n",
       "      <td>312416.0</td>\n",
       "      <td>315503.0</td>\n",
       "      <td>317725.0</td>\n",
       "      <td>320298.0</td>\n",
       "      <td>322478.0</td>\n",
       "      <td>324881.0</td>\n",
       "      <td>326969.0</td>\n",
       "      <td>329481.0</td>\n",
       "    </tr>\n",
       "    <tr>\n",
       "      <th>196</th>\n",
       "      <td>Covelo</td>\n",
       "      <td>Mendocino</td>\n",
       "      <td>1473.0</td>\n",
       "      <td>60.8</td>\n",
       "      <td>0.2</td>\n",
       "      <td>3.4</td>\n",
       "      <td>0.5</td>\n",
       "      <td>35.1</td>\n",
       "      <td>11.3</td>\n",
       "      <td>38044</td>\n",
       "      <td>...</td>\n",
       "      <td>285266.0</td>\n",
       "      <td>289313.0</td>\n",
       "      <td>293716.0</td>\n",
       "      <td>298225.0</td>\n",
       "      <td>303257.0</td>\n",
       "      <td>310904.0</td>\n",
       "      <td>317833.0</td>\n",
       "      <td>320878.0</td>\n",
       "      <td>322430.0</td>\n",
       "      <td>326246.0</td>\n",
       "    </tr>\n",
       "  </tbody>\n",
       "</table>\n",
       "<p>5 rows × 320 columns</p>\n",
       "</div>"
      ],
      "text/plain": [
       "             Place County/ies[3][note 3]  Population  White  other  Asian  \\\n",
       "204  Crows Landing            Stanislaus       425.0   37.2    0.0    0.0   \n",
       "292      Fish Camp              Mariposa        53.0   41.5    0.0    0.0   \n",
       "302   Fort Bidwell                 Modoc       151.0   39.1    1.3    2.0   \n",
       "466     Lee Vining                  Mono       406.0   32.8   13.1    0.0   \n",
       "196         Covelo             Mendocino      1473.0   60.8    0.2    3.4   \n",
       "\n",
       "     Black or AfricanAmerican  Native American  Hispanic or Latino  RegionID  \\\n",
       "204                       0.0             62.8                75.5     51609   \n",
       "292                       0.0             58.5                 0.0     38527   \n",
       "302                       0.0             57.6                 1.3     38569   \n",
       "466                       0.0             54.2                50.7     39397   \n",
       "196                       0.5             35.1                11.3     38044   \n",
       "\n",
       "     ...  2020-06-30 2020-07-31 2020-08-31 2020-09-30 2020-10-31 2020-11-30  \\\n",
       "204  ...    610050.0   620039.0   625933.0   635620.0   642334.0   651535.0   \n",
       "292  ...    373420.0   372193.0   373802.0   374837.0   378439.0   383022.0   \n",
       "302  ...    123092.0   124284.0   124946.0   125626.0   126333.0   127362.0   \n",
       "466  ...    308028.0   309603.0   312416.0   315503.0   317725.0   320298.0   \n",
       "196  ...    285266.0   289313.0   293716.0   298225.0   303257.0   310904.0   \n",
       "\n",
       "    2020-12-31  2021-01-31  2021-02-28  2021-03-31  \n",
       "204   659118.0    669055.0    678379.0    692656.0  \n",
       "292   388464.0    391234.0    395910.0    401579.0  \n",
       "302   128396.0    128639.0    129205.0    129516.0  \n",
       "466   322478.0    324881.0    326969.0    329481.0  \n",
       "196   317833.0    320878.0    322430.0    326246.0  \n",
       "\n",
       "[5 rows x 320 columns]"
      ]
     },
     "execution_count": 26,
     "metadata": {},
     "output_type": "execute_result"
    }
   ],
   "source": [
    "blacktop = joint.sort_values(by = 'Native American',ascending = False).head()\n",
    "blacklow = joint.sort_values(by = 'Native American',ascending = True).head()\n",
    "blacktop.head()"
   ]
  },
  {
   "cell_type": "code",
   "execution_count": 27,
   "metadata": {},
   "outputs": [
    {
     "data": {
      "application/vnd.plotly.v1+json": {
       "config": {
        "plotlyServerURL": "https://plot.ly"
       },
       "data": [
        {
         "hovertemplate": "City=Crows Landing<br>date=%{x}<br>value=%{y}<extra></extra>",
         "legendgroup": "Crows Landing",
         "line": {
          "color": "#636efa",
          "dash": "solid"
         },
         "mode": "lines",
         "name": "Crows Landing",
         "orientation": "v",
         "showlegend": true,
         "type": "scatter",
         "x": [
          "2008-03-31",
          "2008-04-30",
          "2008-05-31",
          "2008-06-30",
          "2008-07-31",
          "2008-08-31",
          "2008-09-30",
          "2008-10-31",
          "2008-11-30",
          "2008-12-31",
          "2009-01-31",
          "2009-02-28",
          "2009-03-31",
          "2009-04-30",
          "2009-05-31",
          "2009-06-30",
          "2009-07-31",
          "2009-08-31",
          "2009-09-30",
          "2009-10-31",
          "2009-11-30",
          "2009-12-31",
          "2010-01-31",
          "2010-02-28",
          "2010-03-31",
          "2010-04-30",
          "2010-05-31",
          "2010-06-30",
          "2010-07-31",
          "2010-08-31",
          "2010-09-30",
          "2010-10-31",
          "2010-11-30",
          "2010-12-31",
          "2011-01-31",
          "2011-02-28",
          "2011-03-31",
          "2011-04-30",
          "2011-05-31",
          "2011-06-30",
          "2011-07-31",
          "2011-08-31",
          "2011-09-30",
          "2011-10-31",
          "2011-11-30",
          "2011-12-31",
          "2012-01-31",
          "2012-02-29",
          "2012-03-31",
          "2012-04-30",
          "2012-05-31",
          "2012-06-30",
          "2012-07-31",
          "2012-08-31",
          "2012-09-30",
          "2012-10-31",
          "2012-11-30",
          "2012-12-31",
          "2013-01-31",
          "2013-02-28",
          "2013-03-31",
          "2013-04-30",
          "2013-05-31",
          "2013-06-30",
          "2013-07-31",
          "2013-08-31",
          "2013-09-30",
          "2013-10-31",
          "2013-11-30",
          "2013-12-31",
          "2014-01-31",
          "2014-02-28",
          "2014-03-31",
          "2014-04-30",
          "2014-05-31",
          "2014-06-30",
          "2014-07-31",
          "2014-08-31",
          "2014-09-30",
          "2014-10-31",
          "2014-11-30",
          "2014-12-31",
          "2015-01-31",
          "2015-02-28",
          "2015-03-31",
          "2015-04-30",
          "2015-05-31",
          "2015-06-30",
          "2015-07-31",
          "2015-08-31",
          "2015-09-30",
          "2015-10-31",
          "2015-11-30",
          "2015-12-31",
          "2016-01-31",
          "2016-02-29",
          "2016-03-31",
          "2016-04-30",
          "2016-05-31",
          "2016-06-30",
          "2016-07-31",
          "2016-08-31",
          "2016-09-30",
          "2016-10-31",
          "2016-11-30",
          "2016-12-31",
          "2017-01-31",
          "2017-02-28",
          "2017-03-31",
          "2017-04-30",
          "2017-05-31",
          "2017-06-30",
          "2017-07-31",
          "2017-08-31",
          "2017-09-30",
          "2017-10-31",
          "2017-11-30",
          "2017-12-31",
          "2018-01-31",
          "2018-02-28",
          "2018-03-31",
          "2018-04-30",
          "2018-05-31",
          "2018-06-30",
          "2018-07-31",
          "2018-08-31",
          "2018-09-30",
          "2018-10-31",
          "2018-11-30",
          "2018-12-31",
          "2019-01-31",
          "2019-02-28",
          "2019-03-31",
          "2019-04-30",
          "2019-05-31",
          "2019-06-30",
          "2019-07-31",
          "2019-08-31",
          "2019-09-30",
          "2019-10-31",
          "2019-11-30",
          "2019-12-31",
          "2020-01-31",
          "2020-02-29",
          "2020-03-31",
          "2020-04-30",
          "2020-05-31",
          "2020-06-30",
          "2020-07-31",
          "2020-08-31",
          "2020-09-30",
          "2020-10-31",
          "2020-11-30",
          "2020-12-31",
          "2021-01-31",
          "2021-02-28",
          "2021-03-31"
         ],
         "xaxis": "x",
         "y": [
          263301,
          263263,
          261598,
          257434,
          251842,
          246781,
          245217,
          245089,
          245888,
          245320,
          245523,
          245713,
          245249,
          240792,
          236793,
          234666,
          235214,
          235125,
          231640,
          227545,
          222596,
          218593,
          212088,
          205741,
          201276,
          201245,
          201902,
          202430,
          202408,
          202431,
          201257,
          198404,
          195214,
          193249,
          194105,
          195481,
          195091,
          193970,
          191730,
          190174,
          187883,
          185970,
          184020,
          182658,
          182476,
          183725,
          185703,
          187474,
          190538,
          193199,
          196943,
          198494,
          198586,
          199968,
          204093,
          211262,
          216501,
          220010,
          222041,
          225694,
          230008,
          233989,
          238456,
          244693,
          253039,
          260390,
          266763,
          271567,
          278025,
          284501,
          290801,
          294692,
          297184,
          299511,
          301279,
          303896,
          307348,
          308665,
          310111,
          309001,
          310210,
          309376,
          310433,
          312989,
          317781,
          324384,
          330427,
          334629,
          338235,
          344093,
          349721,
          357002,
          361799,
          370636,
          376394,
          381968,
          384496,
          386717,
          388780,
          394655,
          404751,
          416592,
          426860,
          434660,
          441079,
          443260,
          447356,
          451809,
          458586,
          462858,
          468377,
          469115,
          465377,
          458644,
          455860,
          457772,
          463269,
          472223,
          477802,
          480787,
          483212,
          488878,
          496467,
          507189,
          512032,
          514605,
          513651,
          514944,
          518391,
          521131,
          529217,
          536408,
          541501,
          550403,
          551254,
          553435,
          554383,
          563688,
          570639,
          579491,
          583788,
          590921,
          593943,
          600806,
          604996,
          602423,
          605553,
          610050,
          620039,
          625933,
          635620,
          642334,
          651535,
          659118,
          669055,
          678379,
          692656
         ],
         "yaxis": "y"
        },
        {
         "hovertemplate": "City=Fish Camp<br>date=%{x}<br>value=%{y}<extra></extra>",
         "legendgroup": "Fish Camp",
         "line": {
          "color": "#EF553B",
          "dash": "solid"
         },
         "mode": "lines",
         "name": "Fish Camp",
         "orientation": "v",
         "showlegend": true,
         "type": "scatter",
         "x": [
          "2002-03-31",
          "2002-04-30",
          "2002-05-31",
          "2002-06-30",
          "2002-07-31",
          "2002-08-31",
          "2002-09-30",
          "2002-10-31",
          "2002-11-30",
          "2002-12-31",
          "2003-01-31",
          "2003-02-28",
          "2003-03-31",
          "2003-04-30",
          "2003-05-31",
          "2003-06-30",
          "2003-07-31",
          "2003-08-31",
          "2003-09-30",
          "2003-10-31",
          "2003-11-30",
          "2003-12-31",
          "2004-01-31",
          "2004-02-29",
          "2004-03-31",
          "2004-04-30",
          "2004-05-31",
          "2004-06-30",
          "2004-07-31",
          "2004-08-31",
          "2004-09-30",
          "2004-10-31",
          "2004-11-30",
          "2004-12-31",
          "2005-01-31",
          "2005-02-28",
          "2005-03-31",
          "2005-04-30",
          "2005-05-31",
          "2005-06-30",
          "2005-07-31",
          "2005-08-31",
          "2005-09-30",
          "2005-10-31",
          "2005-11-30",
          "2005-12-31",
          "2006-01-31",
          "2006-02-28",
          "2006-03-31",
          "2006-04-30",
          "2006-05-31",
          "2006-06-30",
          "2006-07-31",
          "2006-08-31",
          "2006-09-30",
          "2006-10-31",
          "2006-11-30",
          "2006-12-31",
          "2007-01-31",
          "2007-02-28",
          "2007-03-31",
          "2007-04-30",
          "2007-05-31",
          "2007-06-30",
          "2007-07-31",
          "2007-08-31",
          "2007-09-30",
          "2007-10-31",
          "2007-11-30",
          "2007-12-31",
          "2008-01-31",
          "2008-02-29",
          "2008-03-31",
          "2008-04-30",
          "2008-05-31",
          "2008-06-30",
          "2008-07-31",
          "2008-08-31",
          "2008-09-30",
          "2008-10-31",
          "2008-11-30",
          "2008-12-31",
          "2009-01-31",
          "2009-02-28",
          "2009-03-31",
          "2009-04-30",
          "2009-05-31",
          "2009-06-30",
          "2009-07-31",
          "2009-08-31",
          "2009-09-30",
          "2009-10-31",
          "2009-11-30",
          "2009-12-31",
          "2010-01-31",
          "2010-02-28",
          "2010-03-31",
          "2010-04-30",
          "2010-05-31",
          "2010-06-30",
          "2010-07-31",
          "2010-08-31",
          "2010-09-30",
          "2010-10-31",
          "2010-11-30",
          "2010-12-31",
          "2011-01-31",
          "2011-02-28",
          "2011-03-31",
          "2011-04-30",
          "2011-05-31",
          "2011-06-30",
          "2011-07-31",
          "2011-08-31",
          "2011-09-30",
          "2011-10-31",
          "2011-11-30",
          "2011-12-31",
          "2012-01-31",
          "2012-02-29",
          "2012-03-31",
          "2012-04-30",
          "2012-05-31",
          "2012-06-30",
          "2012-07-31",
          "2012-08-31",
          "2012-09-30",
          "2012-10-31",
          "2012-11-30",
          "2012-12-31",
          "2013-01-31",
          "2013-02-28",
          "2013-03-31",
          "2013-04-30",
          "2013-05-31",
          "2013-06-30",
          "2013-07-31",
          "2013-08-31",
          "2013-09-30",
          "2013-10-31",
          "2013-11-30",
          "2013-12-31",
          "2014-01-31",
          "2014-02-28",
          "2014-03-31",
          "2014-04-30",
          "2014-05-31",
          "2014-06-30",
          "2014-07-31",
          "2014-08-31",
          "2014-09-30",
          "2014-10-31",
          "2014-11-30",
          "2014-12-31",
          "2015-01-31",
          "2015-02-28",
          "2015-03-31",
          "2015-04-30",
          "2015-05-31",
          "2015-06-30",
          "2015-07-31",
          "2015-08-31",
          "2015-09-30",
          "2015-10-31",
          "2015-11-30",
          "2015-12-31",
          "2016-01-31",
          "2016-02-29",
          "2016-03-31",
          "2016-04-30",
          "2016-05-31",
          "2016-06-30",
          "2016-07-31",
          "2016-08-31",
          "2016-09-30",
          "2016-10-31",
          "2016-11-30",
          "2016-12-31",
          "2017-01-31",
          "2017-02-28",
          "2017-03-31",
          "2017-04-30",
          "2017-05-31",
          "2017-06-30",
          "2017-07-31",
          "2017-08-31",
          "2017-09-30",
          "2017-10-31",
          "2017-11-30",
          "2017-12-31",
          "2018-01-31",
          "2018-02-28",
          "2018-03-31",
          "2018-04-30",
          "2018-05-31",
          "2018-06-30",
          "2018-07-31",
          "2018-08-31",
          "2018-09-30",
          "2018-10-31",
          "2018-11-30",
          "2018-12-31",
          "2019-01-31",
          "2019-02-28",
          "2019-03-31",
          "2019-04-30",
          "2019-05-31",
          "2019-06-30",
          "2019-07-31",
          "2019-08-31",
          "2019-09-30",
          "2019-10-31",
          "2019-11-30",
          "2019-12-31",
          "2020-01-31",
          "2020-02-29",
          "2020-03-31",
          "2020-04-30",
          "2020-05-31",
          "2020-06-30",
          "2020-07-31",
          "2020-08-31",
          "2020-09-30",
          "2020-10-31",
          "2020-11-30",
          "2020-12-31",
          "2021-01-31",
          "2021-02-28",
          "2021-03-31"
         ],
         "xaxis": "x",
         "y": [
          235460,
          237499,
          238874,
          239752,
          239019,
          237973,
          239439,
          242660,
          248010,
          252422,
          256885,
          259597,
          262888,
          263918,
          264565,
          268313,
          274648,
          281704,
          285299,
          287999,
          288000,
          290124,
          290910,
          293732,
          296501,
          302040,
          308949,
          314198,
          319451,
          325521,
          331672,
          335567,
          338309,
          340385,
          345296,
          353641,
          360067,
          364797,
          367518,
          371662,
          376138,
          378086,
          379864,
          379671,
          381035,
          382517,
          385011,
          384276,
          386122,
          385787,
          386260,
          385279,
          384991,
          385717,
          385512,
          386193,
          386237,
          384865,
          382638,
          379187,
          376365,
          375048,
          372702,
          369752,
          364958,
          361582,
          359105,
          356470,
          353537,
          349931,
          344728,
          338842,
          330721,
          323103,
          316639,
          311430,
          307091,
          299525,
          293002,
          286268,
          281479,
          275763,
          272233,
          271318,
          271521,
          269903,
          266653,
          264172,
          262411,
          262461,
          260824,
          261617,
          260672,
          262074,
          261983,
          262189,
          263114,
          263887,
          265138,
          264276,
          262895,
          261122,
          259459,
          256239,
          254004,
          252683,
          251001,
          248230,
          244014,
          242337,
          241064,
          240257,
          238662,
          238828,
          239543,
          240574,
          240343,
          240424,
          241697,
          242614,
          243479,
          243656,
          245229,
          247987,
          251769,
          253306,
          256413,
          259509,
          262803,
          263726,
          266064,
          271713,
          278817,
          284965,
          288481,
          292796,
          296024,
          301435,
          304501,
          307146,
          312205,
          317478,
          320534,
          319591,
          318955,
          321085,
          326235,
          330142,
          335055,
          339006,
          343639,
          348977,
          352106,
          355522,
          357089,
          358286,
          359608,
          360272,
          360448,
          361027,
          363551,
          363999,
          363802,
          361453,
          360320,
          360363,
          363274,
          367665,
          369354,
          368348,
          366287,
          362765,
          356156,
          354031,
          355616,
          359163,
          360593,
          360969,
          361040,
          360638,
          361255,
          362367,
          363601,
          366001,
          370398,
          372264,
          370728,
          369664,
          370245,
          370684,
          369207,
          368948,
          370606,
          373769,
          375827,
          377625,
          379804,
          378865,
          376778,
          374503,
          375125,
          376582,
          379126,
          379637,
          379482,
          379967,
          384715,
          388542,
          389321,
          389237,
          392130,
          391931,
          388905,
          384919,
          385286,
          385143,
          384823,
          380744,
          376900,
          373420,
          372193,
          373802,
          374837,
          378439,
          383022,
          388464,
          391234,
          395910,
          401579
         ],
         "yaxis": "y"
        },
        {
         "hovertemplate": "City=Fort Bidwell<br>date=%{x}<br>value=%{y}<extra></extra>",
         "legendgroup": "Fort Bidwell",
         "line": {
          "color": "#00cc96",
          "dash": "solid"
         },
         "mode": "lines",
         "name": "Fort Bidwell",
         "orientation": "v",
         "showlegend": true,
         "type": "scatter",
         "x": [
          "2011-03-31",
          "2011-04-30",
          "2011-05-31",
          "2011-06-30",
          "2011-07-31",
          "2011-08-31",
          "2011-09-30",
          "2011-10-31",
          "2011-11-30",
          "2011-12-31",
          "2012-01-31",
          "2012-02-29",
          "2012-03-31",
          "2012-04-30",
          "2012-05-31",
          "2012-06-30",
          "2012-07-31",
          "2012-08-31",
          "2012-09-30",
          "2012-10-31",
          "2012-11-30",
          "2012-12-31",
          "2013-01-31",
          "2013-02-28",
          "2013-03-31",
          "2013-04-30",
          "2013-05-31",
          "2013-06-30",
          "2013-07-31",
          "2013-08-31",
          "2013-09-30",
          "2013-10-31",
          "2013-11-30",
          "2013-12-31",
          "2014-01-31",
          "2014-02-28",
          "2014-03-31",
          "2014-04-30",
          "2014-05-31",
          "2014-06-30",
          "2014-07-31",
          "2014-08-31",
          "2014-09-30",
          "2014-10-31",
          "2014-11-30",
          "2014-12-31",
          "2015-01-31",
          "2015-02-28",
          "2015-03-31",
          "2015-04-30",
          "2015-05-31",
          "2015-06-30",
          "2015-07-31",
          "2015-08-31",
          "2015-09-30",
          "2015-10-31",
          "2015-11-30",
          "2015-12-31",
          "2016-01-31",
          "2016-02-29",
          "2016-03-31",
          "2016-04-30",
          "2016-05-31",
          "2016-06-30",
          "2016-07-31",
          "2016-08-31",
          "2016-09-30",
          "2016-10-31",
          "2016-11-30",
          "2016-12-31",
          "2017-01-31",
          "2017-02-28",
          "2017-03-31",
          "2017-04-30",
          "2017-05-31",
          "2017-06-30",
          "2017-07-31",
          "2017-08-31",
          "2017-09-30",
          "2017-10-31",
          "2017-11-30",
          "2017-12-31",
          "2018-01-31",
          "2018-02-28",
          "2018-03-31",
          "2018-04-30",
          "2018-05-31",
          "2018-06-30",
          "2018-07-31",
          "2018-08-31",
          "2018-09-30",
          "2018-10-31",
          "2018-11-30",
          "2018-12-31",
          "2019-01-31",
          "2019-02-28",
          "2019-03-31",
          "2019-04-30",
          "2019-05-31",
          "2019-06-30",
          "2019-07-31",
          "2019-08-31",
          "2019-09-30",
          "2019-10-31",
          "2019-11-30",
          "2019-12-31",
          "2020-01-31",
          "2020-02-29",
          "2020-03-31",
          "2020-04-30",
          "2020-05-31",
          "2020-06-30",
          "2020-07-31",
          "2020-08-31",
          "2020-09-30",
          "2020-10-31",
          "2020-11-30",
          "2020-12-31",
          "2021-01-31",
          "2021-02-28",
          "2021-03-31"
         ],
         "xaxis": "x",
         "y": [
          66689,
          66783,
          67053,
          67228,
          67128,
          66860,
          66714,
          66890,
          67006,
          66736,
          66376,
          66114,
          66383,
          66536,
          66429,
          66485,
          67083,
          67910,
          68638,
          69322,
          70125,
          71586,
          72766,
          74005,
          74739,
          75755,
          76663,
          77625,
          78531,
          79545,
          80628,
          81086,
          81633,
          82052,
          83477,
          84859,
          85905,
          86892,
          88230,
          89688,
          90795,
          92004,
          93173,
          94479,
          95749,
          97134,
          98181,
          98648,
          99246,
          99806,
          99884,
          99599,
          99756,
          100212,
          100954,
          101565,
          102069,
          102498,
          102670,
          103281,
          103860,
          104594,
          105545,
          106512,
          107538,
          108087,
          108789,
          109321,
          110009,
          110733,
          111564,
          112429,
          113229,
          113759,
          114359,
          115134,
          115885,
          116605,
          117110,
          117849,
          118847,
          119629,
          120545,
          121019,
          121576,
          122043,
          122173,
          122148,
          121271,
          121185,
          120951,
          121307,
          120866,
          120552,
          120139,
          120149,
          120515,
          120883,
          121096,
          121172,
          121017,
          121074,
          121213,
          120880,
          120550,
          120201,
          120925,
          121125,
          121426,
          121637,
          122494,
          123092,
          124284,
          124946,
          125626,
          126333,
          127362,
          128396,
          128639,
          129205,
          129516
         ],
         "yaxis": "y"
        },
        {
         "hovertemplate": "City=Lee Vining<br>date=%{x}<br>value=%{y}<extra></extra>",
         "legendgroup": "Lee Vining",
         "line": {
          "color": "#ab63fa",
          "dash": "solid"
         },
         "mode": "lines",
         "name": "Lee Vining",
         "orientation": "v",
         "showlegend": true,
         "type": "scatter",
         "x": [
          "2003-04-30",
          "2003-05-31",
          "2003-06-30",
          "2003-07-31",
          "2003-08-31",
          "2003-09-30",
          "2003-10-31",
          "2003-11-30",
          "2003-12-31",
          "2004-01-31",
          "2004-02-29",
          "2004-03-31",
          "2004-04-30",
          "2004-05-31",
          "2004-06-30",
          "2004-07-31",
          "2004-08-31",
          "2004-09-30",
          "2004-10-31",
          "2004-11-30",
          "2004-12-31",
          "2005-01-31",
          "2005-02-28",
          "2005-03-31",
          "2005-04-30",
          "2005-05-31",
          "2005-06-30",
          "2005-07-31",
          "2005-08-31",
          "2005-09-30",
          "2005-10-31",
          "2005-11-30",
          "2005-12-31",
          "2006-01-31",
          "2006-02-28",
          "2006-03-31",
          "2006-04-30",
          "2006-05-31",
          "2006-06-30",
          "2006-07-31",
          "2006-08-31",
          "2006-09-30",
          "2006-10-31",
          "2006-11-30",
          "2006-12-31",
          "2007-01-31",
          "2007-02-28",
          "2007-03-31",
          "2007-04-30",
          "2007-05-31",
          "2007-06-30",
          "2007-07-31",
          "2007-08-31",
          "2007-09-30",
          "2007-10-31",
          "2007-11-30",
          "2007-12-31",
          "2008-01-31",
          "2008-02-29",
          "2008-03-31",
          "2008-04-30",
          "2008-05-31",
          "2008-06-30",
          "2008-07-31",
          "2008-08-31",
          "2008-09-30",
          "2008-10-31",
          "2008-11-30",
          "2008-12-31",
          "2009-01-31",
          "2009-02-28",
          "2009-03-31",
          "2009-04-30",
          "2009-05-31",
          "2009-06-30",
          "2009-07-31",
          "2009-08-31",
          "2009-09-30",
          "2009-10-31",
          "2009-11-30",
          "2009-12-31",
          "2010-01-31",
          "2010-02-28",
          "2010-03-31",
          "2010-04-30",
          "2010-05-31",
          "2010-06-30",
          "2010-07-31",
          "2010-08-31",
          "2010-09-30",
          "2010-10-31",
          "2010-11-30",
          "2010-12-31",
          "2011-01-31",
          "2011-02-28",
          "2011-03-31",
          "2011-04-30",
          "2011-05-31",
          "2011-06-30",
          "2011-07-31",
          "2011-08-31",
          "2011-09-30",
          "2011-10-31",
          "2011-11-30",
          "2011-12-31",
          "2012-01-31",
          "2012-02-29",
          "2012-03-31",
          "2012-04-30",
          "2012-05-31",
          "2012-06-30",
          "2012-07-31",
          "2012-08-31",
          "2012-09-30",
          "2012-10-31",
          "2012-11-30",
          "2012-12-31",
          "2013-01-31",
          "2013-02-28",
          "2013-03-31",
          "2013-04-30",
          "2013-05-31",
          "2013-06-30",
          "2013-07-31",
          "2013-08-31",
          "2013-09-30",
          "2013-10-31",
          "2013-11-30",
          "2013-12-31",
          "2014-01-31",
          "2014-02-28",
          "2014-03-31",
          "2014-04-30",
          "2014-05-31",
          "2014-06-30",
          "2014-07-31",
          "2014-08-31",
          "2014-09-30",
          "2014-10-31",
          "2014-11-30",
          "2014-12-31",
          "2015-01-31",
          "2015-02-28",
          "2015-03-31",
          "2015-04-30",
          "2015-05-31",
          "2015-06-30",
          "2015-07-31",
          "2015-08-31",
          "2015-09-30",
          "2015-10-31",
          "2015-11-30",
          "2015-12-31",
          "2016-01-31",
          "2016-02-29",
          "2016-03-31",
          "2016-04-30",
          "2016-05-31",
          "2016-06-30",
          "2016-07-31",
          "2016-08-31",
          "2016-09-30",
          "2016-10-31",
          "2016-11-30",
          "2016-12-31",
          "2017-01-31",
          "2017-02-28",
          "2017-03-31",
          "2017-04-30",
          "2017-05-31",
          "2017-06-30",
          "2017-07-31",
          "2017-08-31",
          "2017-09-30",
          "2017-10-31",
          "2017-11-30",
          "2017-12-31",
          "2018-01-31",
          "2018-02-28",
          "2018-03-31",
          "2018-04-30",
          "2018-05-31",
          "2018-06-30",
          "2018-07-31",
          "2018-08-31",
          "2018-09-30",
          "2018-10-31",
          "2018-11-30",
          "2018-12-31",
          "2019-01-31",
          "2019-02-28",
          "2019-03-31",
          "2019-04-30",
          "2019-05-31",
          "2019-06-30",
          "2019-07-31",
          "2019-08-31",
          "2019-09-30",
          "2019-10-31",
          "2019-11-30",
          "2019-12-31",
          "2020-01-31",
          "2020-02-29",
          "2020-03-31",
          "2020-04-30",
          "2020-05-31",
          "2020-06-30",
          "2020-07-31",
          "2020-08-31",
          "2020-09-30",
          "2020-10-31",
          "2020-11-30",
          "2020-12-31",
          "2021-01-31",
          "2021-02-28",
          "2021-03-31"
         ],
         "xaxis": "x",
         "y": [
          255401,
          254733,
          254072,
          252715,
          251385,
          250843,
          251787,
          253432,
          253656,
          251984,
          249923,
          249759,
          251922,
          255618,
          259855,
          264323,
          269102,
          273437,
          276320,
          280295,
          286377,
          295875,
          306102,
          314917,
          322152,
          326644,
          330678,
          334347,
          339109,
          344599,
          350006,
          352255,
          355899,
          359438,
          363985,
          366143,
          364629,
          363465,
          362275,
          362771,
          362917,
          361836,
          361170,
          360672,
          359027,
          356957,
          354132,
          351589,
          349225,
          345850,
          341987,
          336923,
          332513,
          328571,
          324339,
          318913,
          312730,
          306671,
          301199,
          295977,
          290351,
          284814,
          278476,
          273131,
          267378,
          262090,
          256183,
          251417,
          247719,
          245085,
          243507,
          242319,
          241200,
          239179,
          236942,
          235257,
          233977,
          232859,
          231010,
          228816,
          227431,
          225542,
          222692,
          219404,
          216537,
          215570,
          215466,
          214068,
          210749,
          206312,
          204906,
          204462,
          204717,
          202995,
          201653,
          199515,
          199244,
          197948,
          197233,
          196267,
          198814,
          202244,
          204230,
          205529,
          204034,
          205319,
          205769,
          207396,
          207268,
          208189,
          210407,
          213015,
          214565,
          216003,
          216988,
          216960,
          217905,
          218538,
          219961,
          221789,
          223814,
          226424,
          227983,
          230905,
          231654,
          233195,
          234250,
          236868,
          239573,
          242442,
          245642,
          248292,
          250555,
          252033,
          251739,
          249831,
          249175,
          249311,
          251294,
          252599,
          253364,
          253450,
          254224,
          254553,
          255662,
          255809,
          257527,
          259444,
          261384,
          261019,
          259490,
          259170,
          260492,
          261745,
          261522,
          262877,
          264148,
          265029,
          265500,
          268063,
          270555,
          272922,
          274501,
          276341,
          277737,
          279280,
          280709,
          281022,
          280682,
          281734,
          283041,
          282244,
          282161,
          283595,
          286668,
          288291,
          289380,
          290561,
          292916,
          295338,
          296928,
          298404,
          299655,
          301802,
          303120,
          304192,
          304517,
          304992,
          306024,
          306069,
          306027,
          305200,
          306707,
          308075,
          309953,
          309692,
          308230,
          306225,
          305557,
          304884,
          304695,
          305026,
          305786,
          306840,
          307484,
          308085,
          308028,
          309603,
          312416,
          315503,
          317725,
          320298,
          322478,
          324881,
          326969,
          329481
         ],
         "yaxis": "y"
        },
        {
         "hovertemplate": "City=Covelo<br>date=%{x}<br>value=%{y}<extra></extra>",
         "legendgroup": "Covelo",
         "line": {
          "color": "#FFA15A",
          "dash": "solid"
         },
         "mode": "lines",
         "name": "Covelo",
         "orientation": "v",
         "showlegend": true,
         "type": "scatter",
         "x": [
          "2012-02-29",
          "2012-03-31",
          "2012-04-30",
          "2012-05-31",
          "2012-06-30",
          "2012-07-31",
          "2012-08-31",
          "2012-09-30",
          "2012-10-31",
          "2012-11-30",
          "2012-12-31",
          "2013-01-31",
          "2013-02-28",
          "2013-03-31",
          "2013-04-30",
          "2013-05-31",
          "2013-06-30",
          "2013-07-31",
          "2013-08-31",
          "2013-09-30",
          "2013-10-31",
          "2013-11-30",
          "2013-12-31",
          "2014-01-31",
          "2014-02-28",
          "2014-03-31",
          "2014-04-30",
          "2014-05-31",
          "2014-06-30",
          "2014-07-31",
          "2014-08-31",
          "2014-09-30",
          "2014-10-31",
          "2014-11-30",
          "2014-12-31",
          "2015-01-31",
          "2015-02-28",
          "2015-03-31",
          "2015-04-30",
          "2015-05-31",
          "2015-06-30",
          "2015-07-31",
          "2015-08-31",
          "2015-09-30",
          "2015-10-31",
          "2015-11-30",
          "2015-12-31",
          "2016-01-31",
          "2016-02-29",
          "2016-03-31",
          "2016-04-30",
          "2016-05-31",
          "2016-06-30",
          "2016-07-31",
          "2016-08-31",
          "2016-09-30",
          "2016-10-31",
          "2016-11-30",
          "2016-12-31",
          "2017-01-31",
          "2017-02-28",
          "2017-03-31",
          "2017-04-30",
          "2017-05-31",
          "2017-06-30",
          "2017-07-31",
          "2017-08-31",
          "2017-09-30",
          "2017-10-31",
          "2017-11-30",
          "2017-12-31",
          "2018-01-31",
          "2018-02-28",
          "2018-03-31",
          "2018-04-30",
          "2018-05-31",
          "2018-06-30",
          "2018-07-31",
          "2018-08-31",
          "2018-09-30",
          "2018-10-31",
          "2018-11-30",
          "2018-12-31",
          "2019-01-31",
          "2019-02-28",
          "2019-03-31",
          "2019-04-30",
          "2019-05-31",
          "2019-06-30",
          "2019-07-31",
          "2019-08-31",
          "2019-09-30",
          "2019-10-31",
          "2019-11-30",
          "2019-12-31",
          "2020-01-31",
          "2020-02-29",
          "2020-03-31",
          "2020-04-30",
          "2020-05-31",
          "2020-06-30",
          "2020-07-31",
          "2020-08-31",
          "2020-09-30",
          "2020-10-31",
          "2020-11-30",
          "2020-12-31",
          "2021-01-31",
          "2021-02-28",
          "2021-03-31"
         ],
         "xaxis": "x",
         "y": [
          233716,
          231604,
          231291,
          229268,
          227407,
          226597,
          226911,
          229585,
          230729,
          231084,
          229059,
          226698,
          224582,
          225020,
          225985,
          229050,
          231413,
          231836,
          230822,
          228143,
          226474,
          224980,
          226419,
          229711,
          233563,
          236316,
          236105,
          234385,
          234126,
          235882,
          238458,
          239026,
          241889,
          246308,
          251298,
          253375,
          254554,
          253735,
          254845,
          254065,
          253093,
          250338,
          247410,
          245304,
          244151,
          244000,
          244775,
          247294,
          249233,
          252544,
          253074,
          256134,
          260313,
          266992,
          272877,
          277905,
          280482,
          284349,
          285899,
          289719,
          290757,
          294036,
          297886,
          302394,
          304922,
          306486,
          309585,
          312298,
          317145,
          320457,
          324540,
          322184,
          323099,
          322581,
          324590,
          323223,
          320495,
          318211,
          314522,
          314176,
          310181,
          306445,
          302303,
          303419,
          304109,
          302073,
          298549,
          296880,
          296783,
          293796,
          291098,
          286996,
          284590,
          279792,
          276850,
          277688,
          280748,
          283843,
          283938,
          283519,
          285266,
          289313,
          293716,
          298225,
          303257,
          310904,
          317833,
          320878,
          322430,
          326246
         ],
         "yaxis": "y"
        }
       ],
       "layout": {
        "font": {
         "color": "gray",
         "family": "Courier New"
        },
        "legend": {
         "title": {
          "text": "City"
         },
         "tracegroupgap": 0
        },
        "margin": {
         "t": 60
        },
        "template": {
         "data": {
          "bar": [
           {
            "error_x": {
             "color": "#2a3f5f"
            },
            "error_y": {
             "color": "#2a3f5f"
            },
            "marker": {
             "line": {
              "color": "#E5ECF6",
              "width": 0.5
             }
            },
            "type": "bar"
           }
          ],
          "barpolar": [
           {
            "marker": {
             "line": {
              "color": "#E5ECF6",
              "width": 0.5
             }
            },
            "type": "barpolar"
           }
          ],
          "carpet": [
           {
            "aaxis": {
             "endlinecolor": "#2a3f5f",
             "gridcolor": "white",
             "linecolor": "white",
             "minorgridcolor": "white",
             "startlinecolor": "#2a3f5f"
            },
            "baxis": {
             "endlinecolor": "#2a3f5f",
             "gridcolor": "white",
             "linecolor": "white",
             "minorgridcolor": "white",
             "startlinecolor": "#2a3f5f"
            },
            "type": "carpet"
           }
          ],
          "choropleth": [
           {
            "colorbar": {
             "outlinewidth": 0,
             "ticks": ""
            },
            "type": "choropleth"
           }
          ],
          "contour": [
           {
            "colorbar": {
             "outlinewidth": 0,
             "ticks": ""
            },
            "colorscale": [
             [
              0,
              "#0d0887"
             ],
             [
              0.1111111111111111,
              "#46039f"
             ],
             [
              0.2222222222222222,
              "#7201a8"
             ],
             [
              0.3333333333333333,
              "#9c179e"
             ],
             [
              0.4444444444444444,
              "#bd3786"
             ],
             [
              0.5555555555555556,
              "#d8576b"
             ],
             [
              0.6666666666666666,
              "#ed7953"
             ],
             [
              0.7777777777777778,
              "#fb9f3a"
             ],
             [
              0.8888888888888888,
              "#fdca26"
             ],
             [
              1,
              "#f0f921"
             ]
            ],
            "type": "contour"
           }
          ],
          "contourcarpet": [
           {
            "colorbar": {
             "outlinewidth": 0,
             "ticks": ""
            },
            "type": "contourcarpet"
           }
          ],
          "heatmap": [
           {
            "colorbar": {
             "outlinewidth": 0,
             "ticks": ""
            },
            "colorscale": [
             [
              0,
              "#0d0887"
             ],
             [
              0.1111111111111111,
              "#46039f"
             ],
             [
              0.2222222222222222,
              "#7201a8"
             ],
             [
              0.3333333333333333,
              "#9c179e"
             ],
             [
              0.4444444444444444,
              "#bd3786"
             ],
             [
              0.5555555555555556,
              "#d8576b"
             ],
             [
              0.6666666666666666,
              "#ed7953"
             ],
             [
              0.7777777777777778,
              "#fb9f3a"
             ],
             [
              0.8888888888888888,
              "#fdca26"
             ],
             [
              1,
              "#f0f921"
             ]
            ],
            "type": "heatmap"
           }
          ],
          "heatmapgl": [
           {
            "colorbar": {
             "outlinewidth": 0,
             "ticks": ""
            },
            "colorscale": [
             [
              0,
              "#0d0887"
             ],
             [
              0.1111111111111111,
              "#46039f"
             ],
             [
              0.2222222222222222,
              "#7201a8"
             ],
             [
              0.3333333333333333,
              "#9c179e"
             ],
             [
              0.4444444444444444,
              "#bd3786"
             ],
             [
              0.5555555555555556,
              "#d8576b"
             ],
             [
              0.6666666666666666,
              "#ed7953"
             ],
             [
              0.7777777777777778,
              "#fb9f3a"
             ],
             [
              0.8888888888888888,
              "#fdca26"
             ],
             [
              1,
              "#f0f921"
             ]
            ],
            "type": "heatmapgl"
           }
          ],
          "histogram": [
           {
            "marker": {
             "colorbar": {
              "outlinewidth": 0,
              "ticks": ""
             }
            },
            "type": "histogram"
           }
          ],
          "histogram2d": [
           {
            "colorbar": {
             "outlinewidth": 0,
             "ticks": ""
            },
            "colorscale": [
             [
              0,
              "#0d0887"
             ],
             [
              0.1111111111111111,
              "#46039f"
             ],
             [
              0.2222222222222222,
              "#7201a8"
             ],
             [
              0.3333333333333333,
              "#9c179e"
             ],
             [
              0.4444444444444444,
              "#bd3786"
             ],
             [
              0.5555555555555556,
              "#d8576b"
             ],
             [
              0.6666666666666666,
              "#ed7953"
             ],
             [
              0.7777777777777778,
              "#fb9f3a"
             ],
             [
              0.8888888888888888,
              "#fdca26"
             ],
             [
              1,
              "#f0f921"
             ]
            ],
            "type": "histogram2d"
           }
          ],
          "histogram2dcontour": [
           {
            "colorbar": {
             "outlinewidth": 0,
             "ticks": ""
            },
            "colorscale": [
             [
              0,
              "#0d0887"
             ],
             [
              0.1111111111111111,
              "#46039f"
             ],
             [
              0.2222222222222222,
              "#7201a8"
             ],
             [
              0.3333333333333333,
              "#9c179e"
             ],
             [
              0.4444444444444444,
              "#bd3786"
             ],
             [
              0.5555555555555556,
              "#d8576b"
             ],
             [
              0.6666666666666666,
              "#ed7953"
             ],
             [
              0.7777777777777778,
              "#fb9f3a"
             ],
             [
              0.8888888888888888,
              "#fdca26"
             ],
             [
              1,
              "#f0f921"
             ]
            ],
            "type": "histogram2dcontour"
           }
          ],
          "mesh3d": [
           {
            "colorbar": {
             "outlinewidth": 0,
             "ticks": ""
            },
            "type": "mesh3d"
           }
          ],
          "parcoords": [
           {
            "line": {
             "colorbar": {
              "outlinewidth": 0,
              "ticks": ""
             }
            },
            "type": "parcoords"
           }
          ],
          "pie": [
           {
            "automargin": true,
            "type": "pie"
           }
          ],
          "scatter": [
           {
            "marker": {
             "colorbar": {
              "outlinewidth": 0,
              "ticks": ""
             }
            },
            "type": "scatter"
           }
          ],
          "scatter3d": [
           {
            "line": {
             "colorbar": {
              "outlinewidth": 0,
              "ticks": ""
             }
            },
            "marker": {
             "colorbar": {
              "outlinewidth": 0,
              "ticks": ""
             }
            },
            "type": "scatter3d"
           }
          ],
          "scattercarpet": [
           {
            "marker": {
             "colorbar": {
              "outlinewidth": 0,
              "ticks": ""
             }
            },
            "type": "scattercarpet"
           }
          ],
          "scattergeo": [
           {
            "marker": {
             "colorbar": {
              "outlinewidth": 0,
              "ticks": ""
             }
            },
            "type": "scattergeo"
           }
          ],
          "scattergl": [
           {
            "marker": {
             "colorbar": {
              "outlinewidth": 0,
              "ticks": ""
             }
            },
            "type": "scattergl"
           }
          ],
          "scattermapbox": [
           {
            "marker": {
             "colorbar": {
              "outlinewidth": 0,
              "ticks": ""
             }
            },
            "type": "scattermapbox"
           }
          ],
          "scatterpolar": [
           {
            "marker": {
             "colorbar": {
              "outlinewidth": 0,
              "ticks": ""
             }
            },
            "type": "scatterpolar"
           }
          ],
          "scatterpolargl": [
           {
            "marker": {
             "colorbar": {
              "outlinewidth": 0,
              "ticks": ""
             }
            },
            "type": "scatterpolargl"
           }
          ],
          "scatterternary": [
           {
            "marker": {
             "colorbar": {
              "outlinewidth": 0,
              "ticks": ""
             }
            },
            "type": "scatterternary"
           }
          ],
          "surface": [
           {
            "colorbar": {
             "outlinewidth": 0,
             "ticks": ""
            },
            "colorscale": [
             [
              0,
              "#0d0887"
             ],
             [
              0.1111111111111111,
              "#46039f"
             ],
             [
              0.2222222222222222,
              "#7201a8"
             ],
             [
              0.3333333333333333,
              "#9c179e"
             ],
             [
              0.4444444444444444,
              "#bd3786"
             ],
             [
              0.5555555555555556,
              "#d8576b"
             ],
             [
              0.6666666666666666,
              "#ed7953"
             ],
             [
              0.7777777777777778,
              "#fb9f3a"
             ],
             [
              0.8888888888888888,
              "#fdca26"
             ],
             [
              1,
              "#f0f921"
             ]
            ],
            "type": "surface"
           }
          ],
          "table": [
           {
            "cells": {
             "fill": {
              "color": "#EBF0F8"
             },
             "line": {
              "color": "white"
             }
            },
            "header": {
             "fill": {
              "color": "#C8D4E3"
             },
             "line": {
              "color": "white"
             }
            },
            "type": "table"
           }
          ]
         },
         "layout": {
          "annotationdefaults": {
           "arrowcolor": "#2a3f5f",
           "arrowhead": 0,
           "arrowwidth": 1
          },
          "autotypenumbers": "strict",
          "coloraxis": {
           "colorbar": {
            "outlinewidth": 0,
            "ticks": ""
           }
          },
          "colorscale": {
           "diverging": [
            [
             0,
             "#8e0152"
            ],
            [
             0.1,
             "#c51b7d"
            ],
            [
             0.2,
             "#de77ae"
            ],
            [
             0.3,
             "#f1b6da"
            ],
            [
             0.4,
             "#fde0ef"
            ],
            [
             0.5,
             "#f7f7f7"
            ],
            [
             0.6,
             "#e6f5d0"
            ],
            [
             0.7,
             "#b8e186"
            ],
            [
             0.8,
             "#7fbc41"
            ],
            [
             0.9,
             "#4d9221"
            ],
            [
             1,
             "#276419"
            ]
           ],
           "sequential": [
            [
             0,
             "#0d0887"
            ],
            [
             0.1111111111111111,
             "#46039f"
            ],
            [
             0.2222222222222222,
             "#7201a8"
            ],
            [
             0.3333333333333333,
             "#9c179e"
            ],
            [
             0.4444444444444444,
             "#bd3786"
            ],
            [
             0.5555555555555556,
             "#d8576b"
            ],
            [
             0.6666666666666666,
             "#ed7953"
            ],
            [
             0.7777777777777778,
             "#fb9f3a"
            ],
            [
             0.8888888888888888,
             "#fdca26"
            ],
            [
             1,
             "#f0f921"
            ]
           ],
           "sequentialminus": [
            [
             0,
             "#0d0887"
            ],
            [
             0.1111111111111111,
             "#46039f"
            ],
            [
             0.2222222222222222,
             "#7201a8"
            ],
            [
             0.3333333333333333,
             "#9c179e"
            ],
            [
             0.4444444444444444,
             "#bd3786"
            ],
            [
             0.5555555555555556,
             "#d8576b"
            ],
            [
             0.6666666666666666,
             "#ed7953"
            ],
            [
             0.7777777777777778,
             "#fb9f3a"
            ],
            [
             0.8888888888888888,
             "#fdca26"
            ],
            [
             1,
             "#f0f921"
            ]
           ]
          },
          "colorway": [
           "#636efa",
           "#EF553B",
           "#00cc96",
           "#ab63fa",
           "#FFA15A",
           "#19d3f3",
           "#FF6692",
           "#B6E880",
           "#FF97FF",
           "#FECB52"
          ],
          "font": {
           "color": "#2a3f5f"
          },
          "geo": {
           "bgcolor": "white",
           "lakecolor": "white",
           "landcolor": "#E5ECF6",
           "showlakes": true,
           "showland": true,
           "subunitcolor": "white"
          },
          "hoverlabel": {
           "align": "left"
          },
          "hovermode": "closest",
          "mapbox": {
           "style": "light"
          },
          "paper_bgcolor": "white",
          "plot_bgcolor": "#E5ECF6",
          "polar": {
           "angularaxis": {
            "gridcolor": "white",
            "linecolor": "white",
            "ticks": ""
           },
           "bgcolor": "#E5ECF6",
           "radialaxis": {
            "gridcolor": "white",
            "linecolor": "white",
            "ticks": ""
           }
          },
          "scene": {
           "xaxis": {
            "backgroundcolor": "#E5ECF6",
            "gridcolor": "white",
            "gridwidth": 2,
            "linecolor": "white",
            "showbackground": true,
            "ticks": "",
            "zerolinecolor": "white"
           },
           "yaxis": {
            "backgroundcolor": "#E5ECF6",
            "gridcolor": "white",
            "gridwidth": 2,
            "linecolor": "white",
            "showbackground": true,
            "ticks": "",
            "zerolinecolor": "white"
           },
           "zaxis": {
            "backgroundcolor": "#E5ECF6",
            "gridcolor": "white",
            "gridwidth": 2,
            "linecolor": "white",
            "showbackground": true,
            "ticks": "",
            "zerolinecolor": "white"
           }
          },
          "shapedefaults": {
           "line": {
            "color": "#2a3f5f"
           }
          },
          "ternary": {
           "aaxis": {
            "gridcolor": "white",
            "linecolor": "white",
            "ticks": ""
           },
           "baxis": {
            "gridcolor": "white",
            "linecolor": "white",
            "ticks": ""
           },
           "bgcolor": "#E5ECF6",
           "caxis": {
            "gridcolor": "white",
            "linecolor": "white",
            "ticks": ""
           }
          },
          "title": {
           "x": 0.05
          },
          "xaxis": {
           "automargin": true,
           "gridcolor": "white",
           "linecolor": "white",
           "ticks": "",
           "title": {
            "standoff": 15
           },
           "zerolinecolor": "white",
           "zerolinewidth": 2
          },
          "yaxis": {
           "automargin": true,
           "gridcolor": "white",
           "linecolor": "white",
           "ticks": "",
           "title": {
            "standoff": 15
           },
           "zerolinecolor": "white",
           "zerolinewidth": 2
          }
         }
        },
        "title": {
         "font": {
          "color": "Purple",
          "family": "Times New Roman"
         },
         "text": "Housing Prices Change for Top 5 Native American popular areas"
        },
        "xaxis": {
         "anchor": "y",
         "domain": [
          0,
          1
         ],
         "title": {
          "text": "Date"
         }
        },
        "yaxis": {
         "anchor": "x",
         "domain": [
          0,
          1
         ],
         "title": {
          "text": "Housing Prices"
         }
        }
       }
      },
      "text/html": [
       "<div>                            <div id=\"81915f34-2ade-4121-b2f3-1aba336432d2\" class=\"plotly-graph-div\" style=\"height:525px; width:100%;\"></div>            <script type=\"text/javascript\">                require([\"plotly\"], function(Plotly) {                    window.PLOTLYENV=window.PLOTLYENV || {};                                    if (document.getElementById(\"81915f34-2ade-4121-b2f3-1aba336432d2\")) {                    Plotly.newPlot(                        \"81915f34-2ade-4121-b2f3-1aba336432d2\",                        [{\"hovertemplate\": \"City=Crows Landing<br>date=%{x}<br>value=%{y}<extra></extra>\", \"legendgroup\": \"Crows Landing\", \"line\": {\"color\": \"#636efa\", \"dash\": \"solid\"}, \"mode\": \"lines\", \"name\": \"Crows Landing\", \"orientation\": \"v\", \"showlegend\": true, \"type\": \"scatter\", \"x\": [\"2008-03-31\", \"2008-04-30\", \"2008-05-31\", \"2008-06-30\", \"2008-07-31\", \"2008-08-31\", \"2008-09-30\", \"2008-10-31\", \"2008-11-30\", \"2008-12-31\", \"2009-01-31\", \"2009-02-28\", \"2009-03-31\", \"2009-04-30\", \"2009-05-31\", \"2009-06-30\", \"2009-07-31\", \"2009-08-31\", \"2009-09-30\", \"2009-10-31\", \"2009-11-30\", \"2009-12-31\", \"2010-01-31\", \"2010-02-28\", \"2010-03-31\", \"2010-04-30\", \"2010-05-31\", \"2010-06-30\", \"2010-07-31\", \"2010-08-31\", \"2010-09-30\", \"2010-10-31\", \"2010-11-30\", \"2010-12-31\", \"2011-01-31\", \"2011-02-28\", \"2011-03-31\", \"2011-04-30\", \"2011-05-31\", \"2011-06-30\", \"2011-07-31\", \"2011-08-31\", \"2011-09-30\", \"2011-10-31\", \"2011-11-30\", \"2011-12-31\", \"2012-01-31\", \"2012-02-29\", \"2012-03-31\", \"2012-04-30\", \"2012-05-31\", \"2012-06-30\", \"2012-07-31\", \"2012-08-31\", \"2012-09-30\", \"2012-10-31\", \"2012-11-30\", \"2012-12-31\", \"2013-01-31\", \"2013-02-28\", \"2013-03-31\", \"2013-04-30\", \"2013-05-31\", \"2013-06-30\", \"2013-07-31\", \"2013-08-31\", \"2013-09-30\", \"2013-10-31\", \"2013-11-30\", \"2013-12-31\", \"2014-01-31\", \"2014-02-28\", \"2014-03-31\", \"2014-04-30\", \"2014-05-31\", \"2014-06-30\", \"2014-07-31\", \"2014-08-31\", \"2014-09-30\", \"2014-10-31\", \"2014-11-30\", \"2014-12-31\", \"2015-01-31\", \"2015-02-28\", \"2015-03-31\", \"2015-04-30\", \"2015-05-31\", \"2015-06-30\", \"2015-07-31\", \"2015-08-31\", \"2015-09-30\", \"2015-10-31\", \"2015-11-30\", \"2015-12-31\", \"2016-01-31\", \"2016-02-29\", \"2016-03-31\", \"2016-04-30\", \"2016-05-31\", \"2016-06-30\", \"2016-07-31\", \"2016-08-31\", \"2016-09-30\", \"2016-10-31\", \"2016-11-30\", \"2016-12-31\", \"2017-01-31\", \"2017-02-28\", \"2017-03-31\", \"2017-04-30\", \"2017-05-31\", \"2017-06-30\", \"2017-07-31\", \"2017-08-31\", \"2017-09-30\", \"2017-10-31\", \"2017-11-30\", \"2017-12-31\", \"2018-01-31\", \"2018-02-28\", \"2018-03-31\", \"2018-04-30\", \"2018-05-31\", \"2018-06-30\", \"2018-07-31\", \"2018-08-31\", \"2018-09-30\", \"2018-10-31\", \"2018-11-30\", \"2018-12-31\", \"2019-01-31\", \"2019-02-28\", \"2019-03-31\", \"2019-04-30\", \"2019-05-31\", \"2019-06-30\", \"2019-07-31\", \"2019-08-31\", \"2019-09-30\", \"2019-10-31\", \"2019-11-30\", \"2019-12-31\", \"2020-01-31\", \"2020-02-29\", \"2020-03-31\", \"2020-04-30\", \"2020-05-31\", \"2020-06-30\", \"2020-07-31\", \"2020-08-31\", \"2020-09-30\", \"2020-10-31\", \"2020-11-30\", \"2020-12-31\", \"2021-01-31\", \"2021-02-28\", \"2021-03-31\"], \"xaxis\": \"x\", \"y\": [263301.0, 263263.0, 261598.0, 257434.0, 251842.0, 246781.0, 245217.0, 245089.0, 245888.0, 245320.0, 245523.0, 245713.0, 245249.0, 240792.0, 236793.0, 234666.0, 235214.0, 235125.0, 231640.0, 227545.0, 222596.0, 218593.0, 212088.0, 205741.0, 201276.0, 201245.0, 201902.0, 202430.0, 202408.0, 202431.0, 201257.0, 198404.0, 195214.0, 193249.0, 194105.0, 195481.0, 195091.0, 193970.0, 191730.0, 190174.0, 187883.0, 185970.0, 184020.0, 182658.0, 182476.0, 183725.0, 185703.0, 187474.0, 190538.0, 193199.0, 196943.0, 198494.0, 198586.0, 199968.0, 204093.0, 211262.0, 216501.0, 220010.0, 222041.0, 225694.0, 230008.0, 233989.0, 238456.0, 244693.0, 253039.0, 260390.0, 266763.0, 271567.0, 278025.0, 284501.0, 290801.0, 294692.0, 297184.0, 299511.0, 301279.0, 303896.0, 307348.0, 308665.0, 310111.0, 309001.0, 310210.0, 309376.0, 310433.0, 312989.0, 317781.0, 324384.0, 330427.0, 334629.0, 338235.0, 344093.0, 349721.0, 357002.0, 361799.0, 370636.0, 376394.0, 381968.0, 384496.0, 386717.0, 388780.0, 394655.0, 404751.0, 416592.0, 426860.0, 434660.0, 441079.0, 443260.0, 447356.0, 451809.0, 458586.0, 462858.0, 468377.0, 469115.0, 465377.0, 458644.0, 455860.0, 457772.0, 463269.0, 472223.0, 477802.0, 480787.0, 483212.0, 488878.0, 496467.0, 507189.0, 512032.0, 514605.0, 513651.0, 514944.0, 518391.0, 521131.0, 529217.0, 536408.0, 541501.0, 550403.0, 551254.0, 553435.0, 554383.0, 563688.0, 570639.0, 579491.0, 583788.0, 590921.0, 593943.0, 600806.0, 604996.0, 602423.0, 605553.0, 610050.0, 620039.0, 625933.0, 635620.0, 642334.0, 651535.0, 659118.0, 669055.0, 678379.0, 692656.0], \"yaxis\": \"y\"}, {\"hovertemplate\": \"City=Fish Camp<br>date=%{x}<br>value=%{y}<extra></extra>\", \"legendgroup\": \"Fish Camp\", \"line\": {\"color\": \"#EF553B\", \"dash\": \"solid\"}, \"mode\": \"lines\", \"name\": \"Fish Camp\", \"orientation\": \"v\", \"showlegend\": true, \"type\": \"scatter\", \"x\": [\"2002-03-31\", \"2002-04-30\", \"2002-05-31\", \"2002-06-30\", \"2002-07-31\", \"2002-08-31\", \"2002-09-30\", \"2002-10-31\", \"2002-11-30\", \"2002-12-31\", \"2003-01-31\", \"2003-02-28\", \"2003-03-31\", \"2003-04-30\", \"2003-05-31\", \"2003-06-30\", \"2003-07-31\", \"2003-08-31\", \"2003-09-30\", \"2003-10-31\", \"2003-11-30\", \"2003-12-31\", \"2004-01-31\", \"2004-02-29\", \"2004-03-31\", \"2004-04-30\", \"2004-05-31\", \"2004-06-30\", \"2004-07-31\", \"2004-08-31\", \"2004-09-30\", \"2004-10-31\", \"2004-11-30\", \"2004-12-31\", \"2005-01-31\", \"2005-02-28\", \"2005-03-31\", \"2005-04-30\", \"2005-05-31\", \"2005-06-30\", \"2005-07-31\", \"2005-08-31\", \"2005-09-30\", \"2005-10-31\", \"2005-11-30\", \"2005-12-31\", \"2006-01-31\", \"2006-02-28\", \"2006-03-31\", \"2006-04-30\", \"2006-05-31\", \"2006-06-30\", \"2006-07-31\", \"2006-08-31\", \"2006-09-30\", \"2006-10-31\", \"2006-11-30\", \"2006-12-31\", \"2007-01-31\", \"2007-02-28\", \"2007-03-31\", \"2007-04-30\", \"2007-05-31\", \"2007-06-30\", \"2007-07-31\", \"2007-08-31\", \"2007-09-30\", \"2007-10-31\", \"2007-11-30\", \"2007-12-31\", \"2008-01-31\", \"2008-02-29\", \"2008-03-31\", \"2008-04-30\", \"2008-05-31\", \"2008-06-30\", \"2008-07-31\", \"2008-08-31\", \"2008-09-30\", \"2008-10-31\", \"2008-11-30\", \"2008-12-31\", \"2009-01-31\", \"2009-02-28\", \"2009-03-31\", \"2009-04-30\", \"2009-05-31\", \"2009-06-30\", \"2009-07-31\", \"2009-08-31\", \"2009-09-30\", \"2009-10-31\", \"2009-11-30\", \"2009-12-31\", \"2010-01-31\", \"2010-02-28\", \"2010-03-31\", \"2010-04-30\", \"2010-05-31\", \"2010-06-30\", \"2010-07-31\", \"2010-08-31\", \"2010-09-30\", \"2010-10-31\", \"2010-11-30\", \"2010-12-31\", \"2011-01-31\", \"2011-02-28\", \"2011-03-31\", \"2011-04-30\", \"2011-05-31\", \"2011-06-30\", \"2011-07-31\", \"2011-08-31\", \"2011-09-30\", \"2011-10-31\", \"2011-11-30\", \"2011-12-31\", \"2012-01-31\", \"2012-02-29\", \"2012-03-31\", \"2012-04-30\", \"2012-05-31\", \"2012-06-30\", \"2012-07-31\", \"2012-08-31\", \"2012-09-30\", \"2012-10-31\", \"2012-11-30\", \"2012-12-31\", \"2013-01-31\", \"2013-02-28\", \"2013-03-31\", \"2013-04-30\", \"2013-05-31\", \"2013-06-30\", \"2013-07-31\", \"2013-08-31\", \"2013-09-30\", \"2013-10-31\", \"2013-11-30\", \"2013-12-31\", \"2014-01-31\", \"2014-02-28\", \"2014-03-31\", \"2014-04-30\", \"2014-05-31\", \"2014-06-30\", \"2014-07-31\", \"2014-08-31\", \"2014-09-30\", \"2014-10-31\", \"2014-11-30\", \"2014-12-31\", \"2015-01-31\", \"2015-02-28\", \"2015-03-31\", \"2015-04-30\", \"2015-05-31\", \"2015-06-30\", \"2015-07-31\", \"2015-08-31\", \"2015-09-30\", \"2015-10-31\", \"2015-11-30\", \"2015-12-31\", \"2016-01-31\", \"2016-02-29\", \"2016-03-31\", \"2016-04-30\", \"2016-05-31\", \"2016-06-30\", \"2016-07-31\", \"2016-08-31\", \"2016-09-30\", \"2016-10-31\", \"2016-11-30\", \"2016-12-31\", \"2017-01-31\", \"2017-02-28\", \"2017-03-31\", \"2017-04-30\", \"2017-05-31\", \"2017-06-30\", \"2017-07-31\", \"2017-08-31\", \"2017-09-30\", \"2017-10-31\", \"2017-11-30\", \"2017-12-31\", \"2018-01-31\", \"2018-02-28\", \"2018-03-31\", \"2018-04-30\", \"2018-05-31\", \"2018-06-30\", \"2018-07-31\", \"2018-08-31\", \"2018-09-30\", \"2018-10-31\", \"2018-11-30\", \"2018-12-31\", \"2019-01-31\", \"2019-02-28\", \"2019-03-31\", \"2019-04-30\", \"2019-05-31\", \"2019-06-30\", \"2019-07-31\", \"2019-08-31\", \"2019-09-30\", \"2019-10-31\", \"2019-11-30\", \"2019-12-31\", \"2020-01-31\", \"2020-02-29\", \"2020-03-31\", \"2020-04-30\", \"2020-05-31\", \"2020-06-30\", \"2020-07-31\", \"2020-08-31\", \"2020-09-30\", \"2020-10-31\", \"2020-11-30\", \"2020-12-31\", \"2021-01-31\", \"2021-02-28\", \"2021-03-31\"], \"xaxis\": \"x\", \"y\": [235460.0, 237499.0, 238874.0, 239752.0, 239019.0, 237973.0, 239439.0, 242660.0, 248010.0, 252422.0, 256885.0, 259597.0, 262888.0, 263918.0, 264565.0, 268313.0, 274648.0, 281704.0, 285299.0, 287999.0, 288000.0, 290124.0, 290910.0, 293732.0, 296501.0, 302040.0, 308949.0, 314198.0, 319451.0, 325521.0, 331672.0, 335567.0, 338309.0, 340385.0, 345296.0, 353641.0, 360067.0, 364797.0, 367518.0, 371662.0, 376138.0, 378086.0, 379864.0, 379671.0, 381035.0, 382517.0, 385011.0, 384276.0, 386122.0, 385787.0, 386260.0, 385279.0, 384991.0, 385717.0, 385512.0, 386193.0, 386237.0, 384865.0, 382638.0, 379187.0, 376365.0, 375048.0, 372702.0, 369752.0, 364958.0, 361582.0, 359105.0, 356470.0, 353537.0, 349931.0, 344728.0, 338842.0, 330721.0, 323103.0, 316639.0, 311430.0, 307091.0, 299525.0, 293002.0, 286268.0, 281479.0, 275763.0, 272233.0, 271318.0, 271521.0, 269903.0, 266653.0, 264172.0, 262411.0, 262461.0, 260824.0, 261617.0, 260672.0, 262074.0, 261983.0, 262189.0, 263114.0, 263887.0, 265138.0, 264276.0, 262895.0, 261122.0, 259459.0, 256239.0, 254004.0, 252683.0, 251001.0, 248230.0, 244014.0, 242337.0, 241064.0, 240257.0, 238662.0, 238828.0, 239543.0, 240574.0, 240343.0, 240424.0, 241697.0, 242614.0, 243479.0, 243656.0, 245229.0, 247987.0, 251769.0, 253306.0, 256413.0, 259509.0, 262803.0, 263726.0, 266064.0, 271713.0, 278817.0, 284965.0, 288481.0, 292796.0, 296024.0, 301435.0, 304501.0, 307146.0, 312205.0, 317478.0, 320534.0, 319591.0, 318955.0, 321085.0, 326235.0, 330142.0, 335055.0, 339006.0, 343639.0, 348977.0, 352106.0, 355522.0, 357089.0, 358286.0, 359608.0, 360272.0, 360448.0, 361027.0, 363551.0, 363999.0, 363802.0, 361453.0, 360320.0, 360363.0, 363274.0, 367665.0, 369354.0, 368348.0, 366287.0, 362765.0, 356156.0, 354031.0, 355616.0, 359163.0, 360593.0, 360969.0, 361040.0, 360638.0, 361255.0, 362367.0, 363601.0, 366001.0, 370398.0, 372264.0, 370728.0, 369664.0, 370245.0, 370684.0, 369207.0, 368948.0, 370606.0, 373769.0, 375827.0, 377625.0, 379804.0, 378865.0, 376778.0, 374503.0, 375125.0, 376582.0, 379126.0, 379637.0, 379482.0, 379967.0, 384715.0, 388542.0, 389321.0, 389237.0, 392130.0, 391931.0, 388905.0, 384919.0, 385286.0, 385143.0, 384823.0, 380744.0, 376900.0, 373420.0, 372193.0, 373802.0, 374837.0, 378439.0, 383022.0, 388464.0, 391234.0, 395910.0, 401579.0], \"yaxis\": \"y\"}, {\"hovertemplate\": \"City=Fort Bidwell<br>date=%{x}<br>value=%{y}<extra></extra>\", \"legendgroup\": \"Fort Bidwell\", \"line\": {\"color\": \"#00cc96\", \"dash\": \"solid\"}, \"mode\": \"lines\", \"name\": \"Fort Bidwell\", \"orientation\": \"v\", \"showlegend\": true, \"type\": \"scatter\", \"x\": [\"2011-03-31\", \"2011-04-30\", \"2011-05-31\", \"2011-06-30\", \"2011-07-31\", \"2011-08-31\", \"2011-09-30\", \"2011-10-31\", \"2011-11-30\", \"2011-12-31\", \"2012-01-31\", \"2012-02-29\", \"2012-03-31\", \"2012-04-30\", \"2012-05-31\", \"2012-06-30\", \"2012-07-31\", \"2012-08-31\", \"2012-09-30\", \"2012-10-31\", \"2012-11-30\", \"2012-12-31\", \"2013-01-31\", \"2013-02-28\", \"2013-03-31\", \"2013-04-30\", \"2013-05-31\", \"2013-06-30\", \"2013-07-31\", \"2013-08-31\", \"2013-09-30\", \"2013-10-31\", \"2013-11-30\", \"2013-12-31\", \"2014-01-31\", \"2014-02-28\", \"2014-03-31\", \"2014-04-30\", \"2014-05-31\", \"2014-06-30\", \"2014-07-31\", \"2014-08-31\", \"2014-09-30\", \"2014-10-31\", \"2014-11-30\", \"2014-12-31\", \"2015-01-31\", \"2015-02-28\", \"2015-03-31\", \"2015-04-30\", \"2015-05-31\", \"2015-06-30\", \"2015-07-31\", \"2015-08-31\", \"2015-09-30\", \"2015-10-31\", \"2015-11-30\", \"2015-12-31\", \"2016-01-31\", \"2016-02-29\", \"2016-03-31\", \"2016-04-30\", \"2016-05-31\", \"2016-06-30\", \"2016-07-31\", \"2016-08-31\", \"2016-09-30\", \"2016-10-31\", \"2016-11-30\", \"2016-12-31\", \"2017-01-31\", \"2017-02-28\", \"2017-03-31\", \"2017-04-30\", \"2017-05-31\", \"2017-06-30\", \"2017-07-31\", \"2017-08-31\", \"2017-09-30\", \"2017-10-31\", \"2017-11-30\", \"2017-12-31\", \"2018-01-31\", \"2018-02-28\", \"2018-03-31\", \"2018-04-30\", \"2018-05-31\", \"2018-06-30\", \"2018-07-31\", \"2018-08-31\", \"2018-09-30\", \"2018-10-31\", \"2018-11-30\", \"2018-12-31\", \"2019-01-31\", \"2019-02-28\", \"2019-03-31\", \"2019-04-30\", \"2019-05-31\", \"2019-06-30\", \"2019-07-31\", \"2019-08-31\", \"2019-09-30\", \"2019-10-31\", \"2019-11-30\", \"2019-12-31\", \"2020-01-31\", \"2020-02-29\", \"2020-03-31\", \"2020-04-30\", \"2020-05-31\", \"2020-06-30\", \"2020-07-31\", \"2020-08-31\", \"2020-09-30\", \"2020-10-31\", \"2020-11-30\", \"2020-12-31\", \"2021-01-31\", \"2021-02-28\", \"2021-03-31\"], \"xaxis\": \"x\", \"y\": [66689.0, 66783.0, 67053.0, 67228.0, 67128.0, 66860.0, 66714.0, 66890.0, 67006.0, 66736.0, 66376.0, 66114.0, 66383.0, 66536.0, 66429.0, 66485.0, 67083.0, 67910.0, 68638.0, 69322.0, 70125.0, 71586.0, 72766.0, 74005.0, 74739.0, 75755.0, 76663.0, 77625.0, 78531.0, 79545.0, 80628.0, 81086.0, 81633.0, 82052.0, 83477.0, 84859.0, 85905.0, 86892.0, 88230.0, 89688.0, 90795.0, 92004.0, 93173.0, 94479.0, 95749.0, 97134.0, 98181.0, 98648.0, 99246.0, 99806.0, 99884.0, 99599.0, 99756.0, 100212.0, 100954.0, 101565.0, 102069.0, 102498.0, 102670.0, 103281.0, 103860.0, 104594.0, 105545.0, 106512.0, 107538.0, 108087.0, 108789.0, 109321.0, 110009.0, 110733.0, 111564.0, 112429.0, 113229.0, 113759.0, 114359.0, 115134.0, 115885.0, 116605.0, 117110.0, 117849.0, 118847.0, 119629.0, 120545.0, 121019.0, 121576.0, 122043.0, 122173.0, 122148.0, 121271.0, 121185.0, 120951.0, 121307.0, 120866.0, 120552.0, 120139.0, 120149.0, 120515.0, 120883.0, 121096.0, 121172.0, 121017.0, 121074.0, 121213.0, 120880.0, 120550.0, 120201.0, 120925.0, 121125.0, 121426.0, 121637.0, 122494.0, 123092.0, 124284.0, 124946.0, 125626.0, 126333.0, 127362.0, 128396.0, 128639.0, 129205.0, 129516.0], \"yaxis\": \"y\"}, {\"hovertemplate\": \"City=Lee Vining<br>date=%{x}<br>value=%{y}<extra></extra>\", \"legendgroup\": \"Lee Vining\", \"line\": {\"color\": \"#ab63fa\", \"dash\": \"solid\"}, \"mode\": \"lines\", \"name\": \"Lee Vining\", \"orientation\": \"v\", \"showlegend\": true, \"type\": \"scatter\", \"x\": [\"2003-04-30\", \"2003-05-31\", \"2003-06-30\", \"2003-07-31\", \"2003-08-31\", \"2003-09-30\", \"2003-10-31\", \"2003-11-30\", \"2003-12-31\", \"2004-01-31\", \"2004-02-29\", \"2004-03-31\", \"2004-04-30\", \"2004-05-31\", \"2004-06-30\", \"2004-07-31\", \"2004-08-31\", \"2004-09-30\", \"2004-10-31\", \"2004-11-30\", \"2004-12-31\", \"2005-01-31\", \"2005-02-28\", \"2005-03-31\", \"2005-04-30\", \"2005-05-31\", \"2005-06-30\", \"2005-07-31\", \"2005-08-31\", \"2005-09-30\", \"2005-10-31\", \"2005-11-30\", \"2005-12-31\", \"2006-01-31\", \"2006-02-28\", \"2006-03-31\", \"2006-04-30\", \"2006-05-31\", \"2006-06-30\", \"2006-07-31\", \"2006-08-31\", \"2006-09-30\", \"2006-10-31\", \"2006-11-30\", \"2006-12-31\", \"2007-01-31\", \"2007-02-28\", \"2007-03-31\", \"2007-04-30\", \"2007-05-31\", \"2007-06-30\", \"2007-07-31\", \"2007-08-31\", \"2007-09-30\", \"2007-10-31\", \"2007-11-30\", \"2007-12-31\", \"2008-01-31\", \"2008-02-29\", \"2008-03-31\", \"2008-04-30\", \"2008-05-31\", \"2008-06-30\", \"2008-07-31\", \"2008-08-31\", \"2008-09-30\", \"2008-10-31\", \"2008-11-30\", \"2008-12-31\", \"2009-01-31\", \"2009-02-28\", \"2009-03-31\", \"2009-04-30\", \"2009-05-31\", \"2009-06-30\", \"2009-07-31\", \"2009-08-31\", \"2009-09-30\", \"2009-10-31\", \"2009-11-30\", \"2009-12-31\", \"2010-01-31\", \"2010-02-28\", \"2010-03-31\", \"2010-04-30\", \"2010-05-31\", \"2010-06-30\", \"2010-07-31\", \"2010-08-31\", \"2010-09-30\", \"2010-10-31\", \"2010-11-30\", \"2010-12-31\", \"2011-01-31\", \"2011-02-28\", \"2011-03-31\", \"2011-04-30\", \"2011-05-31\", \"2011-06-30\", \"2011-07-31\", \"2011-08-31\", \"2011-09-30\", \"2011-10-31\", \"2011-11-30\", \"2011-12-31\", \"2012-01-31\", \"2012-02-29\", \"2012-03-31\", \"2012-04-30\", \"2012-05-31\", \"2012-06-30\", \"2012-07-31\", \"2012-08-31\", \"2012-09-30\", \"2012-10-31\", \"2012-11-30\", \"2012-12-31\", \"2013-01-31\", \"2013-02-28\", \"2013-03-31\", \"2013-04-30\", \"2013-05-31\", \"2013-06-30\", \"2013-07-31\", \"2013-08-31\", \"2013-09-30\", \"2013-10-31\", \"2013-11-30\", \"2013-12-31\", \"2014-01-31\", \"2014-02-28\", \"2014-03-31\", \"2014-04-30\", \"2014-05-31\", \"2014-06-30\", \"2014-07-31\", \"2014-08-31\", \"2014-09-30\", \"2014-10-31\", \"2014-11-30\", \"2014-12-31\", \"2015-01-31\", \"2015-02-28\", \"2015-03-31\", \"2015-04-30\", \"2015-05-31\", \"2015-06-30\", \"2015-07-31\", \"2015-08-31\", \"2015-09-30\", \"2015-10-31\", \"2015-11-30\", \"2015-12-31\", \"2016-01-31\", \"2016-02-29\", \"2016-03-31\", \"2016-04-30\", \"2016-05-31\", \"2016-06-30\", \"2016-07-31\", \"2016-08-31\", \"2016-09-30\", \"2016-10-31\", \"2016-11-30\", \"2016-12-31\", \"2017-01-31\", \"2017-02-28\", \"2017-03-31\", \"2017-04-30\", \"2017-05-31\", \"2017-06-30\", \"2017-07-31\", \"2017-08-31\", \"2017-09-30\", \"2017-10-31\", \"2017-11-30\", \"2017-12-31\", \"2018-01-31\", \"2018-02-28\", \"2018-03-31\", \"2018-04-30\", \"2018-05-31\", \"2018-06-30\", \"2018-07-31\", \"2018-08-31\", \"2018-09-30\", \"2018-10-31\", \"2018-11-30\", \"2018-12-31\", \"2019-01-31\", \"2019-02-28\", \"2019-03-31\", \"2019-04-30\", \"2019-05-31\", \"2019-06-30\", \"2019-07-31\", \"2019-08-31\", \"2019-09-30\", \"2019-10-31\", \"2019-11-30\", \"2019-12-31\", \"2020-01-31\", \"2020-02-29\", \"2020-03-31\", \"2020-04-30\", \"2020-05-31\", \"2020-06-30\", \"2020-07-31\", \"2020-08-31\", \"2020-09-30\", \"2020-10-31\", \"2020-11-30\", \"2020-12-31\", \"2021-01-31\", \"2021-02-28\", \"2021-03-31\"], \"xaxis\": \"x\", \"y\": [255401.0, 254733.0, 254072.0, 252715.0, 251385.0, 250843.0, 251787.0, 253432.0, 253656.0, 251984.0, 249923.0, 249759.0, 251922.0, 255618.0, 259855.0, 264323.0, 269102.0, 273437.0, 276320.0, 280295.0, 286377.0, 295875.0, 306102.0, 314917.0, 322152.0, 326644.0, 330678.0, 334347.0, 339109.0, 344599.0, 350006.0, 352255.0, 355899.0, 359438.0, 363985.0, 366143.0, 364629.0, 363465.0, 362275.0, 362771.0, 362917.0, 361836.0, 361170.0, 360672.0, 359027.0, 356957.0, 354132.0, 351589.0, 349225.0, 345850.0, 341987.0, 336923.0, 332513.0, 328571.0, 324339.0, 318913.0, 312730.0, 306671.0, 301199.0, 295977.0, 290351.0, 284814.0, 278476.0, 273131.0, 267378.0, 262090.0, 256183.0, 251417.0, 247719.0, 245085.0, 243507.0, 242319.0, 241200.0, 239179.0, 236942.0, 235257.0, 233977.0, 232859.0, 231010.0, 228816.0, 227431.0, 225542.0, 222692.0, 219404.0, 216537.0, 215570.0, 215466.0, 214068.0, 210749.0, 206312.0, 204906.0, 204462.0, 204717.0, 202995.0, 201653.0, 199515.0, 199244.0, 197948.0, 197233.0, 196267.0, 198814.0, 202244.0, 204230.0, 205529.0, 204034.0, 205319.0, 205769.0, 207396.0, 207268.0, 208189.0, 210407.0, 213015.0, 214565.0, 216003.0, 216988.0, 216960.0, 217905.0, 218538.0, 219961.0, 221789.0, 223814.0, 226424.0, 227983.0, 230905.0, 231654.0, 233195.0, 234250.0, 236868.0, 239573.0, 242442.0, 245642.0, 248292.0, 250555.0, 252033.0, 251739.0, 249831.0, 249175.0, 249311.0, 251294.0, 252599.0, 253364.0, 253450.0, 254224.0, 254553.0, 255662.0, 255809.0, 257527.0, 259444.0, 261384.0, 261019.0, 259490.0, 259170.0, 260492.0, 261745.0, 261522.0, 262877.0, 264148.0, 265029.0, 265500.0, 268063.0, 270555.0, 272922.0, 274501.0, 276341.0, 277737.0, 279280.0, 280709.0, 281022.0, 280682.0, 281734.0, 283041.0, 282244.0, 282161.0, 283595.0, 286668.0, 288291.0, 289380.0, 290561.0, 292916.0, 295338.0, 296928.0, 298404.0, 299655.0, 301802.0, 303120.0, 304192.0, 304517.0, 304992.0, 306024.0, 306069.0, 306027.0, 305200.0, 306707.0, 308075.0, 309953.0, 309692.0, 308230.0, 306225.0, 305557.0, 304884.0, 304695.0, 305026.0, 305786.0, 306840.0, 307484.0, 308085.0, 308028.0, 309603.0, 312416.0, 315503.0, 317725.0, 320298.0, 322478.0, 324881.0, 326969.0, 329481.0], \"yaxis\": \"y\"}, {\"hovertemplate\": \"City=Covelo<br>date=%{x}<br>value=%{y}<extra></extra>\", \"legendgroup\": \"Covelo\", \"line\": {\"color\": \"#FFA15A\", \"dash\": \"solid\"}, \"mode\": \"lines\", \"name\": \"Covelo\", \"orientation\": \"v\", \"showlegend\": true, \"type\": \"scatter\", \"x\": [\"2012-02-29\", \"2012-03-31\", \"2012-04-30\", \"2012-05-31\", \"2012-06-30\", \"2012-07-31\", \"2012-08-31\", \"2012-09-30\", \"2012-10-31\", \"2012-11-30\", \"2012-12-31\", \"2013-01-31\", \"2013-02-28\", \"2013-03-31\", \"2013-04-30\", \"2013-05-31\", \"2013-06-30\", \"2013-07-31\", \"2013-08-31\", \"2013-09-30\", \"2013-10-31\", \"2013-11-30\", \"2013-12-31\", \"2014-01-31\", \"2014-02-28\", \"2014-03-31\", \"2014-04-30\", \"2014-05-31\", \"2014-06-30\", \"2014-07-31\", \"2014-08-31\", \"2014-09-30\", \"2014-10-31\", \"2014-11-30\", \"2014-12-31\", \"2015-01-31\", \"2015-02-28\", \"2015-03-31\", \"2015-04-30\", \"2015-05-31\", \"2015-06-30\", \"2015-07-31\", \"2015-08-31\", \"2015-09-30\", \"2015-10-31\", \"2015-11-30\", \"2015-12-31\", \"2016-01-31\", \"2016-02-29\", \"2016-03-31\", \"2016-04-30\", \"2016-05-31\", \"2016-06-30\", \"2016-07-31\", \"2016-08-31\", \"2016-09-30\", \"2016-10-31\", \"2016-11-30\", \"2016-12-31\", \"2017-01-31\", \"2017-02-28\", \"2017-03-31\", \"2017-04-30\", \"2017-05-31\", \"2017-06-30\", \"2017-07-31\", \"2017-08-31\", \"2017-09-30\", \"2017-10-31\", \"2017-11-30\", \"2017-12-31\", \"2018-01-31\", \"2018-02-28\", \"2018-03-31\", \"2018-04-30\", \"2018-05-31\", \"2018-06-30\", \"2018-07-31\", \"2018-08-31\", \"2018-09-30\", \"2018-10-31\", \"2018-11-30\", \"2018-12-31\", \"2019-01-31\", \"2019-02-28\", \"2019-03-31\", \"2019-04-30\", \"2019-05-31\", \"2019-06-30\", \"2019-07-31\", \"2019-08-31\", \"2019-09-30\", \"2019-10-31\", \"2019-11-30\", \"2019-12-31\", \"2020-01-31\", \"2020-02-29\", \"2020-03-31\", \"2020-04-30\", \"2020-05-31\", \"2020-06-30\", \"2020-07-31\", \"2020-08-31\", \"2020-09-30\", \"2020-10-31\", \"2020-11-30\", \"2020-12-31\", \"2021-01-31\", \"2021-02-28\", \"2021-03-31\"], \"xaxis\": \"x\", \"y\": [233716.0, 231604.0, 231291.0, 229268.0, 227407.0, 226597.0, 226911.0, 229585.0, 230729.0, 231084.0, 229059.0, 226698.0, 224582.0, 225020.0, 225985.0, 229050.0, 231413.0, 231836.0, 230822.0, 228143.0, 226474.0, 224980.0, 226419.0, 229711.0, 233563.0, 236316.0, 236105.0, 234385.0, 234126.0, 235882.0, 238458.0, 239026.0, 241889.0, 246308.0, 251298.0, 253375.0, 254554.0, 253735.0, 254845.0, 254065.0, 253093.0, 250338.0, 247410.0, 245304.0, 244151.0, 244000.0, 244775.0, 247294.0, 249233.0, 252544.0, 253074.0, 256134.0, 260313.0, 266992.0, 272877.0, 277905.0, 280482.0, 284349.0, 285899.0, 289719.0, 290757.0, 294036.0, 297886.0, 302394.0, 304922.0, 306486.0, 309585.0, 312298.0, 317145.0, 320457.0, 324540.0, 322184.0, 323099.0, 322581.0, 324590.0, 323223.0, 320495.0, 318211.0, 314522.0, 314176.0, 310181.0, 306445.0, 302303.0, 303419.0, 304109.0, 302073.0, 298549.0, 296880.0, 296783.0, 293796.0, 291098.0, 286996.0, 284590.0, 279792.0, 276850.0, 277688.0, 280748.0, 283843.0, 283938.0, 283519.0, 285266.0, 289313.0, 293716.0, 298225.0, 303257.0, 310904.0, 317833.0, 320878.0, 322430.0, 326246.0], \"yaxis\": \"y\"}],                        {\"font\": {\"color\": \"gray\", \"family\": \"Courier New\"}, \"legend\": {\"title\": {\"text\": \"City\"}, \"tracegroupgap\": 0}, \"margin\": {\"t\": 60}, \"template\": {\"data\": {\"bar\": [{\"error_x\": {\"color\": \"#2a3f5f\"}, \"error_y\": {\"color\": \"#2a3f5f\"}, \"marker\": {\"line\": {\"color\": \"#E5ECF6\", \"width\": 0.5}}, \"type\": \"bar\"}], \"barpolar\": [{\"marker\": {\"line\": {\"color\": \"#E5ECF6\", \"width\": 0.5}}, \"type\": \"barpolar\"}], \"carpet\": [{\"aaxis\": {\"endlinecolor\": \"#2a3f5f\", \"gridcolor\": \"white\", \"linecolor\": \"white\", \"minorgridcolor\": \"white\", \"startlinecolor\": \"#2a3f5f\"}, \"baxis\": {\"endlinecolor\": \"#2a3f5f\", \"gridcolor\": \"white\", \"linecolor\": \"white\", \"minorgridcolor\": \"white\", \"startlinecolor\": \"#2a3f5f\"}, \"type\": \"carpet\"}], \"choropleth\": [{\"colorbar\": {\"outlinewidth\": 0, \"ticks\": \"\"}, \"type\": \"choropleth\"}], \"contour\": [{\"colorbar\": {\"outlinewidth\": 0, \"ticks\": \"\"}, \"colorscale\": [[0.0, \"#0d0887\"], [0.1111111111111111, \"#46039f\"], [0.2222222222222222, \"#7201a8\"], [0.3333333333333333, \"#9c179e\"], [0.4444444444444444, \"#bd3786\"], [0.5555555555555556, \"#d8576b\"], [0.6666666666666666, \"#ed7953\"], [0.7777777777777778, \"#fb9f3a\"], [0.8888888888888888, \"#fdca26\"], [1.0, \"#f0f921\"]], \"type\": \"contour\"}], \"contourcarpet\": [{\"colorbar\": {\"outlinewidth\": 0, \"ticks\": \"\"}, \"type\": \"contourcarpet\"}], \"heatmap\": [{\"colorbar\": {\"outlinewidth\": 0, \"ticks\": \"\"}, \"colorscale\": [[0.0, \"#0d0887\"], [0.1111111111111111, \"#46039f\"], [0.2222222222222222, \"#7201a8\"], [0.3333333333333333, \"#9c179e\"], [0.4444444444444444, \"#bd3786\"], [0.5555555555555556, \"#d8576b\"], [0.6666666666666666, \"#ed7953\"], [0.7777777777777778, \"#fb9f3a\"], [0.8888888888888888, \"#fdca26\"], [1.0, \"#f0f921\"]], \"type\": \"heatmap\"}], \"heatmapgl\": [{\"colorbar\": {\"outlinewidth\": 0, \"ticks\": \"\"}, \"colorscale\": [[0.0, \"#0d0887\"], [0.1111111111111111, \"#46039f\"], [0.2222222222222222, \"#7201a8\"], [0.3333333333333333, \"#9c179e\"], [0.4444444444444444, \"#bd3786\"], [0.5555555555555556, \"#d8576b\"], [0.6666666666666666, \"#ed7953\"], [0.7777777777777778, \"#fb9f3a\"], [0.8888888888888888, \"#fdca26\"], [1.0, \"#f0f921\"]], \"type\": \"heatmapgl\"}], \"histogram\": [{\"marker\": {\"colorbar\": {\"outlinewidth\": 0, \"ticks\": \"\"}}, \"type\": \"histogram\"}], \"histogram2d\": [{\"colorbar\": {\"outlinewidth\": 0, \"ticks\": \"\"}, \"colorscale\": [[0.0, \"#0d0887\"], [0.1111111111111111, \"#46039f\"], [0.2222222222222222, \"#7201a8\"], [0.3333333333333333, \"#9c179e\"], [0.4444444444444444, \"#bd3786\"], [0.5555555555555556, \"#d8576b\"], [0.6666666666666666, \"#ed7953\"], [0.7777777777777778, \"#fb9f3a\"], [0.8888888888888888, \"#fdca26\"], [1.0, \"#f0f921\"]], \"type\": \"histogram2d\"}], \"histogram2dcontour\": [{\"colorbar\": {\"outlinewidth\": 0, \"ticks\": \"\"}, \"colorscale\": [[0.0, \"#0d0887\"], [0.1111111111111111, \"#46039f\"], [0.2222222222222222, \"#7201a8\"], [0.3333333333333333, \"#9c179e\"], [0.4444444444444444, \"#bd3786\"], [0.5555555555555556, \"#d8576b\"], [0.6666666666666666, \"#ed7953\"], [0.7777777777777778, \"#fb9f3a\"], [0.8888888888888888, \"#fdca26\"], [1.0, \"#f0f921\"]], \"type\": \"histogram2dcontour\"}], \"mesh3d\": [{\"colorbar\": {\"outlinewidth\": 0, \"ticks\": \"\"}, \"type\": \"mesh3d\"}], \"parcoords\": [{\"line\": {\"colorbar\": {\"outlinewidth\": 0, \"ticks\": \"\"}}, \"type\": \"parcoords\"}], \"pie\": [{\"automargin\": true, \"type\": \"pie\"}], \"scatter\": [{\"marker\": {\"colorbar\": {\"outlinewidth\": 0, \"ticks\": \"\"}}, \"type\": \"scatter\"}], \"scatter3d\": [{\"line\": {\"colorbar\": {\"outlinewidth\": 0, \"ticks\": \"\"}}, \"marker\": {\"colorbar\": {\"outlinewidth\": 0, \"ticks\": \"\"}}, \"type\": \"scatter3d\"}], \"scattercarpet\": [{\"marker\": {\"colorbar\": {\"outlinewidth\": 0, \"ticks\": \"\"}}, \"type\": \"scattercarpet\"}], \"scattergeo\": [{\"marker\": {\"colorbar\": {\"outlinewidth\": 0, \"ticks\": \"\"}}, \"type\": \"scattergeo\"}], \"scattergl\": [{\"marker\": {\"colorbar\": {\"outlinewidth\": 0, \"ticks\": \"\"}}, \"type\": \"scattergl\"}], \"scattermapbox\": [{\"marker\": {\"colorbar\": {\"outlinewidth\": 0, \"ticks\": \"\"}}, \"type\": \"scattermapbox\"}], \"scatterpolar\": [{\"marker\": {\"colorbar\": {\"outlinewidth\": 0, \"ticks\": \"\"}}, \"type\": \"scatterpolar\"}], \"scatterpolargl\": [{\"marker\": {\"colorbar\": {\"outlinewidth\": 0, \"ticks\": \"\"}}, \"type\": \"scatterpolargl\"}], \"scatterternary\": [{\"marker\": {\"colorbar\": {\"outlinewidth\": 0, \"ticks\": \"\"}}, \"type\": \"scatterternary\"}], \"surface\": [{\"colorbar\": {\"outlinewidth\": 0, \"ticks\": \"\"}, \"colorscale\": [[0.0, \"#0d0887\"], [0.1111111111111111, \"#46039f\"], [0.2222222222222222, \"#7201a8\"], [0.3333333333333333, \"#9c179e\"], [0.4444444444444444, \"#bd3786\"], [0.5555555555555556, \"#d8576b\"], [0.6666666666666666, \"#ed7953\"], [0.7777777777777778, \"#fb9f3a\"], [0.8888888888888888, \"#fdca26\"], [1.0, \"#f0f921\"]], \"type\": \"surface\"}], \"table\": [{\"cells\": {\"fill\": {\"color\": \"#EBF0F8\"}, \"line\": {\"color\": \"white\"}}, \"header\": {\"fill\": {\"color\": \"#C8D4E3\"}, \"line\": {\"color\": \"white\"}}, \"type\": \"table\"}]}, \"layout\": {\"annotationdefaults\": {\"arrowcolor\": \"#2a3f5f\", \"arrowhead\": 0, \"arrowwidth\": 1}, \"autotypenumbers\": \"strict\", \"coloraxis\": {\"colorbar\": {\"outlinewidth\": 0, \"ticks\": \"\"}}, \"colorscale\": {\"diverging\": [[0, \"#8e0152\"], [0.1, \"#c51b7d\"], [0.2, \"#de77ae\"], [0.3, \"#f1b6da\"], [0.4, \"#fde0ef\"], [0.5, \"#f7f7f7\"], [0.6, \"#e6f5d0\"], [0.7, \"#b8e186\"], [0.8, \"#7fbc41\"], [0.9, \"#4d9221\"], [1, \"#276419\"]], \"sequential\": [[0.0, \"#0d0887\"], [0.1111111111111111, \"#46039f\"], [0.2222222222222222, \"#7201a8\"], [0.3333333333333333, \"#9c179e\"], [0.4444444444444444, \"#bd3786\"], [0.5555555555555556, \"#d8576b\"], [0.6666666666666666, \"#ed7953\"], [0.7777777777777778, \"#fb9f3a\"], [0.8888888888888888, \"#fdca26\"], [1.0, \"#f0f921\"]], \"sequentialminus\": [[0.0, \"#0d0887\"], [0.1111111111111111, \"#46039f\"], [0.2222222222222222, \"#7201a8\"], [0.3333333333333333, \"#9c179e\"], [0.4444444444444444, \"#bd3786\"], [0.5555555555555556, \"#d8576b\"], [0.6666666666666666, \"#ed7953\"], [0.7777777777777778, \"#fb9f3a\"], [0.8888888888888888, \"#fdca26\"], [1.0, \"#f0f921\"]]}, \"colorway\": [\"#636efa\", \"#EF553B\", \"#00cc96\", \"#ab63fa\", \"#FFA15A\", \"#19d3f3\", \"#FF6692\", \"#B6E880\", \"#FF97FF\", \"#FECB52\"], \"font\": {\"color\": \"#2a3f5f\"}, \"geo\": {\"bgcolor\": \"white\", \"lakecolor\": \"white\", \"landcolor\": \"#E5ECF6\", \"showlakes\": true, \"showland\": true, \"subunitcolor\": \"white\"}, \"hoverlabel\": {\"align\": \"left\"}, \"hovermode\": \"closest\", \"mapbox\": {\"style\": \"light\"}, \"paper_bgcolor\": \"white\", \"plot_bgcolor\": \"#E5ECF6\", \"polar\": {\"angularaxis\": {\"gridcolor\": \"white\", \"linecolor\": \"white\", \"ticks\": \"\"}, \"bgcolor\": \"#E5ECF6\", \"radialaxis\": {\"gridcolor\": \"white\", \"linecolor\": \"white\", \"ticks\": \"\"}}, \"scene\": {\"xaxis\": {\"backgroundcolor\": \"#E5ECF6\", \"gridcolor\": \"white\", \"gridwidth\": 2, \"linecolor\": \"white\", \"showbackground\": true, \"ticks\": \"\", \"zerolinecolor\": \"white\"}, \"yaxis\": {\"backgroundcolor\": \"#E5ECF6\", \"gridcolor\": \"white\", \"gridwidth\": 2, \"linecolor\": \"white\", \"showbackground\": true, \"ticks\": \"\", \"zerolinecolor\": \"white\"}, \"zaxis\": {\"backgroundcolor\": \"#E5ECF6\", \"gridcolor\": \"white\", \"gridwidth\": 2, \"linecolor\": \"white\", \"showbackground\": true, \"ticks\": \"\", \"zerolinecolor\": \"white\"}}, \"shapedefaults\": {\"line\": {\"color\": \"#2a3f5f\"}}, \"ternary\": {\"aaxis\": {\"gridcolor\": \"white\", \"linecolor\": \"white\", \"ticks\": \"\"}, \"baxis\": {\"gridcolor\": \"white\", \"linecolor\": \"white\", \"ticks\": \"\"}, \"bgcolor\": \"#E5ECF6\", \"caxis\": {\"gridcolor\": \"white\", \"linecolor\": \"white\", \"ticks\": \"\"}}, \"title\": {\"x\": 0.05}, \"xaxis\": {\"automargin\": true, \"gridcolor\": \"white\", \"linecolor\": \"white\", \"ticks\": \"\", \"title\": {\"standoff\": 15}, \"zerolinecolor\": \"white\", \"zerolinewidth\": 2}, \"yaxis\": {\"automargin\": true, \"gridcolor\": \"white\", \"linecolor\": \"white\", \"ticks\": \"\", \"title\": {\"standoff\": 15}, \"zerolinecolor\": \"white\", \"zerolinewidth\": 2}}}, \"title\": {\"font\": {\"color\": \"Purple\", \"family\": \"Times New Roman\"}, \"text\": \"Housing Prices Change for Top 5 Native American popular areas\"}, \"xaxis\": {\"anchor\": \"y\", \"domain\": [0.0, 1.0], \"title\": {\"text\": \"Date\"}}, \"yaxis\": {\"anchor\": \"x\", \"domain\": [0.0, 1.0], \"title\": {\"text\": \"Housing Prices\"}}},                        {\"responsive\": true}                    ).then(function(){\n",
       "                            \n",
       "var gd = document.getElementById('81915f34-2ade-4121-b2f3-1aba336432d2');\n",
       "var x = new MutationObserver(function (mutations, observer) {{\n",
       "        var display = window.getComputedStyle(gd).display;\n",
       "        if (!display || display === 'none') {{\n",
       "            console.log([gd, 'removed!']);\n",
       "            Plotly.purge(gd);\n",
       "            observer.disconnect();\n",
       "        }}\n",
       "}});\n",
       "\n",
       "// Listen for the removal of the full notebook cells\n",
       "var notebookContainer = gd.closest('#notebook-container');\n",
       "if (notebookContainer) {{\n",
       "    x.observe(notebookContainer, {childList: true});\n",
       "}}\n",
       "\n",
       "// Listen for the clearing of the current output cell\n",
       "var outputEl = gd.closest('.output');\n",
       "if (outputEl) {{\n",
       "    x.observe(outputEl, {childList: true});\n",
       "}}\n",
       "\n",
       "                        })                };                });            </script>        </div>"
      ]
     },
     "metadata": {},
     "output_type": "display_data"
    }
   ],
   "source": [
    "# Whitetop = joint.sort_values(by = 'White',ascending = False).head()\n",
    "# Whitetop\n",
    "blacktop = joint.sort_values(by = 'Native American',ascending = False).head()\n",
    "blacklow = joint.sort_values(by = 'Native American',ascending = True).head()\n",
    "\n",
    "blacktop.drop(blacktop.iloc[:, 0:17], inplace = True, axis = 1)\n",
    "blacktop.head()\n",
    "#asiantop.set_index('Place')\n",
    "blacktop= blacktop.stack().to_frame().reset_index()\n",
    "blacktop = blacktop.rename(columns = {'level_1':'date',0:'value','level_0':'City'})\n",
    "blacktop[\"City\"].replace({204: \"Crows Landing\",292:\"Fish Camp\",302:\"Fort Bidwell\",466:\"Lee Vining\",196:\"Covelo\"}, inplace=True)\n",
    "blacktop\n",
    "fig = px.line(blacktop, x=\"date\", y=\"value\",color = \"City\")\n",
    "fig.update_layout(title='Housing Prices Change for Top 5 Native American popular areas',\n",
    "                   xaxis_title='Date',\n",
    "                   yaxis_title='Housing Prices',\n",
    "                 font_family=\"Courier New\",\n",
    "    font_color=\"gray\",\n",
    "    title_font_family=\"Times New Roman\",\n",
    "    title_font_color=\"Purple\")\n",
    "fig.show()\n",
    "from plotly.io import write_html\n",
    "write_html(fig, \"HouseNative.html\")"
   ]
  },
  {
   "cell_type": "code",
   "execution_count": 28,
   "metadata": {},
   "outputs": [
    {
     "data": {
      "text/html": [
       "<div>\n",
       "<style scoped>\n",
       "    .dataframe tbody tr th:only-of-type {\n",
       "        vertical-align: middle;\n",
       "    }\n",
       "\n",
       "    .dataframe tbody tr th {\n",
       "        vertical-align: top;\n",
       "    }\n",
       "\n",
       "    .dataframe thead th {\n",
       "        text-align: right;\n",
       "    }\n",
       "</style>\n",
       "<table border=\"1\" class=\"dataframe\">\n",
       "  <thead>\n",
       "    <tr style=\"text-align: right;\">\n",
       "      <th></th>\n",
       "      <th>Place</th>\n",
       "      <th>County/ies[3][note 3]</th>\n",
       "      <th>Population</th>\n",
       "      <th>White</th>\n",
       "      <th>other</th>\n",
       "      <th>Asian</th>\n",
       "      <th>Black or AfricanAmerican</th>\n",
       "      <th>Native American</th>\n",
       "      <th>Hispanic or Latino</th>\n",
       "      <th>RegionID</th>\n",
       "      <th>...</th>\n",
       "      <th>2020-06-30</th>\n",
       "      <th>2020-07-31</th>\n",
       "      <th>2020-08-31</th>\n",
       "      <th>2020-09-30</th>\n",
       "      <th>2020-10-31</th>\n",
       "      <th>2020-11-30</th>\n",
       "      <th>2020-12-31</th>\n",
       "      <th>2021-01-31</th>\n",
       "      <th>2021-02-28</th>\n",
       "      <th>2021-03-31</th>\n",
       "    </tr>\n",
       "  </thead>\n",
       "  <tbody>\n",
       "    <tr>\n",
       "      <th>130</th>\n",
       "      <td>Cantua Creek</td>\n",
       "      <td>Fresno</td>\n",
       "      <td>289.0</td>\n",
       "      <td>89.6</td>\n",
       "      <td>10.4</td>\n",
       "      <td>0.0</td>\n",
       "      <td>0.0</td>\n",
       "      <td>0.0</td>\n",
       "      <td>100.0</td>\n",
       "      <td>28085</td>\n",
       "      <td>...</td>\n",
       "      <td>154916.0</td>\n",
       "      <td>154480.0</td>\n",
       "      <td>154828.0</td>\n",
       "      <td>155679.0</td>\n",
       "      <td>156773.0</td>\n",
       "      <td>156821.0</td>\n",
       "      <td>157015.0</td>\n",
       "      <td>156576.0</td>\n",
       "      <td>156660.0</td>\n",
       "      <td>156866.0</td>\n",
       "    </tr>\n",
       "    <tr>\n",
       "      <th>221</th>\n",
       "      <td>Del Rey</td>\n",
       "      <td>Fresno</td>\n",
       "      <td>1625.0</td>\n",
       "      <td>33.0</td>\n",
       "      <td>64.5</td>\n",
       "      <td>0.0</td>\n",
       "      <td>0.0</td>\n",
       "      <td>2.5</td>\n",
       "      <td>100.0</td>\n",
       "      <td>55434</td>\n",
       "      <td>...</td>\n",
       "      <td>227518.0</td>\n",
       "      <td>229172.0</td>\n",
       "      <td>231063.0</td>\n",
       "      <td>234452.0</td>\n",
       "      <td>237844.0</td>\n",
       "      <td>241398.0</td>\n",
       "      <td>245827.0</td>\n",
       "      <td>249485.0</td>\n",
       "      <td>253418.0</td>\n",
       "      <td>256940.0</td>\n",
       "    </tr>\n",
       "    <tr>\n",
       "      <th>422</th>\n",
       "      <td>Kettleman City</td>\n",
       "      <td>Kings</td>\n",
       "      <td>1207.0</td>\n",
       "      <td>80.9</td>\n",
       "      <td>14.5</td>\n",
       "      <td>0.0</td>\n",
       "      <td>0.0</td>\n",
       "      <td>4.6</td>\n",
       "      <td>100.0</td>\n",
       "      <td>25390</td>\n",
       "      <td>...</td>\n",
       "      <td>153445.0</td>\n",
       "      <td>154986.0</td>\n",
       "      <td>158481.0</td>\n",
       "      <td>161295.0</td>\n",
       "      <td>162374.0</td>\n",
       "      <td>162707.0</td>\n",
       "      <td>162137.0</td>\n",
       "      <td>162677.0</td>\n",
       "      <td>161844.0</td>\n",
       "      <td>161537.0</td>\n",
       "    </tr>\n",
       "    <tr>\n",
       "      <th>387</th>\n",
       "      <td>Huron</td>\n",
       "      <td>Fresno</td>\n",
       "      <td>6733.0</td>\n",
       "      <td>83.6</td>\n",
       "      <td>15.9</td>\n",
       "      <td>0.1</td>\n",
       "      <td>0.4</td>\n",
       "      <td>0.0</td>\n",
       "      <td>99.1</td>\n",
       "      <td>39082</td>\n",
       "      <td>...</td>\n",
       "      <td>169239.0</td>\n",
       "      <td>172036.0</td>\n",
       "      <td>176055.0</td>\n",
       "      <td>180039.0</td>\n",
       "      <td>183479.0</td>\n",
       "      <td>186416.0</td>\n",
       "      <td>190186.0</td>\n",
       "      <td>193316.0</td>\n",
       "      <td>196099.0</td>\n",
       "      <td>197408.0</td>\n",
       "    </tr>\n",
       "    <tr>\n",
       "      <th>364</th>\n",
       "      <td>Heber</td>\n",
       "      <td>Imperial</td>\n",
       "      <td>5662.0</td>\n",
       "      <td>57.7</td>\n",
       "      <td>39.0</td>\n",
       "      <td>0.0</td>\n",
       "      <td>0.0</td>\n",
       "      <td>3.2</td>\n",
       "      <td>98.6</td>\n",
       "      <td>31994</td>\n",
       "      <td>...</td>\n",
       "      <td>232588.0</td>\n",
       "      <td>234775.0</td>\n",
       "      <td>237735.0</td>\n",
       "      <td>243620.0</td>\n",
       "      <td>249791.0</td>\n",
       "      <td>255928.0</td>\n",
       "      <td>259373.0</td>\n",
       "      <td>262376.0</td>\n",
       "      <td>266490.0</td>\n",
       "      <td>272518.0</td>\n",
       "    </tr>\n",
       "  </tbody>\n",
       "</table>\n",
       "<p>5 rows × 320 columns</p>\n",
       "</div>"
      ],
      "text/plain": [
       "              Place County/ies[3][note 3]  Population  White  other  Asian  \\\n",
       "130    Cantua Creek                Fresno       289.0   89.6   10.4    0.0   \n",
       "221         Del Rey                Fresno      1625.0   33.0   64.5    0.0   \n",
       "422  Kettleman City                 Kings      1207.0   80.9   14.5    0.0   \n",
       "387           Huron                Fresno      6733.0   83.6   15.9    0.1   \n",
       "364           Heber              Imperial      5662.0   57.7   39.0    0.0   \n",
       "\n",
       "     Black or AfricanAmerican  Native American  Hispanic or Latino  RegionID  \\\n",
       "130                       0.0              0.0               100.0     28085   \n",
       "221                       0.0              2.5               100.0     55434   \n",
       "422                       0.0              4.6               100.0     25390   \n",
       "387                       0.4              0.0                99.1     39082   \n",
       "364                       0.0              3.2                98.6     31994   \n",
       "\n",
       "     ...  2020-06-30 2020-07-31 2020-08-31 2020-09-30 2020-10-31 2020-11-30  \\\n",
       "130  ...    154916.0   154480.0   154828.0   155679.0   156773.0   156821.0   \n",
       "221  ...    227518.0   229172.0   231063.0   234452.0   237844.0   241398.0   \n",
       "422  ...    153445.0   154986.0   158481.0   161295.0   162374.0   162707.0   \n",
       "387  ...    169239.0   172036.0   176055.0   180039.0   183479.0   186416.0   \n",
       "364  ...    232588.0   234775.0   237735.0   243620.0   249791.0   255928.0   \n",
       "\n",
       "    2020-12-31  2021-01-31  2021-02-28  2021-03-31  \n",
       "130   157015.0    156576.0    156660.0    156866.0  \n",
       "221   245827.0    249485.0    253418.0    256940.0  \n",
       "422   162137.0    162677.0    161844.0    161537.0  \n",
       "387   190186.0    193316.0    196099.0    197408.0  \n",
       "364   259373.0    262376.0    266490.0    272518.0  \n",
       "\n",
       "[5 rows x 320 columns]"
      ]
     },
     "execution_count": 28,
     "metadata": {},
     "output_type": "execute_result"
    }
   ],
   "source": [
    "blacktop = joint.sort_values(by = 'Hispanic or Latino',ascending = False).head()\n",
    "blacklow = joint.sort_values(by = 'Hispanic or Latino',ascending = True).head()\n",
    "blacktop.head()"
   ]
  },
  {
   "cell_type": "code",
   "execution_count": 29,
   "metadata": {},
   "outputs": [
    {
     "data": {
      "application/vnd.plotly.v1+json": {
       "config": {
        "plotlyServerURL": "https://plot.ly"
       },
       "data": [
        {
         "hovertemplate": "City=Cantua Creek<br>date=%{x}<br>value=%{y}<extra></extra>",
         "legendgroup": "Cantua Creek",
         "line": {
          "color": "#636efa",
          "dash": "solid"
         },
         "mode": "lines",
         "name": "Cantua Creek",
         "showlegend": true,
         "type": "scattergl",
         "x": [
          "2010-07-31",
          "2010-08-31",
          "2010-09-30",
          "2010-10-31",
          "2010-11-30",
          "2010-12-31",
          "2011-01-31",
          "2011-02-28",
          "2011-03-31",
          "2011-04-30",
          "2011-05-31",
          "2011-06-30",
          "2011-07-31",
          "2011-08-31",
          "2011-09-30",
          "2011-10-31",
          "2011-11-30",
          "2011-12-31",
          "2012-01-31",
          "2012-02-29",
          "2012-03-31",
          "2012-04-30",
          "2012-05-31",
          "2012-06-30",
          "2012-07-31",
          "2012-08-31",
          "2012-09-30",
          "2012-10-31",
          "2012-11-30",
          "2012-12-31",
          "2013-01-31",
          "2013-02-28",
          "2013-03-31",
          "2013-04-30",
          "2013-05-31",
          "2013-06-30",
          "2013-07-31",
          "2013-08-31",
          "2013-09-30",
          "2013-10-31",
          "2013-11-30",
          "2013-12-31",
          "2014-01-31",
          "2014-02-28",
          "2014-03-31",
          "2014-04-30",
          "2014-05-31",
          "2014-06-30",
          "2014-07-31",
          "2014-08-31",
          "2014-09-30",
          "2014-10-31",
          "2014-11-30",
          "2014-12-31",
          "2015-01-31",
          "2015-02-28",
          "2015-03-31",
          "2015-04-30",
          "2015-05-31",
          "2015-06-30",
          "2015-07-31",
          "2015-08-31",
          "2015-09-30",
          "2015-10-31",
          "2015-11-30",
          "2015-12-31",
          "2016-01-31",
          "2016-02-29",
          "2016-03-31",
          "2016-04-30",
          "2016-05-31",
          "2016-06-30",
          "2016-07-31",
          "2016-08-31",
          "2016-09-30",
          "2016-10-31",
          "2016-11-30",
          "2016-12-31",
          "2017-01-31",
          "2017-02-28",
          "2017-03-31",
          "2017-04-30",
          "2017-05-31",
          "2017-06-30",
          "2017-07-31",
          "2017-08-31",
          "2017-09-30",
          "2017-10-31",
          "2017-11-30",
          "2017-12-31",
          "2018-01-31",
          "2018-02-28",
          "2018-03-31",
          "2018-04-30",
          "2018-05-31",
          "2018-06-30",
          "2018-07-31",
          "2018-08-31",
          "2018-09-30",
          "2018-10-31",
          "2018-11-30",
          "2018-12-31",
          "2019-01-31",
          "2019-02-28",
          "2019-03-31",
          "2019-04-30",
          "2019-05-31",
          "2019-06-30",
          "2019-07-31",
          "2019-08-31",
          "2019-09-30",
          "2019-10-31",
          "2019-11-30",
          "2019-12-31",
          "2020-01-31",
          "2020-02-29",
          "2020-03-31",
          "2020-04-30",
          "2020-05-31",
          "2020-06-30",
          "2020-07-31",
          "2020-08-31",
          "2020-09-30",
          "2020-10-31",
          "2020-11-30",
          "2020-12-31",
          "2021-01-31",
          "2021-02-28",
          "2021-03-31"
         ],
         "xaxis": "x",
         "y": [
          69518,
          70020,
          70649,
          71927,
          73437,
          74344,
          74639,
          74327,
          74485,
          74908,
          76524,
          78119,
          79204,
          78943,
          78317,
          77894,
          77364,
          77430,
          78391,
          80077,
          81157,
          81471,
          80152,
          78318,
          77674,
          78876,
          80959,
          81963,
          82778,
          83610,
          84231,
          84810,
          85109,
          86268,
          87163,
          89392,
          90517,
          92204,
          92607,
          94455,
          95485,
          97023,
          98398,
          100119,
          102223,
          103442,
          104528,
          104412,
          104698,
          105072,
          105803,
          106113,
          106176,
          106484,
          107255,
          107319,
          106143,
          105442,
          106576,
          108811,
          110031,
          109080,
          108059,
          106138,
          106250,
          105359,
          105799,
          106005,
          107420,
          107866,
          107824,
          106676,
          105864,
          106106,
          107896,
          111416,
          113664,
          116845,
          117896,
          119924,
          121374,
          123703,
          124228,
          124919,
          126150,
          129288,
          130698,
          131468,
          130735,
          129830,
          130118,
          130898,
          132462,
          133774,
          136464,
          139187,
          142455,
          142235,
          142898,
          143061,
          146836,
          150149,
          152672,
          153785,
          154322,
          154842,
          155232,
          156109,
          156174,
          156790,
          156500,
          156283,
          155544,
          154896,
          155307,
          155742,
          156194,
          155881,
          155468,
          154916,
          154480,
          154828,
          155679,
          156773,
          156821,
          157015,
          156576,
          156660,
          156866
         ],
         "yaxis": "y"
        },
        {
         "hovertemplate": "City=Del Rey<br>date=%{x}<br>value=%{y}<extra></extra>",
         "legendgroup": "Del Rey",
         "line": {
          "color": "#EF553B",
          "dash": "solid"
         },
         "mode": "lines",
         "name": "Del Rey",
         "showlegend": true,
         "type": "scattergl",
         "x": [
          "1996-01-31",
          "1996-02-29",
          "1996-03-31",
          "1996-04-30",
          "1996-05-31",
          "1996-06-30",
          "1996-07-31",
          "1996-08-31",
          "1996-09-30",
          "1996-10-31",
          "1996-11-30",
          "1996-12-31",
          "1997-01-31",
          "1997-02-28",
          "1997-03-31",
          "1997-04-30",
          "1997-05-31",
          "1997-06-30",
          "1997-07-31",
          "1997-08-31",
          "1997-09-30",
          "1997-10-31",
          "1997-11-30",
          "1997-12-31",
          "1998-01-31",
          "1998-02-28",
          "1998-03-31",
          "1998-04-30",
          "1998-05-31",
          "1998-06-30",
          "1998-07-31",
          "1998-08-31",
          "1998-09-30",
          "1998-10-31",
          "1998-11-30",
          "1998-12-31",
          "1999-01-31",
          "1999-02-28",
          "1999-03-31",
          "1999-04-30",
          "1999-05-31",
          "1999-06-30",
          "1999-07-31",
          "1999-08-31",
          "1999-09-30",
          "1999-10-31",
          "1999-11-30",
          "1999-12-31",
          "2000-01-31",
          "2000-02-29",
          "2000-03-31",
          "2000-04-30",
          "2000-05-31",
          "2000-06-30",
          "2000-07-31",
          "2000-08-31",
          "2000-09-30",
          "2000-10-31",
          "2000-11-30",
          "2000-12-31",
          "2001-01-31",
          "2001-02-28",
          "2001-03-31",
          "2001-04-30",
          "2001-05-31",
          "2001-06-30",
          "2001-07-31",
          "2001-08-31",
          "2001-09-30",
          "2001-10-31",
          "2001-11-30",
          "2001-12-31",
          "2002-01-31",
          "2002-02-28",
          "2002-03-31",
          "2002-04-30",
          "2002-05-31",
          "2002-06-30",
          "2002-07-31",
          "2002-08-31",
          "2002-09-30",
          "2002-10-31",
          "2002-11-30",
          "2002-12-31",
          "2003-01-31",
          "2003-02-28",
          "2003-03-31",
          "2003-04-30",
          "2003-05-31",
          "2003-06-30",
          "2003-07-31",
          "2003-08-31",
          "2003-09-30",
          "2003-10-31",
          "2003-11-30",
          "2003-12-31",
          "2004-01-31",
          "2004-02-29",
          "2004-03-31",
          "2004-04-30",
          "2004-05-31",
          "2004-06-30",
          "2004-07-31",
          "2004-08-31",
          "2004-09-30",
          "2004-10-31",
          "2004-11-30",
          "2004-12-31",
          "2005-01-31",
          "2005-02-28",
          "2005-03-31",
          "2005-04-30",
          "2005-05-31",
          "2005-06-30",
          "2005-07-31",
          "2005-08-31",
          "2005-09-30",
          "2005-10-31",
          "2005-11-30",
          "2005-12-31",
          "2006-01-31",
          "2006-02-28",
          "2006-03-31",
          "2006-04-30",
          "2006-05-31",
          "2006-06-30",
          "2006-07-31",
          "2006-08-31",
          "2006-09-30",
          "2006-10-31",
          "2006-11-30",
          "2006-12-31",
          "2007-01-31",
          "2007-02-28",
          "2007-03-31",
          "2007-04-30",
          "2007-05-31",
          "2007-06-30",
          "2007-07-31",
          "2007-08-31",
          "2007-09-30",
          "2007-10-31",
          "2007-11-30",
          "2007-12-31",
          "2008-01-31",
          "2008-02-29",
          "2008-03-31",
          "2008-04-30",
          "2008-05-31",
          "2008-06-30",
          "2008-07-31",
          "2008-08-31",
          "2008-09-30",
          "2008-10-31",
          "2008-11-30",
          "2008-12-31",
          "2009-01-31",
          "2009-02-28",
          "2009-03-31",
          "2009-04-30",
          "2009-05-31",
          "2009-06-30",
          "2009-07-31",
          "2009-08-31",
          "2009-09-30",
          "2009-10-31",
          "2009-11-30",
          "2009-12-31",
          "2010-01-31",
          "2010-02-28",
          "2010-03-31",
          "2010-04-30",
          "2010-05-31",
          "2010-06-30",
          "2010-07-31",
          "2010-08-31",
          "2010-09-30",
          "2010-10-31",
          "2010-11-30",
          "2010-12-31",
          "2011-01-31",
          "2011-02-28",
          "2011-03-31",
          "2011-04-30",
          "2011-05-31",
          "2011-06-30",
          "2011-07-31",
          "2011-08-31",
          "2011-09-30",
          "2011-10-31",
          "2011-11-30",
          "2011-12-31",
          "2012-01-31",
          "2012-02-29",
          "2012-03-31",
          "2012-04-30",
          "2012-05-31",
          "2012-06-30",
          "2012-07-31",
          "2012-08-31",
          "2012-09-30",
          "2012-10-31",
          "2012-11-30",
          "2012-12-31",
          "2013-01-31",
          "2013-02-28",
          "2013-03-31",
          "2013-04-30",
          "2013-05-31",
          "2013-06-30",
          "2013-07-31",
          "2013-08-31",
          "2013-09-30",
          "2013-10-31",
          "2013-11-30",
          "2013-12-31",
          "2014-01-31",
          "2014-02-28",
          "2014-03-31",
          "2014-04-30",
          "2014-05-31",
          "2014-06-30",
          "2014-07-31",
          "2014-08-31",
          "2014-09-30",
          "2014-10-31",
          "2014-11-30",
          "2014-12-31",
          "2015-01-31",
          "2015-02-28",
          "2015-03-31",
          "2015-04-30",
          "2015-05-31",
          "2015-06-30",
          "2015-07-31",
          "2015-08-31",
          "2015-09-30",
          "2015-10-31",
          "2015-11-30",
          "2015-12-31",
          "2016-01-31",
          "2016-02-29",
          "2016-03-31",
          "2016-04-30",
          "2016-05-31",
          "2016-06-30",
          "2016-07-31",
          "2016-08-31",
          "2016-09-30",
          "2016-10-31",
          "2016-11-30",
          "2016-12-31",
          "2017-01-31",
          "2017-02-28",
          "2017-03-31",
          "2017-04-30",
          "2017-05-31",
          "2017-06-30",
          "2017-07-31",
          "2017-08-31",
          "2017-09-30",
          "2017-10-31",
          "2017-11-30",
          "2017-12-31",
          "2018-01-31",
          "2018-02-28",
          "2018-03-31",
          "2018-04-30",
          "2018-05-31",
          "2018-06-30",
          "2018-07-31",
          "2018-08-31",
          "2018-09-30",
          "2018-10-31",
          "2018-11-30",
          "2018-12-31",
          "2019-01-31",
          "2019-02-28",
          "2019-03-31",
          "2019-04-30",
          "2019-05-31",
          "2019-06-30",
          "2019-07-31",
          "2019-08-31",
          "2019-09-30",
          "2019-10-31",
          "2019-11-30",
          "2019-12-31",
          "2020-01-31",
          "2020-02-29",
          "2020-03-31",
          "2020-04-30",
          "2020-05-31",
          "2020-06-30",
          "2020-07-31",
          "2020-08-31",
          "2020-09-30",
          "2020-10-31",
          "2020-11-30",
          "2020-12-31",
          "2021-01-31",
          "2021-02-28",
          "2021-03-31"
         ],
         "xaxis": "x",
         "y": [
          83475,
          82734,
          82253,
          81604,
          81592,
          81817,
          81875,
          82354,
          82774,
          83461,
          83627,
          83950,
          84120,
          84782,
          85355,
          85687,
          84865,
          84008,
          83629,
          83085,
          82939,
          82474,
          82939,
          83375,
          84163,
          84964,
          85794,
          86407,
          87591,
          88590,
          89386,
          89835,
          89764,
          89887,
          89691,
          89367,
          88672,
          87932,
          88121,
          88993,
          89961,
          90382,
          90593,
          90183,
          90049,
          89737,
          89936,
          90153,
          90882,
          91703,
          91396,
          90503,
          89391,
          89348,
          89227,
          90074,
          90838,
          91872,
          92469,
          93079,
          93541,
          93683,
          93754,
          94025,
          94192,
          94520,
          95174,
          95385,
          95364,
          95475,
          96038,
          96687,
          96806,
          97349,
          98310,
          99402,
          100468,
          101311,
          102323,
          103026,
          103863,
          104235,
          104684,
          105534,
          106784,
          108172,
          109488,
          111249,
          112404,
          113594,
          114322,
          116442,
          118663,
          121474,
          123806,
          125885,
          128184,
          130086,
          132111,
          133229,
          136387,
          139586,
          143350,
          146157,
          149656,
          152589,
          155978,
          158235,
          161033,
          163405,
          166852,
          171124,
          174570,
          177048,
          179516,
          182797,
          186323,
          190592,
          194139,
          199444,
          203328,
          207224,
          210086,
          212546,
          215649,
          219524,
          223134,
          224655,
          224771,
          224165,
          224685,
          224514,
          224057,
          225398,
          225688,
          227110,
          224541,
          222702,
          220303,
          220410,
          218848,
          216440,
          211667,
          207106,
          203622,
          198709,
          194098,
          187785,
          184897,
          181021,
          176041,
          168957,
          162566,
          157578,
          153242,
          149225,
          145628,
          142297,
          139237,
          135856,
          131862,
          127822,
          125307,
          123235,
          122492,
          121058,
          120567,
          119940,
          118981,
          118661,
          118481,
          119375,
          119813,
          120687,
          121216,
          121712,
          120575,
          119928,
          119476,
          119218,
          117744,
          115075,
          112917,
          110511,
          108826,
          107680,
          106841,
          106829,
          107438,
          108216,
          108044,
          107740,
          108878,
          111210,
          113001,
          114804,
          115942,
          116300,
          116954,
          116823,
          117752,
          117664,
          118866,
          119982,
          120871,
          121550,
          122442,
          124412,
          126602,
          129210,
          131444,
          134297,
          136438,
          138929,
          140678,
          142742,
          145146,
          147120,
          149130,
          149419,
          150602,
          151249,
          151200,
          150807,
          150567,
          151963,
          153081,
          153830,
          153954,
          154139,
          154244,
          155370,
          156179,
          158010,
          160088,
          162327,
          164031,
          164454,
          165493,
          166350,
          167136,
          167716,
          168590,
          169445,
          170274,
          170561,
          170860,
          171236,
          172003,
          173230,
          173992,
          175574,
          177043,
          179012,
          181090,
          182608,
          182626,
          182345,
          182725,
          184040,
          185731,
          187943,
          189593,
          191059,
          192414,
          193848,
          193957,
          194905,
          198305,
          201903,
          204452,
          204393,
          204586,
          204222,
          205730,
          206774,
          209136,
          210625,
          213284,
          214370,
          214661,
          215738,
          216821,
          219298,
          219850,
          220904,
          221033,
          220815,
          221092,
          222025,
          223615,
          225201,
          226460,
          227518,
          229172,
          231063,
          234452,
          237844,
          241398,
          245827,
          249485,
          253418,
          256940
         ],
         "yaxis": "y"
        },
        {
         "hovertemplate": "City=Kettleman City<br>date=%{x}<br>value=%{y}<extra></extra>",
         "legendgroup": "Kettleman City",
         "line": {
          "color": "#00cc96",
          "dash": "solid"
         },
         "mode": "lines",
         "name": "Kettleman City",
         "showlegend": true,
         "type": "scattergl",
         "x": [
          "2005-12-31",
          "2006-01-31",
          "2006-02-28",
          "2006-03-31",
          "2006-04-30",
          "2006-05-31",
          "2006-06-30",
          "2006-07-31",
          "2006-08-31",
          "2006-09-30",
          "2006-10-31",
          "2006-11-30",
          "2006-12-31",
          "2007-01-31",
          "2007-02-28",
          "2007-03-31",
          "2007-04-30",
          "2007-05-31",
          "2007-06-30",
          "2007-07-31",
          "2007-08-31",
          "2007-09-30",
          "2007-10-31",
          "2007-11-30",
          "2007-12-31",
          "2008-01-31",
          "2008-02-29",
          "2008-03-31",
          "2008-04-30",
          "2008-05-31",
          "2008-06-30",
          "2008-07-31",
          "2008-08-31",
          "2008-09-30",
          "2008-10-31",
          "2008-11-30",
          "2008-12-31",
          "2009-01-31",
          "2009-02-28",
          "2009-03-31",
          "2009-04-30",
          "2009-05-31",
          "2009-06-30",
          "2009-07-31",
          "2009-08-31",
          "2009-09-30",
          "2009-10-31",
          "2009-11-30",
          "2009-12-31",
          "2010-01-31",
          "2010-02-28",
          "2010-03-31",
          "2010-04-30",
          "2010-05-31",
          "2010-06-30",
          "2010-07-31",
          "2010-08-31",
          "2010-09-30",
          "2010-10-31",
          "2010-11-30",
          "2010-12-31",
          "2011-01-31",
          "2011-02-28",
          "2011-03-31",
          "2011-04-30",
          "2011-05-31",
          "2011-06-30",
          "2011-07-31",
          "2011-08-31",
          "2011-09-30",
          "2011-10-31",
          "2011-11-30",
          "2011-12-31",
          "2012-01-31",
          "2012-02-29",
          "2012-03-31",
          "2012-04-30",
          "2012-05-31",
          "2012-06-30",
          "2012-07-31",
          "2012-08-31",
          "2012-09-30",
          "2012-10-31",
          "2012-11-30",
          "2012-12-31",
          "2013-01-31",
          "2013-02-28",
          "2013-03-31",
          "2013-04-30",
          "2013-05-31",
          "2013-06-30",
          "2013-07-31",
          "2013-08-31",
          "2013-09-30",
          "2013-10-31",
          "2013-11-30",
          "2013-12-31",
          "2014-01-31",
          "2014-02-28",
          "2014-03-31",
          "2014-04-30",
          "2014-05-31",
          "2014-06-30",
          "2014-07-31",
          "2014-08-31",
          "2014-09-30",
          "2014-10-31",
          "2014-11-30",
          "2014-12-31",
          "2015-01-31",
          "2015-02-28",
          "2015-03-31",
          "2015-04-30",
          "2015-05-31",
          "2015-06-30",
          "2015-07-31",
          "2015-08-31",
          "2015-09-30",
          "2015-10-31",
          "2015-11-30",
          "2015-12-31",
          "2016-01-31",
          "2016-02-29",
          "2016-03-31",
          "2016-04-30",
          "2016-05-31",
          "2016-06-30",
          "2016-07-31",
          "2016-08-31",
          "2016-09-30",
          "2016-10-31",
          "2016-11-30",
          "2016-12-31",
          "2017-01-31",
          "2017-02-28",
          "2017-03-31",
          "2017-04-30",
          "2017-05-31",
          "2017-06-30",
          "2017-07-31",
          "2017-08-31",
          "2017-09-30",
          "2017-10-31",
          "2017-11-30",
          "2017-12-31",
          "2018-01-31",
          "2018-02-28",
          "2018-03-31",
          "2018-04-30",
          "2018-05-31",
          "2018-06-30",
          "2018-07-31",
          "2018-08-31",
          "2018-09-30",
          "2018-10-31",
          "2018-11-30",
          "2018-12-31",
          "2019-01-31",
          "2019-02-28",
          "2019-03-31",
          "2019-04-30",
          "2019-05-31",
          "2019-06-30",
          "2019-07-31",
          "2019-08-31",
          "2019-09-30",
          "2019-10-31",
          "2019-11-30",
          "2019-12-31",
          "2020-01-31",
          "2020-02-29",
          "2020-03-31",
          "2020-04-30",
          "2020-05-31",
          "2020-06-30",
          "2020-07-31",
          "2020-08-31",
          "2020-09-30",
          "2020-10-31",
          "2020-11-30",
          "2020-12-31",
          "2021-01-31",
          "2021-02-28",
          "2021-03-31"
         ],
         "xaxis": "x",
         "y": [
          148596,
          147149,
          145618,
          142985,
          142296,
          143749,
          144970,
          145377,
          144237,
          143631,
          143949,
          145254,
          146453,
          148274,
          151261,
          155592,
          156966,
          155334,
          154093,
          154331,
          156759,
          157450,
          156617,
          153936,
          151854,
          148783,
          145444,
          141135,
          138027,
          135127,
          132143,
          129081,
          126651,
          125786,
          125270,
          124858,
          123445,
          122917,
          121708,
          120224,
          118107,
          116476,
          115453,
          114887,
          113729,
          112420,
          110859,
          110243,
          109982,
          109656,
          110092,
          109826,
          110818,
          111880,
          112704,
          111603,
          109631,
          107597,
          106624,
          105510,
          104895,
          103854,
          102821,
          101771,
          99476,
          95873,
          92002,
          90927,
          91866,
          93118,
          93264,
          92654,
          91636,
          91388,
          90969,
          91629,
          92650,
          95082,
          97326,
          97552,
          96299,
          94337,
          92639,
          91647,
          91061,
          90691,
          90281,
          89968,
          89919,
          89997,
          90439,
          91192,
          92701,
          94632,
          97362,
          99248,
          100626,
          100104,
          99244,
          97533,
          97322,
          97721,
          99576,
          101246,
          101933,
          101667,
          101170,
          101796,
          103130,
          105720,
          108859,
          112744,
          114904,
          115633,
          113503,
          111309,
          109903,
          110810,
          111576,
          111832,
          111497,
          112880,
          115286,
          117467,
          118266,
          118208,
          119918,
          123686,
          128626,
          131731,
          133793,
          135451,
          137704,
          138816,
          138882,
          138059,
          139053,
          140728,
          142545,
          142279,
          140702,
          139636,
          139306,
          139892,
          139649,
          138571,
          136039,
          135190,
          133840,
          134724,
          134497,
          135406,
          136234,
          137113,
          138168,
          139324,
          141023,
          142424,
          144852,
          146563,
          149844,
          151938,
          153713,
          153415,
          150822,
          148884,
          148700,
          149021,
          150127,
          150243,
          151789,
          152661,
          153350,
          153187,
          153445,
          154986,
          158481,
          161295,
          162374,
          162707,
          162137,
          162677,
          161844,
          161537
         ],
         "yaxis": "y"
        },
        {
         "hovertemplate": "City=Huron<br>date=%{x}<br>value=%{y}<extra></extra>",
         "legendgroup": "Huron",
         "line": {
          "color": "#ab63fa",
          "dash": "solid"
         },
         "mode": "lines",
         "name": "Huron",
         "showlegend": true,
         "type": "scattergl",
         "x": [
          "1996-01-31",
          "1996-02-29",
          "1996-03-31",
          "1996-04-30",
          "1996-05-31",
          "1996-06-30",
          "1996-07-31",
          "1996-08-31",
          "1996-09-30",
          "1996-10-31",
          "1996-11-30",
          "1996-12-31",
          "1997-01-31",
          "1997-02-28",
          "1997-03-31",
          "1997-04-30",
          "1997-05-31",
          "1997-06-30",
          "1997-07-31",
          "1997-08-31",
          "1997-09-30",
          "1997-10-31",
          "1997-11-30",
          "1997-12-31",
          "1998-01-31",
          "1998-02-28",
          "1998-03-31",
          "1998-04-30",
          "1998-05-31",
          "1998-06-30",
          "1998-07-31",
          "1998-08-31",
          "1998-09-30",
          "1998-10-31",
          "1998-11-30",
          "1998-12-31",
          "1999-01-31",
          "1999-02-28",
          "1999-03-31",
          "1999-04-30",
          "1999-05-31",
          "1999-06-30",
          "1999-07-31",
          "1999-08-31",
          "1999-09-30",
          "1999-10-31",
          "1999-11-30",
          "1999-12-31",
          "2000-01-31",
          "2000-02-29",
          "2000-03-31",
          "2000-04-30",
          "2000-05-31",
          "2000-06-30",
          "2000-07-31",
          "2000-08-31",
          "2000-09-30",
          "2000-10-31",
          "2000-11-30",
          "2000-12-31",
          "2001-01-31",
          "2001-02-28",
          "2001-03-31",
          "2001-04-30",
          "2001-05-31",
          "2001-06-30",
          "2001-07-31",
          "2001-08-31",
          "2001-09-30",
          "2001-10-31",
          "2001-11-30",
          "2001-12-31",
          "2002-01-31",
          "2002-02-28",
          "2002-03-31",
          "2002-04-30",
          "2002-05-31",
          "2002-06-30",
          "2002-07-31",
          "2002-08-31",
          "2002-09-30",
          "2002-10-31",
          "2002-11-30",
          "2002-12-31",
          "2003-01-31",
          "2003-02-28",
          "2003-03-31",
          "2003-04-30",
          "2003-05-31",
          "2003-06-30",
          "2003-07-31",
          "2003-08-31",
          "2003-09-30",
          "2003-10-31",
          "2003-11-30",
          "2003-12-31",
          "2004-01-31",
          "2004-02-29",
          "2004-03-31",
          "2004-04-30",
          "2004-05-31",
          "2004-06-30",
          "2004-07-31",
          "2004-08-31",
          "2004-09-30",
          "2004-10-31",
          "2004-11-30",
          "2004-12-31",
          "2005-01-31",
          "2005-02-28",
          "2005-03-31",
          "2005-04-30",
          "2005-05-31",
          "2005-06-30",
          "2005-07-31",
          "2005-08-31",
          "2005-09-30",
          "2005-10-31",
          "2005-11-30",
          "2005-12-31",
          "2006-01-31",
          "2006-02-28",
          "2006-03-31",
          "2006-04-30",
          "2006-05-31",
          "2006-06-30",
          "2006-07-31",
          "2006-08-31",
          "2006-09-30",
          "2006-10-31",
          "2006-11-30",
          "2006-12-31",
          "2007-01-31",
          "2007-02-28",
          "2007-03-31",
          "2007-04-30",
          "2007-05-31",
          "2007-06-30",
          "2007-07-31",
          "2007-08-31",
          "2007-09-30",
          "2007-10-31",
          "2007-11-30",
          "2007-12-31",
          "2008-01-31",
          "2008-02-29",
          "2008-03-31",
          "2008-04-30",
          "2008-05-31",
          "2008-06-30",
          "2008-07-31",
          "2008-08-31",
          "2008-09-30",
          "2008-10-31",
          "2008-11-30",
          "2008-12-31",
          "2009-01-31",
          "2009-02-28",
          "2009-03-31",
          "2009-04-30",
          "2009-05-31",
          "2009-06-30",
          "2009-07-31",
          "2009-08-31",
          "2009-09-30",
          "2009-10-31",
          "2009-11-30",
          "2009-12-31",
          "2010-01-31",
          "2010-02-28",
          "2010-03-31",
          "2010-04-30",
          "2010-05-31",
          "2010-06-30",
          "2010-07-31",
          "2010-08-31",
          "2010-09-30",
          "2010-10-31",
          "2010-11-30",
          "2010-12-31",
          "2011-01-31",
          "2011-02-28",
          "2011-03-31",
          "2011-04-30",
          "2011-05-31",
          "2011-06-30",
          "2011-07-31",
          "2011-08-31",
          "2011-09-30",
          "2011-10-31",
          "2011-11-30",
          "2011-12-31",
          "2012-01-31",
          "2012-02-29",
          "2012-03-31",
          "2012-04-30",
          "2012-05-31",
          "2012-06-30",
          "2012-07-31",
          "2012-08-31",
          "2012-09-30",
          "2012-10-31",
          "2012-11-30",
          "2012-12-31",
          "2013-01-31",
          "2013-02-28",
          "2013-03-31",
          "2013-04-30",
          "2013-05-31",
          "2013-06-30",
          "2013-07-31",
          "2013-08-31",
          "2013-09-30",
          "2013-10-31",
          "2013-11-30",
          "2013-12-31",
          "2014-01-31",
          "2014-02-28",
          "2014-03-31",
          "2014-04-30",
          "2014-05-31",
          "2014-06-30",
          "2014-07-31",
          "2014-08-31",
          "2014-09-30",
          "2014-10-31",
          "2014-11-30",
          "2014-12-31",
          "2015-01-31",
          "2015-02-28",
          "2015-03-31",
          "2015-04-30",
          "2015-05-31",
          "2015-06-30",
          "2015-07-31",
          "2015-08-31",
          "2015-09-30",
          "2015-10-31",
          "2015-11-30",
          "2015-12-31",
          "2016-01-31",
          "2016-02-29",
          "2016-03-31",
          "2016-04-30",
          "2016-05-31",
          "2016-06-30",
          "2016-07-31",
          "2016-08-31",
          "2016-09-30",
          "2016-10-31",
          "2016-11-30",
          "2016-12-31",
          "2017-01-31",
          "2017-02-28",
          "2017-03-31",
          "2017-04-30",
          "2017-05-31",
          "2017-06-30",
          "2017-07-31",
          "2017-08-31",
          "2017-09-30",
          "2017-10-31",
          "2017-11-30",
          "2017-12-31",
          "2018-01-31",
          "2018-02-28",
          "2018-03-31",
          "2018-04-30",
          "2018-05-31",
          "2018-06-30",
          "2018-07-31",
          "2018-08-31",
          "2018-09-30",
          "2018-10-31",
          "2018-11-30",
          "2018-12-31",
          "2019-01-31",
          "2019-02-28",
          "2019-03-31",
          "2019-04-30",
          "2019-05-31",
          "2019-06-30",
          "2019-07-31",
          "2019-08-31",
          "2019-09-30",
          "2019-10-31",
          "2019-11-30",
          "2019-12-31",
          "2020-01-31",
          "2020-02-29",
          "2020-03-31",
          "2020-04-30",
          "2020-05-31",
          "2020-06-30",
          "2020-07-31",
          "2020-08-31",
          "2020-09-30",
          "2020-10-31",
          "2020-11-30",
          "2020-12-31",
          "2021-01-31",
          "2021-02-28",
          "2021-03-31"
         ],
         "xaxis": "x",
         "y": [
          61334,
          61343,
          60950,
          60632,
          60497,
          60847,
          60934,
          60941,
          60782,
          60920,
          60955,
          61162,
          61252,
          61382,
          61992,
          62575,
          62865,
          62648,
          62693,
          63173,
          63904,
          64256,
          64719,
          65170,
          66377,
          67214,
          67738,
          67754,
          68019,
          68181,
          68712,
          68806,
          69121,
          69477,
          69855,
          69808,
          68665,
          68073,
          68116,
          68890,
          69564,
          70066,
          70307,
          70365,
          70016,
          69702,
          69731,
          69967,
          70402,
          70426,
          70146,
          69358,
          68233,
          67755,
          67555,
          68036,
          68336,
          68276,
          67886,
          67672,
          68430,
          69256,
          69719,
          69981,
          70285,
          70515,
          70808,
          70826,
          70880,
          71381,
          72293,
          73181,
          73494,
          73764,
          74197,
          74607,
          75294,
          75991,
          76398,
          76551,
          77131,
          77837,
          78295,
          78890,
          79595,
          80338,
          81102,
          82203,
          83492,
          84382,
          85285,
          86500,
          88011,
          89614,
          91114,
          92299,
          92705,
          93613,
          94866,
          96676,
          98487,
          101073,
          103912,
          106415,
          107850,
          108145,
          108537,
          108825,
          110835,
          112352,
          113873,
          114546,
          114323,
          113723,
          113223,
          114216,
          115606,
          118423,
          120934,
          124002,
          125123,
          126968,
          128617,
          131031,
          134153,
          137396,
          140619,
          142129,
          144629,
          145600,
          147345,
          148394,
          150497,
          151676,
          152489,
          153643,
          153264,
          152958,
          152121,
          152828,
          151362,
          150288,
          148558,
          147902,
          147141,
          145022,
          142665,
          139187,
          139146,
          139105,
          138545,
          135177,
          132545,
          130611,
          129206,
          126683,
          124265,
          123278,
          123201,
          122789,
          120119,
          116181,
          113921,
          114498,
          116012,
          116445,
          115251,
          114876,
          114674,
          115458,
          115449,
          115604,
          115626,
          116815,
          116252,
          113464,
          110052,
          108505,
          109416,
          110326,
          110444,
          108698,
          106612,
          104583,
          103769,
          102881,
          102827,
          102734,
          102809,
          101760,
          100442,
          98027,
          97020,
          96092,
          96624,
          97200,
          97437,
          97375,
          97710,
          99504,
          101288,
          102653,
          103251,
          104716,
          104610,
          105420,
          105094,
          106809,
          108141,
          110954,
          112977,
          114441,
          115395,
          116878,
          118590,
          120546,
          123541,
          126611,
          130479,
          131324,
          132171,
          130978,
          130632,
          130238,
          130599,
          131468,
          132063,
          132027,
          131162,
          129721,
          128125,
          128100,
          128513,
          129090,
          128689,
          128834,
          128988,
          128543,
          128112,
          128246,
          129612,
          130547,
          131222,
          131430,
          131758,
          132242,
          132066,
          131634,
          131562,
          132849,
          134266,
          135238,
          134991,
          135478,
          136520,
          137486,
          137089,
          137126,
          138664,
          140986,
          143025,
          144298,
          145208,
          145802,
          147416,
          148653,
          148787,
          148088,
          150145,
          152490,
          154416,
          153909,
          152085,
          150263,
          149014,
          150197,
          150831,
          152443,
          153659,
          155610,
          156094,
          156562,
          156005,
          155411,
          155780,
          157074,
          158799,
          158290,
          158784,
          159260,
          162077,
          164691,
          167293,
          169239,
          172036,
          176055,
          180039,
          183479,
          186416,
          190186,
          193316,
          196099,
          197408
         ],
         "yaxis": "y"
        },
        {
         "hovertemplate": "City=Heber<br>date=%{x}<br>value=%{y}<extra></extra>",
         "legendgroup": "Heber",
         "line": {
          "color": "#FFA15A",
          "dash": "solid"
         },
         "mode": "lines",
         "name": "Heber",
         "showlegend": true,
         "type": "scattergl",
         "x": [
          "1997-01-31",
          "1997-02-28",
          "1997-03-31",
          "1997-04-30",
          "1997-05-31",
          "1997-06-30",
          "1997-07-31",
          "1997-08-31",
          "1997-09-30",
          "1997-10-31",
          "1997-11-30",
          "1997-12-31",
          "1998-01-31",
          "1998-02-28",
          "1998-03-31",
          "1998-04-30",
          "1998-05-31",
          "1998-06-30",
          "1998-07-31",
          "1998-08-31",
          "1998-09-30",
          "1998-10-31",
          "1998-11-30",
          "1998-12-31",
          "1999-01-31",
          "1999-02-28",
          "1999-03-31",
          "1999-04-30",
          "1999-05-31",
          "1999-06-30",
          "1999-07-31",
          "1999-08-31",
          "1999-09-30",
          "1999-10-31",
          "1999-11-30",
          "1999-12-31",
          "2000-01-31",
          "2000-02-29",
          "2000-03-31",
          "2000-04-30",
          "2000-05-31",
          "2000-06-30",
          "2000-07-31",
          "2000-08-31",
          "2000-09-30",
          "2000-10-31",
          "2000-11-30",
          "2000-12-31",
          "2001-01-31",
          "2001-02-28",
          "2001-03-31",
          "2001-04-30",
          "2001-05-31",
          "2001-06-30",
          "2001-07-31",
          "2001-08-31",
          "2001-09-30",
          "2001-10-31",
          "2001-11-30",
          "2001-12-31",
          "2002-01-31",
          "2002-02-28",
          "2002-03-31",
          "2002-04-30",
          "2002-05-31",
          "2002-06-30",
          "2002-07-31",
          "2002-08-31",
          "2002-09-30",
          "2002-10-31",
          "2002-11-30",
          "2002-12-31",
          "2003-01-31",
          "2003-02-28",
          "2003-03-31",
          "2003-04-30",
          "2003-05-31",
          "2003-06-30",
          "2003-07-31",
          "2003-08-31",
          "2003-09-30",
          "2003-10-31",
          "2003-11-30",
          "2003-12-31",
          "2004-01-31",
          "2004-02-29",
          "2004-03-31",
          "2004-04-30",
          "2004-05-31",
          "2004-06-30",
          "2004-07-31",
          "2004-08-31",
          "2004-09-30",
          "2004-10-31",
          "2004-11-30",
          "2004-12-31",
          "2005-01-31",
          "2005-02-28",
          "2005-03-31",
          "2005-04-30",
          "2005-05-31",
          "2005-06-30",
          "2005-07-31",
          "2005-08-31",
          "2005-09-30",
          "2005-10-31",
          "2005-11-30",
          "2005-12-31",
          "2006-01-31",
          "2006-02-28",
          "2006-03-31",
          "2006-04-30",
          "2006-05-31",
          "2006-06-30",
          "2006-07-31",
          "2006-08-31",
          "2006-09-30",
          "2006-10-31",
          "2006-11-30",
          "2006-12-31",
          "2007-01-31",
          "2007-02-28",
          "2007-03-31",
          "2007-04-30",
          "2007-05-31",
          "2007-06-30",
          "2007-07-31",
          "2007-08-31",
          "2007-09-30",
          "2007-10-31",
          "2007-11-30",
          "2007-12-31",
          "2008-01-31",
          "2008-02-29",
          "2008-03-31",
          "2008-04-30",
          "2008-05-31",
          "2008-06-30",
          "2008-07-31",
          "2008-08-31",
          "2008-09-30",
          "2008-10-31",
          "2008-11-30",
          "2008-12-31",
          "2009-01-31",
          "2009-02-28",
          "2009-03-31",
          "2009-04-30",
          "2009-05-31",
          "2009-06-30",
          "2009-07-31",
          "2009-08-31",
          "2009-09-30",
          "2009-10-31",
          "2009-11-30",
          "2009-12-31",
          "2010-01-31",
          "2010-02-28",
          "2010-03-31",
          "2010-04-30",
          "2010-05-31",
          "2010-06-30",
          "2010-07-31",
          "2010-08-31",
          "2010-09-30",
          "2010-10-31",
          "2010-11-30",
          "2010-12-31",
          "2011-01-31",
          "2011-02-28",
          "2011-03-31",
          "2011-04-30",
          "2011-05-31",
          "2011-06-30",
          "2011-07-31",
          "2011-08-31",
          "2011-09-30",
          "2011-10-31",
          "2011-11-30",
          "2011-12-31",
          "2012-01-31",
          "2012-02-29",
          "2012-03-31",
          "2012-04-30",
          "2012-05-31",
          "2012-06-30",
          "2012-07-31",
          "2012-08-31",
          "2012-09-30",
          "2012-10-31",
          "2012-11-30",
          "2012-12-31",
          "2013-01-31",
          "2013-02-28",
          "2013-03-31",
          "2013-04-30",
          "2013-05-31",
          "2013-06-30",
          "2013-07-31",
          "2013-08-31",
          "2013-09-30",
          "2013-10-31",
          "2013-11-30",
          "2013-12-31",
          "2014-01-31",
          "2014-02-28",
          "2014-03-31",
          "2014-04-30",
          "2014-05-31",
          "2014-06-30",
          "2014-07-31",
          "2014-08-31",
          "2014-09-30",
          "2014-10-31",
          "2014-11-30",
          "2014-12-31",
          "2015-01-31",
          "2015-02-28",
          "2015-03-31",
          "2015-04-30",
          "2015-05-31",
          "2015-06-30",
          "2015-07-31",
          "2015-08-31",
          "2015-09-30",
          "2015-10-31",
          "2015-11-30",
          "2015-12-31",
          "2016-01-31",
          "2016-02-29",
          "2016-03-31",
          "2016-04-30",
          "2016-05-31",
          "2016-06-30",
          "2016-07-31",
          "2016-08-31",
          "2016-09-30",
          "2016-10-31",
          "2016-11-30",
          "2016-12-31",
          "2017-01-31",
          "2017-02-28",
          "2017-03-31",
          "2017-04-30",
          "2017-05-31",
          "2017-06-30",
          "2017-07-31",
          "2017-08-31",
          "2017-09-30",
          "2017-10-31",
          "2017-11-30",
          "2017-12-31",
          "2018-01-31",
          "2018-02-28",
          "2018-03-31",
          "2018-04-30",
          "2018-05-31",
          "2018-06-30",
          "2018-07-31",
          "2018-08-31",
          "2018-09-30",
          "2018-10-31",
          "2018-11-30",
          "2018-12-31",
          "2019-01-31",
          "2019-02-28",
          "2019-03-31",
          "2019-04-30",
          "2019-05-31",
          "2019-06-30",
          "2019-07-31",
          "2019-08-31",
          "2019-09-30",
          "2019-10-31",
          "2019-11-30",
          "2019-12-31",
          "2020-01-31",
          "2020-02-29",
          "2020-03-31",
          "2020-04-30",
          "2020-05-31",
          "2020-06-30",
          "2020-07-31",
          "2020-08-31",
          "2020-09-30",
          "2020-10-31",
          "2020-11-30",
          "2020-12-31",
          "2021-01-31",
          "2021-02-28",
          "2021-03-31"
         ],
         "xaxis": "x",
         "y": [
          91507,
          91237,
          91055,
          90268,
          89638,
          89241,
          89222,
          89402,
          89574,
          89780,
          90197,
          90521,
          91104,
          91463,
          91814,
          92684,
          93398,
          93882,
          93949,
          93905,
          93898,
          93890,
          93547,
          93506,
          93265,
          93521,
          93612,
          93727,
          93931,
          94302,
          94766,
          95229,
          95906,
          96738,
          97768,
          98719,
          99574,
          100233,
          101257,
          102288,
          103557,
          104559,
          105611,
          106453,
          107250,
          107996,
          109027,
          110072,
          111096,
          111715,
          112046,
          112663,
          113075,
          113874,
          113972,
          114451,
          114353,
          114511,
          114838,
          115468,
          116494,
          117816,
          119206,
          119886,
          120587,
          120579,
          120986,
          121195,
          121824,
          122875,
          123834,
          124917,
          125634,
          125673,
          125960,
          127224,
          128732,
          130288,
          131265,
          132655,
          135195,
          137041,
          137806,
          137714,
          137953,
          139974,
          141786,
          143244,
          144103,
          145667,
          147565,
          149088,
          149678,
          150954,
          153610,
          157388,
          161252,
          164194,
          166552,
          169018,
          171739,
          174492,
          178171,
          182377,
          186586,
          189695,
          192167,
          194391,
          196426,
          198013,
          199259,
          200525,
          202123,
          204627,
          207172,
          208342,
          208576,
          207616,
          207550,
          206453,
          204859,
          203487,
          204210,
          205234,
          206417,
          205206,
          203189,
          201495,
          200619,
          201875,
          201716,
          201615,
          201258,
          200398,
          198165,
          194504,
          190400,
          186935,
          183232,
          179902,
          176604,
          173322,
          170417,
          167905,
          165690,
          163686,
          161792,
          160278,
          158992,
          158123,
          157747,
          157313,
          156816,
          156044,
          155609,
          155155,
          154922,
          154833,
          154760,
          154866,
          154697,
          154311,
          153504,
          152762,
          152117,
          151441,
          150391,
          149464,
          148765,
          148657,
          147749,
          146945,
          146077,
          145751,
          145380,
          144557,
          144016,
          143206,
          142673,
          142029,
          141468,
          140476,
          140205,
          139534,
          139217,
          139266,
          139937,
          140885,
          141095,
          140867,
          141138,
          141379,
          140858,
          139986,
          140433,
          142421,
          143809,
          142790,
          141981,
          142529,
          143725,
          145791,
          146626,
          147779,
          148737,
          150322,
          150678,
          150794,
          152340,
          156365,
          159724,
          162129,
          164298,
          166886,
          169562,
          172338,
          176068,
          179228,
          182182,
          183627,
          184607,
          185360,
          185384,
          184289,
          183309,
          182685,
          183278,
          183824,
          185001,
          187408,
          189758,
          191526,
          191757,
          191986,
          193807,
          196551,
          198620,
          199608,
          201847,
          202778,
          203083,
          201690,
          201779,
          202036,
          203479,
          204046,
          205377,
          206826,
          210396,
          213339,
          214205,
          216273,
          218581,
          221519,
          221803,
          224451,
          227838,
          231765,
          232868,
          234203,
          235566,
          238994,
          241796,
          243288,
          242745,
          241876,
          242918,
          244719,
          245753,
          246453,
          246162,
          244987,
          239736,
          233667,
          229255,
          229457,
          232066,
          234283,
          234754,
          233085,
          232513,
          232588,
          234775,
          237735,
          243620,
          249791,
          255928,
          259373,
          262376,
          266490,
          272518
         ],
         "yaxis": "y"
        }
       ],
       "layout": {
        "font": {
         "color": "gray",
         "family": "Courier New"
        },
        "legend": {
         "title": {
          "text": "City"
         },
         "tracegroupgap": 0
        },
        "margin": {
         "t": 60
        },
        "template": {
         "data": {
          "bar": [
           {
            "error_x": {
             "color": "#2a3f5f"
            },
            "error_y": {
             "color": "#2a3f5f"
            },
            "marker": {
             "line": {
              "color": "#E5ECF6",
              "width": 0.5
             }
            },
            "type": "bar"
           }
          ],
          "barpolar": [
           {
            "marker": {
             "line": {
              "color": "#E5ECF6",
              "width": 0.5
             }
            },
            "type": "barpolar"
           }
          ],
          "carpet": [
           {
            "aaxis": {
             "endlinecolor": "#2a3f5f",
             "gridcolor": "white",
             "linecolor": "white",
             "minorgridcolor": "white",
             "startlinecolor": "#2a3f5f"
            },
            "baxis": {
             "endlinecolor": "#2a3f5f",
             "gridcolor": "white",
             "linecolor": "white",
             "minorgridcolor": "white",
             "startlinecolor": "#2a3f5f"
            },
            "type": "carpet"
           }
          ],
          "choropleth": [
           {
            "colorbar": {
             "outlinewidth": 0,
             "ticks": ""
            },
            "type": "choropleth"
           }
          ],
          "contour": [
           {
            "colorbar": {
             "outlinewidth": 0,
             "ticks": ""
            },
            "colorscale": [
             [
              0,
              "#0d0887"
             ],
             [
              0.1111111111111111,
              "#46039f"
             ],
             [
              0.2222222222222222,
              "#7201a8"
             ],
             [
              0.3333333333333333,
              "#9c179e"
             ],
             [
              0.4444444444444444,
              "#bd3786"
             ],
             [
              0.5555555555555556,
              "#d8576b"
             ],
             [
              0.6666666666666666,
              "#ed7953"
             ],
             [
              0.7777777777777778,
              "#fb9f3a"
             ],
             [
              0.8888888888888888,
              "#fdca26"
             ],
             [
              1,
              "#f0f921"
             ]
            ],
            "type": "contour"
           }
          ],
          "contourcarpet": [
           {
            "colorbar": {
             "outlinewidth": 0,
             "ticks": ""
            },
            "type": "contourcarpet"
           }
          ],
          "heatmap": [
           {
            "colorbar": {
             "outlinewidth": 0,
             "ticks": ""
            },
            "colorscale": [
             [
              0,
              "#0d0887"
             ],
             [
              0.1111111111111111,
              "#46039f"
             ],
             [
              0.2222222222222222,
              "#7201a8"
             ],
             [
              0.3333333333333333,
              "#9c179e"
             ],
             [
              0.4444444444444444,
              "#bd3786"
             ],
             [
              0.5555555555555556,
              "#d8576b"
             ],
             [
              0.6666666666666666,
              "#ed7953"
             ],
             [
              0.7777777777777778,
              "#fb9f3a"
             ],
             [
              0.8888888888888888,
              "#fdca26"
             ],
             [
              1,
              "#f0f921"
             ]
            ],
            "type": "heatmap"
           }
          ],
          "heatmapgl": [
           {
            "colorbar": {
             "outlinewidth": 0,
             "ticks": ""
            },
            "colorscale": [
             [
              0,
              "#0d0887"
             ],
             [
              0.1111111111111111,
              "#46039f"
             ],
             [
              0.2222222222222222,
              "#7201a8"
             ],
             [
              0.3333333333333333,
              "#9c179e"
             ],
             [
              0.4444444444444444,
              "#bd3786"
             ],
             [
              0.5555555555555556,
              "#d8576b"
             ],
             [
              0.6666666666666666,
              "#ed7953"
             ],
             [
              0.7777777777777778,
              "#fb9f3a"
             ],
             [
              0.8888888888888888,
              "#fdca26"
             ],
             [
              1,
              "#f0f921"
             ]
            ],
            "type": "heatmapgl"
           }
          ],
          "histogram": [
           {
            "marker": {
             "colorbar": {
              "outlinewidth": 0,
              "ticks": ""
             }
            },
            "type": "histogram"
           }
          ],
          "histogram2d": [
           {
            "colorbar": {
             "outlinewidth": 0,
             "ticks": ""
            },
            "colorscale": [
             [
              0,
              "#0d0887"
             ],
             [
              0.1111111111111111,
              "#46039f"
             ],
             [
              0.2222222222222222,
              "#7201a8"
             ],
             [
              0.3333333333333333,
              "#9c179e"
             ],
             [
              0.4444444444444444,
              "#bd3786"
             ],
             [
              0.5555555555555556,
              "#d8576b"
             ],
             [
              0.6666666666666666,
              "#ed7953"
             ],
             [
              0.7777777777777778,
              "#fb9f3a"
             ],
             [
              0.8888888888888888,
              "#fdca26"
             ],
             [
              1,
              "#f0f921"
             ]
            ],
            "type": "histogram2d"
           }
          ],
          "histogram2dcontour": [
           {
            "colorbar": {
             "outlinewidth": 0,
             "ticks": ""
            },
            "colorscale": [
             [
              0,
              "#0d0887"
             ],
             [
              0.1111111111111111,
              "#46039f"
             ],
             [
              0.2222222222222222,
              "#7201a8"
             ],
             [
              0.3333333333333333,
              "#9c179e"
             ],
             [
              0.4444444444444444,
              "#bd3786"
             ],
             [
              0.5555555555555556,
              "#d8576b"
             ],
             [
              0.6666666666666666,
              "#ed7953"
             ],
             [
              0.7777777777777778,
              "#fb9f3a"
             ],
             [
              0.8888888888888888,
              "#fdca26"
             ],
             [
              1,
              "#f0f921"
             ]
            ],
            "type": "histogram2dcontour"
           }
          ],
          "mesh3d": [
           {
            "colorbar": {
             "outlinewidth": 0,
             "ticks": ""
            },
            "type": "mesh3d"
           }
          ],
          "parcoords": [
           {
            "line": {
             "colorbar": {
              "outlinewidth": 0,
              "ticks": ""
             }
            },
            "type": "parcoords"
           }
          ],
          "pie": [
           {
            "automargin": true,
            "type": "pie"
           }
          ],
          "scatter": [
           {
            "marker": {
             "colorbar": {
              "outlinewidth": 0,
              "ticks": ""
             }
            },
            "type": "scatter"
           }
          ],
          "scatter3d": [
           {
            "line": {
             "colorbar": {
              "outlinewidth": 0,
              "ticks": ""
             }
            },
            "marker": {
             "colorbar": {
              "outlinewidth": 0,
              "ticks": ""
             }
            },
            "type": "scatter3d"
           }
          ],
          "scattercarpet": [
           {
            "marker": {
             "colorbar": {
              "outlinewidth": 0,
              "ticks": ""
             }
            },
            "type": "scattercarpet"
           }
          ],
          "scattergeo": [
           {
            "marker": {
             "colorbar": {
              "outlinewidth": 0,
              "ticks": ""
             }
            },
            "type": "scattergeo"
           }
          ],
          "scattergl": [
           {
            "marker": {
             "colorbar": {
              "outlinewidth": 0,
              "ticks": ""
             }
            },
            "type": "scattergl"
           }
          ],
          "scattermapbox": [
           {
            "marker": {
             "colorbar": {
              "outlinewidth": 0,
              "ticks": ""
             }
            },
            "type": "scattermapbox"
           }
          ],
          "scatterpolar": [
           {
            "marker": {
             "colorbar": {
              "outlinewidth": 0,
              "ticks": ""
             }
            },
            "type": "scatterpolar"
           }
          ],
          "scatterpolargl": [
           {
            "marker": {
             "colorbar": {
              "outlinewidth": 0,
              "ticks": ""
             }
            },
            "type": "scatterpolargl"
           }
          ],
          "scatterternary": [
           {
            "marker": {
             "colorbar": {
              "outlinewidth": 0,
              "ticks": ""
             }
            },
            "type": "scatterternary"
           }
          ],
          "surface": [
           {
            "colorbar": {
             "outlinewidth": 0,
             "ticks": ""
            },
            "colorscale": [
             [
              0,
              "#0d0887"
             ],
             [
              0.1111111111111111,
              "#46039f"
             ],
             [
              0.2222222222222222,
              "#7201a8"
             ],
             [
              0.3333333333333333,
              "#9c179e"
             ],
             [
              0.4444444444444444,
              "#bd3786"
             ],
             [
              0.5555555555555556,
              "#d8576b"
             ],
             [
              0.6666666666666666,
              "#ed7953"
             ],
             [
              0.7777777777777778,
              "#fb9f3a"
             ],
             [
              0.8888888888888888,
              "#fdca26"
             ],
             [
              1,
              "#f0f921"
             ]
            ],
            "type": "surface"
           }
          ],
          "table": [
           {
            "cells": {
             "fill": {
              "color": "#EBF0F8"
             },
             "line": {
              "color": "white"
             }
            },
            "header": {
             "fill": {
              "color": "#C8D4E3"
             },
             "line": {
              "color": "white"
             }
            },
            "type": "table"
           }
          ]
         },
         "layout": {
          "annotationdefaults": {
           "arrowcolor": "#2a3f5f",
           "arrowhead": 0,
           "arrowwidth": 1
          },
          "autotypenumbers": "strict",
          "coloraxis": {
           "colorbar": {
            "outlinewidth": 0,
            "ticks": ""
           }
          },
          "colorscale": {
           "diverging": [
            [
             0,
             "#8e0152"
            ],
            [
             0.1,
             "#c51b7d"
            ],
            [
             0.2,
             "#de77ae"
            ],
            [
             0.3,
             "#f1b6da"
            ],
            [
             0.4,
             "#fde0ef"
            ],
            [
             0.5,
             "#f7f7f7"
            ],
            [
             0.6,
             "#e6f5d0"
            ],
            [
             0.7,
             "#b8e186"
            ],
            [
             0.8,
             "#7fbc41"
            ],
            [
             0.9,
             "#4d9221"
            ],
            [
             1,
             "#276419"
            ]
           ],
           "sequential": [
            [
             0,
             "#0d0887"
            ],
            [
             0.1111111111111111,
             "#46039f"
            ],
            [
             0.2222222222222222,
             "#7201a8"
            ],
            [
             0.3333333333333333,
             "#9c179e"
            ],
            [
             0.4444444444444444,
             "#bd3786"
            ],
            [
             0.5555555555555556,
             "#d8576b"
            ],
            [
             0.6666666666666666,
             "#ed7953"
            ],
            [
             0.7777777777777778,
             "#fb9f3a"
            ],
            [
             0.8888888888888888,
             "#fdca26"
            ],
            [
             1,
             "#f0f921"
            ]
           ],
           "sequentialminus": [
            [
             0,
             "#0d0887"
            ],
            [
             0.1111111111111111,
             "#46039f"
            ],
            [
             0.2222222222222222,
             "#7201a8"
            ],
            [
             0.3333333333333333,
             "#9c179e"
            ],
            [
             0.4444444444444444,
             "#bd3786"
            ],
            [
             0.5555555555555556,
             "#d8576b"
            ],
            [
             0.6666666666666666,
             "#ed7953"
            ],
            [
             0.7777777777777778,
             "#fb9f3a"
            ],
            [
             0.8888888888888888,
             "#fdca26"
            ],
            [
             1,
             "#f0f921"
            ]
           ]
          },
          "colorway": [
           "#636efa",
           "#EF553B",
           "#00cc96",
           "#ab63fa",
           "#FFA15A",
           "#19d3f3",
           "#FF6692",
           "#B6E880",
           "#FF97FF",
           "#FECB52"
          ],
          "font": {
           "color": "#2a3f5f"
          },
          "geo": {
           "bgcolor": "white",
           "lakecolor": "white",
           "landcolor": "#E5ECF6",
           "showlakes": true,
           "showland": true,
           "subunitcolor": "white"
          },
          "hoverlabel": {
           "align": "left"
          },
          "hovermode": "closest",
          "mapbox": {
           "style": "light"
          },
          "paper_bgcolor": "white",
          "plot_bgcolor": "#E5ECF6",
          "polar": {
           "angularaxis": {
            "gridcolor": "white",
            "linecolor": "white",
            "ticks": ""
           },
           "bgcolor": "#E5ECF6",
           "radialaxis": {
            "gridcolor": "white",
            "linecolor": "white",
            "ticks": ""
           }
          },
          "scene": {
           "xaxis": {
            "backgroundcolor": "#E5ECF6",
            "gridcolor": "white",
            "gridwidth": 2,
            "linecolor": "white",
            "showbackground": true,
            "ticks": "",
            "zerolinecolor": "white"
           },
           "yaxis": {
            "backgroundcolor": "#E5ECF6",
            "gridcolor": "white",
            "gridwidth": 2,
            "linecolor": "white",
            "showbackground": true,
            "ticks": "",
            "zerolinecolor": "white"
           },
           "zaxis": {
            "backgroundcolor": "#E5ECF6",
            "gridcolor": "white",
            "gridwidth": 2,
            "linecolor": "white",
            "showbackground": true,
            "ticks": "",
            "zerolinecolor": "white"
           }
          },
          "shapedefaults": {
           "line": {
            "color": "#2a3f5f"
           }
          },
          "ternary": {
           "aaxis": {
            "gridcolor": "white",
            "linecolor": "white",
            "ticks": ""
           },
           "baxis": {
            "gridcolor": "white",
            "linecolor": "white",
            "ticks": ""
           },
           "bgcolor": "#E5ECF6",
           "caxis": {
            "gridcolor": "white",
            "linecolor": "white",
            "ticks": ""
           }
          },
          "title": {
           "x": 0.05
          },
          "xaxis": {
           "automargin": true,
           "gridcolor": "white",
           "linecolor": "white",
           "ticks": "",
           "title": {
            "standoff": 15
           },
           "zerolinecolor": "white",
           "zerolinewidth": 2
          },
          "yaxis": {
           "automargin": true,
           "gridcolor": "white",
           "linecolor": "white",
           "ticks": "",
           "title": {
            "standoff": 15
           },
           "zerolinecolor": "white",
           "zerolinewidth": 2
          }
         }
        },
        "title": {
         "font": {
          "color": "Purple",
          "family": "Times New Roman"
         },
         "text": "Housing Prices Change for Top 5 Hispanic/Latino popular areas"
        },
        "xaxis": {
         "anchor": "y",
         "domain": [
          0,
          1
         ],
         "title": {
          "text": "Date"
         }
        },
        "yaxis": {
         "anchor": "x",
         "domain": [
          0,
          1
         ],
         "title": {
          "text": "Housing Prices"
         }
        }
       }
      },
      "text/html": [
       "<div>                            <div id=\"4ff31a95-ec99-456c-9afc-d960ae8ef276\" class=\"plotly-graph-div\" style=\"height:525px; width:100%;\"></div>            <script type=\"text/javascript\">                require([\"plotly\"], function(Plotly) {                    window.PLOTLYENV=window.PLOTLYENV || {};                                    if (document.getElementById(\"4ff31a95-ec99-456c-9afc-d960ae8ef276\")) {                    Plotly.newPlot(                        \"4ff31a95-ec99-456c-9afc-d960ae8ef276\",                        [{\"hovertemplate\": \"City=Cantua Creek<br>date=%{x}<br>value=%{y}<extra></extra>\", \"legendgroup\": \"Cantua Creek\", \"line\": {\"color\": \"#636efa\", \"dash\": \"solid\"}, \"mode\": \"lines\", \"name\": \"Cantua Creek\", \"showlegend\": true, \"type\": \"scattergl\", \"x\": [\"2010-07-31\", \"2010-08-31\", \"2010-09-30\", \"2010-10-31\", \"2010-11-30\", \"2010-12-31\", \"2011-01-31\", \"2011-02-28\", \"2011-03-31\", \"2011-04-30\", \"2011-05-31\", \"2011-06-30\", \"2011-07-31\", \"2011-08-31\", \"2011-09-30\", \"2011-10-31\", \"2011-11-30\", \"2011-12-31\", \"2012-01-31\", \"2012-02-29\", \"2012-03-31\", \"2012-04-30\", \"2012-05-31\", \"2012-06-30\", \"2012-07-31\", \"2012-08-31\", \"2012-09-30\", \"2012-10-31\", \"2012-11-30\", \"2012-12-31\", \"2013-01-31\", \"2013-02-28\", \"2013-03-31\", \"2013-04-30\", \"2013-05-31\", \"2013-06-30\", \"2013-07-31\", \"2013-08-31\", \"2013-09-30\", \"2013-10-31\", \"2013-11-30\", \"2013-12-31\", \"2014-01-31\", \"2014-02-28\", \"2014-03-31\", \"2014-04-30\", \"2014-05-31\", \"2014-06-30\", \"2014-07-31\", \"2014-08-31\", \"2014-09-30\", \"2014-10-31\", \"2014-11-30\", \"2014-12-31\", \"2015-01-31\", \"2015-02-28\", \"2015-03-31\", \"2015-04-30\", \"2015-05-31\", \"2015-06-30\", \"2015-07-31\", \"2015-08-31\", \"2015-09-30\", \"2015-10-31\", \"2015-11-30\", \"2015-12-31\", \"2016-01-31\", \"2016-02-29\", \"2016-03-31\", \"2016-04-30\", \"2016-05-31\", \"2016-06-30\", \"2016-07-31\", \"2016-08-31\", \"2016-09-30\", \"2016-10-31\", \"2016-11-30\", \"2016-12-31\", \"2017-01-31\", \"2017-02-28\", \"2017-03-31\", \"2017-04-30\", \"2017-05-31\", \"2017-06-30\", \"2017-07-31\", \"2017-08-31\", \"2017-09-30\", \"2017-10-31\", \"2017-11-30\", \"2017-12-31\", \"2018-01-31\", \"2018-02-28\", \"2018-03-31\", \"2018-04-30\", \"2018-05-31\", \"2018-06-30\", \"2018-07-31\", \"2018-08-31\", \"2018-09-30\", \"2018-10-31\", \"2018-11-30\", \"2018-12-31\", \"2019-01-31\", \"2019-02-28\", \"2019-03-31\", \"2019-04-30\", \"2019-05-31\", \"2019-06-30\", \"2019-07-31\", \"2019-08-31\", \"2019-09-30\", \"2019-10-31\", \"2019-11-30\", \"2019-12-31\", \"2020-01-31\", \"2020-02-29\", \"2020-03-31\", \"2020-04-30\", \"2020-05-31\", \"2020-06-30\", \"2020-07-31\", \"2020-08-31\", \"2020-09-30\", \"2020-10-31\", \"2020-11-30\", \"2020-12-31\", \"2021-01-31\", \"2021-02-28\", \"2021-03-31\"], \"xaxis\": \"x\", \"y\": [69518.0, 70020.0, 70649.0, 71927.0, 73437.0, 74344.0, 74639.0, 74327.0, 74485.0, 74908.0, 76524.0, 78119.0, 79204.0, 78943.0, 78317.0, 77894.0, 77364.0, 77430.0, 78391.0, 80077.0, 81157.0, 81471.0, 80152.0, 78318.0, 77674.0, 78876.0, 80959.0, 81963.0, 82778.0, 83610.0, 84231.0, 84810.0, 85109.0, 86268.0, 87163.0, 89392.0, 90517.0, 92204.0, 92607.0, 94455.0, 95485.0, 97023.0, 98398.0, 100119.0, 102223.0, 103442.0, 104528.0, 104412.0, 104698.0, 105072.0, 105803.0, 106113.0, 106176.0, 106484.0, 107255.0, 107319.0, 106143.0, 105442.0, 106576.0, 108811.0, 110031.0, 109080.0, 108059.0, 106138.0, 106250.0, 105359.0, 105799.0, 106005.0, 107420.0, 107866.0, 107824.0, 106676.0, 105864.0, 106106.0, 107896.0, 111416.0, 113664.0, 116845.0, 117896.0, 119924.0, 121374.0, 123703.0, 124228.0, 124919.0, 126150.0, 129288.0, 130698.0, 131468.0, 130735.0, 129830.0, 130118.0, 130898.0, 132462.0, 133774.0, 136464.0, 139187.0, 142455.0, 142235.0, 142898.0, 143061.0, 146836.0, 150149.0, 152672.0, 153785.0, 154322.0, 154842.0, 155232.0, 156109.0, 156174.0, 156790.0, 156500.0, 156283.0, 155544.0, 154896.0, 155307.0, 155742.0, 156194.0, 155881.0, 155468.0, 154916.0, 154480.0, 154828.0, 155679.0, 156773.0, 156821.0, 157015.0, 156576.0, 156660.0, 156866.0], \"yaxis\": \"y\"}, {\"hovertemplate\": \"City=Del Rey<br>date=%{x}<br>value=%{y}<extra></extra>\", \"legendgroup\": \"Del Rey\", \"line\": {\"color\": \"#EF553B\", \"dash\": \"solid\"}, \"mode\": \"lines\", \"name\": \"Del Rey\", \"showlegend\": true, \"type\": \"scattergl\", \"x\": [\"1996-01-31\", \"1996-02-29\", \"1996-03-31\", \"1996-04-30\", \"1996-05-31\", \"1996-06-30\", \"1996-07-31\", \"1996-08-31\", \"1996-09-30\", \"1996-10-31\", \"1996-11-30\", \"1996-12-31\", \"1997-01-31\", \"1997-02-28\", \"1997-03-31\", \"1997-04-30\", \"1997-05-31\", \"1997-06-30\", \"1997-07-31\", \"1997-08-31\", \"1997-09-30\", \"1997-10-31\", \"1997-11-30\", \"1997-12-31\", \"1998-01-31\", \"1998-02-28\", \"1998-03-31\", \"1998-04-30\", \"1998-05-31\", \"1998-06-30\", \"1998-07-31\", \"1998-08-31\", \"1998-09-30\", \"1998-10-31\", \"1998-11-30\", \"1998-12-31\", \"1999-01-31\", \"1999-02-28\", \"1999-03-31\", \"1999-04-30\", \"1999-05-31\", \"1999-06-30\", \"1999-07-31\", \"1999-08-31\", \"1999-09-30\", \"1999-10-31\", \"1999-11-30\", \"1999-12-31\", \"2000-01-31\", \"2000-02-29\", \"2000-03-31\", \"2000-04-30\", \"2000-05-31\", \"2000-06-30\", \"2000-07-31\", \"2000-08-31\", \"2000-09-30\", \"2000-10-31\", \"2000-11-30\", \"2000-12-31\", \"2001-01-31\", \"2001-02-28\", \"2001-03-31\", \"2001-04-30\", \"2001-05-31\", \"2001-06-30\", \"2001-07-31\", \"2001-08-31\", \"2001-09-30\", \"2001-10-31\", \"2001-11-30\", \"2001-12-31\", \"2002-01-31\", \"2002-02-28\", \"2002-03-31\", \"2002-04-30\", \"2002-05-31\", \"2002-06-30\", \"2002-07-31\", \"2002-08-31\", \"2002-09-30\", \"2002-10-31\", \"2002-11-30\", \"2002-12-31\", \"2003-01-31\", \"2003-02-28\", \"2003-03-31\", \"2003-04-30\", \"2003-05-31\", \"2003-06-30\", \"2003-07-31\", \"2003-08-31\", \"2003-09-30\", \"2003-10-31\", \"2003-11-30\", \"2003-12-31\", \"2004-01-31\", \"2004-02-29\", \"2004-03-31\", \"2004-04-30\", \"2004-05-31\", \"2004-06-30\", \"2004-07-31\", \"2004-08-31\", \"2004-09-30\", \"2004-10-31\", \"2004-11-30\", \"2004-12-31\", \"2005-01-31\", \"2005-02-28\", \"2005-03-31\", \"2005-04-30\", \"2005-05-31\", \"2005-06-30\", \"2005-07-31\", \"2005-08-31\", \"2005-09-30\", \"2005-10-31\", \"2005-11-30\", \"2005-12-31\", \"2006-01-31\", \"2006-02-28\", \"2006-03-31\", \"2006-04-30\", \"2006-05-31\", \"2006-06-30\", \"2006-07-31\", \"2006-08-31\", \"2006-09-30\", \"2006-10-31\", \"2006-11-30\", \"2006-12-31\", \"2007-01-31\", \"2007-02-28\", \"2007-03-31\", \"2007-04-30\", \"2007-05-31\", \"2007-06-30\", \"2007-07-31\", \"2007-08-31\", \"2007-09-30\", \"2007-10-31\", \"2007-11-30\", \"2007-12-31\", \"2008-01-31\", \"2008-02-29\", \"2008-03-31\", \"2008-04-30\", \"2008-05-31\", \"2008-06-30\", \"2008-07-31\", \"2008-08-31\", \"2008-09-30\", \"2008-10-31\", \"2008-11-30\", \"2008-12-31\", \"2009-01-31\", \"2009-02-28\", \"2009-03-31\", \"2009-04-30\", \"2009-05-31\", \"2009-06-30\", \"2009-07-31\", \"2009-08-31\", \"2009-09-30\", \"2009-10-31\", \"2009-11-30\", \"2009-12-31\", \"2010-01-31\", \"2010-02-28\", \"2010-03-31\", \"2010-04-30\", \"2010-05-31\", \"2010-06-30\", \"2010-07-31\", \"2010-08-31\", \"2010-09-30\", \"2010-10-31\", \"2010-11-30\", \"2010-12-31\", \"2011-01-31\", \"2011-02-28\", \"2011-03-31\", \"2011-04-30\", \"2011-05-31\", \"2011-06-30\", \"2011-07-31\", \"2011-08-31\", \"2011-09-30\", \"2011-10-31\", \"2011-11-30\", \"2011-12-31\", \"2012-01-31\", \"2012-02-29\", \"2012-03-31\", \"2012-04-30\", \"2012-05-31\", \"2012-06-30\", \"2012-07-31\", \"2012-08-31\", \"2012-09-30\", \"2012-10-31\", \"2012-11-30\", \"2012-12-31\", \"2013-01-31\", \"2013-02-28\", \"2013-03-31\", \"2013-04-30\", \"2013-05-31\", \"2013-06-30\", \"2013-07-31\", \"2013-08-31\", \"2013-09-30\", \"2013-10-31\", \"2013-11-30\", \"2013-12-31\", \"2014-01-31\", \"2014-02-28\", \"2014-03-31\", \"2014-04-30\", \"2014-05-31\", \"2014-06-30\", \"2014-07-31\", \"2014-08-31\", \"2014-09-30\", \"2014-10-31\", \"2014-11-30\", \"2014-12-31\", \"2015-01-31\", \"2015-02-28\", \"2015-03-31\", \"2015-04-30\", \"2015-05-31\", \"2015-06-30\", \"2015-07-31\", \"2015-08-31\", \"2015-09-30\", \"2015-10-31\", \"2015-11-30\", \"2015-12-31\", \"2016-01-31\", \"2016-02-29\", \"2016-03-31\", \"2016-04-30\", \"2016-05-31\", \"2016-06-30\", \"2016-07-31\", \"2016-08-31\", \"2016-09-30\", \"2016-10-31\", \"2016-11-30\", \"2016-12-31\", \"2017-01-31\", \"2017-02-28\", \"2017-03-31\", \"2017-04-30\", \"2017-05-31\", \"2017-06-30\", \"2017-07-31\", \"2017-08-31\", \"2017-09-30\", \"2017-10-31\", \"2017-11-30\", \"2017-12-31\", \"2018-01-31\", \"2018-02-28\", \"2018-03-31\", \"2018-04-30\", \"2018-05-31\", \"2018-06-30\", \"2018-07-31\", \"2018-08-31\", \"2018-09-30\", \"2018-10-31\", \"2018-11-30\", \"2018-12-31\", \"2019-01-31\", \"2019-02-28\", \"2019-03-31\", \"2019-04-30\", \"2019-05-31\", \"2019-06-30\", \"2019-07-31\", \"2019-08-31\", \"2019-09-30\", \"2019-10-31\", \"2019-11-30\", \"2019-12-31\", \"2020-01-31\", \"2020-02-29\", \"2020-03-31\", \"2020-04-30\", \"2020-05-31\", \"2020-06-30\", \"2020-07-31\", \"2020-08-31\", \"2020-09-30\", \"2020-10-31\", \"2020-11-30\", \"2020-12-31\", \"2021-01-31\", \"2021-02-28\", \"2021-03-31\"], \"xaxis\": \"x\", \"y\": [83475.0, 82734.0, 82253.0, 81604.0, 81592.0, 81817.0, 81875.0, 82354.0, 82774.0, 83461.0, 83627.0, 83950.0, 84120.0, 84782.0, 85355.0, 85687.0, 84865.0, 84008.0, 83629.0, 83085.0, 82939.0, 82474.0, 82939.0, 83375.0, 84163.0, 84964.0, 85794.0, 86407.0, 87591.0, 88590.0, 89386.0, 89835.0, 89764.0, 89887.0, 89691.0, 89367.0, 88672.0, 87932.0, 88121.0, 88993.0, 89961.0, 90382.0, 90593.0, 90183.0, 90049.0, 89737.0, 89936.0, 90153.0, 90882.0, 91703.0, 91396.0, 90503.0, 89391.0, 89348.0, 89227.0, 90074.0, 90838.0, 91872.0, 92469.0, 93079.0, 93541.0, 93683.0, 93754.0, 94025.0, 94192.0, 94520.0, 95174.0, 95385.0, 95364.0, 95475.0, 96038.0, 96687.0, 96806.0, 97349.0, 98310.0, 99402.0, 100468.0, 101311.0, 102323.0, 103026.0, 103863.0, 104235.0, 104684.0, 105534.0, 106784.0, 108172.0, 109488.0, 111249.0, 112404.0, 113594.0, 114322.0, 116442.0, 118663.0, 121474.0, 123806.0, 125885.0, 128184.0, 130086.0, 132111.0, 133229.0, 136387.0, 139586.0, 143350.0, 146157.0, 149656.0, 152589.0, 155978.0, 158235.0, 161033.0, 163405.0, 166852.0, 171124.0, 174570.0, 177048.0, 179516.0, 182797.0, 186323.0, 190592.0, 194139.0, 199444.0, 203328.0, 207224.0, 210086.0, 212546.0, 215649.0, 219524.0, 223134.0, 224655.0, 224771.0, 224165.0, 224685.0, 224514.0, 224057.0, 225398.0, 225688.0, 227110.0, 224541.0, 222702.0, 220303.0, 220410.0, 218848.0, 216440.0, 211667.0, 207106.0, 203622.0, 198709.0, 194098.0, 187785.0, 184897.0, 181021.0, 176041.0, 168957.0, 162566.0, 157578.0, 153242.0, 149225.0, 145628.0, 142297.0, 139237.0, 135856.0, 131862.0, 127822.0, 125307.0, 123235.0, 122492.0, 121058.0, 120567.0, 119940.0, 118981.0, 118661.0, 118481.0, 119375.0, 119813.0, 120687.0, 121216.0, 121712.0, 120575.0, 119928.0, 119476.0, 119218.0, 117744.0, 115075.0, 112917.0, 110511.0, 108826.0, 107680.0, 106841.0, 106829.0, 107438.0, 108216.0, 108044.0, 107740.0, 108878.0, 111210.0, 113001.0, 114804.0, 115942.0, 116300.0, 116954.0, 116823.0, 117752.0, 117664.0, 118866.0, 119982.0, 120871.0, 121550.0, 122442.0, 124412.0, 126602.0, 129210.0, 131444.0, 134297.0, 136438.0, 138929.0, 140678.0, 142742.0, 145146.0, 147120.0, 149130.0, 149419.0, 150602.0, 151249.0, 151200.0, 150807.0, 150567.0, 151963.0, 153081.0, 153830.0, 153954.0, 154139.0, 154244.0, 155370.0, 156179.0, 158010.0, 160088.0, 162327.0, 164031.0, 164454.0, 165493.0, 166350.0, 167136.0, 167716.0, 168590.0, 169445.0, 170274.0, 170561.0, 170860.0, 171236.0, 172003.0, 173230.0, 173992.0, 175574.0, 177043.0, 179012.0, 181090.0, 182608.0, 182626.0, 182345.0, 182725.0, 184040.0, 185731.0, 187943.0, 189593.0, 191059.0, 192414.0, 193848.0, 193957.0, 194905.0, 198305.0, 201903.0, 204452.0, 204393.0, 204586.0, 204222.0, 205730.0, 206774.0, 209136.0, 210625.0, 213284.0, 214370.0, 214661.0, 215738.0, 216821.0, 219298.0, 219850.0, 220904.0, 221033.0, 220815.0, 221092.0, 222025.0, 223615.0, 225201.0, 226460.0, 227518.0, 229172.0, 231063.0, 234452.0, 237844.0, 241398.0, 245827.0, 249485.0, 253418.0, 256940.0], \"yaxis\": \"y\"}, {\"hovertemplate\": \"City=Kettleman City<br>date=%{x}<br>value=%{y}<extra></extra>\", \"legendgroup\": \"Kettleman City\", \"line\": {\"color\": \"#00cc96\", \"dash\": \"solid\"}, \"mode\": \"lines\", \"name\": \"Kettleman City\", \"showlegend\": true, \"type\": \"scattergl\", \"x\": [\"2005-12-31\", \"2006-01-31\", \"2006-02-28\", \"2006-03-31\", \"2006-04-30\", \"2006-05-31\", \"2006-06-30\", \"2006-07-31\", \"2006-08-31\", \"2006-09-30\", \"2006-10-31\", \"2006-11-30\", \"2006-12-31\", \"2007-01-31\", \"2007-02-28\", \"2007-03-31\", \"2007-04-30\", \"2007-05-31\", \"2007-06-30\", \"2007-07-31\", \"2007-08-31\", \"2007-09-30\", \"2007-10-31\", \"2007-11-30\", \"2007-12-31\", \"2008-01-31\", \"2008-02-29\", \"2008-03-31\", \"2008-04-30\", \"2008-05-31\", \"2008-06-30\", \"2008-07-31\", \"2008-08-31\", \"2008-09-30\", \"2008-10-31\", \"2008-11-30\", \"2008-12-31\", \"2009-01-31\", \"2009-02-28\", \"2009-03-31\", \"2009-04-30\", \"2009-05-31\", \"2009-06-30\", \"2009-07-31\", \"2009-08-31\", \"2009-09-30\", \"2009-10-31\", \"2009-11-30\", \"2009-12-31\", \"2010-01-31\", \"2010-02-28\", \"2010-03-31\", \"2010-04-30\", \"2010-05-31\", \"2010-06-30\", \"2010-07-31\", \"2010-08-31\", \"2010-09-30\", \"2010-10-31\", \"2010-11-30\", \"2010-12-31\", \"2011-01-31\", \"2011-02-28\", \"2011-03-31\", \"2011-04-30\", \"2011-05-31\", \"2011-06-30\", \"2011-07-31\", \"2011-08-31\", \"2011-09-30\", \"2011-10-31\", \"2011-11-30\", \"2011-12-31\", \"2012-01-31\", \"2012-02-29\", \"2012-03-31\", \"2012-04-30\", \"2012-05-31\", \"2012-06-30\", \"2012-07-31\", \"2012-08-31\", \"2012-09-30\", \"2012-10-31\", \"2012-11-30\", \"2012-12-31\", \"2013-01-31\", \"2013-02-28\", \"2013-03-31\", \"2013-04-30\", \"2013-05-31\", \"2013-06-30\", \"2013-07-31\", \"2013-08-31\", \"2013-09-30\", \"2013-10-31\", \"2013-11-30\", \"2013-12-31\", \"2014-01-31\", \"2014-02-28\", \"2014-03-31\", \"2014-04-30\", \"2014-05-31\", \"2014-06-30\", \"2014-07-31\", \"2014-08-31\", \"2014-09-30\", \"2014-10-31\", \"2014-11-30\", \"2014-12-31\", \"2015-01-31\", \"2015-02-28\", \"2015-03-31\", \"2015-04-30\", \"2015-05-31\", \"2015-06-30\", \"2015-07-31\", \"2015-08-31\", \"2015-09-30\", \"2015-10-31\", \"2015-11-30\", \"2015-12-31\", \"2016-01-31\", \"2016-02-29\", \"2016-03-31\", \"2016-04-30\", \"2016-05-31\", \"2016-06-30\", \"2016-07-31\", \"2016-08-31\", \"2016-09-30\", \"2016-10-31\", \"2016-11-30\", \"2016-12-31\", \"2017-01-31\", \"2017-02-28\", \"2017-03-31\", \"2017-04-30\", \"2017-05-31\", \"2017-06-30\", \"2017-07-31\", \"2017-08-31\", \"2017-09-30\", \"2017-10-31\", \"2017-11-30\", \"2017-12-31\", \"2018-01-31\", \"2018-02-28\", \"2018-03-31\", \"2018-04-30\", \"2018-05-31\", \"2018-06-30\", \"2018-07-31\", \"2018-08-31\", \"2018-09-30\", \"2018-10-31\", \"2018-11-30\", \"2018-12-31\", \"2019-01-31\", \"2019-02-28\", \"2019-03-31\", \"2019-04-30\", \"2019-05-31\", \"2019-06-30\", \"2019-07-31\", \"2019-08-31\", \"2019-09-30\", \"2019-10-31\", \"2019-11-30\", \"2019-12-31\", \"2020-01-31\", \"2020-02-29\", \"2020-03-31\", \"2020-04-30\", \"2020-05-31\", \"2020-06-30\", \"2020-07-31\", \"2020-08-31\", \"2020-09-30\", \"2020-10-31\", \"2020-11-30\", \"2020-12-31\", \"2021-01-31\", \"2021-02-28\", \"2021-03-31\"], \"xaxis\": \"x\", \"y\": [148596.0, 147149.0, 145618.0, 142985.0, 142296.0, 143749.0, 144970.0, 145377.0, 144237.0, 143631.0, 143949.0, 145254.0, 146453.0, 148274.0, 151261.0, 155592.0, 156966.0, 155334.0, 154093.0, 154331.0, 156759.0, 157450.0, 156617.0, 153936.0, 151854.0, 148783.0, 145444.0, 141135.0, 138027.0, 135127.0, 132143.0, 129081.0, 126651.0, 125786.0, 125270.0, 124858.0, 123445.0, 122917.0, 121708.0, 120224.0, 118107.0, 116476.0, 115453.0, 114887.0, 113729.0, 112420.0, 110859.0, 110243.0, 109982.0, 109656.0, 110092.0, 109826.0, 110818.0, 111880.0, 112704.0, 111603.0, 109631.0, 107597.0, 106624.0, 105510.0, 104895.0, 103854.0, 102821.0, 101771.0, 99476.0, 95873.0, 92002.0, 90927.0, 91866.0, 93118.0, 93264.0, 92654.0, 91636.0, 91388.0, 90969.0, 91629.0, 92650.0, 95082.0, 97326.0, 97552.0, 96299.0, 94337.0, 92639.0, 91647.0, 91061.0, 90691.0, 90281.0, 89968.0, 89919.0, 89997.0, 90439.0, 91192.0, 92701.0, 94632.0, 97362.0, 99248.0, 100626.0, 100104.0, 99244.0, 97533.0, 97322.0, 97721.0, 99576.0, 101246.0, 101933.0, 101667.0, 101170.0, 101796.0, 103130.0, 105720.0, 108859.0, 112744.0, 114904.0, 115633.0, 113503.0, 111309.0, 109903.0, 110810.0, 111576.0, 111832.0, 111497.0, 112880.0, 115286.0, 117467.0, 118266.0, 118208.0, 119918.0, 123686.0, 128626.0, 131731.0, 133793.0, 135451.0, 137704.0, 138816.0, 138882.0, 138059.0, 139053.0, 140728.0, 142545.0, 142279.0, 140702.0, 139636.0, 139306.0, 139892.0, 139649.0, 138571.0, 136039.0, 135190.0, 133840.0, 134724.0, 134497.0, 135406.0, 136234.0, 137113.0, 138168.0, 139324.0, 141023.0, 142424.0, 144852.0, 146563.0, 149844.0, 151938.0, 153713.0, 153415.0, 150822.0, 148884.0, 148700.0, 149021.0, 150127.0, 150243.0, 151789.0, 152661.0, 153350.0, 153187.0, 153445.0, 154986.0, 158481.0, 161295.0, 162374.0, 162707.0, 162137.0, 162677.0, 161844.0, 161537.0], \"yaxis\": \"y\"}, {\"hovertemplate\": \"City=Huron<br>date=%{x}<br>value=%{y}<extra></extra>\", \"legendgroup\": \"Huron\", \"line\": {\"color\": \"#ab63fa\", \"dash\": \"solid\"}, \"mode\": \"lines\", \"name\": \"Huron\", \"showlegend\": true, \"type\": \"scattergl\", \"x\": [\"1996-01-31\", \"1996-02-29\", \"1996-03-31\", \"1996-04-30\", \"1996-05-31\", \"1996-06-30\", \"1996-07-31\", \"1996-08-31\", \"1996-09-30\", \"1996-10-31\", \"1996-11-30\", \"1996-12-31\", \"1997-01-31\", \"1997-02-28\", \"1997-03-31\", \"1997-04-30\", \"1997-05-31\", \"1997-06-30\", \"1997-07-31\", \"1997-08-31\", \"1997-09-30\", \"1997-10-31\", \"1997-11-30\", \"1997-12-31\", \"1998-01-31\", \"1998-02-28\", \"1998-03-31\", \"1998-04-30\", \"1998-05-31\", \"1998-06-30\", \"1998-07-31\", \"1998-08-31\", \"1998-09-30\", \"1998-10-31\", \"1998-11-30\", \"1998-12-31\", \"1999-01-31\", \"1999-02-28\", \"1999-03-31\", \"1999-04-30\", \"1999-05-31\", \"1999-06-30\", \"1999-07-31\", \"1999-08-31\", \"1999-09-30\", \"1999-10-31\", \"1999-11-30\", \"1999-12-31\", \"2000-01-31\", \"2000-02-29\", \"2000-03-31\", \"2000-04-30\", \"2000-05-31\", \"2000-06-30\", \"2000-07-31\", \"2000-08-31\", \"2000-09-30\", \"2000-10-31\", \"2000-11-30\", \"2000-12-31\", \"2001-01-31\", \"2001-02-28\", \"2001-03-31\", \"2001-04-30\", \"2001-05-31\", \"2001-06-30\", \"2001-07-31\", \"2001-08-31\", \"2001-09-30\", \"2001-10-31\", \"2001-11-30\", \"2001-12-31\", \"2002-01-31\", \"2002-02-28\", \"2002-03-31\", \"2002-04-30\", \"2002-05-31\", \"2002-06-30\", \"2002-07-31\", \"2002-08-31\", \"2002-09-30\", \"2002-10-31\", \"2002-11-30\", \"2002-12-31\", \"2003-01-31\", \"2003-02-28\", \"2003-03-31\", \"2003-04-30\", \"2003-05-31\", \"2003-06-30\", \"2003-07-31\", \"2003-08-31\", \"2003-09-30\", \"2003-10-31\", \"2003-11-30\", \"2003-12-31\", \"2004-01-31\", \"2004-02-29\", \"2004-03-31\", \"2004-04-30\", \"2004-05-31\", \"2004-06-30\", \"2004-07-31\", \"2004-08-31\", \"2004-09-30\", \"2004-10-31\", \"2004-11-30\", \"2004-12-31\", \"2005-01-31\", \"2005-02-28\", \"2005-03-31\", \"2005-04-30\", \"2005-05-31\", \"2005-06-30\", \"2005-07-31\", \"2005-08-31\", \"2005-09-30\", \"2005-10-31\", \"2005-11-30\", \"2005-12-31\", \"2006-01-31\", \"2006-02-28\", \"2006-03-31\", \"2006-04-30\", \"2006-05-31\", \"2006-06-30\", \"2006-07-31\", \"2006-08-31\", \"2006-09-30\", \"2006-10-31\", \"2006-11-30\", \"2006-12-31\", \"2007-01-31\", \"2007-02-28\", \"2007-03-31\", \"2007-04-30\", \"2007-05-31\", \"2007-06-30\", \"2007-07-31\", \"2007-08-31\", \"2007-09-30\", \"2007-10-31\", \"2007-11-30\", \"2007-12-31\", \"2008-01-31\", \"2008-02-29\", \"2008-03-31\", \"2008-04-30\", \"2008-05-31\", \"2008-06-30\", \"2008-07-31\", \"2008-08-31\", \"2008-09-30\", \"2008-10-31\", \"2008-11-30\", \"2008-12-31\", \"2009-01-31\", \"2009-02-28\", \"2009-03-31\", \"2009-04-30\", \"2009-05-31\", \"2009-06-30\", \"2009-07-31\", \"2009-08-31\", \"2009-09-30\", \"2009-10-31\", \"2009-11-30\", \"2009-12-31\", \"2010-01-31\", \"2010-02-28\", \"2010-03-31\", \"2010-04-30\", \"2010-05-31\", \"2010-06-30\", \"2010-07-31\", \"2010-08-31\", \"2010-09-30\", \"2010-10-31\", \"2010-11-30\", \"2010-12-31\", \"2011-01-31\", \"2011-02-28\", \"2011-03-31\", \"2011-04-30\", \"2011-05-31\", \"2011-06-30\", \"2011-07-31\", \"2011-08-31\", \"2011-09-30\", \"2011-10-31\", \"2011-11-30\", \"2011-12-31\", \"2012-01-31\", \"2012-02-29\", \"2012-03-31\", \"2012-04-30\", \"2012-05-31\", \"2012-06-30\", \"2012-07-31\", \"2012-08-31\", \"2012-09-30\", \"2012-10-31\", \"2012-11-30\", \"2012-12-31\", \"2013-01-31\", \"2013-02-28\", \"2013-03-31\", \"2013-04-30\", \"2013-05-31\", \"2013-06-30\", \"2013-07-31\", \"2013-08-31\", \"2013-09-30\", \"2013-10-31\", \"2013-11-30\", \"2013-12-31\", \"2014-01-31\", \"2014-02-28\", \"2014-03-31\", \"2014-04-30\", \"2014-05-31\", \"2014-06-30\", \"2014-07-31\", \"2014-08-31\", \"2014-09-30\", \"2014-10-31\", \"2014-11-30\", \"2014-12-31\", \"2015-01-31\", \"2015-02-28\", \"2015-03-31\", \"2015-04-30\", \"2015-05-31\", \"2015-06-30\", \"2015-07-31\", \"2015-08-31\", \"2015-09-30\", \"2015-10-31\", \"2015-11-30\", \"2015-12-31\", \"2016-01-31\", \"2016-02-29\", \"2016-03-31\", \"2016-04-30\", \"2016-05-31\", \"2016-06-30\", \"2016-07-31\", \"2016-08-31\", \"2016-09-30\", \"2016-10-31\", \"2016-11-30\", \"2016-12-31\", \"2017-01-31\", \"2017-02-28\", \"2017-03-31\", \"2017-04-30\", \"2017-05-31\", \"2017-06-30\", \"2017-07-31\", \"2017-08-31\", \"2017-09-30\", \"2017-10-31\", \"2017-11-30\", \"2017-12-31\", \"2018-01-31\", \"2018-02-28\", \"2018-03-31\", \"2018-04-30\", \"2018-05-31\", \"2018-06-30\", \"2018-07-31\", \"2018-08-31\", \"2018-09-30\", \"2018-10-31\", \"2018-11-30\", \"2018-12-31\", \"2019-01-31\", \"2019-02-28\", \"2019-03-31\", \"2019-04-30\", \"2019-05-31\", \"2019-06-30\", \"2019-07-31\", \"2019-08-31\", \"2019-09-30\", \"2019-10-31\", \"2019-11-30\", \"2019-12-31\", \"2020-01-31\", \"2020-02-29\", \"2020-03-31\", \"2020-04-30\", \"2020-05-31\", \"2020-06-30\", \"2020-07-31\", \"2020-08-31\", \"2020-09-30\", \"2020-10-31\", \"2020-11-30\", \"2020-12-31\", \"2021-01-31\", \"2021-02-28\", \"2021-03-31\"], \"xaxis\": \"x\", \"y\": [61334.0, 61343.0, 60950.0, 60632.0, 60497.0, 60847.0, 60934.0, 60941.0, 60782.0, 60920.0, 60955.0, 61162.0, 61252.0, 61382.0, 61992.0, 62575.0, 62865.0, 62648.0, 62693.0, 63173.0, 63904.0, 64256.0, 64719.0, 65170.0, 66377.0, 67214.0, 67738.0, 67754.0, 68019.0, 68181.0, 68712.0, 68806.0, 69121.0, 69477.0, 69855.0, 69808.0, 68665.0, 68073.0, 68116.0, 68890.0, 69564.0, 70066.0, 70307.0, 70365.0, 70016.0, 69702.0, 69731.0, 69967.0, 70402.0, 70426.0, 70146.0, 69358.0, 68233.0, 67755.0, 67555.0, 68036.0, 68336.0, 68276.0, 67886.0, 67672.0, 68430.0, 69256.0, 69719.0, 69981.0, 70285.0, 70515.0, 70808.0, 70826.0, 70880.0, 71381.0, 72293.0, 73181.0, 73494.0, 73764.0, 74197.0, 74607.0, 75294.0, 75991.0, 76398.0, 76551.0, 77131.0, 77837.0, 78295.0, 78890.0, 79595.0, 80338.0, 81102.0, 82203.0, 83492.0, 84382.0, 85285.0, 86500.0, 88011.0, 89614.0, 91114.0, 92299.0, 92705.0, 93613.0, 94866.0, 96676.0, 98487.0, 101073.0, 103912.0, 106415.0, 107850.0, 108145.0, 108537.0, 108825.0, 110835.0, 112352.0, 113873.0, 114546.0, 114323.0, 113723.0, 113223.0, 114216.0, 115606.0, 118423.0, 120934.0, 124002.0, 125123.0, 126968.0, 128617.0, 131031.0, 134153.0, 137396.0, 140619.0, 142129.0, 144629.0, 145600.0, 147345.0, 148394.0, 150497.0, 151676.0, 152489.0, 153643.0, 153264.0, 152958.0, 152121.0, 152828.0, 151362.0, 150288.0, 148558.0, 147902.0, 147141.0, 145022.0, 142665.0, 139187.0, 139146.0, 139105.0, 138545.0, 135177.0, 132545.0, 130611.0, 129206.0, 126683.0, 124265.0, 123278.0, 123201.0, 122789.0, 120119.0, 116181.0, 113921.0, 114498.0, 116012.0, 116445.0, 115251.0, 114876.0, 114674.0, 115458.0, 115449.0, 115604.0, 115626.0, 116815.0, 116252.0, 113464.0, 110052.0, 108505.0, 109416.0, 110326.0, 110444.0, 108698.0, 106612.0, 104583.0, 103769.0, 102881.0, 102827.0, 102734.0, 102809.0, 101760.0, 100442.0, 98027.0, 97020.0, 96092.0, 96624.0, 97200.0, 97437.0, 97375.0, 97710.0, 99504.0, 101288.0, 102653.0, 103251.0, 104716.0, 104610.0, 105420.0, 105094.0, 106809.0, 108141.0, 110954.0, 112977.0, 114441.0, 115395.0, 116878.0, 118590.0, 120546.0, 123541.0, 126611.0, 130479.0, 131324.0, 132171.0, 130978.0, 130632.0, 130238.0, 130599.0, 131468.0, 132063.0, 132027.0, 131162.0, 129721.0, 128125.0, 128100.0, 128513.0, 129090.0, 128689.0, 128834.0, 128988.0, 128543.0, 128112.0, 128246.0, 129612.0, 130547.0, 131222.0, 131430.0, 131758.0, 132242.0, 132066.0, 131634.0, 131562.0, 132849.0, 134266.0, 135238.0, 134991.0, 135478.0, 136520.0, 137486.0, 137089.0, 137126.0, 138664.0, 140986.0, 143025.0, 144298.0, 145208.0, 145802.0, 147416.0, 148653.0, 148787.0, 148088.0, 150145.0, 152490.0, 154416.0, 153909.0, 152085.0, 150263.0, 149014.0, 150197.0, 150831.0, 152443.0, 153659.0, 155610.0, 156094.0, 156562.0, 156005.0, 155411.0, 155780.0, 157074.0, 158799.0, 158290.0, 158784.0, 159260.0, 162077.0, 164691.0, 167293.0, 169239.0, 172036.0, 176055.0, 180039.0, 183479.0, 186416.0, 190186.0, 193316.0, 196099.0, 197408.0], \"yaxis\": \"y\"}, {\"hovertemplate\": \"City=Heber<br>date=%{x}<br>value=%{y}<extra></extra>\", \"legendgroup\": \"Heber\", \"line\": {\"color\": \"#FFA15A\", \"dash\": \"solid\"}, \"mode\": \"lines\", \"name\": \"Heber\", \"showlegend\": true, \"type\": \"scattergl\", \"x\": [\"1997-01-31\", \"1997-02-28\", \"1997-03-31\", \"1997-04-30\", \"1997-05-31\", \"1997-06-30\", \"1997-07-31\", \"1997-08-31\", \"1997-09-30\", \"1997-10-31\", \"1997-11-30\", \"1997-12-31\", \"1998-01-31\", \"1998-02-28\", \"1998-03-31\", \"1998-04-30\", \"1998-05-31\", \"1998-06-30\", \"1998-07-31\", \"1998-08-31\", \"1998-09-30\", \"1998-10-31\", \"1998-11-30\", \"1998-12-31\", \"1999-01-31\", \"1999-02-28\", \"1999-03-31\", \"1999-04-30\", \"1999-05-31\", \"1999-06-30\", \"1999-07-31\", \"1999-08-31\", \"1999-09-30\", \"1999-10-31\", \"1999-11-30\", \"1999-12-31\", \"2000-01-31\", \"2000-02-29\", \"2000-03-31\", \"2000-04-30\", \"2000-05-31\", \"2000-06-30\", \"2000-07-31\", \"2000-08-31\", \"2000-09-30\", \"2000-10-31\", \"2000-11-30\", \"2000-12-31\", \"2001-01-31\", \"2001-02-28\", \"2001-03-31\", \"2001-04-30\", \"2001-05-31\", \"2001-06-30\", \"2001-07-31\", \"2001-08-31\", \"2001-09-30\", \"2001-10-31\", \"2001-11-30\", \"2001-12-31\", \"2002-01-31\", \"2002-02-28\", \"2002-03-31\", \"2002-04-30\", \"2002-05-31\", \"2002-06-30\", \"2002-07-31\", \"2002-08-31\", \"2002-09-30\", \"2002-10-31\", \"2002-11-30\", \"2002-12-31\", \"2003-01-31\", \"2003-02-28\", \"2003-03-31\", \"2003-04-30\", \"2003-05-31\", \"2003-06-30\", \"2003-07-31\", \"2003-08-31\", \"2003-09-30\", \"2003-10-31\", \"2003-11-30\", \"2003-12-31\", \"2004-01-31\", \"2004-02-29\", \"2004-03-31\", \"2004-04-30\", \"2004-05-31\", \"2004-06-30\", \"2004-07-31\", \"2004-08-31\", \"2004-09-30\", \"2004-10-31\", \"2004-11-30\", \"2004-12-31\", \"2005-01-31\", \"2005-02-28\", \"2005-03-31\", \"2005-04-30\", \"2005-05-31\", \"2005-06-30\", \"2005-07-31\", \"2005-08-31\", \"2005-09-30\", \"2005-10-31\", \"2005-11-30\", \"2005-12-31\", \"2006-01-31\", \"2006-02-28\", \"2006-03-31\", \"2006-04-30\", \"2006-05-31\", \"2006-06-30\", \"2006-07-31\", \"2006-08-31\", \"2006-09-30\", \"2006-10-31\", \"2006-11-30\", \"2006-12-31\", \"2007-01-31\", \"2007-02-28\", \"2007-03-31\", \"2007-04-30\", \"2007-05-31\", \"2007-06-30\", \"2007-07-31\", \"2007-08-31\", \"2007-09-30\", \"2007-10-31\", \"2007-11-30\", \"2007-12-31\", \"2008-01-31\", \"2008-02-29\", \"2008-03-31\", \"2008-04-30\", \"2008-05-31\", \"2008-06-30\", \"2008-07-31\", \"2008-08-31\", \"2008-09-30\", \"2008-10-31\", \"2008-11-30\", \"2008-12-31\", \"2009-01-31\", \"2009-02-28\", \"2009-03-31\", \"2009-04-30\", \"2009-05-31\", \"2009-06-30\", \"2009-07-31\", \"2009-08-31\", \"2009-09-30\", \"2009-10-31\", \"2009-11-30\", \"2009-12-31\", \"2010-01-31\", \"2010-02-28\", \"2010-03-31\", \"2010-04-30\", \"2010-05-31\", \"2010-06-30\", \"2010-07-31\", \"2010-08-31\", \"2010-09-30\", \"2010-10-31\", \"2010-11-30\", \"2010-12-31\", \"2011-01-31\", \"2011-02-28\", \"2011-03-31\", \"2011-04-30\", \"2011-05-31\", \"2011-06-30\", \"2011-07-31\", \"2011-08-31\", \"2011-09-30\", \"2011-10-31\", \"2011-11-30\", \"2011-12-31\", \"2012-01-31\", \"2012-02-29\", \"2012-03-31\", \"2012-04-30\", \"2012-05-31\", \"2012-06-30\", \"2012-07-31\", \"2012-08-31\", \"2012-09-30\", \"2012-10-31\", \"2012-11-30\", \"2012-12-31\", \"2013-01-31\", \"2013-02-28\", \"2013-03-31\", \"2013-04-30\", \"2013-05-31\", \"2013-06-30\", \"2013-07-31\", \"2013-08-31\", \"2013-09-30\", \"2013-10-31\", \"2013-11-30\", \"2013-12-31\", \"2014-01-31\", \"2014-02-28\", \"2014-03-31\", \"2014-04-30\", \"2014-05-31\", \"2014-06-30\", \"2014-07-31\", \"2014-08-31\", \"2014-09-30\", \"2014-10-31\", \"2014-11-30\", \"2014-12-31\", \"2015-01-31\", \"2015-02-28\", \"2015-03-31\", \"2015-04-30\", \"2015-05-31\", \"2015-06-30\", \"2015-07-31\", \"2015-08-31\", \"2015-09-30\", \"2015-10-31\", \"2015-11-30\", \"2015-12-31\", \"2016-01-31\", \"2016-02-29\", \"2016-03-31\", \"2016-04-30\", \"2016-05-31\", \"2016-06-30\", \"2016-07-31\", \"2016-08-31\", \"2016-09-30\", \"2016-10-31\", \"2016-11-30\", \"2016-12-31\", \"2017-01-31\", \"2017-02-28\", \"2017-03-31\", \"2017-04-30\", \"2017-05-31\", \"2017-06-30\", \"2017-07-31\", \"2017-08-31\", \"2017-09-30\", \"2017-10-31\", \"2017-11-30\", \"2017-12-31\", \"2018-01-31\", \"2018-02-28\", \"2018-03-31\", \"2018-04-30\", \"2018-05-31\", \"2018-06-30\", \"2018-07-31\", \"2018-08-31\", \"2018-09-30\", \"2018-10-31\", \"2018-11-30\", \"2018-12-31\", \"2019-01-31\", \"2019-02-28\", \"2019-03-31\", \"2019-04-30\", \"2019-05-31\", \"2019-06-30\", \"2019-07-31\", \"2019-08-31\", \"2019-09-30\", \"2019-10-31\", \"2019-11-30\", \"2019-12-31\", \"2020-01-31\", \"2020-02-29\", \"2020-03-31\", \"2020-04-30\", \"2020-05-31\", \"2020-06-30\", \"2020-07-31\", \"2020-08-31\", \"2020-09-30\", \"2020-10-31\", \"2020-11-30\", \"2020-12-31\", \"2021-01-31\", \"2021-02-28\", \"2021-03-31\"], \"xaxis\": \"x\", \"y\": [91507.0, 91237.0, 91055.0, 90268.0, 89638.0, 89241.0, 89222.0, 89402.0, 89574.0, 89780.0, 90197.0, 90521.0, 91104.0, 91463.0, 91814.0, 92684.0, 93398.0, 93882.0, 93949.0, 93905.0, 93898.0, 93890.0, 93547.0, 93506.0, 93265.0, 93521.0, 93612.0, 93727.0, 93931.0, 94302.0, 94766.0, 95229.0, 95906.0, 96738.0, 97768.0, 98719.0, 99574.0, 100233.0, 101257.0, 102288.0, 103557.0, 104559.0, 105611.0, 106453.0, 107250.0, 107996.0, 109027.0, 110072.0, 111096.0, 111715.0, 112046.0, 112663.0, 113075.0, 113874.0, 113972.0, 114451.0, 114353.0, 114511.0, 114838.0, 115468.0, 116494.0, 117816.0, 119206.0, 119886.0, 120587.0, 120579.0, 120986.0, 121195.0, 121824.0, 122875.0, 123834.0, 124917.0, 125634.0, 125673.0, 125960.0, 127224.0, 128732.0, 130288.0, 131265.0, 132655.0, 135195.0, 137041.0, 137806.0, 137714.0, 137953.0, 139974.0, 141786.0, 143244.0, 144103.0, 145667.0, 147565.0, 149088.0, 149678.0, 150954.0, 153610.0, 157388.0, 161252.0, 164194.0, 166552.0, 169018.0, 171739.0, 174492.0, 178171.0, 182377.0, 186586.0, 189695.0, 192167.0, 194391.0, 196426.0, 198013.0, 199259.0, 200525.0, 202123.0, 204627.0, 207172.0, 208342.0, 208576.0, 207616.0, 207550.0, 206453.0, 204859.0, 203487.0, 204210.0, 205234.0, 206417.0, 205206.0, 203189.0, 201495.0, 200619.0, 201875.0, 201716.0, 201615.0, 201258.0, 200398.0, 198165.0, 194504.0, 190400.0, 186935.0, 183232.0, 179902.0, 176604.0, 173322.0, 170417.0, 167905.0, 165690.0, 163686.0, 161792.0, 160278.0, 158992.0, 158123.0, 157747.0, 157313.0, 156816.0, 156044.0, 155609.0, 155155.0, 154922.0, 154833.0, 154760.0, 154866.0, 154697.0, 154311.0, 153504.0, 152762.0, 152117.0, 151441.0, 150391.0, 149464.0, 148765.0, 148657.0, 147749.0, 146945.0, 146077.0, 145751.0, 145380.0, 144557.0, 144016.0, 143206.0, 142673.0, 142029.0, 141468.0, 140476.0, 140205.0, 139534.0, 139217.0, 139266.0, 139937.0, 140885.0, 141095.0, 140867.0, 141138.0, 141379.0, 140858.0, 139986.0, 140433.0, 142421.0, 143809.0, 142790.0, 141981.0, 142529.0, 143725.0, 145791.0, 146626.0, 147779.0, 148737.0, 150322.0, 150678.0, 150794.0, 152340.0, 156365.0, 159724.0, 162129.0, 164298.0, 166886.0, 169562.0, 172338.0, 176068.0, 179228.0, 182182.0, 183627.0, 184607.0, 185360.0, 185384.0, 184289.0, 183309.0, 182685.0, 183278.0, 183824.0, 185001.0, 187408.0, 189758.0, 191526.0, 191757.0, 191986.0, 193807.0, 196551.0, 198620.0, 199608.0, 201847.0, 202778.0, 203083.0, 201690.0, 201779.0, 202036.0, 203479.0, 204046.0, 205377.0, 206826.0, 210396.0, 213339.0, 214205.0, 216273.0, 218581.0, 221519.0, 221803.0, 224451.0, 227838.0, 231765.0, 232868.0, 234203.0, 235566.0, 238994.0, 241796.0, 243288.0, 242745.0, 241876.0, 242918.0, 244719.0, 245753.0, 246453.0, 246162.0, 244987.0, 239736.0, 233667.0, 229255.0, 229457.0, 232066.0, 234283.0, 234754.0, 233085.0, 232513.0, 232588.0, 234775.0, 237735.0, 243620.0, 249791.0, 255928.0, 259373.0, 262376.0, 266490.0, 272518.0], \"yaxis\": \"y\"}],                        {\"font\": {\"color\": \"gray\", \"family\": \"Courier New\"}, \"legend\": {\"title\": {\"text\": \"City\"}, \"tracegroupgap\": 0}, \"margin\": {\"t\": 60}, \"template\": {\"data\": {\"bar\": [{\"error_x\": {\"color\": \"#2a3f5f\"}, \"error_y\": {\"color\": \"#2a3f5f\"}, \"marker\": {\"line\": {\"color\": \"#E5ECF6\", \"width\": 0.5}}, \"type\": \"bar\"}], \"barpolar\": [{\"marker\": {\"line\": {\"color\": \"#E5ECF6\", \"width\": 0.5}}, \"type\": \"barpolar\"}], \"carpet\": [{\"aaxis\": {\"endlinecolor\": \"#2a3f5f\", \"gridcolor\": \"white\", \"linecolor\": \"white\", \"minorgridcolor\": \"white\", \"startlinecolor\": \"#2a3f5f\"}, \"baxis\": {\"endlinecolor\": \"#2a3f5f\", \"gridcolor\": \"white\", \"linecolor\": \"white\", \"minorgridcolor\": \"white\", \"startlinecolor\": \"#2a3f5f\"}, \"type\": \"carpet\"}], \"choropleth\": [{\"colorbar\": {\"outlinewidth\": 0, \"ticks\": \"\"}, \"type\": \"choropleth\"}], \"contour\": [{\"colorbar\": {\"outlinewidth\": 0, \"ticks\": \"\"}, \"colorscale\": [[0.0, \"#0d0887\"], [0.1111111111111111, \"#46039f\"], [0.2222222222222222, \"#7201a8\"], [0.3333333333333333, \"#9c179e\"], [0.4444444444444444, \"#bd3786\"], [0.5555555555555556, \"#d8576b\"], [0.6666666666666666, \"#ed7953\"], [0.7777777777777778, \"#fb9f3a\"], [0.8888888888888888, \"#fdca26\"], [1.0, \"#f0f921\"]], \"type\": \"contour\"}], \"contourcarpet\": [{\"colorbar\": {\"outlinewidth\": 0, \"ticks\": \"\"}, \"type\": \"contourcarpet\"}], \"heatmap\": [{\"colorbar\": {\"outlinewidth\": 0, \"ticks\": \"\"}, \"colorscale\": [[0.0, \"#0d0887\"], [0.1111111111111111, \"#46039f\"], [0.2222222222222222, \"#7201a8\"], [0.3333333333333333, \"#9c179e\"], [0.4444444444444444, \"#bd3786\"], [0.5555555555555556, \"#d8576b\"], [0.6666666666666666, \"#ed7953\"], [0.7777777777777778, \"#fb9f3a\"], [0.8888888888888888, \"#fdca26\"], [1.0, \"#f0f921\"]], \"type\": \"heatmap\"}], \"heatmapgl\": [{\"colorbar\": {\"outlinewidth\": 0, \"ticks\": \"\"}, \"colorscale\": [[0.0, \"#0d0887\"], [0.1111111111111111, \"#46039f\"], [0.2222222222222222, \"#7201a8\"], [0.3333333333333333, \"#9c179e\"], [0.4444444444444444, \"#bd3786\"], [0.5555555555555556, \"#d8576b\"], [0.6666666666666666, \"#ed7953\"], [0.7777777777777778, \"#fb9f3a\"], [0.8888888888888888, \"#fdca26\"], [1.0, \"#f0f921\"]], \"type\": \"heatmapgl\"}], \"histogram\": [{\"marker\": {\"colorbar\": {\"outlinewidth\": 0, \"ticks\": \"\"}}, \"type\": \"histogram\"}], \"histogram2d\": [{\"colorbar\": {\"outlinewidth\": 0, \"ticks\": \"\"}, \"colorscale\": [[0.0, \"#0d0887\"], [0.1111111111111111, \"#46039f\"], [0.2222222222222222, \"#7201a8\"], [0.3333333333333333, \"#9c179e\"], [0.4444444444444444, \"#bd3786\"], [0.5555555555555556, \"#d8576b\"], [0.6666666666666666, \"#ed7953\"], [0.7777777777777778, \"#fb9f3a\"], [0.8888888888888888, \"#fdca26\"], [1.0, \"#f0f921\"]], \"type\": \"histogram2d\"}], \"histogram2dcontour\": [{\"colorbar\": {\"outlinewidth\": 0, \"ticks\": \"\"}, \"colorscale\": [[0.0, \"#0d0887\"], [0.1111111111111111, \"#46039f\"], [0.2222222222222222, \"#7201a8\"], [0.3333333333333333, \"#9c179e\"], [0.4444444444444444, \"#bd3786\"], [0.5555555555555556, \"#d8576b\"], [0.6666666666666666, \"#ed7953\"], [0.7777777777777778, \"#fb9f3a\"], [0.8888888888888888, \"#fdca26\"], [1.0, \"#f0f921\"]], \"type\": \"histogram2dcontour\"}], \"mesh3d\": [{\"colorbar\": {\"outlinewidth\": 0, \"ticks\": \"\"}, \"type\": \"mesh3d\"}], \"parcoords\": [{\"line\": {\"colorbar\": {\"outlinewidth\": 0, \"ticks\": \"\"}}, \"type\": \"parcoords\"}], \"pie\": [{\"automargin\": true, \"type\": \"pie\"}], \"scatter\": [{\"marker\": {\"colorbar\": {\"outlinewidth\": 0, \"ticks\": \"\"}}, \"type\": \"scatter\"}], \"scatter3d\": [{\"line\": {\"colorbar\": {\"outlinewidth\": 0, \"ticks\": \"\"}}, \"marker\": {\"colorbar\": {\"outlinewidth\": 0, \"ticks\": \"\"}}, \"type\": \"scatter3d\"}], \"scattercarpet\": [{\"marker\": {\"colorbar\": {\"outlinewidth\": 0, \"ticks\": \"\"}}, \"type\": \"scattercarpet\"}], \"scattergeo\": [{\"marker\": {\"colorbar\": {\"outlinewidth\": 0, \"ticks\": \"\"}}, \"type\": \"scattergeo\"}], \"scattergl\": [{\"marker\": {\"colorbar\": {\"outlinewidth\": 0, \"ticks\": \"\"}}, \"type\": \"scattergl\"}], \"scattermapbox\": [{\"marker\": {\"colorbar\": {\"outlinewidth\": 0, \"ticks\": \"\"}}, \"type\": \"scattermapbox\"}], \"scatterpolar\": [{\"marker\": {\"colorbar\": {\"outlinewidth\": 0, \"ticks\": \"\"}}, \"type\": \"scatterpolar\"}], \"scatterpolargl\": [{\"marker\": {\"colorbar\": {\"outlinewidth\": 0, \"ticks\": \"\"}}, \"type\": \"scatterpolargl\"}], \"scatterternary\": [{\"marker\": {\"colorbar\": {\"outlinewidth\": 0, \"ticks\": \"\"}}, \"type\": \"scatterternary\"}], \"surface\": [{\"colorbar\": {\"outlinewidth\": 0, \"ticks\": \"\"}, \"colorscale\": [[0.0, \"#0d0887\"], [0.1111111111111111, \"#46039f\"], [0.2222222222222222, \"#7201a8\"], [0.3333333333333333, \"#9c179e\"], [0.4444444444444444, \"#bd3786\"], [0.5555555555555556, \"#d8576b\"], [0.6666666666666666, \"#ed7953\"], [0.7777777777777778, \"#fb9f3a\"], [0.8888888888888888, \"#fdca26\"], [1.0, \"#f0f921\"]], \"type\": \"surface\"}], \"table\": [{\"cells\": {\"fill\": {\"color\": \"#EBF0F8\"}, \"line\": {\"color\": \"white\"}}, \"header\": {\"fill\": {\"color\": \"#C8D4E3\"}, \"line\": {\"color\": \"white\"}}, \"type\": \"table\"}]}, \"layout\": {\"annotationdefaults\": {\"arrowcolor\": \"#2a3f5f\", \"arrowhead\": 0, \"arrowwidth\": 1}, \"autotypenumbers\": \"strict\", \"coloraxis\": {\"colorbar\": {\"outlinewidth\": 0, \"ticks\": \"\"}}, \"colorscale\": {\"diverging\": [[0, \"#8e0152\"], [0.1, \"#c51b7d\"], [0.2, \"#de77ae\"], [0.3, \"#f1b6da\"], [0.4, \"#fde0ef\"], [0.5, \"#f7f7f7\"], [0.6, \"#e6f5d0\"], [0.7, \"#b8e186\"], [0.8, \"#7fbc41\"], [0.9, \"#4d9221\"], [1, \"#276419\"]], \"sequential\": [[0.0, \"#0d0887\"], [0.1111111111111111, \"#46039f\"], [0.2222222222222222, \"#7201a8\"], [0.3333333333333333, \"#9c179e\"], [0.4444444444444444, \"#bd3786\"], [0.5555555555555556, \"#d8576b\"], [0.6666666666666666, \"#ed7953\"], [0.7777777777777778, \"#fb9f3a\"], [0.8888888888888888, \"#fdca26\"], [1.0, \"#f0f921\"]], \"sequentialminus\": [[0.0, \"#0d0887\"], [0.1111111111111111, \"#46039f\"], [0.2222222222222222, \"#7201a8\"], [0.3333333333333333, \"#9c179e\"], [0.4444444444444444, \"#bd3786\"], [0.5555555555555556, \"#d8576b\"], [0.6666666666666666, \"#ed7953\"], [0.7777777777777778, \"#fb9f3a\"], [0.8888888888888888, \"#fdca26\"], [1.0, \"#f0f921\"]]}, \"colorway\": [\"#636efa\", \"#EF553B\", \"#00cc96\", \"#ab63fa\", \"#FFA15A\", \"#19d3f3\", \"#FF6692\", \"#B6E880\", \"#FF97FF\", \"#FECB52\"], \"font\": {\"color\": \"#2a3f5f\"}, \"geo\": {\"bgcolor\": \"white\", \"lakecolor\": \"white\", \"landcolor\": \"#E5ECF6\", \"showlakes\": true, \"showland\": true, \"subunitcolor\": \"white\"}, \"hoverlabel\": {\"align\": \"left\"}, \"hovermode\": \"closest\", \"mapbox\": {\"style\": \"light\"}, \"paper_bgcolor\": \"white\", \"plot_bgcolor\": \"#E5ECF6\", \"polar\": {\"angularaxis\": {\"gridcolor\": \"white\", \"linecolor\": \"white\", \"ticks\": \"\"}, \"bgcolor\": \"#E5ECF6\", \"radialaxis\": {\"gridcolor\": \"white\", \"linecolor\": \"white\", \"ticks\": \"\"}}, \"scene\": {\"xaxis\": {\"backgroundcolor\": \"#E5ECF6\", \"gridcolor\": \"white\", \"gridwidth\": 2, \"linecolor\": \"white\", \"showbackground\": true, \"ticks\": \"\", \"zerolinecolor\": \"white\"}, \"yaxis\": {\"backgroundcolor\": \"#E5ECF6\", \"gridcolor\": \"white\", \"gridwidth\": 2, \"linecolor\": \"white\", \"showbackground\": true, \"ticks\": \"\", \"zerolinecolor\": \"white\"}, \"zaxis\": {\"backgroundcolor\": \"#E5ECF6\", \"gridcolor\": \"white\", \"gridwidth\": 2, \"linecolor\": \"white\", \"showbackground\": true, \"ticks\": \"\", \"zerolinecolor\": \"white\"}}, \"shapedefaults\": {\"line\": {\"color\": \"#2a3f5f\"}}, \"ternary\": {\"aaxis\": {\"gridcolor\": \"white\", \"linecolor\": \"white\", \"ticks\": \"\"}, \"baxis\": {\"gridcolor\": \"white\", \"linecolor\": \"white\", \"ticks\": \"\"}, \"bgcolor\": \"#E5ECF6\", \"caxis\": {\"gridcolor\": \"white\", \"linecolor\": \"white\", \"ticks\": \"\"}}, \"title\": {\"x\": 0.05}, \"xaxis\": {\"automargin\": true, \"gridcolor\": \"white\", \"linecolor\": \"white\", \"ticks\": \"\", \"title\": {\"standoff\": 15}, \"zerolinecolor\": \"white\", \"zerolinewidth\": 2}, \"yaxis\": {\"automargin\": true, \"gridcolor\": \"white\", \"linecolor\": \"white\", \"ticks\": \"\", \"title\": {\"standoff\": 15}, \"zerolinecolor\": \"white\", \"zerolinewidth\": 2}}}, \"title\": {\"font\": {\"color\": \"Purple\", \"family\": \"Times New Roman\"}, \"text\": \"Housing Prices Change for Top 5 Hispanic/Latino popular areas\"}, \"xaxis\": {\"anchor\": \"y\", \"domain\": [0.0, 1.0], \"title\": {\"text\": \"Date\"}}, \"yaxis\": {\"anchor\": \"x\", \"domain\": [0.0, 1.0], \"title\": {\"text\": \"Housing Prices\"}}},                        {\"responsive\": true}                    ).then(function(){\n",
       "                            \n",
       "var gd = document.getElementById('4ff31a95-ec99-456c-9afc-d960ae8ef276');\n",
       "var x = new MutationObserver(function (mutations, observer) {{\n",
       "        var display = window.getComputedStyle(gd).display;\n",
       "        if (!display || display === 'none') {{\n",
       "            console.log([gd, 'removed!']);\n",
       "            Plotly.purge(gd);\n",
       "            observer.disconnect();\n",
       "        }}\n",
       "}});\n",
       "\n",
       "// Listen for the removal of the full notebook cells\n",
       "var notebookContainer = gd.closest('#notebook-container');\n",
       "if (notebookContainer) {{\n",
       "    x.observe(notebookContainer, {childList: true});\n",
       "}}\n",
       "\n",
       "// Listen for the clearing of the current output cell\n",
       "var outputEl = gd.closest('.output');\n",
       "if (outputEl) {{\n",
       "    x.observe(outputEl, {childList: true});\n",
       "}}\n",
       "\n",
       "                        })                };                });            </script>        </div>"
      ]
     },
     "metadata": {},
     "output_type": "display_data"
    }
   ],
   "source": [
    "# Whitetop = joint.sort_values(by = 'White',ascending = False).head()\n",
    "# Whitetop\n",
    "blacktop = joint.sort_values(by = 'Hispanic or Latino',ascending = False).head()\n",
    "blacklow = joint.sort_values(by = 'Hispanic or Latino',ascending = True).head()\n",
    "\n",
    "blacktop.drop(blacktop.iloc[:, 0:17], inplace = True, axis = 1)\n",
    "blacktop.head()\n",
    "#asiantop.set_index('Place')\n",
    "blacktop= blacktop.stack().to_frame().reset_index()\n",
    "blacktop = blacktop.rename(columns = {'level_1':'date',0:'value','level_0':'City'})\n",
    "blacktop[\"City\"].replace({130: \"Cantua Creek\",221:\"Del Rey\",422:\"Kettleman City\",387:\"Huron\",364:\"Heber\"}, inplace=True)\n",
    "blacktop\n",
    "fig = px.line(blacktop, x=\"date\", y=\"value\",color = \"City\")\n",
    "fig.update_layout(title='Housing Prices Change for Top 5 Hispanic/Latino popular areas',\n",
    "                   xaxis_title='Date',\n",
    "                   yaxis_title='Housing Prices',\n",
    "                 font_family=\"Courier New\",\n",
    "    font_color=\"gray\",\n",
    "    title_font_family=\"Times New Roman\",\n",
    "    title_font_color=\"Purple\")\n",
    "fig.show()\n",
    "from plotly.io import write_html\n",
    "write_html(fig, \"HouseLatino.html\")"
   ]
  },
  {
   "cell_type": "code",
   "execution_count": 30,
   "metadata": {},
   "outputs": [
    {
     "data": {
      "text/html": [
       "<div>\n",
       "<style scoped>\n",
       "    .dataframe tbody tr th:only-of-type {\n",
       "        vertical-align: middle;\n",
       "    }\n",
       "\n",
       "    .dataframe tbody tr th {\n",
       "        vertical-align: top;\n",
       "    }\n",
       "\n",
       "    .dataframe thead th {\n",
       "        text-align: right;\n",
       "    }\n",
       "</style>\n",
       "<table border=\"1\" class=\"dataframe\">\n",
       "  <thead>\n",
       "    <tr style=\"text-align: right;\">\n",
       "      <th></th>\n",
       "      <th>ID Race</th>\n",
       "      <th>Race</th>\n",
       "      <th>ID Year</th>\n",
       "      <th>Year</th>\n",
       "      <th>ID Poverty Status</th>\n",
       "      <th>Poverty Status</th>\n",
       "      <th>Poverty Population</th>\n",
       "      <th>Poverty Population Moe</th>\n",
       "      <th>Geography</th>\n",
       "      <th>ID Geography</th>\n",
       "      <th>Slug Geography</th>\n",
       "      <th>share</th>\n",
       "    </tr>\n",
       "  </thead>\n",
       "  <tbody>\n",
       "    <tr>\n",
       "      <th>0</th>\n",
       "      <td>1</td>\n",
       "      <td>White</td>\n",
       "      <td>2015</td>\n",
       "      <td>2015</td>\n",
       "      <td>0</td>\n",
       "      <td>Income In The Past 12 Months Below Poverty Level</td>\n",
       "      <td>3428428</td>\n",
       "      <td>14342.41946</td>\n",
       "      <td>California</td>\n",
       "      <td>04000US06</td>\n",
       "      <td>california</td>\n",
       "      <td>0.363597</td>\n",
       "    </tr>\n",
       "    <tr>\n",
       "      <th>1</th>\n",
       "      <td>1</td>\n",
       "      <td>White</td>\n",
       "      <td>2014</td>\n",
       "      <td>2014</td>\n",
       "      <td>0</td>\n",
       "      <td>Income In The Past 12 Months Below Poverty Level</td>\n",
       "      <td>3408637</td>\n",
       "      <td>14261.93216</td>\n",
       "      <td>California</td>\n",
       "      <td>04000US06</td>\n",
       "      <td>california</td>\n",
       "      <td>0.362012</td>\n",
       "    </tr>\n",
       "    <tr>\n",
       "      <th>2</th>\n",
       "      <td>1</td>\n",
       "      <td>White</td>\n",
       "      <td>2016</td>\n",
       "      <td>2016</td>\n",
       "      <td>0</td>\n",
       "      <td>Income In The Past 12 Months Below Poverty Level</td>\n",
       "      <td>3326584</td>\n",
       "      <td>14530.04460</td>\n",
       "      <td>California</td>\n",
       "      <td>04000US06</td>\n",
       "      <td>california</td>\n",
       "      <td>0.361077</td>\n",
       "    </tr>\n",
       "    <tr>\n",
       "      <th>3</th>\n",
       "      <td>9</td>\n",
       "      <td>Hispanic</td>\n",
       "      <td>2014</td>\n",
       "      <td>2014</td>\n",
       "      <td>0</td>\n",
       "      <td>Income In The Past 12 Months Below Poverty Level</td>\n",
       "      <td>3300566</td>\n",
       "      <td>13090.29083</td>\n",
       "      <td>California</td>\n",
       "      <td>04000US06</td>\n",
       "      <td>california</td>\n",
       "      <td>0.350534</td>\n",
       "    </tr>\n",
       "    <tr>\n",
       "      <th>4</th>\n",
       "      <td>9</td>\n",
       "      <td>Hispanic</td>\n",
       "      <td>2015</td>\n",
       "      <td>2015</td>\n",
       "      <td>0</td>\n",
       "      <td>Income In The Past 12 Months Below Poverty Level</td>\n",
       "      <td>3294059</td>\n",
       "      <td>13489.59599</td>\n",
       "      <td>California</td>\n",
       "      <td>04000US06</td>\n",
       "      <td>california</td>\n",
       "      <td>0.349347</td>\n",
       "    </tr>\n",
       "  </tbody>\n",
       "</table>\n",
       "</div>"
      ],
      "text/plain": [
       "   ID Race      Race  ID Year  Year  ID Poverty Status  \\\n",
       "0        1     White     2015  2015                  0   \n",
       "1        1     White     2014  2014                  0   \n",
       "2        1     White     2016  2016                  0   \n",
       "3        9  Hispanic     2014  2014                  0   \n",
       "4        9  Hispanic     2015  2015                  0   \n",
       "\n",
       "                                     Poverty Status  Poverty Population  \\\n",
       "0  Income In The Past 12 Months Below Poverty Level             3428428   \n",
       "1  Income In The Past 12 Months Below Poverty Level             3408637   \n",
       "2  Income In The Past 12 Months Below Poverty Level             3326584   \n",
       "3  Income In The Past 12 Months Below Poverty Level             3300566   \n",
       "4  Income In The Past 12 Months Below Poverty Level             3294059   \n",
       "\n",
       "   Poverty Population Moe   Geography ID Geography Slug Geography     share  \n",
       "0             14342.41946  California    04000US06     california  0.363597  \n",
       "1             14261.93216  California    04000US06     california  0.362012  \n",
       "2             14530.04460  California    04000US06     california  0.361077  \n",
       "3             13090.29083  California    04000US06     california  0.350534  \n",
       "4             13489.59599  California    04000US06     california  0.349347  "
      ]
     },
     "execution_count": 30,
     "metadata": {},
     "output_type": "execute_result"
    }
   ],
   "source": [
    "pt = pd.read_csv('Poverty by Race and Ethnicity.csv')\n",
    "\n",
    "pt.head()"
   ]
  },
  {
   "cell_type": "code",
   "execution_count": 31,
   "metadata": {},
   "outputs": [
    {
     "data": {
      "text/html": [
       "<div>\n",
       "<style scoped>\n",
       "    .dataframe tbody tr th:only-of-type {\n",
       "        vertical-align: middle;\n",
       "    }\n",
       "\n",
       "    .dataframe tbody tr th {\n",
       "        vertical-align: top;\n",
       "    }\n",
       "\n",
       "    .dataframe thead th {\n",
       "        text-align: right;\n",
       "    }\n",
       "</style>\n",
       "<table border=\"1\" class=\"dataframe\">\n",
       "  <thead>\n",
       "    <tr style=\"text-align: right;\">\n",
       "      <th></th>\n",
       "      <th>ID Race</th>\n",
       "      <th>Race</th>\n",
       "      <th>ID Year</th>\n",
       "      <th>Year</th>\n",
       "      <th>ID Poverty Status</th>\n",
       "      <th>Poverty Status</th>\n",
       "      <th>Poverty Population</th>\n",
       "      <th>Poverty Population Moe</th>\n",
       "      <th>Geography</th>\n",
       "      <th>ID Geography</th>\n",
       "      <th>Slug Geography</th>\n",
       "      <th>share</th>\n",
       "    </tr>\n",
       "  </thead>\n",
       "  <tbody>\n",
       "    <tr>\n",
       "      <th>10</th>\n",
       "      <td>1</td>\n",
       "      <td>White</td>\n",
       "      <td>2018</td>\n",
       "      <td>2018</td>\n",
       "      <td>0</td>\n",
       "      <td>Income In The Past 12 Months Below Poverty Level</td>\n",
       "      <td>3011909</td>\n",
       "      <td>13219.464890</td>\n",
       "      <td>California</td>\n",
       "      <td>04000US06</td>\n",
       "      <td>california</td>\n",
       "      <td>0.360260</td>\n",
       "    </tr>\n",
       "    <tr>\n",
       "      <th>11</th>\n",
       "      <td>9</td>\n",
       "      <td>Hispanic</td>\n",
       "      <td>2018</td>\n",
       "      <td>2018</td>\n",
       "      <td>0</td>\n",
       "      <td>Income In The Past 12 Months Below Poverty Level</td>\n",
       "      <td>2873237</td>\n",
       "      <td>13133.961130</td>\n",
       "      <td>California</td>\n",
       "      <td>04000US06</td>\n",
       "      <td>california</td>\n",
       "      <td>0.343673</td>\n",
       "    </tr>\n",
       "    <tr>\n",
       "      <th>17</th>\n",
       "      <td>6</td>\n",
       "      <td>Other</td>\n",
       "      <td>2018</td>\n",
       "      <td>2018</td>\n",
       "      <td>0</td>\n",
       "      <td>Income In The Past 12 Months Below Poverty Level</td>\n",
       "      <td>1081319</td>\n",
       "      <td>8217.924799</td>\n",
       "      <td>California</td>\n",
       "      <td>04000US06</td>\n",
       "      <td>california</td>\n",
       "      <td>0.129339</td>\n",
       "    </tr>\n",
       "    <tr>\n",
       "      <th>22</th>\n",
       "      <td>4</td>\n",
       "      <td>Asian</td>\n",
       "      <td>2018</td>\n",
       "      <td>2018</td>\n",
       "      <td>0</td>\n",
       "      <td>Income In The Past 12 Months Below Poverty Level</td>\n",
       "      <td>593664</td>\n",
       "      <td>5448.408391</td>\n",
       "      <td>California</td>\n",
       "      <td>04000US06</td>\n",
       "      <td>california</td>\n",
       "      <td>0.071009</td>\n",
       "    </tr>\n",
       "    <tr>\n",
       "      <th>29</th>\n",
       "      <td>2</td>\n",
       "      <td>Black</td>\n",
       "      <td>2018</td>\n",
       "      <td>2018</td>\n",
       "      <td>0</td>\n",
       "      <td>Income In The Past 12 Months Below Poverty Level</td>\n",
       "      <td>475436</td>\n",
       "      <td>5288.740493</td>\n",
       "      <td>California</td>\n",
       "      <td>04000US06</td>\n",
       "      <td>california</td>\n",
       "      <td>0.056868</td>\n",
       "    </tr>\n",
       "    <tr>\n",
       "      <th>34</th>\n",
       "      <td>7</td>\n",
       "      <td>Two Or More</td>\n",
       "      <td>2018</td>\n",
       "      <td>2018</td>\n",
       "      <td>0</td>\n",
       "      <td>Income In The Past 12 Months Below Poverty Level</td>\n",
       "      <td>245474</td>\n",
       "      <td>3851.826190</td>\n",
       "      <td>California</td>\n",
       "      <td>04000US06</td>\n",
       "      <td>california</td>\n",
       "      <td>0.029362</td>\n",
       "    </tr>\n",
       "    <tr>\n",
       "      <th>41</th>\n",
       "      <td>3</td>\n",
       "      <td>Native American</td>\n",
       "      <td>2018</td>\n",
       "      <td>2018</td>\n",
       "      <td>0</td>\n",
       "      <td>Income In The Past 12 Months Below Poverty Level</td>\n",
       "      <td>58630</td>\n",
       "      <td>1754.175590</td>\n",
       "      <td>California</td>\n",
       "      <td>04000US06</td>\n",
       "      <td>california</td>\n",
       "      <td>0.007013</td>\n",
       "    </tr>\n",
       "    <tr>\n",
       "      <th>47</th>\n",
       "      <td>5</td>\n",
       "      <td>Pacific Islander</td>\n",
       "      <td>2018</td>\n",
       "      <td>2018</td>\n",
       "      <td>0</td>\n",
       "      <td>Income In The Past 12 Months Below Poverty Level</td>\n",
       "      <td>20709</td>\n",
       "      <td>1064.712168</td>\n",
       "      <td>California</td>\n",
       "      <td>04000US06</td>\n",
       "      <td>california</td>\n",
       "      <td>0.002477</td>\n",
       "    </tr>\n",
       "  </tbody>\n",
       "</table>\n",
       "</div>"
      ],
      "text/plain": [
       "    ID Race              Race  ID Year  Year  ID Poverty Status  \\\n",
       "10        1             White     2018  2018                  0   \n",
       "11        9          Hispanic     2018  2018                  0   \n",
       "17        6             Other     2018  2018                  0   \n",
       "22        4             Asian     2018  2018                  0   \n",
       "29        2             Black     2018  2018                  0   \n",
       "34        7       Two Or More     2018  2018                  0   \n",
       "41        3   Native American     2018  2018                  0   \n",
       "47        5  Pacific Islander     2018  2018                  0   \n",
       "\n",
       "                                      Poverty Status  Poverty Population  \\\n",
       "10  Income In The Past 12 Months Below Poverty Level             3011909   \n",
       "11  Income In The Past 12 Months Below Poverty Level             2873237   \n",
       "17  Income In The Past 12 Months Below Poverty Level             1081319   \n",
       "22  Income In The Past 12 Months Below Poverty Level              593664   \n",
       "29  Income In The Past 12 Months Below Poverty Level              475436   \n",
       "34  Income In The Past 12 Months Below Poverty Level              245474   \n",
       "41  Income In The Past 12 Months Below Poverty Level               58630   \n",
       "47  Income In The Past 12 Months Below Poverty Level               20709   \n",
       "\n",
       "    Poverty Population Moe   Geography ID Geography Slug Geography     share  \n",
       "10            13219.464890  California    04000US06     california  0.360260  \n",
       "11            13133.961130  California    04000US06     california  0.343673  \n",
       "17             8217.924799  California    04000US06     california  0.129339  \n",
       "22             5448.408391  California    04000US06     california  0.071009  \n",
       "29             5288.740493  California    04000US06     california  0.056868  \n",
       "34             3851.826190  California    04000US06     california  0.029362  \n",
       "41             1754.175590  California    04000US06     california  0.007013  \n",
       "47             1064.712168  California    04000US06     california  0.002477  "
      ]
     },
     "execution_count": 31,
     "metadata": {},
     "output_type": "execute_result"
    }
   ],
   "source": [
    "pt18 = pt[pt[\"Year\"] == 2018]\n",
    "pt18\n"
   ]
  },
  {
   "cell_type": "code",
   "execution_count": 32,
   "metadata": {},
   "outputs": [
    {
     "data": {
      "text/plain": [
       "[0.36025990700000005,\n",
       " 0.34367309700000004,\n",
       " 0.12933853,\n",
       " 0.07100922900000001,\n",
       " 0.056867764,\n",
       " 0.029361591,\n",
       " 0.007012841,\n",
       " 0.002477041]"
      ]
     },
     "execution_count": 32,
     "metadata": {},
     "output_type": "execute_result"
    }
   ],
   "source": [
    "pt18.share.to_list()"
   ]
  },
  {
   "cell_type": "code",
   "execution_count": 33,
   "metadata": {},
   "outputs": [
    {
     "data": {
      "text/plain": [
       "['White',\n",
       " 'Hispanic',\n",
       " 'Other',\n",
       " 'Asian',\n",
       " 'Black',\n",
       " 'Two Or More',\n",
       " 'Native American',\n",
       " 'Pacific Islander']"
      ]
     },
     "execution_count": 33,
     "metadata": {},
     "output_type": "execute_result"
    }
   ],
   "source": [
    "pt18.Race.to_list()"
   ]
  },
  {
   "cell_type": "code",
   "execution_count": 34,
   "metadata": {},
   "outputs": [
    {
     "data": {
      "application/vnd.plotly.v1+json": {
       "config": {
        "plotlyServerURL": "https://plot.ly"
       },
       "data": [
        {
         "hole": 0.3,
         "labels": [
          "White",
          "Hispanic",
          "Other",
          "Asian",
          "Black",
          "Two Or More",
          "Native American",
          "Pacific Islander"
         ],
         "type": "pie",
         "values": [
          0.36123392200000004,
          0.35081493700000005,
          0.130555158,
          0.064109901,
          0.056530251,
          0.026925207000000003,
          0.007327716,
          0.002502908
         ]
        }
       ],
       "layout": {
        "template": {
         "data": {
          "bar": [
           {
            "error_x": {
             "color": "#2a3f5f"
            },
            "error_y": {
             "color": "#2a3f5f"
            },
            "marker": {
             "line": {
              "color": "#E5ECF6",
              "width": 0.5
             }
            },
            "type": "bar"
           }
          ],
          "barpolar": [
           {
            "marker": {
             "line": {
              "color": "#E5ECF6",
              "width": 0.5
             }
            },
            "type": "barpolar"
           }
          ],
          "carpet": [
           {
            "aaxis": {
             "endlinecolor": "#2a3f5f",
             "gridcolor": "white",
             "linecolor": "white",
             "minorgridcolor": "white",
             "startlinecolor": "#2a3f5f"
            },
            "baxis": {
             "endlinecolor": "#2a3f5f",
             "gridcolor": "white",
             "linecolor": "white",
             "minorgridcolor": "white",
             "startlinecolor": "#2a3f5f"
            },
            "type": "carpet"
           }
          ],
          "choropleth": [
           {
            "colorbar": {
             "outlinewidth": 0,
             "ticks": ""
            },
            "type": "choropleth"
           }
          ],
          "contour": [
           {
            "colorbar": {
             "outlinewidth": 0,
             "ticks": ""
            },
            "colorscale": [
             [
              0,
              "#0d0887"
             ],
             [
              0.1111111111111111,
              "#46039f"
             ],
             [
              0.2222222222222222,
              "#7201a8"
             ],
             [
              0.3333333333333333,
              "#9c179e"
             ],
             [
              0.4444444444444444,
              "#bd3786"
             ],
             [
              0.5555555555555556,
              "#d8576b"
             ],
             [
              0.6666666666666666,
              "#ed7953"
             ],
             [
              0.7777777777777778,
              "#fb9f3a"
             ],
             [
              0.8888888888888888,
              "#fdca26"
             ],
             [
              1,
              "#f0f921"
             ]
            ],
            "type": "contour"
           }
          ],
          "contourcarpet": [
           {
            "colorbar": {
             "outlinewidth": 0,
             "ticks": ""
            },
            "type": "contourcarpet"
           }
          ],
          "heatmap": [
           {
            "colorbar": {
             "outlinewidth": 0,
             "ticks": ""
            },
            "colorscale": [
             [
              0,
              "#0d0887"
             ],
             [
              0.1111111111111111,
              "#46039f"
             ],
             [
              0.2222222222222222,
              "#7201a8"
             ],
             [
              0.3333333333333333,
              "#9c179e"
             ],
             [
              0.4444444444444444,
              "#bd3786"
             ],
             [
              0.5555555555555556,
              "#d8576b"
             ],
             [
              0.6666666666666666,
              "#ed7953"
             ],
             [
              0.7777777777777778,
              "#fb9f3a"
             ],
             [
              0.8888888888888888,
              "#fdca26"
             ],
             [
              1,
              "#f0f921"
             ]
            ],
            "type": "heatmap"
           }
          ],
          "heatmapgl": [
           {
            "colorbar": {
             "outlinewidth": 0,
             "ticks": ""
            },
            "colorscale": [
             [
              0,
              "#0d0887"
             ],
             [
              0.1111111111111111,
              "#46039f"
             ],
             [
              0.2222222222222222,
              "#7201a8"
             ],
             [
              0.3333333333333333,
              "#9c179e"
             ],
             [
              0.4444444444444444,
              "#bd3786"
             ],
             [
              0.5555555555555556,
              "#d8576b"
             ],
             [
              0.6666666666666666,
              "#ed7953"
             ],
             [
              0.7777777777777778,
              "#fb9f3a"
             ],
             [
              0.8888888888888888,
              "#fdca26"
             ],
             [
              1,
              "#f0f921"
             ]
            ],
            "type": "heatmapgl"
           }
          ],
          "histogram": [
           {
            "marker": {
             "colorbar": {
              "outlinewidth": 0,
              "ticks": ""
             }
            },
            "type": "histogram"
           }
          ],
          "histogram2d": [
           {
            "colorbar": {
             "outlinewidth": 0,
             "ticks": ""
            },
            "colorscale": [
             [
              0,
              "#0d0887"
             ],
             [
              0.1111111111111111,
              "#46039f"
             ],
             [
              0.2222222222222222,
              "#7201a8"
             ],
             [
              0.3333333333333333,
              "#9c179e"
             ],
             [
              0.4444444444444444,
              "#bd3786"
             ],
             [
              0.5555555555555556,
              "#d8576b"
             ],
             [
              0.6666666666666666,
              "#ed7953"
             ],
             [
              0.7777777777777778,
              "#fb9f3a"
             ],
             [
              0.8888888888888888,
              "#fdca26"
             ],
             [
              1,
              "#f0f921"
             ]
            ],
            "type": "histogram2d"
           }
          ],
          "histogram2dcontour": [
           {
            "colorbar": {
             "outlinewidth": 0,
             "ticks": ""
            },
            "colorscale": [
             [
              0,
              "#0d0887"
             ],
             [
              0.1111111111111111,
              "#46039f"
             ],
             [
              0.2222222222222222,
              "#7201a8"
             ],
             [
              0.3333333333333333,
              "#9c179e"
             ],
             [
              0.4444444444444444,
              "#bd3786"
             ],
             [
              0.5555555555555556,
              "#d8576b"
             ],
             [
              0.6666666666666666,
              "#ed7953"
             ],
             [
              0.7777777777777778,
              "#fb9f3a"
             ],
             [
              0.8888888888888888,
              "#fdca26"
             ],
             [
              1,
              "#f0f921"
             ]
            ],
            "type": "histogram2dcontour"
           }
          ],
          "mesh3d": [
           {
            "colorbar": {
             "outlinewidth": 0,
             "ticks": ""
            },
            "type": "mesh3d"
           }
          ],
          "parcoords": [
           {
            "line": {
             "colorbar": {
              "outlinewidth": 0,
              "ticks": ""
             }
            },
            "type": "parcoords"
           }
          ],
          "pie": [
           {
            "automargin": true,
            "type": "pie"
           }
          ],
          "scatter": [
           {
            "marker": {
             "colorbar": {
              "outlinewidth": 0,
              "ticks": ""
             }
            },
            "type": "scatter"
           }
          ],
          "scatter3d": [
           {
            "line": {
             "colorbar": {
              "outlinewidth": 0,
              "ticks": ""
             }
            },
            "marker": {
             "colorbar": {
              "outlinewidth": 0,
              "ticks": ""
             }
            },
            "type": "scatter3d"
           }
          ],
          "scattercarpet": [
           {
            "marker": {
             "colorbar": {
              "outlinewidth": 0,
              "ticks": ""
             }
            },
            "type": "scattercarpet"
           }
          ],
          "scattergeo": [
           {
            "marker": {
             "colorbar": {
              "outlinewidth": 0,
              "ticks": ""
             }
            },
            "type": "scattergeo"
           }
          ],
          "scattergl": [
           {
            "marker": {
             "colorbar": {
              "outlinewidth": 0,
              "ticks": ""
             }
            },
            "type": "scattergl"
           }
          ],
          "scattermapbox": [
           {
            "marker": {
             "colorbar": {
              "outlinewidth": 0,
              "ticks": ""
             }
            },
            "type": "scattermapbox"
           }
          ],
          "scatterpolar": [
           {
            "marker": {
             "colorbar": {
              "outlinewidth": 0,
              "ticks": ""
             }
            },
            "type": "scatterpolar"
           }
          ],
          "scatterpolargl": [
           {
            "marker": {
             "colorbar": {
              "outlinewidth": 0,
              "ticks": ""
             }
            },
            "type": "scatterpolargl"
           }
          ],
          "scatterternary": [
           {
            "marker": {
             "colorbar": {
              "outlinewidth": 0,
              "ticks": ""
             }
            },
            "type": "scatterternary"
           }
          ],
          "surface": [
           {
            "colorbar": {
             "outlinewidth": 0,
             "ticks": ""
            },
            "colorscale": [
             [
              0,
              "#0d0887"
             ],
             [
              0.1111111111111111,
              "#46039f"
             ],
             [
              0.2222222222222222,
              "#7201a8"
             ],
             [
              0.3333333333333333,
              "#9c179e"
             ],
             [
              0.4444444444444444,
              "#bd3786"
             ],
             [
              0.5555555555555556,
              "#d8576b"
             ],
             [
              0.6666666666666666,
              "#ed7953"
             ],
             [
              0.7777777777777778,
              "#fb9f3a"
             ],
             [
              0.8888888888888888,
              "#fdca26"
             ],
             [
              1,
              "#f0f921"
             ]
            ],
            "type": "surface"
           }
          ],
          "table": [
           {
            "cells": {
             "fill": {
              "color": "#EBF0F8"
             },
             "line": {
              "color": "white"
             }
            },
            "header": {
             "fill": {
              "color": "#C8D4E3"
             },
             "line": {
              "color": "white"
             }
            },
            "type": "table"
           }
          ]
         },
         "layout": {
          "annotationdefaults": {
           "arrowcolor": "#2a3f5f",
           "arrowhead": 0,
           "arrowwidth": 1
          },
          "autotypenumbers": "strict",
          "coloraxis": {
           "colorbar": {
            "outlinewidth": 0,
            "ticks": ""
           }
          },
          "colorscale": {
           "diverging": [
            [
             0,
             "#8e0152"
            ],
            [
             0.1,
             "#c51b7d"
            ],
            [
             0.2,
             "#de77ae"
            ],
            [
             0.3,
             "#f1b6da"
            ],
            [
             0.4,
             "#fde0ef"
            ],
            [
             0.5,
             "#f7f7f7"
            ],
            [
             0.6,
             "#e6f5d0"
            ],
            [
             0.7,
             "#b8e186"
            ],
            [
             0.8,
             "#7fbc41"
            ],
            [
             0.9,
             "#4d9221"
            ],
            [
             1,
             "#276419"
            ]
           ],
           "sequential": [
            [
             0,
             "#0d0887"
            ],
            [
             0.1111111111111111,
             "#46039f"
            ],
            [
             0.2222222222222222,
             "#7201a8"
            ],
            [
             0.3333333333333333,
             "#9c179e"
            ],
            [
             0.4444444444444444,
             "#bd3786"
            ],
            [
             0.5555555555555556,
             "#d8576b"
            ],
            [
             0.6666666666666666,
             "#ed7953"
            ],
            [
             0.7777777777777778,
             "#fb9f3a"
            ],
            [
             0.8888888888888888,
             "#fdca26"
            ],
            [
             1,
             "#f0f921"
            ]
           ],
           "sequentialminus": [
            [
             0,
             "#0d0887"
            ],
            [
             0.1111111111111111,
             "#46039f"
            ],
            [
             0.2222222222222222,
             "#7201a8"
            ],
            [
             0.3333333333333333,
             "#9c179e"
            ],
            [
             0.4444444444444444,
             "#bd3786"
            ],
            [
             0.5555555555555556,
             "#d8576b"
            ],
            [
             0.6666666666666666,
             "#ed7953"
            ],
            [
             0.7777777777777778,
             "#fb9f3a"
            ],
            [
             0.8888888888888888,
             "#fdca26"
            ],
            [
             1,
             "#f0f921"
            ]
           ]
          },
          "colorway": [
           "#636efa",
           "#EF553B",
           "#00cc96",
           "#ab63fa",
           "#FFA15A",
           "#19d3f3",
           "#FF6692",
           "#B6E880",
           "#FF97FF",
           "#FECB52"
          ],
          "font": {
           "color": "#2a3f5f"
          },
          "geo": {
           "bgcolor": "white",
           "lakecolor": "white",
           "landcolor": "#E5ECF6",
           "showlakes": true,
           "showland": true,
           "subunitcolor": "white"
          },
          "hoverlabel": {
           "align": "left"
          },
          "hovermode": "closest",
          "mapbox": {
           "style": "light"
          },
          "paper_bgcolor": "white",
          "plot_bgcolor": "#E5ECF6",
          "polar": {
           "angularaxis": {
            "gridcolor": "white",
            "linecolor": "white",
            "ticks": ""
           },
           "bgcolor": "#E5ECF6",
           "radialaxis": {
            "gridcolor": "white",
            "linecolor": "white",
            "ticks": ""
           }
          },
          "scene": {
           "xaxis": {
            "backgroundcolor": "#E5ECF6",
            "gridcolor": "white",
            "gridwidth": 2,
            "linecolor": "white",
            "showbackground": true,
            "ticks": "",
            "zerolinecolor": "white"
           },
           "yaxis": {
            "backgroundcolor": "#E5ECF6",
            "gridcolor": "white",
            "gridwidth": 2,
            "linecolor": "white",
            "showbackground": true,
            "ticks": "",
            "zerolinecolor": "white"
           },
           "zaxis": {
            "backgroundcolor": "#E5ECF6",
            "gridcolor": "white",
            "gridwidth": 2,
            "linecolor": "white",
            "showbackground": true,
            "ticks": "",
            "zerolinecolor": "white"
           }
          },
          "shapedefaults": {
           "line": {
            "color": "#2a3f5f"
           }
          },
          "ternary": {
           "aaxis": {
            "gridcolor": "white",
            "linecolor": "white",
            "ticks": ""
           },
           "baxis": {
            "gridcolor": "white",
            "linecolor": "white",
            "ticks": ""
           },
           "bgcolor": "#E5ECF6",
           "caxis": {
            "gridcolor": "white",
            "linecolor": "white",
            "ticks": ""
           }
          },
          "title": {
           "x": 0.05
          },
          "xaxis": {
           "automargin": true,
           "gridcolor": "white",
           "linecolor": "white",
           "ticks": "",
           "title": {
            "standoff": 15
           },
           "zerolinecolor": "white",
           "zerolinewidth": 2
          },
          "yaxis": {
           "automargin": true,
           "gridcolor": "white",
           "linecolor": "white",
           "ticks": "",
           "title": {
            "standoff": 15
           },
           "zerolinecolor": "white",
           "zerolinewidth": 2
          }
         }
        }
       }
      },
      "text/html": [
       "<div>                            <div id=\"e248ca1f-4a27-45c2-a669-af08d0656f8d\" class=\"plotly-graph-div\" style=\"height:525px; width:100%;\"></div>            <script type=\"text/javascript\">                require([\"plotly\"], function(Plotly) {                    window.PLOTLYENV=window.PLOTLYENV || {};                                    if (document.getElementById(\"e248ca1f-4a27-45c2-a669-af08d0656f8d\")) {                    Plotly.newPlot(                        \"e248ca1f-4a27-45c2-a669-af08d0656f8d\",                        [{\"hole\": 0.3, \"labels\": [\"White\", \"Hispanic\", \"Other\", \"Asian\", \"Black\", \"Two Or More\", \"Native American\", \"Pacific Islander\"], \"type\": \"pie\", \"values\": [0.36123392200000004, 0.35081493700000005, 0.130555158, 0.064109901, 0.056530251, 0.026925207000000003, 0.007327716, 0.002502908]}],                        {\"template\": {\"data\": {\"bar\": [{\"error_x\": {\"color\": \"#2a3f5f\"}, \"error_y\": {\"color\": \"#2a3f5f\"}, \"marker\": {\"line\": {\"color\": \"#E5ECF6\", \"width\": 0.5}}, \"type\": \"bar\"}], \"barpolar\": [{\"marker\": {\"line\": {\"color\": \"#E5ECF6\", \"width\": 0.5}}, \"type\": \"barpolar\"}], \"carpet\": [{\"aaxis\": {\"endlinecolor\": \"#2a3f5f\", \"gridcolor\": \"white\", \"linecolor\": \"white\", \"minorgridcolor\": \"white\", \"startlinecolor\": \"#2a3f5f\"}, \"baxis\": {\"endlinecolor\": \"#2a3f5f\", \"gridcolor\": \"white\", \"linecolor\": \"white\", \"minorgridcolor\": \"white\", \"startlinecolor\": \"#2a3f5f\"}, \"type\": \"carpet\"}], \"choropleth\": [{\"colorbar\": {\"outlinewidth\": 0, \"ticks\": \"\"}, \"type\": \"choropleth\"}], \"contour\": [{\"colorbar\": {\"outlinewidth\": 0, \"ticks\": \"\"}, \"colorscale\": [[0.0, \"#0d0887\"], [0.1111111111111111, \"#46039f\"], [0.2222222222222222, \"#7201a8\"], [0.3333333333333333, \"#9c179e\"], [0.4444444444444444, \"#bd3786\"], [0.5555555555555556, \"#d8576b\"], [0.6666666666666666, \"#ed7953\"], [0.7777777777777778, \"#fb9f3a\"], [0.8888888888888888, \"#fdca26\"], [1.0, \"#f0f921\"]], \"type\": \"contour\"}], \"contourcarpet\": [{\"colorbar\": {\"outlinewidth\": 0, \"ticks\": \"\"}, \"type\": \"contourcarpet\"}], \"heatmap\": [{\"colorbar\": {\"outlinewidth\": 0, \"ticks\": \"\"}, \"colorscale\": [[0.0, \"#0d0887\"], [0.1111111111111111, \"#46039f\"], [0.2222222222222222, \"#7201a8\"], [0.3333333333333333, \"#9c179e\"], [0.4444444444444444, \"#bd3786\"], [0.5555555555555556, \"#d8576b\"], [0.6666666666666666, \"#ed7953\"], [0.7777777777777778, \"#fb9f3a\"], [0.8888888888888888, \"#fdca26\"], [1.0, \"#f0f921\"]], \"type\": \"heatmap\"}], \"heatmapgl\": [{\"colorbar\": {\"outlinewidth\": 0, \"ticks\": \"\"}, \"colorscale\": [[0.0, \"#0d0887\"], [0.1111111111111111, \"#46039f\"], [0.2222222222222222, \"#7201a8\"], [0.3333333333333333, \"#9c179e\"], [0.4444444444444444, \"#bd3786\"], [0.5555555555555556, \"#d8576b\"], [0.6666666666666666, \"#ed7953\"], [0.7777777777777778, \"#fb9f3a\"], [0.8888888888888888, \"#fdca26\"], [1.0, \"#f0f921\"]], \"type\": \"heatmapgl\"}], \"histogram\": [{\"marker\": {\"colorbar\": {\"outlinewidth\": 0, \"ticks\": \"\"}}, \"type\": \"histogram\"}], \"histogram2d\": [{\"colorbar\": {\"outlinewidth\": 0, \"ticks\": \"\"}, \"colorscale\": [[0.0, \"#0d0887\"], [0.1111111111111111, \"#46039f\"], [0.2222222222222222, \"#7201a8\"], [0.3333333333333333, \"#9c179e\"], [0.4444444444444444, \"#bd3786\"], [0.5555555555555556, \"#d8576b\"], [0.6666666666666666, \"#ed7953\"], [0.7777777777777778, \"#fb9f3a\"], [0.8888888888888888, \"#fdca26\"], [1.0, \"#f0f921\"]], \"type\": \"histogram2d\"}], \"histogram2dcontour\": [{\"colorbar\": {\"outlinewidth\": 0, \"ticks\": \"\"}, \"colorscale\": [[0.0, \"#0d0887\"], [0.1111111111111111, \"#46039f\"], [0.2222222222222222, \"#7201a8\"], [0.3333333333333333, \"#9c179e\"], [0.4444444444444444, \"#bd3786\"], [0.5555555555555556, \"#d8576b\"], [0.6666666666666666, \"#ed7953\"], [0.7777777777777778, \"#fb9f3a\"], [0.8888888888888888, \"#fdca26\"], [1.0, \"#f0f921\"]], \"type\": \"histogram2dcontour\"}], \"mesh3d\": [{\"colorbar\": {\"outlinewidth\": 0, \"ticks\": \"\"}, \"type\": \"mesh3d\"}], \"parcoords\": [{\"line\": {\"colorbar\": {\"outlinewidth\": 0, \"ticks\": \"\"}}, \"type\": \"parcoords\"}], \"pie\": [{\"automargin\": true, \"type\": \"pie\"}], \"scatter\": [{\"marker\": {\"colorbar\": {\"outlinewidth\": 0, \"ticks\": \"\"}}, \"type\": \"scatter\"}], \"scatter3d\": [{\"line\": {\"colorbar\": {\"outlinewidth\": 0, \"ticks\": \"\"}}, \"marker\": {\"colorbar\": {\"outlinewidth\": 0, \"ticks\": \"\"}}, \"type\": \"scatter3d\"}], \"scattercarpet\": [{\"marker\": {\"colorbar\": {\"outlinewidth\": 0, \"ticks\": \"\"}}, \"type\": \"scattercarpet\"}], \"scattergeo\": [{\"marker\": {\"colorbar\": {\"outlinewidth\": 0, \"ticks\": \"\"}}, \"type\": \"scattergeo\"}], \"scattergl\": [{\"marker\": {\"colorbar\": {\"outlinewidth\": 0, \"ticks\": \"\"}}, \"type\": \"scattergl\"}], \"scattermapbox\": [{\"marker\": {\"colorbar\": {\"outlinewidth\": 0, \"ticks\": \"\"}}, \"type\": \"scattermapbox\"}], \"scatterpolar\": [{\"marker\": {\"colorbar\": {\"outlinewidth\": 0, \"ticks\": \"\"}}, \"type\": \"scatterpolar\"}], \"scatterpolargl\": [{\"marker\": {\"colorbar\": {\"outlinewidth\": 0, \"ticks\": \"\"}}, \"type\": \"scatterpolargl\"}], \"scatterternary\": [{\"marker\": {\"colorbar\": {\"outlinewidth\": 0, \"ticks\": \"\"}}, \"type\": \"scatterternary\"}], \"surface\": [{\"colorbar\": {\"outlinewidth\": 0, \"ticks\": \"\"}, \"colorscale\": [[0.0, \"#0d0887\"], [0.1111111111111111, \"#46039f\"], [0.2222222222222222, \"#7201a8\"], [0.3333333333333333, \"#9c179e\"], [0.4444444444444444, \"#bd3786\"], [0.5555555555555556, \"#d8576b\"], [0.6666666666666666, \"#ed7953\"], [0.7777777777777778, \"#fb9f3a\"], [0.8888888888888888, \"#fdca26\"], [1.0, \"#f0f921\"]], \"type\": \"surface\"}], \"table\": [{\"cells\": {\"fill\": {\"color\": \"#EBF0F8\"}, \"line\": {\"color\": \"white\"}}, \"header\": {\"fill\": {\"color\": \"#C8D4E3\"}, \"line\": {\"color\": \"white\"}}, \"type\": \"table\"}]}, \"layout\": {\"annotationdefaults\": {\"arrowcolor\": \"#2a3f5f\", \"arrowhead\": 0, \"arrowwidth\": 1}, \"autotypenumbers\": \"strict\", \"coloraxis\": {\"colorbar\": {\"outlinewidth\": 0, \"ticks\": \"\"}}, \"colorscale\": {\"diverging\": [[0, \"#8e0152\"], [0.1, \"#c51b7d\"], [0.2, \"#de77ae\"], [0.3, \"#f1b6da\"], [0.4, \"#fde0ef\"], [0.5, \"#f7f7f7\"], [0.6, \"#e6f5d0\"], [0.7, \"#b8e186\"], [0.8, \"#7fbc41\"], [0.9, \"#4d9221\"], [1, \"#276419\"]], \"sequential\": [[0.0, \"#0d0887\"], [0.1111111111111111, \"#46039f\"], [0.2222222222222222, \"#7201a8\"], [0.3333333333333333, \"#9c179e\"], [0.4444444444444444, \"#bd3786\"], [0.5555555555555556, \"#d8576b\"], [0.6666666666666666, \"#ed7953\"], [0.7777777777777778, \"#fb9f3a\"], [0.8888888888888888, \"#fdca26\"], [1.0, \"#f0f921\"]], \"sequentialminus\": [[0.0, \"#0d0887\"], [0.1111111111111111, \"#46039f\"], [0.2222222222222222, \"#7201a8\"], [0.3333333333333333, \"#9c179e\"], [0.4444444444444444, \"#bd3786\"], [0.5555555555555556, \"#d8576b\"], [0.6666666666666666, \"#ed7953\"], [0.7777777777777778, \"#fb9f3a\"], [0.8888888888888888, \"#fdca26\"], [1.0, \"#f0f921\"]]}, \"colorway\": [\"#636efa\", \"#EF553B\", \"#00cc96\", \"#ab63fa\", \"#FFA15A\", \"#19d3f3\", \"#FF6692\", \"#B6E880\", \"#FF97FF\", \"#FECB52\"], \"font\": {\"color\": \"#2a3f5f\"}, \"geo\": {\"bgcolor\": \"white\", \"lakecolor\": \"white\", \"landcolor\": \"#E5ECF6\", \"showlakes\": true, \"showland\": true, \"subunitcolor\": \"white\"}, \"hoverlabel\": {\"align\": \"left\"}, \"hovermode\": \"closest\", \"mapbox\": {\"style\": \"light\"}, \"paper_bgcolor\": \"white\", \"plot_bgcolor\": \"#E5ECF6\", \"polar\": {\"angularaxis\": {\"gridcolor\": \"white\", \"linecolor\": \"white\", \"ticks\": \"\"}, \"bgcolor\": \"#E5ECF6\", \"radialaxis\": {\"gridcolor\": \"white\", \"linecolor\": \"white\", \"ticks\": \"\"}}, \"scene\": {\"xaxis\": {\"backgroundcolor\": \"#E5ECF6\", \"gridcolor\": \"white\", \"gridwidth\": 2, \"linecolor\": \"white\", \"showbackground\": true, \"ticks\": \"\", \"zerolinecolor\": \"white\"}, \"yaxis\": {\"backgroundcolor\": \"#E5ECF6\", \"gridcolor\": \"white\", \"gridwidth\": 2, \"linecolor\": \"white\", \"showbackground\": true, \"ticks\": \"\", \"zerolinecolor\": \"white\"}, \"zaxis\": {\"backgroundcolor\": \"#E5ECF6\", \"gridcolor\": \"white\", \"gridwidth\": 2, \"linecolor\": \"white\", \"showbackground\": true, \"ticks\": \"\", \"zerolinecolor\": \"white\"}}, \"shapedefaults\": {\"line\": {\"color\": \"#2a3f5f\"}}, \"ternary\": {\"aaxis\": {\"gridcolor\": \"white\", \"linecolor\": \"white\", \"ticks\": \"\"}, \"baxis\": {\"gridcolor\": \"white\", \"linecolor\": \"white\", \"ticks\": \"\"}, \"bgcolor\": \"#E5ECF6\", \"caxis\": {\"gridcolor\": \"white\", \"linecolor\": \"white\", \"ticks\": \"\"}}, \"title\": {\"x\": 0.05}, \"xaxis\": {\"automargin\": true, \"gridcolor\": \"white\", \"linecolor\": \"white\", \"ticks\": \"\", \"title\": {\"standoff\": 15}, \"zerolinecolor\": \"white\", \"zerolinewidth\": 2}, \"yaxis\": {\"automargin\": true, \"gridcolor\": \"white\", \"linecolor\": \"white\", \"ticks\": \"\", \"title\": {\"standoff\": 15}, \"zerolinecolor\": \"white\", \"zerolinewidth\": 2}}}},                        {\"responsive\": true}                    ).then(function(){\n",
       "                            \n",
       "var gd = document.getElementById('e248ca1f-4a27-45c2-a669-af08d0656f8d');\n",
       "var x = new MutationObserver(function (mutations, observer) {{\n",
       "        var display = window.getComputedStyle(gd).display;\n",
       "        if (!display || display === 'none') {{\n",
       "            console.log([gd, 'removed!']);\n",
       "            Plotly.purge(gd);\n",
       "            observer.disconnect();\n",
       "        }}\n",
       "}});\n",
       "\n",
       "// Listen for the removal of the full notebook cells\n",
       "var notebookContainer = gd.closest('#notebook-container');\n",
       "if (notebookContainer) {{\n",
       "    x.observe(notebookContainer, {childList: true});\n",
       "}}\n",
       "\n",
       "// Listen for the clearing of the current output cell\n",
       "var outputEl = gd.closest('.output');\n",
       "if (outputEl) {{\n",
       "    x.observe(outputEl, {childList: true});\n",
       "}}\n",
       "\n",
       "                        })                };                });            </script>        </div>"
      ]
     },
     "metadata": {},
     "output_type": "display_data"
    }
   ],
   "source": [
    "pt13= pt[pt[\"Year\"] == 2013]\n",
    "import plotly.graph_objects as go\n",
    "\n",
    "labels = pt13.Race.to_list()\n",
    "values = pt13.share.to_list()\n",
    "\n",
    "# Use `hole` to create a donut-like pie chart\n",
    "fig = go.Figure(data=[go.Pie(labels=labels, values=values, hole=.3)])\n",
    "fig.show()\n",
    "from plotly.io import write_html\n",
    "write_html(fig, \"Poverty2013.html\")"
   ]
  },
  {
   "cell_type": "code",
   "execution_count": 35,
   "metadata": {},
   "outputs": [
    {
     "data": {
      "application/vnd.plotly.v1+json": {
       "config": {
        "plotlyServerURL": "https://plot.ly"
       },
       "data": [
        {
         "hole": 0.3,
         "labels": [
          "White",
          "Hispanic",
          "Other",
          "Asian",
          "Black",
          "Two Or More",
          "Native American",
          "Pacific Islander"
         ],
         "type": "pie",
         "values": [
          0.363596873,
          0.34934656700000005,
          0.12714248,
          0.06527955,
          0.056720288,
          0.02834132,
          0.006911296,
          0.002661625
         ]
        }
       ],
       "layout": {
        "template": {
         "data": {
          "bar": [
           {
            "error_x": {
             "color": "#2a3f5f"
            },
            "error_y": {
             "color": "#2a3f5f"
            },
            "marker": {
             "line": {
              "color": "#E5ECF6",
              "width": 0.5
             }
            },
            "type": "bar"
           }
          ],
          "barpolar": [
           {
            "marker": {
             "line": {
              "color": "#E5ECF6",
              "width": 0.5
             }
            },
            "type": "barpolar"
           }
          ],
          "carpet": [
           {
            "aaxis": {
             "endlinecolor": "#2a3f5f",
             "gridcolor": "white",
             "linecolor": "white",
             "minorgridcolor": "white",
             "startlinecolor": "#2a3f5f"
            },
            "baxis": {
             "endlinecolor": "#2a3f5f",
             "gridcolor": "white",
             "linecolor": "white",
             "minorgridcolor": "white",
             "startlinecolor": "#2a3f5f"
            },
            "type": "carpet"
           }
          ],
          "choropleth": [
           {
            "colorbar": {
             "outlinewidth": 0,
             "ticks": ""
            },
            "type": "choropleth"
           }
          ],
          "contour": [
           {
            "colorbar": {
             "outlinewidth": 0,
             "ticks": ""
            },
            "colorscale": [
             [
              0,
              "#0d0887"
             ],
             [
              0.1111111111111111,
              "#46039f"
             ],
             [
              0.2222222222222222,
              "#7201a8"
             ],
             [
              0.3333333333333333,
              "#9c179e"
             ],
             [
              0.4444444444444444,
              "#bd3786"
             ],
             [
              0.5555555555555556,
              "#d8576b"
             ],
             [
              0.6666666666666666,
              "#ed7953"
             ],
             [
              0.7777777777777778,
              "#fb9f3a"
             ],
             [
              0.8888888888888888,
              "#fdca26"
             ],
             [
              1,
              "#f0f921"
             ]
            ],
            "type": "contour"
           }
          ],
          "contourcarpet": [
           {
            "colorbar": {
             "outlinewidth": 0,
             "ticks": ""
            },
            "type": "contourcarpet"
           }
          ],
          "heatmap": [
           {
            "colorbar": {
             "outlinewidth": 0,
             "ticks": ""
            },
            "colorscale": [
             [
              0,
              "#0d0887"
             ],
             [
              0.1111111111111111,
              "#46039f"
             ],
             [
              0.2222222222222222,
              "#7201a8"
             ],
             [
              0.3333333333333333,
              "#9c179e"
             ],
             [
              0.4444444444444444,
              "#bd3786"
             ],
             [
              0.5555555555555556,
              "#d8576b"
             ],
             [
              0.6666666666666666,
              "#ed7953"
             ],
             [
              0.7777777777777778,
              "#fb9f3a"
             ],
             [
              0.8888888888888888,
              "#fdca26"
             ],
             [
              1,
              "#f0f921"
             ]
            ],
            "type": "heatmap"
           }
          ],
          "heatmapgl": [
           {
            "colorbar": {
             "outlinewidth": 0,
             "ticks": ""
            },
            "colorscale": [
             [
              0,
              "#0d0887"
             ],
             [
              0.1111111111111111,
              "#46039f"
             ],
             [
              0.2222222222222222,
              "#7201a8"
             ],
             [
              0.3333333333333333,
              "#9c179e"
             ],
             [
              0.4444444444444444,
              "#bd3786"
             ],
             [
              0.5555555555555556,
              "#d8576b"
             ],
             [
              0.6666666666666666,
              "#ed7953"
             ],
             [
              0.7777777777777778,
              "#fb9f3a"
             ],
             [
              0.8888888888888888,
              "#fdca26"
             ],
             [
              1,
              "#f0f921"
             ]
            ],
            "type": "heatmapgl"
           }
          ],
          "histogram": [
           {
            "marker": {
             "colorbar": {
              "outlinewidth": 0,
              "ticks": ""
             }
            },
            "type": "histogram"
           }
          ],
          "histogram2d": [
           {
            "colorbar": {
             "outlinewidth": 0,
             "ticks": ""
            },
            "colorscale": [
             [
              0,
              "#0d0887"
             ],
             [
              0.1111111111111111,
              "#46039f"
             ],
             [
              0.2222222222222222,
              "#7201a8"
             ],
             [
              0.3333333333333333,
              "#9c179e"
             ],
             [
              0.4444444444444444,
              "#bd3786"
             ],
             [
              0.5555555555555556,
              "#d8576b"
             ],
             [
              0.6666666666666666,
              "#ed7953"
             ],
             [
              0.7777777777777778,
              "#fb9f3a"
             ],
             [
              0.8888888888888888,
              "#fdca26"
             ],
             [
              1,
              "#f0f921"
             ]
            ],
            "type": "histogram2d"
           }
          ],
          "histogram2dcontour": [
           {
            "colorbar": {
             "outlinewidth": 0,
             "ticks": ""
            },
            "colorscale": [
             [
              0,
              "#0d0887"
             ],
             [
              0.1111111111111111,
              "#46039f"
             ],
             [
              0.2222222222222222,
              "#7201a8"
             ],
             [
              0.3333333333333333,
              "#9c179e"
             ],
             [
              0.4444444444444444,
              "#bd3786"
             ],
             [
              0.5555555555555556,
              "#d8576b"
             ],
             [
              0.6666666666666666,
              "#ed7953"
             ],
             [
              0.7777777777777778,
              "#fb9f3a"
             ],
             [
              0.8888888888888888,
              "#fdca26"
             ],
             [
              1,
              "#f0f921"
             ]
            ],
            "type": "histogram2dcontour"
           }
          ],
          "mesh3d": [
           {
            "colorbar": {
             "outlinewidth": 0,
             "ticks": ""
            },
            "type": "mesh3d"
           }
          ],
          "parcoords": [
           {
            "line": {
             "colorbar": {
              "outlinewidth": 0,
              "ticks": ""
             }
            },
            "type": "parcoords"
           }
          ],
          "pie": [
           {
            "automargin": true,
            "type": "pie"
           }
          ],
          "scatter": [
           {
            "marker": {
             "colorbar": {
              "outlinewidth": 0,
              "ticks": ""
             }
            },
            "type": "scatter"
           }
          ],
          "scatter3d": [
           {
            "line": {
             "colorbar": {
              "outlinewidth": 0,
              "ticks": ""
             }
            },
            "marker": {
             "colorbar": {
              "outlinewidth": 0,
              "ticks": ""
             }
            },
            "type": "scatter3d"
           }
          ],
          "scattercarpet": [
           {
            "marker": {
             "colorbar": {
              "outlinewidth": 0,
              "ticks": ""
             }
            },
            "type": "scattercarpet"
           }
          ],
          "scattergeo": [
           {
            "marker": {
             "colorbar": {
              "outlinewidth": 0,
              "ticks": ""
             }
            },
            "type": "scattergeo"
           }
          ],
          "scattergl": [
           {
            "marker": {
             "colorbar": {
              "outlinewidth": 0,
              "ticks": ""
             }
            },
            "type": "scattergl"
           }
          ],
          "scattermapbox": [
           {
            "marker": {
             "colorbar": {
              "outlinewidth": 0,
              "ticks": ""
             }
            },
            "type": "scattermapbox"
           }
          ],
          "scatterpolar": [
           {
            "marker": {
             "colorbar": {
              "outlinewidth": 0,
              "ticks": ""
             }
            },
            "type": "scatterpolar"
           }
          ],
          "scatterpolargl": [
           {
            "marker": {
             "colorbar": {
              "outlinewidth": 0,
              "ticks": ""
             }
            },
            "type": "scatterpolargl"
           }
          ],
          "scatterternary": [
           {
            "marker": {
             "colorbar": {
              "outlinewidth": 0,
              "ticks": ""
             }
            },
            "type": "scatterternary"
           }
          ],
          "surface": [
           {
            "colorbar": {
             "outlinewidth": 0,
             "ticks": ""
            },
            "colorscale": [
             [
              0,
              "#0d0887"
             ],
             [
              0.1111111111111111,
              "#46039f"
             ],
             [
              0.2222222222222222,
              "#7201a8"
             ],
             [
              0.3333333333333333,
              "#9c179e"
             ],
             [
              0.4444444444444444,
              "#bd3786"
             ],
             [
              0.5555555555555556,
              "#d8576b"
             ],
             [
              0.6666666666666666,
              "#ed7953"
             ],
             [
              0.7777777777777778,
              "#fb9f3a"
             ],
             [
              0.8888888888888888,
              "#fdca26"
             ],
             [
              1,
              "#f0f921"
             ]
            ],
            "type": "surface"
           }
          ],
          "table": [
           {
            "cells": {
             "fill": {
              "color": "#EBF0F8"
             },
             "line": {
              "color": "white"
             }
            },
            "header": {
             "fill": {
              "color": "#C8D4E3"
             },
             "line": {
              "color": "white"
             }
            },
            "type": "table"
           }
          ]
         },
         "layout": {
          "annotationdefaults": {
           "arrowcolor": "#2a3f5f",
           "arrowhead": 0,
           "arrowwidth": 1
          },
          "autotypenumbers": "strict",
          "coloraxis": {
           "colorbar": {
            "outlinewidth": 0,
            "ticks": ""
           }
          },
          "colorscale": {
           "diverging": [
            [
             0,
             "#8e0152"
            ],
            [
             0.1,
             "#c51b7d"
            ],
            [
             0.2,
             "#de77ae"
            ],
            [
             0.3,
             "#f1b6da"
            ],
            [
             0.4,
             "#fde0ef"
            ],
            [
             0.5,
             "#f7f7f7"
            ],
            [
             0.6,
             "#e6f5d0"
            ],
            [
             0.7,
             "#b8e186"
            ],
            [
             0.8,
             "#7fbc41"
            ],
            [
             0.9,
             "#4d9221"
            ],
            [
             1,
             "#276419"
            ]
           ],
           "sequential": [
            [
             0,
             "#0d0887"
            ],
            [
             0.1111111111111111,
             "#46039f"
            ],
            [
             0.2222222222222222,
             "#7201a8"
            ],
            [
             0.3333333333333333,
             "#9c179e"
            ],
            [
             0.4444444444444444,
             "#bd3786"
            ],
            [
             0.5555555555555556,
             "#d8576b"
            ],
            [
             0.6666666666666666,
             "#ed7953"
            ],
            [
             0.7777777777777778,
             "#fb9f3a"
            ],
            [
             0.8888888888888888,
             "#fdca26"
            ],
            [
             1,
             "#f0f921"
            ]
           ],
           "sequentialminus": [
            [
             0,
             "#0d0887"
            ],
            [
             0.1111111111111111,
             "#46039f"
            ],
            [
             0.2222222222222222,
             "#7201a8"
            ],
            [
             0.3333333333333333,
             "#9c179e"
            ],
            [
             0.4444444444444444,
             "#bd3786"
            ],
            [
             0.5555555555555556,
             "#d8576b"
            ],
            [
             0.6666666666666666,
             "#ed7953"
            ],
            [
             0.7777777777777778,
             "#fb9f3a"
            ],
            [
             0.8888888888888888,
             "#fdca26"
            ],
            [
             1,
             "#f0f921"
            ]
           ]
          },
          "colorway": [
           "#636efa",
           "#EF553B",
           "#00cc96",
           "#ab63fa",
           "#FFA15A",
           "#19d3f3",
           "#FF6692",
           "#B6E880",
           "#FF97FF",
           "#FECB52"
          ],
          "font": {
           "color": "#2a3f5f"
          },
          "geo": {
           "bgcolor": "white",
           "lakecolor": "white",
           "landcolor": "#E5ECF6",
           "showlakes": true,
           "showland": true,
           "subunitcolor": "white"
          },
          "hoverlabel": {
           "align": "left"
          },
          "hovermode": "closest",
          "mapbox": {
           "style": "light"
          },
          "paper_bgcolor": "white",
          "plot_bgcolor": "#E5ECF6",
          "polar": {
           "angularaxis": {
            "gridcolor": "white",
            "linecolor": "white",
            "ticks": ""
           },
           "bgcolor": "#E5ECF6",
           "radialaxis": {
            "gridcolor": "white",
            "linecolor": "white",
            "ticks": ""
           }
          },
          "scene": {
           "xaxis": {
            "backgroundcolor": "#E5ECF6",
            "gridcolor": "white",
            "gridwidth": 2,
            "linecolor": "white",
            "showbackground": true,
            "ticks": "",
            "zerolinecolor": "white"
           },
           "yaxis": {
            "backgroundcolor": "#E5ECF6",
            "gridcolor": "white",
            "gridwidth": 2,
            "linecolor": "white",
            "showbackground": true,
            "ticks": "",
            "zerolinecolor": "white"
           },
           "zaxis": {
            "backgroundcolor": "#E5ECF6",
            "gridcolor": "white",
            "gridwidth": 2,
            "linecolor": "white",
            "showbackground": true,
            "ticks": "",
            "zerolinecolor": "white"
           }
          },
          "shapedefaults": {
           "line": {
            "color": "#2a3f5f"
           }
          },
          "ternary": {
           "aaxis": {
            "gridcolor": "white",
            "linecolor": "white",
            "ticks": ""
           },
           "baxis": {
            "gridcolor": "white",
            "linecolor": "white",
            "ticks": ""
           },
           "bgcolor": "#E5ECF6",
           "caxis": {
            "gridcolor": "white",
            "linecolor": "white",
            "ticks": ""
           }
          },
          "title": {
           "x": 0.05
          },
          "xaxis": {
           "automargin": true,
           "gridcolor": "white",
           "linecolor": "white",
           "ticks": "",
           "title": {
            "standoff": 15
           },
           "zerolinecolor": "white",
           "zerolinewidth": 2
          },
          "yaxis": {
           "automargin": true,
           "gridcolor": "white",
           "linecolor": "white",
           "ticks": "",
           "title": {
            "standoff": 15
           },
           "zerolinecolor": "white",
           "zerolinewidth": 2
          }
         }
        }
       }
      },
      "text/html": [
       "<div>                            <div id=\"ed172f3a-2bd8-4e42-90e9-ad6fbbaa0c4b\" class=\"plotly-graph-div\" style=\"height:525px; width:100%;\"></div>            <script type=\"text/javascript\">                require([\"plotly\"], function(Plotly) {                    window.PLOTLYENV=window.PLOTLYENV || {};                                    if (document.getElementById(\"ed172f3a-2bd8-4e42-90e9-ad6fbbaa0c4b\")) {                    Plotly.newPlot(                        \"ed172f3a-2bd8-4e42-90e9-ad6fbbaa0c4b\",                        [{\"hole\": 0.3, \"labels\": [\"White\", \"Hispanic\", \"Other\", \"Asian\", \"Black\", \"Two Or More\", \"Native American\", \"Pacific Islander\"], \"type\": \"pie\", \"values\": [0.363596873, 0.34934656700000005, 0.12714248, 0.06527955, 0.056720288, 0.02834132, 0.006911296, 0.002661625]}],                        {\"template\": {\"data\": {\"bar\": [{\"error_x\": {\"color\": \"#2a3f5f\"}, \"error_y\": {\"color\": \"#2a3f5f\"}, \"marker\": {\"line\": {\"color\": \"#E5ECF6\", \"width\": 0.5}}, \"type\": \"bar\"}], \"barpolar\": [{\"marker\": {\"line\": {\"color\": \"#E5ECF6\", \"width\": 0.5}}, \"type\": \"barpolar\"}], \"carpet\": [{\"aaxis\": {\"endlinecolor\": \"#2a3f5f\", \"gridcolor\": \"white\", \"linecolor\": \"white\", \"minorgridcolor\": \"white\", \"startlinecolor\": \"#2a3f5f\"}, \"baxis\": {\"endlinecolor\": \"#2a3f5f\", \"gridcolor\": \"white\", \"linecolor\": \"white\", \"minorgridcolor\": \"white\", \"startlinecolor\": \"#2a3f5f\"}, \"type\": \"carpet\"}], \"choropleth\": [{\"colorbar\": {\"outlinewidth\": 0, \"ticks\": \"\"}, \"type\": \"choropleth\"}], \"contour\": [{\"colorbar\": {\"outlinewidth\": 0, \"ticks\": \"\"}, \"colorscale\": [[0.0, \"#0d0887\"], [0.1111111111111111, \"#46039f\"], [0.2222222222222222, \"#7201a8\"], [0.3333333333333333, \"#9c179e\"], [0.4444444444444444, \"#bd3786\"], [0.5555555555555556, \"#d8576b\"], [0.6666666666666666, \"#ed7953\"], [0.7777777777777778, \"#fb9f3a\"], [0.8888888888888888, \"#fdca26\"], [1.0, \"#f0f921\"]], \"type\": \"contour\"}], \"contourcarpet\": [{\"colorbar\": {\"outlinewidth\": 0, \"ticks\": \"\"}, \"type\": \"contourcarpet\"}], \"heatmap\": [{\"colorbar\": {\"outlinewidth\": 0, \"ticks\": \"\"}, \"colorscale\": [[0.0, \"#0d0887\"], [0.1111111111111111, \"#46039f\"], [0.2222222222222222, \"#7201a8\"], [0.3333333333333333, \"#9c179e\"], [0.4444444444444444, \"#bd3786\"], [0.5555555555555556, \"#d8576b\"], [0.6666666666666666, \"#ed7953\"], [0.7777777777777778, \"#fb9f3a\"], [0.8888888888888888, \"#fdca26\"], [1.0, \"#f0f921\"]], \"type\": \"heatmap\"}], \"heatmapgl\": [{\"colorbar\": {\"outlinewidth\": 0, \"ticks\": \"\"}, \"colorscale\": [[0.0, \"#0d0887\"], [0.1111111111111111, \"#46039f\"], [0.2222222222222222, \"#7201a8\"], [0.3333333333333333, \"#9c179e\"], [0.4444444444444444, \"#bd3786\"], [0.5555555555555556, \"#d8576b\"], [0.6666666666666666, \"#ed7953\"], [0.7777777777777778, \"#fb9f3a\"], [0.8888888888888888, \"#fdca26\"], [1.0, \"#f0f921\"]], \"type\": \"heatmapgl\"}], \"histogram\": [{\"marker\": {\"colorbar\": {\"outlinewidth\": 0, \"ticks\": \"\"}}, \"type\": \"histogram\"}], \"histogram2d\": [{\"colorbar\": {\"outlinewidth\": 0, \"ticks\": \"\"}, \"colorscale\": [[0.0, \"#0d0887\"], [0.1111111111111111, \"#46039f\"], [0.2222222222222222, \"#7201a8\"], [0.3333333333333333, \"#9c179e\"], [0.4444444444444444, \"#bd3786\"], [0.5555555555555556, \"#d8576b\"], [0.6666666666666666, \"#ed7953\"], [0.7777777777777778, \"#fb9f3a\"], [0.8888888888888888, \"#fdca26\"], [1.0, \"#f0f921\"]], \"type\": \"histogram2d\"}], \"histogram2dcontour\": [{\"colorbar\": {\"outlinewidth\": 0, \"ticks\": \"\"}, \"colorscale\": [[0.0, \"#0d0887\"], [0.1111111111111111, \"#46039f\"], [0.2222222222222222, \"#7201a8\"], [0.3333333333333333, \"#9c179e\"], [0.4444444444444444, \"#bd3786\"], [0.5555555555555556, \"#d8576b\"], [0.6666666666666666, \"#ed7953\"], [0.7777777777777778, \"#fb9f3a\"], [0.8888888888888888, \"#fdca26\"], [1.0, \"#f0f921\"]], \"type\": \"histogram2dcontour\"}], \"mesh3d\": [{\"colorbar\": {\"outlinewidth\": 0, \"ticks\": \"\"}, \"type\": \"mesh3d\"}], \"parcoords\": [{\"line\": {\"colorbar\": {\"outlinewidth\": 0, \"ticks\": \"\"}}, \"type\": \"parcoords\"}], \"pie\": [{\"automargin\": true, \"type\": \"pie\"}], \"scatter\": [{\"marker\": {\"colorbar\": {\"outlinewidth\": 0, \"ticks\": \"\"}}, \"type\": \"scatter\"}], \"scatter3d\": [{\"line\": {\"colorbar\": {\"outlinewidth\": 0, \"ticks\": \"\"}}, \"marker\": {\"colorbar\": {\"outlinewidth\": 0, \"ticks\": \"\"}}, \"type\": \"scatter3d\"}], \"scattercarpet\": [{\"marker\": {\"colorbar\": {\"outlinewidth\": 0, \"ticks\": \"\"}}, \"type\": \"scattercarpet\"}], \"scattergeo\": [{\"marker\": {\"colorbar\": {\"outlinewidth\": 0, \"ticks\": \"\"}}, \"type\": \"scattergeo\"}], \"scattergl\": [{\"marker\": {\"colorbar\": {\"outlinewidth\": 0, \"ticks\": \"\"}}, \"type\": \"scattergl\"}], \"scattermapbox\": [{\"marker\": {\"colorbar\": {\"outlinewidth\": 0, \"ticks\": \"\"}}, \"type\": \"scattermapbox\"}], \"scatterpolar\": [{\"marker\": {\"colorbar\": {\"outlinewidth\": 0, \"ticks\": \"\"}}, \"type\": \"scatterpolar\"}], \"scatterpolargl\": [{\"marker\": {\"colorbar\": {\"outlinewidth\": 0, \"ticks\": \"\"}}, \"type\": \"scatterpolargl\"}], \"scatterternary\": [{\"marker\": {\"colorbar\": {\"outlinewidth\": 0, \"ticks\": \"\"}}, \"type\": \"scatterternary\"}], \"surface\": [{\"colorbar\": {\"outlinewidth\": 0, \"ticks\": \"\"}, \"colorscale\": [[0.0, \"#0d0887\"], [0.1111111111111111, \"#46039f\"], [0.2222222222222222, \"#7201a8\"], [0.3333333333333333, \"#9c179e\"], [0.4444444444444444, \"#bd3786\"], [0.5555555555555556, \"#d8576b\"], [0.6666666666666666, \"#ed7953\"], [0.7777777777777778, \"#fb9f3a\"], [0.8888888888888888, \"#fdca26\"], [1.0, \"#f0f921\"]], \"type\": \"surface\"}], \"table\": [{\"cells\": {\"fill\": {\"color\": \"#EBF0F8\"}, \"line\": {\"color\": \"white\"}}, \"header\": {\"fill\": {\"color\": \"#C8D4E3\"}, \"line\": {\"color\": \"white\"}}, \"type\": \"table\"}]}, \"layout\": {\"annotationdefaults\": {\"arrowcolor\": \"#2a3f5f\", \"arrowhead\": 0, \"arrowwidth\": 1}, \"autotypenumbers\": \"strict\", \"coloraxis\": {\"colorbar\": {\"outlinewidth\": 0, \"ticks\": \"\"}}, \"colorscale\": {\"diverging\": [[0, \"#8e0152\"], [0.1, \"#c51b7d\"], [0.2, \"#de77ae\"], [0.3, \"#f1b6da\"], [0.4, \"#fde0ef\"], [0.5, \"#f7f7f7\"], [0.6, \"#e6f5d0\"], [0.7, \"#b8e186\"], [0.8, \"#7fbc41\"], [0.9, \"#4d9221\"], [1, \"#276419\"]], \"sequential\": [[0.0, \"#0d0887\"], [0.1111111111111111, \"#46039f\"], [0.2222222222222222, \"#7201a8\"], [0.3333333333333333, \"#9c179e\"], [0.4444444444444444, \"#bd3786\"], [0.5555555555555556, \"#d8576b\"], [0.6666666666666666, \"#ed7953\"], [0.7777777777777778, \"#fb9f3a\"], [0.8888888888888888, \"#fdca26\"], [1.0, \"#f0f921\"]], \"sequentialminus\": [[0.0, \"#0d0887\"], [0.1111111111111111, \"#46039f\"], [0.2222222222222222, \"#7201a8\"], [0.3333333333333333, \"#9c179e\"], [0.4444444444444444, \"#bd3786\"], [0.5555555555555556, \"#d8576b\"], [0.6666666666666666, \"#ed7953\"], [0.7777777777777778, \"#fb9f3a\"], [0.8888888888888888, \"#fdca26\"], [1.0, \"#f0f921\"]]}, \"colorway\": [\"#636efa\", \"#EF553B\", \"#00cc96\", \"#ab63fa\", \"#FFA15A\", \"#19d3f3\", \"#FF6692\", \"#B6E880\", \"#FF97FF\", \"#FECB52\"], \"font\": {\"color\": \"#2a3f5f\"}, \"geo\": {\"bgcolor\": \"white\", \"lakecolor\": \"white\", \"landcolor\": \"#E5ECF6\", \"showlakes\": true, \"showland\": true, \"subunitcolor\": \"white\"}, \"hoverlabel\": {\"align\": \"left\"}, \"hovermode\": \"closest\", \"mapbox\": {\"style\": \"light\"}, \"paper_bgcolor\": \"white\", \"plot_bgcolor\": \"#E5ECF6\", \"polar\": {\"angularaxis\": {\"gridcolor\": \"white\", \"linecolor\": \"white\", \"ticks\": \"\"}, \"bgcolor\": \"#E5ECF6\", \"radialaxis\": {\"gridcolor\": \"white\", \"linecolor\": \"white\", \"ticks\": \"\"}}, \"scene\": {\"xaxis\": {\"backgroundcolor\": \"#E5ECF6\", \"gridcolor\": \"white\", \"gridwidth\": 2, \"linecolor\": \"white\", \"showbackground\": true, \"ticks\": \"\", \"zerolinecolor\": \"white\"}, \"yaxis\": {\"backgroundcolor\": \"#E5ECF6\", \"gridcolor\": \"white\", \"gridwidth\": 2, \"linecolor\": \"white\", \"showbackground\": true, \"ticks\": \"\", \"zerolinecolor\": \"white\"}, \"zaxis\": {\"backgroundcolor\": \"#E5ECF6\", \"gridcolor\": \"white\", \"gridwidth\": 2, \"linecolor\": \"white\", \"showbackground\": true, \"ticks\": \"\", \"zerolinecolor\": \"white\"}}, \"shapedefaults\": {\"line\": {\"color\": \"#2a3f5f\"}}, \"ternary\": {\"aaxis\": {\"gridcolor\": \"white\", \"linecolor\": \"white\", \"ticks\": \"\"}, \"baxis\": {\"gridcolor\": \"white\", \"linecolor\": \"white\", \"ticks\": \"\"}, \"bgcolor\": \"#E5ECF6\", \"caxis\": {\"gridcolor\": \"white\", \"linecolor\": \"white\", \"ticks\": \"\"}}, \"title\": {\"x\": 0.05}, \"xaxis\": {\"automargin\": true, \"gridcolor\": \"white\", \"linecolor\": \"white\", \"ticks\": \"\", \"title\": {\"standoff\": 15}, \"zerolinecolor\": \"white\", \"zerolinewidth\": 2}, \"yaxis\": {\"automargin\": true, \"gridcolor\": \"white\", \"linecolor\": \"white\", \"ticks\": \"\", \"title\": {\"standoff\": 15}, \"zerolinecolor\": \"white\", \"zerolinewidth\": 2}}}},                        {\"responsive\": true}                    ).then(function(){\n",
       "                            \n",
       "var gd = document.getElementById('ed172f3a-2bd8-4e42-90e9-ad6fbbaa0c4b');\n",
       "var x = new MutationObserver(function (mutations, observer) {{\n",
       "        var display = window.getComputedStyle(gd).display;\n",
       "        if (!display || display === 'none') {{\n",
       "            console.log([gd, 'removed!']);\n",
       "            Plotly.purge(gd);\n",
       "            observer.disconnect();\n",
       "        }}\n",
       "}});\n",
       "\n",
       "// Listen for the removal of the full notebook cells\n",
       "var notebookContainer = gd.closest('#notebook-container');\n",
       "if (notebookContainer) {{\n",
       "    x.observe(notebookContainer, {childList: true});\n",
       "}}\n",
       "\n",
       "// Listen for the clearing of the current output cell\n",
       "var outputEl = gd.closest('.output');\n",
       "if (outputEl) {{\n",
       "    x.observe(outputEl, {childList: true});\n",
       "}}\n",
       "\n",
       "                        })                };                });            </script>        </div>"
      ]
     },
     "metadata": {},
     "output_type": "display_data"
    }
   ],
   "source": [
    "pt15= pt[pt[\"Year\"] == 2015]\n",
    "import plotly.graph_objects as go\n",
    "\n",
    "labels = pt15.Race.to_list()\n",
    "values = pt15.share.to_list()\n",
    "\n",
    "# Use `hole` to create a donut-like pie chart\n",
    "fig = go.Figure(data=[go.Pie(labels=labels, values=values, hole=.3)])\n",
    "fig.show()\n",
    "from plotly.io import write_html\n",
    "write_html(fig, \"Poverty2015.html\")"
   ]
  },
  {
   "cell_type": "code",
   "execution_count": 36,
   "metadata": {},
   "outputs": [
    {
     "data": {
      "application/vnd.plotly.v1+json": {
       "config": {
        "plotlyServerURL": "https://plot.ly"
       },
       "data": [
        {
         "hole": 0.3,
         "labels": [
          "White",
          "Hispanic",
          "Other",
          "Asian",
          "Black",
          "Two Or More",
          "Native American",
          "Pacific Islander"
         ],
         "type": "pie",
         "values": [
          0.36025990700000005,
          0.34367309700000004,
          0.12933853,
          0.07100922900000001,
          0.056867764,
          0.029361591,
          0.007012841,
          0.002477041
         ]
        }
       ],
       "layout": {
        "template": {
         "data": {
          "bar": [
           {
            "error_x": {
             "color": "#2a3f5f"
            },
            "error_y": {
             "color": "#2a3f5f"
            },
            "marker": {
             "line": {
              "color": "#E5ECF6",
              "width": 0.5
             }
            },
            "type": "bar"
           }
          ],
          "barpolar": [
           {
            "marker": {
             "line": {
              "color": "#E5ECF6",
              "width": 0.5
             }
            },
            "type": "barpolar"
           }
          ],
          "carpet": [
           {
            "aaxis": {
             "endlinecolor": "#2a3f5f",
             "gridcolor": "white",
             "linecolor": "white",
             "minorgridcolor": "white",
             "startlinecolor": "#2a3f5f"
            },
            "baxis": {
             "endlinecolor": "#2a3f5f",
             "gridcolor": "white",
             "linecolor": "white",
             "minorgridcolor": "white",
             "startlinecolor": "#2a3f5f"
            },
            "type": "carpet"
           }
          ],
          "choropleth": [
           {
            "colorbar": {
             "outlinewidth": 0,
             "ticks": ""
            },
            "type": "choropleth"
           }
          ],
          "contour": [
           {
            "colorbar": {
             "outlinewidth": 0,
             "ticks": ""
            },
            "colorscale": [
             [
              0,
              "#0d0887"
             ],
             [
              0.1111111111111111,
              "#46039f"
             ],
             [
              0.2222222222222222,
              "#7201a8"
             ],
             [
              0.3333333333333333,
              "#9c179e"
             ],
             [
              0.4444444444444444,
              "#bd3786"
             ],
             [
              0.5555555555555556,
              "#d8576b"
             ],
             [
              0.6666666666666666,
              "#ed7953"
             ],
             [
              0.7777777777777778,
              "#fb9f3a"
             ],
             [
              0.8888888888888888,
              "#fdca26"
             ],
             [
              1,
              "#f0f921"
             ]
            ],
            "type": "contour"
           }
          ],
          "contourcarpet": [
           {
            "colorbar": {
             "outlinewidth": 0,
             "ticks": ""
            },
            "type": "contourcarpet"
           }
          ],
          "heatmap": [
           {
            "colorbar": {
             "outlinewidth": 0,
             "ticks": ""
            },
            "colorscale": [
             [
              0,
              "#0d0887"
             ],
             [
              0.1111111111111111,
              "#46039f"
             ],
             [
              0.2222222222222222,
              "#7201a8"
             ],
             [
              0.3333333333333333,
              "#9c179e"
             ],
             [
              0.4444444444444444,
              "#bd3786"
             ],
             [
              0.5555555555555556,
              "#d8576b"
             ],
             [
              0.6666666666666666,
              "#ed7953"
             ],
             [
              0.7777777777777778,
              "#fb9f3a"
             ],
             [
              0.8888888888888888,
              "#fdca26"
             ],
             [
              1,
              "#f0f921"
             ]
            ],
            "type": "heatmap"
           }
          ],
          "heatmapgl": [
           {
            "colorbar": {
             "outlinewidth": 0,
             "ticks": ""
            },
            "colorscale": [
             [
              0,
              "#0d0887"
             ],
             [
              0.1111111111111111,
              "#46039f"
             ],
             [
              0.2222222222222222,
              "#7201a8"
             ],
             [
              0.3333333333333333,
              "#9c179e"
             ],
             [
              0.4444444444444444,
              "#bd3786"
             ],
             [
              0.5555555555555556,
              "#d8576b"
             ],
             [
              0.6666666666666666,
              "#ed7953"
             ],
             [
              0.7777777777777778,
              "#fb9f3a"
             ],
             [
              0.8888888888888888,
              "#fdca26"
             ],
             [
              1,
              "#f0f921"
             ]
            ],
            "type": "heatmapgl"
           }
          ],
          "histogram": [
           {
            "marker": {
             "colorbar": {
              "outlinewidth": 0,
              "ticks": ""
             }
            },
            "type": "histogram"
           }
          ],
          "histogram2d": [
           {
            "colorbar": {
             "outlinewidth": 0,
             "ticks": ""
            },
            "colorscale": [
             [
              0,
              "#0d0887"
             ],
             [
              0.1111111111111111,
              "#46039f"
             ],
             [
              0.2222222222222222,
              "#7201a8"
             ],
             [
              0.3333333333333333,
              "#9c179e"
             ],
             [
              0.4444444444444444,
              "#bd3786"
             ],
             [
              0.5555555555555556,
              "#d8576b"
             ],
             [
              0.6666666666666666,
              "#ed7953"
             ],
             [
              0.7777777777777778,
              "#fb9f3a"
             ],
             [
              0.8888888888888888,
              "#fdca26"
             ],
             [
              1,
              "#f0f921"
             ]
            ],
            "type": "histogram2d"
           }
          ],
          "histogram2dcontour": [
           {
            "colorbar": {
             "outlinewidth": 0,
             "ticks": ""
            },
            "colorscale": [
             [
              0,
              "#0d0887"
             ],
             [
              0.1111111111111111,
              "#46039f"
             ],
             [
              0.2222222222222222,
              "#7201a8"
             ],
             [
              0.3333333333333333,
              "#9c179e"
             ],
             [
              0.4444444444444444,
              "#bd3786"
             ],
             [
              0.5555555555555556,
              "#d8576b"
             ],
             [
              0.6666666666666666,
              "#ed7953"
             ],
             [
              0.7777777777777778,
              "#fb9f3a"
             ],
             [
              0.8888888888888888,
              "#fdca26"
             ],
             [
              1,
              "#f0f921"
             ]
            ],
            "type": "histogram2dcontour"
           }
          ],
          "mesh3d": [
           {
            "colorbar": {
             "outlinewidth": 0,
             "ticks": ""
            },
            "type": "mesh3d"
           }
          ],
          "parcoords": [
           {
            "line": {
             "colorbar": {
              "outlinewidth": 0,
              "ticks": ""
             }
            },
            "type": "parcoords"
           }
          ],
          "pie": [
           {
            "automargin": true,
            "type": "pie"
           }
          ],
          "scatter": [
           {
            "marker": {
             "colorbar": {
              "outlinewidth": 0,
              "ticks": ""
             }
            },
            "type": "scatter"
           }
          ],
          "scatter3d": [
           {
            "line": {
             "colorbar": {
              "outlinewidth": 0,
              "ticks": ""
             }
            },
            "marker": {
             "colorbar": {
              "outlinewidth": 0,
              "ticks": ""
             }
            },
            "type": "scatter3d"
           }
          ],
          "scattercarpet": [
           {
            "marker": {
             "colorbar": {
              "outlinewidth": 0,
              "ticks": ""
             }
            },
            "type": "scattercarpet"
           }
          ],
          "scattergeo": [
           {
            "marker": {
             "colorbar": {
              "outlinewidth": 0,
              "ticks": ""
             }
            },
            "type": "scattergeo"
           }
          ],
          "scattergl": [
           {
            "marker": {
             "colorbar": {
              "outlinewidth": 0,
              "ticks": ""
             }
            },
            "type": "scattergl"
           }
          ],
          "scattermapbox": [
           {
            "marker": {
             "colorbar": {
              "outlinewidth": 0,
              "ticks": ""
             }
            },
            "type": "scattermapbox"
           }
          ],
          "scatterpolar": [
           {
            "marker": {
             "colorbar": {
              "outlinewidth": 0,
              "ticks": ""
             }
            },
            "type": "scatterpolar"
           }
          ],
          "scatterpolargl": [
           {
            "marker": {
             "colorbar": {
              "outlinewidth": 0,
              "ticks": ""
             }
            },
            "type": "scatterpolargl"
           }
          ],
          "scatterternary": [
           {
            "marker": {
             "colorbar": {
              "outlinewidth": 0,
              "ticks": ""
             }
            },
            "type": "scatterternary"
           }
          ],
          "surface": [
           {
            "colorbar": {
             "outlinewidth": 0,
             "ticks": ""
            },
            "colorscale": [
             [
              0,
              "#0d0887"
             ],
             [
              0.1111111111111111,
              "#46039f"
             ],
             [
              0.2222222222222222,
              "#7201a8"
             ],
             [
              0.3333333333333333,
              "#9c179e"
             ],
             [
              0.4444444444444444,
              "#bd3786"
             ],
             [
              0.5555555555555556,
              "#d8576b"
             ],
             [
              0.6666666666666666,
              "#ed7953"
             ],
             [
              0.7777777777777778,
              "#fb9f3a"
             ],
             [
              0.8888888888888888,
              "#fdca26"
             ],
             [
              1,
              "#f0f921"
             ]
            ],
            "type": "surface"
           }
          ],
          "table": [
           {
            "cells": {
             "fill": {
              "color": "#EBF0F8"
             },
             "line": {
              "color": "white"
             }
            },
            "header": {
             "fill": {
              "color": "#C8D4E3"
             },
             "line": {
              "color": "white"
             }
            },
            "type": "table"
           }
          ]
         },
         "layout": {
          "annotationdefaults": {
           "arrowcolor": "#2a3f5f",
           "arrowhead": 0,
           "arrowwidth": 1
          },
          "autotypenumbers": "strict",
          "coloraxis": {
           "colorbar": {
            "outlinewidth": 0,
            "ticks": ""
           }
          },
          "colorscale": {
           "diverging": [
            [
             0,
             "#8e0152"
            ],
            [
             0.1,
             "#c51b7d"
            ],
            [
             0.2,
             "#de77ae"
            ],
            [
             0.3,
             "#f1b6da"
            ],
            [
             0.4,
             "#fde0ef"
            ],
            [
             0.5,
             "#f7f7f7"
            ],
            [
             0.6,
             "#e6f5d0"
            ],
            [
             0.7,
             "#b8e186"
            ],
            [
             0.8,
             "#7fbc41"
            ],
            [
             0.9,
             "#4d9221"
            ],
            [
             1,
             "#276419"
            ]
           ],
           "sequential": [
            [
             0,
             "#0d0887"
            ],
            [
             0.1111111111111111,
             "#46039f"
            ],
            [
             0.2222222222222222,
             "#7201a8"
            ],
            [
             0.3333333333333333,
             "#9c179e"
            ],
            [
             0.4444444444444444,
             "#bd3786"
            ],
            [
             0.5555555555555556,
             "#d8576b"
            ],
            [
             0.6666666666666666,
             "#ed7953"
            ],
            [
             0.7777777777777778,
             "#fb9f3a"
            ],
            [
             0.8888888888888888,
             "#fdca26"
            ],
            [
             1,
             "#f0f921"
            ]
           ],
           "sequentialminus": [
            [
             0,
             "#0d0887"
            ],
            [
             0.1111111111111111,
             "#46039f"
            ],
            [
             0.2222222222222222,
             "#7201a8"
            ],
            [
             0.3333333333333333,
             "#9c179e"
            ],
            [
             0.4444444444444444,
             "#bd3786"
            ],
            [
             0.5555555555555556,
             "#d8576b"
            ],
            [
             0.6666666666666666,
             "#ed7953"
            ],
            [
             0.7777777777777778,
             "#fb9f3a"
            ],
            [
             0.8888888888888888,
             "#fdca26"
            ],
            [
             1,
             "#f0f921"
            ]
           ]
          },
          "colorway": [
           "#636efa",
           "#EF553B",
           "#00cc96",
           "#ab63fa",
           "#FFA15A",
           "#19d3f3",
           "#FF6692",
           "#B6E880",
           "#FF97FF",
           "#FECB52"
          ],
          "font": {
           "color": "#2a3f5f"
          },
          "geo": {
           "bgcolor": "white",
           "lakecolor": "white",
           "landcolor": "#E5ECF6",
           "showlakes": true,
           "showland": true,
           "subunitcolor": "white"
          },
          "hoverlabel": {
           "align": "left"
          },
          "hovermode": "closest",
          "mapbox": {
           "style": "light"
          },
          "paper_bgcolor": "white",
          "plot_bgcolor": "#E5ECF6",
          "polar": {
           "angularaxis": {
            "gridcolor": "white",
            "linecolor": "white",
            "ticks": ""
           },
           "bgcolor": "#E5ECF6",
           "radialaxis": {
            "gridcolor": "white",
            "linecolor": "white",
            "ticks": ""
           }
          },
          "scene": {
           "xaxis": {
            "backgroundcolor": "#E5ECF6",
            "gridcolor": "white",
            "gridwidth": 2,
            "linecolor": "white",
            "showbackground": true,
            "ticks": "",
            "zerolinecolor": "white"
           },
           "yaxis": {
            "backgroundcolor": "#E5ECF6",
            "gridcolor": "white",
            "gridwidth": 2,
            "linecolor": "white",
            "showbackground": true,
            "ticks": "",
            "zerolinecolor": "white"
           },
           "zaxis": {
            "backgroundcolor": "#E5ECF6",
            "gridcolor": "white",
            "gridwidth": 2,
            "linecolor": "white",
            "showbackground": true,
            "ticks": "",
            "zerolinecolor": "white"
           }
          },
          "shapedefaults": {
           "line": {
            "color": "#2a3f5f"
           }
          },
          "ternary": {
           "aaxis": {
            "gridcolor": "white",
            "linecolor": "white",
            "ticks": ""
           },
           "baxis": {
            "gridcolor": "white",
            "linecolor": "white",
            "ticks": ""
           },
           "bgcolor": "#E5ECF6",
           "caxis": {
            "gridcolor": "white",
            "linecolor": "white",
            "ticks": ""
           }
          },
          "title": {
           "x": 0.05
          },
          "xaxis": {
           "automargin": true,
           "gridcolor": "white",
           "linecolor": "white",
           "ticks": "",
           "title": {
            "standoff": 15
           },
           "zerolinecolor": "white",
           "zerolinewidth": 2
          },
          "yaxis": {
           "automargin": true,
           "gridcolor": "white",
           "linecolor": "white",
           "ticks": "",
           "title": {
            "standoff": 15
           },
           "zerolinecolor": "white",
           "zerolinewidth": 2
          }
         }
        }
       }
      },
      "text/html": [
       "<div>                            <div id=\"7333e0c5-3747-4620-b148-39e294ee70da\" class=\"plotly-graph-div\" style=\"height:525px; width:100%;\"></div>            <script type=\"text/javascript\">                require([\"plotly\"], function(Plotly) {                    window.PLOTLYENV=window.PLOTLYENV || {};                                    if (document.getElementById(\"7333e0c5-3747-4620-b148-39e294ee70da\")) {                    Plotly.newPlot(                        \"7333e0c5-3747-4620-b148-39e294ee70da\",                        [{\"hole\": 0.3, \"labels\": [\"White\", \"Hispanic\", \"Other\", \"Asian\", \"Black\", \"Two Or More\", \"Native American\", \"Pacific Islander\"], \"type\": \"pie\", \"values\": [0.36025990700000005, 0.34367309700000004, 0.12933853, 0.07100922900000001, 0.056867764, 0.029361591, 0.007012841, 0.002477041]}],                        {\"template\": {\"data\": {\"bar\": [{\"error_x\": {\"color\": \"#2a3f5f\"}, \"error_y\": {\"color\": \"#2a3f5f\"}, \"marker\": {\"line\": {\"color\": \"#E5ECF6\", \"width\": 0.5}}, \"type\": \"bar\"}], \"barpolar\": [{\"marker\": {\"line\": {\"color\": \"#E5ECF6\", \"width\": 0.5}}, \"type\": \"barpolar\"}], \"carpet\": [{\"aaxis\": {\"endlinecolor\": \"#2a3f5f\", \"gridcolor\": \"white\", \"linecolor\": \"white\", \"minorgridcolor\": \"white\", \"startlinecolor\": \"#2a3f5f\"}, \"baxis\": {\"endlinecolor\": \"#2a3f5f\", \"gridcolor\": \"white\", \"linecolor\": \"white\", \"minorgridcolor\": \"white\", \"startlinecolor\": \"#2a3f5f\"}, \"type\": \"carpet\"}], \"choropleth\": [{\"colorbar\": {\"outlinewidth\": 0, \"ticks\": \"\"}, \"type\": \"choropleth\"}], \"contour\": [{\"colorbar\": {\"outlinewidth\": 0, \"ticks\": \"\"}, \"colorscale\": [[0.0, \"#0d0887\"], [0.1111111111111111, \"#46039f\"], [0.2222222222222222, \"#7201a8\"], [0.3333333333333333, \"#9c179e\"], [0.4444444444444444, \"#bd3786\"], [0.5555555555555556, \"#d8576b\"], [0.6666666666666666, \"#ed7953\"], [0.7777777777777778, \"#fb9f3a\"], [0.8888888888888888, \"#fdca26\"], [1.0, \"#f0f921\"]], \"type\": \"contour\"}], \"contourcarpet\": [{\"colorbar\": {\"outlinewidth\": 0, \"ticks\": \"\"}, \"type\": \"contourcarpet\"}], \"heatmap\": [{\"colorbar\": {\"outlinewidth\": 0, \"ticks\": \"\"}, \"colorscale\": [[0.0, \"#0d0887\"], [0.1111111111111111, \"#46039f\"], [0.2222222222222222, \"#7201a8\"], [0.3333333333333333, \"#9c179e\"], [0.4444444444444444, \"#bd3786\"], [0.5555555555555556, \"#d8576b\"], [0.6666666666666666, \"#ed7953\"], [0.7777777777777778, \"#fb9f3a\"], [0.8888888888888888, \"#fdca26\"], [1.0, \"#f0f921\"]], \"type\": \"heatmap\"}], \"heatmapgl\": [{\"colorbar\": {\"outlinewidth\": 0, \"ticks\": \"\"}, \"colorscale\": [[0.0, \"#0d0887\"], [0.1111111111111111, \"#46039f\"], [0.2222222222222222, \"#7201a8\"], [0.3333333333333333, \"#9c179e\"], [0.4444444444444444, \"#bd3786\"], [0.5555555555555556, \"#d8576b\"], [0.6666666666666666, \"#ed7953\"], [0.7777777777777778, \"#fb9f3a\"], [0.8888888888888888, \"#fdca26\"], [1.0, \"#f0f921\"]], \"type\": \"heatmapgl\"}], \"histogram\": [{\"marker\": {\"colorbar\": {\"outlinewidth\": 0, \"ticks\": \"\"}}, \"type\": \"histogram\"}], \"histogram2d\": [{\"colorbar\": {\"outlinewidth\": 0, \"ticks\": \"\"}, \"colorscale\": [[0.0, \"#0d0887\"], [0.1111111111111111, \"#46039f\"], [0.2222222222222222, \"#7201a8\"], [0.3333333333333333, \"#9c179e\"], [0.4444444444444444, \"#bd3786\"], [0.5555555555555556, \"#d8576b\"], [0.6666666666666666, \"#ed7953\"], [0.7777777777777778, \"#fb9f3a\"], [0.8888888888888888, \"#fdca26\"], [1.0, \"#f0f921\"]], \"type\": \"histogram2d\"}], \"histogram2dcontour\": [{\"colorbar\": {\"outlinewidth\": 0, \"ticks\": \"\"}, \"colorscale\": [[0.0, \"#0d0887\"], [0.1111111111111111, \"#46039f\"], [0.2222222222222222, \"#7201a8\"], [0.3333333333333333, \"#9c179e\"], [0.4444444444444444, \"#bd3786\"], [0.5555555555555556, \"#d8576b\"], [0.6666666666666666, \"#ed7953\"], [0.7777777777777778, \"#fb9f3a\"], [0.8888888888888888, \"#fdca26\"], [1.0, \"#f0f921\"]], \"type\": \"histogram2dcontour\"}], \"mesh3d\": [{\"colorbar\": {\"outlinewidth\": 0, \"ticks\": \"\"}, \"type\": \"mesh3d\"}], \"parcoords\": [{\"line\": {\"colorbar\": {\"outlinewidth\": 0, \"ticks\": \"\"}}, \"type\": \"parcoords\"}], \"pie\": [{\"automargin\": true, \"type\": \"pie\"}], \"scatter\": [{\"marker\": {\"colorbar\": {\"outlinewidth\": 0, \"ticks\": \"\"}}, \"type\": \"scatter\"}], \"scatter3d\": [{\"line\": {\"colorbar\": {\"outlinewidth\": 0, \"ticks\": \"\"}}, \"marker\": {\"colorbar\": {\"outlinewidth\": 0, \"ticks\": \"\"}}, \"type\": \"scatter3d\"}], \"scattercarpet\": [{\"marker\": {\"colorbar\": {\"outlinewidth\": 0, \"ticks\": \"\"}}, \"type\": \"scattercarpet\"}], \"scattergeo\": [{\"marker\": {\"colorbar\": {\"outlinewidth\": 0, \"ticks\": \"\"}}, \"type\": \"scattergeo\"}], \"scattergl\": [{\"marker\": {\"colorbar\": {\"outlinewidth\": 0, \"ticks\": \"\"}}, \"type\": \"scattergl\"}], \"scattermapbox\": [{\"marker\": {\"colorbar\": {\"outlinewidth\": 0, \"ticks\": \"\"}}, \"type\": \"scattermapbox\"}], \"scatterpolar\": [{\"marker\": {\"colorbar\": {\"outlinewidth\": 0, \"ticks\": \"\"}}, \"type\": \"scatterpolar\"}], \"scatterpolargl\": [{\"marker\": {\"colorbar\": {\"outlinewidth\": 0, \"ticks\": \"\"}}, \"type\": \"scatterpolargl\"}], \"scatterternary\": [{\"marker\": {\"colorbar\": {\"outlinewidth\": 0, \"ticks\": \"\"}}, \"type\": \"scatterternary\"}], \"surface\": [{\"colorbar\": {\"outlinewidth\": 0, \"ticks\": \"\"}, \"colorscale\": [[0.0, \"#0d0887\"], [0.1111111111111111, \"#46039f\"], [0.2222222222222222, \"#7201a8\"], [0.3333333333333333, \"#9c179e\"], [0.4444444444444444, \"#bd3786\"], [0.5555555555555556, \"#d8576b\"], [0.6666666666666666, \"#ed7953\"], [0.7777777777777778, \"#fb9f3a\"], [0.8888888888888888, \"#fdca26\"], [1.0, \"#f0f921\"]], \"type\": \"surface\"}], \"table\": [{\"cells\": {\"fill\": {\"color\": \"#EBF0F8\"}, \"line\": {\"color\": \"white\"}}, \"header\": {\"fill\": {\"color\": \"#C8D4E3\"}, \"line\": {\"color\": \"white\"}}, \"type\": \"table\"}]}, \"layout\": {\"annotationdefaults\": {\"arrowcolor\": \"#2a3f5f\", \"arrowhead\": 0, \"arrowwidth\": 1}, \"autotypenumbers\": \"strict\", \"coloraxis\": {\"colorbar\": {\"outlinewidth\": 0, \"ticks\": \"\"}}, \"colorscale\": {\"diverging\": [[0, \"#8e0152\"], [0.1, \"#c51b7d\"], [0.2, \"#de77ae\"], [0.3, \"#f1b6da\"], [0.4, \"#fde0ef\"], [0.5, \"#f7f7f7\"], [0.6, \"#e6f5d0\"], [0.7, \"#b8e186\"], [0.8, \"#7fbc41\"], [0.9, \"#4d9221\"], [1, \"#276419\"]], \"sequential\": [[0.0, \"#0d0887\"], [0.1111111111111111, \"#46039f\"], [0.2222222222222222, \"#7201a8\"], [0.3333333333333333, \"#9c179e\"], [0.4444444444444444, \"#bd3786\"], [0.5555555555555556, \"#d8576b\"], [0.6666666666666666, \"#ed7953\"], [0.7777777777777778, \"#fb9f3a\"], [0.8888888888888888, \"#fdca26\"], [1.0, \"#f0f921\"]], \"sequentialminus\": [[0.0, \"#0d0887\"], [0.1111111111111111, \"#46039f\"], [0.2222222222222222, \"#7201a8\"], [0.3333333333333333, \"#9c179e\"], [0.4444444444444444, \"#bd3786\"], [0.5555555555555556, \"#d8576b\"], [0.6666666666666666, \"#ed7953\"], [0.7777777777777778, \"#fb9f3a\"], [0.8888888888888888, \"#fdca26\"], [1.0, \"#f0f921\"]]}, \"colorway\": [\"#636efa\", \"#EF553B\", \"#00cc96\", \"#ab63fa\", \"#FFA15A\", \"#19d3f3\", \"#FF6692\", \"#B6E880\", \"#FF97FF\", \"#FECB52\"], \"font\": {\"color\": \"#2a3f5f\"}, \"geo\": {\"bgcolor\": \"white\", \"lakecolor\": \"white\", \"landcolor\": \"#E5ECF6\", \"showlakes\": true, \"showland\": true, \"subunitcolor\": \"white\"}, \"hoverlabel\": {\"align\": \"left\"}, \"hovermode\": \"closest\", \"mapbox\": {\"style\": \"light\"}, \"paper_bgcolor\": \"white\", \"plot_bgcolor\": \"#E5ECF6\", \"polar\": {\"angularaxis\": {\"gridcolor\": \"white\", \"linecolor\": \"white\", \"ticks\": \"\"}, \"bgcolor\": \"#E5ECF6\", \"radialaxis\": {\"gridcolor\": \"white\", \"linecolor\": \"white\", \"ticks\": \"\"}}, \"scene\": {\"xaxis\": {\"backgroundcolor\": \"#E5ECF6\", \"gridcolor\": \"white\", \"gridwidth\": 2, \"linecolor\": \"white\", \"showbackground\": true, \"ticks\": \"\", \"zerolinecolor\": \"white\"}, \"yaxis\": {\"backgroundcolor\": \"#E5ECF6\", \"gridcolor\": \"white\", \"gridwidth\": 2, \"linecolor\": \"white\", \"showbackground\": true, \"ticks\": \"\", \"zerolinecolor\": \"white\"}, \"zaxis\": {\"backgroundcolor\": \"#E5ECF6\", \"gridcolor\": \"white\", \"gridwidth\": 2, \"linecolor\": \"white\", \"showbackground\": true, \"ticks\": \"\", \"zerolinecolor\": \"white\"}}, \"shapedefaults\": {\"line\": {\"color\": \"#2a3f5f\"}}, \"ternary\": {\"aaxis\": {\"gridcolor\": \"white\", \"linecolor\": \"white\", \"ticks\": \"\"}, \"baxis\": {\"gridcolor\": \"white\", \"linecolor\": \"white\", \"ticks\": \"\"}, \"bgcolor\": \"#E5ECF6\", \"caxis\": {\"gridcolor\": \"white\", \"linecolor\": \"white\", \"ticks\": \"\"}}, \"title\": {\"x\": 0.05}, \"xaxis\": {\"automargin\": true, \"gridcolor\": \"white\", \"linecolor\": \"white\", \"ticks\": \"\", \"title\": {\"standoff\": 15}, \"zerolinecolor\": \"white\", \"zerolinewidth\": 2}, \"yaxis\": {\"automargin\": true, \"gridcolor\": \"white\", \"linecolor\": \"white\", \"ticks\": \"\", \"title\": {\"standoff\": 15}, \"zerolinecolor\": \"white\", \"zerolinewidth\": 2}}}},                        {\"responsive\": true}                    ).then(function(){\n",
       "                            \n",
       "var gd = document.getElementById('7333e0c5-3747-4620-b148-39e294ee70da');\n",
       "var x = new MutationObserver(function (mutations, observer) {{\n",
       "        var display = window.getComputedStyle(gd).display;\n",
       "        if (!display || display === 'none') {{\n",
       "            console.log([gd, 'removed!']);\n",
       "            Plotly.purge(gd);\n",
       "            observer.disconnect();\n",
       "        }}\n",
       "}});\n",
       "\n",
       "// Listen for the removal of the full notebook cells\n",
       "var notebookContainer = gd.closest('#notebook-container');\n",
       "if (notebookContainer) {{\n",
       "    x.observe(notebookContainer, {childList: true});\n",
       "}}\n",
       "\n",
       "// Listen for the clearing of the current output cell\n",
       "var outputEl = gd.closest('.output');\n",
       "if (outputEl) {{\n",
       "    x.observe(outputEl, {childList: true});\n",
       "}}\n",
       "\n",
       "                        })                };                });            </script>        </div>"
      ]
     },
     "metadata": {},
     "output_type": "display_data"
    }
   ],
   "source": [
    "import plotly.graph_objects as go\n",
    "\n",
    "labels = pt18.Race.to_list()\n",
    "values = pt18.share.to_list()\n",
    "\n",
    "# Use `hole` to create a donut-like pie chart\n",
    "fig = go.Figure(data=[go.Pie(labels=labels, values=values, hole=.3)])\n",
    "fig.show()\n",
    "from plotly.io import write_html\n",
    "write_html(fig, \"Poverty2018.html\")"
   ]
  },
  {
   "cell_type": "code",
   "execution_count": 37,
   "metadata": {},
   "outputs": [
    {
     "data": {
      "text/html": [
       "<div>\n",
       "<style scoped>\n",
       "    .dataframe tbody tr th:only-of-type {\n",
       "        vertical-align: middle;\n",
       "    }\n",
       "\n",
       "    .dataframe tbody tr th {\n",
       "        vertical-align: top;\n",
       "    }\n",
       "\n",
       "    .dataframe thead th {\n",
       "        text-align: right;\n",
       "    }\n",
       "</style>\n",
       "<table border=\"1\" class=\"dataframe\">\n",
       "  <thead>\n",
       "    <tr style=\"text-align: right;\">\n",
       "      <th></th>\n",
       "      <th>Total population</th>\n",
       "      <th>population</th>\n",
       "      <th>share</th>\n",
       "    </tr>\n",
       "  </thead>\n",
       "  <tbody>\n",
       "    <tr>\n",
       "      <th>0</th>\n",
       "      <td>White (including White Hispanic)</td>\n",
       "      <td>22,860,341</td>\n",
       "      <td>0.618</td>\n",
       "    </tr>\n",
       "    <tr>\n",
       "      <th>1</th>\n",
       "      <td>Black or African American</td>\n",
       "      <td>2,252,129</td>\n",
       "      <td>0.061</td>\n",
       "    </tr>\n",
       "    <tr>\n",
       "      <th>2</th>\n",
       "      <td>American Indian or Alaska Native</td>\n",
       "      <td>287,712</td>\n",
       "      <td>0.008</td>\n",
       "    </tr>\n",
       "    <tr>\n",
       "      <th>3</th>\n",
       "      <td>Asian</td>\n",
       "      <td>4,825,271</td>\n",
       "      <td>0.131</td>\n",
       "    </tr>\n",
       "    <tr>\n",
       "      <th>4</th>\n",
       "      <td>Native Hawaiian or other Pacific Islander</td>\n",
       "      <td>141,382</td>\n",
       "      <td>0.004</td>\n",
       "    </tr>\n",
       "    <tr>\n",
       "      <th>5</th>\n",
       "      <td>Some other race</td>\n",
       "      <td>5,142,478</td>\n",
       "      <td>0.139</td>\n",
       "    </tr>\n",
       "    <tr>\n",
       "      <th>6</th>\n",
       "      <td>Two or more races</td>\n",
       "      <td>1,459,887</td>\n",
       "      <td>0.039</td>\n",
       "    </tr>\n",
       "    <tr>\n",
       "      <th>7</th>\n",
       "      <td>Hispanic or Latino (of any race)</td>\n",
       "      <td>13,752,743</td>\n",
       "      <td>0.372</td>\n",
       "    </tr>\n",
       "  </tbody>\n",
       "</table>\n",
       "</div>"
      ],
      "text/plain": [
       "                            Total population  population  share\n",
       "0           White (including White Hispanic)  22,860,341  0.618\n",
       "1                  Black or African American   2,252,129  0.061\n",
       "2           American Indian or Alaska Native     287,712  0.008\n",
       "3                                      Asian   4,825,271  0.131\n",
       "4  Native Hawaiian or other Pacific Islander     141,382  0.004\n",
       "5                            Some other race   5,142,478  0.139\n",
       "6                          Two or more races   1,459,887  0.039\n",
       "7           Hispanic or Latino (of any race)  13,752,743  0.372"
      ]
     },
     "execution_count": 37,
     "metadata": {},
     "output_type": "execute_result"
    }
   ],
   "source": [
    "tp = pd.read_csv('race in cali total population.csv')\n",
    "tp.share  = tp.share * 0.01\n",
    "tp\n",
    "#tp{'36,969,200.1':\"share\"}"
   ]
  },
  {
   "cell_type": "code",
   "execution_count": 38,
   "metadata": {},
   "outputs": [
    {
     "data": {
      "application/vnd.plotly.v1+json": {
       "config": {
        "plotlyServerURL": "https://plot.ly"
       },
       "data": [
        {
         "hole": 0.3,
         "labels": [
          "White (including White Hispanic)",
          "Black or African American",
          "American Indian or Alaska Native",
          "Asian",
          "Native Hawaiian or other Pacific Islander",
          "Some other race",
          "Two or more races",
          "Hispanic or Latino (of any race)"
         ],
         "type": "pie",
         "values": [
          0.618,
          0.061,
          0.008,
          0.131,
          0.004,
          0.139,
          0.039,
          0.37200000000000005
         ]
        }
       ],
       "layout": {
        "template": {
         "data": {
          "bar": [
           {
            "error_x": {
             "color": "#2a3f5f"
            },
            "error_y": {
             "color": "#2a3f5f"
            },
            "marker": {
             "line": {
              "color": "#E5ECF6",
              "width": 0.5
             }
            },
            "type": "bar"
           }
          ],
          "barpolar": [
           {
            "marker": {
             "line": {
              "color": "#E5ECF6",
              "width": 0.5
             }
            },
            "type": "barpolar"
           }
          ],
          "carpet": [
           {
            "aaxis": {
             "endlinecolor": "#2a3f5f",
             "gridcolor": "white",
             "linecolor": "white",
             "minorgridcolor": "white",
             "startlinecolor": "#2a3f5f"
            },
            "baxis": {
             "endlinecolor": "#2a3f5f",
             "gridcolor": "white",
             "linecolor": "white",
             "minorgridcolor": "white",
             "startlinecolor": "#2a3f5f"
            },
            "type": "carpet"
           }
          ],
          "choropleth": [
           {
            "colorbar": {
             "outlinewidth": 0,
             "ticks": ""
            },
            "type": "choropleth"
           }
          ],
          "contour": [
           {
            "colorbar": {
             "outlinewidth": 0,
             "ticks": ""
            },
            "colorscale": [
             [
              0,
              "#0d0887"
             ],
             [
              0.1111111111111111,
              "#46039f"
             ],
             [
              0.2222222222222222,
              "#7201a8"
             ],
             [
              0.3333333333333333,
              "#9c179e"
             ],
             [
              0.4444444444444444,
              "#bd3786"
             ],
             [
              0.5555555555555556,
              "#d8576b"
             ],
             [
              0.6666666666666666,
              "#ed7953"
             ],
             [
              0.7777777777777778,
              "#fb9f3a"
             ],
             [
              0.8888888888888888,
              "#fdca26"
             ],
             [
              1,
              "#f0f921"
             ]
            ],
            "type": "contour"
           }
          ],
          "contourcarpet": [
           {
            "colorbar": {
             "outlinewidth": 0,
             "ticks": ""
            },
            "type": "contourcarpet"
           }
          ],
          "heatmap": [
           {
            "colorbar": {
             "outlinewidth": 0,
             "ticks": ""
            },
            "colorscale": [
             [
              0,
              "#0d0887"
             ],
             [
              0.1111111111111111,
              "#46039f"
             ],
             [
              0.2222222222222222,
              "#7201a8"
             ],
             [
              0.3333333333333333,
              "#9c179e"
             ],
             [
              0.4444444444444444,
              "#bd3786"
             ],
             [
              0.5555555555555556,
              "#d8576b"
             ],
             [
              0.6666666666666666,
              "#ed7953"
             ],
             [
              0.7777777777777778,
              "#fb9f3a"
             ],
             [
              0.8888888888888888,
              "#fdca26"
             ],
             [
              1,
              "#f0f921"
             ]
            ],
            "type": "heatmap"
           }
          ],
          "heatmapgl": [
           {
            "colorbar": {
             "outlinewidth": 0,
             "ticks": ""
            },
            "colorscale": [
             [
              0,
              "#0d0887"
             ],
             [
              0.1111111111111111,
              "#46039f"
             ],
             [
              0.2222222222222222,
              "#7201a8"
             ],
             [
              0.3333333333333333,
              "#9c179e"
             ],
             [
              0.4444444444444444,
              "#bd3786"
             ],
             [
              0.5555555555555556,
              "#d8576b"
             ],
             [
              0.6666666666666666,
              "#ed7953"
             ],
             [
              0.7777777777777778,
              "#fb9f3a"
             ],
             [
              0.8888888888888888,
              "#fdca26"
             ],
             [
              1,
              "#f0f921"
             ]
            ],
            "type": "heatmapgl"
           }
          ],
          "histogram": [
           {
            "marker": {
             "colorbar": {
              "outlinewidth": 0,
              "ticks": ""
             }
            },
            "type": "histogram"
           }
          ],
          "histogram2d": [
           {
            "colorbar": {
             "outlinewidth": 0,
             "ticks": ""
            },
            "colorscale": [
             [
              0,
              "#0d0887"
             ],
             [
              0.1111111111111111,
              "#46039f"
             ],
             [
              0.2222222222222222,
              "#7201a8"
             ],
             [
              0.3333333333333333,
              "#9c179e"
             ],
             [
              0.4444444444444444,
              "#bd3786"
             ],
             [
              0.5555555555555556,
              "#d8576b"
             ],
             [
              0.6666666666666666,
              "#ed7953"
             ],
             [
              0.7777777777777778,
              "#fb9f3a"
             ],
             [
              0.8888888888888888,
              "#fdca26"
             ],
             [
              1,
              "#f0f921"
             ]
            ],
            "type": "histogram2d"
           }
          ],
          "histogram2dcontour": [
           {
            "colorbar": {
             "outlinewidth": 0,
             "ticks": ""
            },
            "colorscale": [
             [
              0,
              "#0d0887"
             ],
             [
              0.1111111111111111,
              "#46039f"
             ],
             [
              0.2222222222222222,
              "#7201a8"
             ],
             [
              0.3333333333333333,
              "#9c179e"
             ],
             [
              0.4444444444444444,
              "#bd3786"
             ],
             [
              0.5555555555555556,
              "#d8576b"
             ],
             [
              0.6666666666666666,
              "#ed7953"
             ],
             [
              0.7777777777777778,
              "#fb9f3a"
             ],
             [
              0.8888888888888888,
              "#fdca26"
             ],
             [
              1,
              "#f0f921"
             ]
            ],
            "type": "histogram2dcontour"
           }
          ],
          "mesh3d": [
           {
            "colorbar": {
             "outlinewidth": 0,
             "ticks": ""
            },
            "type": "mesh3d"
           }
          ],
          "parcoords": [
           {
            "line": {
             "colorbar": {
              "outlinewidth": 0,
              "ticks": ""
             }
            },
            "type": "parcoords"
           }
          ],
          "pie": [
           {
            "automargin": true,
            "type": "pie"
           }
          ],
          "scatter": [
           {
            "marker": {
             "colorbar": {
              "outlinewidth": 0,
              "ticks": ""
             }
            },
            "type": "scatter"
           }
          ],
          "scatter3d": [
           {
            "line": {
             "colorbar": {
              "outlinewidth": 0,
              "ticks": ""
             }
            },
            "marker": {
             "colorbar": {
              "outlinewidth": 0,
              "ticks": ""
             }
            },
            "type": "scatter3d"
           }
          ],
          "scattercarpet": [
           {
            "marker": {
             "colorbar": {
              "outlinewidth": 0,
              "ticks": ""
             }
            },
            "type": "scattercarpet"
           }
          ],
          "scattergeo": [
           {
            "marker": {
             "colorbar": {
              "outlinewidth": 0,
              "ticks": ""
             }
            },
            "type": "scattergeo"
           }
          ],
          "scattergl": [
           {
            "marker": {
             "colorbar": {
              "outlinewidth": 0,
              "ticks": ""
             }
            },
            "type": "scattergl"
           }
          ],
          "scattermapbox": [
           {
            "marker": {
             "colorbar": {
              "outlinewidth": 0,
              "ticks": ""
             }
            },
            "type": "scattermapbox"
           }
          ],
          "scatterpolar": [
           {
            "marker": {
             "colorbar": {
              "outlinewidth": 0,
              "ticks": ""
             }
            },
            "type": "scatterpolar"
           }
          ],
          "scatterpolargl": [
           {
            "marker": {
             "colorbar": {
              "outlinewidth": 0,
              "ticks": ""
             }
            },
            "type": "scatterpolargl"
           }
          ],
          "scatterternary": [
           {
            "marker": {
             "colorbar": {
              "outlinewidth": 0,
              "ticks": ""
             }
            },
            "type": "scatterternary"
           }
          ],
          "surface": [
           {
            "colorbar": {
             "outlinewidth": 0,
             "ticks": ""
            },
            "colorscale": [
             [
              0,
              "#0d0887"
             ],
             [
              0.1111111111111111,
              "#46039f"
             ],
             [
              0.2222222222222222,
              "#7201a8"
             ],
             [
              0.3333333333333333,
              "#9c179e"
             ],
             [
              0.4444444444444444,
              "#bd3786"
             ],
             [
              0.5555555555555556,
              "#d8576b"
             ],
             [
              0.6666666666666666,
              "#ed7953"
             ],
             [
              0.7777777777777778,
              "#fb9f3a"
             ],
             [
              0.8888888888888888,
              "#fdca26"
             ],
             [
              1,
              "#f0f921"
             ]
            ],
            "type": "surface"
           }
          ],
          "table": [
           {
            "cells": {
             "fill": {
              "color": "#EBF0F8"
             },
             "line": {
              "color": "white"
             }
            },
            "header": {
             "fill": {
              "color": "#C8D4E3"
             },
             "line": {
              "color": "white"
             }
            },
            "type": "table"
           }
          ]
         },
         "layout": {
          "annotationdefaults": {
           "arrowcolor": "#2a3f5f",
           "arrowhead": 0,
           "arrowwidth": 1
          },
          "autotypenumbers": "strict",
          "coloraxis": {
           "colorbar": {
            "outlinewidth": 0,
            "ticks": ""
           }
          },
          "colorscale": {
           "diverging": [
            [
             0,
             "#8e0152"
            ],
            [
             0.1,
             "#c51b7d"
            ],
            [
             0.2,
             "#de77ae"
            ],
            [
             0.3,
             "#f1b6da"
            ],
            [
             0.4,
             "#fde0ef"
            ],
            [
             0.5,
             "#f7f7f7"
            ],
            [
             0.6,
             "#e6f5d0"
            ],
            [
             0.7,
             "#b8e186"
            ],
            [
             0.8,
             "#7fbc41"
            ],
            [
             0.9,
             "#4d9221"
            ],
            [
             1,
             "#276419"
            ]
           ],
           "sequential": [
            [
             0,
             "#0d0887"
            ],
            [
             0.1111111111111111,
             "#46039f"
            ],
            [
             0.2222222222222222,
             "#7201a8"
            ],
            [
             0.3333333333333333,
             "#9c179e"
            ],
            [
             0.4444444444444444,
             "#bd3786"
            ],
            [
             0.5555555555555556,
             "#d8576b"
            ],
            [
             0.6666666666666666,
             "#ed7953"
            ],
            [
             0.7777777777777778,
             "#fb9f3a"
            ],
            [
             0.8888888888888888,
             "#fdca26"
            ],
            [
             1,
             "#f0f921"
            ]
           ],
           "sequentialminus": [
            [
             0,
             "#0d0887"
            ],
            [
             0.1111111111111111,
             "#46039f"
            ],
            [
             0.2222222222222222,
             "#7201a8"
            ],
            [
             0.3333333333333333,
             "#9c179e"
            ],
            [
             0.4444444444444444,
             "#bd3786"
            ],
            [
             0.5555555555555556,
             "#d8576b"
            ],
            [
             0.6666666666666666,
             "#ed7953"
            ],
            [
             0.7777777777777778,
             "#fb9f3a"
            ],
            [
             0.8888888888888888,
             "#fdca26"
            ],
            [
             1,
             "#f0f921"
            ]
           ]
          },
          "colorway": [
           "#636efa",
           "#EF553B",
           "#00cc96",
           "#ab63fa",
           "#FFA15A",
           "#19d3f3",
           "#FF6692",
           "#B6E880",
           "#FF97FF",
           "#FECB52"
          ],
          "font": {
           "color": "#2a3f5f"
          },
          "geo": {
           "bgcolor": "white",
           "lakecolor": "white",
           "landcolor": "#E5ECF6",
           "showlakes": true,
           "showland": true,
           "subunitcolor": "white"
          },
          "hoverlabel": {
           "align": "left"
          },
          "hovermode": "closest",
          "mapbox": {
           "style": "light"
          },
          "paper_bgcolor": "white",
          "plot_bgcolor": "#E5ECF6",
          "polar": {
           "angularaxis": {
            "gridcolor": "white",
            "linecolor": "white",
            "ticks": ""
           },
           "bgcolor": "#E5ECF6",
           "radialaxis": {
            "gridcolor": "white",
            "linecolor": "white",
            "ticks": ""
           }
          },
          "scene": {
           "xaxis": {
            "backgroundcolor": "#E5ECF6",
            "gridcolor": "white",
            "gridwidth": 2,
            "linecolor": "white",
            "showbackground": true,
            "ticks": "",
            "zerolinecolor": "white"
           },
           "yaxis": {
            "backgroundcolor": "#E5ECF6",
            "gridcolor": "white",
            "gridwidth": 2,
            "linecolor": "white",
            "showbackground": true,
            "ticks": "",
            "zerolinecolor": "white"
           },
           "zaxis": {
            "backgroundcolor": "#E5ECF6",
            "gridcolor": "white",
            "gridwidth": 2,
            "linecolor": "white",
            "showbackground": true,
            "ticks": "",
            "zerolinecolor": "white"
           }
          },
          "shapedefaults": {
           "line": {
            "color": "#2a3f5f"
           }
          },
          "ternary": {
           "aaxis": {
            "gridcolor": "white",
            "linecolor": "white",
            "ticks": ""
           },
           "baxis": {
            "gridcolor": "white",
            "linecolor": "white",
            "ticks": ""
           },
           "bgcolor": "#E5ECF6",
           "caxis": {
            "gridcolor": "white",
            "linecolor": "white",
            "ticks": ""
           }
          },
          "title": {
           "x": 0.05
          },
          "xaxis": {
           "automargin": true,
           "gridcolor": "white",
           "linecolor": "white",
           "ticks": "",
           "title": {
            "standoff": 15
           },
           "zerolinecolor": "white",
           "zerolinewidth": 2
          },
          "yaxis": {
           "automargin": true,
           "gridcolor": "white",
           "linecolor": "white",
           "ticks": "",
           "title": {
            "standoff": 15
           },
           "zerolinecolor": "white",
           "zerolinewidth": 2
          }
         }
        }
       }
      },
      "text/html": [
       "<div>                            <div id=\"5ea92dab-7727-4fc7-be2d-0851fbf3c575\" class=\"plotly-graph-div\" style=\"height:525px; width:100%;\"></div>            <script type=\"text/javascript\">                require([\"plotly\"], function(Plotly) {                    window.PLOTLYENV=window.PLOTLYENV || {};                                    if (document.getElementById(\"5ea92dab-7727-4fc7-be2d-0851fbf3c575\")) {                    Plotly.newPlot(                        \"5ea92dab-7727-4fc7-be2d-0851fbf3c575\",                        [{\"hole\": 0.3, \"labels\": [\"White (including White Hispanic)\", \"Black or African American\", \"American Indian or Alaska Native\", \"Asian\", \"Native Hawaiian or other Pacific Islander\", \"Some other race\", \"Two or more races\", \"Hispanic or Latino (of any race)\"], \"type\": \"pie\", \"values\": [0.618, 0.061, 0.008, 0.131, 0.004, 0.139, 0.039, 0.37200000000000005]}],                        {\"template\": {\"data\": {\"bar\": [{\"error_x\": {\"color\": \"#2a3f5f\"}, \"error_y\": {\"color\": \"#2a3f5f\"}, \"marker\": {\"line\": {\"color\": \"#E5ECF6\", \"width\": 0.5}}, \"type\": \"bar\"}], \"barpolar\": [{\"marker\": {\"line\": {\"color\": \"#E5ECF6\", \"width\": 0.5}}, \"type\": \"barpolar\"}], \"carpet\": [{\"aaxis\": {\"endlinecolor\": \"#2a3f5f\", \"gridcolor\": \"white\", \"linecolor\": \"white\", \"minorgridcolor\": \"white\", \"startlinecolor\": \"#2a3f5f\"}, \"baxis\": {\"endlinecolor\": \"#2a3f5f\", \"gridcolor\": \"white\", \"linecolor\": \"white\", \"minorgridcolor\": \"white\", \"startlinecolor\": \"#2a3f5f\"}, \"type\": \"carpet\"}], \"choropleth\": [{\"colorbar\": {\"outlinewidth\": 0, \"ticks\": \"\"}, \"type\": \"choropleth\"}], \"contour\": [{\"colorbar\": {\"outlinewidth\": 0, \"ticks\": \"\"}, \"colorscale\": [[0.0, \"#0d0887\"], [0.1111111111111111, \"#46039f\"], [0.2222222222222222, \"#7201a8\"], [0.3333333333333333, \"#9c179e\"], [0.4444444444444444, \"#bd3786\"], [0.5555555555555556, \"#d8576b\"], [0.6666666666666666, \"#ed7953\"], [0.7777777777777778, \"#fb9f3a\"], [0.8888888888888888, \"#fdca26\"], [1.0, \"#f0f921\"]], \"type\": \"contour\"}], \"contourcarpet\": [{\"colorbar\": {\"outlinewidth\": 0, \"ticks\": \"\"}, \"type\": \"contourcarpet\"}], \"heatmap\": [{\"colorbar\": {\"outlinewidth\": 0, \"ticks\": \"\"}, \"colorscale\": [[0.0, \"#0d0887\"], [0.1111111111111111, \"#46039f\"], [0.2222222222222222, \"#7201a8\"], [0.3333333333333333, \"#9c179e\"], [0.4444444444444444, \"#bd3786\"], [0.5555555555555556, \"#d8576b\"], [0.6666666666666666, \"#ed7953\"], [0.7777777777777778, \"#fb9f3a\"], [0.8888888888888888, \"#fdca26\"], [1.0, \"#f0f921\"]], \"type\": \"heatmap\"}], \"heatmapgl\": [{\"colorbar\": {\"outlinewidth\": 0, \"ticks\": \"\"}, \"colorscale\": [[0.0, \"#0d0887\"], [0.1111111111111111, \"#46039f\"], [0.2222222222222222, \"#7201a8\"], [0.3333333333333333, \"#9c179e\"], [0.4444444444444444, \"#bd3786\"], [0.5555555555555556, \"#d8576b\"], [0.6666666666666666, \"#ed7953\"], [0.7777777777777778, \"#fb9f3a\"], [0.8888888888888888, \"#fdca26\"], [1.0, \"#f0f921\"]], \"type\": \"heatmapgl\"}], \"histogram\": [{\"marker\": {\"colorbar\": {\"outlinewidth\": 0, \"ticks\": \"\"}}, \"type\": \"histogram\"}], \"histogram2d\": [{\"colorbar\": {\"outlinewidth\": 0, \"ticks\": \"\"}, \"colorscale\": [[0.0, \"#0d0887\"], [0.1111111111111111, \"#46039f\"], [0.2222222222222222, \"#7201a8\"], [0.3333333333333333, \"#9c179e\"], [0.4444444444444444, \"#bd3786\"], [0.5555555555555556, \"#d8576b\"], [0.6666666666666666, \"#ed7953\"], [0.7777777777777778, \"#fb9f3a\"], [0.8888888888888888, \"#fdca26\"], [1.0, \"#f0f921\"]], \"type\": \"histogram2d\"}], \"histogram2dcontour\": [{\"colorbar\": {\"outlinewidth\": 0, \"ticks\": \"\"}, \"colorscale\": [[0.0, \"#0d0887\"], [0.1111111111111111, \"#46039f\"], [0.2222222222222222, \"#7201a8\"], [0.3333333333333333, \"#9c179e\"], [0.4444444444444444, \"#bd3786\"], [0.5555555555555556, \"#d8576b\"], [0.6666666666666666, \"#ed7953\"], [0.7777777777777778, \"#fb9f3a\"], [0.8888888888888888, \"#fdca26\"], [1.0, \"#f0f921\"]], \"type\": \"histogram2dcontour\"}], \"mesh3d\": [{\"colorbar\": {\"outlinewidth\": 0, \"ticks\": \"\"}, \"type\": \"mesh3d\"}], \"parcoords\": [{\"line\": {\"colorbar\": {\"outlinewidth\": 0, \"ticks\": \"\"}}, \"type\": \"parcoords\"}], \"pie\": [{\"automargin\": true, \"type\": \"pie\"}], \"scatter\": [{\"marker\": {\"colorbar\": {\"outlinewidth\": 0, \"ticks\": \"\"}}, \"type\": \"scatter\"}], \"scatter3d\": [{\"line\": {\"colorbar\": {\"outlinewidth\": 0, \"ticks\": \"\"}}, \"marker\": {\"colorbar\": {\"outlinewidth\": 0, \"ticks\": \"\"}}, \"type\": \"scatter3d\"}], \"scattercarpet\": [{\"marker\": {\"colorbar\": {\"outlinewidth\": 0, \"ticks\": \"\"}}, \"type\": \"scattercarpet\"}], \"scattergeo\": [{\"marker\": {\"colorbar\": {\"outlinewidth\": 0, \"ticks\": \"\"}}, \"type\": \"scattergeo\"}], \"scattergl\": [{\"marker\": {\"colorbar\": {\"outlinewidth\": 0, \"ticks\": \"\"}}, \"type\": \"scattergl\"}], \"scattermapbox\": [{\"marker\": {\"colorbar\": {\"outlinewidth\": 0, \"ticks\": \"\"}}, \"type\": \"scattermapbox\"}], \"scatterpolar\": [{\"marker\": {\"colorbar\": {\"outlinewidth\": 0, \"ticks\": \"\"}}, \"type\": \"scatterpolar\"}], \"scatterpolargl\": [{\"marker\": {\"colorbar\": {\"outlinewidth\": 0, \"ticks\": \"\"}}, \"type\": \"scatterpolargl\"}], \"scatterternary\": [{\"marker\": {\"colorbar\": {\"outlinewidth\": 0, \"ticks\": \"\"}}, \"type\": \"scatterternary\"}], \"surface\": [{\"colorbar\": {\"outlinewidth\": 0, \"ticks\": \"\"}, \"colorscale\": [[0.0, \"#0d0887\"], [0.1111111111111111, \"#46039f\"], [0.2222222222222222, \"#7201a8\"], [0.3333333333333333, \"#9c179e\"], [0.4444444444444444, \"#bd3786\"], [0.5555555555555556, \"#d8576b\"], [0.6666666666666666, \"#ed7953\"], [0.7777777777777778, \"#fb9f3a\"], [0.8888888888888888, \"#fdca26\"], [1.0, \"#f0f921\"]], \"type\": \"surface\"}], \"table\": [{\"cells\": {\"fill\": {\"color\": \"#EBF0F8\"}, \"line\": {\"color\": \"white\"}}, \"header\": {\"fill\": {\"color\": \"#C8D4E3\"}, \"line\": {\"color\": \"white\"}}, \"type\": \"table\"}]}, \"layout\": {\"annotationdefaults\": {\"arrowcolor\": \"#2a3f5f\", \"arrowhead\": 0, \"arrowwidth\": 1}, \"autotypenumbers\": \"strict\", \"coloraxis\": {\"colorbar\": {\"outlinewidth\": 0, \"ticks\": \"\"}}, \"colorscale\": {\"diverging\": [[0, \"#8e0152\"], [0.1, \"#c51b7d\"], [0.2, \"#de77ae\"], [0.3, \"#f1b6da\"], [0.4, \"#fde0ef\"], [0.5, \"#f7f7f7\"], [0.6, \"#e6f5d0\"], [0.7, \"#b8e186\"], [0.8, \"#7fbc41\"], [0.9, \"#4d9221\"], [1, \"#276419\"]], \"sequential\": [[0.0, \"#0d0887\"], [0.1111111111111111, \"#46039f\"], [0.2222222222222222, \"#7201a8\"], [0.3333333333333333, \"#9c179e\"], [0.4444444444444444, \"#bd3786\"], [0.5555555555555556, \"#d8576b\"], [0.6666666666666666, \"#ed7953\"], [0.7777777777777778, \"#fb9f3a\"], [0.8888888888888888, \"#fdca26\"], [1.0, \"#f0f921\"]], \"sequentialminus\": [[0.0, \"#0d0887\"], [0.1111111111111111, \"#46039f\"], [0.2222222222222222, \"#7201a8\"], [0.3333333333333333, \"#9c179e\"], [0.4444444444444444, \"#bd3786\"], [0.5555555555555556, \"#d8576b\"], [0.6666666666666666, \"#ed7953\"], [0.7777777777777778, \"#fb9f3a\"], [0.8888888888888888, \"#fdca26\"], [1.0, \"#f0f921\"]]}, \"colorway\": [\"#636efa\", \"#EF553B\", \"#00cc96\", \"#ab63fa\", \"#FFA15A\", \"#19d3f3\", \"#FF6692\", \"#B6E880\", \"#FF97FF\", \"#FECB52\"], \"font\": {\"color\": \"#2a3f5f\"}, \"geo\": {\"bgcolor\": \"white\", \"lakecolor\": \"white\", \"landcolor\": \"#E5ECF6\", \"showlakes\": true, \"showland\": true, \"subunitcolor\": \"white\"}, \"hoverlabel\": {\"align\": \"left\"}, \"hovermode\": \"closest\", \"mapbox\": {\"style\": \"light\"}, \"paper_bgcolor\": \"white\", \"plot_bgcolor\": \"#E5ECF6\", \"polar\": {\"angularaxis\": {\"gridcolor\": \"white\", \"linecolor\": \"white\", \"ticks\": \"\"}, \"bgcolor\": \"#E5ECF6\", \"radialaxis\": {\"gridcolor\": \"white\", \"linecolor\": \"white\", \"ticks\": \"\"}}, \"scene\": {\"xaxis\": {\"backgroundcolor\": \"#E5ECF6\", \"gridcolor\": \"white\", \"gridwidth\": 2, \"linecolor\": \"white\", \"showbackground\": true, \"ticks\": \"\", \"zerolinecolor\": \"white\"}, \"yaxis\": {\"backgroundcolor\": \"#E5ECF6\", \"gridcolor\": \"white\", \"gridwidth\": 2, \"linecolor\": \"white\", \"showbackground\": true, \"ticks\": \"\", \"zerolinecolor\": \"white\"}, \"zaxis\": {\"backgroundcolor\": \"#E5ECF6\", \"gridcolor\": \"white\", \"gridwidth\": 2, \"linecolor\": \"white\", \"showbackground\": true, \"ticks\": \"\", \"zerolinecolor\": \"white\"}}, \"shapedefaults\": {\"line\": {\"color\": \"#2a3f5f\"}}, \"ternary\": {\"aaxis\": {\"gridcolor\": \"white\", \"linecolor\": \"white\", \"ticks\": \"\"}, \"baxis\": {\"gridcolor\": \"white\", \"linecolor\": \"white\", \"ticks\": \"\"}, \"bgcolor\": \"#E5ECF6\", \"caxis\": {\"gridcolor\": \"white\", \"linecolor\": \"white\", \"ticks\": \"\"}}, \"title\": {\"x\": 0.05}, \"xaxis\": {\"automargin\": true, \"gridcolor\": \"white\", \"linecolor\": \"white\", \"ticks\": \"\", \"title\": {\"standoff\": 15}, \"zerolinecolor\": \"white\", \"zerolinewidth\": 2}, \"yaxis\": {\"automargin\": true, \"gridcolor\": \"white\", \"linecolor\": \"white\", \"ticks\": \"\", \"title\": {\"standoff\": 15}, \"zerolinecolor\": \"white\", \"zerolinewidth\": 2}}}},                        {\"responsive\": true}                    ).then(function(){\n",
       "                            \n",
       "var gd = document.getElementById('5ea92dab-7727-4fc7-be2d-0851fbf3c575');\n",
       "var x = new MutationObserver(function (mutations, observer) {{\n",
       "        var display = window.getComputedStyle(gd).display;\n",
       "        if (!display || display === 'none') {{\n",
       "            console.log([gd, 'removed!']);\n",
       "            Plotly.purge(gd);\n",
       "            observer.disconnect();\n",
       "        }}\n",
       "}});\n",
       "\n",
       "// Listen for the removal of the full notebook cells\n",
       "var notebookContainer = gd.closest('#notebook-container');\n",
       "if (notebookContainer) {{\n",
       "    x.observe(notebookContainer, {childList: true});\n",
       "}}\n",
       "\n",
       "// Listen for the clearing of the current output cell\n",
       "var outputEl = gd.closest('.output');\n",
       "if (outputEl) {{\n",
       "    x.observe(outputEl, {childList: true});\n",
       "}}\n",
       "\n",
       "                        })                };                });            </script>        </div>"
      ]
     },
     "metadata": {},
     "output_type": "display_data"
    }
   ],
   "source": [
    "\n",
    "labels = tp[\"Total population\"].to_list()\n",
    "values = tp.share.to_list()\n",
    "# Use `hole` to create a donut-like pie chart\n",
    "fig = go.Figure(data=[go.Pie(labels=labels, values=values, hole=.3)])\n",
    "fig.show()\n",
    "from plotly.io import write_html\n",
    "write_html(fig, \"PopulationRaces.html\")"
   ]
  }
 ],
 "metadata": {
  "kernelspec": {
   "display_name": "Python 3",
   "language": "python",
   "name": "python3"
  },
  "language_info": {
   "codemirror_mode": {
    "name": "ipython",
    "version": 3
   },
   "file_extension": ".py",
   "mimetype": "text/x-python",
   "name": "python",
   "nbconvert_exporter": "python",
   "pygments_lexer": "ipython3",
   "version": "3.8.5"
  }
 },
 "nbformat": 4,
 "nbformat_minor": 4
}
