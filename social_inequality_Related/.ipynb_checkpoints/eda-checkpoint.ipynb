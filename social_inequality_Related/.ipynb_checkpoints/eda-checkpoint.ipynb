{
 "cells": [
  {
   "cell_type": "code",
   "execution_count": 1,
   "metadata": {
    "scrolled": false
   },
   "outputs": [
    {
     "ename": "FileNotFoundError",
     "evalue": "[Errno 2] No such file or directory: 'Income by Location.csv'",
     "output_type": "error",
     "traceback": [
      "\u001b[1;31m---------------------------------------------------------------------------\u001b[0m",
      "\u001b[1;31mFileNotFoundError\u001b[0m                         Traceback (most recent call last)",
      "\u001b[1;32m<ipython-input-1-1b226e7dbeba>\u001b[0m in \u001b[0;36m<module>\u001b[1;34m\u001b[0m\n\u001b[0;32m      3\u001b[0m \u001b[1;32mfrom\u001b[0m \u001b[0mplotly\u001b[0m \u001b[1;32mimport\u001b[0m \u001b[0mexpress\u001b[0m \u001b[1;32mas\u001b[0m \u001b[0mpx\u001b[0m\u001b[1;33m\u001b[0m\u001b[1;33m\u001b[0m\u001b[0m\n\u001b[0;32m      4\u001b[0m \u001b[1;32mimport\u001b[0m \u001b[0mnumpy\u001b[0m \u001b[1;32mas\u001b[0m \u001b[0mnp\u001b[0m\u001b[1;33m\u001b[0m\u001b[1;33m\u001b[0m\u001b[0m\n\u001b[1;32m----> 5\u001b[1;33m \u001b[0meth\u001b[0m \u001b[1;33m=\u001b[0m \u001b[0mpd\u001b[0m\u001b[1;33m.\u001b[0m\u001b[0mread_csv\u001b[0m\u001b[1;33m(\u001b[0m\u001b[1;34m'Income by Location.csv'\u001b[0m\u001b[1;33m)\u001b[0m\u001b[1;33m\u001b[0m\u001b[1;33m\u001b[0m\u001b[0m\n\u001b[0m\u001b[0;32m      6\u001b[0m \u001b[0meth\u001b[0m\u001b[1;33m.\u001b[0m\u001b[0mhead\u001b[0m\u001b[1;33m(\u001b[0m\u001b[1;33m)\u001b[0m\u001b[1;33m\u001b[0m\u001b[1;33m\u001b[0m\u001b[0m\n",
      "\u001b[1;32m~\\anaconda3\\lib\\site-packages\\pandas\\io\\parsers.py\u001b[0m in \u001b[0;36mread_csv\u001b[1;34m(filepath_or_buffer, sep, delimiter, header, names, index_col, usecols, squeeze, prefix, mangle_dupe_cols, dtype, engine, converters, true_values, false_values, skipinitialspace, skiprows, skipfooter, nrows, na_values, keep_default_na, na_filter, verbose, skip_blank_lines, parse_dates, infer_datetime_format, keep_date_col, date_parser, dayfirst, cache_dates, iterator, chunksize, compression, thousands, decimal, lineterminator, quotechar, quoting, doublequote, escapechar, comment, encoding, dialect, error_bad_lines, warn_bad_lines, delim_whitespace, low_memory, memory_map, float_precision)\u001b[0m\n\u001b[0;32m    684\u001b[0m     )\n\u001b[0;32m    685\u001b[0m \u001b[1;33m\u001b[0m\u001b[0m\n\u001b[1;32m--> 686\u001b[1;33m     \u001b[1;32mreturn\u001b[0m \u001b[0m_read\u001b[0m\u001b[1;33m(\u001b[0m\u001b[0mfilepath_or_buffer\u001b[0m\u001b[1;33m,\u001b[0m \u001b[0mkwds\u001b[0m\u001b[1;33m)\u001b[0m\u001b[1;33m\u001b[0m\u001b[1;33m\u001b[0m\u001b[0m\n\u001b[0m\u001b[0;32m    687\u001b[0m \u001b[1;33m\u001b[0m\u001b[0m\n\u001b[0;32m    688\u001b[0m \u001b[1;33m\u001b[0m\u001b[0m\n",
      "\u001b[1;32m~\\anaconda3\\lib\\site-packages\\pandas\\io\\parsers.py\u001b[0m in \u001b[0;36m_read\u001b[1;34m(filepath_or_buffer, kwds)\u001b[0m\n\u001b[0;32m    450\u001b[0m \u001b[1;33m\u001b[0m\u001b[0m\n\u001b[0;32m    451\u001b[0m     \u001b[1;31m# Create the parser.\u001b[0m\u001b[1;33m\u001b[0m\u001b[1;33m\u001b[0m\u001b[1;33m\u001b[0m\u001b[0m\n\u001b[1;32m--> 452\u001b[1;33m     \u001b[0mparser\u001b[0m \u001b[1;33m=\u001b[0m \u001b[0mTextFileReader\u001b[0m\u001b[1;33m(\u001b[0m\u001b[0mfp_or_buf\u001b[0m\u001b[1;33m,\u001b[0m \u001b[1;33m**\u001b[0m\u001b[0mkwds\u001b[0m\u001b[1;33m)\u001b[0m\u001b[1;33m\u001b[0m\u001b[1;33m\u001b[0m\u001b[0m\n\u001b[0m\u001b[0;32m    453\u001b[0m \u001b[1;33m\u001b[0m\u001b[0m\n\u001b[0;32m    454\u001b[0m     \u001b[1;32mif\u001b[0m \u001b[0mchunksize\u001b[0m \u001b[1;32mor\u001b[0m \u001b[0miterator\u001b[0m\u001b[1;33m:\u001b[0m\u001b[1;33m\u001b[0m\u001b[1;33m\u001b[0m\u001b[0m\n",
      "\u001b[1;32m~\\anaconda3\\lib\\site-packages\\pandas\\io\\parsers.py\u001b[0m in \u001b[0;36m__init__\u001b[1;34m(self, f, engine, **kwds)\u001b[0m\n\u001b[0;32m    944\u001b[0m             \u001b[0mself\u001b[0m\u001b[1;33m.\u001b[0m\u001b[0moptions\u001b[0m\u001b[1;33m[\u001b[0m\u001b[1;34m\"has_index_names\"\u001b[0m\u001b[1;33m]\u001b[0m \u001b[1;33m=\u001b[0m \u001b[0mkwds\u001b[0m\u001b[1;33m[\u001b[0m\u001b[1;34m\"has_index_names\"\u001b[0m\u001b[1;33m]\u001b[0m\u001b[1;33m\u001b[0m\u001b[1;33m\u001b[0m\u001b[0m\n\u001b[0;32m    945\u001b[0m \u001b[1;33m\u001b[0m\u001b[0m\n\u001b[1;32m--> 946\u001b[1;33m         \u001b[0mself\u001b[0m\u001b[1;33m.\u001b[0m\u001b[0m_make_engine\u001b[0m\u001b[1;33m(\u001b[0m\u001b[0mself\u001b[0m\u001b[1;33m.\u001b[0m\u001b[0mengine\u001b[0m\u001b[1;33m)\u001b[0m\u001b[1;33m\u001b[0m\u001b[1;33m\u001b[0m\u001b[0m\n\u001b[0m\u001b[0;32m    947\u001b[0m \u001b[1;33m\u001b[0m\u001b[0m\n\u001b[0;32m    948\u001b[0m     \u001b[1;32mdef\u001b[0m \u001b[0mclose\u001b[0m\u001b[1;33m(\u001b[0m\u001b[0mself\u001b[0m\u001b[1;33m)\u001b[0m\u001b[1;33m:\u001b[0m\u001b[1;33m\u001b[0m\u001b[1;33m\u001b[0m\u001b[0m\n",
      "\u001b[1;32m~\\anaconda3\\lib\\site-packages\\pandas\\io\\parsers.py\u001b[0m in \u001b[0;36m_make_engine\u001b[1;34m(self, engine)\u001b[0m\n\u001b[0;32m   1176\u001b[0m     \u001b[1;32mdef\u001b[0m \u001b[0m_make_engine\u001b[0m\u001b[1;33m(\u001b[0m\u001b[0mself\u001b[0m\u001b[1;33m,\u001b[0m \u001b[0mengine\u001b[0m\u001b[1;33m=\u001b[0m\u001b[1;34m\"c\"\u001b[0m\u001b[1;33m)\u001b[0m\u001b[1;33m:\u001b[0m\u001b[1;33m\u001b[0m\u001b[1;33m\u001b[0m\u001b[0m\n\u001b[0;32m   1177\u001b[0m         \u001b[1;32mif\u001b[0m \u001b[0mengine\u001b[0m \u001b[1;33m==\u001b[0m \u001b[1;34m\"c\"\u001b[0m\u001b[1;33m:\u001b[0m\u001b[1;33m\u001b[0m\u001b[1;33m\u001b[0m\u001b[0m\n\u001b[1;32m-> 1178\u001b[1;33m             \u001b[0mself\u001b[0m\u001b[1;33m.\u001b[0m\u001b[0m_engine\u001b[0m \u001b[1;33m=\u001b[0m \u001b[0mCParserWrapper\u001b[0m\u001b[1;33m(\u001b[0m\u001b[0mself\u001b[0m\u001b[1;33m.\u001b[0m\u001b[0mf\u001b[0m\u001b[1;33m,\u001b[0m \u001b[1;33m**\u001b[0m\u001b[0mself\u001b[0m\u001b[1;33m.\u001b[0m\u001b[0moptions\u001b[0m\u001b[1;33m)\u001b[0m\u001b[1;33m\u001b[0m\u001b[1;33m\u001b[0m\u001b[0m\n\u001b[0m\u001b[0;32m   1179\u001b[0m         \u001b[1;32melse\u001b[0m\u001b[1;33m:\u001b[0m\u001b[1;33m\u001b[0m\u001b[1;33m\u001b[0m\u001b[0m\n\u001b[0;32m   1180\u001b[0m             \u001b[1;32mif\u001b[0m \u001b[0mengine\u001b[0m \u001b[1;33m==\u001b[0m \u001b[1;34m\"python\"\u001b[0m\u001b[1;33m:\u001b[0m\u001b[1;33m\u001b[0m\u001b[1;33m\u001b[0m\u001b[0m\n",
      "\u001b[1;32m~\\anaconda3\\lib\\site-packages\\pandas\\io\\parsers.py\u001b[0m in \u001b[0;36m__init__\u001b[1;34m(self, src, **kwds)\u001b[0m\n\u001b[0;32m   2006\u001b[0m         \u001b[0mkwds\u001b[0m\u001b[1;33m[\u001b[0m\u001b[1;34m\"usecols\"\u001b[0m\u001b[1;33m]\u001b[0m \u001b[1;33m=\u001b[0m \u001b[0mself\u001b[0m\u001b[1;33m.\u001b[0m\u001b[0musecols\u001b[0m\u001b[1;33m\u001b[0m\u001b[1;33m\u001b[0m\u001b[0m\n\u001b[0;32m   2007\u001b[0m \u001b[1;33m\u001b[0m\u001b[0m\n\u001b[1;32m-> 2008\u001b[1;33m         \u001b[0mself\u001b[0m\u001b[1;33m.\u001b[0m\u001b[0m_reader\u001b[0m \u001b[1;33m=\u001b[0m \u001b[0mparsers\u001b[0m\u001b[1;33m.\u001b[0m\u001b[0mTextReader\u001b[0m\u001b[1;33m(\u001b[0m\u001b[0msrc\u001b[0m\u001b[1;33m,\u001b[0m \u001b[1;33m**\u001b[0m\u001b[0mkwds\u001b[0m\u001b[1;33m)\u001b[0m\u001b[1;33m\u001b[0m\u001b[1;33m\u001b[0m\u001b[0m\n\u001b[0m\u001b[0;32m   2009\u001b[0m         \u001b[0mself\u001b[0m\u001b[1;33m.\u001b[0m\u001b[0munnamed_cols\u001b[0m \u001b[1;33m=\u001b[0m \u001b[0mself\u001b[0m\u001b[1;33m.\u001b[0m\u001b[0m_reader\u001b[0m\u001b[1;33m.\u001b[0m\u001b[0munnamed_cols\u001b[0m\u001b[1;33m\u001b[0m\u001b[1;33m\u001b[0m\u001b[0m\n\u001b[0;32m   2010\u001b[0m \u001b[1;33m\u001b[0m\u001b[0m\n",
      "\u001b[1;32mpandas\\_libs\\parsers.pyx\u001b[0m in \u001b[0;36mpandas._libs.parsers.TextReader.__cinit__\u001b[1;34m()\u001b[0m\n",
      "\u001b[1;32mpandas\\_libs\\parsers.pyx\u001b[0m in \u001b[0;36mpandas._libs.parsers.TextReader._setup_parser_source\u001b[1;34m()\u001b[0m\n",
      "\u001b[1;31mFileNotFoundError\u001b[0m: [Errno 2] No such file or directory: 'Income by Location.csv'"
     ]
    }
   ],
   "source": [
    "import pandas as pd\n",
    "from sklearn.linear_model import LinearRegression\n",
    "from plotly import express as px\n",
    "import numpy as np\n",
    "eth = pd.read_csv('Income by Location.csv')\n",
    "eth.head()"
   ]
  },
  {
   "cell_type": "code",
   "execution_count": null,
   "metadata": {},
   "outputs": [],
   "source": [
    "income = eth.groupby([\"Race\"])[\"Household Income by Race\"].mean()\n",
    "#income = eth.groupby([\"Race\"]).aggregate([np.mean])[\"Household Income by Race\"]\n",
    "#income.rename({'Race': 'X', 'mean': 'Y'}, axis=1, inplace=True)\n",
    "income = income.to_frame()\n",
    "income = income.reset_index()\n",
    "income"
   ]
  },
  {
   "cell_type": "code",
   "execution_count": null,
   "metadata": {},
   "outputs": [],
   "source": [
    "import plotly.graph_objects as go\n",
    "\n",
    "fig = go.Figure(go.Bar(\n",
    "            x=income[\"Household Income by Race\"],\n",
    "            y=income[\"Race\"],\n",
    "            orientation='h'\n",
    "            ))\n",
    "fig.update_layout(\n",
    "    title=\"Annual Household Income By Races in California in 2018\",\n",
    "    font_family=\"Courier New\",\n",
    "    font_color=\"gray\",\n",
    "    title_font_family=\"Times New Roman\",\n",
    "    title_font_color=\"Purple\",\n",
    "    legend_title_font_color=\"green\"\n",
    ")\n",
    "fig.show()\n",
    "\n",
    "from plotly.io import write_html\n",
    "write_html(fig, \"IncomeRaces2018.html\")"
   ]
  },
  {
   "cell_type": "code",
   "execution_count": null,
   "metadata": {},
   "outputs": [],
   "source": [
    "loca = eth.groupby([\"Geography\"])[\"Household Income by Race\"].mean()\n",
    "loca = loca.to_frame().reset_index()\n",
    "loca"
   ]
  },
  {
   "cell_type": "code",
   "execution_count": null,
   "metadata": {},
   "outputs": [],
   "source": [
    "import plotly.graph_objects as go\n",
    "\n",
    "fig = go.Figure(go.Bar(\n",
    "            x=loca[\"Household Income by Race\"],\n",
    "            y=loca[\"Geography\"],\n",
    "            orientation='h'\n",
    "            ))\n",
    "fig.update_layout(\n",
    "    title=\"Average Annual Household Income By Locations in California in 2018\",\n",
    "    font_family=\"Courier New\",\n",
    "    font_color=\"gray\",\n",
    "    title_font_family=\"Times New Roman\",\n",
    "    title_font_color=\"Purple\",\n",
    "    legend_title_font_color=\"green\"\n",
    ")\n",
    "fig.show()\n",
    "from plotly.io import write_html\n",
    "write_html(fig, \"IncomeLocations.html\")"
   ]
  },
  {
   "cell_type": "code",
   "execution_count": null,
   "metadata": {},
   "outputs": [],
   "source": [
    "year = eth.groupby([\"Year\",\"Race\"])[\"Household Income by Race\"].mean()\n",
    "year = year.to_frame().reset_index()\n",
    "year.head()"
   ]
  },
  {
   "cell_type": "code",
   "execution_count": null,
   "metadata": {},
   "outputs": [],
   "source": [
    "import plotly.express as px\n",
    "import plotly.graph_objects as go\n",
    "fig = go.Figure(data=[\n",
    "    go.Bar(name='2013', x=income['Race'], y=year[year['Year']==2013]['Household Income by Race']),\n",
    "    go.Bar(name='2014', x=income['Race'], y=year[year['Year']==2014]['Household Income by Race']),\n",
    "    go.Bar(name='2015', x=income['Race'], y=year[year['Year']==2015]['Household Income by Race']),\n",
    "    go.Bar(name='2016', x=income['Race'], y=year[year['Year']==2016]['Household Income by Race']),\n",
    "    go.Bar(name='2017', x=income['Race'], y=year[year['Year']==2017]['Household Income by Race']),\n",
    "    go.Bar(name='2018', x=income['Race'], y=year[year['Year']==2018]['Household Income by Race']),\n",
    "])\n",
    "\n",
    "fig.update_layout(\n",
    "    title=\"Annual Household Income Mean By Races from 2013-2018 in California\",\n",
    "    font_family=\"Courier New\",\n",
    "    font_color=\"gray\",\n",
    "    title_font_family=\"Times New Roman\",\n",
    "    title_font_color=\"Purple\",\n",
    "   legend_title_font_color=\"green\",\n",
    "    yaxis_title='Annual Household Income',\n",
    "    xaxis_title='Race(s)',\n",
    "    \n",
    ")\n",
    "# Change the bar mode\n",
    "fig.update_layout(barmode='group')\n",
    "fig.show()\n",
    "from plotly.io import write_html\n",
    "write_html(fig, \"IncomeRacesMean.html\")"
   ]
  },
  {
   "cell_type": "code",
   "execution_count": null,
   "metadata": {},
   "outputs": [],
   "source": [
    "cityrace=pd.read_csv('race_by_places.csv')\n",
    "cityrace.head()"
   ]
  },
  {
   "cell_type": "code",
   "execution_count": null,
   "metadata": {},
   "outputs": [],
   "source": [
    "housing = pd.read_csv(\"city_housing.csv\")\n",
    "housing = housing[housing['State']==\"CA\"]\n",
    "housing.head()\n",
    "#rh = pd.merge(eth,housing,on=[''])"
   ]
  },
  {
   "cell_type": "code",
   "execution_count": null,
   "metadata": {},
   "outputs": [],
   "source": [
    "joint= pd.merge(cityrace,housing,how = \"inner\",left_on=[\"Place\"],right_on=[\"RegionName\"])\n",
    "joint.groupby(['Place']).head()\n",
    "joint = joint.rename(columns = {'White[1]':'White','Other[1][note 1]':'other',\n",
    "                                'Asian[1]':'Asian',\n",
    "                                'Black or AfricanAmerican[1]':'Black or AfricanAmerican',\n",
    "                                'Native American[1][note 2]':'Native American',\n",
    "                                'Hispanic or Latino(of any race)[2]':'Hispanic or Latino',\n",
    "                               'Population[1]':'Population'})\n",
    "joint.head()"
   ]
  },
  {
   "cell_type": "code",
   "execution_count": null,
   "metadata": {},
   "outputs": [],
   "source": [
    "joint[\"White\"]=joint[\"White\"].str.replace('[^\\d\\.]', '').astype(float)\n",
    "joint[\"other\"]=joint[\"other\"].str.replace('[^\\d\\.]', '').astype(float)\n",
    "joint[\"Asian\"]=joint[\"Asian\"].str.replace('[^\\d\\.]', '').astype(float)\n",
    "joint[\"Black or AfricanAmerican\"]=joint[\"Black or AfricanAmerican\"].str.replace('[^\\d\\.]', '').astype(float)\n",
    "joint[\"Native American\"]=joint[\"Native American\"].str.replace('[^\\d\\.]', '').astype(float)\n",
    "joint[\"Hispanic or Latino\"]=joint[\"Hispanic or Latino\"].str.replace('[^\\d\\.]', '').astype(float)\n",
    "joint[\"Population\"]=joint[\"Population\"].str.replace('[^\\d\\.]', '').astype(float)\n",
    "#joint[\"Population\"] = joint[\"Population\"].astype(float)\n",
    "\n",
    "joint\n",
    "\n"
   ]
  },
  {
   "cell_type": "code",
   "execution_count": null,
   "metadata": {},
   "outputs": [],
   "source": [
    "# Whitetop = joint.sort_values(by = 'White',ascending = False).head()\n",
    "# Whitetop\n",
    "blacktop = joint.sort_values(by = 'Black or AfricanAmerican',ascending = False).head()\n",
    "blacklow = joint.sort_values(by = 'Black or AfricanAmerican',ascending = True).head()\n",
    "\n",
    "blacktop.drop(blacktop.iloc[:, 0:17], inplace = True, axis = 1)\n",
    "blacktop.head()\n",
    "#asiantop.set_index('Place')\n",
    "blacktop= blacktop.stack().to_frame().reset_index()\n",
    "blacktop = blacktop.rename(columns = {'level_1':'date',0:'value','level_0':'City'})\n",
    "blacktop[\"City\"].replace({894: \"View Park-Windsor Hills\",431:\"Ladera Heights\",919:\"Westmont\",912:\"West Athens\",395:\"Inglewood\"}, inplace=True)\n",
    "blacktop\n",
    "#asiantop\n",
    "import plotly.express as px\n",
    "import plotly.graph_objects as go\n",
    "fig = px.line(blacktop, x=\"date\", y=\"value\",color = \"City\")\n",
    "fig.update_layout(title='Housing Prices Change for Top 5 Black or African American popular areas',\n",
    "                   xaxis_title='Date',\n",
    "                   yaxis_title='Housing Prices',\n",
    "                 font_family=\"Courier New\",\n",
    "    font_color=\"gray\",\n",
    "    title_font_family=\"Times New Roman\",\n",
    "    title_font_color=\"Purple\")\n",
    "fig.show()\n",
    "from plotly.io import write_html\n",
    "write_html(fig, \"HouseBlack.html\")"
   ]
  },
  {
   "cell_type": "code",
   "execution_count": null,
   "metadata": {},
   "outputs": [],
   "source": [
    "# Whitetop = joint.sort_values(by = 'White',ascending = False).head()\n",
    "# Whitetop\n",
    "asiantop = joint.sort_values(by = 'White',ascending = False).head()\n",
    "asianlow = joint.sort_values(by = 'White',ascending = True).head()\n",
    "\n",
    "asiantop.drop(asiantop.iloc[:, 0:17], inplace = True, axis = 1)\n",
    "asiantop.head()\n",
    "#asiantop.set_index('Place')\n",
    "asiantop= asiantop.stack().to_frame().reset_index()\n",
    "asiantop = asiantop.rename(columns = {'level_1':'date',0:'value','level_0':'City'})\n",
    "asiantop[\"City\"].replace({0: \"Acampo\",701:\"Randsburg\",623:\"Old Station\",905:\"Washington\",900:\"Wallace\"}, inplace=True)\n",
    "\n",
    "asiantop\n",
    "#asiantop\n",
    "import plotly.express as px\n",
    "import plotly.graph_objects as go\n",
    "fig = px.line(asiantop, x=\"date\", y=\"value\",color = \"City\")\n",
    "fig.update_layout(title='Housing Prices Change for Top 5 White popular areas',\n",
    "                   xaxis_title='Date',\n",
    "                   yaxis_title='Housing Prices',\n",
    "                 font_family=\"Courier New\",\n",
    "    font_color=\"gray\",\n",
    "    title_font_family=\"Times New Roman\",\n",
    "    title_font_color=\"Purple\")\n",
    "fig.show()\n",
    "from plotly.io import write_html\n",
    "write_html(fig, \"HouseWhite.html\")"
   ]
  },
  {
   "cell_type": "code",
   "execution_count": null,
   "metadata": {},
   "outputs": [],
   "source": [
    "\n",
    "asiantop = joint.sort_values(by = 'Asian',ascending = False).head()\n",
    "asianlow = joint.sort_values(by = 'Asian',ascending = True).head()\n",
    "\n",
    "asiantop.drop(asiantop.iloc[:, 0:17], inplace = True, axis = 1)\n",
    "asiantop.head()\n",
    "#asiantop.set_index('Place')\n",
    "asiantop= asiantop.stack().to_frame().reset_index()\n",
    "asiantop = asiantop.rename(columns = {'level_1':'date',0:'value','level_0':'City'})\n",
    "asiantop[\"City\"].replace({568: \"Monterey Park\",901:\"Walnut\",152:\"Cerritos\",732:\"Rosemea\",207:\"Cupertino\"}, inplace=True)\n",
    "\n",
    "asiantop\n",
    "#asiantop"
   ]
  },
  {
   "cell_type": "code",
   "execution_count": null,
   "metadata": {},
   "outputs": [],
   "source": [
    "import plotly.express as px\n",
    "import plotly.graph_objects as go\n",
    "fig = px.line(asiantop, x=\"date\", y=\"value\",color = \"City\")\n",
    "fig.update_layout(title='Housing Prices Change for Top 5 Asian popular areas',\n",
    "                   xaxis_title='Date',\n",
    "                   yaxis_title='Housing Prices',\n",
    "                 font_family=\"Courier New\",\n",
    "    font_color=\"gray\",\n",
    "    title_font_family=\"Times New Roman\",\n",
    "    title_font_color=\"Purple\")\n",
    "fig.show()\n",
    "from plotly.io import write_html\n",
    "write_html(fig, \"HouseAsian.html\")"
   ]
  },
  {
   "cell_type": "code",
   "execution_count": null,
   "metadata": {},
   "outputs": [],
   "source": [
    "blacktop = joint.sort_values(by = 'Native American',ascending = False).head()\n",
    "blacklow = joint.sort_values(by = 'Native American',ascending = True).head()\n",
    "blacktop.head()"
   ]
  },
  {
   "cell_type": "code",
   "execution_count": null,
   "metadata": {},
   "outputs": [],
   "source": [
    "# Whitetop = joint.sort_values(by = 'White',ascending = False).head()\n",
    "# Whitetop\n",
    "blacktop = joint.sort_values(by = 'Native American',ascending = False).head()\n",
    "blacklow = joint.sort_values(by = 'Native American',ascending = True).head()\n",
    "\n",
    "blacktop.drop(blacktop.iloc[:, 0:17], inplace = True, axis = 1)\n",
    "blacktop.head()\n",
    "#asiantop.set_index('Place')\n",
    "blacktop= blacktop.stack().to_frame().reset_index()\n",
    "blacktop = blacktop.rename(columns = {'level_1':'date',0:'value','level_0':'City'})\n",
    "blacktop[\"City\"].replace({204: \"Crows Landing\",292:\"Fish Camp\",302:\"Fort Bidwell\",466:\"Lee Vining\",196:\"Covelo\"}, inplace=True)\n",
    "blacktop\n",
    "fig = px.line(blacktop, x=\"date\", y=\"value\",color = \"City\")\n",
    "fig.update_layout(title='Housing Prices Change for Top 5 Native American popular areas',\n",
    "                   xaxis_title='Date',\n",
    "                   yaxis_title='Housing Prices',\n",
    "                 font_family=\"Courier New\",\n",
    "    font_color=\"gray\",\n",
    "    title_font_family=\"Times New Roman\",\n",
    "    title_font_color=\"Purple\")\n",
    "fig.show()\n",
    "from plotly.io import write_html\n",
    "write_html(fig, \"HouseNative.html\")"
   ]
  },
  {
   "cell_type": "code",
   "execution_count": null,
   "metadata": {},
   "outputs": [],
   "source": [
    "blacktop = joint.sort_values(by = 'Hispanic or Latino',ascending = False).head()\n",
    "blacklow = joint.sort_values(by = 'Hispanic or Latino',ascending = True).head()\n",
    "blacktop.head()"
   ]
  },
  {
   "cell_type": "code",
   "execution_count": null,
   "metadata": {},
   "outputs": [],
   "source": [
    "# Whitetop = joint.sort_values(by = 'White',ascending = False).head()\n",
    "# Whitetop\n",
    "blacktop = joint.sort_values(by = 'Hispanic or Latino',ascending = False).head()\n",
    "blacklow = joint.sort_values(by = 'Hispanic or Latino',ascending = True).head()\n",
    "\n",
    "blacktop.drop(blacktop.iloc[:, 0:17], inplace = True, axis = 1)\n",
    "blacktop.head()\n",
    "#asiantop.set_index('Place')\n",
    "blacktop= blacktop.stack().to_frame().reset_index()\n",
    "blacktop = blacktop.rename(columns = {'level_1':'date',0:'value','level_0':'City'})\n",
    "blacktop[\"City\"].replace({130: \"Cantua Creek\",221:\"Del Rey\",422:\"Kettleman City\",387:\"Huron\",364:\"Heber\"}, inplace=True)\n",
    "blacktop\n",
    "fig = px.line(blacktop, x=\"date\", y=\"value\",color = \"City\")\n",
    "fig.update_layout(title='Housing Prices Change for Top 5 Hispanic/Latino popular areas',\n",
    "                   xaxis_title='Date',\n",
    "                   yaxis_title='Housing Prices',\n",
    "                 font_family=\"Courier New\",\n",
    "    font_color=\"gray\",\n",
    "    title_font_family=\"Times New Roman\",\n",
    "    title_font_color=\"Purple\")\n",
    "fig.show()\n",
    "from plotly.io import write_html\n",
    "write_html(fig, \"HouseLatino.html\")"
   ]
  },
  {
   "cell_type": "code",
   "execution_count": null,
   "metadata": {},
   "outputs": [],
   "source": [
    "pt = pd.read_csv('Poverty by Race and Ethnicity.csv')\n",
    "\n",
    "pt.head()"
   ]
  },
  {
   "cell_type": "code",
   "execution_count": null,
   "metadata": {},
   "outputs": [],
   "source": [
    "pt18 = pt[pt[\"Year\"] == 2018]\n",
    "pt18\n"
   ]
  },
  {
   "cell_type": "code",
   "execution_count": null,
   "metadata": {},
   "outputs": [],
   "source": [
    "pt18.share.to_list()"
   ]
  },
  {
   "cell_type": "code",
   "execution_count": null,
   "metadata": {},
   "outputs": [],
   "source": [
    "pt18.Race.to_list()"
   ]
  },
  {
   "cell_type": "code",
   "execution_count": null,
   "metadata": {},
   "outputs": [],
   "source": [
    "pt13= pt[pt[\"Year\"] == 2013]\n",
    "import plotly.graph_objects as go\n",
    "\n",
    "labels = pt13.Race.to_list()\n",
    "values = pt13.share.to_list()\n",
    "\n",
    "# Use `hole` to create a donut-like pie chart\n",
    "fig = go.Figure(data=[go.Pie(labels=labels, values=values, hole=.3)])\n",
    "fig.show()\n",
    "from plotly.io import write_html\n",
    "write_html(fig, \"Poverty2013.html\")"
   ]
  },
  {
   "cell_type": "code",
   "execution_count": null,
   "metadata": {},
   "outputs": [],
   "source": [
    "pt15= pt[pt[\"Year\"] == 2015]\n",
    "import plotly.graph_objects as go\n",
    "\n",
    "labels = pt15.Race.to_list()\n",
    "values = pt15.share.to_list()\n",
    "\n",
    "# Use `hole` to create a donut-like pie chart\n",
    "fig = go.Figure(data=[go.Pie(labels=labels, values=values, hole=.3)])\n",
    "fig.show()\n",
    "from plotly.io import write_html\n",
    "write_html(fig, \"Poverty2015.html\")"
   ]
  },
  {
   "cell_type": "code",
   "execution_count": null,
   "metadata": {},
   "outputs": [],
   "source": [
    "import plotly.graph_objects as go\n",
    "\n",
    "labels = pt18.Race.to_list()\n",
    "values = pt18.share.to_list()\n",
    "\n",
    "# Use `hole` to create a donut-like pie chart\n",
    "fig = go.Figure(data=[go.Pie(labels=labels, values=values, hole=.3)])\n",
    "fig.show()\n",
    "from plotly.io import write_html\n",
    "write_html(fig, \"Poverty2018.html\")"
   ]
  },
  {
   "cell_type": "code",
   "execution_count": null,
   "metadata": {},
   "outputs": [],
   "source": [
    "tp = pd.read_csv('race in cali total population.csv')\n",
    "tp.share  = tp.share * 0.01\n",
    "tp\n",
    "#tp{'36,969,200.1':\"share\"}"
   ]
  },
  {
   "cell_type": "code",
   "execution_count": null,
   "metadata": {},
   "outputs": [],
   "source": [
    "\n",
    "labels = tp[\"Total population\"].to_list()\n",
    "values = tp.share.to_list()\n",
    "# Use `hole` to create a donut-like pie chart\n",
    "fig = go.Figure(data=[go.Pie(labels=labels, values=values, hole=.3)])\n",
    "fig.show()\n",
    "from plotly.io import write_html\n",
    "write_html(fig, \"PopulationRaces.html\")"
   ]
  },
  {
   "cell_type": "code",
   "execution_count": null,
   "metadata": {},
   "outputs": [],
   "source": [
    "how to make use of race_by_places"
   ]
  }
 ],
 "metadata": {
  "kernelspec": {
   "display_name": "Python 3",
   "language": "python",
   "name": "python3"
  },
  "language_info": {
   "codemirror_mode": {
    "name": "ipython",
    "version": 3
   },
   "file_extension": ".py",
   "mimetype": "text/x-python",
   "name": "python",
   "nbconvert_exporter": "python",
   "pygments_lexer": "ipython3",
   "version": "3.8.5"
  }
 },
 "nbformat": 4,
 "nbformat_minor": 4
}
